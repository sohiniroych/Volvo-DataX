{
 "cells": [
  {
   "cell_type": "markdown",
   "metadata": {},
   "source": [
    "**READ ME:**\n",
    "\n",
    "    1. PLEASE READ THE COMMENTS ABOVE EVERY CELL BEFORE EXECUTING/COMPILING THE CODE\n",
    "    \n",
    "    2. THIS NOTEBOOK DOES THE FOLLOWING -\n",
    "    \n",
    "       SECTION 0: SET UP THE NOTEBOOK\n",
    "       SECTION 1: CLEAN AND PROCESS THE DATA\n",
    "       \n",
    "   **SECTION 2: CREATE FEATURES BASED ON USER SESSIONS i.e. A USER'S MULTIPLE INTERACTIONS IN A GIVEN SESSION**\n",
    "      \n",
    "      \n",
    "       SECTION 3: SPLITTING DATA INTO TRAIN AND TEST\n",
    "       SECTION 4: FEATURE RANKING\n",
    "       SECTION 5: DATA TRANSFORMATION\n",
    "       SECTION 6: BASELINING\n",
    "       SECTION 7: CREATING SAMPLES - NON STRATIFIED\n",
    "       SECTION 8: CREATING SAMPLES - STRATIFIED\n",
    "       SECTION 9: T-SNE\n",
    "       SECTION 10: CLUSTERING"
   ]
  },
  {
   "cell_type": "markdown",
   "metadata": {
    "colab_type": "text",
    "id": "bT8i5xunlOfP"
   },
   "source": [
    "# 0. ***`SETUP`***"
   ]
  },
  {
   "cell_type": "markdown",
   "metadata": {
    "colab_type": "text",
    "id": "ECsPJGRZnQA0"
   },
   "source": [
    "## i. SETTING UP NOTEBOOK"
   ]
  },
  {
   "cell_type": "code",
   "execution_count": null,
   "metadata": {
    "colab": {},
    "colab_type": "code",
    "id": "W68czuoNmeJV"
   },
   "outputs": [],
   "source": [
    "## This Cell is Only for Usage in a Google CoLab Environment\n",
    "from google.colab import drive"
   ]
  },
  {
   "cell_type": "code",
   "execution_count": null,
   "metadata": {
    "colab": {
     "base_uri": "https://localhost:8080/",
     "height": 145
    },
    "colab_type": "code",
    "id": "JAUf_gk7mje-",
    "outputId": "9a44df68-c727-45d6-af1e-f455dcc488ae"
   },
   "outputs": [],
   "source": [
    "## This Cell is Only for Usage in a Google CoLab Environment\n",
    "ROOT = \"/content/drive\"\n",
    "print(ROOT)\n",
    "drive.mount(ROOT)"
   ]
  },
  {
   "cell_type": "code",
   "execution_count": null,
   "metadata": {
    "colab": {
     "base_uri": "https://localhost:8080/",
     "height": 35
    },
    "colab_type": "code",
    "id": "DNFKjkKLmtkI",
    "outputId": "e32feef5-00e4-4f87-8a2b-3511da579dc4"
   },
   "outputs": [],
   "source": [
    "## This Cell is Only for Usage in a Google CoLab Environment\n",
    "%pwd\n",
    "%cd drive/My Drive/Colab Notebooks/Feature Engineering"
   ]
  },
  {
   "cell_type": "markdown",
   "metadata": {
    "colab_type": "text",
    "id": "6biIT_-vmIJ1"
   },
   "source": [
    "## ii. Pre-Processing : Library and Data file import"
   ]
  },
  {
   "cell_type": "markdown",
   "metadata": {},
   "source": [
    "### Libray Imports"
   ]
  },
  {
   "cell_type": "code",
   "execution_count": 1,
   "metadata": {
    "colab": {},
    "colab_type": "code",
    "id": "Dtw5MpD3mIJ7"
   },
   "outputs": [],
   "source": [
    "import warnings\n",
    "warnings.filterwarnings(\"ignore\")"
   ]
  },
  {
   "cell_type": "code",
   "execution_count": 2,
   "metadata": {
    "colab": {},
    "colab_type": "code",
    "id": "PHcwVvyZmIJ2"
   },
   "outputs": [],
   "source": [
    "import pandas as pd\n",
    "import numpy as np\n",
    "import seaborn as sns #visualisation\n",
    "import matplotlib.pyplot as plt #visualisation\n",
    "%matplotlib inline \n",
    "sns.set(color_codes=True)\n",
    "pd.set_option('display.max_columns', 999)"
   ]
  },
  {
   "cell_type": "code",
   "execution_count": 3,
   "metadata": {
    "colab": {},
    "colab_type": "code",
    "id": "yE6GQoTRmIJ5"
   },
   "outputs": [],
   "source": [
    "from sklearn.ensemble.forest import RandomForestClassifier\n",
    "from sklearn.feature_selection import SelectFromModel\n",
    "from sklearn.model_selection import train_test_split\n",
    "from sklearn.linear_model import Lasso, LogisticRegression\n",
    "from sklearn.preprocessing import StandardScaler\n",
    "from sklearn.preprocessing import MinMaxScaler\n",
    "from sklearn import metrics\n",
    "from sklearn.model_selection import cross_validate\n",
    "from sklearn.model_selection import cross_val_score\n",
    "from sklearn.model_selection import cross_val_predict\n",
    "from sklearn.decomposition import PCA\n",
    "from sklearn.neighbors import KNeighborsClassifier\n",
    "from sklearn.metrics import confusion_matrix\n",
    "from sklearn.neighbors import NearestNeighbors\n",
    "from sklearn.cluster import DBSCAN\n",
    "import gc\n",
    "import time"
   ]
  },
  {
   "cell_type": "code",
   "execution_count": 4,
   "metadata": {},
   "outputs": [],
   "source": [
    "plt.rcParams[\"figure.figsize\"] = (8,5)"
   ]
  },
  {
   "cell_type": "code",
   "execution_count": 5,
   "metadata": {
    "colab": {
     "base_uri": "https://localhost:8080/",
     "height": 35
    },
    "colab_type": "code",
    "id": "_eEF1ooX4DSf",
    "outputId": "d0798c2a-efac-44f9-ea7d-cc532dfcc1c9"
   },
   "outputs": [
    {
     "name": "stdout",
     "output_type": "stream",
     "text": [
      "0.7.0\n"
     ]
    }
   ],
   "source": [
    "import imblearn\n",
    "from imblearn.over_sampling import SMOTE\n",
    "print(imblearn.__version__)"
   ]
  },
  {
   "cell_type": "code",
   "execution_count": 6,
   "metadata": {
    "colab": {
     "base_uri": "https://localhost:8080/",
     "height": 35
    },
    "colab_type": "code",
    "id": "_eEF1ooX4DSf",
    "outputId": "d0798c2a-efac-44f9-ea7d-cc532dfcc1c9"
   },
   "outputs": [],
   "source": [
    "import collections\n",
    "from collections import Counter\n",
    "from sklearn.datasets import make_classification\n",
    "from matplotlib import pyplot\n",
    "from numpy import where"
   ]
  },
  {
   "cell_type": "code",
   "execution_count": 7,
   "metadata": {
    "colab": {},
    "colab_type": "code",
    "id": "2yFRtzhmrTpb"
   },
   "outputs": [],
   "source": [
    "from sklearn.utils import shuffle\n",
    "from sklearn.manifold import TSNE"
   ]
  },
  {
   "cell_type": "markdown",
   "metadata": {},
   "source": [
    "### Data Imports"
   ]
  },
  {
   "cell_type": "markdown",
   "metadata": {},
   "source": [
    "Original CSV download"
   ]
  },
  {
   "cell_type": "markdown",
   "metadata": {},
   "source": [
    "TO DOWNLOAD THE **electronics.csv** FILE PLEASE GO TO :\n",
    "\n",
    "1. https://www.kaggle.com/mkechinov/ecommerce-behavior-data-from-multi-category-store\n",
    "2. Download both the \"2019-Nov.csv\" and the \"2019-Oct.csv\" File\n",
    "3. Combine the csv files. Combined File size should be 13.67 GB\n",
    "4. For a quick tutorial on how to combine csv files on MAC please refer: https://serp.co/blog/combine-merge-csv-files-mac/"
   ]
  },
  {
   "cell_type": "code",
   "execution_count": 8,
   "metadata": {},
   "outputs": [],
   "source": [
    "## Run this cell for ELECTRONICS data\n",
    "electronics = pd.read_csv(\"electronics.csv\")"
   ]
  },
  {
   "cell_type": "markdown",
   "metadata": {},
   "source": [
    "### Quick File Imports Below \n",
    "\n",
    "**Run the cells below if you want to download already processed/compiled data files and skip Sections 1 and 2**"
   ]
  },
  {
   "cell_type": "markdown",
   "metadata": {},
   "source": [
    "Processed dataframe download"
   ]
  },
  {
   "cell_type": "code",
   "execution_count": 10,
   "metadata": {},
   "outputs": [],
   "source": [
    "#Run this cell for Electronics Data ONLY\n",
    "df = pd.read_pickle(\"dfElectronics.pkl\")"
   ]
  },
  {
   "cell_type": "markdown",
   "metadata": {
    "colab_type": "text",
    "id": "MtC2opcbzd-l"
   },
   "source": [
    "Feature Dataset Quick Import"
   ]
  },
  {
   "cell_type": "code",
   "execution_count": null,
   "metadata": {},
   "outputs": [],
   "source": [
    "#Run this cell for ELECTRONICS Data ONLY\n",
    "FeaturesDF = pd.read_pickle(\"Electronics_Session_Features.pkl\")"
   ]
  },
  {
   "cell_type": "markdown",
   "metadata": {
    "colab_type": "text",
    "id": "gRuRzNY7uyzq"
   },
   "source": [
    "## iii. CHECK RAM"
   ]
  },
  {
   "cell_type": "code",
   "execution_count": null,
   "metadata": {
    "colab": {
     "base_uri": "https://localhost:8080/",
     "height": 53
    },
    "colab_type": "code",
    "id": "RbXisP5dpZ5C",
    "outputId": "6026fc2d-6204-4088-d3d0-b0472daff7eb"
   },
   "outputs": [],
   "source": [
    "#AVAILABLE SYSTEM RAM\n",
    "from psutil import virtual_memory\n",
    "ram_gb = virtual_memory().total / 1e9\n",
    "print('Your runtime has {:.1f} gigabytes of available RAM\\n'.format(ram_gb))"
   ]
  },
  {
   "cell_type": "code",
   "execution_count": 10,
   "metadata": {
    "colab": {
     "base_uri": "https://localhost:8080/",
     "height": 35
    },
    "colab_type": "code",
    "id": "pT4rAW_s4KHB",
    "outputId": "eb735836-8bf0-4406-fb86-07c662f8e373"
   },
   "outputs": [
    {
     "data": {
      "text/plain": [
       "40"
      ]
     },
     "execution_count": 10,
     "metadata": {},
     "output_type": "execute_result"
    }
   ],
   "source": [
    "gc.collect()"
   ]
  },
  {
   "cell_type": "markdown",
   "metadata": {
    "colab_type": "text",
    "id": "CoXcbqFvXG85"
   },
   "source": [
    "#    \n",
    "************************************************\n",
    "************************************************"
   ]
  },
  {
   "cell_type": "markdown",
   "metadata": {
    "colab_type": "text",
    "id": "p5QCUXDPmIKE"
   },
   "source": [
    "# 1. ***`PROCESSING DATA`***\n",
    "Jump to Section 3 if you have imported FeaturesDF files"
   ]
  },
  {
   "cell_type": "code",
   "execution_count": 49,
   "metadata": {},
   "outputs": [],
   "source": [
    "#Run this cell for ELECTRONICS Data ONLY\n",
    "df = electronics.copy()"
   ]
  },
  {
   "cell_type": "code",
   "execution_count": 53,
   "metadata": {},
   "outputs": [],
   "source": [
    "# Run this cell for ELECTRONICS data ONLY\n",
    "\n",
    "df.drop('category_id',axis=1,inplace=True)"
   ]
  },
  {
   "cell_type": "code",
   "execution_count": 54,
   "metadata": {},
   "outputs": [],
   "source": [
    "#Dropping rows which have headers in them\n",
    "headerIndices = df[df['event_time']=='event_time'].index\n",
    "df.drop(headerIndices,inplace=True)"
   ]
  },
  {
   "cell_type": "markdown",
   "metadata": {},
   "source": [
    "**IMPORTANT**\n",
    "\n",
    "**Dropping Categories which are not related to electronics**\n",
    "\n",
    "**IMPORTANT**"
   ]
  },
  {
   "cell_type": "code",
   "execution_count": 55,
   "metadata": {},
   "outputs": [],
   "source": [
    "#RUN FOR ELECTRONICS DATA ONLY\n",
    "df['category_code'] = df['category_code'].astype(str)"
   ]
  },
  {
   "cell_type": "code",
   "execution_count": 30,
   "metadata": {},
   "outputs": [],
   "source": [
    "#RUN FOR ELECTRONICS DATA ONLY\n",
    "df['category_code'].unique()"
   ]
  },
  {
   "cell_type": "code",
   "execution_count": 56,
   "metadata": {},
   "outputs": [],
   "source": [
    "#RUN FOR ELECTRONICS DATA ONLY\n",
    "nonElectronicCategoriesIndex = df[~(\n",
    "    df[\"category_code\"].str.contains('appliances') |\n",
    "    df[\"category_code\"].str.contains('computers') |\n",
    "    df[\"category_code\"].str.contains('electronics') |\n",
    "    df[\"category_code\"].str.contains('auto') \n",
    ")].index"
   ]
  },
  {
   "cell_type": "code",
   "execution_count": 57,
   "metadata": {},
   "outputs": [],
   "source": [
    "#RUN FOR ELECTRONICS DATA ONLY\n",
    "df = df.drop(nonElectronicCategoriesIndex)"
   ]
  },
  {
   "cell_type": "markdown",
   "metadata": {},
   "source": [
    "**Formatting Date Time Column**"
   ]
  },
  {
   "cell_type": "code",
   "execution_count": 60,
   "metadata": {},
   "outputs": [],
   "source": [
    "df['event_time'] = pd.to_datetime(df['event_time'],format = '%Y-%m-%d %H:%M:%S %Z')"
   ]
  },
  {
   "cell_type": "code",
   "execution_count": 61,
   "metadata": {
    "colab": {},
    "colab_type": "code",
    "id": "df8YiQSgmIKJ"
   },
   "outputs": [],
   "source": [
    "#Year\n",
    "df['year'] = (df['event_time']).dt.year"
   ]
  },
  {
   "cell_type": "code",
   "execution_count": 62,
   "metadata": {
    "colab": {},
    "colab_type": "code",
    "id": "df8YiQSgmIKJ"
   },
   "outputs": [],
   "source": [
    "#Month\n",
    "df['month'] = (df['event_time']).dt.month\n",
    "MM = {1:'Jan', 2:'Feb', 3:'Mar', 4:'Apr', 5:'May', 6:'Jun', 7:'Jul', 8:'Aug', 9:'Sep', 10:'Oct', 11:'Nov', 12:'Dec'}\n",
    "df['month'] = df['month'].map(MM)"
   ]
  },
  {
   "cell_type": "code",
   "execution_count": 63,
   "metadata": {
    "colab": {},
    "colab_type": "code",
    "id": "df8YiQSgmIKJ"
   },
   "outputs": [],
   "source": [
    "# Phase of day\n",
    "df['hour'] = (df['event_time']).dt.hour\n",
    "timeOfDay={0:'Dawn',1:'Dawn',2:'Dawn',3:'Dawn',4:'Dawn',5:'EarlyMorning',6:'EarlyMorning',7:'EarlyMorning',8:'EarlyMorning', 9:'Morning',10:'Morning',11:'Morning', 12:'Noon', 13:'Afternoon',14:'Afternoon',15:'Afternoon',16:'Afternoon', 17:'Evening',18:'Evening',19:'Evening',20:'Evening', 21:'Night',22:'Night',23:'Night', 24:'Midnight'}\n",
    "df['timeOfDay'] = df['hour'].map(timeOfDay)"
   ]
  },
  {
   "cell_type": "code",
   "execution_count": 64,
   "metadata": {
    "colab": {},
    "colab_type": "code",
    "id": "jPlqUhM8mIKL"
   },
   "outputs": [],
   "source": [
    "# Weekday\n",
    "dayOfWeek={0:'Mon', 1:'Tue', 2:'Wed', 3:'Thu', 4:'Fr', 5:'Sat', 6:'Sun'}\n",
    "df['weekday'] = (df['event_time']).dt.weekday.map(dayOfWeek)"
   ]
  },
  {
   "cell_type": "code",
   "execution_count": 65,
   "metadata": {
    "colab": {},
    "colab_type": "code",
    "id": "58RtRAExmIKR"
   },
   "outputs": [],
   "source": [
    "# Is Weekend?\n",
    "df['Weekend']= df.weekday.apply(lambda x : 1 if x in ['Sunday','Saturday'] else 0)"
   ]
  },
  {
   "cell_type": "markdown",
   "metadata": {},
   "source": [
    "**Formatting Other Column Types**"
   ]
  },
  {
   "cell_type": "code",
   "execution_count": 66,
   "metadata": {},
   "outputs": [],
   "source": [
    "df['price']= pd.to_numeric(df['price'])"
   ]
  },
  {
   "cell_type": "code",
   "execution_count": 67,
   "metadata": {},
   "outputs": [],
   "source": [
    "#DROPPING ROWS WHICH HAVE NEGATIVE VALUE OF PRICE\n",
    "negative_price = df[df['price']<0]\n",
    "negative_price = negative_price.index\n",
    "df = df.drop(negative_price)"
   ]
  },
  {
   "cell_type": "code",
   "execution_count": 68,
   "metadata": {},
   "outputs": [],
   "source": [
    "df['year']= pd.to_numeric(df['year'])\n",
    "df['hour']= pd.to_numeric(df['hour'])\n",
    "df['Weekend']= pd.to_numeric(df['Weekend'])"
   ]
  },
  {
   "cell_type": "code",
   "execution_count": 69,
   "metadata": {},
   "outputs": [],
   "source": [
    "df['event_type'] = df['event_type'].astype(str)\n",
    "df['product_id'] = df['product_id'].astype(str)\n",
    "df['user_id'] = df['user_id'].astype(str)\n",
    "df['user_session'] = df['user_session'].astype(str)\n",
    "df['month'] = df['month'].astype(str)\n",
    "df['weekday'] = df['weekday'].astype(str)\n",
    "df['timeOfDay'] = df['timeOfDay'].astype(str)"
   ]
  },
  {
   "cell_type": "code",
   "execution_count": 12,
   "metadata": {
    "colab": {},
    "colab_type": "code",
    "id": "k7kar7gsmIKP"
   },
   "outputs": [
    {
     "data": {
      "text/plain": [
       "(41521726, 14)"
      ]
     },
     "execution_count": 12,
     "metadata": {},
     "output_type": "execute_result"
    }
   ],
   "source": [
    "#Dropping Rows where the user_session is NAN\n",
    "\n",
    "Null_Sessions = df[df['user_session']=='nan'].index\n",
    "Null_Sessions\n",
    "df = df.drop(Null_Sessions)"
   ]
  },
  {
   "cell_type": "markdown",
   "metadata": {
    "colab": {},
    "colab_type": "code",
    "id": "n49USLWlmIKZ"
   },
   "source": [
    "**SAVE TO PICKLE**"
   ]
  },
  {
   "cell_type": "code",
   "execution_count": 71,
   "metadata": {},
   "outputs": [],
   "source": [
    "## Run this cell only for ELECTRONICS Data ONLY to Save and Load Pickle Files\n",
    "\n",
    "#df.to_pickle(\"dfElectronics.pkl\")\n",
    "#df = pd.read_pickle(\"dfElectronics.pkl\")"
   ]
  },
  {
   "cell_type": "markdown",
   "metadata": {
    "colab_type": "text",
    "id": "PgdwarIvXXIj"
   },
   "source": [
    "#    \n",
    "************************************************\n",
    "************************************************"
   ]
  },
  {
   "cell_type": "markdown",
   "metadata": {
    "colab_type": "text",
    "id": "OBf57YhOmIKb"
   },
   "source": [
    "# 2. **`CREATING SESSION BASED FEATURES`**"
   ]
  },
  {
   "cell_type": "markdown",
   "metadata": {
    "colab_type": "text",
    "id": "1bLGe9EhosTZ"
   },
   "source": [
    "## Features to build:"
   ]
  },
  {
   "cell_type": "markdown",
   "metadata": {
    "colab_type": "text",
    "id": "T_PCzGr0mIKb"
   },
   "source": [
    "    Weekday(Sun/Mon/...) [One hot encoded]\n",
    "    Month [One hot encoded]\n",
    "    TimeOfDay(Morning/Evening/....) [One hot encoded]\n",
    "    Weekend\n",
    "    InteractionTime(Duration of Session in seconds)\n",
    "    \n",
    "    NumTotalEventsInSession()\n",
    "    NumViewEventsInSession\n",
    "    NumCartEventsInSession\n",
    "    NumRemoveEventsInSession --- Only for Cosmetics Data\n",
    "    \n",
    "    NumCategoriesViewedInSession\n",
    "    NumCategoriesCartedInSession\n",
    "    NumCategoriesRemovedInSession --- Only for Cosmetics Data\n",
    "    \n",
    "    NumBrandsViewedInSession --- Only for Electronics Data\n",
    "    NumBrandsCartedInSession --- Only for Electronics Data\n",
    "    \n",
    "    NumProductsViewedInSession\n",
    "    NumProductsCartedInSession\n",
    "    NumProductsRemovedInSession --- Only for Cosmetics Data\n",
    "    \n",
    "    AverageAmountViewedInSession\n",
    "    AverageAmountCartedInSession\n",
    "    AverageAmountRemovedInSession --- Only for Cosmetics Data\n",
    "    \n",
    "    OverallAmtUserCarted  (The max amount removed by user throughout)\n",
    "    OverallAmtUserViewed  (The max amount removed by user throughout)\n",
    "    OverallAmtUserRemoved (The max amount removed by user throughout) --- Only for Cosmetics Data"
   ]
  },
  {
   "cell_type": "markdown",
   "metadata": {},
   "source": [
    "**NOTE : THE ELECTRONICS DATASET HAS NO REMOVE FEATURE, SO USE BELOW SECTIONS ACCORDINGLY**\n",
    "\n",
    "1. **MODIFY COMMANDS TO NOT INCLUDE THE 'remove_from_cart' FEATURE when dealing with Electronics Data**"
   ]
  },
  {
   "cell_type": "markdown",
   "metadata": {
    "colab_type": "text",
    "id": "CrK1G_NrmIKb"
   },
   "source": [
    "## ADDING COLUMNS TO DF -  AMOUNT BY USER FOR DIFFERENT EVENTS"
   ]
  },
  {
   "cell_type": "code",
   "execution_count": 13,
   "metadata": {
    "colab": {},
    "colab_type": "code",
    "id": "UheP--OmmIKc"
   },
   "outputs": [],
   "source": [
    "AmountbyUser = pd.pivot_table(df, index='user_id',columns='event_type',values='price',fill_value=0)"
   ]
  },
  {
   "cell_type": "code",
   "execution_count": 14,
   "metadata": {},
   "outputs": [],
   "source": [
    "#FOR ELECTRONICS DATA ONLY\n",
    "\n",
    "AmountbyUser = AmountbyUser.rename(columns={'cart':'OverallAmtUserCarted','purchase':'OverallAmtUserPurchased',\n",
    "                                            'view':'OverallAmtUserViewed'})"
   ]
  },
  {
   "cell_type": "code",
   "execution_count": 15,
   "metadata": {
    "colab": {},
    "colab_type": "code",
    "id": "UheP--OmmIKc",
    "scrolled": true
   },
   "outputs": [],
   "source": [
    "df = pd.merge(df,AmountbyUser,on='user_id',how='left')"
   ]
  },
  {
   "cell_type": "markdown",
   "metadata": {
    "colab_type": "text",
    "id": "j0O195PMmIKe"
   },
   "source": [
    "## GROUPING THE DATA\n",
    "\n",
    "by: 'user_session'\n"
   ]
  },
  {
   "cell_type": "code",
   "execution_count": 17,
   "metadata": {
    "colab": {},
    "colab_type": "code",
    "id": "xuZmzgIymIKe"
   },
   "outputs": [],
   "source": [
    "GroupUS = df.sort_values('event_time').groupby(['user_session'])"
   ]
  },
  {
   "cell_type": "markdown",
   "metadata": {
    "colab_type": "text",
    "id": "pXWshG_GmIKg"
   },
   "source": [
    "## Total Number of Events/Interactions in Session"
   ]
  },
  {
   "cell_type": "code",
   "execution_count": 18,
   "metadata": {
    "colab": {},
    "colab_type": "code",
    "id": "bAWH274KmIKg"
   },
   "outputs": [],
   "source": [
    "Features= GroupUS['event_type'].count().reset_index().rename(columns={'event_type':'TotalEventsInSession'})"
   ]
  },
  {
   "cell_type": "code",
   "execution_count": 19,
   "metadata": {},
   "outputs": [
    {
     "data": {
      "text/html": [
       "<div>\n",
       "<style scoped>\n",
       "    .dataframe tbody tr th:only-of-type {\n",
       "        vertical-align: middle;\n",
       "    }\n",
       "\n",
       "    .dataframe tbody tr th {\n",
       "        vertical-align: top;\n",
       "    }\n",
       "\n",
       "    .dataframe thead th {\n",
       "        text-align: right;\n",
       "    }\n",
       "</style>\n",
       "<table border=\"1\" class=\"dataframe\">\n",
       "  <thead>\n",
       "    <tr style=\"text-align: right;\">\n",
       "      <th></th>\n",
       "      <th>TotalEventsInSession</th>\n",
       "    </tr>\n",
       "    <tr>\n",
       "      <th>user_session</th>\n",
       "      <th></th>\n",
       "    </tr>\n",
       "  </thead>\n",
       "  <tbody>\n",
       "    <tr>\n",
       "      <th>00000056-a206-40dd-b174-a072550fa38c</th>\n",
       "      <td>2</td>\n",
       "    </tr>\n",
       "    <tr>\n",
       "      <th>00000083-8816-4d58-a9b8-f52f54186edc</th>\n",
       "      <td>6</td>\n",
       "    </tr>\n",
       "    <tr>\n",
       "      <th>000001fd-1f89-45e8-a3ce-fe3218cabfad</th>\n",
       "      <td>7</td>\n",
       "    </tr>\n",
       "  </tbody>\n",
       "</table>\n",
       "</div>"
      ],
      "text/plain": [
       "                                      TotalEventsInSession\n",
       "user_session                                              \n",
       "00000056-a206-40dd-b174-a072550fa38c                     2\n",
       "00000083-8816-4d58-a9b8-f52f54186edc                     6\n",
       "000001fd-1f89-45e8-a3ce-fe3218cabfad                     7"
      ]
     },
     "execution_count": 19,
     "metadata": {},
     "output_type": "execute_result"
    }
   ],
   "source": [
    "Features = Features.set_index('user_session')\n",
    "Features.head(3)"
   ]
  },
  {
   "cell_type": "markdown",
   "metadata": {
    "colab_type": "text",
    "id": "xqni0t8qmIKi"
   },
   "source": [
    "## Duration"
   ]
  },
  {
   "cell_type": "code",
   "execution_count": 20,
   "metadata": {
    "colab": {},
    "colab_type": "code",
    "id": "NJdQRY84mIKi"
   },
   "outputs": [],
   "source": [
    "# Defining function to return range of any given series\n",
    "def ammd(series):\n",
    "    return (max(series)-min(series))"
   ]
  },
  {
   "cell_type": "code",
   "execution_count": 21,
   "metadata": {
    "colab": {},
    "colab_type": "code",
    "id": "4G8JQRrbmIKk"
   },
   "outputs": [],
   "source": [
    "interactionTime = GroupUS['event_time'].agg(ammd)"
   ]
  },
  {
   "cell_type": "code",
   "execution_count": 22,
   "metadata": {
    "colab": {},
    "colab_type": "code",
    "id": "4G8JQRrbmIKk"
   },
   "outputs": [],
   "source": [
    "interactionTime = interactionTime.dt.total_seconds()"
   ]
  },
  {
   "cell_type": "code",
   "execution_count": 23,
   "metadata": {
    "colab": {},
    "colab_type": "code",
    "id": "4G8JQRrbmIKk"
   },
   "outputs": [],
   "source": [
    "Features = Features.join(interactionTime, how='left')\n",
    "Features = Features.rename(columns={'event_time':'interactionTime'})"
   ]
  },
  {
   "cell_type": "code",
   "execution_count": 24,
   "metadata": {},
   "outputs": [
    {
     "data": {
      "text/html": [
       "<div>\n",
       "<style scoped>\n",
       "    .dataframe tbody tr th:only-of-type {\n",
       "        vertical-align: middle;\n",
       "    }\n",
       "\n",
       "    .dataframe tbody tr th {\n",
       "        vertical-align: top;\n",
       "    }\n",
       "\n",
       "    .dataframe thead th {\n",
       "        text-align: right;\n",
       "    }\n",
       "</style>\n",
       "<table border=\"1\" class=\"dataframe\">\n",
       "  <thead>\n",
       "    <tr style=\"text-align: right;\">\n",
       "      <th></th>\n",
       "      <th>TotalEventsInSession</th>\n",
       "      <th>interactionTime</th>\n",
       "    </tr>\n",
       "    <tr>\n",
       "      <th>user_session</th>\n",
       "      <th></th>\n",
       "      <th></th>\n",
       "    </tr>\n",
       "  </thead>\n",
       "  <tbody>\n",
       "    <tr>\n",
       "      <th>00000056-a206-40dd-b174-a072550fa38c</th>\n",
       "      <td>2</td>\n",
       "      <td>138.0</td>\n",
       "    </tr>\n",
       "    <tr>\n",
       "      <th>00000083-8816-4d58-a9b8-f52f54186edc</th>\n",
       "      <td>6</td>\n",
       "      <td>480.0</td>\n",
       "    </tr>\n",
       "  </tbody>\n",
       "</table>\n",
       "</div>"
      ],
      "text/plain": [
       "                                      TotalEventsInSession  interactionTime\n",
       "user_session                                                               \n",
       "00000056-a206-40dd-b174-a072550fa38c                     2            138.0\n",
       "00000083-8816-4d58-a9b8-f52f54186edc                     6            480.0"
      ]
     },
     "execution_count": 24,
     "metadata": {},
     "output_type": "execute_result"
    }
   ],
   "source": [
    "Features.head(2)"
   ]
  },
  {
   "cell_type": "markdown",
   "metadata": {
    "colab_type": "text",
    "id": "zfoHTadLmIKm"
   },
   "source": [
    "##  Number of Interactions by Event Type in Session"
   ]
  },
  {
   "cell_type": "code",
   "execution_count": null,
   "metadata": {},
   "outputs": [],
   "source": [
    "#RUN THIS CELL FOR COSMETICS DATA ONLY\n",
    "\n",
    "NumEventTime = GroupUS['event_type'].value_counts().unstack(fill_value = 0).rename(columns={'view':'NumTimesViewedInSession','cart':'NumTimesCartedInSession',\n",
    "                                                                                        'purchase':'NumTimesPurchasedInSession','remove_from_cart' : 'NumTimesRemovedInSession'})"
   ]
  },
  {
   "cell_type": "code",
   "execution_count": 25,
   "metadata": {},
   "outputs": [],
   "source": [
    "#RUN THIS CELL FOR ELECTRONICS DATA ONLY\n",
    "NumEventTime = GroupUS['event_type'].value_counts().unstack(fill_value = 0).rename(columns={'view':'NumTimesViewedInSession','cart':'NumTimesCartedInSession',\n",
    "                                                                                            'purchase':'NumTimesPurchasedInSession'})"
   ]
  },
  {
   "cell_type": "code",
   "execution_count": 26,
   "metadata": {
    "colab": {},
    "colab_type": "code",
    "id": "s6Rq1rzAmIKm"
   },
   "outputs": [],
   "source": [
    "Features = Features.join(NumEventTime, how ='left')"
   ]
  },
  {
   "cell_type": "code",
   "execution_count": 27,
   "metadata": {},
   "outputs": [
    {
     "data": {
      "text/html": [
       "<div>\n",
       "<style scoped>\n",
       "    .dataframe tbody tr th:only-of-type {\n",
       "        vertical-align: middle;\n",
       "    }\n",
       "\n",
       "    .dataframe tbody tr th {\n",
       "        vertical-align: top;\n",
       "    }\n",
       "\n",
       "    .dataframe thead th {\n",
       "        text-align: right;\n",
       "    }\n",
       "</style>\n",
       "<table border=\"1\" class=\"dataframe\">\n",
       "  <thead>\n",
       "    <tr style=\"text-align: right;\">\n",
       "      <th></th>\n",
       "      <th>TotalEventsInSession</th>\n",
       "      <th>interactionTime</th>\n",
       "      <th>NumTimesCartedInSession</th>\n",
       "      <th>NumTimesPurchasedInSession</th>\n",
       "      <th>NumTimesViewedInSession</th>\n",
       "    </tr>\n",
       "    <tr>\n",
       "      <th>user_session</th>\n",
       "      <th></th>\n",
       "      <th></th>\n",
       "      <th></th>\n",
       "      <th></th>\n",
       "      <th></th>\n",
       "    </tr>\n",
       "  </thead>\n",
       "  <tbody>\n",
       "    <tr>\n",
       "      <th>00000056-a206-40dd-b174-a072550fa38c</th>\n",
       "      <td>2</td>\n",
       "      <td>138.0</td>\n",
       "      <td>0</td>\n",
       "      <td>0</td>\n",
       "      <td>2</td>\n",
       "    </tr>\n",
       "    <tr>\n",
       "      <th>00000083-8816-4d58-a9b8-f52f54186edc</th>\n",
       "      <td>6</td>\n",
       "      <td>480.0</td>\n",
       "      <td>1</td>\n",
       "      <td>0</td>\n",
       "      <td>5</td>\n",
       "    </tr>\n",
       "  </tbody>\n",
       "</table>\n",
       "</div>"
      ],
      "text/plain": [
       "                                      TotalEventsInSession  interactionTime  \\\n",
       "user_session                                                                  \n",
       "00000056-a206-40dd-b174-a072550fa38c                     2            138.0   \n",
       "00000083-8816-4d58-a9b8-f52f54186edc                     6            480.0   \n",
       "\n",
       "                                      NumTimesCartedInSession  \\\n",
       "user_session                                                    \n",
       "00000056-a206-40dd-b174-a072550fa38c                        0   \n",
       "00000083-8816-4d58-a9b8-f52f54186edc                        1   \n",
       "\n",
       "                                      NumTimesPurchasedInSession  \\\n",
       "user_session                                                       \n",
       "00000056-a206-40dd-b174-a072550fa38c                           0   \n",
       "00000083-8816-4d58-a9b8-f52f54186edc                           0   \n",
       "\n",
       "                                      NumTimesViewedInSession  \n",
       "user_session                                                   \n",
       "00000056-a206-40dd-b174-a072550fa38c                        2  \n",
       "00000083-8816-4d58-a9b8-f52f54186edc                        5  "
      ]
     },
     "execution_count": 27,
     "metadata": {},
     "output_type": "execute_result"
    }
   ],
   "source": [
    "Features.head(2)"
   ]
  },
  {
   "cell_type": "markdown",
   "metadata": {
    "colab_type": "text",
    "id": "9xj6g7WYmIKp"
   },
   "source": [
    "## Max and Min Price"
   ]
  },
  {
   "cell_type": "code",
   "execution_count": 28,
   "metadata": {
    "colab": {},
    "colab_type": "code",
    "id": "Sr1d8TzbmIKp"
   },
   "outputs": [],
   "source": [
    "Features['maxPrice'] = GroupUS['price'].max().values\n",
    "Features['minPrice'] = GroupUS['price'].min().values"
   ]
  },
  {
   "cell_type": "markdown",
   "metadata": {
    "colab_type": "text",
    "id": "WOa46DPOmIKr"
   },
   "source": [
    "## AVERAGE AMOUNT BY EVENT IN SESSION"
   ]
  },
  {
   "cell_type": "code",
   "execution_count": 29,
   "metadata": {},
   "outputs": [],
   "source": [
    "#RUN THIS CELL FOR ELECTRONICS DATA ONLY\n",
    "\n",
    "AmountbyEvent = pd.pivot_table(df, index='user_session',columns='event_type',values='price',fill_value=0)\n",
    "AmountbyEvent = AmountbyEvent.rename(columns={'cart':'AvgAmtCartedInSession','purchase':'AvgAmtPurchasedInSession',\n",
    "                                              'view':'AvgAmtViewedInSession'})"
   ]
  },
  {
   "cell_type": "code",
   "execution_count": 30,
   "metadata": {
    "colab": {},
    "colab_type": "code",
    "id": "kbI-4KcVmIKs"
   },
   "outputs": [],
   "source": [
    "Features = Features.join(AmountbyEvent,how='left')"
   ]
  },
  {
   "cell_type": "code",
   "execution_count": 31,
   "metadata": {},
   "outputs": [
    {
     "data": {
      "text/html": [
       "<div>\n",
       "<style scoped>\n",
       "    .dataframe tbody tr th:only-of-type {\n",
       "        vertical-align: middle;\n",
       "    }\n",
       "\n",
       "    .dataframe tbody tr th {\n",
       "        vertical-align: top;\n",
       "    }\n",
       "\n",
       "    .dataframe thead th {\n",
       "        text-align: right;\n",
       "    }\n",
       "</style>\n",
       "<table border=\"1\" class=\"dataframe\">\n",
       "  <thead>\n",
       "    <tr style=\"text-align: right;\">\n",
       "      <th></th>\n",
       "      <th>TotalEventsInSession</th>\n",
       "      <th>interactionTime</th>\n",
       "      <th>NumTimesCartedInSession</th>\n",
       "      <th>NumTimesPurchasedInSession</th>\n",
       "      <th>NumTimesViewedInSession</th>\n",
       "      <th>maxPrice</th>\n",
       "      <th>minPrice</th>\n",
       "      <th>AvgAmtCartedInSession</th>\n",
       "      <th>AvgAmtPurchasedInSession</th>\n",
       "      <th>AvgAmtViewedInSession</th>\n",
       "    </tr>\n",
       "    <tr>\n",
       "      <th>user_session</th>\n",
       "      <th></th>\n",
       "      <th></th>\n",
       "      <th></th>\n",
       "      <th></th>\n",
       "      <th></th>\n",
       "      <th></th>\n",
       "      <th></th>\n",
       "      <th></th>\n",
       "      <th></th>\n",
       "      <th></th>\n",
       "    </tr>\n",
       "  </thead>\n",
       "  <tbody>\n",
       "    <tr>\n",
       "      <th>00000056-a206-40dd-b174-a072550fa38c</th>\n",
       "      <td>2</td>\n",
       "      <td>138.0</td>\n",
       "      <td>0</td>\n",
       "      <td>0</td>\n",
       "      <td>2</td>\n",
       "      <td>1349.46</td>\n",
       "      <td>955.84</td>\n",
       "      <td>0.00</td>\n",
       "      <td>0.0</td>\n",
       "      <td>1152.650</td>\n",
       "    </tr>\n",
       "    <tr>\n",
       "      <th>00000083-8816-4d58-a9b8-f52f54186edc</th>\n",
       "      <td>6</td>\n",
       "      <td>480.0</td>\n",
       "      <td>1</td>\n",
       "      <td>0</td>\n",
       "      <td>5</td>\n",
       "      <td>1153.03</td>\n",
       "      <td>152.58</td>\n",
       "      <td>289.52</td>\n",
       "      <td>0.0</td>\n",
       "      <td>554.408</td>\n",
       "    </tr>\n",
       "  </tbody>\n",
       "</table>\n",
       "</div>"
      ],
      "text/plain": [
       "                                      TotalEventsInSession  interactionTime  \\\n",
       "user_session                                                                  \n",
       "00000056-a206-40dd-b174-a072550fa38c                     2            138.0   \n",
       "00000083-8816-4d58-a9b8-f52f54186edc                     6            480.0   \n",
       "\n",
       "                                      NumTimesCartedInSession  \\\n",
       "user_session                                                    \n",
       "00000056-a206-40dd-b174-a072550fa38c                        0   \n",
       "00000083-8816-4d58-a9b8-f52f54186edc                        1   \n",
       "\n",
       "                                      NumTimesPurchasedInSession  \\\n",
       "user_session                                                       \n",
       "00000056-a206-40dd-b174-a072550fa38c                           0   \n",
       "00000083-8816-4d58-a9b8-f52f54186edc                           0   \n",
       "\n",
       "                                      NumTimesViewedInSession  maxPrice  \\\n",
       "user_session                                                              \n",
       "00000056-a206-40dd-b174-a072550fa38c                        2   1349.46   \n",
       "00000083-8816-4d58-a9b8-f52f54186edc                        5   1153.03   \n",
       "\n",
       "                                      minPrice  AvgAmtCartedInSession  \\\n",
       "user_session                                                            \n",
       "00000056-a206-40dd-b174-a072550fa38c    955.84                   0.00   \n",
       "00000083-8816-4d58-a9b8-f52f54186edc    152.58                 289.52   \n",
       "\n",
       "                                      AvgAmtPurchasedInSession  \\\n",
       "user_session                                                     \n",
       "00000056-a206-40dd-b174-a072550fa38c                       0.0   \n",
       "00000083-8816-4d58-a9b8-f52f54186edc                       0.0   \n",
       "\n",
       "                                      AvgAmtViewedInSession  \n",
       "user_session                                                 \n",
       "00000056-a206-40dd-b174-a072550fa38c               1152.650  \n",
       "00000083-8816-4d58-a9b8-f52f54186edc                554.408  "
      ]
     },
     "execution_count": 31,
     "metadata": {},
     "output_type": "execute_result"
    }
   ],
   "source": [
    "Features.head(2)"
   ]
  },
  {
   "cell_type": "markdown",
   "metadata": {
    "colab_type": "text",
    "id": "4zhcAXGFmIKu"
   },
   "source": [
    "## BRAND COUNT BY EVENT IN SESSION\n",
    "\n"
   ]
  },
  {
   "cell_type": "code",
   "execution_count": 32,
   "metadata": {
    "colab": {},
    "colab_type": "code",
    "id": "H-RsF_2FmIKu"
   },
   "outputs": [],
   "source": [
    "##--- RUN THIS CELL FOR THE ELECTRONICS DATA ONLY\n",
    "##--- IN COSMETICS THE BRAND COLUMN HAS BEEN DROPPED DUE TO EXCESSIVE MISSING DATA\n",
    "\n",
    "BrandsBySession= pd.pivot_table(df, index='user_session',columns='event_type',values='brand',aggfunc='count',fill_value=0)\n",
    "BrandsBySession = BrandsBySession.rename(columns={'view':'NumBrandsViewedInSession','cart':'NumBrandsCartedInSession','purchase':'NumBrandsPurchasedInSession'})"
   ]
  },
  {
   "cell_type": "code",
   "execution_count": 33,
   "metadata": {
    "colab": {},
    "colab_type": "code",
    "id": "H-RsF_2FmIKu"
   },
   "outputs": [],
   "source": [
    "##--- RUN THIS CELL FOR THE ELECTRONICS DATA ONLY\n",
    "##--- IN COSMETICS THE BRAND COLUMN HAS BEEN DROPPED DUE TO EXCESSIVE MISSING DATA\n",
    "Features = Features.join(BrandsBySession,how='left')"
   ]
  },
  {
   "cell_type": "markdown",
   "metadata": {
    "colab_type": "text",
    "id": "zENtm4FMmIKw"
   },
   "source": [
    "## CATEGORY COUNT BY EVENT IN SESSION"
   ]
  },
  {
   "cell_type": "code",
   "execution_count": 34,
   "metadata": {},
   "outputs": [],
   "source": [
    "## RUN THIS CELL FOR ELECTRONICS DATA ONLY\n",
    "## -- FOR THE ELECTRONICS DATA USE :values='category_code'\n",
    "        \n",
    "CategoriesBySession= pd.pivot_table(df, index='user_session',columns='event_type',values='category_code',aggfunc='count',fill_value=0)\n",
    "CategoriesBySession = CategoriesBySession.rename(columns={'view':'NumCategoriesViewedInSession','cart':'NumCategoriesCartedInSession',\n",
    "                                                          'purchase':'NumCategoriesPurchasedInSession','remove_from_cart' : 'NumCategoriesRemovedInSession'})"
   ]
  },
  {
   "cell_type": "code",
   "execution_count": 35,
   "metadata": {
    "colab": {},
    "colab_type": "code",
    "id": "azqQ0NY3mIKw"
   },
   "outputs": [],
   "source": [
    "Features = Features.join(CategoriesBySession,how='left')"
   ]
  },
  {
   "cell_type": "code",
   "execution_count": 36,
   "metadata": {
    "colab": {},
    "colab_type": "code",
    "id": "ZsG-TKCVmIKy"
   },
   "outputs": [
    {
     "data": {
      "text/html": [
       "<div>\n",
       "<style scoped>\n",
       "    .dataframe tbody tr th:only-of-type {\n",
       "        vertical-align: middle;\n",
       "    }\n",
       "\n",
       "    .dataframe tbody tr th {\n",
       "        vertical-align: top;\n",
       "    }\n",
       "\n",
       "    .dataframe thead th {\n",
       "        text-align: right;\n",
       "    }\n",
       "</style>\n",
       "<table border=\"1\" class=\"dataframe\">\n",
       "  <thead>\n",
       "    <tr style=\"text-align: right;\">\n",
       "      <th></th>\n",
       "      <th>TotalEventsInSession</th>\n",
       "      <th>interactionTime</th>\n",
       "      <th>NumTimesCartedInSession</th>\n",
       "      <th>NumTimesPurchasedInSession</th>\n",
       "      <th>NumTimesViewedInSession</th>\n",
       "      <th>maxPrice</th>\n",
       "      <th>minPrice</th>\n",
       "      <th>AvgAmtCartedInSession</th>\n",
       "      <th>AvgAmtPurchasedInSession</th>\n",
       "      <th>AvgAmtViewedInSession</th>\n",
       "      <th>NumBrandsCartedInSession</th>\n",
       "      <th>NumBrandsPurchasedInSession</th>\n",
       "      <th>NumBrandsViewedInSession</th>\n",
       "      <th>NumCategoriesCartedInSession</th>\n",
       "      <th>NumCategoriesPurchasedInSession</th>\n",
       "      <th>NumCategoriesViewedInSession</th>\n",
       "    </tr>\n",
       "    <tr>\n",
       "      <th>user_session</th>\n",
       "      <th></th>\n",
       "      <th></th>\n",
       "      <th></th>\n",
       "      <th></th>\n",
       "      <th></th>\n",
       "      <th></th>\n",
       "      <th></th>\n",
       "      <th></th>\n",
       "      <th></th>\n",
       "      <th></th>\n",
       "      <th></th>\n",
       "      <th></th>\n",
       "      <th></th>\n",
       "      <th></th>\n",
       "      <th></th>\n",
       "      <th></th>\n",
       "    </tr>\n",
       "  </thead>\n",
       "  <tbody>\n",
       "    <tr>\n",
       "      <th>00000056-a206-40dd-b174-a072550fa38c</th>\n",
       "      <td>2</td>\n",
       "      <td>138.0</td>\n",
       "      <td>0</td>\n",
       "      <td>0</td>\n",
       "      <td>2</td>\n",
       "      <td>1349.46</td>\n",
       "      <td>955.84</td>\n",
       "      <td>0.00</td>\n",
       "      <td>0.0</td>\n",
       "      <td>1152.650</td>\n",
       "      <td>0</td>\n",
       "      <td>0</td>\n",
       "      <td>2</td>\n",
       "      <td>0</td>\n",
       "      <td>0</td>\n",
       "      <td>2</td>\n",
       "    </tr>\n",
       "    <tr>\n",
       "      <th>00000083-8816-4d58-a9b8-f52f54186edc</th>\n",
       "      <td>6</td>\n",
       "      <td>480.0</td>\n",
       "      <td>1</td>\n",
       "      <td>0</td>\n",
       "      <td>5</td>\n",
       "      <td>1153.03</td>\n",
       "      <td>152.58</td>\n",
       "      <td>289.52</td>\n",
       "      <td>0.0</td>\n",
       "      <td>554.408</td>\n",
       "      <td>1</td>\n",
       "      <td>0</td>\n",
       "      <td>5</td>\n",
       "      <td>1</td>\n",
       "      <td>0</td>\n",
       "      <td>5</td>\n",
       "    </tr>\n",
       "  </tbody>\n",
       "</table>\n",
       "</div>"
      ],
      "text/plain": [
       "                                      TotalEventsInSession  interactionTime  \\\n",
       "user_session                                                                  \n",
       "00000056-a206-40dd-b174-a072550fa38c                     2            138.0   \n",
       "00000083-8816-4d58-a9b8-f52f54186edc                     6            480.0   \n",
       "\n",
       "                                      NumTimesCartedInSession  \\\n",
       "user_session                                                    \n",
       "00000056-a206-40dd-b174-a072550fa38c                        0   \n",
       "00000083-8816-4d58-a9b8-f52f54186edc                        1   \n",
       "\n",
       "                                      NumTimesPurchasedInSession  \\\n",
       "user_session                                                       \n",
       "00000056-a206-40dd-b174-a072550fa38c                           0   \n",
       "00000083-8816-4d58-a9b8-f52f54186edc                           0   \n",
       "\n",
       "                                      NumTimesViewedInSession  maxPrice  \\\n",
       "user_session                                                              \n",
       "00000056-a206-40dd-b174-a072550fa38c                        2   1349.46   \n",
       "00000083-8816-4d58-a9b8-f52f54186edc                        5   1153.03   \n",
       "\n",
       "                                      minPrice  AvgAmtCartedInSession  \\\n",
       "user_session                                                            \n",
       "00000056-a206-40dd-b174-a072550fa38c    955.84                   0.00   \n",
       "00000083-8816-4d58-a9b8-f52f54186edc    152.58                 289.52   \n",
       "\n",
       "                                      AvgAmtPurchasedInSession  \\\n",
       "user_session                                                     \n",
       "00000056-a206-40dd-b174-a072550fa38c                       0.0   \n",
       "00000083-8816-4d58-a9b8-f52f54186edc                       0.0   \n",
       "\n",
       "                                      AvgAmtViewedInSession  \\\n",
       "user_session                                                  \n",
       "00000056-a206-40dd-b174-a072550fa38c               1152.650   \n",
       "00000083-8816-4d58-a9b8-f52f54186edc                554.408   \n",
       "\n",
       "                                      NumBrandsCartedInSession  \\\n",
       "user_session                                                     \n",
       "00000056-a206-40dd-b174-a072550fa38c                         0   \n",
       "00000083-8816-4d58-a9b8-f52f54186edc                         1   \n",
       "\n",
       "                                      NumBrandsPurchasedInSession  \\\n",
       "user_session                                                        \n",
       "00000056-a206-40dd-b174-a072550fa38c                            0   \n",
       "00000083-8816-4d58-a9b8-f52f54186edc                            0   \n",
       "\n",
       "                                      NumBrandsViewedInSession  \\\n",
       "user_session                                                     \n",
       "00000056-a206-40dd-b174-a072550fa38c                         2   \n",
       "00000083-8816-4d58-a9b8-f52f54186edc                         5   \n",
       "\n",
       "                                      NumCategoriesCartedInSession  \\\n",
       "user_session                                                         \n",
       "00000056-a206-40dd-b174-a072550fa38c                             0   \n",
       "00000083-8816-4d58-a9b8-f52f54186edc                             1   \n",
       "\n",
       "                                      NumCategoriesPurchasedInSession  \\\n",
       "user_session                                                            \n",
       "00000056-a206-40dd-b174-a072550fa38c                                0   \n",
       "00000083-8816-4d58-a9b8-f52f54186edc                                0   \n",
       "\n",
       "                                      NumCategoriesViewedInSession  \n",
       "user_session                                                        \n",
       "00000056-a206-40dd-b174-a072550fa38c                             2  \n",
       "00000083-8816-4d58-a9b8-f52f54186edc                             5  "
      ]
     },
     "execution_count": 36,
     "metadata": {},
     "output_type": "execute_result"
    }
   ],
   "source": [
    "Features.head(2)"
   ]
  },
  {
   "cell_type": "markdown",
   "metadata": {
    "colab_type": "text",
    "id": "fr5VhJALmIK0"
   },
   "source": [
    "## ADDING FEATURES FOR AVERAGE OVERALL AMOUNT BY USER FOR DIFFERENT EVENTS"
   ]
  },
  {
   "cell_type": "markdown",
   "metadata": {},
   "source": [
    "NOTE THAT WE ARE CALCULATING THE MAX AMOUNT OUT OF ALL THE TRANSACTIONS TO DIFFERENTIATE BETWEEN USERS"
   ]
  },
  {
   "cell_type": "code",
   "execution_count": 37,
   "metadata": {},
   "outputs": [],
   "source": [
    "OverallAmtUserCarted = GroupUS['OverallAmtUserCarted'].max()"
   ]
  },
  {
   "cell_type": "code",
   "execution_count": 38,
   "metadata": {
    "colab": {},
    "colab_type": "code",
    "id": "z2M135a4mIK0"
   },
   "outputs": [],
   "source": [
    "OverallAmtUserViewed = GroupUS['OverallAmtUserViewed'].max()"
   ]
  },
  {
   "cell_type": "code",
   "execution_count": 39,
   "metadata": {
    "colab": {},
    "colab_type": "code",
    "id": "z2M135a4mIK0"
   },
   "outputs": [],
   "source": [
    "OverallAmtUserPurchased = GroupUS['OverallAmtUserPurchased'].max()"
   ]
  },
  {
   "cell_type": "code",
   "execution_count": 40,
   "metadata": {
    "colab": {},
    "colab_type": "code",
    "id": "bUVbHeH7pZer"
   },
   "outputs": [],
   "source": [
    "#Merging these individual dataframes\n",
    "\n",
    "Features = Features.join(OverallAmtUserCarted, how='left')\n",
    "Features = Features.join(OverallAmtUserViewed, how='left')\n",
    "Features = Features.join(OverallAmtUserPurchased, how='left')"
   ]
  },
  {
   "cell_type": "code",
   "execution_count": 41,
   "metadata": {
    "colab": {
     "base_uri": "https://localhost:8080/",
     "height": 337
    },
    "colab_type": "code",
    "id": "Z3duvZ4wmIK3",
    "outputId": "b611de32-7aa9-4f4a-b9d0-d7484e265c54"
   },
   "outputs": [
    {
     "data": {
      "text/html": [
       "<div>\n",
       "<style scoped>\n",
       "    .dataframe tbody tr th:only-of-type {\n",
       "        vertical-align: middle;\n",
       "    }\n",
       "\n",
       "    .dataframe tbody tr th {\n",
       "        vertical-align: top;\n",
       "    }\n",
       "\n",
       "    .dataframe thead th {\n",
       "        text-align: right;\n",
       "    }\n",
       "</style>\n",
       "<table border=\"1\" class=\"dataframe\">\n",
       "  <thead>\n",
       "    <tr style=\"text-align: right;\">\n",
       "      <th></th>\n",
       "      <th>TotalEventsInSession</th>\n",
       "      <th>interactionTime</th>\n",
       "      <th>NumTimesCartedInSession</th>\n",
       "      <th>NumTimesPurchasedInSession</th>\n",
       "      <th>NumTimesViewedInSession</th>\n",
       "      <th>maxPrice</th>\n",
       "      <th>minPrice</th>\n",
       "      <th>AvgAmtCartedInSession</th>\n",
       "      <th>AvgAmtPurchasedInSession</th>\n",
       "      <th>AvgAmtViewedInSession</th>\n",
       "      <th>NumBrandsCartedInSession</th>\n",
       "      <th>NumBrandsPurchasedInSession</th>\n",
       "      <th>NumBrandsViewedInSession</th>\n",
       "      <th>NumCategoriesCartedInSession</th>\n",
       "      <th>NumCategoriesPurchasedInSession</th>\n",
       "      <th>NumCategoriesViewedInSession</th>\n",
       "      <th>OverallAmtUserCarted</th>\n",
       "      <th>OverallAmtUserViewed</th>\n",
       "      <th>OverallAmtUserPurchased</th>\n",
       "    </tr>\n",
       "    <tr>\n",
       "      <th>user_session</th>\n",
       "      <th></th>\n",
       "      <th></th>\n",
       "      <th></th>\n",
       "      <th></th>\n",
       "      <th></th>\n",
       "      <th></th>\n",
       "      <th></th>\n",
       "      <th></th>\n",
       "      <th></th>\n",
       "      <th></th>\n",
       "      <th></th>\n",
       "      <th></th>\n",
       "      <th></th>\n",
       "      <th></th>\n",
       "      <th></th>\n",
       "      <th></th>\n",
       "      <th></th>\n",
       "      <th></th>\n",
       "      <th></th>\n",
       "    </tr>\n",
       "  </thead>\n",
       "  <tbody>\n",
       "    <tr>\n",
       "      <th>00000056-a206-40dd-b174-a072550fa38c</th>\n",
       "      <td>2</td>\n",
       "      <td>138.0</td>\n",
       "      <td>0</td>\n",
       "      <td>0</td>\n",
       "      <td>2</td>\n",
       "      <td>1349.46</td>\n",
       "      <td>955.84</td>\n",
       "      <td>0.00</td>\n",
       "      <td>0.0</td>\n",
       "      <td>1152.650</td>\n",
       "      <td>0</td>\n",
       "      <td>0</td>\n",
       "      <td>2</td>\n",
       "      <td>0</td>\n",
       "      <td>0</td>\n",
       "      <td>2</td>\n",
       "      <td>130.44500</td>\n",
       "      <td>156.047397</td>\n",
       "      <td>98.97000</td>\n",
       "    </tr>\n",
       "    <tr>\n",
       "      <th>00000083-8816-4d58-a9b8-f52f54186edc</th>\n",
       "      <td>6</td>\n",
       "      <td>480.0</td>\n",
       "      <td>1</td>\n",
       "      <td>0</td>\n",
       "      <td>5</td>\n",
       "      <td>1153.03</td>\n",
       "      <td>152.58</td>\n",
       "      <td>289.52</td>\n",
       "      <td>0.0</td>\n",
       "      <td>554.408</td>\n",
       "      <td>1</td>\n",
       "      <td>0</td>\n",
       "      <td>5</td>\n",
       "      <td>1</td>\n",
       "      <td>0</td>\n",
       "      <td>5</td>\n",
       "      <td>541.42625</td>\n",
       "      <td>637.564889</td>\n",
       "      <td>530.49625</td>\n",
       "    </tr>\n",
       "  </tbody>\n",
       "</table>\n",
       "</div>"
      ],
      "text/plain": [
       "                                      TotalEventsInSession  interactionTime  \\\n",
       "user_session                                                                  \n",
       "00000056-a206-40dd-b174-a072550fa38c                     2            138.0   \n",
       "00000083-8816-4d58-a9b8-f52f54186edc                     6            480.0   \n",
       "\n",
       "                                      NumTimesCartedInSession  \\\n",
       "user_session                                                    \n",
       "00000056-a206-40dd-b174-a072550fa38c                        0   \n",
       "00000083-8816-4d58-a9b8-f52f54186edc                        1   \n",
       "\n",
       "                                      NumTimesPurchasedInSession  \\\n",
       "user_session                                                       \n",
       "00000056-a206-40dd-b174-a072550fa38c                           0   \n",
       "00000083-8816-4d58-a9b8-f52f54186edc                           0   \n",
       "\n",
       "                                      NumTimesViewedInSession  maxPrice  \\\n",
       "user_session                                                              \n",
       "00000056-a206-40dd-b174-a072550fa38c                        2   1349.46   \n",
       "00000083-8816-4d58-a9b8-f52f54186edc                        5   1153.03   \n",
       "\n",
       "                                      minPrice  AvgAmtCartedInSession  \\\n",
       "user_session                                                            \n",
       "00000056-a206-40dd-b174-a072550fa38c    955.84                   0.00   \n",
       "00000083-8816-4d58-a9b8-f52f54186edc    152.58                 289.52   \n",
       "\n",
       "                                      AvgAmtPurchasedInSession  \\\n",
       "user_session                                                     \n",
       "00000056-a206-40dd-b174-a072550fa38c                       0.0   \n",
       "00000083-8816-4d58-a9b8-f52f54186edc                       0.0   \n",
       "\n",
       "                                      AvgAmtViewedInSession  \\\n",
       "user_session                                                  \n",
       "00000056-a206-40dd-b174-a072550fa38c               1152.650   \n",
       "00000083-8816-4d58-a9b8-f52f54186edc                554.408   \n",
       "\n",
       "                                      NumBrandsCartedInSession  \\\n",
       "user_session                                                     \n",
       "00000056-a206-40dd-b174-a072550fa38c                         0   \n",
       "00000083-8816-4d58-a9b8-f52f54186edc                         1   \n",
       "\n",
       "                                      NumBrandsPurchasedInSession  \\\n",
       "user_session                                                        \n",
       "00000056-a206-40dd-b174-a072550fa38c                            0   \n",
       "00000083-8816-4d58-a9b8-f52f54186edc                            0   \n",
       "\n",
       "                                      NumBrandsViewedInSession  \\\n",
       "user_session                                                     \n",
       "00000056-a206-40dd-b174-a072550fa38c                         2   \n",
       "00000083-8816-4d58-a9b8-f52f54186edc                         5   \n",
       "\n",
       "                                      NumCategoriesCartedInSession  \\\n",
       "user_session                                                         \n",
       "00000056-a206-40dd-b174-a072550fa38c                             0   \n",
       "00000083-8816-4d58-a9b8-f52f54186edc                             1   \n",
       "\n",
       "                                      NumCategoriesPurchasedInSession  \\\n",
       "user_session                                                            \n",
       "00000056-a206-40dd-b174-a072550fa38c                                0   \n",
       "00000083-8816-4d58-a9b8-f52f54186edc                                0   \n",
       "\n",
       "                                      NumCategoriesViewedInSession  \\\n",
       "user_session                                                         \n",
       "00000056-a206-40dd-b174-a072550fa38c                             2   \n",
       "00000083-8816-4d58-a9b8-f52f54186edc                             5   \n",
       "\n",
       "                                      OverallAmtUserCarted  \\\n",
       "user_session                                                 \n",
       "00000056-a206-40dd-b174-a072550fa38c             130.44500   \n",
       "00000083-8816-4d58-a9b8-f52f54186edc             541.42625   \n",
       "\n",
       "                                      OverallAmtUserViewed  \\\n",
       "user_session                                                 \n",
       "00000056-a206-40dd-b174-a072550fa38c            156.047397   \n",
       "00000083-8816-4d58-a9b8-f52f54186edc            637.564889   \n",
       "\n",
       "                                      OverallAmtUserPurchased  \n",
       "user_session                                                   \n",
       "00000056-a206-40dd-b174-a072550fa38c                 98.97000  \n",
       "00000083-8816-4d58-a9b8-f52f54186edc                530.49625  "
      ]
     },
     "execution_count": 41,
     "metadata": {},
     "output_type": "execute_result"
    }
   ],
   "source": [
    "Features.head(2)"
   ]
  },
  {
   "cell_type": "markdown",
   "metadata": {
    "colab_type": "text",
    "id": "z3Pj1K77mIK5"
   },
   "source": [
    "## PRODUCT COUNT BY EVENT IN SESSION"
   ]
  },
  {
   "cell_type": "code",
   "execution_count": 42,
   "metadata": {
    "colab": {},
    "colab_type": "code",
    "id": "x-Y0R-iymIK5"
   },
   "outputs": [],
   "source": [
    "#RUN THIS CELL FOR ELECTRONICS DATA ONLY\n",
    "ProductsBySession= pd.pivot_table(df, index='user_session',columns='event_type',values='product_id',aggfunc='count',fill_value=0)\n",
    "ProductsBySession = ProductsBySession.rename(columns={'view':'NumProdsViewedInSession','cart':'NumProdsCartedInSession',\n",
    "                                                      'purchase':'NumProdsPurchasedInSession'})"
   ]
  },
  {
   "cell_type": "code",
   "execution_count": 43,
   "metadata": {
    "colab": {},
    "colab_type": "code",
    "id": "vsiGFVn3xRPw"
   },
   "outputs": [],
   "source": [
    "Features = Features.join(ProductsBySession, how='left')"
   ]
  },
  {
   "cell_type": "code",
   "execution_count": 44,
   "metadata": {
    "colab": {
     "base_uri": "https://localhost:8080/",
     "height": 177
    },
    "colab_type": "code",
    "id": "7Br-s9jnmIK6",
    "outputId": "a527b5e3-4b3c-451c-f0d2-eedb5146131c"
   },
   "outputs": [
    {
     "data": {
      "text/html": [
       "<div>\n",
       "<style scoped>\n",
       "    .dataframe tbody tr th:only-of-type {\n",
       "        vertical-align: middle;\n",
       "    }\n",
       "\n",
       "    .dataframe tbody tr th {\n",
       "        vertical-align: top;\n",
       "    }\n",
       "\n",
       "    .dataframe thead th {\n",
       "        text-align: right;\n",
       "    }\n",
       "</style>\n",
       "<table border=\"1\" class=\"dataframe\">\n",
       "  <thead>\n",
       "    <tr style=\"text-align: right;\">\n",
       "      <th></th>\n",
       "      <th>TotalEventsInSession</th>\n",
       "      <th>interactionTime</th>\n",
       "      <th>NumTimesCartedInSession</th>\n",
       "      <th>NumTimesPurchasedInSession</th>\n",
       "      <th>NumTimesViewedInSession</th>\n",
       "      <th>maxPrice</th>\n",
       "      <th>minPrice</th>\n",
       "      <th>AvgAmtCartedInSession</th>\n",
       "      <th>AvgAmtPurchasedInSession</th>\n",
       "      <th>AvgAmtViewedInSession</th>\n",
       "      <th>NumBrandsCartedInSession</th>\n",
       "      <th>NumBrandsPurchasedInSession</th>\n",
       "      <th>NumBrandsViewedInSession</th>\n",
       "      <th>NumCategoriesCartedInSession</th>\n",
       "      <th>NumCategoriesPurchasedInSession</th>\n",
       "      <th>NumCategoriesViewedInSession</th>\n",
       "      <th>OverallAmtUserCarted</th>\n",
       "      <th>OverallAmtUserViewed</th>\n",
       "      <th>OverallAmtUserPurchased</th>\n",
       "      <th>NumProdsCartedInSession</th>\n",
       "      <th>NumProdsPurchasedInSession</th>\n",
       "      <th>NumProdsViewedInSession</th>\n",
       "    </tr>\n",
       "    <tr>\n",
       "      <th>user_session</th>\n",
       "      <th></th>\n",
       "      <th></th>\n",
       "      <th></th>\n",
       "      <th></th>\n",
       "      <th></th>\n",
       "      <th></th>\n",
       "      <th></th>\n",
       "      <th></th>\n",
       "      <th></th>\n",
       "      <th></th>\n",
       "      <th></th>\n",
       "      <th></th>\n",
       "      <th></th>\n",
       "      <th></th>\n",
       "      <th></th>\n",
       "      <th></th>\n",
       "      <th></th>\n",
       "      <th></th>\n",
       "      <th></th>\n",
       "      <th></th>\n",
       "      <th></th>\n",
       "      <th></th>\n",
       "    </tr>\n",
       "  </thead>\n",
       "  <tbody>\n",
       "    <tr>\n",
       "      <th>00000056-a206-40dd-b174-a072550fa38c</th>\n",
       "      <td>2</td>\n",
       "      <td>138.0</td>\n",
       "      <td>0</td>\n",
       "      <td>0</td>\n",
       "      <td>2</td>\n",
       "      <td>1349.46</td>\n",
       "      <td>955.84</td>\n",
       "      <td>0.0</td>\n",
       "      <td>0.0</td>\n",
       "      <td>1152.65</td>\n",
       "      <td>0</td>\n",
       "      <td>0</td>\n",
       "      <td>2</td>\n",
       "      <td>0</td>\n",
       "      <td>0</td>\n",
       "      <td>2</td>\n",
       "      <td>130.445</td>\n",
       "      <td>156.047397</td>\n",
       "      <td>98.97</td>\n",
       "      <td>0</td>\n",
       "      <td>0</td>\n",
       "      <td>2</td>\n",
       "    </tr>\n",
       "  </tbody>\n",
       "</table>\n",
       "</div>"
      ],
      "text/plain": [
       "                                      TotalEventsInSession  interactionTime  \\\n",
       "user_session                                                                  \n",
       "00000056-a206-40dd-b174-a072550fa38c                     2            138.0   \n",
       "\n",
       "                                      NumTimesCartedInSession  \\\n",
       "user_session                                                    \n",
       "00000056-a206-40dd-b174-a072550fa38c                        0   \n",
       "\n",
       "                                      NumTimesPurchasedInSession  \\\n",
       "user_session                                                       \n",
       "00000056-a206-40dd-b174-a072550fa38c                           0   \n",
       "\n",
       "                                      NumTimesViewedInSession  maxPrice  \\\n",
       "user_session                                                              \n",
       "00000056-a206-40dd-b174-a072550fa38c                        2   1349.46   \n",
       "\n",
       "                                      minPrice  AvgAmtCartedInSession  \\\n",
       "user_session                                                            \n",
       "00000056-a206-40dd-b174-a072550fa38c    955.84                    0.0   \n",
       "\n",
       "                                      AvgAmtPurchasedInSession  \\\n",
       "user_session                                                     \n",
       "00000056-a206-40dd-b174-a072550fa38c                       0.0   \n",
       "\n",
       "                                      AvgAmtViewedInSession  \\\n",
       "user_session                                                  \n",
       "00000056-a206-40dd-b174-a072550fa38c                1152.65   \n",
       "\n",
       "                                      NumBrandsCartedInSession  \\\n",
       "user_session                                                     \n",
       "00000056-a206-40dd-b174-a072550fa38c                         0   \n",
       "\n",
       "                                      NumBrandsPurchasedInSession  \\\n",
       "user_session                                                        \n",
       "00000056-a206-40dd-b174-a072550fa38c                            0   \n",
       "\n",
       "                                      NumBrandsViewedInSession  \\\n",
       "user_session                                                     \n",
       "00000056-a206-40dd-b174-a072550fa38c                         2   \n",
       "\n",
       "                                      NumCategoriesCartedInSession  \\\n",
       "user_session                                                         \n",
       "00000056-a206-40dd-b174-a072550fa38c                             0   \n",
       "\n",
       "                                      NumCategoriesPurchasedInSession  \\\n",
       "user_session                                                            \n",
       "00000056-a206-40dd-b174-a072550fa38c                                0   \n",
       "\n",
       "                                      NumCategoriesViewedInSession  \\\n",
       "user_session                                                         \n",
       "00000056-a206-40dd-b174-a072550fa38c                             2   \n",
       "\n",
       "                                      OverallAmtUserCarted  \\\n",
       "user_session                                                 \n",
       "00000056-a206-40dd-b174-a072550fa38c               130.445   \n",
       "\n",
       "                                      OverallAmtUserViewed  \\\n",
       "user_session                                                 \n",
       "00000056-a206-40dd-b174-a072550fa38c            156.047397   \n",
       "\n",
       "                                      OverallAmtUserPurchased  \\\n",
       "user_session                                                    \n",
       "00000056-a206-40dd-b174-a072550fa38c                    98.97   \n",
       "\n",
       "                                      NumProdsCartedInSession  \\\n",
       "user_session                                                    \n",
       "00000056-a206-40dd-b174-a072550fa38c                        0   \n",
       "\n",
       "                                      NumProdsPurchasedInSession  \\\n",
       "user_session                                                       \n",
       "00000056-a206-40dd-b174-a072550fa38c                           0   \n",
       "\n",
       "                                      NumProdsViewedInSession  \n",
       "user_session                                                   \n",
       "00000056-a206-40dd-b174-a072550fa38c                        2  "
      ]
     },
     "execution_count": 44,
     "metadata": {},
     "output_type": "execute_result"
    }
   ],
   "source": [
    "Features.head(1)"
   ]
  },
  {
   "cell_type": "markdown",
   "metadata": {
    "colab_type": "text",
    "id": "vPldB-YWmIK8"
   },
   "source": [
    "****************************************"
   ]
  },
  {
   "cell_type": "markdown",
   "metadata": {
    "colab_type": "text",
    "id": "_LGQpyYlmIK9"
   },
   "source": [
    "**ONE HOT ENCODED FEATURES START HERE**"
   ]
  },
  {
   "cell_type": "markdown",
   "metadata": {
    "colab_type": "text",
    "id": "vUhhAGmjmIK-"
   },
   "source": [
    "## Adding Date and Time Features "
   ]
  },
  {
   "cell_type": "markdown",
   "metadata": {},
   "source": [
    "By using get_dummies and not pivot_table we went from ~ 365 seconds to ~25 seconds i.e. 14 times faster"
   ]
  },
  {
   "cell_type": "code",
   "execution_count": 45,
   "metadata": {},
   "outputs": [],
   "source": [
    "weekday = pd.get_dummies(df['weekday']).set_index(df['user_session'])\n",
    "weekday = weekday.groupby('user_session').max()"
   ]
  },
  {
   "cell_type": "code",
   "execution_count": 46,
   "metadata": {
    "colab": {},
    "colab_type": "code",
    "id": "Kc-9BTOYmILA"
   },
   "outputs": [],
   "source": [
    "year = pd.get_dummies(df['year']).set_index(df['user_session'])\n",
    "year = year.groupby('user_session').max()"
   ]
  },
  {
   "cell_type": "code",
   "execution_count": 47,
   "metadata": {
    "colab": {},
    "colab_type": "code",
    "id": "5JRq8nf0mILC"
   },
   "outputs": [],
   "source": [
    "month = pd.get_dummies(df['month']).set_index(df['user_session'])\n",
    "month = month.groupby('user_session').max()"
   ]
  },
  {
   "cell_type": "code",
   "execution_count": 48,
   "metadata": {
    "colab": {},
    "colab_type": "code",
    "id": "eL32oJFzmILE"
   },
   "outputs": [],
   "source": [
    "timeOfDay = pd.get_dummies(df['timeOfDay']).set_index(df['user_session'])\n",
    "timeOfDay = timeOfDay.groupby('user_session').max()"
   ]
  },
  {
   "cell_type": "code",
   "execution_count": 49,
   "metadata": {
    "colab": {},
    "colab_type": "code",
    "id": "I3X4cN3WmILF"
   },
   "outputs": [],
   "source": [
    "Features = Features.join(weekday,how='left')\n",
    "Features = Features.join(year,how='left')\n",
    "Features = Features.join(month,how='left')\n",
    "Features = Features.join(timeOfDay,how='left')"
   ]
  },
  {
   "cell_type": "code",
   "execution_count": 50,
   "metadata": {
    "colab": {},
    "colab_type": "code",
    "id": "4qh_nTiDmILK"
   },
   "outputs": [],
   "source": [
    "Weekend = GroupUS['Weekend'].sum()\n",
    "Features = Features.join(Weekend,how='left')"
   ]
  },
  {
   "cell_type": "code",
   "execution_count": 51,
   "metadata": {
    "colab": {},
    "colab_type": "code",
    "id": "OEM6ZrqjmILM"
   },
   "outputs": [
    {
     "data": {
      "text/html": [
       "<div>\n",
       "<style scoped>\n",
       "    .dataframe tbody tr th:only-of-type {\n",
       "        vertical-align: middle;\n",
       "    }\n",
       "\n",
       "    .dataframe tbody tr th {\n",
       "        vertical-align: top;\n",
       "    }\n",
       "\n",
       "    .dataframe thead th {\n",
       "        text-align: right;\n",
       "    }\n",
       "</style>\n",
       "<table border=\"1\" class=\"dataframe\">\n",
       "  <thead>\n",
       "    <tr style=\"text-align: right;\">\n",
       "      <th></th>\n",
       "      <th>TotalEventsInSession</th>\n",
       "      <th>interactionTime</th>\n",
       "      <th>NumTimesCartedInSession</th>\n",
       "      <th>NumTimesPurchasedInSession</th>\n",
       "      <th>NumTimesViewedInSession</th>\n",
       "      <th>maxPrice</th>\n",
       "      <th>minPrice</th>\n",
       "      <th>AvgAmtCartedInSession</th>\n",
       "      <th>AvgAmtPurchasedInSession</th>\n",
       "      <th>AvgAmtViewedInSession</th>\n",
       "      <th>NumBrandsCartedInSession</th>\n",
       "      <th>NumBrandsPurchasedInSession</th>\n",
       "      <th>NumBrandsViewedInSession</th>\n",
       "      <th>NumCategoriesCartedInSession</th>\n",
       "      <th>NumCategoriesPurchasedInSession</th>\n",
       "      <th>NumCategoriesViewedInSession</th>\n",
       "      <th>OverallAmtUserCarted</th>\n",
       "      <th>OverallAmtUserViewed</th>\n",
       "      <th>OverallAmtUserPurchased</th>\n",
       "      <th>NumProdsCartedInSession</th>\n",
       "      <th>NumProdsPurchasedInSession</th>\n",
       "      <th>NumProdsViewedInSession</th>\n",
       "      <th>Fr</th>\n",
       "      <th>Mon</th>\n",
       "      <th>Sat</th>\n",
       "      <th>Sun</th>\n",
       "      <th>Thu</th>\n",
       "      <th>Tue</th>\n",
       "      <th>Wed</th>\n",
       "      <th>2019</th>\n",
       "      <th>Nov</th>\n",
       "      <th>Oct</th>\n",
       "      <th>Afternoon</th>\n",
       "      <th>Dawn</th>\n",
       "      <th>EarlyMorning</th>\n",
       "      <th>Evening</th>\n",
       "      <th>Morning</th>\n",
       "      <th>Night</th>\n",
       "      <th>Noon</th>\n",
       "      <th>Weekend</th>\n",
       "    </tr>\n",
       "    <tr>\n",
       "      <th>user_session</th>\n",
       "      <th></th>\n",
       "      <th></th>\n",
       "      <th></th>\n",
       "      <th></th>\n",
       "      <th></th>\n",
       "      <th></th>\n",
       "      <th></th>\n",
       "      <th></th>\n",
       "      <th></th>\n",
       "      <th></th>\n",
       "      <th></th>\n",
       "      <th></th>\n",
       "      <th></th>\n",
       "      <th></th>\n",
       "      <th></th>\n",
       "      <th></th>\n",
       "      <th></th>\n",
       "      <th></th>\n",
       "      <th></th>\n",
       "      <th></th>\n",
       "      <th></th>\n",
       "      <th></th>\n",
       "      <th></th>\n",
       "      <th></th>\n",
       "      <th></th>\n",
       "      <th></th>\n",
       "      <th></th>\n",
       "      <th></th>\n",
       "      <th></th>\n",
       "      <th></th>\n",
       "      <th></th>\n",
       "      <th></th>\n",
       "      <th></th>\n",
       "      <th></th>\n",
       "      <th></th>\n",
       "      <th></th>\n",
       "      <th></th>\n",
       "      <th></th>\n",
       "      <th></th>\n",
       "      <th></th>\n",
       "    </tr>\n",
       "  </thead>\n",
       "  <tbody>\n",
       "    <tr>\n",
       "      <th>00000056-a206-40dd-b174-a072550fa38c</th>\n",
       "      <td>2</td>\n",
       "      <td>138.0</td>\n",
       "      <td>0</td>\n",
       "      <td>0</td>\n",
       "      <td>2</td>\n",
       "      <td>1349.46</td>\n",
       "      <td>955.84</td>\n",
       "      <td>0.0</td>\n",
       "      <td>0.0</td>\n",
       "      <td>1152.65</td>\n",
       "      <td>0</td>\n",
       "      <td>0</td>\n",
       "      <td>2</td>\n",
       "      <td>0</td>\n",
       "      <td>0</td>\n",
       "      <td>2</td>\n",
       "      <td>130.445</td>\n",
       "      <td>156.047397</td>\n",
       "      <td>98.97</td>\n",
       "      <td>0</td>\n",
       "      <td>0</td>\n",
       "      <td>2</td>\n",
       "      <td>0</td>\n",
       "      <td>0</td>\n",
       "      <td>0</td>\n",
       "      <td>0</td>\n",
       "      <td>1</td>\n",
       "      <td>0</td>\n",
       "      <td>0</td>\n",
       "      <td>1</td>\n",
       "      <td>0</td>\n",
       "      <td>1</td>\n",
       "      <td>0</td>\n",
       "      <td>0</td>\n",
       "      <td>1</td>\n",
       "      <td>0</td>\n",
       "      <td>0</td>\n",
       "      <td>0</td>\n",
       "      <td>0</td>\n",
       "      <td>0</td>\n",
       "    </tr>\n",
       "  </tbody>\n",
       "</table>\n",
       "</div>"
      ],
      "text/plain": [
       "                                      TotalEventsInSession  interactionTime  \\\n",
       "user_session                                                                  \n",
       "00000056-a206-40dd-b174-a072550fa38c                     2            138.0   \n",
       "\n",
       "                                      NumTimesCartedInSession  \\\n",
       "user_session                                                    \n",
       "00000056-a206-40dd-b174-a072550fa38c                        0   \n",
       "\n",
       "                                      NumTimesPurchasedInSession  \\\n",
       "user_session                                                       \n",
       "00000056-a206-40dd-b174-a072550fa38c                           0   \n",
       "\n",
       "                                      NumTimesViewedInSession  maxPrice  \\\n",
       "user_session                                                              \n",
       "00000056-a206-40dd-b174-a072550fa38c                        2   1349.46   \n",
       "\n",
       "                                      minPrice  AvgAmtCartedInSession  \\\n",
       "user_session                                                            \n",
       "00000056-a206-40dd-b174-a072550fa38c    955.84                    0.0   \n",
       "\n",
       "                                      AvgAmtPurchasedInSession  \\\n",
       "user_session                                                     \n",
       "00000056-a206-40dd-b174-a072550fa38c                       0.0   \n",
       "\n",
       "                                      AvgAmtViewedInSession  \\\n",
       "user_session                                                  \n",
       "00000056-a206-40dd-b174-a072550fa38c                1152.65   \n",
       "\n",
       "                                      NumBrandsCartedInSession  \\\n",
       "user_session                                                     \n",
       "00000056-a206-40dd-b174-a072550fa38c                         0   \n",
       "\n",
       "                                      NumBrandsPurchasedInSession  \\\n",
       "user_session                                                        \n",
       "00000056-a206-40dd-b174-a072550fa38c                            0   \n",
       "\n",
       "                                      NumBrandsViewedInSession  \\\n",
       "user_session                                                     \n",
       "00000056-a206-40dd-b174-a072550fa38c                         2   \n",
       "\n",
       "                                      NumCategoriesCartedInSession  \\\n",
       "user_session                                                         \n",
       "00000056-a206-40dd-b174-a072550fa38c                             0   \n",
       "\n",
       "                                      NumCategoriesPurchasedInSession  \\\n",
       "user_session                                                            \n",
       "00000056-a206-40dd-b174-a072550fa38c                                0   \n",
       "\n",
       "                                      NumCategoriesViewedInSession  \\\n",
       "user_session                                                         \n",
       "00000056-a206-40dd-b174-a072550fa38c                             2   \n",
       "\n",
       "                                      OverallAmtUserCarted  \\\n",
       "user_session                                                 \n",
       "00000056-a206-40dd-b174-a072550fa38c               130.445   \n",
       "\n",
       "                                      OverallAmtUserViewed  \\\n",
       "user_session                                                 \n",
       "00000056-a206-40dd-b174-a072550fa38c            156.047397   \n",
       "\n",
       "                                      OverallAmtUserPurchased  \\\n",
       "user_session                                                    \n",
       "00000056-a206-40dd-b174-a072550fa38c                    98.97   \n",
       "\n",
       "                                      NumProdsCartedInSession  \\\n",
       "user_session                                                    \n",
       "00000056-a206-40dd-b174-a072550fa38c                        0   \n",
       "\n",
       "                                      NumProdsPurchasedInSession  \\\n",
       "user_session                                                       \n",
       "00000056-a206-40dd-b174-a072550fa38c                           0   \n",
       "\n",
       "                                      NumProdsViewedInSession  Fr  Mon  Sat  \\\n",
       "user_session                                                                  \n",
       "00000056-a206-40dd-b174-a072550fa38c                        2   0    0    0   \n",
       "\n",
       "                                      Sun  Thu  Tue  Wed  2019  Nov  Oct  \\\n",
       "user_session                                                               \n",
       "00000056-a206-40dd-b174-a072550fa38c    0    1    0    0     1    0    1   \n",
       "\n",
       "                                      Afternoon  Dawn  EarlyMorning  Evening  \\\n",
       "user_session                                                                   \n",
       "00000056-a206-40dd-b174-a072550fa38c          0     0             1        0   \n",
       "\n",
       "                                      Morning  Night  Noon  Weekend  \n",
       "user_session                                                         \n",
       "00000056-a206-40dd-b174-a072550fa38c        0      0     0        0  "
      ]
     },
     "execution_count": 51,
     "metadata": {},
     "output_type": "execute_result"
    }
   ],
   "source": [
    "Features.head(1)"
   ]
  },
  {
   "cell_type": "markdown",
   "metadata": {
    "colab_type": "text",
    "id": "B2ZOAk6EmILP"
   },
   "source": [
    "## Dropping all Purchase related Columns and adding Y label 'Purchase'"
   ]
  },
  {
   "cell_type": "code",
   "execution_count": 52,
   "metadata": {
    "colab": {},
    "colab_type": "code",
    "id": "CVRFBY0xmILP"
   },
   "outputs": [],
   "source": [
    "Features['Purchase'] = Features.NumTimesPurchasedInSession.apply(lambda x : 1 if x!=0 else 0)\n",
    "Features = Features.reset_index()"
   ]
  },
  {
   "cell_type": "code",
   "execution_count": 53,
   "metadata": {
    "colab": {},
    "colab_type": "code",
    "id": "-al3jBIpmILR",
    "outputId": "5b3b84a7-cd8b-4f1c-ad4d-14ba71c1ee2c"
   },
   "outputs": [
    {
     "data": {
      "text/plain": [
       "Index([                   'user_session',            'TotalEventsInSession',\n",
       "                       'interactionTime',         'NumTimesCartedInSession',\n",
       "            'NumTimesPurchasedInSession',         'NumTimesViewedInSession',\n",
       "                              'maxPrice',                        'minPrice',\n",
       "                 'AvgAmtCartedInSession',        'AvgAmtPurchasedInSession',\n",
       "                 'AvgAmtViewedInSession',        'NumBrandsCartedInSession',\n",
       "           'NumBrandsPurchasedInSession',        'NumBrandsViewedInSession',\n",
       "          'NumCategoriesCartedInSession', 'NumCategoriesPurchasedInSession',\n",
       "          'NumCategoriesViewedInSession',            'OverallAmtUserCarted',\n",
       "                  'OverallAmtUserViewed',         'OverallAmtUserPurchased',\n",
       "               'NumProdsCartedInSession',      'NumProdsPurchasedInSession',\n",
       "               'NumProdsViewedInSession',                              'Fr',\n",
       "                                   'Mon',                             'Sat',\n",
       "                                   'Sun',                             'Thu',\n",
       "                                   'Tue',                             'Wed',\n",
       "                                    2019,                             'Nov',\n",
       "                                   'Oct',                       'Afternoon',\n",
       "                                  'Dawn',                    'EarlyMorning',\n",
       "                               'Evening',                         'Morning',\n",
       "                                 'Night',                            'Noon',\n",
       "                               'Weekend',                        'Purchase'],\n",
       "      dtype='object')"
      ]
     },
     "execution_count": 53,
     "metadata": {},
     "output_type": "execute_result"
    }
   ],
   "source": [
    "Features.columns"
   ]
  },
  {
   "cell_type": "markdown",
   "metadata": {},
   "source": [
    "********\n",
    "Adding row for total events SANS purchase\n",
    "Dropping all purchase related columns except for label\n",
    "****"
   ]
  },
  {
   "cell_type": "code",
   "execution_count": null,
   "metadata": {},
   "outputs": [],
   "source": [
    "Features['TotalNonPurchaseEvents'] = Features['TotalEventsInSession']-Features['NumTimesPurchasedInSession']"
   ]
  },
  {
   "cell_type": "markdown",
   "metadata": {},
   "source": [
    "********\n",
    "Adding row for total events SANS purchase\n",
    "Dropping all purchase related columns except for label\n",
    "****"
   ]
  },
  {
   "cell_type": "code",
   "execution_count": 9,
   "metadata": {},
   "outputs": [],
   "source": [
    "Features['TotalNonPurchaseEvents'] = Features['TotalEventsInSession']-Features['NumTimesPurchasedInSession']"
   ]
  },
  {
   "cell_type": "code",
   "execution_count": 10,
   "metadata": {},
   "outputs": [],
   "source": [
    "#RUN THIS CELL FOR ELECTRONICS DATA ONLY\n",
    "\n",
    "FeaturesDF = Features.drop(columns=['user_session',\n",
    "                                    'OverallAmtUserPurchased',\n",
    "                                    'AvgAmtPurchasedInSession',\n",
    "                                    'NumTimesPurchasedInSession',\n",
    "                                    'NumCategoriesPurchasedInSession',\n",
    "                                   'NumProdsPurchasedInSession',\n",
    "                                    'NumBrandsPurchasedInSession']) \n",
    "                           "
   ]
  },
  {
   "cell_type": "code",
   "execution_count": 11,
   "metadata": {},
   "outputs": [
    {
     "data": {
      "text/plain": [
       "Index([        'TotalEventsInSession',              'interactionTime',\n",
       "            'NumTimesCartedInSession',      'NumTimesViewedInSession',\n",
       "                           'maxPrice',                     'minPrice',\n",
       "              'AvgAmtCartedInSession',        'AvgAmtViewedInSession',\n",
       "           'NumBrandsCartedInSession',     'NumBrandsViewedInSession',\n",
       "       'NumCategoriesCartedInSession', 'NumCategoriesViewedInSession',\n",
       "               'OverallAmtUserCarted',         'OverallAmtUserViewed',\n",
       "            'NumProdsCartedInSession',      'NumProdsViewedInSession',\n",
       "                                 'Fr',                          'Mon',\n",
       "                                'Sat',                          'Sun',\n",
       "                                'Thu',                          'Tue',\n",
       "                                'Wed',                           2019,\n",
       "                                'Nov',                          'Oct',\n",
       "                          'Afternoon',                         'Dawn',\n",
       "                       'EarlyMorning',                      'Evening',\n",
       "                            'Morning',                        'Night',\n",
       "                               'Noon',                      'Weekend',\n",
       "                           'Purchase',       'TotalNonPurchaseEvents'],\n",
       "      dtype='object')"
      ]
     },
     "execution_count": 11,
     "metadata": {},
     "output_type": "execute_result"
    }
   ],
   "source": [
    "FeaturesDF.columns"
   ]
  },
  {
   "cell_type": "code",
   "execution_count": 12,
   "metadata": {},
   "outputs": [],
   "source": [
    "#RUN THIS CELL FOR ELECTRONICS DATA ONLY\n",
    "FeaturesDF = FeaturesDF[[\n",
    "    'TotalEventsInSession',              'interactionTime',\n",
    "            'NumTimesCartedInSession',      'NumTimesViewedInSession',\n",
    "                           'maxPrice',                     'minPrice',\n",
    "              'AvgAmtCartedInSession',        'AvgAmtViewedInSession',\n",
    "           'NumBrandsCartedInSession',     'NumBrandsViewedInSession',\n",
    "       'NumCategoriesCartedInSession', 'NumCategoriesViewedInSession',\n",
    "               'OverallAmtUserCarted',         'OverallAmtUserViewed',\n",
    "            'NumProdsCartedInSession',      'NumProdsViewedInSession',\n",
    "                                 'Fr',                          'Mon',\n",
    "                                'Sat',                          'Sun',\n",
    "                                'Thu',                          'Tue',\n",
    "                                'Wed',                           2019,\n",
    "                                'Nov',                          'Oct',\n",
    "                          'Afternoon',                         'Dawn',\n",
    "                       'EarlyMorning',                      'Evening',\n",
    "                            'Morning',                        'Night',\n",
    "                               'Noon',                      'Weekend',      'TotalNonPurchaseEvents',\n",
    "                         'Purchase',]]"
   ]
  },
  {
   "cell_type": "code",
   "execution_count": 13,
   "metadata": {
    "colab": {},
    "colab_type": "code",
    "id": "w7Nt3D6WmILV",
    "outputId": "298e549b-44cf-43b9-fcce-ba1508d1f2c6"
   },
   "outputs": [
    {
     "data": {
      "text/html": [
       "<div>\n",
       "<style scoped>\n",
       "    .dataframe tbody tr th:only-of-type {\n",
       "        vertical-align: middle;\n",
       "    }\n",
       "\n",
       "    .dataframe tbody tr th {\n",
       "        vertical-align: top;\n",
       "    }\n",
       "\n",
       "    .dataframe thead th {\n",
       "        text-align: right;\n",
       "    }\n",
       "</style>\n",
       "<table border=\"1\" class=\"dataframe\">\n",
       "  <thead>\n",
       "    <tr style=\"text-align: right;\">\n",
       "      <th></th>\n",
       "      <th>TotalEventsInSession</th>\n",
       "      <th>interactionTime</th>\n",
       "      <th>NumTimesCartedInSession</th>\n",
       "      <th>NumTimesViewedInSession</th>\n",
       "      <th>maxPrice</th>\n",
       "      <th>minPrice</th>\n",
       "      <th>AvgAmtCartedInSession</th>\n",
       "      <th>AvgAmtViewedInSession</th>\n",
       "      <th>NumBrandsCartedInSession</th>\n",
       "      <th>NumBrandsViewedInSession</th>\n",
       "      <th>NumCategoriesCartedInSession</th>\n",
       "      <th>NumCategoriesViewedInSession</th>\n",
       "      <th>OverallAmtUserCarted</th>\n",
       "      <th>OverallAmtUserViewed</th>\n",
       "      <th>NumProdsCartedInSession</th>\n",
       "      <th>NumProdsViewedInSession</th>\n",
       "      <th>Fr</th>\n",
       "      <th>Mon</th>\n",
       "      <th>Sat</th>\n",
       "      <th>Sun</th>\n",
       "      <th>Thu</th>\n",
       "      <th>Tue</th>\n",
       "      <th>Wed</th>\n",
       "      <th>2019</th>\n",
       "      <th>Nov</th>\n",
       "      <th>Oct</th>\n",
       "      <th>Afternoon</th>\n",
       "      <th>Dawn</th>\n",
       "      <th>EarlyMorning</th>\n",
       "      <th>Evening</th>\n",
       "      <th>Morning</th>\n",
       "      <th>Night</th>\n",
       "      <th>Noon</th>\n",
       "      <th>Weekend</th>\n",
       "      <th>TotalNonPurchaseEvents</th>\n",
       "      <th>Purchase</th>\n",
       "    </tr>\n",
       "  </thead>\n",
       "  <tbody>\n",
       "    <tr>\n",
       "      <th>3319878</th>\n",
       "      <td>6</td>\n",
       "      <td>362.0</td>\n",
       "      <td>2</td>\n",
       "      <td>2</td>\n",
       "      <td>136.12</td>\n",
       "      <td>120.21</td>\n",
       "      <td>128.165000</td>\n",
       "      <td>128.165</td>\n",
       "      <td>2</td>\n",
       "      <td>2</td>\n",
       "      <td>2</td>\n",
       "      <td>2</td>\n",
       "      <td>140.42500</td>\n",
       "      <td>140.845333</td>\n",
       "      <td>2</td>\n",
       "      <td>2</td>\n",
       "      <td>0</td>\n",
       "      <td>0</td>\n",
       "      <td>0</td>\n",
       "      <td>0</td>\n",
       "      <td>0</td>\n",
       "      <td>1</td>\n",
       "      <td>0</td>\n",
       "      <td>1</td>\n",
       "      <td>1</td>\n",
       "      <td>0</td>\n",
       "      <td>0</td>\n",
       "      <td>0</td>\n",
       "      <td>0</td>\n",
       "      <td>0</td>\n",
       "      <td>1</td>\n",
       "      <td>0</td>\n",
       "      <td>0</td>\n",
       "      <td>0</td>\n",
       "      <td>4</td>\n",
       "      <td>1</td>\n",
       "    </tr>\n",
       "    <tr>\n",
       "      <th>9763568</th>\n",
       "      <td>4</td>\n",
       "      <td>371.0</td>\n",
       "      <td>1</td>\n",
       "      <td>2</td>\n",
       "      <td>424.70</td>\n",
       "      <td>424.70</td>\n",
       "      <td>424.700000</td>\n",
       "      <td>424.700</td>\n",
       "      <td>1</td>\n",
       "      <td>2</td>\n",
       "      <td>1</td>\n",
       "      <td>2</td>\n",
       "      <td>399.90125</td>\n",
       "      <td>393.693902</td>\n",
       "      <td>1</td>\n",
       "      <td>2</td>\n",
       "      <td>0</td>\n",
       "      <td>0</td>\n",
       "      <td>1</td>\n",
       "      <td>0</td>\n",
       "      <td>0</td>\n",
       "      <td>0</td>\n",
       "      <td>0</td>\n",
       "      <td>1</td>\n",
       "      <td>0</td>\n",
       "      <td>1</td>\n",
       "      <td>1</td>\n",
       "      <td>0</td>\n",
       "      <td>0</td>\n",
       "      <td>0</td>\n",
       "      <td>0</td>\n",
       "      <td>0</td>\n",
       "      <td>0</td>\n",
       "      <td>0</td>\n",
       "      <td>3</td>\n",
       "      <td>1</td>\n",
       "    </tr>\n",
       "    <tr>\n",
       "      <th>9763571</th>\n",
       "      <td>1</td>\n",
       "      <td>0.0</td>\n",
       "      <td>0</td>\n",
       "      <td>0</td>\n",
       "      <td>493.94</td>\n",
       "      <td>493.94</td>\n",
       "      <td>0.000000</td>\n",
       "      <td>0.000</td>\n",
       "      <td>0</td>\n",
       "      <td>0</td>\n",
       "      <td>0</td>\n",
       "      <td>0</td>\n",
       "      <td>0.00000</td>\n",
       "      <td>155.683750</td>\n",
       "      <td>0</td>\n",
       "      <td>0</td>\n",
       "      <td>0</td>\n",
       "      <td>0</td>\n",
       "      <td>1</td>\n",
       "      <td>0</td>\n",
       "      <td>0</td>\n",
       "      <td>0</td>\n",
       "      <td>0</td>\n",
       "      <td>1</td>\n",
       "      <td>1</td>\n",
       "      <td>0</td>\n",
       "      <td>1</td>\n",
       "      <td>0</td>\n",
       "      <td>0</td>\n",
       "      <td>0</td>\n",
       "      <td>0</td>\n",
       "      <td>0</td>\n",
       "      <td>0</td>\n",
       "      <td>0</td>\n",
       "      <td>0</td>\n",
       "      <td>1</td>\n",
       "    </tr>\n",
       "    <tr>\n",
       "      <th>8419916</th>\n",
       "      <td>14</td>\n",
       "      <td>778.0</td>\n",
       "      <td>8</td>\n",
       "      <td>5</td>\n",
       "      <td>208.50</td>\n",
       "      <td>169.35</td>\n",
       "      <td>169.350000</td>\n",
       "      <td>177.180</td>\n",
       "      <td>8</td>\n",
       "      <td>5</td>\n",
       "      <td>8</td>\n",
       "      <td>5</td>\n",
       "      <td>169.35000</td>\n",
       "      <td>359.315714</td>\n",
       "      <td>8</td>\n",
       "      <td>5</td>\n",
       "      <td>0</td>\n",
       "      <td>0</td>\n",
       "      <td>0</td>\n",
       "      <td>1</td>\n",
       "      <td>0</td>\n",
       "      <td>0</td>\n",
       "      <td>0</td>\n",
       "      <td>1</td>\n",
       "      <td>1</td>\n",
       "      <td>0</td>\n",
       "      <td>1</td>\n",
       "      <td>0</td>\n",
       "      <td>0</td>\n",
       "      <td>0</td>\n",
       "      <td>0</td>\n",
       "      <td>0</td>\n",
       "      <td>0</td>\n",
       "      <td>0</td>\n",
       "      <td>13</td>\n",
       "      <td>1</td>\n",
       "    </tr>\n",
       "    <tr>\n",
       "      <th>9763575</th>\n",
       "      <td>3</td>\n",
       "      <td>170.0</td>\n",
       "      <td>1</td>\n",
       "      <td>1</td>\n",
       "      <td>360.11</td>\n",
       "      <td>360.11</td>\n",
       "      <td>360.110000</td>\n",
       "      <td>360.110</td>\n",
       "      <td>1</td>\n",
       "      <td>1</td>\n",
       "      <td>1</td>\n",
       "      <td>1</td>\n",
       "      <td>582.95000</td>\n",
       "      <td>546.976250</td>\n",
       "      <td>1</td>\n",
       "      <td>1</td>\n",
       "      <td>0</td>\n",
       "      <td>0</td>\n",
       "      <td>0</td>\n",
       "      <td>1</td>\n",
       "      <td>0</td>\n",
       "      <td>0</td>\n",
       "      <td>0</td>\n",
       "      <td>1</td>\n",
       "      <td>1</td>\n",
       "      <td>0</td>\n",
       "      <td>1</td>\n",
       "      <td>0</td>\n",
       "      <td>0</td>\n",
       "      <td>0</td>\n",
       "      <td>0</td>\n",
       "      <td>0</td>\n",
       "      <td>0</td>\n",
       "      <td>0</td>\n",
       "      <td>2</td>\n",
       "      <td>1</td>\n",
       "    </tr>\n",
       "    <tr>\n",
       "      <th>...</th>\n",
       "      <td>...</td>\n",
       "      <td>...</td>\n",
       "      <td>...</td>\n",
       "      <td>...</td>\n",
       "      <td>...</td>\n",
       "      <td>...</td>\n",
       "      <td>...</td>\n",
       "      <td>...</td>\n",
       "      <td>...</td>\n",
       "      <td>...</td>\n",
       "      <td>...</td>\n",
       "      <td>...</td>\n",
       "      <td>...</td>\n",
       "      <td>...</td>\n",
       "      <td>...</td>\n",
       "      <td>...</td>\n",
       "      <td>...</td>\n",
       "      <td>...</td>\n",
       "      <td>...</td>\n",
       "      <td>...</td>\n",
       "      <td>...</td>\n",
       "      <td>...</td>\n",
       "      <td>...</td>\n",
       "      <td>...</td>\n",
       "      <td>...</td>\n",
       "      <td>...</td>\n",
       "      <td>...</td>\n",
       "      <td>...</td>\n",
       "      <td>...</td>\n",
       "      <td>...</td>\n",
       "      <td>...</td>\n",
       "      <td>...</td>\n",
       "      <td>...</td>\n",
       "      <td>...</td>\n",
       "      <td>...</td>\n",
       "      <td>...</td>\n",
       "    </tr>\n",
       "    <tr>\n",
       "      <th>4180202</th>\n",
       "      <td>2</td>\n",
       "      <td>12.0</td>\n",
       "      <td>0</td>\n",
       "      <td>2</td>\n",
       "      <td>2051.38</td>\n",
       "      <td>1876.89</td>\n",
       "      <td>0.000000</td>\n",
       "      <td>1964.135</td>\n",
       "      <td>0</td>\n",
       "      <td>2</td>\n",
       "      <td>0</td>\n",
       "      <td>2</td>\n",
       "      <td>0.00000</td>\n",
       "      <td>1964.135000</td>\n",
       "      <td>0</td>\n",
       "      <td>2</td>\n",
       "      <td>0</td>\n",
       "      <td>0</td>\n",
       "      <td>0</td>\n",
       "      <td>1</td>\n",
       "      <td>0</td>\n",
       "      <td>0</td>\n",
       "      <td>0</td>\n",
       "      <td>1</td>\n",
       "      <td>1</td>\n",
       "      <td>0</td>\n",
       "      <td>0</td>\n",
       "      <td>1</td>\n",
       "      <td>0</td>\n",
       "      <td>0</td>\n",
       "      <td>0</td>\n",
       "      <td>0</td>\n",
       "      <td>0</td>\n",
       "      <td>0</td>\n",
       "      <td>2</td>\n",
       "      <td>0</td>\n",
       "    </tr>\n",
       "    <tr>\n",
       "      <th>4180203</th>\n",
       "      <td>3</td>\n",
       "      <td>228.0</td>\n",
       "      <td>1</td>\n",
       "      <td>2</td>\n",
       "      <td>69.45</td>\n",
       "      <td>33.44</td>\n",
       "      <td>69.450000</td>\n",
       "      <td>51.445</td>\n",
       "      <td>1</td>\n",
       "      <td>2</td>\n",
       "      <td>1</td>\n",
       "      <td>2</td>\n",
       "      <td>69.45000</td>\n",
       "      <td>270.670588</td>\n",
       "      <td>1</td>\n",
       "      <td>2</td>\n",
       "      <td>1</td>\n",
       "      <td>0</td>\n",
       "      <td>0</td>\n",
       "      <td>0</td>\n",
       "      <td>0</td>\n",
       "      <td>0</td>\n",
       "      <td>0</td>\n",
       "      <td>1</td>\n",
       "      <td>1</td>\n",
       "      <td>0</td>\n",
       "      <td>0</td>\n",
       "      <td>0</td>\n",
       "      <td>0</td>\n",
       "      <td>0</td>\n",
       "      <td>0</td>\n",
       "      <td>0</td>\n",
       "      <td>1</td>\n",
       "      <td>0</td>\n",
       "      <td>3</td>\n",
       "      <td>0</td>\n",
       "    </tr>\n",
       "    <tr>\n",
       "      <th>4180204</th>\n",
       "      <td>5</td>\n",
       "      <td>978.0</td>\n",
       "      <td>0</td>\n",
       "      <td>5</td>\n",
       "      <td>463.05</td>\n",
       "      <td>397.93</td>\n",
       "      <td>0.000000</td>\n",
       "      <td>412.862</td>\n",
       "      <td>0</td>\n",
       "      <td>5</td>\n",
       "      <td>0</td>\n",
       "      <td>5</td>\n",
       "      <td>0.00000</td>\n",
       "      <td>446.374167</td>\n",
       "      <td>0</td>\n",
       "      <td>5</td>\n",
       "      <td>1</td>\n",
       "      <td>0</td>\n",
       "      <td>0</td>\n",
       "      <td>0</td>\n",
       "      <td>0</td>\n",
       "      <td>0</td>\n",
       "      <td>0</td>\n",
       "      <td>1</td>\n",
       "      <td>1</td>\n",
       "      <td>0</td>\n",
       "      <td>1</td>\n",
       "      <td>0</td>\n",
       "      <td>0</td>\n",
       "      <td>0</td>\n",
       "      <td>0</td>\n",
       "      <td>0</td>\n",
       "      <td>0</td>\n",
       "      <td>0</td>\n",
       "      <td>5</td>\n",
       "      <td>0</td>\n",
       "    </tr>\n",
       "    <tr>\n",
       "      <th>4180206</th>\n",
       "      <td>1</td>\n",
       "      <td>0.0</td>\n",
       "      <td>0</td>\n",
       "      <td>1</td>\n",
       "      <td>68.21</td>\n",
       "      <td>68.21</td>\n",
       "      <td>0.000000</td>\n",
       "      <td>68.210</td>\n",
       "      <td>0</td>\n",
       "      <td>0</td>\n",
       "      <td>0</td>\n",
       "      <td>1</td>\n",
       "      <td>0.00000</td>\n",
       "      <td>122.579167</td>\n",
       "      <td>0</td>\n",
       "      <td>1</td>\n",
       "      <td>0</td>\n",
       "      <td>1</td>\n",
       "      <td>0</td>\n",
       "      <td>0</td>\n",
       "      <td>0</td>\n",
       "      <td>0</td>\n",
       "      <td>0</td>\n",
       "      <td>1</td>\n",
       "      <td>1</td>\n",
       "      <td>0</td>\n",
       "      <td>1</td>\n",
       "      <td>0</td>\n",
       "      <td>0</td>\n",
       "      <td>0</td>\n",
       "      <td>0</td>\n",
       "      <td>0</td>\n",
       "      <td>0</td>\n",
       "      <td>0</td>\n",
       "      <td>1</td>\n",
       "      <td>0</td>\n",
       "    </tr>\n",
       "    <tr>\n",
       "      <th>12182303</th>\n",
       "      <td>9</td>\n",
       "      <td>4676386.0</td>\n",
       "      <td>9</td>\n",
       "      <td>0</td>\n",
       "      <td>1001.42</td>\n",
       "      <td>97.81</td>\n",
       "      <td>351.924444</td>\n",
       "      <td>0.000</td>\n",
       "      <td>8</td>\n",
       "      <td>0</td>\n",
       "      <td>9</td>\n",
       "      <td>0</td>\n",
       "      <td>1001.42000</td>\n",
       "      <td>1001.420000</td>\n",
       "      <td>9</td>\n",
       "      <td>0</td>\n",
       "      <td>1</td>\n",
       "      <td>1</td>\n",
       "      <td>1</td>\n",
       "      <td>1</td>\n",
       "      <td>0</td>\n",
       "      <td>1</td>\n",
       "      <td>1</td>\n",
       "      <td>1</td>\n",
       "      <td>1</td>\n",
       "      <td>1</td>\n",
       "      <td>1</td>\n",
       "      <td>1</td>\n",
       "      <td>1</td>\n",
       "      <td>1</td>\n",
       "      <td>1</td>\n",
       "      <td>0</td>\n",
       "      <td>0</td>\n",
       "      <td>0</td>\n",
       "      <td>9</td>\n",
       "      <td>0</td>\n",
       "    </tr>\n",
       "  </tbody>\n",
       "</table>\n",
       "<p>12182304 rows × 36 columns</p>\n",
       "</div>"
      ],
      "text/plain": [
       "          TotalEventsInSession  interactionTime  NumTimesCartedInSession  \\\n",
       "3319878                      6            362.0                        2   \n",
       "9763568                      4            371.0                        1   \n",
       "9763571                      1              0.0                        0   \n",
       "8419916                     14            778.0                        8   \n",
       "9763575                      3            170.0                        1   \n",
       "...                        ...              ...                      ...   \n",
       "4180202                      2             12.0                        0   \n",
       "4180203                      3            228.0                        1   \n",
       "4180204                      5            978.0                        0   \n",
       "4180206                      1              0.0                        0   \n",
       "12182303                     9        4676386.0                        9   \n",
       "\n",
       "          NumTimesViewedInSession  maxPrice  minPrice  AvgAmtCartedInSession  \\\n",
       "3319878                         2    136.12    120.21             128.165000   \n",
       "9763568                         2    424.70    424.70             424.700000   \n",
       "9763571                         0    493.94    493.94               0.000000   \n",
       "8419916                         5    208.50    169.35             169.350000   \n",
       "9763575                         1    360.11    360.11             360.110000   \n",
       "...                           ...       ...       ...                    ...   \n",
       "4180202                         2   2051.38   1876.89               0.000000   \n",
       "4180203                         2     69.45     33.44              69.450000   \n",
       "4180204                         5    463.05    397.93               0.000000   \n",
       "4180206                         1     68.21     68.21               0.000000   \n",
       "12182303                        0   1001.42     97.81             351.924444   \n",
       "\n",
       "          AvgAmtViewedInSession  NumBrandsCartedInSession  \\\n",
       "3319878                 128.165                         2   \n",
       "9763568                 424.700                         1   \n",
       "9763571                   0.000                         0   \n",
       "8419916                 177.180                         8   \n",
       "9763575                 360.110                         1   \n",
       "...                         ...                       ...   \n",
       "4180202                1964.135                         0   \n",
       "4180203                  51.445                         1   \n",
       "4180204                 412.862                         0   \n",
       "4180206                  68.210                         0   \n",
       "12182303                  0.000                         8   \n",
       "\n",
       "          NumBrandsViewedInSession  NumCategoriesCartedInSession  \\\n",
       "3319878                          2                             2   \n",
       "9763568                          2                             1   \n",
       "9763571                          0                             0   \n",
       "8419916                          5                             8   \n",
       "9763575                          1                             1   \n",
       "...                            ...                           ...   \n",
       "4180202                          2                             0   \n",
       "4180203                          2                             1   \n",
       "4180204                          5                             0   \n",
       "4180206                          0                             0   \n",
       "12182303                         0                             9   \n",
       "\n",
       "          NumCategoriesViewedInSession  OverallAmtUserCarted  \\\n",
       "3319878                              2             140.42500   \n",
       "9763568                              2             399.90125   \n",
       "9763571                              0               0.00000   \n",
       "8419916                              5             169.35000   \n",
       "9763575                              1             582.95000   \n",
       "...                                ...                   ...   \n",
       "4180202                              2               0.00000   \n",
       "4180203                              2              69.45000   \n",
       "4180204                              5               0.00000   \n",
       "4180206                              1               0.00000   \n",
       "12182303                             0            1001.42000   \n",
       "\n",
       "          OverallAmtUserViewed  NumProdsCartedInSession  \\\n",
       "3319878             140.845333                        2   \n",
       "9763568             393.693902                        1   \n",
       "9763571             155.683750                        0   \n",
       "8419916             359.315714                        8   \n",
       "9763575             546.976250                        1   \n",
       "...                        ...                      ...   \n",
       "4180202            1964.135000                        0   \n",
       "4180203             270.670588                        1   \n",
       "4180204             446.374167                        0   \n",
       "4180206             122.579167                        0   \n",
       "12182303           1001.420000                        9   \n",
       "\n",
       "          NumProdsViewedInSession  Fr  Mon  Sat  Sun  Thu  Tue  Wed  2019  \\\n",
       "3319878                         2   0    0    0    0    0    1    0     1   \n",
       "9763568                         2   0    0    1    0    0    0    0     1   \n",
       "9763571                         0   0    0    1    0    0    0    0     1   \n",
       "8419916                         5   0    0    0    1    0    0    0     1   \n",
       "9763575                         1   0    0    0    1    0    0    0     1   \n",
       "...                           ...  ..  ...  ...  ...  ...  ...  ...   ...   \n",
       "4180202                         2   0    0    0    1    0    0    0     1   \n",
       "4180203                         2   1    0    0    0    0    0    0     1   \n",
       "4180204                         5   1    0    0    0    0    0    0     1   \n",
       "4180206                         1   0    1    0    0    0    0    0     1   \n",
       "12182303                        0   1    1    1    1    0    1    1     1   \n",
       "\n",
       "          Nov  Oct  Afternoon  Dawn  EarlyMorning  Evening  Morning  Night  \\\n",
       "3319878     1    0          0     0             0        0        1      0   \n",
       "9763568     0    1          1     0             0        0        0      0   \n",
       "9763571     1    0          1     0             0        0        0      0   \n",
       "8419916     1    0          1     0             0        0        0      0   \n",
       "9763575     1    0          1     0             0        0        0      0   \n",
       "...       ...  ...        ...   ...           ...      ...      ...    ...   \n",
       "4180202     1    0          0     1             0        0        0      0   \n",
       "4180203     1    0          0     0             0        0        0      0   \n",
       "4180204     1    0          1     0             0        0        0      0   \n",
       "4180206     1    0          1     0             0        0        0      0   \n",
       "12182303    1    1          1     1             1        1        1      0   \n",
       "\n",
       "          Noon  Weekend  TotalNonPurchaseEvents  Purchase  \n",
       "3319878      0        0                       4         1  \n",
       "9763568      0        0                       3         1  \n",
       "9763571      0        0                       0         1  \n",
       "8419916      0        0                      13         1  \n",
       "9763575      0        0                       2         1  \n",
       "...        ...      ...                     ...       ...  \n",
       "4180202      0        0                       2         0  \n",
       "4180203      1        0                       3         0  \n",
       "4180204      0        0                       5         0  \n",
       "4180206      0        0                       1         0  \n",
       "12182303     0        0                       9         0  \n",
       "\n",
       "[12182304 rows x 36 columns]"
      ]
     },
     "execution_count": 13,
     "metadata": {},
     "output_type": "execute_result"
    }
   ],
   "source": [
    "FeaturesDF.sort_values(by='Purchase',ascending=False)"
   ]
  },
  {
   "cell_type": "code",
   "execution_count": 14,
   "metadata": {
    "colab": {},
    "colab_type": "code",
    "id": "cyM2w8AHmILX",
    "outputId": "ba86d164-25d7-4cbd-f836-234d23b4f20f"
   },
   "outputs": [
    {
     "data": {
      "text/plain": [
       "'The features we have are as follows:'"
      ]
     },
     "metadata": {},
     "output_type": "display_data"
    },
    {
     "data": {
      "text/plain": [
       "['TotalEventsInSession',\n",
       " 'interactionTime',\n",
       " 'NumTimesCartedInSession',\n",
       " 'NumTimesViewedInSession',\n",
       " 'maxPrice',\n",
       " 'minPrice',\n",
       " 'AvgAmtCartedInSession',\n",
       " 'AvgAmtViewedInSession',\n",
       " 'NumBrandsCartedInSession',\n",
       " 'NumBrandsViewedInSession',\n",
       " 'NumCategoriesCartedInSession',\n",
       " 'NumCategoriesViewedInSession',\n",
       " 'OverallAmtUserCarted',\n",
       " 'OverallAmtUserViewed',\n",
       " 'NumProdsCartedInSession',\n",
       " 'NumProdsViewedInSession',\n",
       " 'Fr',\n",
       " 'Mon',\n",
       " 'Sat',\n",
       " 'Sun',\n",
       " 'Thu',\n",
       " 'Tue',\n",
       " 'Wed',\n",
       " 2019,\n",
       " 'Nov',\n",
       " 'Oct',\n",
       " 'Afternoon',\n",
       " 'Dawn',\n",
       " 'EarlyMorning',\n",
       " 'Evening',\n",
       " 'Morning',\n",
       " 'Night',\n",
       " 'Noon',\n",
       " 'Weekend',\n",
       " 'TotalNonPurchaseEvents',\n",
       " 'Purchase']"
      ]
     },
     "metadata": {},
     "output_type": "display_data"
    },
    {
     "name": "stdout",
     "output_type": "stream",
     "text": [
      "************\n",
      "PLEASE NOTE THAT \n",
      " One-Hot-Encoded Date and Time features are dynamically added as per data\n",
      "************\n"
     ]
    }
   ],
   "source": [
    "display(\"The features we have are as follows:\", FeaturesDF.columns.tolist())\n",
    "\n",
    "print('************')\n",
    "print(\"PLEASE NOTE THAT \\n One-Hot-Encoded Date and Time features are dynamically added as per data\")\n",
    "print('************')"
   ]
  },
  {
   "cell_type": "markdown",
   "metadata": {},
   "source": [
    "**Saving Features To Pickle For Quick Access**"
   ]
  },
  {
   "cell_type": "code",
   "execution_count": 8,
   "metadata": {},
   "outputs": [],
   "source": [
    "#RUN FOR ELECTRONICS DATA ONLY\n",
    "FeaturesDF.to_pickle('Electronics_Session_Features.pkl')"
   ]
  },
  {
   "cell_type": "markdown",
   "metadata": {
    "colab_type": "text",
    "id": "zn2FafEuXhDX"
   },
   "source": [
    "#    \n",
    "************************************************\n",
    "************************************************"
   ]
  },
  {
   "cell_type": "markdown",
   "metadata": {
    "colab_type": "text",
    "id": "SIQBpFGKmILZ"
   },
   "source": [
    "#3. ***`SPLITTING DATA`***"
   ]
  },
  {
   "cell_type": "markdown",
   "metadata": {
    "colab_type": "text",
    "id": "JTZcZUY76jRt"
   },
   "source": [
    "## 3a. Test-Train Split"
   ]
  },
  {
   "cell_type": "code",
   "execution_count": 15,
   "metadata": {
    "colab": {},
    "colab_type": "code",
    "id": "TZvEi1S7mILZ"
   },
   "outputs": [],
   "source": [
    "XData = FeaturesDF.iloc[:,:-1]\n",
    "YData = FeaturesDF.iloc[:,-1]"
   ]
  },
  {
   "cell_type": "code",
   "execution_count": 16,
   "metadata": {
    "colab": {},
    "colab_type": "code",
    "id": "u4ZWCuKImILd"
   },
   "outputs": [],
   "source": [
    "X_train, X_test, y_train, y_test = train_test_split(XData,YData,test_size=0.2,random_state=42)"
   ]
  },
  {
   "cell_type": "markdown",
   "metadata": {
    "colab_type": "text",
    "id": "AiYoEPRvmILf"
   },
   "source": [
    "## 3b. Scaling with MinMax"
   ]
  },
  {
   "cell_type": "code",
   "execution_count": 17,
   "metadata": {
    "colab": {},
    "colab_type": "code",
    "id": "YbA-MZzamILf"
   },
   "outputs": [],
   "source": [
    "MMscaler = MinMaxScaler()\n",
    "X_train = MMscaler.fit_transform(X_train)\n",
    "X_test = MMscaler.transform(X_test)"
   ]
  },
  {
   "cell_type": "markdown",
   "metadata": {
    "colab_type": "text",
    "id": "uzWwOUjSXnii"
   },
   "source": [
    "#    \n",
    "************************************************\n",
    "************************************************"
   ]
  },
  {
   "cell_type": "markdown",
   "metadata": {
    "colab_type": "text",
    "id": "LC-3jPVumILY"
   },
   "source": [
    "# 4. ***`FEATURE RANKING`***"
   ]
  },
  {
   "cell_type": "markdown",
   "metadata": {
    "colab_type": "text",
    "id": "2yFnUuk_mILi"
   },
   "source": [
    "## 4a. Using Random Forest"
   ]
  },
  {
   "cell_type": "code",
   "execution_count": 65,
   "metadata": {
    "colab": {},
    "colab_type": "code",
    "id": "wyMGdfg6mILi"
   },
   "outputs": [],
   "source": [
    "sel = SelectFromModel(RandomForestClassifier(n_estimators = 100))"
   ]
  },
  {
   "cell_type": "code",
   "execution_count": 66,
   "metadata": {
    "colab": {},
    "colab_type": "code",
    "id": "pOiLrSmZmILk",
    "outputId": "65e7efd5-4e9e-4cf9-eeeb-853dca6658a6"
   },
   "outputs": [
    {
     "data": {
      "text/plain": [
       "SelectFromModel(estimator=RandomForestClassifier())"
      ]
     },
     "execution_count": 66,
     "metadata": {},
     "output_type": "execute_result"
    }
   ],
   "source": [
    "sel.fit(X_train, y_train)"
   ]
  },
  {
   "cell_type": "code",
   "execution_count": 67,
   "metadata": {
    "colab": {},
    "colab_type": "code",
    "id": "0EeqYMYRmILl",
    "outputId": "fa9c5c09-ece7-4401-aa43-b148dc054525"
   },
   "outputs": [
    {
     "data": {
      "text/plain": [
       "array([ True,  True,  True,  True, False, False,  True, False,  True,\n",
       "       False,  True,  True, False, False,  True,  True, False, False,\n",
       "       False, False, False, False, False, False, False, False, False,\n",
       "       False, False, False, False, False, False, False,  True])"
      ]
     },
     "execution_count": 67,
     "metadata": {},
     "output_type": "execute_result"
    }
   ],
   "source": [
    "sel.get_support()"
   ]
  },
  {
   "cell_type": "code",
   "execution_count": 68,
   "metadata": {
    "colab": {},
    "colab_type": "code",
    "id": "0a2Nu53smILn"
   },
   "outputs": [],
   "source": [
    "selected_feat= XData.columns[(sel.get_support())]"
   ]
  },
  {
   "cell_type": "code",
   "execution_count": 69,
   "metadata": {
    "colab": {},
    "colab_type": "code",
    "id": "687P_x5GmILo",
    "outputId": "306d6df2-6a28-4f20-b8d6-9e963625811b"
   },
   "outputs": [
    {
     "data": {
      "image/png": "[encoded data removed]",
      "text/plain": [
       "<Figure size 1080x648 with 1 Axes>"
      ]
     },
     "metadata": {},
     "output_type": "display_data"
    }
   ],
   "source": [
    "importances = sel.estimator_.feature_importances_\n",
    "indices = np.argsort(importances)[::-1] \n",
    "colname = XData.columns[indices]\n",
    "plt.figure(figsize=(15,9))\n",
    "plt.title(\"Feature importances\",size=20)\n",
    "sns.barplot(x=colname, y=importances[indices],palette=\"deep\")\n",
    "plt.xticks(rotation=90,size=20)\n",
    "plt.show()"
   ]
  },
  {
   "cell_type": "markdown",
   "metadata": {
    "colab_type": "text",
    "id": "qBx-40eZmILq"
   },
   "source": [
    "## 4b. Using F Scores"
   ]
  },
  {
   "cell_type": "code",
   "execution_count": 70,
   "metadata": {
    "colab": {},
    "colab_type": "code",
    "id": "z20bKXLImILq"
   },
   "outputs": [],
   "source": [
    "import sklearn.feature_selection as fs\n",
    "kb = fs.SelectKBest(k=X_train.shape[1])\n",
    "kb.fit(X_train, y_train)\n",
    "names = XData.columns.values[kb.get_support()]\n",
    "scores = kb.scores_[kb.get_support()]\n",
    "names_scores = list(zip(names, scores))"
   ]
  },
  {
   "cell_type": "code",
   "execution_count": 71,
   "metadata": {
    "colab": {},
    "colab_type": "code",
    "id": "L_UjtvBVmILs"
   },
   "outputs": [],
   "source": [
    "fScoreDF = pd.DataFrame(data = names_scores, columns=['Feat_names','F_Scores'])\n",
    "fScoreDF_sorted = fScoreDF.sort_values(['F_Scores','Feat_names'], ascending =[False, True])"
   ]
  },
  {
   "cell_type": "code",
   "execution_count": 72,
   "metadata": {
    "colab": {},
    "colab_type": "code",
    "id": "TqMChHIKmILt",
    "outputId": "d400611e-69bd-4485-aebf-e2c8ec6c7daf"
   },
   "outputs": [
    {
     "data": {
      "image/png": "[encoded data removed]",
      "text/plain": [
       "<Figure size 1080x648 with 1 Axes>"
      ]
     },
     "metadata": {},
     "output_type": "display_data"
    }
   ],
   "source": [
    "plt.figure(figsize=(15,9))\n",
    "sns.barplot(x= \"Feat_names\", y=\"F_Scores\",data=fScoreDF_sorted)\n",
    "plt.xticks(rotation=90,size=20)\n",
    "plt.show()"
   ]
  },
  {
   "cell_type": "markdown",
   "metadata": {
    "colab_type": "text",
    "id": "vRAIEJzEXsJa"
   },
   "source": [
    "#    \n",
    "************************************************\n",
    "************************************************"
   ]
  },
  {
   "cell_type": "markdown",
   "metadata": {
    "colab_type": "text",
    "id": "meybcudd3eaK"
   },
   "source": [
    "# 5. ***`DATA TRANSFORMATION`***"
   ]
  },
  {
   "cell_type": "markdown",
   "metadata": {
    "colab_type": "text",
    "id": "-B7pvy6LXco8"
   },
   "source": [
    "## 5.1 SMOTE "
   ]
  },
  {
   "cell_type": "code",
   "execution_count": 18,
   "metadata": {
    "colab": {
     "base_uri": "https://localhost:8080/",
     "height": 34
    },
    "colab_type": "code",
    "id": "HxdKvsosuMIT",
    "outputId": "054dc853-4850-4bec-a54e-1e7b86b7b083"
   },
   "outputs": [
    {
     "name": "stdout",
     "output_type": "stream",
     "text": [
      "Label Distribution Pre Balancing Counter({0: 11484745, 1: 697559})\n"
     ]
    }
   ],
   "source": [
    "print( \"Label Distribution Pre Balancing {}\".format(Counter(YData)))"
   ]
  },
  {
   "cell_type": "code",
   "execution_count": 19,
   "metadata": {
    "colab": {},
    "colab_type": "code",
    "id": "EHGQvUnTvtJZ"
   },
   "outputs": [],
   "source": [
    "oversample = SMOTE()\n",
    "XSMOTE, YSMOTE = oversample.fit_resample(XData, YData)"
   ]
  },
  {
   "cell_type": "code",
   "execution_count": 20,
   "metadata": {},
   "outputs": [
    {
     "name": "stdout",
     "output_type": "stream",
     "text": [
      "Label Distribution Post Balancing Counter({0: 11484745, 1: 11484745})\n"
     ]
    }
   ],
   "source": [
    "print( \"Label Distribution Post Balancing {}\".format( Counter(YSMOTE) ) )"
   ]
  },
  {
   "cell_type": "code",
   "execution_count": 21,
   "metadata": {
    "colab": {},
    "colab_type": "code",
    "id": "4zEi_oj53dQ0"
   },
   "outputs": [],
   "source": [
    "trainX, testX, trainY, testY = train_test_split(XSMOTE,YSMOTE,test_size=0.2,random_state=42)"
   ]
  },
  {
   "cell_type": "code",
   "execution_count": 22,
   "metadata": {
    "colab": {},
    "colab_type": "code",
    "id": "OusRxesM3y32"
   },
   "outputs": [],
   "source": [
    "MMscaler = MinMaxScaler()\n",
    "trainX = MMscaler.fit_transform(trainX)\n",
    "testX = MMscaler.transform(testX)"
   ]
  },
  {
   "cell_type": "markdown",
   "metadata": {},
   "source": [
    "**Save/load pickle files for quick future usage**"
   ]
  },
  {
   "cell_type": "code",
   "execution_count": 24,
   "metadata": {},
   "outputs": [],
   "source": [
    "#FeaturesDFSMOTE = pd.concat([XSMOTE,YSMOTE],axis=1)\n",
    "#FeaturesDFSMOTE.to_pickle('Electronics_Session_Features_SMOTE.pkl')\n",
    "# FeaturesDFSMOTE = pd.read_pickle('Electronics_Session_Features_SMOTE.pkl')"
   ]
  },
  {
   "cell_type": "markdown",
   "metadata": {},
   "source": [
    "## 5.2 PCA"
   ]
  },
  {
   "cell_type": "markdown",
   "metadata": {},
   "source": [
    "### 5.2.1 Non Balanced Data"
   ]
  },
  {
   "cell_type": "markdown",
   "metadata": {},
   "source": [
    "**pca1 : Based on the explained variance percentage**"
   ]
  },
  {
   "cell_type": "code",
   "execution_count": 25,
   "metadata": {},
   "outputs": [],
   "source": [
    "desiredVariancePercent = 0.8"
   ]
  },
  {
   "cell_type": "code",
   "execution_count": 26,
   "metadata": {
    "scrolled": true
   },
   "outputs": [
    {
     "data": {
      "text/plain": [
       "PCA()"
      ]
     },
     "execution_count": 26,
     "metadata": {},
     "output_type": "execute_result"
    }
   ],
   "source": [
    "pca1 = PCA()\n",
    "pca1.fit(X_train)"
   ]
  },
  {
   "cell_type": "code",
   "execution_count": 27,
   "metadata": {},
   "outputs": [
    {
     "data": {
      "text/plain": [
       "array([0.20920419, 0.31792289, 0.40521929, 0.47768609, 0.54798284,\n",
       "       0.6155788 , 0.67780411, 0.7380151 , 0.79716538, 0.85553625,\n",
       "       0.91159201, 0.94626526, 0.9755026 , 0.98569229, 0.99107779,\n",
       "       0.99426198, 0.99640327, 0.99802423, 0.99935099, 0.99962372,\n",
       "       0.9998639 , 0.99995386, 0.99997916, 0.99999485, 0.99999938,\n",
       "       0.99999985, 0.99999995, 1.        , 1.        , 1.        ,\n",
       "       1.        , 1.        , 1.        , 1.        , 1.        ])"
      ]
     },
     "execution_count": 27,
     "metadata": {},
     "output_type": "execute_result"
    }
   ],
   "source": [
    "variance_cumsum = np.cumsum(pca1.explained_variance_ratio_)\n",
    "variance_cumsum"
   ]
  },
  {
   "cell_type": "code",
   "execution_count": 28,
   "metadata": {},
   "outputs": [
    {
     "name": "stdout",
     "output_type": "stream",
     "text": [
      "Number of components that explain 80.0 percent variance in data are 10\n"
     ]
    }
   ],
   "source": [
    "numRequiredComponents = next(x[0] for x in enumerate(variance_cumsum.tolist()) if (x[1]> desiredVariancePercent)) + 1\n",
    "print(\"Number of components that explain {} percent variance in data are {}\".format(desiredVariancePercent*100,numRequiredComponents))"
   ]
  },
  {
   "cell_type": "markdown",
   "metadata": {},
   "source": [
    "**pca2 : Number of components defined for variance specified above**"
   ]
  },
  {
   "cell_type": "code",
   "execution_count": 29,
   "metadata": {},
   "outputs": [
    {
     "data": {
      "text/plain": [
       "PCA(n_components=10)"
      ]
     },
     "execution_count": 29,
     "metadata": {},
     "output_type": "execute_result"
    }
   ],
   "source": [
    "pca2 = PCA(n_components=numRequiredComponents)\n",
    "pca2.fit(X_train)"
   ]
  },
  {
   "cell_type": "code",
   "execution_count": 30,
   "metadata": {},
   "outputs": [
    {
     "data": {
      "text/plain": [
       "array([0.20920419, 0.31792289, 0.40521929, 0.47768609, 0.54798284,\n",
       "       0.6155788 , 0.67780411, 0.7380151 , 0.79716538, 0.85553625])"
      ]
     },
     "execution_count": 30,
     "metadata": {},
     "output_type": "execute_result"
    }
   ],
   "source": [
    "np.cumsum(pca2.explained_variance_ratio_)"
   ]
  },
  {
   "cell_type": "markdown",
   "metadata": {},
   "source": [
    "**pcaNC2 : Number of components = 2**"
   ]
  },
  {
   "cell_type": "code",
   "execution_count": null,
   "metadata": {},
   "outputs": [],
   "source": [
    "pcaNC2 = PCA(n_components=2)\n",
    "pcaNC2.fit(X_train)"
   ]
  },
  {
   "cell_type": "markdown",
   "metadata": {},
   "source": [
    "**Visualization of Explained Variance Ratio For different components**"
   ]
  },
  {
   "cell_type": "code",
   "execution_count": 32,
   "metadata": {},
   "outputs": [
    {
     "data": {
      "image/png": "[encoded data removed]",
      "text/plain": [
       "<Figure size 864x432 with 1 Axes>"
      ]
     },
     "metadata": {},
     "output_type": "display_data"
    }
   ],
   "source": [
    "import matplotlib.pyplot as plt\n",
    "plt.rcParams[\"figure.figsize\"] = (12,6)\n",
    "\n",
    "fig, ax = plt.subplots()\n",
    "xi = np.arange(1, FeaturesDF.shape[1], step=1)\n",
    "y = np.cumsum(pca1.explained_variance_ratio_)\n",
    "\n",
    "plt.ylim(0.0,1.1)\n",
    "plt.plot(xi, y, marker='o', linestyle='--', color='blue')\n",
    "\n",
    "plt.xlabel('\\n Number of Components \\n',size = 20)\n",
    "plt.xticks(np.arange(0, FeaturesDF.shape[1], step=1)) #change from 0-based array index to 1-based human-readable label\n",
    "plt.ylabel('\\n Cumulative variance (%)\\n ',size = 20)\n",
    "plt.title('The number of components needed to explain variance \\n',size = 20)\n",
    "\n",
    "plt.axhline(y= desiredVariancePercent, color='r', linestyle='-')\n",
    "plt.axvline(x=numRequiredComponents, color='g', linestyle='--')\n",
    "plt.text(20, 0.9, '{} cut-off threshold'.format(desiredVariancePercent*100), color = 'red', fontsize=15)\n",
    "\n",
    "ax.grid(axis='x')\n",
    "plt.show()"
   ]
  },
  {
   "cell_type": "markdown",
   "metadata": {},
   "source": [
    "### 5.2.2 Balanced Data"
   ]
  },
  {
   "cell_type": "markdown",
   "metadata": {},
   "source": [
    "**smote_pca : Number of components NOT defined**"
   ]
  },
  {
   "cell_type": "code",
   "execution_count": 33,
   "metadata": {},
   "outputs": [
    {
     "data": {
      "text/plain": [
       "PCA()"
      ]
     },
     "execution_count": 33,
     "metadata": {},
     "output_type": "execute_result"
    }
   ],
   "source": [
    "smote_pca = PCA()\n",
    "smote_pca.fit(trainX)"
   ]
  },
  {
   "cell_type": "code",
   "execution_count": 36,
   "metadata": {},
   "outputs": [],
   "source": [
    "variance_cumsumSMOTE = np.cumsum(smote_pca.explained_variance_ratio_)"
   ]
  },
  {
   "cell_type": "code",
   "execution_count": 37,
   "metadata": {},
   "outputs": [
    {
     "name": "stdout",
     "output_type": "stream",
     "text": [
      "Number of components that explain 80.0 percent variance in data are 11\n"
     ]
    }
   ],
   "source": [
    "numRequiredComponentsSMOTE = next(x[0] for x in enumerate(variance_cumsumSMOTE.tolist()) if (x[1]> desiredVariancePercent)) + 1\n",
    "print(\"Number of components that explain {} percent variance in data are {}\".format(desiredVariancePercent*100,numRequiredComponentsSMOTE))"
   ]
  },
  {
   "cell_type": "markdown",
   "metadata": {},
   "source": [
    "**smote_pca2 : Number of components defined for variance specified**"
   ]
  },
  {
   "cell_type": "code",
   "execution_count": 38,
   "metadata": {
    "colab": {},
    "colab_type": "code",
    "id": "H9JfBqSn-0vX"
   },
   "outputs": [
    {
     "data": {
      "text/plain": [
       "PCA(n_components=11)"
      ]
     },
     "execution_count": 38,
     "metadata": {},
     "output_type": "execute_result"
    }
   ],
   "source": [
    "smote_pca2 = PCA(n_components=numRequiredComponentsSMOTE)\n",
    "smote_pca2.fit(trainX)"
   ]
  },
  {
   "cell_type": "markdown",
   "metadata": {},
   "source": [
    "**smotePcaNC2 : Number of components = 2**"
   ]
  },
  {
   "cell_type": "code",
   "execution_count": null,
   "metadata": {},
   "outputs": [],
   "source": [
    "smote_pcaNC2 = PCA(n_components=2)\n",
    "smote_pcaNC2.fit(X_train)"
   ]
  },
  {
   "cell_type": "markdown",
   "metadata": {},
   "source": [
    "**SMOTE PCA Visualization**"
   ]
  },
  {
   "cell_type": "code",
   "execution_count": 40,
   "metadata": {},
   "outputs": [
    {
     "data": {
      "image/png": "[encoded data removed]",
      "text/plain": [
       "<Figure size 864x432 with 1 Axes>"
      ]
     },
     "metadata": {},
     "output_type": "display_data"
    }
   ],
   "source": [
    "fig, ax = plt.subplots()\n",
    "xi = np.arange(1, FeaturesDF.shape[1], step=1)\n",
    "y = np.cumsum(smote_pca.explained_variance_ratio_)\n",
    "NTH_component = next(x[0] for x in enumerate(y.tolist()) if (x[1]> desiredVariancePercent))\n",
    "\n",
    "plt.ylim(0.0,1.1)\n",
    "plt.plot(xi, y, marker='o', linestyle='--', color='blue')\n",
    "\n",
    "plt.xlabel('\\n Number of Components \\n',size = 20)\n",
    "plt.xticks(np.arange(0, FeaturesDF.shape[1], step=1)) #change from 0-based array index to 1-based human-readable label\n",
    "plt.ylabel('\\n Cumulative variance (%)\\n ',size = 20)\n",
    "plt.title('The number of components needed to explain variance \\n',size = 20)\n",
    "\n",
    "plt.axhline(y= desiredVariancePercent, color='r', linestyle='-')\n",
    "plt.axvline(x=NTH_component+1, color='g', linestyle='--')\n",
    "plt.text(20, 0.9, '{} cut-off threshold'.format(desiredVariancePercent*100), color = 'red', fontsize=15)\n",
    "\n",
    "ax.grid(axis='x')\n",
    "plt.show()"
   ]
  },
  {
   "cell_type": "markdown",
   "metadata": {},
   "source": [
    "### 5.2.3 PCA Transformations"
   ]
  },
  {
   "cell_type": "markdown",
   "metadata": {},
   "source": [
    "Non Balanced Data --- \n",
    "\n",
    "CHOOSE the function you want to use depending on variance/number of components :\n",
    "\n",
    "1. pca1\n",
    "2. pca2\n",
    "3. pcaNC2"
   ]
  },
  {
   "cell_type": "code",
   "execution_count": 41,
   "metadata": {
    "colab": {},
    "colab_type": "code",
    "id": "H9JfBqSn-0vX"
   },
   "outputs": [],
   "source": [
    "X_train = pca2.transform(X_train)\n",
    "X_test = pca2.transform(X_test)"
   ]
  },
  {
   "cell_type": "code",
   "execution_count": 1,
   "metadata": {},
   "outputs": [],
   "source": [
    "X_PCA = np.concatenate([X_train_pca,X_test_pca])"
   ]
  },
  {
   "cell_type": "code",
   "execution_count": null,
   "metadata": {},
   "outputs": [],
   "source": [
    "X_PCA.shape"
   ]
  },
  {
   "cell_type": "markdown",
   "metadata": {},
   "source": [
    "Balanced Data"
   ]
  },
  {
   "cell_type": "code",
   "execution_count": 48,
   "metadata": {},
   "outputs": [],
   "source": [
    "trainX = smote_pca2.transform(trainX)\n",
    "testX = smote_pca2.transform(testX)"
   ]
  },
  {
   "cell_type": "code",
   "execution_count": 49,
   "metadata": {},
   "outputs": [
    {
     "data": {
      "text/plain": [
       "(18375592, 11)"
      ]
     },
     "execution_count": 49,
     "metadata": {},
     "output_type": "execute_result"
    }
   ],
   "source": [
    "trainX.shape"
   ]
  },
  {
   "cell_type": "markdown",
   "metadata": {
    "colab_type": "text",
    "id": "3srz0vJyXxko"
   },
   "source": [
    "#    \n",
    "************************************************\n",
    "************************************************"
   ]
  },
  {
   "cell_type": "markdown",
   "metadata": {
    "colab_type": "text",
    "id": "YSdOTIkg6OKu"
   },
   "source": [
    "# 6. ***`BASELINING`***"
   ]
  },
  {
   "cell_type": "markdown",
   "metadata": {
    "colab_type": "text",
    "id": "ezEy7J5amILv"
   },
   "source": [
    "## 6a. BASELINING --- non Balanced data"
   ]
  },
  {
   "cell_type": "code",
   "execution_count": 51,
   "metadata": {
    "colab": {},
    "colab_type": "code",
    "id": "tE_LZJ8hmIMA"
   },
   "outputs": [],
   "source": [
    "logreg = LogisticRegression(solver='lbfgs', max_iter=1000,n_jobs=-1)"
   ]
  },
  {
   "cell_type": "code",
   "execution_count": 52,
   "metadata": {
    "colab": {},
    "colab_type": "code",
    "id": "E32XtaPU5P4u"
   },
   "outputs": [],
   "source": [
    "y_pred = cross_val_predict(logreg, X_train, y_train, cv=5)"
   ]
  },
  {
   "cell_type": "code",
   "execution_count": 53,
   "metadata": {
    "colab": {
     "base_uri": "https://localhost:8080/",
     "height": 34
    },
    "colab_type": "code",
    "id": "C6mczUeQ5YaV",
    "outputId": "281747d5-765e-4a10-85fd-92166bf6c6fd"
   },
   "outputs": [
    {
     "name": "stdout",
     "output_type": "stream",
     "text": [
      "0.9427396891166828\n"
     ]
    }
   ],
   "source": [
    "print(metrics.accuracy_score(y_train, y_pred))"
   ]
  },
  {
   "cell_type": "code",
   "execution_count": 54,
   "metadata": {
    "colab": {
     "base_uri": "https://localhost:8080/",
     "height": 105
    },
    "colab_type": "code",
    "id": "mGXi3np5s8Gz",
    "outputId": "ddd5d19e-0270-4e9c-d071-a38a2997b17f"
   },
   "outputs": [
    {
     "data": {
      "text/plain": [
       "LogisticRegression(max_iter=1000, n_jobs=-1)"
      ]
     },
     "execution_count": 54,
     "metadata": {},
     "output_type": "execute_result"
    }
   ],
   "source": [
    "logreg.fit(X_train, y_train)"
   ]
  },
  {
   "cell_type": "code",
   "execution_count": 55,
   "metadata": {
    "colab": {},
    "colab_type": "code",
    "id": "ioJWJzVVtLJF"
   },
   "outputs": [],
   "source": [
    "y_predFinal = logreg.predict(X_test)"
   ]
  },
  {
   "cell_type": "code",
   "execution_count": 56,
   "metadata": {
    "colab": {
     "base_uri": "https://localhost:8080/",
     "height": 34
    },
    "colab_type": "code",
    "id": "EBW5DwyJteVa",
    "outputId": "450ce7bd-f642-4c14-d88b-cc8ef27195ca"
   },
   "outputs": [
    {
     "name": "stdout",
     "output_type": "stream",
     "text": [
      "0.9427411315017971\n"
     ]
    }
   ],
   "source": [
    "print(metrics.accuracy_score(y_test, y_predFinal))"
   ]
  },
  {
   "cell_type": "code",
   "execution_count": 57,
   "metadata": {
    "colab": {
     "base_uri": "https://localhost:8080/",
     "height": 52
    },
    "colab_type": "code",
    "id": "4Z_0uUAKtlML",
    "outputId": "e18d42e9-1b93-42d6-d01c-06f74035e28e"
   },
   "outputs": [
    {
     "data": {
      "text/plain": [
       "array([[2296952,       0],\n",
       "       [ 139509,       0]])"
      ]
     },
     "execution_count": 57,
     "metadata": {},
     "output_type": "execute_result"
    }
   ],
   "source": [
    "cnf_matrix = metrics.confusion_matrix(y_test, y_predFinal)\n",
    "cnf_matrix"
   ]
  },
  {
   "cell_type": "code",
   "execution_count": 58,
   "metadata": {
    "colab": {
     "base_uri": "https://localhost:8080/",
     "height": 332
    },
    "colab_type": "code",
    "id": "XC7LpzgCtupu",
    "outputId": "daec5425-7f43-47e3-ca42-1fbf8784ca0b",
    "scrolled": false
   },
   "outputs": [
    {
     "data": {
      "text/plain": [
       "Text(0.5, 30.5, 'Predicted label')"
      ]
     },
     "execution_count": 58,
     "metadata": {},
     "output_type": "execute_result"
    },
    {
     "data": {
      "image/png": "[encoded data removed]",
      "text/plain": [
       "<Figure size 864x432 with 2 Axes>"
      ]
     },
     "metadata": {},
     "output_type": "display_data"
    }
   ],
   "source": [
    "class_names=[1,0] # name  of classes\n",
    "fig, ax = plt.subplots()\n",
    "tick_marks = np.arange(len(class_names))\n",
    "plt.xticks(tick_marks, class_names)\n",
    "plt.yticks(tick_marks, class_names)\n",
    "# create heatmap\n",
    "sns.heatmap(pd.DataFrame(cnf_matrix), annot=True, cmap=\"Greens\" ,fmt='g')\n",
    "ax.xaxis.set_label_position(\"bottom\")\n",
    "plt.tight_layout()\n",
    "plt.title('Confusion matrix', y=1.1)\n",
    "plt.ylabel('Actual label')\n",
    "plt.xlabel('Predicted label')"
   ]
  },
  {
   "cell_type": "code",
   "execution_count": 59,
   "metadata": {},
   "outputs": [
    {
     "name": "stdout",
     "output_type": "stream",
     "text": [
      "Accuracy: 0.9427411315017971\n",
      "Precision: 0.0\n",
      "Recall: 0.0\n"
     ]
    }
   ],
   "source": [
    "print(\"Accuracy:\",metrics.accuracy_score(y_test, y_predFinal))\n",
    "print(\"Precision:\",metrics.precision_score(y_test, y_predFinal))\n",
    "print(\"Recall:\",metrics.recall_score(y_test, y_predFinal))"
   ]
  },
  {
   "cell_type": "markdown",
   "metadata": {
    "colab_type": "text",
    "id": "vWLhQF4juAD8"
   },
   "source": [
    "## 6b. BASELINING - Balanced data"
   ]
  },
  {
   "cell_type": "code",
   "execution_count": 60,
   "metadata": {
    "colab": {},
    "colab_type": "code",
    "id": "YDLxPo8c35el"
   },
   "outputs": [],
   "source": [
    "logreg = LogisticRegression(solver='lbfgs', max_iter=1000,n_jobs=-1)"
   ]
  },
  {
   "cell_type": "code",
   "execution_count": 61,
   "metadata": {
    "colab": {},
    "colab_type": "code",
    "id": "VMdzWL5P4iFP"
   },
   "outputs": [],
   "source": [
    "predY = cross_val_predict(logreg, trainX, trainY, cv=5)"
   ]
  },
  {
   "cell_type": "code",
   "execution_count": 62,
   "metadata": {
    "colab": {
     "base_uri": "https://localhost:8080/",
     "height": 34
    },
    "colab_type": "code",
    "id": "D7VT6Psi4mbp",
    "outputId": "bf8a8f1a-1a95-43ec-d104-8d15bc14c067"
   },
   "outputs": [
    {
     "name": "stdout",
     "output_type": "stream",
     "text": [
      "0.9196609284751207\n"
     ]
    }
   ],
   "source": [
    "print(metrics.accuracy_score(trainY, predY))"
   ]
  },
  {
   "cell_type": "code",
   "execution_count": 63,
   "metadata": {
    "colab": {
     "base_uri": "https://localhost:8080/",
     "height": 105
    },
    "colab_type": "code",
    "id": "BhjOE1LL4vME",
    "outputId": "20d4b7bd-03b0-4c74-c959-9f6d3312b6b5"
   },
   "outputs": [
    {
     "data": {
      "text/plain": [
       "LogisticRegression(max_iter=1000, n_jobs=-1)"
      ]
     },
     "execution_count": 63,
     "metadata": {},
     "output_type": "execute_result"
    }
   ],
   "source": [
    "logreg.fit(trainX, trainY)"
   ]
  },
  {
   "cell_type": "code",
   "execution_count": 64,
   "metadata": {
    "colab": {},
    "colab_type": "code",
    "id": "5FpbFZ2I42uS"
   },
   "outputs": [],
   "source": [
    "predFinalY = logreg.predict(testX)"
   ]
  },
  {
   "cell_type": "code",
   "execution_count": 65,
   "metadata": {
    "colab": {
     "base_uri": "https://localhost:8080/",
     "height": 34
    },
    "colab_type": "code",
    "id": "nqazCDeW48lo",
    "outputId": "4de205c1-545c-4fbf-f819-755db003bbfb"
   },
   "outputs": [
    {
     "name": "stdout",
     "output_type": "stream",
     "text": [
      "0.9197550751017981\n"
     ]
    }
   ],
   "source": [
    "print(metrics.accuracy_score(testY, predFinalY))"
   ]
  },
  {
   "cell_type": "code",
   "execution_count": 66,
   "metadata": {
    "colab": {
     "base_uri": "https://localhost:8080/",
     "height": 52
    },
    "colab_type": "code",
    "id": "zZwt0FIG5Dcu",
    "outputId": "e9d1c515-3349-49b1-d438-5f6446e31125"
   },
   "outputs": [
    {
     "data": {
      "text/plain": [
       "array([[2130361,  165792],\n",
       "       [ 202845, 2094900]])"
      ]
     },
     "execution_count": 66,
     "metadata": {},
     "output_type": "execute_result"
    }
   ],
   "source": [
    "cnf_matrix_SMOTE = metrics.confusion_matrix(testY, predFinalY)\n",
    "cnf_matrix_SMOTE"
   ]
  },
  {
   "cell_type": "code",
   "execution_count": 67,
   "metadata": {
    "colab": {
     "base_uri": "https://localhost:8080/",
     "height": 343
    },
    "colab_type": "code",
    "id": "Es0CDNCj5JlF",
    "outputId": "9d7fda4b-ccc6-4dd7-dae3-ff32ab470dac"
   },
   "outputs": [
    {
     "data": {
      "text/plain": [
       "Text(0.5, 21.5, 'Predicted label SMOTE')"
      ]
     },
     "execution_count": 67,
     "metadata": {},
     "output_type": "execute_result"
    },
    {
     "data": {
      "image/png": "[encoded data removed]",
      "text/plain": [
       "<Figure size 864x432 with 2 Axes>"
      ]
     },
     "metadata": {},
     "output_type": "display_data"
    }
   ],
   "source": [
    "# name  of classes\n",
    "class_names=[0,1] \n",
    "fig, ax = plt.subplots()\n",
    "tick_marks = np.arange(len(class_names))\n",
    "plt.xticks(tick_marks, class_names,size=20)\n",
    "plt.yticks(tick_marks, class_names,size=20)\n",
    "\n",
    "# create heatmap\n",
    "sns.heatmap(pd.DataFrame(cnf_matrix_SMOTE), annot=True, cmap=\"Blues\" ,fmt='g')\n",
    "ax.xaxis.set_label_position(\"bottom\")\n",
    "plt.tight_layout()\n",
    "plt.title('Confusion matrix SMOTE',size = 20)\n",
    "plt.ylabel('Actual label SMOTE ',size = 20)\n",
    "plt.xlabel('Predicted label SMOTE',size = 20)"
   ]
  },
  {
   "cell_type": "code",
   "execution_count": 68,
   "metadata": {
    "colab": {
     "base_uri": "https://localhost:8080/",
     "height": 70
    },
    "colab_type": "code",
    "id": "27E4dTV-j-RG",
    "outputId": "27167d85-3520-4054-e552-281e2ac0913f"
   },
   "outputs": [
    {
     "name": "stdout",
     "output_type": "stream",
     "text": [
      "Accuracy: 0.9197550751017981\n",
      "Precision: 0.9266631633145958\n",
      "Recall: 0.9117199689260558\n"
     ]
    }
   ],
   "source": [
    "print(\"Accuracy:\",metrics.accuracy_score(testY, predFinalY))\n",
    "print(\"Precision:\",metrics.precision_score(testY, predFinalY))\n",
    "print(\"Recall:\",metrics.recall_score(testY, predFinalY))"
   ]
  },
  {
   "cell_type": "markdown",
   "metadata": {
    "colab_type": "text",
    "id": "LCFqX0v0X4hp"
   },
   "source": [
    "#    \n",
    "************************************************\n",
    "************************************************"
   ]
  },
  {
   "cell_type": "markdown",
   "metadata": {
    "colab_type": "text",
    "id": "WRxFIw40ZIk_"
   },
   "source": [
    "# 7. ***`SUBSETTING DATA/CREATING SAMPLES`***\n",
    "\n",
    "**NON STRATIFIED**\n",
    "\n",
    "    FeaturesDF - All Features\n",
    "    XData, YData - FeaturesDF split into x and y\n",
    "    X,Y - SMOTE of XData and YData\n",
    "    XSelect,YSelect- XData with select features\n",
    "    XSample,YSample - XSelect Sliced upto 'n' rows non stratified"
   ]
  },
  {
   "cell_type": "code",
   "execution_count": 69,
   "metadata": {
    "colab": {
     "base_uri": "https://localhost:8080/",
     "height": 35
    },
    "colab_type": "code",
    "id": "miJSZbk_m-tq",
    "outputId": "584b2d4c-f8ad-4f54-c2f4-fc4609679d90"
   },
   "outputs": [
    {
     "data": {
      "text/plain": [
       "(12182304, 35)"
      ]
     },
     "execution_count": 69,
     "metadata": {},
     "output_type": "execute_result"
    }
   ],
   "source": [
    "print(XData.shape)\n",
    "print(YData.shape)"
   ]
  },
  {
   "cell_type": "code",
   "execution_count": null,
   "metadata": {},
   "outputs": [],
   "source": [
    "# FOR ELECTRONICS DATA\n",
    "\n",
    "SelectFeatures = ['TotalEventsInSession', 'interactionTime',\n",
    "                  'NumTimesCartedinSession','NumTimesViewedinSession',             \n",
    "                         'maxPrice',    'minPrice',         \n",
    "           'AvgAmtCartedInSession',  'AvgAmtViewedInSession',\n",
    "        'NumCategoriesCartedinSession', 'NumCategoriesViewedinSession',\n",
    "                  'OverallAmtUserCarted','OverallAmtUserViewed',\n",
    "             'NumProdsCartedInSession',   'NumProdsViewedInSession'   ,\n",
    "                 'NumBrandsCartedInSession',   'NumBrandsViewedInSession'    ]"
   ]
  },
  {
   "cell_type": "markdown",
   "metadata": {
    "colab_type": "text",
    "id": "0iC-daXdTEax"
   },
   "source": [
    "**Subsets for clustering**"
   ]
  },
  {
   "cell_type": "code",
   "execution_count": null,
   "metadata": {
    "colab": {},
    "colab_type": "code",
    "id": "FLGC7Cp7Ga9i"
   },
   "outputs": [],
   "source": [
    "#Enter the desired subset size\n",
    "\n",
    "Subset_size = XData.shape[0] # All Rows\n",
    "\n",
    "# OR\n",
    "\n",
    "Subset_size = 60000 # Specified number of rows"
   ]
  },
  {
   "cell_type": "code",
   "execution_count": null,
   "metadata": {
    "colab": {},
    "colab_type": "code",
    "id": "9Mko0OJXaRvq"
   },
   "outputs": [],
   "source": [
    "#CREATING X SAMPLE\n",
    "\n",
    "XSelect = XData[SelectFeatures]\n",
    "XSample = XSelect[:Subset_size].iloc[:,:]"
   ]
  },
  {
   "cell_type": "code",
   "execution_count": null,
   "metadata": {},
   "outputs": [],
   "source": [
    "#Scaling X SAMPLE\n",
    "\n",
    "MMscaler = MinMaxScaler()\n",
    "SampleCol = XSample.columns\n",
    "XSample = MMscaler.fit_transform(XSample)\n",
    "XSample = pd.DataFrame(XSample,columns=SampleCol)\n",
    "\n",
    "print(XSample.shape)"
   ]
  },
  {
   "cell_type": "code",
   "execution_count": null,
   "metadata": {
    "colab": {},
    "colab_type": "code",
    "id": "03y_XB3eUryM"
   },
   "outputs": [],
   "source": [
    "#CREATING Y SAMPLE\n",
    "\n",
    "YSample = YData[:Subset_size]\n",
    "print(YSample.value_counts())"
   ]
  },
  {
   "cell_type": "markdown",
   "metadata": {
    "colab_type": "text",
    "id": "0NTCJ4B_YA28"
   },
   "source": [
    "#    \n",
    "************************************************\n",
    "************************************************"
   ]
  },
  {
   "cell_type": "markdown",
   "metadata": {
    "colab_type": "text",
    "id": "9L4WEj9GDBXT"
   },
   "source": [
    "# 8. ***`STRATIFIED SAMPLING`***\n",
    "\n",
    "XSampleSS - Stratified X Sample\n",
    "\n",
    "YSampleSS - Stratified Y Sample\n"
   ]
  },
  {
   "cell_type": "markdown",
   "metadata": {
    "colab_type": "text",
    "id": "SRt8BivG0x7T"
   },
   "source": [
    "## Generating Sample"
   ]
  },
  {
   "cell_type": "code",
   "execution_count": null,
   "metadata": {
    "colab": {},
    "colab_type": "code",
    "id": "L84PBb2wxs5F"
   },
   "outputs": [],
   "source": [
    "from sklearn.model_selection import StratifiedShuffleSplit\n",
    "sss = StratifiedShuffleSplit(n_splits=10, test_size = 0.009, random_state=42)\n"
   ]
  },
  {
   "cell_type": "code",
   "execution_count": null,
   "metadata": {
    "colab": {},
    "colab_type": "code",
    "id": "PfjVYeWByGRw"
   },
   "outputs": [],
   "source": [
    "for train_index, test_index in sss.split(XData, YData):\n",
    "    XSSS_Train = XData.loc[train_index]\n",
    "    XSSS_Test = XData.loc[test_index]\n",
    "    YSSS_Train = YData.loc[train_index]\n",
    "    YSSS_Test = YData.loc[test_index]\n"
   ]
  },
  {
   "cell_type": "code",
   "execution_count": null,
   "metadata": {
    "colab": {
     "base_uri": "https://localhost:8080/",
     "height": 53
    },
    "colab_type": "code",
    "id": "VGbOayCF96TB",
    "outputId": "a3256f39-6485-4eb7-f312-1e971610a65e"
   },
   "outputs": [],
   "source": [
    "XSampleSS = XSSS_Test\n",
    "print(XSampleSS.shape)\n",
    "YSampleSS = YSSS_Test\n",
    "print(YSampleSS.shape)"
   ]
  },
  {
   "cell_type": "code",
   "execution_count": null,
   "metadata": {},
   "outputs": [],
   "source": [
    "# FOR ELECTRONICS DATA\n",
    "\n",
    "SelectFeatures = ['TotalEventsInSession', 'interactionTime',\n",
    "                  'NumTimesCartedinSession','NumTimesViewedinSession',             \n",
    "                         'maxPrice',    'minPrice',         \n",
    "           'AvgAmtCartedInSession',  'AvgAmtViewedInSession',\n",
    "        'NumCategoriesCartedinSession', 'NumCategoriesViewedinSession',\n",
    "                  'OverallAmtUserCarted','OverallAmtUserViewed',\n",
    "             'NumProdsCartedInSession',   'NumProdsViewedInSession'   ,\n",
    "                 'NumBrandsCartedInSession',   'NumBrandsViewedInSession'    ]"
   ]
  },
  {
   "cell_type": "code",
   "execution_count": null,
   "metadata": {},
   "outputs": [],
   "source": [
    "#Creating Stratified X Sample\n",
    "\n",
    "XSampleSS = XSampleSS[SelectFeatures]\n",
    "\n",
    "XSampleSS = XSampleSS.iloc[:,:]\n",
    "SampleColSS = XSampleSS.columns\n",
    "\n",
    "XSampleSS = MMscaler.fit_transform(XSampleSS)\n",
    "XSampleSS = pd.DataFrame(XSampleSS,columns=SampleColSS)"
   ]
  },
  {
   "cell_type": "code",
   "execution_count": null,
   "metadata": {},
   "outputs": [],
   "source": [
    "#Creating Stratified Y Sample\n",
    "YSampleSS = YSampleSS.Purchase"
   ]
  },
  {
   "cell_type": "markdown",
   "metadata": {
    "colab_type": "text",
    "id": "i67r7vmXYIfg"
   },
   "source": [
    "#    \n",
    "************************************************\n",
    "************************************************"
   ]
  },
  {
   "cell_type": "markdown",
   "metadata": {
    "colab_type": "text",
    "id": "MPV2odYo93G0"
   },
   "source": [
    "# 9. ***`T-SNE`***"
   ]
  },
  {
   "cell_type": "markdown",
   "metadata": {},
   "source": [
    "## T-SNE FUNCTIONS SETUP"
   ]
  },
  {
   "cell_type": "code",
   "execution_count": null,
   "metadata": {
    "colab": {},
    "colab_type": "code",
    "id": "c9FtVX02lwQe"
   },
   "outputs": [],
   "source": [
    "def generate_tsne(sample_X, sample_Y, perp):\n",
    "    \n",
    "    \"\"\"\n",
    "    Parameter : Perplexity (5 to 50, increase with density)\n",
    "    Returns: tsne modified dataframe\n",
    "    \"\"\"\n",
    "    \n",
    "    tsne = TSNE(n_components=2, perplexity = perp, n_iter = 300, learning_rate=100)\n",
    "    tsne_results = tsne.fit_transform(sample_X)\n",
    "    df_tsne = pd.DataFrame(tsne_results, columns=['comp1','comp2'])\n",
    "    df_tsne['label'] = sample_Y.values\n",
    "    return df_tsne"
   ]
  },
  {
   "cell_type": "code",
   "execution_count": null,
   "metadata": {
    "colab": {},
    "colab_type": "code",
    "id": "ZCEmBkTC7ArG"
   },
   "outputs": [],
   "source": [
    "def viz_TSNE(df_tsne):\n",
    "    \n",
    "    \"\"\"\n",
    "    Parameter :tsne modified dataframe\n",
    "    Returns: Visualization of tsne\n",
    "    \"\"\"\n",
    "    \n",
    "    plt.figure(figsize=(9,6))\n",
    "    sns.lmplot(x='comp1', y='comp2', data = df_tsne, hue='label', fit_reg=False)\n",
    "    plt.show()"
   ]
  },
  {
   "cell_type": "markdown",
   "metadata": {
    "colab_type": "text",
    "id": "MXUidGN-Hyc3"
   },
   "source": [
    "## **TSNE ITERATIONS**"
   ]
  },
  {
   "cell_type": "markdown",
   "metadata": {
    "colab_type": "text",
    "id": "l8enaVk9IOEj"
   },
   "source": [
    "### Trial 1\n",
    "\n",
    "Using a Stratified Sample\n",
    "\n",
    "(n_components=2, perplexity = perp, n_iter = 1000, learning_rate=100)"
   ]
  },
  {
   "cell_type": "markdown",
   "metadata": {
    "colab_type": "text",
    "id": "ydhMDx6WRwBa"
   },
   "source": [
    "***1.1\n",
    "Perplexity = 10***"
   ]
  },
  {
   "cell_type": "code",
   "execution_count": null,
   "metadata": {
    "colab": {},
    "colab_type": "code",
    "id": "FPw_zDMWIROB"
   },
   "outputs": [],
   "source": [
    "dfSS10 = generate_tsne(XSampleSS, YSampleSS, 10)"
   ]
  },
  {
   "cell_type": "code",
   "execution_count": null,
   "metadata": {
    "colab": {
     "base_uri": "https://localhost:8080/",
     "height": 383
    },
    "colab_type": "code",
    "id": "p9dh1ue3Mw2d",
    "outputId": "1107fb24-dd28-4a18-9d1b-a6b81015e8a2"
   },
   "outputs": [],
   "source": [
    "viz_TSNE(dfSS10)"
   ]
  },
  {
   "cell_type": "markdown",
   "metadata": {
    "colab_type": "text",
    "id": "Wtw_kJ1MSEjY"
   },
   "source": [
    "***1.2\n",
    "Perplexity = 20***"
   ]
  },
  {
   "cell_type": "code",
   "execution_count": null,
   "metadata": {},
   "outputs": [],
   "source": [
    "dfSS20= generate_tsne(XSampleSS, YSampleSS, 20)"
   ]
  },
  {
   "cell_type": "code",
   "execution_count": null,
   "metadata": {},
   "outputs": [],
   "source": [
    "viz_TSNE(dfSS20)"
   ]
  },
  {
   "cell_type": "markdown",
   "metadata": {},
   "source": [
    "***1.3\n",
    "Perplexity = 30***"
   ]
  },
  {
   "cell_type": "code",
   "execution_count": null,
   "metadata": {
    "colab": {},
    "colab_type": "code",
    "id": "RK7hWWPkSLar"
   },
   "outputs": [],
   "source": [
    "dfSS30= generate_tsne(XSampleSS, YSampleSS, 30)"
   ]
  },
  {
   "cell_type": "code",
   "execution_count": null,
   "metadata": {
    "colab": {
     "base_uri": "https://localhost:8080/",
     "height": 383
    },
    "colab_type": "code",
    "id": "BP0evqmGTOFu",
    "outputId": "2f1768a5-bd1f-44a7-da02-41999f54ba3b"
   },
   "outputs": [],
   "source": [
    "viz_TSNE(dfSS30)"
   ]
  },
  {
   "cell_type": "markdown",
   "metadata": {
    "colab_type": "text",
    "id": "Wtw_kJ1MSEjY"
   },
   "source": [
    "***1.4\n",
    "Perplexity = 50***"
   ]
  },
  {
   "cell_type": "code",
   "execution_count": null,
   "metadata": {},
   "outputs": [],
   "source": [
    "dfSS50= generate_tsne(XSampleSS, YSampleSS, 50)"
   ]
  },
  {
   "cell_type": "code",
   "execution_count": null,
   "metadata": {},
   "outputs": [],
   "source": [
    "viz_TSNE(dfSS50)"
   ]
  },
  {
   "cell_type": "markdown",
   "metadata": {
    "colab_type": "text",
    "id": "UoFeMsWtUNLX"
   },
   "source": [
    "#    \n",
    "************************************************\n",
    "************************************************"
   ]
  },
  {
   "cell_type": "markdown",
   "metadata": {
    "colab_type": "text",
    "id": "dzgx9NNBk39S"
   },
   "source": [
    "# 10. ***`CLUSTERING`***"
   ]
  },
  {
   "cell_type": "markdown",
   "metadata": {
    "colab_type": "text",
    "id": "Q7xJb_mJHTHI"
   },
   "source": [
    "## DBSCAN FUNCTION"
   ]
  },
  {
   "cell_type": "code",
   "execution_count": null,
   "metadata": {
    "colab": {},
    "colab_type": "code",
    "id": "2DdNgZu1y1UM"
   },
   "outputs": [],
   "source": [
    "def dbscan(X, eps, min_samples):\n",
    "    \"\"\"\n",
    "    Parameters: \n",
    "    X: the X dataframe for clustering\n",
    "    eps : min distance between points in a cluster\n",
    "    min_samples: min number of data points in a sample\n",
    "    \n",
    "    Returns:\n",
    "        A DBSCAN visualiazation\n",
    "        Estimated number of clusters\n",
    "    \"\"\"   \n",
    "    \n",
    "    X = X.iloc[:,:].values\n",
    "    db = DBSCAN(eps=eps, min_samples=min_samples)\n",
    "    db.fit(X)\n",
    "    y_pred = db.fit_predict(X)\n",
    "    labels = db.labels_\n",
    "    n_clusters_ = len(set(labels)) - (1 if -1 in labels else 0)\n",
    "    plt.scatter(X[:,0], X[:,1],c=y_pred, cmap='Paired')\n",
    "    plt.title(\"DBSCAN\")\n",
    "    print('Estimated number of clusters: %d' % n_clusters_)"
   ]
  },
  {
   "cell_type": "markdown",
   "metadata": {
    "colab_type": "text",
    "id": "jxkxAJ4gd4NZ"
   },
   "source": [
    "####  *Finding Optimal Eps value for DBSCAN*"
   ]
  },
  {
   "cell_type": "code",
   "execution_count": null,
   "metadata": {
    "colab": {},
    "colab_type": "code",
    "id": "8ZkRDoJUvSKH"
   },
   "outputs": [],
   "source": [
    "NN = NearestNeighbors(n_neighbors=100)\n",
    "nbrs = NN.fit(XSampleSS)"
   ]
  },
  {
   "cell_type": "code",
   "execution_count": null,
   "metadata": {
    "colab": {},
    "colab_type": "code",
    "id": "5CGXCsRf85Oh"
   },
   "outputs": [],
   "source": [
    "distances, indices = nbrs.kneighbors(XSampleSS)\n",
    "distances = np.sort(distances, axis=0)\n",
    "distances = distances[:,1]\n",
    "plt.plot(distances)\n",
    "plt.ylim([0,1])\n",
    "plt.show()"
   ]
  },
  {
   "cell_type": "markdown",
   "metadata": {
    "colab_type": "text",
    "id": "odo10aeRA6uh"
   },
   "source": [
    "## CLUSTERING after PCA"
   ]
  },
  {
   "cell_type": "code",
   "execution_count": null,
   "metadata": {
    "colab": {
     "base_uri": "https://localhost:8080/",
     "height": 302
    },
    "colab_type": "code",
    "id": "P23Fe5M7BvvH",
    "outputId": "05faf908-f211-4a0d-fa8d-a99535dd0f22"
   },
   "outputs": [],
   "source": [
    "# FITTING the stratified sample through PCA\n",
    "pcaNC2 = PCA(n_components=2)\n",
    "pcaNC2.fit(XSampleSS)"
   ]
  },
  {
   "cell_type": "code",
   "execution_count": null,
   "metadata": {
    "colab": {
     "base_uri": "https://localhost:8080/"
    },
    "colab_type": "code",
    "id": "0JNuL_o_CFv5",
    "outputId": "412e806b-803e-45ac-ae97-237230e9b885"
   },
   "outputs": [],
   "source": [
    "# Transforming the stratified sample through PCA\n",
    "XSampleSS_pca = pcaNC2.transform(XSampleSS)"
   ]
  },
  {
   "cell_type": "code",
   "execution_count": null,
   "metadata": {
    "colab": {
     "base_uri": "https://localhost:8080/"
    },
    "colab_type": "code",
    "id": "slA9dZFmCpaX",
    "outputId": "a9e36d7c-04ed-4aaa-c3fd-a055f77c3cc2"
   },
   "outputs": [],
   "source": [
    "#RUNNING DBSCAN WITH EPS = 0.005 AND MIN_SAMPLE = 1000\n",
    "\n",
    "dbscan(pd.DataFrame(XSampleSS_pca),0.005,1000)"
   ]
  },
  {
   "cell_type": "code",
   "execution_count": null,
   "metadata": {
    "colab": {
     "base_uri": "https://localhost:8080/"
    },
    "colab_type": "code",
    "id": "U-tkvrSQCrAe",
    "outputId": "67099e6f-b584-42fc-a0e4-5330e2a9c34c"
   },
   "outputs": [],
   "source": [
    "#RUNNING DBSCAN WITH EPS = 0.005 AND MIN_SAMPLE = 100\n",
    "\n",
    "dbscan(pd.DataFrame(XSampleSS_pca),0.005,100)"
   ]
  },
  {
   "cell_type": "code",
   "execution_count": null,
   "metadata": {},
   "outputs": [],
   "source": [
    "#RUNNING DBSCAN WITH EPS = 0.03\n",
    "\n",
    "dbscan(pd.DataFrame(XSampleSS_pca),0.03,1000)"
   ]
  },
  {
   "cell_type": "markdown",
   "metadata": {
    "colab_type": "text",
    "id": "XYPoGgBFUqoa"
   },
   "source": [
    "## CLUSTERING after TSNE"
   ]
  },
  {
   "cell_type": "code",
   "execution_count": null,
   "metadata": {
    "colab": {
     "base_uri": "https://localhost:8080/",
     "height": 80
    },
    "colab_type": "code",
    "id": "LNOxj8T-UxnL",
    "outputId": "2fd90a84-ac18-4c37-d724-0a9b36e5fe59"
   },
   "outputs": [],
   "source": [
    "dfX10 = dfSS10.loc[:,:'comp2']\n",
    "dbscan(dfX10, 0.005, 1000)"
   ]
  },
  {
   "cell_type": "code",
   "execution_count": null,
   "metadata": {
    "colab": {
     "base_uri": "https://localhost:8080/",
     "height": 302
    },
    "colab_type": "code",
    "id": "E_f3hSLpWysi",
    "outputId": "38f546c0-5b82-4809-dee6-c0abca4accab",
    "scrolled": true
   },
   "outputs": [],
   "source": [
    "dfX20 = dfSS20.loc[:,:'comp2']\n",
    "dbscan(dfX20, 0.007, 1000)"
   ]
  },
  {
   "cell_type": "code",
   "execution_count": null,
   "metadata": {},
   "outputs": [],
   "source": [
    "dfX30 = dfSS30.loc[:,:'comp2']\n",
    "dbscan(dfX30, 0.007, 1000)"
   ]
  },
  {
   "cell_type": "markdown",
   "metadata": {},
   "source": [
    "## CLUSTERING after PCA + TSNE"
   ]
  },
  {
   "cell_type": "markdown",
   "metadata": {},
   "source": [
    "**STEP 1 PCA**"
   ]
  },
  {
   "cell_type": "code",
   "execution_count": null,
   "metadata": {},
   "outputs": [],
   "source": [
    "# FITTING the stratified sample through PCA\n",
    "pcaNC2 = PCA(n_components=2)\n",
    "pcaNC2.fit(XSampleSS)"
   ]
  },
  {
   "cell_type": "code",
   "execution_count": null,
   "metadata": {},
   "outputs": [],
   "source": [
    "# Transforming the stratified sample through PCA\n",
    "XSS_pca = pcaNC2.transform(XSampleSS)"
   ]
  },
  {
   "cell_type": "markdown",
   "metadata": {},
   "source": [
    "**STEP 2 TSNE**"
   ]
  },
  {
   "cell_type": "code",
   "execution_count": null,
   "metadata": {},
   "outputs": [],
   "source": [
    "# Running TSNE with perplexity = 20\n",
    "df_tsne_pca = generate_tsne(XSS_pca, YSampleSS, 20)"
   ]
  },
  {
   "cell_type": "code",
   "execution_count": null,
   "metadata": {},
   "outputs": [],
   "source": [
    "viz_TSNE(df_tsne_pca)"
   ]
  },
  {
   "cell_type": "markdown",
   "metadata": {},
   "source": [
    "**STEP 3 Cluster Visualizations**"
   ]
  },
  {
   "cell_type": "code",
   "execution_count": null,
   "metadata": {},
   "outputs": [],
   "source": [
    "#clustering using DBSCAN with eps = 0.03 and min_sample = 1000\n",
    "dbscan(pd.DataFrame(df_tsne_pca),0.03,1000)"
   ]
  },
  {
   "cell_type": "markdown",
   "metadata": {
    "colab_type": "text",
    "id": "endX1LsSYMv5"
   },
   "source": [
    "#    \n",
    "************************************************\n",
    "************************************************"
   ]
  }
 ],
 "metadata": {
  "accelerator": "TPU",
  "colab": {
   "collapsed_sections": [
    "bT8i5xunlOfP",
    "ECsPJGRZnQA0",
    "6biIT_-vmIJ1",
    "gRuRzNY7uyzq",
    "p5QCUXDPmIKE",
    "OBf57YhOmIKb",
    "1bLGe9EhosTZ",
    "CrK1G_NrmIKb",
    "j0O195PMmIKe",
    "pXWshG_GmIKg",
    "xqni0t8qmIKi",
    "zfoHTadLmIKm",
    "9xj6g7WYmIKp",
    "WOa46DPOmIKr",
    "4zhcAXGFmIKu",
    "zENtm4FMmIKw",
    "fr5VhJALmIK0",
    "z3Pj1K77mIK5",
    "vUhhAGmjmIK-",
    "B2ZOAk6EmILP",
    "SIQBpFGKmILZ",
    "JTZcZUY76jRt",
    "AiYoEPRvmILf",
    "LC-3jPVumILY",
    "2yFnUuk_mILi",
    "qBx-40eZmILq",
    "meybcudd3eaK",
    "blJutxAqTcty",
    "TwMhzw8GUJuG",
    "YSdOTIkg6OKu",
    "ezEy7J5amILv",
    "vWLhQF4juAD8",
    "WRxFIw40ZIk_",
    "SRt8BivG0x7T",
    "MPV2odYo93G0",
    "MXUidGN-Hyc3",
    "KThRImX-qys3",
    "pqf_rd2BIJTs",
    "j0MLR5vlrFMW",
    "_2_Lg6tg6EE1",
    "QpmtUAtv8jep",
    "905TestGLC8N",
    "dzgx9NNBk39S",
    "AZo0SeKiKJbi",
    "Q7xJb_mJHTHI",
    "jxkxAJ4gd4NZ",
    "zYSi6r73Bb9P",
    "XYPoGgBFUqoa"
   ],
   "machine_shape": "hm",
   "name": "NEW Session Features - Electronics.ipnyb",
   "provenance": []
  },
  "kernelspec": {
   "display_name": "Python 3",
   "language": "python",
   "name": "python3"
  },
  "language_info": {
   "codemirror_mode": {
    "name": "ipython",
    "version": 3
   },
   "file_extension": ".py",
   "mimetype": "text/x-python",
   "name": "python",
   "nbconvert_exporter": "python",
   "pygments_lexer": "ipython3",
   "version": "3.8.3"
  }
 },
 "nbformat": 4,
 "nbformat_minor": 1
}
