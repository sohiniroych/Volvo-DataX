{
 "cells": [
  {
   "cell_type": "code",
   "execution_count": 1,
   "metadata": {},
   "outputs": [],
   "source": [
    "## Importing required Libraries\n",
    "import os\n",
    "import tensorflow as tf\n",
    "from tensorboard.plugins import projector\n",
    "import numpy as np\n",
    "import pandas as pd\n",
    "from sklearn.preprocessing import StandardScaler\n",
    "from sklearn.decomposition import PCA\n",
    "\n",
    "tf.compat.v1.enable_eager_execution()"
   ]
  },
  {
   "cell_type": "code",
   "execution_count": 2,
   "metadata": {},
   "outputs": [],
   "source": [
    "data = pd.read_csv('2019-Dec.csv')"
   ]
  },
  {
   "cell_type": "code",
   "execution_count": 3,
   "metadata": {},
   "outputs": [
    {
     "data": {
      "text/html": [
       "<div>\n",
       "<style scoped>\n",
       "    .dataframe tbody tr th:only-of-type {\n",
       "        vertical-align: middle;\n",
       "    }\n",
       "\n",
       "    .dataframe tbody tr th {\n",
       "        vertical-align: top;\n",
       "    }\n",
       "\n",
       "    .dataframe thead th {\n",
       "        text-align: right;\n",
       "    }\n",
       "</style>\n",
       "<table border=\"1\" class=\"dataframe\">\n",
       "  <thead>\n",
       "    <tr style=\"text-align: right;\">\n",
       "      <th></th>\n",
       "      <th>event_time</th>\n",
       "      <th>event_type</th>\n",
       "      <th>product_id</th>\n",
       "      <th>category_id</th>\n",
       "      <th>category_code</th>\n",
       "      <th>brand</th>\n",
       "      <th>price</th>\n",
       "      <th>user_id</th>\n",
       "      <th>user_session</th>\n",
       "    </tr>\n",
       "  </thead>\n",
       "  <tbody>\n",
       "    <tr>\n",
       "      <th>0</th>\n",
       "      <td>2019-12-01 00:00:00 UTC</td>\n",
       "      <td>remove_from_cart</td>\n",
       "      <td>5712790</td>\n",
       "      <td>1487580005268456287</td>\n",
       "      <td>NaN</td>\n",
       "      <td>f.o.x</td>\n",
       "      <td>6.27</td>\n",
       "      <td>576802932</td>\n",
       "      <td>51d85cb0-897f-48d2-918b-ad63965c12dc</td>\n",
       "    </tr>\n",
       "    <tr>\n",
       "      <th>1</th>\n",
       "      <td>2019-12-01 00:00:00 UTC</td>\n",
       "      <td>view</td>\n",
       "      <td>5764655</td>\n",
       "      <td>1487580005411062629</td>\n",
       "      <td>NaN</td>\n",
       "      <td>cnd</td>\n",
       "      <td>29.05</td>\n",
       "      <td>412120092</td>\n",
       "      <td>8adff31e-2051-4894-9758-224bfa8aec18</td>\n",
       "    </tr>\n",
       "    <tr>\n",
       "      <th>2</th>\n",
       "      <td>2019-12-01 00:00:02 UTC</td>\n",
       "      <td>cart</td>\n",
       "      <td>4958</td>\n",
       "      <td>1487580009471148064</td>\n",
       "      <td>NaN</td>\n",
       "      <td>runail</td>\n",
       "      <td>1.19</td>\n",
       "      <td>494077766</td>\n",
       "      <td>c99a50e8-2fac-4c4d-89ec-41c05f114554</td>\n",
       "    </tr>\n",
       "    <tr>\n",
       "      <th>3</th>\n",
       "      <td>2019-12-01 00:00:05 UTC</td>\n",
       "      <td>view</td>\n",
       "      <td>5848413</td>\n",
       "      <td>1487580007675986893</td>\n",
       "      <td>NaN</td>\n",
       "      <td>freedecor</td>\n",
       "      <td>0.79</td>\n",
       "      <td>348405118</td>\n",
       "      <td>722ffea5-73c0-4924-8e8f-371ff8031af4</td>\n",
       "    </tr>\n",
       "    <tr>\n",
       "      <th>4</th>\n",
       "      <td>2019-12-01 00:00:07 UTC</td>\n",
       "      <td>view</td>\n",
       "      <td>5824148</td>\n",
       "      <td>1487580005511725929</td>\n",
       "      <td>NaN</td>\n",
       "      <td>NaN</td>\n",
       "      <td>5.56</td>\n",
       "      <td>576005683</td>\n",
       "      <td>28172809-7e4a-45ce-bab0-5efa90117cd5</td>\n",
       "    </tr>\n",
       "  </tbody>\n",
       "</table>\n",
       "</div>"
      ],
      "text/plain": [
       "                event_time        event_type  product_id          category_id  \\\n",
       "0  2019-12-01 00:00:00 UTC  remove_from_cart     5712790  1487580005268456287   \n",
       "1  2019-12-01 00:00:00 UTC              view     5764655  1487580005411062629   \n",
       "2  2019-12-01 00:00:02 UTC              cart        4958  1487580009471148064   \n",
       "3  2019-12-01 00:00:05 UTC              view     5848413  1487580007675986893   \n",
       "4  2019-12-01 00:00:07 UTC              view     5824148  1487580005511725929   \n",
       "\n",
       "  category_code      brand  price    user_id  \\\n",
       "0           NaN      f.o.x   6.27  576802932   \n",
       "1           NaN        cnd  29.05  412120092   \n",
       "2           NaN     runail   1.19  494077766   \n",
       "3           NaN  freedecor   0.79  348405118   \n",
       "4           NaN        NaN   5.56  576005683   \n",
       "\n",
       "                           user_session  \n",
       "0  51d85cb0-897f-48d2-918b-ad63965c12dc  \n",
       "1  8adff31e-2051-4894-9758-224bfa8aec18  \n",
       "2  c99a50e8-2fac-4c4d-89ec-41c05f114554  \n",
       "3  722ffea5-73c0-4924-8e8f-371ff8031af4  \n",
       "4  28172809-7e4a-45ce-bab0-5efa90117cd5  "
      ]
     },
     "execution_count": 3,
     "metadata": {},
     "output_type": "execute_result"
    }
   ],
   "source": [
    "data.head()"
   ]
  },
  {
   "cell_type": "code",
   "execution_count": 4,
   "metadata": {},
   "outputs": [],
   "source": [
    "data['event_time'] = pd.to_datetime(data['event_time'],infer_datetime_format=True)"
   ]
  },
  {
   "cell_type": "code",
   "execution_count": 5,
   "metadata": {},
   "outputs": [],
   "source": [
    "df = data.drop(['event_time'], axis = 1)"
   ]
  },
  {
   "cell_type": "code",
   "execution_count": 6,
   "metadata": {},
   "outputs": [],
   "source": [
    "## Get working directory\n",
    "PATH = os.getcwd()\n",
    "## Path to save the embedding and checkpoints generated\n",
    "LOG_DIR = PATH + '/project-tensorboard/log-1/'"
   ]
  },
  {
   "cell_type": "code",
   "execution_count": 7,
   "metadata": {},
   "outputs": [],
   "source": [
    "# one hot encoding\n",
    "event_type = pd.get_dummies(df['event_type'])\n",
    "df = pd.concat([df,event_type], axis=1)\n"
   ]
  },
  {
   "cell_type": "code",
   "execution_count": 8,
   "metadata": {},
   "outputs": [],
   "source": [
    "df = df.drop(['event_type'], axis = 1)"
   ]
  },
  {
   "cell_type": "code",
   "execution_count": 9,
   "metadata": {},
   "outputs": [],
   "source": [
    "df = df.drop(['brand'], axis = 1)"
   ]
  },
  {
   "cell_type": "code",
   "execution_count": 10,
   "metadata": {},
   "outputs": [],
   "source": [
    "df = df.drop(['category_code'], axis = 1)"
   ]
  },
  {
   "cell_type": "code",
   "execution_count": 11,
   "metadata": {},
   "outputs": [],
   "source": [
    "df = df.drop(['user_session'], axis = 1)"
   ]
  },
  {
   "cell_type": "code",
   "execution_count": 12,
   "metadata": {},
   "outputs": [
    {
     "data": {
      "text/html": [
       "<div>\n",
       "<style scoped>\n",
       "    .dataframe tbody tr th:only-of-type {\n",
       "        vertical-align: middle;\n",
       "    }\n",
       "\n",
       "    .dataframe tbody tr th {\n",
       "        vertical-align: top;\n",
       "    }\n",
       "\n",
       "    .dataframe thead th {\n",
       "        text-align: right;\n",
       "    }\n",
       "</style>\n",
       "<table border=\"1\" class=\"dataframe\">\n",
       "  <thead>\n",
       "    <tr style=\"text-align: right;\">\n",
       "      <th></th>\n",
       "      <th>product_id</th>\n",
       "      <th>category_id</th>\n",
       "      <th>price</th>\n",
       "      <th>user_id</th>\n",
       "      <th>cart</th>\n",
       "      <th>purchase</th>\n",
       "      <th>remove_from_cart</th>\n",
       "      <th>view</th>\n",
       "    </tr>\n",
       "  </thead>\n",
       "  <tbody>\n",
       "    <tr>\n",
       "      <th>0</th>\n",
       "      <td>5712790</td>\n",
       "      <td>1487580005268456287</td>\n",
       "      <td>6.27</td>\n",
       "      <td>576802932</td>\n",
       "      <td>0</td>\n",
       "      <td>0</td>\n",
       "      <td>1</td>\n",
       "      <td>0</td>\n",
       "    </tr>\n",
       "    <tr>\n",
       "      <th>1</th>\n",
       "      <td>5764655</td>\n",
       "      <td>1487580005411062629</td>\n",
       "      <td>29.05</td>\n",
       "      <td>412120092</td>\n",
       "      <td>0</td>\n",
       "      <td>0</td>\n",
       "      <td>0</td>\n",
       "      <td>1</td>\n",
       "    </tr>\n",
       "    <tr>\n",
       "      <th>2</th>\n",
       "      <td>4958</td>\n",
       "      <td>1487580009471148064</td>\n",
       "      <td>1.19</td>\n",
       "      <td>494077766</td>\n",
       "      <td>1</td>\n",
       "      <td>0</td>\n",
       "      <td>0</td>\n",
       "      <td>0</td>\n",
       "    </tr>\n",
       "    <tr>\n",
       "      <th>3</th>\n",
       "      <td>5848413</td>\n",
       "      <td>1487580007675986893</td>\n",
       "      <td>0.79</td>\n",
       "      <td>348405118</td>\n",
       "      <td>0</td>\n",
       "      <td>0</td>\n",
       "      <td>0</td>\n",
       "      <td>1</td>\n",
       "    </tr>\n",
       "    <tr>\n",
       "      <th>4</th>\n",
       "      <td>5824148</td>\n",
       "      <td>1487580005511725929</td>\n",
       "      <td>5.56</td>\n",
       "      <td>576005683</td>\n",
       "      <td>0</td>\n",
       "      <td>0</td>\n",
       "      <td>0</td>\n",
       "      <td>1</td>\n",
       "    </tr>\n",
       "    <tr>\n",
       "      <th>...</th>\n",
       "      <td>...</td>\n",
       "      <td>...</td>\n",
       "      <td>...</td>\n",
       "      <td>...</td>\n",
       "      <td>...</td>\n",
       "      <td>...</td>\n",
       "      <td>...</td>\n",
       "      <td>...</td>\n",
       "    </tr>\n",
       "    <tr>\n",
       "      <th>3533281</th>\n",
       "      <td>5683350</td>\n",
       "      <td>1487580005671109489</td>\n",
       "      <td>2.84</td>\n",
       "      <td>536812729</td>\n",
       "      <td>0</td>\n",
       "      <td>0</td>\n",
       "      <td>0</td>\n",
       "      <td>1</td>\n",
       "    </tr>\n",
       "    <tr>\n",
       "      <th>3533282</th>\n",
       "      <td>5888097</td>\n",
       "      <td>1487580013388628160</td>\n",
       "      <td>179.05</td>\n",
       "      <td>503658154</td>\n",
       "      <td>0</td>\n",
       "      <td>0</td>\n",
       "      <td>0</td>\n",
       "      <td>1</td>\n",
       "    </tr>\n",
       "    <tr>\n",
       "      <th>3533283</th>\n",
       "      <td>59975</td>\n",
       "      <td>1487580012096782476</td>\n",
       "      <td>7.14</td>\n",
       "      <td>595414541</td>\n",
       "      <td>0</td>\n",
       "      <td>0</td>\n",
       "      <td>0</td>\n",
       "      <td>1</td>\n",
       "    </tr>\n",
       "    <tr>\n",
       "      <th>3533284</th>\n",
       "      <td>5775982</td>\n",
       "      <td>1783999063314661546</td>\n",
       "      <td>11.90</td>\n",
       "      <td>397780878</td>\n",
       "      <td>0</td>\n",
       "      <td>0</td>\n",
       "      <td>0</td>\n",
       "      <td>1</td>\n",
       "    </tr>\n",
       "    <tr>\n",
       "      <th>3533285</th>\n",
       "      <td>5635090</td>\n",
       "      <td>1487580005754995573</td>\n",
       "      <td>4.44</td>\n",
       "      <td>420652863</td>\n",
       "      <td>0</td>\n",
       "      <td>0</td>\n",
       "      <td>0</td>\n",
       "      <td>1</td>\n",
       "    </tr>\n",
       "  </tbody>\n",
       "</table>\n",
       "<p>3533286 rows × 8 columns</p>\n",
       "</div>"
      ],
      "text/plain": [
       "         product_id          category_id   price    user_id  cart  purchase  \\\n",
       "0           5712790  1487580005268456287    6.27  576802932     0         0   \n",
       "1           5764655  1487580005411062629   29.05  412120092     0         0   \n",
       "2              4958  1487580009471148064    1.19  494077766     1         0   \n",
       "3           5848413  1487580007675986893    0.79  348405118     0         0   \n",
       "4           5824148  1487580005511725929    5.56  576005683     0         0   \n",
       "...             ...                  ...     ...        ...   ...       ...   \n",
       "3533281     5683350  1487580005671109489    2.84  536812729     0         0   \n",
       "3533282     5888097  1487580013388628160  179.05  503658154     0         0   \n",
       "3533283       59975  1487580012096782476    7.14  595414541     0         0   \n",
       "3533284     5775982  1783999063314661546   11.90  397780878     0         0   \n",
       "3533285     5635090  1487580005754995573    4.44  420652863     0         0   \n",
       "\n",
       "         remove_from_cart  view  \n",
       "0                       1     0  \n",
       "1                       0     1  \n",
       "2                       0     0  \n",
       "3                       0     1  \n",
       "4                       0     1  \n",
       "...                   ...   ...  \n",
       "3533281                 0     1  \n",
       "3533282                 0     1  \n",
       "3533283                 0     1  \n",
       "3533284                 0     1  \n",
       "3533285                 0     1  \n",
       "\n",
       "[3533286 rows x 8 columns]"
      ]
     },
     "execution_count": 12,
     "metadata": {},
     "output_type": "execute_result"
    }
   ],
   "source": [
    "df"
   ]
  },
  {
   "cell_type": "code",
   "execution_count": 13,
   "metadata": {},
   "outputs": [],
   "source": [
    "# Generating PCA and \n",
    "pca = PCA(n_components=8,\n",
    "         random_state = 123,\n",
    "         svd_solver = 'auto'\n",
    "         )\n",
    "df_pca = pd.DataFrame(pca.fit_transform(df))\n",
    "df_pca = df_pca.values"
   ]
  },
  {
   "cell_type": "markdown",
   "metadata": {},
   "source": [
    "# Tensorflow 2 SKIP THIS PART"
   ]
  },
  {
   "cell_type": "code",
   "execution_count": 14,
   "metadata": {},
   "outputs": [],
   "source": [
    "## TensorFlow Variable from data\n",
    "#embeddings = tf.Variable(df_pca, name = 'embeddings')"
   ]
  },
  {
   "cell_type": "code",
   "execution_count": 20,
   "metadata": {
    "collapsed": true
   },
   "outputs": [
    {
     "data": {
      "text/plain": [
       "'/Users/arielliwenxi/Downloads/426888_1015349_bundle_archive/project-tensorboard/log-1//model.ckpt-1'"
      ]
     },
     "execution_count": 20,
     "metadata": {},
     "output_type": "execute_result"
    }
   ],
   "source": [
    "'''embeddings = tf.Variable(df_pca, name='embeddings')\n",
    "CHECKPOINT_FILE = LOG_DIR + '/model.ckpt'\n",
    "ckpt = tf.train.Checkpoint(embeddings=embeddings)\n",
    "ckpt.save(CHECKPOINT_FILE)'''"
   ]
  },
  {
   "cell_type": "code",
   "execution_count": 21,
   "metadata": {},
   "outputs": [],
   "source": [
    "'''reader = tf.train.load_checkpoint(LOG_DIR)\n",
    "map = reader.get_variable_to_shape_map()\n",
    "key_to_use = \"\"\n",
    "for key in map:\n",
    "    if \"embeddings\" in key:\n",
    "        key_to_use = key'''"
   ]
  },
  {
   "cell_type": "code",
   "execution_count": 22,
   "metadata": {},
   "outputs": [],
   "source": [
    "'''config = projector.ProjectorConfig()\n",
    "embedding = config.embeddings.add()\n",
    "embedding.tensor_name = key_to_use'''"
   ]
  },
  {
   "cell_type": "code",
   "execution_count": 29,
   "metadata": {
    "scrolled": true
   },
   "outputs": [
    {
     "ename": "TypeError",
     "evalue": "expected str, bytes or os.PathLike object, not ResourceSummaryWriter",
     "output_type": "error",
     "traceback": [
      "\u001b[0;31m---------------------------------------------------------------------------\u001b[0m",
      "\u001b[0;31mTypeError\u001b[0m                                 Traceback (most recent call last)",
      "\u001b[0;32m<ipython-input-29-64d483a8a703>\u001b[0m in \u001b[0;36m<module>\u001b[0;34m\u001b[0m\n\u001b[1;32m      1\u001b[0m \u001b[0mwriter\u001b[0m \u001b[0;34m=\u001b[0m \u001b[0mtf\u001b[0m\u001b[0;34m.\u001b[0m\u001b[0msummary\u001b[0m\u001b[0;34m.\u001b[0m\u001b[0mcreate_file_writer\u001b[0m\u001b[0;34m(\u001b[0m\u001b[0mLOG_DIR\u001b[0m\u001b[0;34m)\u001b[0m\u001b[0;34m\u001b[0m\u001b[0;34m\u001b[0m\u001b[0m\n\u001b[0;32m----> 2\u001b[0;31m \u001b[0mprojector\u001b[0m\u001b[0;34m.\u001b[0m\u001b[0mvisualize_embeddings\u001b[0m\u001b[0;34m(\u001b[0m\u001b[0mwriter\u001b[0m\u001b[0;34m,\u001b[0m \u001b[0mconfig\u001b[0m\u001b[0;34m)\u001b[0m\u001b[0;34m\u001b[0m\u001b[0;34m\u001b[0m\u001b[0m\n\u001b[0m",
      "\u001b[0;32m~/opt/anaconda3/lib/python3.7/site-packages/tensorboard/plugins/projector/__init__.py\u001b[0m in \u001b[0;36mvisualize_embeddings\u001b[0;34m(logdir, config)\u001b[0m\n\u001b[1;32m     61\u001b[0m   \u001b[0;31m# Saving the config file in the logdir.\u001b[0m\u001b[0;34m\u001b[0m\u001b[0;34m\u001b[0m\u001b[0;34m\u001b[0m\u001b[0m\n\u001b[1;32m     62\u001b[0m   \u001b[0mconfig_pbtxt\u001b[0m \u001b[0;34m=\u001b[0m \u001b[0m_text_format\u001b[0m\u001b[0;34m.\u001b[0m\u001b[0mMessageToString\u001b[0m\u001b[0;34m(\u001b[0m\u001b[0mconfig\u001b[0m\u001b[0;34m)\u001b[0m\u001b[0;34m\u001b[0m\u001b[0;34m\u001b[0m\u001b[0m\n\u001b[0;32m---> 63\u001b[0;31m   \u001b[0mpath\u001b[0m \u001b[0;34m=\u001b[0m \u001b[0mos\u001b[0m\u001b[0;34m.\u001b[0m\u001b[0mpath\u001b[0m\u001b[0;34m.\u001b[0m\u001b[0mjoin\u001b[0m\u001b[0;34m(\u001b[0m\u001b[0mlogdir\u001b[0m\u001b[0;34m,\u001b[0m \u001b[0m_projector_plugin\u001b[0m\u001b[0;34m.\u001b[0m\u001b[0mPROJECTOR_FILENAME\u001b[0m\u001b[0;34m)\u001b[0m\u001b[0;34m\u001b[0m\u001b[0;34m\u001b[0m\u001b[0m\n\u001b[0m\u001b[1;32m     64\u001b[0m   \u001b[0;32mwith\u001b[0m \u001b[0mtf\u001b[0m\u001b[0;34m.\u001b[0m\u001b[0mio\u001b[0m\u001b[0;34m.\u001b[0m\u001b[0mgfile\u001b[0m\u001b[0;34m.\u001b[0m\u001b[0mGFile\u001b[0m\u001b[0;34m(\u001b[0m\u001b[0mpath\u001b[0m\u001b[0;34m,\u001b[0m \u001b[0;34m'w'\u001b[0m\u001b[0;34m)\u001b[0m \u001b[0;32mas\u001b[0m \u001b[0mf\u001b[0m\u001b[0;34m:\u001b[0m\u001b[0;34m\u001b[0m\u001b[0;34m\u001b[0m\u001b[0m\n\u001b[1;32m     65\u001b[0m     \u001b[0mf\u001b[0m\u001b[0;34m.\u001b[0m\u001b[0mwrite\u001b[0m\u001b[0;34m(\u001b[0m\u001b[0mconfig_pbtxt\u001b[0m\u001b[0;34m)\u001b[0m\u001b[0;34m\u001b[0m\u001b[0;34m\u001b[0m\u001b[0m\n",
      "\u001b[0;32m~/opt/anaconda3/lib/python3.7/posixpath.py\u001b[0m in \u001b[0;36mjoin\u001b[0;34m(a, *p)\u001b[0m\n\u001b[1;32m     78\u001b[0m     \u001b[0mwill\u001b[0m \u001b[0mbe\u001b[0m \u001b[0mdiscarded\u001b[0m\u001b[0;34m.\u001b[0m  \u001b[0mAn\u001b[0m \u001b[0mempty\u001b[0m \u001b[0mlast\u001b[0m \u001b[0mpart\u001b[0m \u001b[0mwill\u001b[0m \u001b[0mresult\u001b[0m \u001b[0;32min\u001b[0m \u001b[0ma\u001b[0m \u001b[0mpath\u001b[0m \u001b[0mthat\u001b[0m\u001b[0;34m\u001b[0m\u001b[0;34m\u001b[0m\u001b[0m\n\u001b[1;32m     79\u001b[0m     ends with a separator.\"\"\"\n\u001b[0;32m---> 80\u001b[0;31m     \u001b[0ma\u001b[0m \u001b[0;34m=\u001b[0m \u001b[0mos\u001b[0m\u001b[0;34m.\u001b[0m\u001b[0mfspath\u001b[0m\u001b[0;34m(\u001b[0m\u001b[0ma\u001b[0m\u001b[0;34m)\u001b[0m\u001b[0;34m\u001b[0m\u001b[0;34m\u001b[0m\u001b[0m\n\u001b[0m\u001b[1;32m     81\u001b[0m     \u001b[0msep\u001b[0m \u001b[0;34m=\u001b[0m \u001b[0m_get_sep\u001b[0m\u001b[0;34m(\u001b[0m\u001b[0ma\u001b[0m\u001b[0;34m)\u001b[0m\u001b[0;34m\u001b[0m\u001b[0;34m\u001b[0m\u001b[0m\n\u001b[1;32m     82\u001b[0m     \u001b[0mpath\u001b[0m \u001b[0;34m=\u001b[0m \u001b[0ma\u001b[0m\u001b[0;34m\u001b[0m\u001b[0;34m\u001b[0m\u001b[0m\n",
      "\u001b[0;31mTypeError\u001b[0m: expected str, bytes or os.PathLike object, not ResourceSummaryWriter"
     ]
    }
   ],
   "source": [
    "'''writer = tf.summary.create_file_writer(LOG_DIR)\n",
    "projector.visualize_embeddings(writer, config)'''"
   ]
  },
  {
   "cell_type": "markdown",
   "metadata": {},
   "source": [
    "# Tensorflow 1"
   ]
  },
  {
   "cell_type": "code",
   "execution_count": 30,
   "metadata": {},
   "outputs": [],
   "source": [
    "tf.compat.v1.disable_eager_execution()"
   ]
  },
  {
   "cell_type": "code",
   "execution_count": 33,
   "metadata": {},
   "outputs": [],
   "source": [
    "embeddings = tf.compat.v1.Variable(df_pca, name='embeddings')\n",
    "CHECKPOINT_FILE = LOG_DIR + '/model.ckpt'\n",
    "# Write summaries for tensorboard\n",
    "with tf.compat.v1.Session() as sess:\n",
    "    saver = tf.compat.v1.train.Saver([embeddings])\n",
    "    sess.run(embeddings.initializer)\n",
    "    saver.save(sess, CHECKPOINT_FILE)\n",
    "    config = projector.ProjectorConfig()\n",
    "    embedding = config.embeddings.add()\n",
    "    embedding.tensor_name = embeddings.name\n",
    "    #embedding.metadata_path = TENSORBOARD_METADATA_FILE\n",
    "\n"
   ]
  },
  {
   "cell_type": "code",
   "execution_count": 34,
   "metadata": {},
   "outputs": [],
   "source": [
    "projector.visualize_embeddings(tf.compat.v1.summary.FileWriter(LOG_DIR), config)"
   ]
  },
  {
   "cell_type": "code",
   "execution_count": 37,
   "metadata": {},
   "outputs": [
    {
     "data": {
      "text/plain": [
       "'/Users/arielliwenxi/Downloads/426888_1015349_bundle_archive/project-tensorboard/log-1//model.ckpt'"
      ]
     },
     "execution_count": 37,
     "metadata": {},
     "output_type": "execute_result"
    }
   ],
   "source": [
    "CHECKPOINT_FILE"
   ]
  },
  {
   "cell_type": "markdown",
   "metadata": {},
   "source": [
    "# Open Tensorboard"
   ]
  },
  {
   "cell_type": "code",
   "execution_count": 38,
   "metadata": {},
   "outputs": [
    {
     "ename": "SyntaxError",
     "evalue": "unexpected character after line continuation character (<ipython-input-38-f594adf2d886>, line 2)",
     "output_type": "error",
     "traceback": [
      "\u001b[0;36m  File \u001b[0;32m\"<ipython-input-38-f594adf2d886>\"\u001b[0;36m, line \u001b[0;32m2\u001b[0m\n\u001b[0;31m    tensorboard --logdir=...\\project-tensorboard/log-1 --port=6006\u001b[0m\n\u001b[0m                                                                  ^\u001b[0m\n\u001b[0;31mSyntaxError\u001b[0m\u001b[0;31m:\u001b[0m unexpected character after line continuation character\n"
     ]
    }
   ],
   "source": [
    "#Please run the following command in the terminal to get the tensorboard\n",
    "tensorboard --logdir=...\\project-tensorboard/log-1 --port=6006"
   ]
  },
  {
   "cell_type": "code",
   "execution_count": null,
   "metadata": {},
   "outputs": [],
   "source": []
  }
 ],
 "metadata": {
  "kernelspec": {
   "display_name": "Python 3",
   "language": "python",
   "name": "python3"
  },
  "language_info": {
   "codemirror_mode": {
    "name": "ipython",
    "version": 3
   },
   "file_extension": ".py",
   "mimetype": "text/x-python",
   "name": "python",
   "nbconvert_exporter": "python",
   "pygments_lexer": "ipython3",
   "version": "3.7.7"
  }
 },
 "nbformat": 4,
 "nbformat_minor": 4
}
