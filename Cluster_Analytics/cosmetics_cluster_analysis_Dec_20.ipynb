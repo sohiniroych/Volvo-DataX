{
 "cells": [
  {
   "cell_type": "code",
   "execution_count": 1,
   "metadata": {},
   "outputs": [],
   "source": [
    "## Importing required Libraries\n",
    "import os\n",
    "import tensorflow as tf\n",
    "from tensorboard.plugins import projector\n",
    "import numpy as np\n",
    "import pandas as pd\n",
    "from sklearn.preprocessing import StandardScaler\n",
    "from sklearn.decomposition import PCA\n",
    "import seaborn as sb"
   ]
  },
  {
   "cell_type": "code",
   "execution_count": 2,
   "metadata": {},
   "outputs": [
    {
     "data": {
      "text/html": [
       "<div>\n",
       "<style scoped>\n",
       "    .dataframe tbody tr th:only-of-type {\n",
       "        vertical-align: middle;\n",
       "    }\n",
       "\n",
       "    .dataframe tbody tr th {\n",
       "        vertical-align: top;\n",
       "    }\n",
       "\n",
       "    .dataframe thead th {\n",
       "        text-align: right;\n",
       "    }\n",
       "</style>\n",
       "<table border=\"1\" class=\"dataframe\">\n",
       "  <thead>\n",
       "    <tr style=\"text-align: right;\">\n",
       "      <th></th>\n",
       "      <th>user_id</th>\n",
       "      <th>product_id</th>\n",
       "      <th>NumOfEventsInJourney</th>\n",
       "      <th>NumSessions</th>\n",
       "      <th>interactionTime</th>\n",
       "      <th>maxPrice</th>\n",
       "      <th>minPrice</th>\n",
       "      <th>NumCart</th>\n",
       "      <th>NumView</th>\n",
       "      <th>NumRemove</th>\n",
       "      <th>...</th>\n",
       "      <th>Dec</th>\n",
       "      <th>Afternoon</th>\n",
       "      <th>Dawn</th>\n",
       "      <th>EarlyMorning</th>\n",
       "      <th>Evening</th>\n",
       "      <th>Morning</th>\n",
       "      <th>Night</th>\n",
       "      <th>Noon</th>\n",
       "      <th>Purchase</th>\n",
       "      <th>clusterID</th>\n",
       "    </tr>\n",
       "  </thead>\n",
       "  <tbody>\n",
       "    <tr>\n",
       "      <th>0</th>\n",
       "      <td>586731299</td>\n",
       "      <td>5802440</td>\n",
       "      <td>2</td>\n",
       "      <td>2</td>\n",
       "      <td>22192.0</td>\n",
       "      <td>2.16</td>\n",
       "      <td>2.16</td>\n",
       "      <td>1</td>\n",
       "      <td>0</td>\n",
       "      <td>0</td>\n",
       "      <td>...</td>\n",
       "      <td>1</td>\n",
       "      <td>1</td>\n",
       "      <td>0</td>\n",
       "      <td>0</td>\n",
       "      <td>0</td>\n",
       "      <td>0</td>\n",
       "      <td>0</td>\n",
       "      <td>0</td>\n",
       "      <td>1</td>\n",
       "      <td>1</td>\n",
       "    </tr>\n",
       "    <tr>\n",
       "      <th>1</th>\n",
       "      <td>569852676</td>\n",
       "      <td>4938</td>\n",
       "      <td>2</td>\n",
       "      <td>1</td>\n",
       "      <td>499.0</td>\n",
       "      <td>1.43</td>\n",
       "      <td>1.43</td>\n",
       "      <td>1</td>\n",
       "      <td>0</td>\n",
       "      <td>0</td>\n",
       "      <td>...</td>\n",
       "      <td>0</td>\n",
       "      <td>0</td>\n",
       "      <td>0</td>\n",
       "      <td>0</td>\n",
       "      <td>1</td>\n",
       "      <td>0</td>\n",
       "      <td>0</td>\n",
       "      <td>0</td>\n",
       "      <td>1</td>\n",
       "      <td>1</td>\n",
       "    </tr>\n",
       "    <tr>\n",
       "      <th>2</th>\n",
       "      <td>448826103</td>\n",
       "      <td>5814048</td>\n",
       "      <td>3</td>\n",
       "      <td>2</td>\n",
       "      <td>7226454.0</td>\n",
       "      <td>6.27</td>\n",
       "      <td>5.95</td>\n",
       "      <td>2</td>\n",
       "      <td>0</td>\n",
       "      <td>0</td>\n",
       "      <td>...</td>\n",
       "      <td>0</td>\n",
       "      <td>0</td>\n",
       "      <td>0</td>\n",
       "      <td>0</td>\n",
       "      <td>0</td>\n",
       "      <td>0</td>\n",
       "      <td>0</td>\n",
       "      <td>1</td>\n",
       "      <td>1</td>\n",
       "      <td>3</td>\n",
       "    </tr>\n",
       "    <tr>\n",
       "      <th>3</th>\n",
       "      <td>448826103</td>\n",
       "      <td>5814047</td>\n",
       "      <td>2</td>\n",
       "      <td>1</td>\n",
       "      <td>1381.0</td>\n",
       "      <td>6.27</td>\n",
       "      <td>6.27</td>\n",
       "      <td>1</td>\n",
       "      <td>0</td>\n",
       "      <td>0</td>\n",
       "      <td>...</td>\n",
       "      <td>0</td>\n",
       "      <td>0</td>\n",
       "      <td>0</td>\n",
       "      <td>0</td>\n",
       "      <td>0</td>\n",
       "      <td>0</td>\n",
       "      <td>0</td>\n",
       "      <td>1</td>\n",
       "      <td>1</td>\n",
       "      <td>1</td>\n",
       "    </tr>\n",
       "    <tr>\n",
       "      <th>4</th>\n",
       "      <td>448826103</td>\n",
       "      <td>5787041</td>\n",
       "      <td>5</td>\n",
       "      <td>1</td>\n",
       "      <td>374.0</td>\n",
       "      <td>9.52</td>\n",
       "      <td>9.52</td>\n",
       "      <td>4</td>\n",
       "      <td>0</td>\n",
       "      <td>0</td>\n",
       "      <td>...</td>\n",
       "      <td>0</td>\n",
       "      <td>0</td>\n",
       "      <td>0</td>\n",
       "      <td>0</td>\n",
       "      <td>0</td>\n",
       "      <td>0</td>\n",
       "      <td>0</td>\n",
       "      <td>1</td>\n",
       "      <td>1</td>\n",
       "      <td>1</td>\n",
       "    </tr>\n",
       "  </tbody>\n",
       "</table>\n",
       "<p>5 rows × 37 columns</p>\n",
       "</div>"
      ],
      "text/plain": [
       "     user_id  product_id  NumOfEventsInJourney  NumSessions  interactionTime  \\\n",
       "0  586731299     5802440                     2            2          22192.0   \n",
       "1  569852676        4938                     2            1            499.0   \n",
       "2  448826103     5814048                     3            2        7226454.0   \n",
       "3  448826103     5814047                     2            1           1381.0   \n",
       "4  448826103     5787041                     5            1            374.0   \n",
       "\n",
       "   maxPrice  minPrice  NumCart  NumView  NumRemove  ...  Dec  Afternoon  Dawn  \\\n",
       "0      2.16      2.16        1        0          0  ...    1          1     0   \n",
       "1      1.43      1.43        1        0          0  ...    0          0     0   \n",
       "2      6.27      5.95        2        0          0  ...    0          0     0   \n",
       "3      6.27      6.27        1        0          0  ...    0          0     0   \n",
       "4      9.52      9.52        4        0          0  ...    0          0     0   \n",
       "\n",
       "   EarlyMorning  Evening  Morning  Night  Noon  Purchase  clusterID  \n",
       "0             0        0        0      0     0         1          1  \n",
       "1             0        1        0      0     0         1          1  \n",
       "2             0        0        0      0     1         1          3  \n",
       "3             0        0        0      0     1         1          1  \n",
       "4             0        0        0      0     1         1          1  \n",
       "\n",
       "[5 rows x 37 columns]"
      ]
     },
     "execution_count": 2,
     "metadata": {},
     "output_type": "execute_result"
    }
   ],
   "source": [
    "df = pd.read_csv(\"Journey_Clusters_5.csv\")\n",
    "\n",
    "#df=df.drop(columns=['clusterID'])\n",
    "df=df.drop(df.columns[0], axis=1)\n",
    "df.head()"
   ]
  },
  {
   "cell_type": "code",
   "execution_count": 3,
   "metadata": {},
   "outputs": [
    {
     "data": {
      "text/html": [
       "<div>\n",
       "<style scoped>\n",
       "    .dataframe tbody tr th:only-of-type {\n",
       "        vertical-align: middle;\n",
       "    }\n",
       "\n",
       "    .dataframe tbody tr th {\n",
       "        vertical-align: top;\n",
       "    }\n",
       "\n",
       "    .dataframe thead th {\n",
       "        text-align: right;\n",
       "    }\n",
       "</style>\n",
       "<table border=\"1\" class=\"dataframe\">\n",
       "  <thead>\n",
       "    <tr style=\"text-align: right;\">\n",
       "      <th></th>\n",
       "      <th>NumOfEventsInJourney</th>\n",
       "      <th>NumSessions</th>\n",
       "      <th>interactionTime</th>\n",
       "      <th>maxPrice</th>\n",
       "      <th>minPrice</th>\n",
       "      <th>NumCart</th>\n",
       "      <th>NumView</th>\n",
       "      <th>NumRemove</th>\n",
       "      <th>InsessionCart</th>\n",
       "      <th>InsessionView</th>\n",
       "      <th>...</th>\n",
       "      <th>Dec</th>\n",
       "      <th>Afternoon</th>\n",
       "      <th>Dawn</th>\n",
       "      <th>EarlyMorning</th>\n",
       "      <th>Evening</th>\n",
       "      <th>Morning</th>\n",
       "      <th>Night</th>\n",
       "      <th>Noon</th>\n",
       "      <th>Purchase</th>\n",
       "      <th>clusterID</th>\n",
       "    </tr>\n",
       "  </thead>\n",
       "  <tbody>\n",
       "    <tr>\n",
       "      <th>5522901</th>\n",
       "      <td>2</td>\n",
       "      <td>1</td>\n",
       "      <td>298.0</td>\n",
       "      <td>10.79</td>\n",
       "      <td>10.79</td>\n",
       "      <td>0</td>\n",
       "      <td>2</td>\n",
       "      <td>0</td>\n",
       "      <td>0</td>\n",
       "      <td>4</td>\n",
       "      <td>...</td>\n",
       "      <td>0</td>\n",
       "      <td>1</td>\n",
       "      <td>0</td>\n",
       "      <td>0</td>\n",
       "      <td>0</td>\n",
       "      <td>0</td>\n",
       "      <td>0</td>\n",
       "      <td>0</td>\n",
       "      <td>0</td>\n",
       "      <td>1</td>\n",
       "    </tr>\n",
       "    <tr>\n",
       "      <th>6726839</th>\n",
       "      <td>1</td>\n",
       "      <td>1</td>\n",
       "      <td>0.0</td>\n",
       "      <td>3.97</td>\n",
       "      <td>3.97</td>\n",
       "      <td>0</td>\n",
       "      <td>0</td>\n",
       "      <td>1</td>\n",
       "      <td>8</td>\n",
       "      <td>0</td>\n",
       "      <td>...</td>\n",
       "      <td>0</td>\n",
       "      <td>0</td>\n",
       "      <td>1</td>\n",
       "      <td>0</td>\n",
       "      <td>0</td>\n",
       "      <td>0</td>\n",
       "      <td>0</td>\n",
       "      <td>0</td>\n",
       "      <td>0</td>\n",
       "      <td>1</td>\n",
       "    </tr>\n",
       "    <tr>\n",
       "      <th>8498618</th>\n",
       "      <td>3</td>\n",
       "      <td>1</td>\n",
       "      <td>1425.0</td>\n",
       "      <td>1.59</td>\n",
       "      <td>1.59</td>\n",
       "      <td>1</td>\n",
       "      <td>1</td>\n",
       "      <td>1</td>\n",
       "      <td>18</td>\n",
       "      <td>12</td>\n",
       "      <td>...</td>\n",
       "      <td>0</td>\n",
       "      <td>0</td>\n",
       "      <td>0</td>\n",
       "      <td>0</td>\n",
       "      <td>0</td>\n",
       "      <td>1</td>\n",
       "      <td>0</td>\n",
       "      <td>0</td>\n",
       "      <td>0</td>\n",
       "      <td>1</td>\n",
       "    </tr>\n",
       "    <tr>\n",
       "      <th>7226485</th>\n",
       "      <td>1</td>\n",
       "      <td>1</td>\n",
       "      <td>0.0</td>\n",
       "      <td>1.59</td>\n",
       "      <td>1.59</td>\n",
       "      <td>0</td>\n",
       "      <td>1</td>\n",
       "      <td>0</td>\n",
       "      <td>14</td>\n",
       "      <td>98</td>\n",
       "      <td>...</td>\n",
       "      <td>1</td>\n",
       "      <td>1</td>\n",
       "      <td>0</td>\n",
       "      <td>0</td>\n",
       "      <td>0</td>\n",
       "      <td>0</td>\n",
       "      <td>0</td>\n",
       "      <td>0</td>\n",
       "      <td>0</td>\n",
       "      <td>1</td>\n",
       "    </tr>\n",
       "    <tr>\n",
       "      <th>9555803</th>\n",
       "      <td>1</td>\n",
       "      <td>1</td>\n",
       "      <td>0.0</td>\n",
       "      <td>19.37</td>\n",
       "      <td>19.37</td>\n",
       "      <td>0</td>\n",
       "      <td>1</td>\n",
       "      <td>0</td>\n",
       "      <td>0</td>\n",
       "      <td>22</td>\n",
       "      <td>...</td>\n",
       "      <td>0</td>\n",
       "      <td>0</td>\n",
       "      <td>0</td>\n",
       "      <td>1</td>\n",
       "      <td>0</td>\n",
       "      <td>0</td>\n",
       "      <td>0</td>\n",
       "      <td>0</td>\n",
       "      <td>0</td>\n",
       "      <td>1</td>\n",
       "    </tr>\n",
       "  </tbody>\n",
       "</table>\n",
       "<p>5 rows × 35 columns</p>\n",
       "</div>"
      ],
      "text/plain": [
       "         NumOfEventsInJourney  NumSessions  interactionTime  maxPrice  \\\n",
       "5522901                     2            1            298.0     10.79   \n",
       "6726839                     1            1              0.0      3.97   \n",
       "8498618                     3            1           1425.0      1.59   \n",
       "7226485                     1            1              0.0      1.59   \n",
       "9555803                     1            1              0.0     19.37   \n",
       "\n",
       "         minPrice  NumCart  NumView  NumRemove  InsessionCart  InsessionView  \\\n",
       "5522901     10.79        0        2          0              0              4   \n",
       "6726839      3.97        0        0          1              8              0   \n",
       "8498618      1.59        1        1          1             18             12   \n",
       "7226485      1.59        0        1          0             14             98   \n",
       "9555803     19.37        0        1          0              0             22   \n",
       "\n",
       "         ...  Dec  Afternoon  Dawn  EarlyMorning  Evening  Morning  Night  \\\n",
       "5522901  ...    0          1     0             0        0        0      0   \n",
       "6726839  ...    0          0     1             0        0        0      0   \n",
       "8498618  ...    0          0     0             0        0        1      0   \n",
       "7226485  ...    1          1     0             0        0        0      0   \n",
       "9555803  ...    0          0     0             1        0        0      0   \n",
       "\n",
       "         Noon  Purchase  clusterID  \n",
       "5522901     0         0          1  \n",
       "6726839     0         0          1  \n",
       "8498618     0         0          1  \n",
       "7226485     0         0          1  \n",
       "9555803     0         0          1  \n",
       "\n",
       "[5 rows x 35 columns]"
      ]
     },
     "execution_count": 3,
     "metadata": {},
     "output_type": "execute_result"
    }
   ],
   "source": [
    "#df=df.drop(columns=['clusterID'])\n",
    "df=df.drop(['user_id','product_id'], axis=1)\n",
    "from sklearn.utils import shuffle\n",
    "df = shuffle(df)\n",
    "df.head()"
   ]
  },
  {
   "cell_type": "code",
   "execution_count": 4,
   "metadata": {},
   "outputs": [],
   "source": [
    "# Next, to analyze composition of each cluster"
   ]
  },
  {
   "cell_type": "code",
   "execution_count": 5,
   "metadata": {},
   "outputs": [
    {
     "name": "stdout",
     "output_type": "stream",
     "text": [
      "[0 1 2 3 4]\n"
     ]
    }
   ],
   "source": [
    "column_values = df[\"clusterID\"]. values. ravel()\n",
    "unique_values_a = np.array(pd.unique(column_values))\n",
    "unique_values=np.sort(unique_values_a)\n",
    "print(unique_values)\n"
   ]
  },
  {
   "cell_type": "code",
   "execution_count": 6,
   "metadata": {},
   "outputs": [
    {
     "name": "stdout",
     "output_type": "stream",
     "text": [
      "Number of records in cluster 0 = 222715\n",
      "Number of records in cluster 1 = 9261877\n",
      "Number of records in cluster 2 = 62673\n",
      "Number of records in cluster 3 = 118332\n",
      "Number of records in cluster 4 = 490603\n"
     ]
    }
   ],
   "source": [
    "purchase_percentage=np.zeros(np.shape(unique_values))\n",
    "representation_percentage=np.zeros(np.shape(unique_values))\n",
    "for index, item in enumerate(unique_values):\n",
    "    locations=df.loc[df['clusterID'] == item]\n",
    "    purchase=locations.loc[locations['Purchase']==1]\n",
    "    print('Number of records in cluster', item, '=', locations.shape[0])\n",
    "    representation_percentage[index]=round((locations.shape[0]/df.shape[0])*100,2)\n",
    "    purchase_percentage[index]=round((purchase.shape[0]/locations.shape[0])*100,2)\n",
    "    \n",
    "    "
   ]
  },
  {
   "cell_type": "code",
   "execution_count": 7,
   "metadata": {},
   "outputs": [
    {
     "name": "stdout",
     "output_type": "stream",
     "text": [
      "[ 2.19 91.19  0.62  1.17  4.83]\n",
      "[19.45 11.14 32.91 22.84 21.01]\n"
     ]
    },
    {
     "data": {
      "image/png": "[encoded data removed]",
      "text/plain": [
       "<Figure size 432x288 with 1 Axes>"
      ]
     },
     "metadata": {
      "needs_background": "light"
     },
     "output_type": "display_data"
    }
   ],
   "source": [
    "print((representation_percentage))\n",
    "print(purchase_percentage)\n",
    "import matplotlib.pyplot as plt\n",
    "plt.scatter(representation_percentage,purchase_percentage)\n",
    "plt.xlabel('Representation')\n",
    "plt.ylabel('Purchase Percentage')\n",
    "plt.show()"
   ]
  },
  {
   "cell_type": "code",
   "execution_count": 8,
   "metadata": {},
   "outputs": [
    {
     "name": "stdout",
     "output_type": "stream",
     "text": [
      "107.35000000000001\n"
     ]
    }
   ],
   "source": [
    "print(np.sum(purchase_percentage))"
   ]
  },
  {
   "cell_type": "code",
   "execution_count": 9,
   "metadata": {},
   "outputs": [],
   "source": [
    "total_purchase=df.loc[df['Purchase']==1]"
   ]
  },
  {
   "cell_type": "code",
   "execution_count": 10,
   "metadata": {},
   "outputs": [
    {
     "name": "stdout",
     "output_type": "stream",
     "text": [
      "12.06919910990331\n"
     ]
    }
   ],
   "source": [
    "purchase_distrib=total_purchase.shape[0]/df.shape[0]\n",
    "print(purchase_distrib*100)"
   ]
  },
  {
   "cell_type": "code",
   "execution_count": 11,
   "metadata": {},
   "outputs": [
    {
     "name": "stdout",
     "output_type": "stream",
     "text": [
      "44543\n",
      "1852375\n",
      "12535\n",
      "23666\n",
      "98121\n",
      "2031240\n"
     ]
    }
   ],
   "source": [
    "#subsample each cluster to 20% as df_sub and then analyz\n",
    "data=[]\n",
    "df_sub = pd.DataFrame(data, columns=(df.columns.values[0:34]))\n",
    "\n",
    "for index, item in enumerate(unique_values):\n",
    "    locations=df.loc[df['clusterID'] == item]\n",
    "    ret_size=np.round(0.2*locations.shape[0]).astype(int)\n",
    "    print(ret_size)\n",
    "    rows=np.random.permutation(ret_size)\n",
    "    loc_data=locations.iloc[rows,:]\n",
    "    #print(loc_data.iloc[0:5,0:34])\n",
    "    df_sub=df_sub.append(loc_data)\n",
    "print(df_sub.shape[0])"
   ]
  },
  {
   "cell_type": "code",
   "execution_count": 12,
   "metadata": {},
   "outputs": [],
   "source": [
    "#Thus, cluster 0 is closest to average purchase ratio"
   ]
  },
  {
   "cell_type": "code",
   "execution_count": 13,
   "metadata": {},
   "outputs": [],
   "source": [
    "#1. Lets find distances between clusters. Start with calinski-harabasz"
   ]
  },
  {
   "cell_type": "code",
   "execution_count": 14,
   "metadata": {},
   "outputs": [
    {
     "name": "stdout",
     "output_type": "stream",
     "text": [
      "(2031240, 5)\n"
     ]
    }
   ],
   "source": [
    "X=np.array(df_sub[df_sub.columns[0:10]])\n",
    "#X=np.array(df[df.columns[0:13]])\n",
    "#Normalize X to aid compute\n",
    "#X_n = (X-X.min(axis=0)) / (X.max(axis=0)-X.min(axis=0))\n",
    "Y=np.array(df_sub[df_sub.columns[34]])\n",
    "#################################\n",
    "#X=X[0:30000,:]\n",
    "#Y=Y[0:30000]\n",
    "#############################\n",
    "pca = PCA(n_components=5)\n",
    "pca.fit(X)\n",
    "X1=pca.transform(X)\n",
    "\n",
    "print(np.shape(X1))\n",
    "#start with 2 clusters to 5 and show CH score increases as clusters increase"
   ]
  },
  {
   "cell_type": "code",
   "execution_count": 15,
   "metadata": {},
   "outputs": [
    {
     "name": "stdout",
     "output_type": "stream",
     "text": [
      "[[0.29161495 0.03614097 0.24770274 0.03489584 0.03035445]\n",
      " [0.16678769 0.00813152 0.20132433 0.01960142 0.026947  ]\n",
      " [0.21294186 0.00785099 0.19970435 0.02152995 0.03442783]\n",
      " [0.26988196 0.00713144 0.20175255 0.02134269 0.02433946]\n",
      " [0.18995687 0.00857453 0.2018418  0.02076663 0.02633261]]\n"
     ]
    }
   ],
   "source": [
    "X1_n = (X1-X1.min(axis=0)) / (X1.max(axis=0)-X1.min(axis=0))\n",
    "X1=X1_n\n",
    "print(X1[0:5,:])"
   ]
  },
  {
   "cell_type": "code",
   "execution_count": 16,
   "metadata": {},
   "outputs": [
    {
     "name": "stdout",
     "output_type": "stream",
     "text": [
      "4\n",
      "0\n",
      "3\n",
      "2\n",
      "[163785.45937582507, 315319.7171483054, 496380.78007471643, 664824.2579838119]\n",
      "[]\n"
     ]
    }
   ],
   "source": [
    "from sklearn import metrics\n",
    "from sklearn.metrics import pairwise_distances\n",
    "\n",
    "c_vals=[4,0,3,2]\n",
    "locs=np.array([])\n",
    "locations=np.where(Y==1)\n",
    "locs=np.append(locs,locations).astype(int)\n",
    "CH=[]\n",
    "SS=[]\n",
    "#To locate the cluster indices\n",
    "for index, item in enumerate(c_vals):\n",
    "    locations=np.where(Y==item)\n",
    "    locs=np.append(locs,locations).astype(int)\n",
    "    print(item)\n",
    "    m=metrics.calinski_harabasz_score(X1[locs,:], Y[locs])\n",
    "    #m=m/len(locs)\n",
    "    CH.append(m)\n",
    "    #SS.append(metrics.silhouette_score(X1[locs,:], Y[locs]))\n",
    "    #print(metrics.calinski_harabasz_score(X[locs,:], Y[locs]))\n",
    "    \n",
    "print(CH)\n",
    "print(SS)"
   ]
  },
  {
   "cell_type": "code",
   "execution_count": 17,
   "metadata": {},
   "outputs": [
    {
     "data": {
      "image/png": "[encoded data removed]",
      "text/plain": [
       "<Figure size 432x288 with 1 Axes>"
      ]
     },
     "metadata": {
      "needs_background": "light"
     },
     "output_type": "display_data"
    }
   ],
   "source": [
    "CH1=np.true_divide(CH,10**3)\n",
    "#plt.plot([2,3,4,5],CH1)\n",
    "#plt.plot([2,3,4,5],SS)\n",
    "#plt.hist(X1[:,0],bins=100)\n",
    "plt.hist(X1[:,1],bins=[0,0.1,0.2,0.3,0.4,0.5,0.6,0.7,0.8,0.9,1])\n",
    "plt.show()"
   ]
  },
  {
   "cell_type": "code",
   "execution_count": 18,
   "metadata": {},
   "outputs": [
    {
     "data": {
      "image/png": "[encoded data removed]",
      "text/plain": [
       "<Figure size 432x288 with 1 Axes>"
      ]
     },
     "metadata": {
      "needs_background": "light"
     },
     "output_type": "display_data"
    }
   ],
   "source": [
    "plt.hist(X1[:,0],bins=[0,0.1,0.2,0.3,0.4,0.5,0.6,0.7,0.8,0.9,1])\n",
    "#plt.plot(range(len(X1[:,0])),X1[:,0])\n",
    "plt.show()\n",
    "# Thirdcomponent has similar histogram. Top two are relevant"
   ]
  },
  {
   "cell_type": "code",
   "execution_count": 19,
   "metadata": {},
   "outputs": [],
   "source": [
    "#3. To find EMD between clusters\n",
    "from scipy.stats import wasserstein_distance\n",
    "\n",
    "#Step 1: find the histogram between clusters\n",
    "def get_histogram(X):\n",
    "    '''\n",
    "    X=[nxd]\n",
    "    '''\n",
    "    r, c = np.shape(X)\n",
    "    hist = [0.0] * 100001\n",
    "    X=(100000*X).astype(int)\n",
    "    \n",
    "    for i in range(r):\n",
    "        for j in range(c):\n",
    "            hist[X[i,j]] += 1\n",
    "    return np.array(hist) / (r * c)\n",
    "\n",
    "#Step 2: Compute EMD per pairwise cluster combinations\n",
    "c_vals=[1,4,0,3,2] #These are the cluster names\n",
    "dist=np.zeros((5,5))\n",
    "for i in c_vals:\n",
    "    for j in c_vals:\n",
    "     loci=np.where(Y==i)\n",
    "     locj=np.where(Y==j)\n",
    "     a = np.squeeze(X1[loci,:])\n",
    "     b = np.squeeze(X1[locj,:])\n",
    "     a_hist = get_histogram(a)\n",
    "     b_hist = get_histogram(b)\n",
    "     dist[i,j] = wasserstein_distance(a_hist, b_hist)\n",
    "dist=10**6*dist"
   ]
  },
  {
   "cell_type": "code",
   "execution_count": 20,
   "metadata": {},
   "outputs": [],
   "source": [
    "def plot_confusion_matrix(cm,\n",
    "                          target_names,\n",
    "                          title='EMD',\n",
    "                          cmap=None,\n",
    "                          normalize=True):\n",
    "    \"\"\"\n",
    "    given a sklearn confusion matrix (cm), make a nice plot\n",
    "\n",
    "    Arguments\n",
    "    ---------\n",
    "    cm:           confusion matrix from sklearn.metrics.confusion_matrix\n",
    "\n",
    "    target_names: given classification classes such as [0, 1, 2]\n",
    "                  the class names, for example: ['high', 'medium', 'low']\n",
    "\n",
    "    title:        the text to display at the top of the matrix\n",
    "\n",
    "    cmap:         the gradient of the values displayed from matplotlib.pyplot.cm\n",
    "                  see http://matplotlib.org/examples/color/colormaps_reference.html\n",
    "                  plt.get_cmap('jet') or plt.cm.Blues\n",
    "\n",
    "    normalize:    If False, plot the raw numbers\n",
    "                  If True, plot the proportions\n",
    "\n",
    "    Usage\n",
    "    -----\n",
    "    plot_confusion_matrix(cm           = cm,                  # confusion matrix created by\n",
    "                                                              # sklearn.metrics.confusion_matrix\n",
    "                          normalize    = True,                # show proportions\n",
    "                          target_names = y_labels_vals,       # list of names of the classes\n",
    "                          title        = best_estimator_name) # title of graph\n",
    "\n",
    "    Citiation\n",
    "    ---------\n",
    "    http://scikit-learn.org/stable/auto_examples/model_selection/plot_confusion_matrix.html\n",
    "\n",
    "    \"\"\"\n",
    "    import matplotlib.pyplot as plt\n",
    "    import numpy as np\n",
    "    import itertools\n",
    "\n",
    "    accuracy = np.trace(cm) / np.sum(cm).astype('float')\n",
    "    misclass = 1 - accuracy\n",
    "\n",
    "    if cmap is None:\n",
    "        cmap = plt.get_cmap('Blues')\n",
    "\n",
    "    plt.figure(figsize=(10,10))\n",
    "    plt.imshow(cm, interpolation='nearest', cmap=cmap)\n",
    "    plt.title(title)\n",
    "    plt.colorbar()\n",
    "\n",
    "    if target_names is not None:\n",
    "        tick_marks = np.arange(len(target_names))\n",
    "        plt.xticks(tick_marks, target_names, rotation=45)\n",
    "        plt.yticks(tick_marks, target_names)\n",
    "\n",
    "    if normalize:\n",
    "        cm = cm.astype('float') / cm.sum(axis=1)[:, np.newaxis]\n",
    "\n",
    "\n",
    "    thresh = cm.max() / 1.5 if normalize else cm.max() / 2\n",
    "    for i, j in itertools.product(range(cm.shape[0]), range(cm.shape[1])):\n",
    "        if normalize:\n",
    "            plt.text(j, i, \"{:0.4f}\".format(cm[i, j]),\n",
    "                     horizontalalignment=\"center\",\n",
    "                     color=\"white\" if cm[i, j] > thresh else \"black\")\n",
    "        else:\n",
    "            plt.text(j, i, \"{:,}\".format(cm[i, j]),\n",
    "                     horizontalalignment=\"center\",\n",
    "                     color=\"white\" if cm[i, j] > thresh else \"black\")\n",
    "\n",
    "\n",
    "    plt.tight_layout()\n",
    "    plt.ylabel('User Cluster')\n",
    "    plt.xlabel('User Cluster')\n",
    "    plt.show()\n"
   ]
  },
  {
   "cell_type": "code",
   "execution_count": 21,
   "metadata": {},
   "outputs": [
    {
     "data": {
      "image/png": "[encoded data removed]",
      "text/plain": [
       "<Figure size 720x720 with 2 Axes>"
      ]
     },
     "metadata": {
      "needs_background": "light"
     },
     "output_type": "display_data"
    }
   ],
   "source": [
    "labs=['New Shopper','Impulsive perusing shopper','Educated perusing shopper','Intentional Shopper','Returning budget shopper']\n",
    "#disp = ConfusionMatrixDisplay(confusion_matrix=dist,display_labels=labs)\n",
    "#disp.plot()\n",
    "plot_confusion_matrix(dist,labs)"
   ]
  },
  {
   "cell_type": "code",
   "execution_count": 22,
   "metadata": {},
   "outputs": [],
   "source": [
    "r,c=np.shape(X1)"
   ]
  },
  {
   "cell_type": "code",
   "execution_count": null,
   "metadata": {},
   "outputs": [],
   "source": []
  }
 ],
 "metadata": {
  "kernelspec": {
   "display_name": "Python 3",
   "language": "python",
   "name": "python3"
  },
  "language_info": {
   "codemirror_mode": {
    "name": "ipython",
    "version": 3
   },
   "file_extension": ".py",
   "mimetype": "text/x-python",
   "name": "python",
   "nbconvert_exporter": "python",
   "pygments_lexer": "ipython3",
   "version": "3.8.5"
  }
 },
 "nbformat": 4,
 "nbformat_minor": 2
}
