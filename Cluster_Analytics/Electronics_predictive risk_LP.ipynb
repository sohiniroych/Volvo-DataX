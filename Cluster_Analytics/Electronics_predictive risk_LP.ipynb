{
 "cells": [
  {
   "cell_type": "code",
   "execution_count": 1,
   "metadata": {},
   "outputs": [],
   "source": [
    "## Importing required Libraries\n",
    "import os\n",
    "import tensorflow as tf\n",
    "from tensorboard.plugins import projector\n",
    "import numpy as np\n",
    "import pandas as pd\n",
    "from sklearn.preprocessing import StandardScaler\n",
    "from sklearn.decomposition import PCA\n",
    "from sklearn.semi_supervised import LabelSpreading\n",
    "from sklearn.metrics import accuracy_score, f1_score"
   ]
  },
  {
   "cell_type": "code",
   "execution_count": 2,
   "metadata": {},
   "outputs": [
    {
     "name": "stdout",
     "output_type": "stream",
     "text": [
      "(1076360, 16)\n"
     ]
    },
    {
     "data": {
      "text/html": [
       "<div>\n",
       "<style scoped>\n",
       "    .dataframe tbody tr th:only-of-type {\n",
       "        vertical-align: middle;\n",
       "    }\n",
       "\n",
       "    .dataframe tbody tr th {\n",
       "        vertical-align: top;\n",
       "    }\n",
       "\n",
       "    .dataframe thead th {\n",
       "        text-align: right;\n",
       "    }\n",
       "</style>\n",
       "<table border=\"1\" class=\"dataframe\">\n",
       "  <thead>\n",
       "    <tr style=\"text-align: right;\">\n",
       "      <th></th>\n",
       "      <th>NumOfEventsInJourney</th>\n",
       "      <th>NumSessions</th>\n",
       "      <th>interactionTime</th>\n",
       "      <th>maxPrice</th>\n",
       "      <th>minPrice</th>\n",
       "      <th>NumCart</th>\n",
       "      <th>NumView</th>\n",
       "      <th>InsessionCart</th>\n",
       "      <th>InsessionView</th>\n",
       "      <th>year</th>\n",
       "      <th>month</th>\n",
       "      <th>weekday</th>\n",
       "      <th>timeOfDay</th>\n",
       "      <th>Weekend</th>\n",
       "      <th>Purchase</th>\n",
       "      <th>cluster</th>\n",
       "    </tr>\n",
       "  </thead>\n",
       "  <tbody>\n",
       "    <tr>\n",
       "      <th>0</th>\n",
       "      <td>1</td>\n",
       "      <td>1</td>\n",
       "      <td>0.0</td>\n",
       "      <td>939.28</td>\n",
       "      <td>939.28</td>\n",
       "      <td>0</td>\n",
       "      <td>0</td>\n",
       "      <td>0</td>\n",
       "      <td>0</td>\n",
       "      <td>2019</td>\n",
       "      <td>11</td>\n",
       "      <td>5</td>\n",
       "      <td>2</td>\n",
       "      <td>0</td>\n",
       "      <td>1</td>\n",
       "      <td>0</td>\n",
       "    </tr>\n",
       "    <tr>\n",
       "      <th>1</th>\n",
       "      <td>1</td>\n",
       "      <td>1</td>\n",
       "      <td>0.0</td>\n",
       "      <td>202.30</td>\n",
       "      <td>202.30</td>\n",
       "      <td>0</td>\n",
       "      <td>0</td>\n",
       "      <td>0</td>\n",
       "      <td>0</td>\n",
       "      <td>2019</td>\n",
       "      <td>11</td>\n",
       "      <td>7</td>\n",
       "      <td>5</td>\n",
       "      <td>0</td>\n",
       "      <td>1</td>\n",
       "      <td>0</td>\n",
       "    </tr>\n",
       "    <tr>\n",
       "      <th>2</th>\n",
       "      <td>1</td>\n",
       "      <td>1</td>\n",
       "      <td>0.0</td>\n",
       "      <td>617.52</td>\n",
       "      <td>617.52</td>\n",
       "      <td>0</td>\n",
       "      <td>0</td>\n",
       "      <td>0</td>\n",
       "      <td>0</td>\n",
       "      <td>2019</td>\n",
       "      <td>11</td>\n",
       "      <td>5</td>\n",
       "      <td>5</td>\n",
       "      <td>0</td>\n",
       "      <td>1</td>\n",
       "      <td>0</td>\n",
       "    </tr>\n",
       "    <tr>\n",
       "      <th>3</th>\n",
       "      <td>1</td>\n",
       "      <td>1</td>\n",
       "      <td>0.0</td>\n",
       "      <td>89.58</td>\n",
       "      <td>89.58</td>\n",
       "      <td>0</td>\n",
       "      <td>0</td>\n",
       "      <td>0</td>\n",
       "      <td>0</td>\n",
       "      <td>2019</td>\n",
       "      <td>11</td>\n",
       "      <td>6</td>\n",
       "      <td>2</td>\n",
       "      <td>0</td>\n",
       "      <td>1</td>\n",
       "      <td>0</td>\n",
       "    </tr>\n",
       "    <tr>\n",
       "      <th>4</th>\n",
       "      <td>1</td>\n",
       "      <td>1</td>\n",
       "      <td>0.0</td>\n",
       "      <td>46.33</td>\n",
       "      <td>46.33</td>\n",
       "      <td>0</td>\n",
       "      <td>0</td>\n",
       "      <td>0</td>\n",
       "      <td>0</td>\n",
       "      <td>2019</td>\n",
       "      <td>11</td>\n",
       "      <td>2</td>\n",
       "      <td>2</td>\n",
       "      <td>0</td>\n",
       "      <td>1</td>\n",
       "      <td>0</td>\n",
       "    </tr>\n",
       "  </tbody>\n",
       "</table>\n",
       "</div>"
      ],
      "text/plain": [
       "   NumOfEventsInJourney  NumSessions  interactionTime  maxPrice  minPrice  \\\n",
       "0                     1            1              0.0    939.28    939.28   \n",
       "1                     1            1              0.0    202.30    202.30   \n",
       "2                     1            1              0.0    617.52    617.52   \n",
       "3                     1            1              0.0     89.58     89.58   \n",
       "4                     1            1              0.0     46.33     46.33   \n",
       "\n",
       "   NumCart  NumView  InsessionCart  InsessionView  year  month  weekday  \\\n",
       "0        0        0              0              0  2019     11        5   \n",
       "1        0        0              0              0  2019     11        7   \n",
       "2        0        0              0              0  2019     11        5   \n",
       "3        0        0              0              0  2019     11        6   \n",
       "4        0        0              0              0  2019     11        2   \n",
       "\n",
       "   timeOfDay  Weekend  Purchase  cluster  \n",
       "0          2        0         1        0  \n",
       "1          5        0         1        0  \n",
       "2          5        0         1        0  \n",
       "3          2        0         1        0  \n",
       "4          2        0         1        0  "
      ]
     },
     "execution_count": 2,
     "metadata": {},
     "output_type": "execute_result"
    }
   ],
   "source": [
    "df = pd.read_csv(\"User_Journey_Based_Features.csv\")\n",
    "\n",
    "#Make categorical columns as numerical\n",
    "df['weekday']=df['weekday'].replace(['Mon','Tue','Wed','Thu','Fr','Sat','Sun'],[1,2,3,4,5,6,7])\n",
    "df['timeOfDay']=df['timeOfDay'].replace(['Dawn','EarlyMorning','Morning','Noon','Afternoon','Evening','Night'],[1,2,3,4,5,6,7])\n",
    "print(df.shape)\n",
    "df.head()"
   ]
  },
  {
   "cell_type": "code",
   "execution_count": 3,
   "metadata": {},
   "outputs": [],
   "source": [
    "#1. Lets find distances between clusters. Start with calinski-harabasz"
   ]
  },
  {
   "cell_type": "code",
   "execution_count": 4,
   "metadata": {},
   "outputs": [
    {
     "name": "stdout",
     "output_type": "stream",
     "text": [
      "(1076360, 5)\n"
     ]
    }
   ],
   "source": [
    "X=np.array(df[df.columns[0:8]])\n",
    "Y=np.array(df[df.columns[15]])# Y=clusterID\n",
    "P=np.array(df[df.columns[14]]).astype(int)#P=purchase vs not\n",
    "############################# Reduce data dimensionality to speed up label propagation\n",
    "pca = PCA(n_components=5)\n",
    "pca.fit(X)\n",
    "X1=pca.transform(X)\n",
    "\n",
    "print(np.shape(X1))\n",
    "#start with 2 clusters to 5 and show CH score increases as clusters increase"
   ]
  },
  {
   "cell_type": "code",
   "execution_count": 5,
   "metadata": {},
   "outputs": [
    {
     "name": "stdout",
     "output_type": "stream",
     "text": [
      "[[6.13873989e-08 4.07296854e-01 1.20025576e-02 2.63611390e-01\n",
      "  3.22195130e-01]\n",
      " [1.32213735e-08 1.40100233e-01 1.20699827e-02 2.63480629e-01\n",
      "  3.22235297e-01]\n",
      " [4.03584696e-08 2.90640791e-01 1.20319949e-02 2.63554301e-01\n",
      "  3.22212666e-01]\n",
      " [5.85445128e-09 9.92329050e-02 1.20802953e-02 2.63460629e-01\n",
      "  3.22241440e-01]\n",
      " [3.02780660e-09 8.35523521e-02 1.20842522e-02 2.63452955e-01\n",
      "  3.22243797e-01]]\n"
     ]
    }
   ],
   "source": [
    "X1_n = (X1-X1.min(axis=0)) / (X1.max(axis=0)-X1.min(axis=0))\n",
    "X1=X1_n\n",
    "print(X1[0:5,:])"
   ]
  },
  {
   "cell_type": "code",
   "execution_count": 6,
   "metadata": {},
   "outputs": [
    {
     "name": "stdout",
     "output_type": "stream",
     "text": [
      "Processing samples of cluster= 0\n",
      "0\n",
      "1\n",
      "2\n",
      "3\n",
      "4\n",
      "5\n",
      "6\n",
      "7\n",
      "8\n",
      "9\n",
      "Processing samples of cluster= 3\n",
      "0\n",
      "1\n",
      "2\n",
      "3\n",
      "4\n",
      "5\n",
      "6\n",
      "7\n",
      "8\n",
      "9\n",
      "Processing samples of cluster= 1\n",
      "0\n",
      "1\n",
      "2\n",
      "3\n",
      "4\n",
      "5\n",
      "6\n",
      "7\n",
      "8\n",
      "9\n",
      "Processing samples of cluster= 4\n",
      "0\n",
      "1\n",
      "2\n",
      "3\n",
      "4\n",
      "5\n",
      "6\n",
      "7\n",
      "8\n",
      "9\n",
      "Processing samples of cluster= 2\n",
      "0\n",
      "1\n",
      "2\n",
      "3\n",
      "4\n",
      "5\n",
      "6\n",
      "7\n",
      "8\n",
      "9\n"
     ]
    }
   ],
   "source": [
    "#Step 4.1: Randomly drop labels\n",
    "import matplotlib.pyplot as plt\n",
    "c_vals=[0,3,1,4,2] # These are cluster indices in incremental order of sample represnetation\n",
    "dropP=[0.1,0.2,0.3,0.4,0.5,0.6,0.7,0.8,0.9]#Fraction of population to be randomly dropped\n",
    "acc=np.zeros((5,9,10))\n",
    "f1=np.zeros((5,9,10))\n",
    "for ci,item in enumerate(c_vals):\n",
    "    locs=np.where(Y==item) #Locate all samples belonging to a particular cluster\n",
    "    print('Processing samples of cluster=',item)\n",
    "    Yn=P[locs]\n",
    "    Xn=np.squeeze(X1[locs,:]) #subsample Xn from dimensionality reduced cluster features \n",
    "    n=np.shape(locs)[1]# number of samples per cluster\n",
    "    ######################################################################\n",
    "    #This loop needs to be rerun about 20 times each (add another loop)\n",
    "    for cn in range(10):\n",
    "        print(cn)\n",
    "        for cp,drop in enumerate(dropP):\n",
    "            Ynd=P[locs]\n",
    "            ns=np.round(drop*n).astype(int)\n",
    "            #print('num of samples dropped=',ns)\n",
    "            dropI=np.floor(np.random.rand(ns)*n).astype(int)\n",
    "            Ynd[dropI]=-1\n",
    "            #Thus (Xn,Ynd) is the new data that will be subjected to label propagation\n",
    "            ################################### so random label removal works!\n",
    "            #Step 4.2: Apply Label propagation to all samples\n",
    "            lp_model = LabelSpreading(kernel='knn',n_neighbors=3,alpha=0.1) #high alpha means labels an change till stable\n",
    "            # Train the model\n",
    "            lp_model.fit(Xn, Ynd)\n",
    "\n",
    "\n",
    "            #Step 4.3: Predict Model label for the dropped samples\n",
    "            pred = lp_model.transduction_[dropI]\n",
    "            #print('Predictions=',pred)\n",
    "            #print('Groundtruth=',Yn[dropI])\n",
    "\n",
    "            #Step 4.4: Compute accuracy, for predictions\n",
    "            acc[ci,cp,cn] = accuracy_score(Yn[dropI], pred)\n",
    "            f1[ci,cp,cn] = f1_score(Yn[dropI], pred)"
   ]
  },
  {
   "cell_type": "code",
   "execution_count": 7,
   "metadata": {},
   "outputs": [
    {
     "name": "stdout",
     "output_type": "stream",
     "text": [
      "(5, 9)\n"
     ]
    }
   ],
   "source": [
    "a=np.mean(acc,axis=2)\n",
    "f=np.mean(f1,axis=2)\n",
    "print(np.shape(a))"
   ]
  },
  {
   "cell_type": "code",
   "execution_count": 8,
   "metadata": {
    "scrolled": true
   },
   "outputs": [
    {
     "data": {
      "image/png": "[encoded data removed]",
      "text/plain": [
       "<Figure size 576x432 with 1 Axes>"
      ]
     },
     "metadata": {
      "needs_background": "light"
     },
     "output_type": "display_data"
    }
   ],
   "source": [
    "#Finally generate the plots per cluster\n",
    "labs=['New shopper','Decisive shopper','Impulsive Shopper','Brand Shopper','Returning Decisive Shopper']\n",
    "plt.figure(figsize=(8,6))\n",
    "plt.plot(dropP,a[0,:])\n",
    "plt.plot(dropP,a[1,:])\n",
    "plt.plot(dropP,a[2,:])\n",
    "plt.plot(dropP,a[3,:])\n",
    "plt.plot(dropP,a[4,:])\n",
    "plt.legend(labs)\n",
    "plt.xlabel('Percentage of Dropped Labels')\n",
    "plt.ylabel('Accuracy for Purchase vs. no-Purchase')\n",
    "plt.show()\n",
    "\n"
   ]
  },
  {
   "cell_type": "code",
   "execution_count": 9,
   "metadata": {},
   "outputs": [
    {
     "data": {
      "image/png": "[encoded data removed]",
      "text/plain": [
       "<Figure size 576x432 with 1 Axes>"
      ]
     },
     "metadata": {
      "needs_background": "light"
     },
     "output_type": "display_data"
    }
   ],
   "source": [
    "#Finally generate the plots per cluster\n",
    "labs=['New shopper','Decisive shopper','Impulsive Shopper','Brand Shopper','Returning Decisive Shopper']\n",
    "plt.figure(figsize=(8,6))\n",
    "plt.plot(dropP,f[0,:])\n",
    "plt.plot(dropP,f[1,:])\n",
    "plt.plot(dropP,f[2,:])\n",
    "plt.plot(dropP,f[3,:])\n",
    "plt.plot(dropP,f[4,:])\n",
    "plt.legend(labs)\n",
    "plt.xlabel('Percentage of Dropped Labels')\n",
    "plt.ylabel('F1-score for Purchase vs. no-Purchase')\n",
    "plt.show()"
   ]
  },
  {
   "cell_type": "code",
   "execution_count": null,
   "metadata": {},
   "outputs": [],
   "source": []
  }
 ],
 "metadata": {
  "kernelspec": {
   "display_name": "Python 3",
   "language": "python",
   "name": "python3"
  },
  "language_info": {
   "codemirror_mode": {
    "name": "ipython",
    "version": 3
   },
   "file_extension": ".py",
   "mimetype": "text/x-python",
   "name": "python",
   "nbconvert_exporter": "python",
   "pygments_lexer": "ipython3",
   "version": "3.8.5"
  }
 },
 "nbformat": 4,
 "nbformat_minor": 2
}
