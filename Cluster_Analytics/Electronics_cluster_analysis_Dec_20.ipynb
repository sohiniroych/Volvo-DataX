{
 "cells": [
  {
   "cell_type": "code",
   "execution_count": 1,
   "metadata": {},
   "outputs": [],
   "source": [
    "## Importing required Libraries\n",
    "import os\n",
    "import tensorflow as tf\n",
    "from tensorboard.plugins import projector\n",
    "import numpy as np\n",
    "import pandas as pd\n",
    "from sklearn.preprocessing import StandardScaler\n",
    "from sklearn.decomposition import PCA\n",
    "import seaborn as sb"
   ]
  },
  {
   "cell_type": "code",
   "execution_count": 2,
   "metadata": {},
   "outputs": [
    {
     "name": "stdout",
     "output_type": "stream",
     "text": [
      "(1076360, 16)\n"
     ]
    },
    {
     "data": {
      "text/html": [
       "<div>\n",
       "<style scoped>\n",
       "    .dataframe tbody tr th:only-of-type {\n",
       "        vertical-align: middle;\n",
       "    }\n",
       "\n",
       "    .dataframe tbody tr th {\n",
       "        vertical-align: top;\n",
       "    }\n",
       "\n",
       "    .dataframe thead th {\n",
       "        text-align: right;\n",
       "    }\n",
       "</style>\n",
       "<table border=\"1\" class=\"dataframe\">\n",
       "  <thead>\n",
       "    <tr style=\"text-align: right;\">\n",
       "      <th></th>\n",
       "      <th>NumOfEventsInJourney</th>\n",
       "      <th>NumSessions</th>\n",
       "      <th>interactionTime</th>\n",
       "      <th>maxPrice</th>\n",
       "      <th>minPrice</th>\n",
       "      <th>NumCart</th>\n",
       "      <th>NumView</th>\n",
       "      <th>InsessionCart</th>\n",
       "      <th>InsessionView</th>\n",
       "      <th>year</th>\n",
       "      <th>month</th>\n",
       "      <th>weekday</th>\n",
       "      <th>timeOfDay</th>\n",
       "      <th>Weekend</th>\n",
       "      <th>Purchase</th>\n",
       "      <th>cluster</th>\n",
       "    </tr>\n",
       "  </thead>\n",
       "  <tbody>\n",
       "    <tr>\n",
       "      <th>0</th>\n",
       "      <td>1</td>\n",
       "      <td>1</td>\n",
       "      <td>0.0</td>\n",
       "      <td>939.28</td>\n",
       "      <td>939.28</td>\n",
       "      <td>0</td>\n",
       "      <td>0</td>\n",
       "      <td>0</td>\n",
       "      <td>0</td>\n",
       "      <td>2019</td>\n",
       "      <td>11</td>\n",
       "      <td>5</td>\n",
       "      <td>2</td>\n",
       "      <td>0</td>\n",
       "      <td>1</td>\n",
       "      <td>0</td>\n",
       "    </tr>\n",
       "    <tr>\n",
       "      <th>1</th>\n",
       "      <td>1</td>\n",
       "      <td>1</td>\n",
       "      <td>0.0</td>\n",
       "      <td>202.30</td>\n",
       "      <td>202.30</td>\n",
       "      <td>0</td>\n",
       "      <td>0</td>\n",
       "      <td>0</td>\n",
       "      <td>0</td>\n",
       "      <td>2019</td>\n",
       "      <td>11</td>\n",
       "      <td>7</td>\n",
       "      <td>5</td>\n",
       "      <td>0</td>\n",
       "      <td>1</td>\n",
       "      <td>0</td>\n",
       "    </tr>\n",
       "    <tr>\n",
       "      <th>2</th>\n",
       "      <td>1</td>\n",
       "      <td>1</td>\n",
       "      <td>0.0</td>\n",
       "      <td>617.52</td>\n",
       "      <td>617.52</td>\n",
       "      <td>0</td>\n",
       "      <td>0</td>\n",
       "      <td>0</td>\n",
       "      <td>0</td>\n",
       "      <td>2019</td>\n",
       "      <td>11</td>\n",
       "      <td>5</td>\n",
       "      <td>5</td>\n",
       "      <td>0</td>\n",
       "      <td>1</td>\n",
       "      <td>0</td>\n",
       "    </tr>\n",
       "    <tr>\n",
       "      <th>3</th>\n",
       "      <td>1</td>\n",
       "      <td>1</td>\n",
       "      <td>0.0</td>\n",
       "      <td>89.58</td>\n",
       "      <td>89.58</td>\n",
       "      <td>0</td>\n",
       "      <td>0</td>\n",
       "      <td>0</td>\n",
       "      <td>0</td>\n",
       "      <td>2019</td>\n",
       "      <td>11</td>\n",
       "      <td>6</td>\n",
       "      <td>2</td>\n",
       "      <td>0</td>\n",
       "      <td>1</td>\n",
       "      <td>0</td>\n",
       "    </tr>\n",
       "    <tr>\n",
       "      <th>4</th>\n",
       "      <td>1</td>\n",
       "      <td>1</td>\n",
       "      <td>0.0</td>\n",
       "      <td>46.33</td>\n",
       "      <td>46.33</td>\n",
       "      <td>0</td>\n",
       "      <td>0</td>\n",
       "      <td>0</td>\n",
       "      <td>0</td>\n",
       "      <td>2019</td>\n",
       "      <td>11</td>\n",
       "      <td>2</td>\n",
       "      <td>2</td>\n",
       "      <td>0</td>\n",
       "      <td>1</td>\n",
       "      <td>0</td>\n",
       "    </tr>\n",
       "  </tbody>\n",
       "</table>\n",
       "</div>"
      ],
      "text/plain": [
       "   NumOfEventsInJourney  NumSessions  interactionTime  maxPrice  minPrice  \\\n",
       "0                     1            1              0.0    939.28    939.28   \n",
       "1                     1            1              0.0    202.30    202.30   \n",
       "2                     1            1              0.0    617.52    617.52   \n",
       "3                     1            1              0.0     89.58     89.58   \n",
       "4                     1            1              0.0     46.33     46.33   \n",
       "\n",
       "   NumCart  NumView  InsessionCart  InsessionView  year  month  weekday  \\\n",
       "0        0        0              0              0  2019     11        5   \n",
       "1        0        0              0              0  2019     11        7   \n",
       "2        0        0              0              0  2019     11        5   \n",
       "3        0        0              0              0  2019     11        6   \n",
       "4        0        0              0              0  2019     11        2   \n",
       "\n",
       "   timeOfDay  Weekend  Purchase  cluster  \n",
       "0          2        0         1        0  \n",
       "1          5        0         1        0  \n",
       "2          5        0         1        0  \n",
       "3          2        0         1        0  \n",
       "4          2        0         1        0  "
      ]
     },
     "execution_count": 2,
     "metadata": {},
     "output_type": "execute_result"
    }
   ],
   "source": [
    "df = pd.read_csv(\"User_Journey_Based_Features.csv\")\n",
    "\n",
    "#Make categorical columns as numerical\n",
    "df['weekday']=df['weekday'].replace(['Mon','Tue','Wed','Thu','Fr','Sat','Sun'],[1,2,3,4,5,6,7])\n",
    "df['timeOfDay']=df['timeOfDay'].replace(['Dawn','EarlyMorning','Morning','Noon','Afternoon','Evening','Night'],[1,2,3,4,5,6,7])\n",
    "print(df.shape)\n",
    "df.head()"
   ]
  },
  {
   "cell_type": "code",
   "execution_count": 3,
   "metadata": {},
   "outputs": [],
   "source": [
    "# Next, to analyze composition of each cluster"
   ]
  },
  {
   "cell_type": "code",
   "execution_count": 4,
   "metadata": {},
   "outputs": [
    {
     "name": "stdout",
     "output_type": "stream",
     "text": [
      "[0 1 2 3 4]\n"
     ]
    }
   ],
   "source": [
    "column_values = df[\"cluster\"]. values. ravel()\n",
    "unique_values_a = np.array(pd.unique(column_values))\n",
    "unique_values=np.sort(unique_values_a)\n",
    "print(unique_values)\n"
   ]
  },
  {
   "cell_type": "code",
   "execution_count": 5,
   "metadata": {},
   "outputs": [
    {
     "name": "stdout",
     "output_type": "stream",
     "text": [
      "Number of records in cluster 0 = 1066615\n",
      "Number of records in cluster 1 = 2664\n",
      "Number of records in cluster 2 = 559\n",
      "Number of records in cluster 3 = 4621\n",
      "Number of records in cluster 4 = 1901\n"
     ]
    }
   ],
   "source": [
    "purchase_percentage=np.zeros(np.shape(unique_values))\n",
    "representation_percentage=np.zeros(np.shape(unique_values))\n",
    "for index, item in enumerate(unique_values):\n",
    "    locations=df.loc[df['cluster'] == item]\n",
    "    purchase=locations.loc[locations['Purchase']==1]\n",
    "    print('Number of records in cluster', item, '=', locations.shape[0])\n",
    "    representation_percentage[index]=round((locations.shape[0]/df.shape[0])*100,2)\n",
    "    purchase_percentage[index]=round((purchase.shape[0]/locations.shape[0])*100,2)\n",
    "    \n",
    "    "
   ]
  },
  {
   "cell_type": "code",
   "execution_count": 6,
   "metadata": {},
   "outputs": [
    {
     "name": "stdout",
     "output_type": "stream",
     "text": [
      "[9.909e+01 2.500e-01 5.000e-02 4.300e-01 1.800e-01]\n",
      "[1.35 6.91 8.59 6.47 7.68]\n"
     ]
    },
    {
     "data": {
      "image/png": "[encoded data removed]",
      "text/plain": [
       "<Figure size 432x288 with 1 Axes>"
      ]
     },
     "metadata": {
      "needs_background": "light"
     },
     "output_type": "display_data"
    }
   ],
   "source": [
    "print((representation_percentage))\n",
    "print(purchase_percentage)\n",
    "import matplotlib.pyplot as plt\n",
    "plt.scatter(representation_percentage,purchase_percentage)\n",
    "plt.xlabel('Representation')\n",
    "plt.ylabel('Purchase Percentage')\n",
    "plt.show()"
   ]
  },
  {
   "cell_type": "code",
   "execution_count": 7,
   "metadata": {},
   "outputs": [
    {
     "name": "stdout",
     "output_type": "stream",
     "text": [
      "31.0\n"
     ]
    }
   ],
   "source": [
    "print(np.sum(purchase_percentage))"
   ]
  },
  {
   "cell_type": "code",
   "execution_count": 8,
   "metadata": {},
   "outputs": [],
   "source": [
    "total_purchase=df.loc[df['Purchase']==1]"
   ]
  },
  {
   "cell_type": "code",
   "execution_count": 9,
   "metadata": {},
   "outputs": [
    {
     "name": "stdout",
     "output_type": "stream",
     "text": [
      "1.402597643910959\n"
     ]
    }
   ],
   "source": [
    "purchase_distrib=total_purchase.shape[0]/df.shape[0]\n",
    "print(purchase_distrib*100)"
   ]
  },
  {
   "cell_type": "code",
   "execution_count": 10,
   "metadata": {},
   "outputs": [],
   "source": [
    "#Thus, cluster 0 is closest to average purchase ratio"
   ]
  },
  {
   "cell_type": "code",
   "execution_count": 11,
   "metadata": {},
   "outputs": [],
   "source": [
    "#1. Lets find distances between clusters. Start with calinski-harabasz"
   ]
  },
  {
   "cell_type": "code",
   "execution_count": 12,
   "metadata": {},
   "outputs": [
    {
     "name": "stdout",
     "output_type": "stream",
     "text": [
      "(1076360, 5)\n"
     ]
    }
   ],
   "source": [
    "X=np.array(df[df.columns[0:8]])\n",
    "#X=np.array(df[df.columns[0:13]])\n",
    "#Normalize X to aid compute\n",
    "#X_n = (X-X.min(axis=0)) / (X.max(axis=0)-X.min(axis=0))\n",
    "Y=np.array(df[df.columns[15]])\n",
    "#################################\n",
    "#X=X[0:30000,:]\n",
    "#Y=Y[0:30000]\n",
    "#############################\n",
    "pca = PCA(n_components=5)\n",
    "pca.fit(X)\n",
    "X1=pca.transform(X)\n",
    "\n",
    "print(np.shape(X1))\n",
    "#start with 2 clusters to 5 and show CH score increases as clusters increase"
   ]
  },
  {
   "cell_type": "code",
   "execution_count": 13,
   "metadata": {},
   "outputs": [
    {
     "name": "stdout",
     "output_type": "stream",
     "text": [
      "[[6.13873989e-08 4.07296854e-01 1.20025576e-02 2.63611390e-01\n",
      "  3.22195130e-01]\n",
      " [1.32213735e-08 1.40100233e-01 1.20699827e-02 2.63480629e-01\n",
      "  3.22235297e-01]\n",
      " [4.03584696e-08 2.90640791e-01 1.20319949e-02 2.63554301e-01\n",
      "  3.22212666e-01]\n",
      " [5.85445128e-09 9.92329050e-02 1.20802953e-02 2.63460629e-01\n",
      "  3.22241440e-01]\n",
      " [3.02780660e-09 8.35523521e-02 1.20842522e-02 2.63452955e-01\n",
      "  3.22243797e-01]]\n"
     ]
    }
   ],
   "source": [
    "X1_n = (X1-X1.min(axis=0)) / (X1.max(axis=0)-X1.min(axis=0))\n",
    "X1=X1_n\n",
    "print(X1[0:5,:])"
   ]
  },
  {
   "cell_type": "code",
   "execution_count": 14,
   "metadata": {},
   "outputs": [
    {
     "name": "stdout",
     "output_type": "stream",
     "text": [
      "3\n",
      "1\n",
      "4\n",
      "2\n",
      "[3286.3600820166107, 6337.977544178263, 10906.913388917223, 12280.125196231755]\n",
      "[]\n"
     ]
    }
   ],
   "source": [
    "from sklearn import metrics\n",
    "from sklearn.metrics import pairwise_distances\n",
    "\n",
    "c_vals=[3,1,4,2]\n",
    "locs=np.array([])\n",
    "locations=np.where(Y==0)\n",
    "locs=np.append(locs,locations).astype(int)\n",
    "CH=[]\n",
    "SS=[]\n",
    "#To locate the cluster indices\n",
    "for index, item in enumerate(c_vals):\n",
    "    locations=np.where(Y==item)\n",
    "    locs=np.append(locs,locations).astype(int)\n",
    "    print(item)\n",
    "    m=metrics.calinski_harabasz_score(X1[locs,:], Y[locs])\n",
    "    #m=m/len(locs)\n",
    "    CH.append(m)\n",
    "    #SS.append(metrics.silhouette_score(X1[locs,:], Y[locs]))\n",
    "    #print(metrics.calinski_harabasz_score(X[locs,:], Y[locs]))\n",
    "    \n",
    "print(CH)\n",
    "print(SS)"
   ]
  },
  {
   "cell_type": "code",
   "execution_count": 15,
   "metadata": {},
   "outputs": [
    {
     "data": {
      "image/png": "[encoded data removed]",
      "text/plain": [
       "<Figure size 432x288 with 1 Axes>"
      ]
     },
     "metadata": {
      "needs_background": "light"
     },
     "output_type": "display_data"
    }
   ],
   "source": [
    "CH1=np.true_divide(CH,10**3)\n",
    "#plt.plot([2,3,4,5],CH1)\n",
    "#plt.plot([2,3,4,5],SS)\n",
    "#plt.hist(X1[:,0],bins=100)\n",
    "plt.hist(X1[:,1],bins=[0,0.1,0.2,0.3,0.4,0.5,0.6,0.7,0.8,0.9,1])\n",
    "plt.show()"
   ]
  },
  {
   "cell_type": "code",
   "execution_count": 16,
   "metadata": {},
   "outputs": [
    {
     "data": {
      "image/png": "[encoded data removed]",
      "text/plain": [
       "<Figure size 432x288 with 1 Axes>"
      ]
     },
     "metadata": {
      "needs_background": "light"
     },
     "output_type": "display_data"
    }
   ],
   "source": [
    "plt.hist(X1[:,0],bins=[0,0.1,0.2,0.3,0.4,0.5,0.6,0.7,0.8,0.9,1])\n",
    "#plt.plot(range(len(X1[:,0])),X1[:,0])\n",
    "plt.show()\n",
    "# Thirdcomponent has similar histogram. Top two are relevant"
   ]
  },
  {
   "cell_type": "code",
   "execution_count": 17,
   "metadata": {},
   "outputs": [
    {
     "name": "stdout",
     "output_type": "stream",
     "text": [
      "(1, 1066615)\n",
      "(1, 1066615)\n",
      "[[6.84424e+05 2.01386e+05 7.19420e+04 5.58970e+04 1.48110e+04 1.51450e+04\n",
      "  9.11900e+03 3.44700e+03 1.49600e+03 3.39800e+03]\n",
      " [5.40000e+02 2.12000e+02 7.70000e+01 9.30000e+01 1.00000e+01 1.00000e+01\n",
      "  9.00000e+00 3.00000e+00 0.00000e+00 3.00000e+00]\n",
      " [4.13000e+02 1.50000e+02 5.20000e+01 7.90000e+01 7.00000e+00 1.20000e+01\n",
      "  6.00000e+00 0.00000e+00 0.00000e+00 0.00000e+00]\n",
      " [3.75000e+02 1.50000e+02 6.40000e+01 5.80000e+01 4.00000e+00 9.00000e+00\n",
      "  1.00000e+01 1.00000e+00 0.00000e+00 0.00000e+00]\n",
      " [3.89000e+02 1.32000e+02 4.90000e+01 4.10000e+01 7.00000e+00 1.20000e+01\n",
      "  3.00000e+00 1.00000e+00 0.00000e+00 0.00000e+00]\n",
      " [4.09000e+02 1.37000e+02 4.70000e+01 6.60000e+01 7.00000e+00 8.00000e+00\n",
      "  5.00000e+00 0.00000e+00 2.00000e+00 1.00000e+00]\n",
      " [4.63000e+02 1.55000e+02 6.00000e+01 4.70000e+01 8.00000e+00 1.00000e+01\n",
      "  7.00000e+00 1.00000e+00 1.00000e+00 2.00000e+00]\n",
      " [3.11000e+02 1.22000e+02 3.10000e+01 3.60000e+01 9.00000e+00 9.00000e+00\n",
      "  5.00000e+00 1.00000e+00 0.00000e+00 0.00000e+00]\n",
      " [1.85000e+02 6.90000e+01 2.50000e+01 2.70000e+01 4.00000e+00 3.00000e+00\n",
      "  0.00000e+00 1.00000e+00 0.00000e+00 1.00000e+00]\n",
      " [1.66000e+02 6.10000e+01 2.40000e+01 2.80000e+01 2.00000e+00 1.00000e+01\n",
      "  2.00000e+00 1.00000e+00 0.00000e+00 0.00000e+00]]\n",
      "[0.         0.00514307 0.01028613 0.0154292  0.02057226 0.02571533\n",
      " 0.03085839 0.03600146 0.04114452 0.04628759 0.05143065]\n",
      "[0.06442562 0.15798306 0.25154049 0.34509793 0.43865537 0.53221281\n",
      " 0.62577025 0.71932769 0.81288512 0.90644256 1.        ]\n"
     ]
    }
   ],
   "source": [
    "#OPTIONAL\n",
    "#Bins=1000, size 10^-3 each\n",
    "loc0=np.where(Y==0)\n",
    "loc1=np.where(Y==1)\n",
    "print(np.shape(X1[loc0,0]))\n",
    "print(np.shape(X1[loc0,1]))\n",
    "hist0,xbin_edges0, ybin_edges0=np.histogram2d(np.squeeze(X1[loc0,0]),np.squeeze(X1[loc0,1]))\n",
    "#hist1,bin_edges1=np.histogram2d(X1[loc1,0],X1[loc1,1])\n",
    "print(hist0)\n",
    "print(xbin_edges0)\n",
    "#print(hist1)\n",
    "print(ybin_edges0)"
   ]
  },
  {
   "cell_type": "code",
   "execution_count": 107,
   "metadata": {},
   "outputs": [],
   "source": [
    "#Analyze histogram from each cluster\n",
    "from scipy.stats import wasserstein_distance\n",
    "\n",
    "#Step 1: find the histogram between clusters\n",
    "def get_histogram(X):\n",
    "    '''\n",
    "    X=[nxd]\n",
    "    '''\n",
    "    r, c = np.shape(X)\n",
    "    hist = [0.0] * 100001\n",
    "    X=(100000*X).astype(int)\n",
    "    \n",
    "    for i in range(r):\n",
    "        for j in range(c):\n",
    "            hist[X[i,j]] += 1\n",
    "    \n",
    "    return np.array(hist) / (r * c)"
   ]
  },
  {
   "cell_type": "code",
   "execution_count": 108,
   "metadata": {},
   "outputs": [
    {
     "name": "stdout",
     "output_type": "stream",
     "text": [
      "[[ 0.         14.53972319 15.58323447 13.95096608 14.95252816]\n",
      " [14.53972319  0.         10.01929308  4.22581366  3.95567444]\n",
      " [15.58323447 10.01929308  0.         10.7529708  10.19992642]\n",
      " [13.95096608  4.22581366 10.7529708   0.          5.89840583]\n",
      " [14.95252816  3.95567444 10.19992642  5.89840583  0.        ]]\n"
     ]
    }
   ],
   "source": [
    "#3. To find EMD between clusters\n",
    "\n",
    "\n",
    "#Step 2: Compute EMD per pairwise cluster combinations\n",
    "c_vals=[0,3,1,4,2] #These are the cluster names\n",
    "\n",
    "dist=np.zeros((5,5))\n",
    "for i in c_vals:\n",
    "    for j in c_vals:\n",
    "        #print(i,j)\n",
    "        loci=np.where(Y==i)\n",
    "        locj=np.where(Y==j)\n",
    "        a = np.squeeze(X1[loci,:])\n",
    "        b = np.squeeze(X1[locj,:])\n",
    "        #print(np.shape(a),np.shape(b))\n",
    "        a_hist = get_histogram(a)\n",
    "        b_hist = get_histogram(b)\n",
    "        dist[i,j] =wasserstein_distance(a_hist, b_hist)\n",
    "        #dist[j,i]= wasserstein_distance(b_hist, a_hist)\n",
    "dist=10**6*dist\n",
    "print(dist)"
   ]
  },
  {
   "cell_type": "code",
   "execution_count": 109,
   "metadata": {},
   "outputs": [],
   "source": [
    "def plot_confusion_matrix(cm,\n",
    "                          target_names,\n",
    "                          title='EMD',\n",
    "                          cmap=None,\n",
    "                          normalize=True):\n",
    "    \"\"\"\n",
    "    given a sklearn confusion matrix (cm), make a nice plot\n",
    "\n",
    "    Arguments\n",
    "    ---------\n",
    "    cm:           confusion matrix from sklearn.metrics.confusion_matrix\n",
    "\n",
    "    target_names: given classification classes such as [0, 1, 2]\n",
    "                  the class names, for example: ['high', 'medium', 'low']\n",
    "\n",
    "    title:        the text to display at the top of the matrix\n",
    "\n",
    "    cmap:         the gradient of the values displayed from matplotlib.pyplot.cm\n",
    "                  see http://matplotlib.org/examples/color/colormaps_reference.html\n",
    "                  plt.get_cmap('jet') or plt.cm.Blues\n",
    "\n",
    "    normalize:    If False, plot the raw numbers\n",
    "                  If True, plot the proportions\n",
    "\n",
    "    Usage\n",
    "    -----\n",
    "    plot_confusion_matrix(cm           = cm,                  # confusion matrix created by\n",
    "                                                              # sklearn.metrics.confusion_matrix\n",
    "                          normalize    = True,                # show proportions\n",
    "                          target_names = y_labels_vals,       # list of names of the classes\n",
    "                          title        = best_estimator_name) # title of graph\n",
    "\n",
    "    Citiation\n",
    "    ---------\n",
    "    http://scikit-learn.org/stable/auto_examples/model_selection/plot_confusion_matrix.html\n",
    "\n",
    "    \"\"\"\n",
    "    import matplotlib.pyplot as plt\n",
    "    import numpy as np\n",
    "    import itertools\n",
    "\n",
    "    accuracy = np.trace(cm) / np.sum(cm).astype('float')\n",
    "    misclass = 1 - accuracy\n",
    "\n",
    "    if cmap is None:\n",
    "        cmap = plt.get_cmap('Blues')\n",
    "\n",
    "    plt.figure(figsize=(10,10))\n",
    "    plt.imshow(cm, interpolation='nearest', cmap=cmap)\n",
    "    plt.title(title)\n",
    "    plt.colorbar()\n",
    "\n",
    "    if target_names is not None:\n",
    "        tick_marks = np.arange(len(target_names))\n",
    "        plt.xticks(tick_marks, target_names, rotation=45)\n",
    "        plt.yticks(tick_marks, target_names)\n",
    "\n",
    "    if normalize:\n",
    "        cm = cm.astype('float') / cm.sum(axis=1)[:, np.newaxis]\n",
    "\n",
    "\n",
    "    thresh = cm.max() / 1.5 if normalize else cm.max() / 2\n",
    "    for i, j in itertools.product(range(cm.shape[0]), range(cm.shape[1])):\n",
    "        if normalize:\n",
    "            plt.text(j, i, \"{:0.4f}\".format(cm[i, j]),\n",
    "                     horizontalalignment=\"center\",\n",
    "                     color=\"white\" if cm[i, j] > thresh else \"black\")\n",
    "        else:\n",
    "            plt.text(j, i, \"{:,}\".format(cm[i, j]),\n",
    "                     horizontalalignment=\"center\",\n",
    "                     color=\"white\" if cm[i, j] > thresh else \"black\")\n",
    "\n",
    "\n",
    "    plt.tight_layout()\n",
    "    plt.ylabel('User Cluster')\n",
    "    plt.xlabel('User Cluster')\n",
    "    plt.show()\n"
   ]
  },
  {
   "cell_type": "code",
   "execution_count": 110,
   "metadata": {},
   "outputs": [
    {
     "data": {
      "image/png": "[encoded data removed]",
      "text/plain": [
       "<Figure size 720x720 with 2 Axes>"
      ]
     },
     "metadata": {
      "needs_background": "light"
     },
     "output_type": "display_data"
    }
   ],
   "source": [
    "#from sklearn.metrics import ConfusionMatrixDisplay\n",
    "labs=['New shopper','Decisive shopper','Impulsive Shopper','Brand Shopper','Returning Decisive Shopper']\n",
    "#labs=c_vals\n",
    "#disp = ConfusionMatrixDisplay(confusion_matrix=dist,display_labels=labs)\n",
    "#disp.plot()\n",
    "plot_confusion_matrix(dist,labs)"
   ]
  },
  {
   "cell_type": "code",
   "execution_count": 21,
   "metadata": {},
   "outputs": [],
   "source": [
    "r,c=np.shape(X1)"
   ]
  },
  {
   "cell_type": "code",
   "execution_count": null,
   "metadata": {},
   "outputs": [],
   "source": []
  }
 ],
 "metadata": {
  "kernelspec": {
   "display_name": "Python 3",
   "language": "python",
   "name": "python3"
  },
  "language_info": {
   "codemirror_mode": {
    "name": "ipython",
    "version": 3
   },
   "file_extension": ".py",
   "mimetype": "text/x-python",
   "name": "python",
   "nbconvert_exporter": "python",
   "pygments_lexer": "ipython3",
   "version": "3.8.5"
  }
 },
 "nbformat": 4,
 "nbformat_minor": 2
}
