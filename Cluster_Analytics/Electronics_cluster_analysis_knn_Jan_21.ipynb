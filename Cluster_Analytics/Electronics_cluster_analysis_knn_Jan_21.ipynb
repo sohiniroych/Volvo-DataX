{
 "cells": [
  {
   "cell_type": "code",
   "execution_count": 1,
   "metadata": {},
   "outputs": [],
   "source": [
    "## Importing required Libraries\n",
    "import os\n",
    "import tensorflow as tf\n",
    "from tensorboard.plugins import projector\n",
    "import numpy as np\n",
    "import pandas as pd\n",
    "from sklearn.preprocessing import StandardScaler\n",
    "from sklearn.decomposition import PCA\n",
    "import seaborn as sb"
   ]
  },
  {
   "cell_type": "code",
   "execution_count": 2,
   "metadata": {},
   "outputs": [
    {
     "name": "stdout",
     "output_type": "stream",
     "text": [
      "(1076360, 16)\n"
     ]
    },
    {
     "data": {
      "text/html": [
       "<div>\n",
       "<style scoped>\n",
       "    .dataframe tbody tr th:only-of-type {\n",
       "        vertical-align: middle;\n",
       "    }\n",
       "\n",
       "    .dataframe tbody tr th {\n",
       "        vertical-align: top;\n",
       "    }\n",
       "\n",
       "    .dataframe thead th {\n",
       "        text-align: right;\n",
       "    }\n",
       "</style>\n",
       "<table border=\"1\" class=\"dataframe\">\n",
       "  <thead>\n",
       "    <tr style=\"text-align: right;\">\n",
       "      <th></th>\n",
       "      <th>NumOfEventsInJourney</th>\n",
       "      <th>NumSessions</th>\n",
       "      <th>interactionTime</th>\n",
       "      <th>maxPrice</th>\n",
       "      <th>minPrice</th>\n",
       "      <th>NumCart</th>\n",
       "      <th>NumView</th>\n",
       "      <th>InsessionCart</th>\n",
       "      <th>InsessionView</th>\n",
       "      <th>year</th>\n",
       "      <th>month</th>\n",
       "      <th>weekday</th>\n",
       "      <th>timeOfDay</th>\n",
       "      <th>Weekend</th>\n",
       "      <th>Purchase</th>\n",
       "      <th>cluster</th>\n",
       "    </tr>\n",
       "  </thead>\n",
       "  <tbody>\n",
       "    <tr>\n",
       "      <th>0</th>\n",
       "      <td>1</td>\n",
       "      <td>1</td>\n",
       "      <td>0.0</td>\n",
       "      <td>939.28</td>\n",
       "      <td>939.28</td>\n",
       "      <td>0</td>\n",
       "      <td>0</td>\n",
       "      <td>0</td>\n",
       "      <td>0</td>\n",
       "      <td>2019</td>\n",
       "      <td>11</td>\n",
       "      <td>5</td>\n",
       "      <td>2</td>\n",
       "      <td>0</td>\n",
       "      <td>1</td>\n",
       "      <td>0</td>\n",
       "    </tr>\n",
       "    <tr>\n",
       "      <th>1</th>\n",
       "      <td>1</td>\n",
       "      <td>1</td>\n",
       "      <td>0.0</td>\n",
       "      <td>202.30</td>\n",
       "      <td>202.30</td>\n",
       "      <td>0</td>\n",
       "      <td>0</td>\n",
       "      <td>0</td>\n",
       "      <td>0</td>\n",
       "      <td>2019</td>\n",
       "      <td>11</td>\n",
       "      <td>7</td>\n",
       "      <td>5</td>\n",
       "      <td>0</td>\n",
       "      <td>1</td>\n",
       "      <td>0</td>\n",
       "    </tr>\n",
       "    <tr>\n",
       "      <th>2</th>\n",
       "      <td>1</td>\n",
       "      <td>1</td>\n",
       "      <td>0.0</td>\n",
       "      <td>617.52</td>\n",
       "      <td>617.52</td>\n",
       "      <td>0</td>\n",
       "      <td>0</td>\n",
       "      <td>0</td>\n",
       "      <td>0</td>\n",
       "      <td>2019</td>\n",
       "      <td>11</td>\n",
       "      <td>5</td>\n",
       "      <td>5</td>\n",
       "      <td>0</td>\n",
       "      <td>1</td>\n",
       "      <td>0</td>\n",
       "    </tr>\n",
       "    <tr>\n",
       "      <th>3</th>\n",
       "      <td>1</td>\n",
       "      <td>1</td>\n",
       "      <td>0.0</td>\n",
       "      <td>89.58</td>\n",
       "      <td>89.58</td>\n",
       "      <td>0</td>\n",
       "      <td>0</td>\n",
       "      <td>0</td>\n",
       "      <td>0</td>\n",
       "      <td>2019</td>\n",
       "      <td>11</td>\n",
       "      <td>6</td>\n",
       "      <td>2</td>\n",
       "      <td>0</td>\n",
       "      <td>1</td>\n",
       "      <td>0</td>\n",
       "    </tr>\n",
       "    <tr>\n",
       "      <th>4</th>\n",
       "      <td>1</td>\n",
       "      <td>1</td>\n",
       "      <td>0.0</td>\n",
       "      <td>46.33</td>\n",
       "      <td>46.33</td>\n",
       "      <td>0</td>\n",
       "      <td>0</td>\n",
       "      <td>0</td>\n",
       "      <td>0</td>\n",
       "      <td>2019</td>\n",
       "      <td>11</td>\n",
       "      <td>2</td>\n",
       "      <td>2</td>\n",
       "      <td>0</td>\n",
       "      <td>1</td>\n",
       "      <td>0</td>\n",
       "    </tr>\n",
       "  </tbody>\n",
       "</table>\n",
       "</div>"
      ],
      "text/plain": [
       "   NumOfEventsInJourney  NumSessions  interactionTime  maxPrice  minPrice  \\\n",
       "0                     1            1              0.0    939.28    939.28   \n",
       "1                     1            1              0.0    202.30    202.30   \n",
       "2                     1            1              0.0    617.52    617.52   \n",
       "3                     1            1              0.0     89.58     89.58   \n",
       "4                     1            1              0.0     46.33     46.33   \n",
       "\n",
       "   NumCart  NumView  InsessionCart  InsessionView  year  month  weekday  \\\n",
       "0        0        0              0              0  2019     11        5   \n",
       "1        0        0              0              0  2019     11        7   \n",
       "2        0        0              0              0  2019     11        5   \n",
       "3        0        0              0              0  2019     11        6   \n",
       "4        0        0              0              0  2019     11        2   \n",
       "\n",
       "   timeOfDay  Weekend  Purchase  cluster  \n",
       "0          2        0         1        0  \n",
       "1          5        0         1        0  \n",
       "2          5        0         1        0  \n",
       "3          2        0         1        0  \n",
       "4          2        0         1        0  "
      ]
     },
     "execution_count": 2,
     "metadata": {},
     "output_type": "execute_result"
    }
   ],
   "source": [
    "df = pd.read_csv(\"User_Journey_Based_Features.csv\")\n",
    "\n",
    "#Make categorical columns as numerical\n",
    "df['weekday']=df['weekday'].replace(['Mon','Tue','Wed','Thu','Fr','Sat','Sun'],[1,2,3,4,5,6,7])\n",
    "df['timeOfDay']=df['timeOfDay'].replace(['Dawn','EarlyMorning','Morning','Noon','Afternoon','Evening','Night'],[1,2,3,4,5,6,7])\n",
    "print(df.shape)\n",
    "df.head()"
   ]
  },
  {
   "cell_type": "code",
   "execution_count": 4,
   "metadata": {},
   "outputs": [
    {
     "name": "stdout",
     "output_type": "stream",
     "text": [
      "[0 1 2 3 4]\n"
     ]
    }
   ],
   "source": [
    "column_values = df[\"cluster\"]. values. ravel()\n",
    "unique_values_a = np.array(pd.unique(column_values))\n",
    "unique_values=np.sort(unique_values_a)\n",
    "print(unique_values)\n"
   ]
  },
  {
   "cell_type": "code",
   "execution_count": 5,
   "metadata": {},
   "outputs": [
    {
     "name": "stdout",
     "output_type": "stream",
     "text": [
      "Number of records in cluster 0 = 1066615\n",
      "Number of records in cluster 1 = 2664\n",
      "Number of records in cluster 2 = 559\n",
      "Number of records in cluster 3 = 4621\n",
      "Number of records in cluster 4 = 1901\n"
     ]
    }
   ],
   "source": [
    "purchase_percentage=np.zeros(np.shape(unique_values))\n",
    "representation_percentage=np.zeros(np.shape(unique_values))\n",
    "for index, item in enumerate(unique_values):\n",
    "    locations=df.loc[df['cluster'] == item]\n",
    "    purchase=locations.loc[locations['Purchase']==1]\n",
    "    print('Number of records in cluster', item, '=', locations.shape[0])\n",
    "    representation_percentage[index]=round((locations.shape[0]/df.shape[0])*100,2)\n",
    "    purchase_percentage[index]=round((purchase.shape[0]/locations.shape[0])*100,2)\n",
    "    \n",
    "    "
   ]
  },
  {
   "cell_type": "code",
   "execution_count": 6,
   "metadata": {},
   "outputs": [
    {
     "name": "stdout",
     "output_type": "stream",
     "text": [
      "[9.909e+01 2.500e-01 5.000e-02 4.300e-01 1.800e-01]\n",
      "[1.35 6.91 8.59 6.47 7.68]\n"
     ]
    },
    {
     "data": {
      "image/png": "[encoded data removed]",
      "text/plain": [
       "<Figure size 432x288 with 1 Axes>"
      ]
     },
     "metadata": {
      "needs_background": "light"
     },
     "output_type": "display_data"
    }
   ],
   "source": [
    "print((representation_percentage))\n",
    "print(purchase_percentage)\n",
    "import matplotlib.pyplot as plt\n",
    "plt.scatter(representation_percentage,purchase_percentage)\n",
    "plt.xlabel('Representation')\n",
    "plt.ylabel('Purchase Percentage')\n",
    "plt.show()"
   ]
  },
  {
   "cell_type": "code",
   "execution_count": 7,
   "metadata": {},
   "outputs": [
    {
     "name": "stdout",
     "output_type": "stream",
     "text": [
      "31.0\n"
     ]
    }
   ],
   "source": [
    "print(np.sum(purchase_percentage))"
   ]
  },
  {
   "cell_type": "code",
   "execution_count": 8,
   "metadata": {},
   "outputs": [],
   "source": [
    "total_purchase=df.loc[df['Purchase']==1]"
   ]
  },
  {
   "cell_type": "code",
   "execution_count": 9,
   "metadata": {},
   "outputs": [
    {
     "name": "stdout",
     "output_type": "stream",
     "text": [
      "1.402597643910959\n"
     ]
    }
   ],
   "source": [
    "purchase_distrib=total_purchase.shape[0]/df.shape[0]\n",
    "print(purchase_distrib*100)"
   ]
  },
  {
   "cell_type": "code",
   "execution_count": 10,
   "metadata": {},
   "outputs": [],
   "source": [
    "#Data dim reduction followed by 70-30 split"
   ]
  },
  {
   "cell_type": "code",
   "execution_count": 11,
   "metadata": {},
   "outputs": [],
   "source": [
    "#1. Lets find distances between clusters. Start with calinski-harabasz"
   ]
  },
  {
   "cell_type": "code",
   "execution_count": 12,
   "metadata": {},
   "outputs": [
    {
     "data": {
      "image/png": "[encoded data removed]",
      "text/plain": [
       "<Figure size 432x288 with 1 Axes>"
      ]
     },
     "metadata": {
      "needs_background": "light"
     },
     "output_type": "display_data"
    }
   ],
   "source": [
    "X=np.array(df[df.columns[0:8]])\n",
    "#X=np.array(df[df.columns[0:13]])\n",
    "#Normalize X to aid compute\n",
    "#X_n = (X-X.min(axis=0)) / (X.max(axis=0)-X.min(axis=0))\n",
    "Y=np.array(df[['Purchase', 'cluster']] )\n",
    "plt.hist(Y[:,0])\n",
    "#################################\n",
    "#X=X[0:30000,:]\n",
    "#Y=Y[0:30000]\n",
    "#############################\n",
    "pca = PCA(n_components=5)\n",
    "pca.fit(X)\n",
    "X1=pca.transform(X)\n",
    "\n",
    "\n",
    "#start with 2 clusters to 5 and show CH score increases as clusters increase"
   ]
  },
  {
   "cell_type": "code",
   "execution_count": 13,
   "metadata": {},
   "outputs": [
    {
     "name": "stdout",
     "output_type": "stream",
     "text": [
      "[[6.13873989e-08 4.07296854e-01 1.20025576e-02 2.63611390e-01\n",
      "  3.22195130e-01]\n",
      " [1.32213735e-08 1.40100233e-01 1.20699827e-02 2.63480629e-01\n",
      "  3.22235297e-01]\n",
      " [4.03584696e-08 2.90640791e-01 1.20319949e-02 2.63554301e-01\n",
      "  3.22212666e-01]\n",
      " [5.85445128e-09 9.92329050e-02 1.20802953e-02 2.63460629e-01\n",
      "  3.22241440e-01]\n",
      " [3.02780660e-09 8.35523521e-02 1.20842522e-02 2.63452955e-01\n",
      "  3.22243797e-01]]\n"
     ]
    }
   ],
   "source": [
    "X1_n = (X1-X1.min(axis=0)) / (X1.max(axis=0)-X1.min(axis=0))\n",
    "X1=X1_n\n",
    "print(X1[0:5,:])"
   ]
  },
  {
   "cell_type": "code",
   "execution_count": 14,
   "metadata": {},
   "outputs": [],
   "source": [
    "from sklearn.model_selection import train_test_split\n"
   ]
  },
  {
   "cell_type": "code",
   "execution_count": 15,
   "metadata": {},
   "outputs": [],
   "source": [
    "#train k-nn\n",
    "from sklearn.neighbors import KNeighborsClassifier\n"
   ]
  },
  {
   "cell_type": "code",
   "execution_count": 17,
   "metadata": {},
   "outputs": [],
   "source": [
    "from sklearn.metrics import accuracy_score as accuracy\n",
    "from sklearn.metrics import recall_score as recall\n",
    "from sklearn.metrics import precision_score as precision\n",
    "from sklearn.metrics import f1_score\n",
    "from sklearn.tree import DecisionTreeClassifier\n"
   ]
  },
  {
   "cell_type": "code",
   "execution_count": null,
   "metadata": {},
   "outputs": [
    {
     "name": "stdout",
     "output_type": "stream",
     "text": [
      "Simulation #= 0\n",
      "Simulation #= 1\n",
      "Simulation #= 2\n",
      "Simulation #= 3\n",
      "Simulation #= 4\n",
      "Simulation #= 5\n",
      "Simulation #= 6\n",
      "Simulation #= 7\n",
      "Simulation #= 8\n"
     ]
    }
   ],
   "source": [
    "# Now loop through many simulations\n",
    "import random\n",
    "acc=0\n",
    "rec=0\n",
    "prec=0\n",
    "f1=0\n",
    "acc_c=np.zeros((5))\n",
    "rec_c=np.zeros((5))\n",
    "prec_c=np.zeros((5))\n",
    "f1_c=np.zeros((5))\n",
    "sims=10\n",
    "\n",
    "for sim in range(sims):\n",
    "    print('Simulation #=',sim)\n",
    "    [X_train, X_test, y_train, y_test]=train_test_split(X1,Y,test_size=0.3, random_state=random.randint(0,1000),stratify=Y[:,1])\n",
    "    neigh = KNeighborsClassifier(n_neighbors=3)\n",
    "    neigh.fit(X_train, y_train[:,0])\n",
    "    #clf = DecisionTreeClassifier(max_depth=10, min_samples_leaf=3, min_samples_split=2)\n",
    "    #clf.fit(X_train, y_train[:,0])\n",
    "    kpred=neigh.predict(X_test)\n",
    "    acc   = acc+accuracy(y_test[:,0], kpred)\n",
    "    rec   = rec+recall(y_test[:,0], kpred)\n",
    "    prec  = prec+precision(y_test[:,0], kpred)\n",
    "    f1    = f1+f1_score(y_test[:,0], kpred)\n",
    "    for index, item in enumerate(unique_values):\n",
    "        idx=np.where(y_test[:,1]==item)\n",
    "        ytest_c=np.squeeze(y_test[idx,0])\n",
    "        kpred_c=kpred[idx]\n",
    "        #rint(ytest_c.shape,kpred_c.shape)\n",
    "        acc_c[item]   = acc_c[item]+accuracy(ytest_c, kpred_c)\n",
    "        rec_c[item]   = rec_c[item]+recall(ytest_c, kpred_c)\n",
    "        prec_c[item]  = prec_c[item]+precision(ytest_c, kpred_c)\n",
    "        f1_c[item]    = f1_c[item]+f1_score(ytest_c, kpred_c)\n",
    "    \n",
    "print(f'Overall Accuracy = {acc/sims}, Precision = {prec/sims}, Recall = {rec/sims}, F1-score = {f1/sims}')  \n",
    "print(f'Per cluster Accuracy {np.true_divide(acc_c,sims)}, \\n Precision {np.true_divide(prec_c,sims)}, \\n Recall {np.true_divide(rec_c,sims)}, \\n F1-score {np.true_divide(f1_c,sims)}') "
   ]
  },
  {
   "cell_type": "code",
   "execution_count": null,
   "metadata": {},
   "outputs": [],
   "source": []
  }
 ],
 "metadata": {
  "kernelspec": {
   "display_name": "Python 3",
   "language": "python",
   "name": "python3"
  },
  "language_info": {
   "codemirror_mode": {
    "name": "ipython",
    "version": 3
   },
   "file_extension": ".py",
   "mimetype": "text/x-python",
   "name": "python",
   "nbconvert_exporter": "python",
   "pygments_lexer": "ipython3",
   "version": "3.8.5"
  }
 },
 "nbformat": 4,
 "nbformat_minor": 2
}
