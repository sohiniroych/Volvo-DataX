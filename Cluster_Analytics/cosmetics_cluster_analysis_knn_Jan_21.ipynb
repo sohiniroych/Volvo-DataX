{
 "cells": [
  {
   "cell_type": "code",
   "execution_count": 1,
   "metadata": {},
   "outputs": [],
   "source": [
    "## Importing required Libraries\n",
    "import os\n",
    "import tensorflow as tf\n",
    "from tensorboard.plugins import projector\n",
    "import numpy as np\n",
    "import pandas as pd\n",
    "from sklearn.preprocessing import StandardScaler\n",
    "from sklearn.decomposition import PCA\n",
    "import seaborn as sb"
   ]
  },
  {
   "cell_type": "code",
   "execution_count": 2,
   "metadata": {},
   "outputs": [
    {
     "data": {
      "text/html": [
       "<div>\n",
       "<style scoped>\n",
       "    .dataframe tbody tr th:only-of-type {\n",
       "        vertical-align: middle;\n",
       "    }\n",
       "\n",
       "    .dataframe tbody tr th {\n",
       "        vertical-align: top;\n",
       "    }\n",
       "\n",
       "    .dataframe thead th {\n",
       "        text-align: right;\n",
       "    }\n",
       "</style>\n",
       "<table border=\"1\" class=\"dataframe\">\n",
       "  <thead>\n",
       "    <tr style=\"text-align: right;\">\n",
       "      <th></th>\n",
       "      <th>user_id</th>\n",
       "      <th>product_id</th>\n",
       "      <th>NumOfEventsInJourney</th>\n",
       "      <th>NumSessions</th>\n",
       "      <th>interactionTime</th>\n",
       "      <th>maxPrice</th>\n",
       "      <th>minPrice</th>\n",
       "      <th>NumCart</th>\n",
       "      <th>NumView</th>\n",
       "      <th>NumRemove</th>\n",
       "      <th>...</th>\n",
       "      <th>Dec</th>\n",
       "      <th>Afternoon</th>\n",
       "      <th>Dawn</th>\n",
       "      <th>EarlyMorning</th>\n",
       "      <th>Evening</th>\n",
       "      <th>Morning</th>\n",
       "      <th>Night</th>\n",
       "      <th>Noon</th>\n",
       "      <th>Purchase</th>\n",
       "      <th>clusterID</th>\n",
       "    </tr>\n",
       "  </thead>\n",
       "  <tbody>\n",
       "    <tr>\n",
       "      <th>0</th>\n",
       "      <td>586731299</td>\n",
       "      <td>5802440</td>\n",
       "      <td>2</td>\n",
       "      <td>2</td>\n",
       "      <td>22192.0</td>\n",
       "      <td>2.16</td>\n",
       "      <td>2.16</td>\n",
       "      <td>1</td>\n",
       "      <td>0</td>\n",
       "      <td>0</td>\n",
       "      <td>...</td>\n",
       "      <td>1</td>\n",
       "      <td>1</td>\n",
       "      <td>0</td>\n",
       "      <td>0</td>\n",
       "      <td>0</td>\n",
       "      <td>0</td>\n",
       "      <td>0</td>\n",
       "      <td>0</td>\n",
       "      <td>1</td>\n",
       "      <td>1</td>\n",
       "    </tr>\n",
       "    <tr>\n",
       "      <th>1</th>\n",
       "      <td>569852676</td>\n",
       "      <td>4938</td>\n",
       "      <td>2</td>\n",
       "      <td>1</td>\n",
       "      <td>499.0</td>\n",
       "      <td>1.43</td>\n",
       "      <td>1.43</td>\n",
       "      <td>1</td>\n",
       "      <td>0</td>\n",
       "      <td>0</td>\n",
       "      <td>...</td>\n",
       "      <td>0</td>\n",
       "      <td>0</td>\n",
       "      <td>0</td>\n",
       "      <td>0</td>\n",
       "      <td>1</td>\n",
       "      <td>0</td>\n",
       "      <td>0</td>\n",
       "      <td>0</td>\n",
       "      <td>1</td>\n",
       "      <td>1</td>\n",
       "    </tr>\n",
       "    <tr>\n",
       "      <th>2</th>\n",
       "      <td>448826103</td>\n",
       "      <td>5814048</td>\n",
       "      <td>3</td>\n",
       "      <td>2</td>\n",
       "      <td>7226454.0</td>\n",
       "      <td>6.27</td>\n",
       "      <td>5.95</td>\n",
       "      <td>2</td>\n",
       "      <td>0</td>\n",
       "      <td>0</td>\n",
       "      <td>...</td>\n",
       "      <td>0</td>\n",
       "      <td>0</td>\n",
       "      <td>0</td>\n",
       "      <td>0</td>\n",
       "      <td>0</td>\n",
       "      <td>0</td>\n",
       "      <td>0</td>\n",
       "      <td>1</td>\n",
       "      <td>1</td>\n",
       "      <td>3</td>\n",
       "    </tr>\n",
       "    <tr>\n",
       "      <th>3</th>\n",
       "      <td>448826103</td>\n",
       "      <td>5814047</td>\n",
       "      <td>2</td>\n",
       "      <td>1</td>\n",
       "      <td>1381.0</td>\n",
       "      <td>6.27</td>\n",
       "      <td>6.27</td>\n",
       "      <td>1</td>\n",
       "      <td>0</td>\n",
       "      <td>0</td>\n",
       "      <td>...</td>\n",
       "      <td>0</td>\n",
       "      <td>0</td>\n",
       "      <td>0</td>\n",
       "      <td>0</td>\n",
       "      <td>0</td>\n",
       "      <td>0</td>\n",
       "      <td>0</td>\n",
       "      <td>1</td>\n",
       "      <td>1</td>\n",
       "      <td>1</td>\n",
       "    </tr>\n",
       "    <tr>\n",
       "      <th>4</th>\n",
       "      <td>448826103</td>\n",
       "      <td>5787041</td>\n",
       "      <td>5</td>\n",
       "      <td>1</td>\n",
       "      <td>374.0</td>\n",
       "      <td>9.52</td>\n",
       "      <td>9.52</td>\n",
       "      <td>4</td>\n",
       "      <td>0</td>\n",
       "      <td>0</td>\n",
       "      <td>...</td>\n",
       "      <td>0</td>\n",
       "      <td>0</td>\n",
       "      <td>0</td>\n",
       "      <td>0</td>\n",
       "      <td>0</td>\n",
       "      <td>0</td>\n",
       "      <td>0</td>\n",
       "      <td>1</td>\n",
       "      <td>1</td>\n",
       "      <td>1</td>\n",
       "    </tr>\n",
       "  </tbody>\n",
       "</table>\n",
       "<p>5 rows × 37 columns</p>\n",
       "</div>"
      ],
      "text/plain": [
       "     user_id  product_id  NumOfEventsInJourney  NumSessions  interactionTime  \\\n",
       "0  586731299     5802440                     2            2          22192.0   \n",
       "1  569852676        4938                     2            1            499.0   \n",
       "2  448826103     5814048                     3            2        7226454.0   \n",
       "3  448826103     5814047                     2            1           1381.0   \n",
       "4  448826103     5787041                     5            1            374.0   \n",
       "\n",
       "   maxPrice  minPrice  NumCart  NumView  NumRemove  ...  Dec  Afternoon  Dawn  \\\n",
       "0      2.16      2.16        1        0          0  ...    1          1     0   \n",
       "1      1.43      1.43        1        0          0  ...    0          0     0   \n",
       "2      6.27      5.95        2        0          0  ...    0          0     0   \n",
       "3      6.27      6.27        1        0          0  ...    0          0     0   \n",
       "4      9.52      9.52        4        0          0  ...    0          0     0   \n",
       "\n",
       "   EarlyMorning  Evening  Morning  Night  Noon  Purchase  clusterID  \n",
       "0             0        0        0      0     0         1          1  \n",
       "1             0        1        0      0     0         1          1  \n",
       "2             0        0        0      0     1         1          3  \n",
       "3             0        0        0      0     1         1          1  \n",
       "4             0        0        0      0     1         1          1  \n",
       "\n",
       "[5 rows x 37 columns]"
      ]
     },
     "execution_count": 2,
     "metadata": {},
     "output_type": "execute_result"
    }
   ],
   "source": [
    "df = pd.read_csv(\"Journey_Clusters_5.csv\")\n",
    "\n",
    "#df=df.drop(columns=['clusterID'])\n",
    "df=df.drop(df.columns[0], axis=1)\n",
    "df.head()"
   ]
  },
  {
   "cell_type": "code",
   "execution_count": 3,
   "metadata": {},
   "outputs": [
    {
     "data": {
      "text/html": [
       "<div>\n",
       "<style scoped>\n",
       "    .dataframe tbody tr th:only-of-type {\n",
       "        vertical-align: middle;\n",
       "    }\n",
       "\n",
       "    .dataframe tbody tr th {\n",
       "        vertical-align: top;\n",
       "    }\n",
       "\n",
       "    .dataframe thead th {\n",
       "        text-align: right;\n",
       "    }\n",
       "</style>\n",
       "<table border=\"1\" class=\"dataframe\">\n",
       "  <thead>\n",
       "    <tr style=\"text-align: right;\">\n",
       "      <th></th>\n",
       "      <th>NumOfEventsInJourney</th>\n",
       "      <th>NumSessions</th>\n",
       "      <th>interactionTime</th>\n",
       "      <th>maxPrice</th>\n",
       "      <th>minPrice</th>\n",
       "      <th>NumCart</th>\n",
       "      <th>NumView</th>\n",
       "      <th>NumRemove</th>\n",
       "      <th>InsessionCart</th>\n",
       "      <th>InsessionView</th>\n",
       "      <th>...</th>\n",
       "      <th>Dec</th>\n",
       "      <th>Afternoon</th>\n",
       "      <th>Dawn</th>\n",
       "      <th>EarlyMorning</th>\n",
       "      <th>Evening</th>\n",
       "      <th>Morning</th>\n",
       "      <th>Night</th>\n",
       "      <th>Noon</th>\n",
       "      <th>Purchase</th>\n",
       "      <th>clusterID</th>\n",
       "    </tr>\n",
       "  </thead>\n",
       "  <tbody>\n",
       "    <tr>\n",
       "      <th>7454313</th>\n",
       "      <td>1</td>\n",
       "      <td>1</td>\n",
       "      <td>0.0</td>\n",
       "      <td>4.76</td>\n",
       "      <td>4.76</td>\n",
       "      <td>0</td>\n",
       "      <td>1</td>\n",
       "      <td>0</td>\n",
       "      <td>23</td>\n",
       "      <td>48</td>\n",
       "      <td>...</td>\n",
       "      <td>1</td>\n",
       "      <td>0</td>\n",
       "      <td>0</td>\n",
       "      <td>0</td>\n",
       "      <td>0</td>\n",
       "      <td>1</td>\n",
       "      <td>0</td>\n",
       "      <td>0</td>\n",
       "      <td>0</td>\n",
       "      <td>1</td>\n",
       "    </tr>\n",
       "    <tr>\n",
       "      <th>3530154</th>\n",
       "      <td>3</td>\n",
       "      <td>1</td>\n",
       "      <td>241.0</td>\n",
       "      <td>14.13</td>\n",
       "      <td>14.13</td>\n",
       "      <td>1</td>\n",
       "      <td>0</td>\n",
       "      <td>2</td>\n",
       "      <td>5</td>\n",
       "      <td>7</td>\n",
       "      <td>...</td>\n",
       "      <td>0</td>\n",
       "      <td>1</td>\n",
       "      <td>0</td>\n",
       "      <td>0</td>\n",
       "      <td>0</td>\n",
       "      <td>0</td>\n",
       "      <td>0</td>\n",
       "      <td>0</td>\n",
       "      <td>0</td>\n",
       "      <td>1</td>\n",
       "    </tr>\n",
       "    <tr>\n",
       "      <th>7397970</th>\n",
       "      <td>3</td>\n",
       "      <td>2</td>\n",
       "      <td>1118747.0</td>\n",
       "      <td>7.78</td>\n",
       "      <td>7.78</td>\n",
       "      <td>0</td>\n",
       "      <td>1</td>\n",
       "      <td>2</td>\n",
       "      <td>0</td>\n",
       "      <td>5</td>\n",
       "      <td>...</td>\n",
       "      <td>0</td>\n",
       "      <td>0</td>\n",
       "      <td>0</td>\n",
       "      <td>0</td>\n",
       "      <td>1</td>\n",
       "      <td>0</td>\n",
       "      <td>0</td>\n",
       "      <td>0</td>\n",
       "      <td>0</td>\n",
       "      <td>4</td>\n",
       "    </tr>\n",
       "    <tr>\n",
       "      <th>7964780</th>\n",
       "      <td>2</td>\n",
       "      <td>2</td>\n",
       "      <td>695753.0</td>\n",
       "      <td>7.49</td>\n",
       "      <td>7.49</td>\n",
       "      <td>0</td>\n",
       "      <td>2</td>\n",
       "      <td>0</td>\n",
       "      <td>7</td>\n",
       "      <td>19</td>\n",
       "      <td>...</td>\n",
       "      <td>0</td>\n",
       "      <td>0</td>\n",
       "      <td>0</td>\n",
       "      <td>0</td>\n",
       "      <td>0</td>\n",
       "      <td>0</td>\n",
       "      <td>0</td>\n",
       "      <td>1</td>\n",
       "      <td>0</td>\n",
       "      <td>4</td>\n",
       "    </tr>\n",
       "    <tr>\n",
       "      <th>78087</th>\n",
       "      <td>3</td>\n",
       "      <td>1</td>\n",
       "      <td>2155.0</td>\n",
       "      <td>16.19</td>\n",
       "      <td>16.19</td>\n",
       "      <td>1</td>\n",
       "      <td>1</td>\n",
       "      <td>0</td>\n",
       "      <td>29</td>\n",
       "      <td>1</td>\n",
       "      <td>...</td>\n",
       "      <td>0</td>\n",
       "      <td>1</td>\n",
       "      <td>0</td>\n",
       "      <td>0</td>\n",
       "      <td>0</td>\n",
       "      <td>0</td>\n",
       "      <td>0</td>\n",
       "      <td>0</td>\n",
       "      <td>1</td>\n",
       "      <td>1</td>\n",
       "    </tr>\n",
       "  </tbody>\n",
       "</table>\n",
       "<p>5 rows × 35 columns</p>\n",
       "</div>"
      ],
      "text/plain": [
       "         NumOfEventsInJourney  NumSessions  interactionTime  maxPrice  \\\n",
       "7454313                     1            1              0.0      4.76   \n",
       "3530154                     3            1            241.0     14.13   \n",
       "7397970                     3            2        1118747.0      7.78   \n",
       "7964780                     2            2         695753.0      7.49   \n",
       "78087                       3            1           2155.0     16.19   \n",
       "\n",
       "         minPrice  NumCart  NumView  NumRemove  InsessionCart  InsessionView  \\\n",
       "7454313      4.76        0        1          0             23             48   \n",
       "3530154     14.13        1        0          2              5              7   \n",
       "7397970      7.78        0        1          2              0              5   \n",
       "7964780      7.49        0        2          0              7             19   \n",
       "78087       16.19        1        1          0             29              1   \n",
       "\n",
       "         ...  Dec  Afternoon  Dawn  EarlyMorning  Evening  Morning  Night  \\\n",
       "7454313  ...    1          0     0             0        0        1      0   \n",
       "3530154  ...    0          1     0             0        0        0      0   \n",
       "7397970  ...    0          0     0             0        1        0      0   \n",
       "7964780  ...    0          0     0             0        0        0      0   \n",
       "78087    ...    0          1     0             0        0        0      0   \n",
       "\n",
       "         Noon  Purchase  clusterID  \n",
       "7454313     0         0          1  \n",
       "3530154     0         0          1  \n",
       "7397970     0         0          4  \n",
       "7964780     1         0          4  \n",
       "78087       0         1          1  \n",
       "\n",
       "[5 rows x 35 columns]"
      ]
     },
     "execution_count": 3,
     "metadata": {},
     "output_type": "execute_result"
    }
   ],
   "source": [
    "#df=df.drop(columns=['clusterID'])\n",
    "df=df.drop(['user_id','product_id'], axis=1)\n",
    "from sklearn.utils import shuffle\n",
    "df = shuffle(df)\n",
    "df.head()"
   ]
  },
  {
   "cell_type": "code",
   "execution_count": 4,
   "metadata": {},
   "outputs": [
    {
     "name": "stdout",
     "output_type": "stream",
     "text": [
      "NumOfEventsInJourney\n",
      "NumSessions\n",
      "interactionTime\n",
      "maxPrice\n",
      "minPrice\n",
      "NumCart\n",
      "NumView\n",
      "NumRemove\n",
      "InsessionCart\n",
      "InsessionView\n",
      "InsessionRemove\n",
      "Weekend\n",
      "Fr\n",
      "Mon\n",
      "Sat\n",
      "Sun\n",
      "Thu\n",
      "Tue\n",
      "Wed\n",
      "2019\n",
      "2020\n",
      "Jan\n",
      "Feb\n",
      "Oct\n",
      "Nov\n",
      "Dec\n",
      "Afternoon\n",
      "Dawn\n",
      "EarlyMorning\n",
      "Evening\n",
      "Morning\n",
      "Night\n",
      "Noon\n",
      "Purchase\n",
      "clusterID\n"
     ]
    }
   ],
   "source": [
    "# Next, to analyze composition of each cluster\n",
    "for col in df.columns: \n",
    "    print(col) "
   ]
  },
  {
   "cell_type": "code",
   "execution_count": 5,
   "metadata": {},
   "outputs": [
    {
     "name": "stdout",
     "output_type": "stream",
     "text": [
      "[0 1 2 3 4]\n"
     ]
    }
   ],
   "source": [
    "column_values = df[\"clusterID\"]. values. ravel()\n",
    "unique_values_a = np.array(pd.unique(column_values))\n",
    "unique_values=np.sort(unique_values_a)\n",
    "print(unique_values)\n"
   ]
  },
  {
   "cell_type": "code",
   "execution_count": 6,
   "metadata": {},
   "outputs": [
    {
     "name": "stdout",
     "output_type": "stream",
     "text": [
      "Number of records in cluster 0 = 222715\n",
      "Number of records in cluster 1 = 9261877\n",
      "Number of records in cluster 2 = 62673\n",
      "Number of records in cluster 3 = 118332\n",
      "Number of records in cluster 4 = 490603\n"
     ]
    }
   ],
   "source": [
    "purchase_percentage=np.zeros(np.shape(unique_values))\n",
    "representation_percentage=np.zeros(np.shape(unique_values))\n",
    "for index, item in enumerate(unique_values):\n",
    "    locations=df.loc[df['clusterID'] == item]\n",
    "    purchase=locations.loc[locations['Purchase']==1]\n",
    "    print('Number of records in cluster', item, '=', locations.shape[0])\n",
    "    representation_percentage[index]=round((locations.shape[0]/df.shape[0])*100,2)\n",
    "    purchase_percentage[index]=round((purchase.shape[0]/locations.shape[0])*100,2)\n",
    "    \n",
    "    "
   ]
  },
  {
   "cell_type": "code",
   "execution_count": 7,
   "metadata": {},
   "outputs": [
    {
     "name": "stdout",
     "output_type": "stream",
     "text": [
      "[ 2.19 91.19  0.62  1.17  4.83]\n",
      "[19.45 11.14 32.91 22.84 21.01]\n"
     ]
    },
    {
     "data": {
      "image/png": "[encoded data removed]",
      "text/plain": [
       "<Figure size 432x288 with 1 Axes>"
      ]
     },
     "metadata": {
      "needs_background": "light"
     },
     "output_type": "display_data"
    }
   ],
   "source": [
    "print((representation_percentage))\n",
    "print(purchase_percentage)\n",
    "import matplotlib.pyplot as plt\n",
    "plt.scatter(representation_percentage,purchase_percentage)\n",
    "plt.xlabel('Representation')\n",
    "plt.ylabel('Purchase Percentage')\n",
    "plt.show()"
   ]
  },
  {
   "cell_type": "code",
   "execution_count": 8,
   "metadata": {},
   "outputs": [
    {
     "name": "stdout",
     "output_type": "stream",
     "text": [
      "107.35000000000001\n"
     ]
    }
   ],
   "source": [
    "print(np.sum(purchase_percentage))"
   ]
  },
  {
   "cell_type": "code",
   "execution_count": 9,
   "metadata": {},
   "outputs": [],
   "source": [
    "total_purchase=df.loc[df['Purchase']==1]"
   ]
  },
  {
   "cell_type": "code",
   "execution_count": 10,
   "metadata": {},
   "outputs": [
    {
     "name": "stdout",
     "output_type": "stream",
     "text": [
      "12.06919910990331\n"
     ]
    }
   ],
   "source": [
    "purchase_distrib=total_purchase.shape[0]/df.shape[0]\n",
    "print(purchase_distrib*100)"
   ]
  },
  {
   "cell_type": "code",
   "execution_count": 11,
   "metadata": {},
   "outputs": [
    {
     "name": "stdout",
     "output_type": "stream",
     "text": [
      "44543\n",
      "1852375\n",
      "12535\n",
      "23666\n",
      "98121\n",
      "2031240\n"
     ]
    }
   ],
   "source": [
    "#subsample each cluster to 20% as df_sub and then analyz\n",
    "data=[]\n",
    "df_sub = pd.DataFrame(data, columns=(df.columns.values[0:34]))\n",
    "\n",
    "for index, item in enumerate(unique_values):\n",
    "    locations=df.loc[df['clusterID'] == item]\n",
    "    ret_size=np.round(0.2*locations.shape[0]).astype(int)\n",
    "    print(ret_size)\n",
    "    rows=np.random.permutation(ret_size)\n",
    "    loc_data=locations.iloc[rows,:]\n",
    "    #print(loc_data.iloc[0:5,0:34])\n",
    "    df_sub=df_sub.append(loc_data)\n",
    "print(df_sub.shape[0])"
   ]
  },
  {
   "cell_type": "code",
   "execution_count": 12,
   "metadata": {},
   "outputs": [
    {
     "data": {
      "text/plain": [
       "(array([1786079.,       0.,       0.,       0.,       0.,       0.,\n",
       "              0.,       0.,       0.,  245161.]),\n",
       " array([0. , 0.1, 0.2, 0.3, 0.4, 0.5, 0.6, 0.7, 0.8, 0.9, 1. ]),\n",
       " <BarContainer object of 10 artists>)"
      ]
     },
     "execution_count": 12,
     "metadata": {},
     "output_type": "execute_result"
    },
    {
     "data": {
      "image/png": "[encoded data removed]",
      "text/plain": [
       "<Figure size 432x288 with 1 Axes>"
      ]
     },
     "metadata": {
      "needs_background": "light"
     },
     "output_type": "display_data"
    }
   ],
   "source": [
    "import matplotlib.pyplot as plt\n",
    "X=np.array(df_sub[df_sub.columns[0:10]])\n",
    "\n",
    "#Normalize X to aid compute\n",
    "#X_n = (X-X.min(axis=0)) / (X.max(axis=0)-X.min(axis=0))\n",
    "Y=np.array(df_sub[['Purchase', 'clusterID']] )\n",
    "Y=Y.astype('int')\n",
    "#################################\n",
    "#X=X[0:30000,:]\n",
    "#Y=Y[0:30000]\n",
    "#############################\n",
    "pca = PCA(n_components=5)\n",
    "pca.fit(X)\n",
    "X1=pca.transform(X)\n",
    "\n",
    "plt.hist(Y[:,0])\n",
    "#start with 2 clusters to 5 and show CH score increases as clusters increase"
   ]
  },
  {
   "cell_type": "code",
   "execution_count": 13,
   "metadata": {},
   "outputs": [
    {
     "name": "stdout",
     "output_type": "stream",
     "text": [
      "[[0.33969935 0.00980222 0.23165374 0.01105427 0.04717849]\n",
      " [0.29493341 0.0113553  0.22469858 0.01215024 0.03680175]\n",
      " [0.190294   0.01116261 0.22635334 0.02919781 0.0455149 ]\n",
      " [0.2367394  0.00928215 0.22643197 0.0162953  0.04095803]\n",
      " [0.31219429 0.0072581  0.22593054 0.02140244 0.03941506]]\n"
     ]
    }
   ],
   "source": [
    "X1_n = (X1-X1.min(axis=0)) / (X1.max(axis=0)-X1.min(axis=0))\n",
    "X1=X1_n\n",
    "print(X1[0:5,:])"
   ]
  },
  {
   "cell_type": "code",
   "execution_count": 14,
   "metadata": {},
   "outputs": [
    {
     "name": "stdout",
     "output_type": "stream",
     "text": [
      "Simulation #= 0\n"
     ]
    },
    {
     "name": "stderr",
     "output_type": "stream",
     "text": [
      "/home/sohini/anaconda3/envs/autotf/lib/python3.8/site-packages/xgboost/sklearn.py:888: UserWarning: The use of label encoder in XGBClassifier is deprecated and will be removed in a future release. To remove this warning, do the following: 1) Pass option use_label_encoder=False when constructing XGBClassifier object; and 2) Encode your labels (y) as integers starting with 0, i.e. 0, 1, 2, ..., [num_class - 1].\n",
      "  warnings.warn(label_encoder_deprecation_msg, UserWarning)\n"
     ]
    },
    {
     "name": "stdout",
     "output_type": "stream",
     "text": [
      "[16:34:09] WARNING: /home/conda/feedstock_root/build_artifacts/xgboost_1607604574104/work/src/learner.cc:1061: Starting in XGBoost 1.3.0, the default evaluation metric used with the objective 'binary:logistic' was changed from 'error' to 'logloss'. Explicitly set eval_metric if you'd like to restore the old behavior.\n",
      "Simulation #= 1\n"
     ]
    },
    {
     "name": "stderr",
     "output_type": "stream",
     "text": [
      "/home/sohini/anaconda3/envs/autotf/lib/python3.8/site-packages/xgboost/sklearn.py:888: UserWarning: The use of label encoder in XGBClassifier is deprecated and will be removed in a future release. To remove this warning, do the following: 1) Pass option use_label_encoder=False when constructing XGBClassifier object; and 2) Encode your labels (y) as integers starting with 0, i.e. 0, 1, 2, ..., [num_class - 1].\n",
      "  warnings.warn(label_encoder_deprecation_msg, UserWarning)\n"
     ]
    },
    {
     "name": "stdout",
     "output_type": "stream",
     "text": [
      "[16:37:19] WARNING: /home/conda/feedstock_root/build_artifacts/xgboost_1607604574104/work/src/learner.cc:1061: Starting in XGBoost 1.3.0, the default evaluation metric used with the objective 'binary:logistic' was changed from 'error' to 'logloss'. Explicitly set eval_metric if you'd like to restore the old behavior.\n",
      "Simulation #= 2\n"
     ]
    },
    {
     "name": "stderr",
     "output_type": "stream",
     "text": [
      "/home/sohini/anaconda3/envs/autotf/lib/python3.8/site-packages/xgboost/sklearn.py:888: UserWarning: The use of label encoder in XGBClassifier is deprecated and will be removed in a future release. To remove this warning, do the following: 1) Pass option use_label_encoder=False when constructing XGBClassifier object; and 2) Encode your labels (y) as integers starting with 0, i.e. 0, 1, 2, ..., [num_class - 1].\n",
      "  warnings.warn(label_encoder_deprecation_msg, UserWarning)\n"
     ]
    },
    {
     "name": "stdout",
     "output_type": "stream",
     "text": [
      "[16:40:52] WARNING: /home/conda/feedstock_root/build_artifacts/xgboost_1607604574104/work/src/learner.cc:1061: Starting in XGBoost 1.3.0, the default evaluation metric used with the objective 'binary:logistic' was changed from 'error' to 'logloss'. Explicitly set eval_metric if you'd like to restore the old behavior.\n",
      "Simulation #= 3\n"
     ]
    },
    {
     "name": "stderr",
     "output_type": "stream",
     "text": [
      "/home/sohini/anaconda3/envs/autotf/lib/python3.8/site-packages/xgboost/sklearn.py:888: UserWarning: The use of label encoder in XGBClassifier is deprecated and will be removed in a future release. To remove this warning, do the following: 1) Pass option use_label_encoder=False when constructing XGBClassifier object; and 2) Encode your labels (y) as integers starting with 0, i.e. 0, 1, 2, ..., [num_class - 1].\n",
      "  warnings.warn(label_encoder_deprecation_msg, UserWarning)\n"
     ]
    },
    {
     "name": "stdout",
     "output_type": "stream",
     "text": [
      "[16:44:32] WARNING: /home/conda/feedstock_root/build_artifacts/xgboost_1607604574104/work/src/learner.cc:1061: Starting in XGBoost 1.3.0, the default evaluation metric used with the objective 'binary:logistic' was changed from 'error' to 'logloss'. Explicitly set eval_metric if you'd like to restore the old behavior.\n",
      "Simulation #= 4\n"
     ]
    },
    {
     "name": "stderr",
     "output_type": "stream",
     "text": [
      "/home/sohini/anaconda3/envs/autotf/lib/python3.8/site-packages/xgboost/sklearn.py:888: UserWarning: The use of label encoder in XGBClassifier is deprecated and will be removed in a future release. To remove this warning, do the following: 1) Pass option use_label_encoder=False when constructing XGBClassifier object; and 2) Encode your labels (y) as integers starting with 0, i.e. 0, 1, 2, ..., [num_class - 1].\n",
      "  warnings.warn(label_encoder_deprecation_msg, UserWarning)\n"
     ]
    },
    {
     "name": "stdout",
     "output_type": "stream",
     "text": [
      "[16:48:15] WARNING: /home/conda/feedstock_root/build_artifacts/xgboost_1607604574104/work/src/learner.cc:1061: Starting in XGBoost 1.3.0, the default evaluation metric used with the objective 'binary:logistic' was changed from 'error' to 'logloss'. Explicitly set eval_metric if you'd like to restore the old behavior.\n",
      "Overall Accuracy = 0.9377887398830271, Precision = 0.8949292908866164, Recall = 0.5487765220296185, F1-score = 0.6802934492833971\n",
      "Per cluster Accuracy [0.80428048 0.95152062 0.70503167 0.77684507 0.80771165], \n",
      " Precision [0.43630325 0.90394306 0.63329042 0.53521105 0.77840519], \n",
      " Recall [0.02242767 0.63269625 0.23070672 0.07538039 0.10720511], \n",
      " F1-score [0.04230111 0.74433721 0.33477884 0.13200656 0.18699786]\n"
     ]
    }
   ],
   "source": [
    "# Now loop through many simulations\n",
    "from sklearn.model_selection import train_test_split\n",
    "from sklearn.neighbors import KNeighborsClassifier\n",
    "from sklearn.metrics import accuracy_score as accuracy\n",
    "from sklearn.metrics import recall_score as recall\n",
    "from sklearn.metrics import precision_score as precision\n",
    "from sklearn.metrics import f1_score\n",
    "import random\n",
    "from sklearn.pipeline import make_pipeline\n",
    "from sklearn.svm import LinearSVC\n",
    "from xgboost import XGBClassifier\n",
    "\n",
    "acc=0\n",
    "rec=0\n",
    "prec=0\n",
    "f1=0\n",
    "acc_c=np.zeros((5))\n",
    "rec_c=np.zeros((5))\n",
    "prec_c=np.zeros((5))\n",
    "f1_c=np.zeros((5))\n",
    "sims=5\n",
    "\n",
    "for sim in range(sims):\n",
    "    print('Simulation #=',sim)\n",
    "    [X_train, X_test, y_train, y_test]=train_test_split(X1,Y,test_size=0.3, random_state=random.randint(0,1000),stratify=Y[:,1])\n",
    "    #plt.hist(y_train[:,0])\n",
    "    #neigh = KNeighborsClassifier(n_neighbors=3)\n",
    "    #neigh.fit(X_train, y_train[:,0])\n",
    "    #svm = make_pipeline(LinearSVC(C=5, tol=0.0001, max_iter=2000))\n",
    "    #svm.fit(X_train, y_train[:,0])\n",
    "    XGB = XGBClassifier(learning_rate=0.001, max_depth=9, min_child_weight=7, n_estimators=100, n_jobs=1)\n",
    "    XGB.fit(X_train, y_train[:,0])\n",
    "    kpred=XGB.predict(X_test)\n",
    "    acc   = acc+accuracy(y_test[:,0], kpred)\n",
    "    rec   = rec+recall(y_test[:,0], kpred)\n",
    "    prec  = prec+precision(y_test[:,0], kpred)\n",
    "    f1    = f1+f1_score(y_test[:,0], kpred)\n",
    "    for index, item in enumerate(unique_values):\n",
    "        idx=np.where(y_test[:,1]==item)\n",
    "        ytest_c=np.squeeze(y_test[idx,0])\n",
    "        kpred_c=kpred[idx]\n",
    "        #rint(ytest_c.shape,kpred_c.shape)\n",
    "        acc_c[item]   = acc_c[item]+accuracy(ytest_c, kpred_c)\n",
    "        rec_c[item]   = rec_c[item]+recall(ytest_c, kpred_c)\n",
    "        prec_c[item]  = prec_c[item]+precision(ytest_c, kpred_c)\n",
    "        f1_c[item]    = f1_c[item]+f1_score(ytest_c, kpred_c)\n",
    "    \n",
    "print(f'Overall Accuracy = {acc/sims}, Precision = {prec/sims}, Recall = {rec/sims}, F1-score = {f1/sims}')  \n",
    "print(f'Per cluster Accuracy {np.true_divide(acc_c,sims)}, \\n Precision {np.true_divide(prec_c,sims)}, \\n Recall {np.true_divide(rec_c,sims)}, \\n F1-score {np.true_divide(f1_c,sims)}') "
   ]
  },
  {
   "cell_type": "code",
   "execution_count": null,
   "metadata": {},
   "outputs": [],
   "source": []
  }
 ],
 "metadata": {
  "kernelspec": {
   "display_name": "Python 3",
   "language": "python",
   "name": "python3"
  },
  "language_info": {
   "codemirror_mode": {
    "name": "ipython",
    "version": 3
   },
   "file_extension": ".py",
   "mimetype": "text/x-python",
   "name": "python",
   "nbconvert_exporter": "python",
   "pygments_lexer": "ipython3",
   "version": "3.8.5"
  }
 },
 "nbformat": 4,
 "nbformat_minor": 2
}
