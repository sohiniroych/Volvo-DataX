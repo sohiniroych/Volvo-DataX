{
 "cells": [
  {
   "cell_type": "markdown",
   "metadata": {},
   "source": [
    "**READ ME:**\n",
    "\n",
    "    1. PLEASE READ THE COMMENTS ABOVE EVERY CELL BEFORE EXECUTING/COMPILING THE CODE\n",
    "    \n",
    "    2. THIS NOTEBOOK DOES THE FOLLOWING -\n",
    "    \n",
    "       SECTION 0: SET UP THE NOTEBOOK\n",
    "       SECTION 1: CLEAN AND PROCESS THE DATA\n",
    "       \n",
    "   **SECTION 2: CREATE FEATURES BASED ON USER JOURNEY i.e. A USER'S INTERACTION(S) WITH A SINGLE GIVEN PRODUCT**\n",
    "   \n",
    "       SECTION 3: SPLITTING DATA INTO TRAIN AND TEST\n",
    "       SECTION 4: FEATURE RANKING\n",
    "       SECTION 5: DATA TRANSFORMATION\n",
    "       SECTION 6: BASELINING\n",
    "       SECTION 7: CREATING SAMPLES - NON STRATIFIED\n",
    "       SECTION 8: CREATING SAMPLES - STRATIFIED\n",
    "       SECTION 9: T-SNE\n",
    "       SECTION 10: CLUSTERING"
   ]
  },
  {
   "cell_type": "markdown",
   "metadata": {
    "colab_type": "text",
    "id": "bT8i5xunlOfP"
   },
   "source": [
    "# 0. ***`SETUP`***"
   ]
  },
  {
   "cell_type": "markdown",
   "metadata": {
    "colab_type": "text",
    "id": "ECsPJGRZnQA0"
   },
   "source": [
    "## i. SETTING UP NOTEBOOK"
   ]
  },
  {
   "cell_type": "code",
   "execution_count": null,
   "metadata": {
    "colab": {},
    "colab_type": "code",
    "id": "W68czuoNmeJV"
   },
   "outputs": [],
   "source": [
    "## This Cell is Only for Usage in a Google CoLab Environment\n",
    "from google.colab import drive"
   ]
  },
  {
   "cell_type": "code",
   "execution_count": null,
   "metadata": {
    "colab": {
     "base_uri": "https://localhost:8080/",
     "height": 145
    },
    "colab_type": "code",
    "id": "JAUf_gk7mje-",
    "outputId": "9a44df68-c727-45d6-af1e-f455dcc488ae"
   },
   "outputs": [],
   "source": [
    "## This Cell is Only for Usage in a Google CoLab Environment\n",
    "ROOT = \"/content/drive\"\n",
    "print(ROOT)\n",
    "drive.mount(ROOT)"
   ]
  },
  {
   "cell_type": "code",
   "execution_count": null,
   "metadata": {
    "colab": {
     "base_uri": "https://localhost:8080/",
     "height": 35
    },
    "colab_type": "code",
    "id": "DNFKjkKLmtkI",
    "outputId": "e32feef5-00e4-4f87-8a2b-3511da579dc4"
   },
   "outputs": [],
   "source": [
    "## This Cell is Only for Usage in a Google CoLab Environment\n",
    "%pwd\n",
    "%cd drive/My Drive/Colab Notebooks/Feature Engineering"
   ]
  },
  {
   "cell_type": "markdown",
   "metadata": {
    "colab_type": "text",
    "id": "6biIT_-vmIJ1"
   },
   "source": [
    "## ii. Pre-Processing : Library and Data file import"
   ]
  },
  {
   "cell_type": "code",
   "execution_count": 1,
   "metadata": {
    "colab": {},
    "colab_type": "code",
    "id": "Dtw5MpD3mIJ7"
   },
   "outputs": [],
   "source": [
    "import warnings\n",
    "warnings.filterwarnings(\"ignore\")"
   ]
  },
  {
   "cell_type": "code",
   "execution_count": 2,
   "metadata": {
    "colab": {},
    "colab_type": "code",
    "id": "PHcwVvyZmIJ2"
   },
   "outputs": [],
   "source": [
    "import pandas as pd\n",
    "import numpy as np\n",
    "import seaborn as sns #visualisation\n",
    "import matplotlib.pyplot as plt #visualisation\n",
    "%matplotlib inline \n",
    "sns.set(color_codes=True)\n",
    "#display all columns in a dataframe\n",
    "pd.set_option('display.max_columns', 999)\n",
    "#setting default figure size\n",
    "plt.rcParams[\"figure.figsize\"] = (8,5)"
   ]
  },
  {
   "cell_type": "code",
   "execution_count": 3,
   "metadata": {
    "colab": {},
    "colab_type": "code",
    "id": "yE6GQoTRmIJ5"
   },
   "outputs": [],
   "source": [
    "from sklearn.ensemble.forest import RandomForestClassifier\n",
    "from sklearn.feature_selection import SelectFromModel\n",
    "from sklearn.model_selection import train_test_split\n",
    "from sklearn.linear_model import Lasso, LogisticRegression\n",
    "from sklearn.preprocessing import StandardScaler\n",
    "from sklearn.preprocessing import MinMaxScaler\n",
    "from sklearn import metrics\n",
    "from sklearn.model_selection import cross_validate\n",
    "from sklearn.model_selection import cross_val_score\n",
    "from sklearn.model_selection import cross_val_predict\n",
    "from sklearn.decomposition import PCA\n",
    "from sklearn.neighbors import KNeighborsClassifier\n",
    "from sklearn.metrics import confusion_matrix\n",
    "from sklearn.neighbors import NearestNeighbors\n",
    "from sklearn.cluster import DBSCAN\n",
    "import gc"
   ]
  },
  {
   "cell_type": "code",
   "execution_count": 4,
   "metadata": {
    "colab": {
     "base_uri": "https://localhost:8080/",
     "height": 35
    },
    "colab_type": "code",
    "id": "_eEF1ooX4DSf",
    "outputId": "d0798c2a-efac-44f9-ea7d-cc532dfcc1c9"
   },
   "outputs": [],
   "source": [
    "import imblearn\n",
    "from imblearn.over_sampling import SMOTE\n",
    "import collections\n",
    "from collections import Counter\n",
    "from sklearn.datasets import make_classification\n",
    "from matplotlib import pyplot\n",
    "from numpy import where"
   ]
  },
  {
   "cell_type": "code",
   "execution_count": 5,
   "metadata": {
    "colab": {},
    "colab_type": "code",
    "id": "2yFRtzhmrTpb"
   },
   "outputs": [],
   "source": [
    "from sklearn.utils import shuffle\n",
    "from sklearn.manifold import TSNE"
   ]
  },
  {
   "cell_type": "markdown",
   "metadata": {},
   "source": [
    "### Data Import\n",
    "Original CSV download"
   ]
  },
  {
   "cell_type": "markdown",
   "metadata": {},
   "source": [
    "TO DOWNLOAD THE **electronics.csv** FILE PLEASE GO TO :\n",
    "\n",
    "1. https://www.kaggle.com/mkechinov/ecommerce-behavior-data-from-multi-category-store\n",
    "2. Download both the \"2019-Nov.csv\" and the \"2019-Oct.csv\" File\n",
    "3. Combine the csv files. Combined File size should be 13.67 GB\n",
    "4. For a quick tutorial on how to combine csv files on MAC please refer: https://serp.co/blog/combine-merge-csv-files-mac/"
   ]
  },
  {
   "cell_type": "code",
   "execution_count": null,
   "metadata": {},
   "outputs": [],
   "source": [
    "## Run this cell for ELECTRONICS data ONLY\n",
    "electronics = pd.read_csv(\"electronics.csv\")"
   ]
  },
  {
   "cell_type": "markdown",
   "metadata": {},
   "source": [
    "### Quick File Imports Below \n",
    "\n",
    "**Run the cells below if you want to download already processed/compiled data files and skip Sections 1 and 2**"
   ]
  },
  {
   "cell_type": "markdown",
   "metadata": {},
   "source": [
    "Processed dataframe download"
   ]
  },
  {
   "cell_type": "code",
   "execution_count": 6,
   "metadata": {},
   "outputs": [],
   "source": [
    "#Run this cell for Electronics Data ONLY\n",
    "df = pd.read_pickle(\"dfElectronics.pkl\")"
   ]
  },
  {
   "cell_type": "markdown",
   "metadata": {
    "colab_type": "text",
    "id": "MtC2opcbzd-l"
   },
   "source": [
    "Feature Dataset Quick Import"
   ]
  },
  {
   "cell_type": "code",
   "execution_count": 6,
   "metadata": {},
   "outputs": [],
   "source": [
    "#Run this cell for ELECTRONICS Data ONLY\n",
    "FeaturesDF = pd.read_pickle(\"Electronics_Journey_Features.pkl\")"
   ]
  },
  {
   "cell_type": "markdown",
   "metadata": {
    "colab_type": "text",
    "id": "gRuRzNY7uyzq"
   },
   "source": [
    "## iii. CHECK RAM"
   ]
  },
  {
   "cell_type": "code",
   "execution_count": 11,
   "metadata": {
    "colab": {
     "base_uri": "https://localhost:8080/",
     "height": 53
    },
    "colab_type": "code",
    "id": "RbXisP5dpZ5C",
    "outputId": "6026fc2d-6204-4088-d3d0-b0472daff7eb"
   },
   "outputs": [
    {
     "name": "stdout",
     "output_type": "stream",
     "text": [
      "Your runtime has 17.2 gigabytes of available RAM\n",
      "\n"
     ]
    }
   ],
   "source": [
    "#AVAILABLE SYSTEM RAM\n",
    "from psutil import virtual_memory\n",
    "ram_gb = virtual_memory().total / 1e9\n",
    "print('Your runtime has {:.1f} gigabytes of available RAM\\n'.format(ram_gb))"
   ]
  },
  {
   "cell_type": "code",
   "execution_count": 55,
   "metadata": {
    "colab": {
     "base_uri": "https://localhost:8080/",
     "height": 35
    },
    "colab_type": "code",
    "id": "pT4rAW_s4KHB",
    "outputId": "eb735836-8bf0-4406-fb86-07c662f8e373"
   },
   "outputs": [
    {
     "data": {
      "text/plain": [
       "4950"
      ]
     },
     "execution_count": 55,
     "metadata": {},
     "output_type": "execute_result"
    }
   ],
   "source": [
    "#garbage collection\n",
    "gc.collect()"
   ]
  },
  {
   "cell_type": "markdown",
   "metadata": {
    "colab_type": "text",
    "id": "CoXcbqFvXG85"
   },
   "source": [
    "#    \n",
    "************************************************\n",
    "************************************************"
   ]
  },
  {
   "cell_type": "markdown",
   "metadata": {
    "colab_type": "text",
    "id": "p5QCUXDPmIKE"
   },
   "source": [
    "# 1. ***`PROCESSING DATA`***\n",
    "\n",
    "Jump to Section 3 if you have alreday imported FeaturesDF files"
   ]
  },
  {
   "cell_type": "code",
   "execution_count": 9,
   "metadata": {},
   "outputs": [],
   "source": [
    "#Run this cell for ELECTRONICS Data ONLY\n",
    "df = electronics.copy()"
   ]
  },
  {
   "cell_type": "code",
   "execution_count": null,
   "metadata": {},
   "outputs": [],
   "source": [
    "# Run this cell for ELECTRONICS data ONLY\n",
    "\n",
    "df.drop('category_id',axis=1,inplace=True)"
   ]
  },
  {
   "cell_type": "code",
   "execution_count": 14,
   "metadata": {},
   "outputs": [],
   "source": [
    "#Dropping rows which have headers in them\n",
    "headerIndices = df[df['event_time']=='event_time'].index\n",
    "df.drop(headerIndices,inplace=True)"
   ]
  },
  {
   "cell_type": "markdown",
   "metadata": {},
   "source": [
    "**Formatting Date Time Column**"
   ]
  },
  {
   "cell_type": "code",
   "execution_count": 15,
   "metadata": {
    "colab": {},
    "colab_type": "code",
    "id": "D1ln6e0amIKH"
   },
   "outputs": [],
   "source": [
    "df['event_time'] = pd.to_datetime(df['event_time'],format = '%Y-%m-%d %H:%M:%S %Z')"
   ]
  },
  {
   "cell_type": "code",
   "execution_count": 16,
   "metadata": {
    "colab": {},
    "colab_type": "code",
    "id": "df8YiQSgmIKJ"
   },
   "outputs": [],
   "source": [
    "#Year\n",
    "df['year'] = (df['event_time']).dt.year"
   ]
  },
  {
   "cell_type": "code",
   "execution_count": 17,
   "metadata": {
    "colab": {},
    "colab_type": "code",
    "id": "jPlqUhM8mIKL"
   },
   "outputs": [],
   "source": [
    "#Month\n",
    "df['month'] = (df['event_time']).dt.month\n",
    "MM = {1:'Jan', 2:'Feb', 3:'Mar', 4:'Apr', 5:'May', 6:'Jun', 7:'Jul', 8:'Aug', 9:'Sep', 10:'Oct', 11:'Nov', 12:'Dec'}\n",
    "df['month'] = df['month'].map(MM)"
   ]
  },
  {
   "cell_type": "code",
   "execution_count": 18,
   "metadata": {
    "colab": {},
    "colab_type": "code",
    "id": "U048fvWimIKN"
   },
   "outputs": [],
   "source": [
    "# Phase of day\n",
    "df['hour'] = (df['event_time']).dt.hour\n",
    "timeOfDay={0:'Dawn',1:'Dawn',2:'Dawn',3:'Dawn',4:'Dawn',5:'EarlyMorning',6:'EarlyMorning',7:'EarlyMorning',8:'EarlyMorning', 9:'Morning',10:'Morning',11:'Morning', 12:'Noon', 13:'Afternoon',14:'Afternoon',15:'Afternoon',16:'Afternoon', 17:'Evening',18:'Evening',19:'Evening',20:'Evening', 21:'Night',22:'Night',23:'Night', 24:'Midnight'}\n",
    "df['timeOfDay'] = df['hour'].map(timeOfDay)"
   ]
  },
  {
   "cell_type": "code",
   "execution_count": 19,
   "metadata": {
    "colab": {},
    "colab_type": "code",
    "id": "k7kar7gsmIKP"
   },
   "outputs": [],
   "source": [
    "# Weekday\n",
    "dayOfWeek={0:'Mon', 1:'Tue', 2:'Wed', 3:'Thu', 4:'Fr', 5:'Sat', 6:'Sun'}\n",
    "df['weekday'] = (df['event_time']).dt.weekday.map(dayOfWeek)"
   ]
  },
  {
   "cell_type": "code",
   "execution_count": 20,
   "metadata": {
    "colab": {},
    "colab_type": "code",
    "id": "58RtRAExmIKR"
   },
   "outputs": [],
   "source": [
    "# Is Weekend?\n",
    "df['Weekend']= df.weekday.apply(lambda x : 1 if x in ['Sunday','Saturday'] else 0)"
   ]
  },
  {
   "cell_type": "markdown",
   "metadata": {},
   "source": [
    "**Formatting Other Column Types**"
   ]
  },
  {
   "cell_type": "code",
   "execution_count": null,
   "metadata": {},
   "outputs": [],
   "source": [
    "df['price']= pd.to_numeric(df['price'])"
   ]
  },
  {
   "cell_type": "code",
   "execution_count": 21,
   "metadata": {},
   "outputs": [],
   "source": [
    "#DROPPING COLUMNS WHICH HAVE NEGATIVE VALUE OF PRICE\n",
    "negative_price = df[df['price']<0]\n",
    "negative_price = negative_price.index\n",
    "df = df.drop(negative_price)"
   ]
  },
  {
   "cell_type": "code",
   "execution_count": 23,
   "metadata": {},
   "outputs": [],
   "source": [
    "df['year']= pd.to_numeric(df['year'])\n",
    "df['hour']= pd.to_numeric(df['hour'])\n",
    "df['Weekend']= pd.to_numeric(df['Weekend'])"
   ]
  },
  {
   "cell_type": "code",
   "execution_count": 24,
   "metadata": {},
   "outputs": [],
   "source": [
    "df['event_type'] = df['event_type'].astype(str)\n",
    "df['product_id'] = df['product_id'].astype(str)\n",
    "df['category_id'] = df['category_id'].astype(str)\n",
    "df['product_id'] = df['product_id'].astype(str)\n",
    "df['user_id'] = df['user_id'].astype(str)\n",
    "df['user_session'] = df['user_session'].astype(str)\n",
    "df['month'] = df['month'].astype(str)\n",
    "df['weekday'] = df['weekday'].astype(str)\n",
    "df['timeOfDay'] = df['timeOfDay'].astype(str)"
   ]
  },
  {
   "cell_type": "code",
   "execution_count": 27,
   "metadata": {},
   "outputs": [],
   "source": [
    "#Dropping Rows where the user_session is NAN\n",
    "\n",
    "Null_Sessions = df[df['user_session']=='nan'].index\n",
    "Null_Sessions\n",
    "df = df.drop(Null_Sessions)"
   ]
  },
  {
   "cell_type": "markdown",
   "metadata": {
    "colab": {},
    "colab_type": "code",
    "id": "5vHiiQgQmIKX",
    "outputId": "97e75620-d782-4672-dbd5-8995d2254d7d",
    "scrolled": true
   },
   "source": [
    "**SAVE TO PICKLE**"
   ]
  },
  {
   "cell_type": "code",
   "execution_count": null,
   "metadata": {},
   "outputs": [],
   "source": [
    "## Run this cell only for ELECTRONICS Data ONLY to Save and Load Pickle Files\n",
    "\n",
    "#df.to_pickle(\"dfElectronics.pkl\")"
   ]
  },
  {
   "cell_type": "code",
   "execution_count": 30,
   "metadata": {},
   "outputs": [
    {
     "data": {
      "text/plain": [
       "(20688111, 13)"
      ]
     },
     "execution_count": 30,
     "metadata": {},
     "output_type": "execute_result"
    }
   ],
   "source": [
    "df.shape"
   ]
  },
  {
   "cell_type": "markdown",
   "metadata": {
    "colab_type": "text",
    "id": "PgdwarIvXXIj"
   },
   "source": [
    "#    \n",
    "************************************************\n",
    "************************************************"
   ]
  },
  {
   "cell_type": "markdown",
   "metadata": {
    "colab_type": "text",
    "id": "OBf57YhOmIKb"
   },
   "source": [
    "# 2. **`CREATING USER JOURNEY BASED FEATURES`**"
   ]
  },
  {
   "cell_type": "markdown",
   "metadata": {
    "colab_type": "text",
    "id": "1bLGe9EhosTZ"
   },
   "source": [
    "## Features to build:"
   ]
  },
  {
   "cell_type": "markdown",
   "metadata": {
    "colab_type": "text",
    "id": "T_PCzGr0mIKb"
   },
   "source": [
    "     'NumOfEventsInJourney',\n",
    "     'NumSessions',\n",
    "     'interactionTime',\n",
    "     'maxPrice',\n",
    "     'minPrice',\n",
    "     'NumCart',\n",
    "     'NumView',\n",
    "     'NumRemove',\n",
    "     'InsessionCart',\n",
    "     'InsessionView',\n",
    "     'Date',\n",
    "     'year',\n",
    "     'month',\n",
    "     'weekday',\n",
    "     'timeOfDay',\n",
    "     'Weekend',\n",
    "     'Purchase'"
   ]
  },
  {
   "cell_type": "markdown",
   "metadata": {
    "colab_type": "text",
    "id": "j0O195PMmIKe"
   },
   "source": [
    "## GROUPING THE DATA"
   ]
  },
  {
   "cell_type": "code",
   "execution_count": 7,
   "metadata": {
    "colab": {},
    "colab_type": "code",
    "id": "xuZmzgIymIKe"
   },
   "outputs": [],
   "source": [
    "GroupUJB =  df.sort_values('event_time').groupby(['user_id','product_id'])"
   ]
  },
  {
   "cell_type": "markdown",
   "metadata": {},
   "source": [
    "## Total Number of Events in User Jouney"
   ]
  },
  {
   "cell_type": "code",
   "execution_count": 10,
   "metadata": {
    "colab": {},
    "colab_type": "code",
    "id": "bAWH274KmIKg"
   },
   "outputs": [],
   "source": [
    "Features = GroupUJB['event_type'].count().reset_index()"
   ]
  },
  {
   "cell_type": "code",
   "execution_count": 11,
   "metadata": {},
   "outputs": [],
   "source": [
    "Features.rename(columns={'event_type':'NumOfEventsInJourney'}, inplace=True)"
   ]
  },
  {
   "cell_type": "markdown",
   "metadata": {
    "colab_type": "text",
    "id": "pXWshG_GmIKg"
   },
   "source": [
    "## Total Number of Sessions in User Jouney"
   ]
  },
  {
   "cell_type": "code",
   "execution_count": 12,
   "metadata": {},
   "outputs": [],
   "source": [
    "Features['NumSessions'] = GroupUJB['user_session'].nunique().reset_index()['user_session']"
   ]
  },
  {
   "cell_type": "code",
   "execution_count": 13,
   "metadata": {},
   "outputs": [],
   "source": [
    "Features = Features.set_index(['user_id','product_id'])"
   ]
  },
  {
   "cell_type": "code",
   "execution_count": 24,
   "metadata": {},
   "outputs": [
    {
     "data": {
      "text/html": [
       "<div>\n",
       "<style scoped>\n",
       "    .dataframe tbody tr th:only-of-type {\n",
       "        vertical-align: middle;\n",
       "    }\n",
       "\n",
       "    .dataframe tbody tr th {\n",
       "        vertical-align: top;\n",
       "    }\n",
       "\n",
       "    .dataframe thead th {\n",
       "        text-align: right;\n",
       "    }\n",
       "</style>\n",
       "<table border=\"1\" class=\"dataframe\">\n",
       "  <thead>\n",
       "    <tr style=\"text-align: right;\">\n",
       "      <th></th>\n",
       "      <th></th>\n",
       "      <th>NumOfEventsInJourney</th>\n",
       "      <th>NumSessions</th>\n",
       "    </tr>\n",
       "    <tr>\n",
       "      <th>user_id</th>\n",
       "      <th>product_id</th>\n",
       "      <th></th>\n",
       "      <th></th>\n",
       "    </tr>\n",
       "  </thead>\n",
       "  <tbody>\n",
       "    <tr>\n",
       "      <th rowspan=\"2\" valign=\"top\">106416780</th>\n",
       "      <th>2500141</th>\n",
       "      <td>1</td>\n",
       "      <td>1</td>\n",
       "    </tr>\n",
       "    <tr>\n",
       "      <th>2501450</th>\n",
       "      <td>2</td>\n",
       "      <td>1</td>\n",
       "    </tr>\n",
       "    <tr>\n",
       "      <th>107020671</th>\n",
       "      <th>6000120</th>\n",
       "      <td>1</td>\n",
       "      <td>1</td>\n",
       "    </tr>\n",
       "    <tr>\n",
       "      <th rowspan=\"2\" valign=\"top\">107837897</th>\n",
       "      <th>4700199</th>\n",
       "      <td>9</td>\n",
       "      <td>8</td>\n",
       "    </tr>\n",
       "    <tr>\n",
       "      <th>4700239</th>\n",
       "      <td>1</td>\n",
       "      <td>1</td>\n",
       "    </tr>\n",
       "  </tbody>\n",
       "</table>\n",
       "</div>"
      ],
      "text/plain": [
       "                      NumOfEventsInJourney  NumSessions\n",
       "user_id   product_id                                   \n",
       "106416780 2500141                        1            1\n",
       "          2501450                        2            1\n",
       "107020671 6000120                        1            1\n",
       "107837897 4700199                        9            8\n",
       "          4700239                        1            1"
      ]
     },
     "execution_count": 24,
     "metadata": {},
     "output_type": "execute_result"
    }
   ],
   "source": [
    "Features.head()"
   ]
  },
  {
   "cell_type": "markdown",
   "metadata": {
    "colab_type": "text",
    "id": "xqni0t8qmIKi"
   },
   "source": [
    "## Duration"
   ]
  },
  {
   "cell_type": "code",
   "execution_count": 25,
   "metadata": {},
   "outputs": [],
   "source": [
    "# Defining function to return range of any given series\n",
    "def ammd(series):\n",
    "    return (max(series)-min(series))"
   ]
  },
  {
   "cell_type": "code",
   "execution_count": 26,
   "metadata": {},
   "outputs": [],
   "source": [
    "interactionTime = GroupUJB['event_time'].agg(ammd)"
   ]
  },
  {
   "cell_type": "code",
   "execution_count": 27,
   "metadata": {},
   "outputs": [],
   "source": [
    "interactionTime = interactionTime.dt.total_seconds()"
   ]
  },
  {
   "cell_type": "code",
   "execution_count": 29,
   "metadata": {
    "colab": {},
    "colab_type": "code",
    "id": "4G8JQRrbmIKk"
   },
   "outputs": [],
   "source": [
    "Features = Features.join(interactionTime, how='outer')\n",
    "Features = Features.rename(columns={'event_time':'interactionTime'})"
   ]
  },
  {
   "cell_type": "code",
   "execution_count": 28,
   "metadata": {
    "scrolled": true
   },
   "outputs": [
    {
     "data": {
      "text/html": [
       "<div>\n",
       "<style scoped>\n",
       "    .dataframe tbody tr th:only-of-type {\n",
       "        vertical-align: middle;\n",
       "    }\n",
       "\n",
       "    .dataframe tbody tr th {\n",
       "        vertical-align: top;\n",
       "    }\n",
       "\n",
       "    .dataframe thead th {\n",
       "        text-align: right;\n",
       "    }\n",
       "</style>\n",
       "<table border=\"1\" class=\"dataframe\">\n",
       "  <thead>\n",
       "    <tr style=\"text-align: right;\">\n",
       "      <th></th>\n",
       "      <th></th>\n",
       "      <th>NumOfEventsInJourney</th>\n",
       "      <th>NumSessions</th>\n",
       "    </tr>\n",
       "    <tr>\n",
       "      <th>user_id</th>\n",
       "      <th>product_id</th>\n",
       "      <th></th>\n",
       "      <th></th>\n",
       "    </tr>\n",
       "  </thead>\n",
       "  <tbody>\n",
       "    <tr>\n",
       "      <th rowspan=\"2\" valign=\"top\">106416780</th>\n",
       "      <th>2500141</th>\n",
       "      <td>1</td>\n",
       "      <td>1</td>\n",
       "    </tr>\n",
       "    <tr>\n",
       "      <th>2501450</th>\n",
       "      <td>2</td>\n",
       "      <td>1</td>\n",
       "    </tr>\n",
       "    <tr>\n",
       "      <th>107020671</th>\n",
       "      <th>6000120</th>\n",
       "      <td>1</td>\n",
       "      <td>1</td>\n",
       "    </tr>\n",
       "    <tr>\n",
       "      <th rowspan=\"2\" valign=\"top\">107837897</th>\n",
       "      <th>4700199</th>\n",
       "      <td>9</td>\n",
       "      <td>8</td>\n",
       "    </tr>\n",
       "    <tr>\n",
       "      <th>4700239</th>\n",
       "      <td>1</td>\n",
       "      <td>1</td>\n",
       "    </tr>\n",
       "  </tbody>\n",
       "</table>\n",
       "</div>"
      ],
      "text/plain": [
       "                      NumOfEventsInJourney  NumSessions\n",
       "user_id   product_id                                   \n",
       "106416780 2500141                        1            1\n",
       "          2501450                        2            1\n",
       "107020671 6000120                        1            1\n",
       "107837897 4700199                        9            8\n",
       "          4700239                        1            1"
      ]
     },
     "execution_count": 28,
     "metadata": {},
     "output_type": "execute_result"
    }
   ],
   "source": [
    "Features.head()"
   ]
  },
  {
   "cell_type": "markdown",
   "metadata": {
    "colab_type": "text",
    "id": "9xj6g7WYmIKp"
   },
   "source": [
    "## Max and Min Price"
   ]
  },
  {
   "cell_type": "code",
   "execution_count": 30,
   "metadata": {
    "colab": {},
    "colab_type": "code",
    "id": "Sr1d8TzbmIKp"
   },
   "outputs": [],
   "source": [
    "Features['maxPrice'] = GroupUJB['price'].max().values\n",
    "Features['minPrice'] = GroupUJB['price'].min().values"
   ]
  },
  {
   "cell_type": "markdown",
   "metadata": {
    "colab_type": "text",
    "id": "WOa46DPOmIKr"
   },
   "source": [
    "## Total Number of Events/Interactions in User Jouney"
   ]
  },
  {
   "cell_type": "code",
   "execution_count": 31,
   "metadata": {
    "colab": {},
    "colab_type": "code",
    "id": "kbI-4KcVmIKs"
   },
   "outputs": [],
   "source": [
    "cart = GroupUJB['event_type'].value_counts().unstack(fill_value = 0).loc[:,'cart']\n",
    "view = GroupUJB['event_type'].value_counts().unstack(fill_value = 0).loc[:,'view']"
   ]
  },
  {
   "cell_type": "code",
   "execution_count": 32,
   "metadata": {},
   "outputs": [],
   "source": [
    "Features['NumCart'] = cart.values\n",
    "Features['NumView'] = view.values"
   ]
  },
  {
   "cell_type": "code",
   "execution_count": 33,
   "metadata": {},
   "outputs": [
    {
     "data": {
      "text/html": [
       "<div>\n",
       "<style scoped>\n",
       "    .dataframe tbody tr th:only-of-type {\n",
       "        vertical-align: middle;\n",
       "    }\n",
       "\n",
       "    .dataframe tbody tr th {\n",
       "        vertical-align: top;\n",
       "    }\n",
       "\n",
       "    .dataframe thead th {\n",
       "        text-align: right;\n",
       "    }\n",
       "</style>\n",
       "<table border=\"1\" class=\"dataframe\">\n",
       "  <thead>\n",
       "    <tr style=\"text-align: right;\">\n",
       "      <th></th>\n",
       "      <th></th>\n",
       "      <th>NumOfEventsInJourney</th>\n",
       "      <th>NumSessions</th>\n",
       "      <th>interactionTime</th>\n",
       "      <th>maxPrice</th>\n",
       "      <th>minPrice</th>\n",
       "      <th>NumCart</th>\n",
       "      <th>NumView</th>\n",
       "    </tr>\n",
       "    <tr>\n",
       "      <th>user_id</th>\n",
       "      <th>product_id</th>\n",
       "      <th></th>\n",
       "      <th></th>\n",
       "      <th></th>\n",
       "      <th></th>\n",
       "      <th></th>\n",
       "      <th></th>\n",
       "      <th></th>\n",
       "    </tr>\n",
       "  </thead>\n",
       "  <tbody>\n",
       "    <tr>\n",
       "      <th rowspan=\"2\" valign=\"top\">106416780</th>\n",
       "      <th>2500141</th>\n",
       "      <td>1</td>\n",
       "      <td>1</td>\n",
       "      <td>0.0</td>\n",
       "      <td>476.12</td>\n",
       "      <td>476.12</td>\n",
       "      <td>0</td>\n",
       "      <td>1</td>\n",
       "    </tr>\n",
       "    <tr>\n",
       "      <th>2501450</th>\n",
       "      <td>2</td>\n",
       "      <td>1</td>\n",
       "      <td>42.0</td>\n",
       "      <td>450.44</td>\n",
       "      <td>450.44</td>\n",
       "      <td>0</td>\n",
       "      <td>2</td>\n",
       "    </tr>\n",
       "    <tr>\n",
       "      <th>107020671</th>\n",
       "      <th>6000120</th>\n",
       "      <td>1</td>\n",
       "      <td>1</td>\n",
       "      <td>0.0</td>\n",
       "      <td>139.77</td>\n",
       "      <td>139.77</td>\n",
       "      <td>0</td>\n",
       "      <td>1</td>\n",
       "    </tr>\n",
       "    <tr>\n",
       "      <th rowspan=\"2\" valign=\"top\">107837897</th>\n",
       "      <th>4700199</th>\n",
       "      <td>9</td>\n",
       "      <td>8</td>\n",
       "      <td>1461990.0</td>\n",
       "      <td>179.90</td>\n",
       "      <td>175.00</td>\n",
       "      <td>1</td>\n",
       "      <td>8</td>\n",
       "    </tr>\n",
       "    <tr>\n",
       "      <th>4700239</th>\n",
       "      <td>1</td>\n",
       "      <td>1</td>\n",
       "      <td>0.0</td>\n",
       "      <td>51.22</td>\n",
       "      <td>51.22</td>\n",
       "      <td>0</td>\n",
       "      <td>1</td>\n",
       "    </tr>\n",
       "  </tbody>\n",
       "</table>\n",
       "</div>"
      ],
      "text/plain": [
       "                      NumOfEventsInJourney  NumSessions  interactionTime  \\\n",
       "user_id   product_id                                                       \n",
       "106416780 2500141                        1            1              0.0   \n",
       "          2501450                        2            1             42.0   \n",
       "107020671 6000120                        1            1              0.0   \n",
       "107837897 4700199                        9            8        1461990.0   \n",
       "          4700239                        1            1              0.0   \n",
       "\n",
       "                      maxPrice  minPrice  NumCart  NumView  \n",
       "user_id   product_id                                        \n",
       "106416780 2500141       476.12    476.12        0        1  \n",
       "          2501450       450.44    450.44        0        2  \n",
       "107020671 6000120       139.77    139.77        0        1  \n",
       "107837897 4700199       179.90    175.00        1        8  \n",
       "          4700239        51.22     51.22        0        1  "
      ]
     },
     "execution_count": 33,
     "metadata": {},
     "output_type": "execute_result"
    }
   ],
   "source": [
    "Features.head()"
   ]
  },
  {
   "cell_type": "markdown",
   "metadata": {},
   "source": [
    "----"
   ]
  },
  {
   "cell_type": "markdown",
   "metadata": {},
   "source": [
    "## Total Amount By Sessions for the User considered in a User Journey"
   ]
  },
  {
   "cell_type": "code",
   "execution_count": 34,
   "metadata": {},
   "outputs": [],
   "source": [
    "Amount_cart = df.groupby('user_session')['event_type'].value_counts().unstack(fill_value = 0).loc[:,'cart'].to_frame().reset_index().rename(columns={'cart':'session_cart'})"
   ]
  },
  {
   "cell_type": "code",
   "execution_count": 35,
   "metadata": {},
   "outputs": [],
   "source": [
    "Amount_view = df.groupby('user_session')['event_type'].value_counts().unstack(fill_value = 0).loc[:,'view'].to_frame().reset_index().rename(columns={'view':'session_view'})"
   ]
  },
  {
   "cell_type": "code",
   "execution_count": 36,
   "metadata": {},
   "outputs": [],
   "source": [
    "df = pd.merge(df,Amount_cart, how='left',on = ['user_session'])"
   ]
  },
  {
   "cell_type": "code",
   "execution_count": 37,
   "metadata": {},
   "outputs": [],
   "source": [
    "df = pd.merge(df,Amount_view, how='left',on = ['user_session'])"
   ]
  },
  {
   "cell_type": "code",
   "execution_count": 38,
   "metadata": {},
   "outputs": [],
   "source": [
    "insessioncart = df.groupby(['user_id','product_id'])['session_cart'].max()"
   ]
  },
  {
   "cell_type": "code",
   "execution_count": 39,
   "metadata": {},
   "outputs": [],
   "source": [
    "insessionview = df.groupby(['user_id','product_id'])['session_view'].max()"
   ]
  },
  {
   "cell_type": "markdown",
   "metadata": {},
   "source": [
    "Merging the DataFrames"
   ]
  },
  {
   "cell_type": "code",
   "execution_count": 40,
   "metadata": {},
   "outputs": [],
   "source": [
    "Features = pd.merge(Features,insessioncart, how='left',on = ['user_id','product_id'])"
   ]
  },
  {
   "cell_type": "code",
   "execution_count": 41,
   "metadata": {},
   "outputs": [],
   "source": [
    "Features = pd.merge(Features,insessionview, how='left',on = ['user_id','product_id'])"
   ]
  },
  {
   "cell_type": "code",
   "execution_count": 42,
   "metadata": {},
   "outputs": [],
   "source": [
    "Features = Features.rename(columns={'session_cart':'InsessionCart','session_view':'InsessionView'})"
   ]
  },
  {
   "cell_type": "code",
   "execution_count": 43,
   "metadata": {
    "colab": {
     "base_uri": "https://localhost:8080/",
     "height": 337
    },
    "colab_type": "code",
    "id": "Z3duvZ4wmIK3",
    "outputId": "b611de32-7aa9-4f4a-b9d0-d7484e265c54"
   },
   "outputs": [
    {
     "data": {
      "text/html": [
       "<div>\n",
       "<style scoped>\n",
       "    .dataframe tbody tr th:only-of-type {\n",
       "        vertical-align: middle;\n",
       "    }\n",
       "\n",
       "    .dataframe tbody tr th {\n",
       "        vertical-align: top;\n",
       "    }\n",
       "\n",
       "    .dataframe thead th {\n",
       "        text-align: right;\n",
       "    }\n",
       "</style>\n",
       "<table border=\"1\" class=\"dataframe\">\n",
       "  <thead>\n",
       "    <tr style=\"text-align: right;\">\n",
       "      <th></th>\n",
       "      <th></th>\n",
       "      <th>NumOfEventsInJourney</th>\n",
       "      <th>NumSessions</th>\n",
       "      <th>interactionTime</th>\n",
       "      <th>maxPrice</th>\n",
       "      <th>minPrice</th>\n",
       "      <th>NumCart</th>\n",
       "      <th>NumView</th>\n",
       "      <th>InsessionCart</th>\n",
       "      <th>InsessionView</th>\n",
       "    </tr>\n",
       "    <tr>\n",
       "      <th>user_id</th>\n",
       "      <th>product_id</th>\n",
       "      <th></th>\n",
       "      <th></th>\n",
       "      <th></th>\n",
       "      <th></th>\n",
       "      <th></th>\n",
       "      <th></th>\n",
       "      <th></th>\n",
       "      <th></th>\n",
       "      <th></th>\n",
       "    </tr>\n",
       "  </thead>\n",
       "  <tbody>\n",
       "    <tr>\n",
       "      <th rowspan=\"2\" valign=\"top\">106416780</th>\n",
       "      <th>2500141</th>\n",
       "      <td>1</td>\n",
       "      <td>1</td>\n",
       "      <td>0.0</td>\n",
       "      <td>476.12</td>\n",
       "      <td>476.12</td>\n",
       "      <td>0</td>\n",
       "      <td>1</td>\n",
       "      <td>0</td>\n",
       "      <td>3</td>\n",
       "    </tr>\n",
       "    <tr>\n",
       "      <th>2501450</th>\n",
       "      <td>2</td>\n",
       "      <td>1</td>\n",
       "      <td>42.0</td>\n",
       "      <td>450.44</td>\n",
       "      <td>450.44</td>\n",
       "      <td>0</td>\n",
       "      <td>2</td>\n",
       "      <td>0</td>\n",
       "      <td>3</td>\n",
       "    </tr>\n",
       "    <tr>\n",
       "      <th>107020671</th>\n",
       "      <th>6000120</th>\n",
       "      <td>1</td>\n",
       "      <td>1</td>\n",
       "      <td>0.0</td>\n",
       "      <td>139.77</td>\n",
       "      <td>139.77</td>\n",
       "      <td>0</td>\n",
       "      <td>1</td>\n",
       "      <td>0</td>\n",
       "      <td>1</td>\n",
       "    </tr>\n",
       "  </tbody>\n",
       "</table>\n",
       "</div>"
      ],
      "text/plain": [
       "                      NumOfEventsInJourney  NumSessions  interactionTime  \\\n",
       "user_id   product_id                                                       \n",
       "106416780 2500141                        1            1              0.0   \n",
       "          2501450                        2            1             42.0   \n",
       "107020671 6000120                        1            1              0.0   \n",
       "\n",
       "                      maxPrice  minPrice  NumCart  NumView  InsessionCart  \\\n",
       "user_id   product_id                                                        \n",
       "106416780 2500141       476.12    476.12        0        1              0   \n",
       "          2501450       450.44    450.44        0        2              0   \n",
       "107020671 6000120       139.77    139.77        0        1              0   \n",
       "\n",
       "                      InsessionView  \n",
       "user_id   product_id                 \n",
       "106416780 2500141                 3  \n",
       "          2501450                 3  \n",
       "107020671 6000120                 1  "
      ]
     },
     "execution_count": 43,
     "metadata": {},
     "output_type": "execute_result"
    }
   ],
   "source": [
    "Features.head(3)"
   ]
  },
  {
   "cell_type": "markdown",
   "metadata": {
    "colab_type": "text",
    "id": "vPldB-YWmIK8"
   },
   "source": [
    "****************************************"
   ]
  },
  {
   "cell_type": "markdown",
   "metadata": {
    "colab_type": "text",
    "id": "vUhhAGmjmIK-"
   },
   "source": [
    "## Adding Date and Time Features "
   ]
  },
  {
   "cell_type": "code",
   "execution_count": 44,
   "metadata": {},
   "outputs": [],
   "source": [
    "Features['mostCommonDateTime'] = GroupUJB['event_time'].max().values"
   ]
  },
  {
   "cell_type": "code",
   "execution_count": 45,
   "metadata": {},
   "outputs": [],
   "source": [
    "#Date\n",
    "Features['Date'] = pd.to_datetime(Features['mostCommonDateTime']).dt.date"
   ]
  },
  {
   "cell_type": "code",
   "execution_count": 46,
   "metadata": {},
   "outputs": [],
   "source": [
    "#Year\n",
    "Features['year'] = pd.to_datetime(Features['mostCommonDateTime']).dt.year"
   ]
  },
  {
   "cell_type": "code",
   "execution_count": 47,
   "metadata": {},
   "outputs": [],
   "source": [
    "#Month\n",
    "Features['month'] = pd.to_datetime(Features['mostCommonDateTime']).dt.month"
   ]
  },
  {
   "cell_type": "code",
   "execution_count": 48,
   "metadata": {},
   "outputs": [],
   "source": [
    "# Weekday\n",
    "dayOfWeek={0:'Mon', 1:'Tue', 2:'Wed', 3:'Thu', 4:'Fr', 5:'Sat', 6:'Sun'}\n",
    "Features['weekday'] = pd.to_datetime(Features['mostCommonDateTime']).dt.weekday.map(dayOfWeek)"
   ]
  },
  {
   "cell_type": "code",
   "execution_count": 49,
   "metadata": {},
   "outputs": [],
   "source": [
    "#TimeOfDay\n",
    "timeOfDay={0:'Dawn',1:'Dawn',2:'Dawn',3:'Dawn',4:'Dawn',5:'EarlyMorning',6:'EarlyMorning',7:'EarlyMorning',8:'EarlyMorning', 9:'Morning',10:'Morning',11:'Morning', 12:'Noon', 13:'Afternoon',14:'Afternoon',15:'Afternoon',16:'Afternoon', 17:'Evening',18:'Evening',19:'Evening',20:'Evening', 21:'Night',22:'Night',23:'Night', 24:'Midnight'}\n",
    "Features['timeOfDay'] = pd.to_datetime(Features['mostCommonDateTime']).dt.hour.map(timeOfDay)"
   ]
  },
  {
   "cell_type": "code",
   "execution_count": 50,
   "metadata": {
    "colab": {},
    "colab_type": "code",
    "id": "4qh_nTiDmILK"
   },
   "outputs": [],
   "source": [
    "Weekend = GroupUJB['Weekend'].sum()\n",
    "Features = Features.join(Weekend,how='outer')"
   ]
  },
  {
   "cell_type": "markdown",
   "metadata": {
    "colab": {},
    "colab_type": "code",
    "id": "OEM6ZrqjmILM"
   },
   "source": [
    "**ONE HOT ENCODING DATE TIME COLUMN**"
   ]
  },
  {
   "cell_type": "code",
   "execution_count": 51,
   "metadata": {},
   "outputs": [],
   "source": [
    "weekday = pd.get_dummies(Features['weekday'])\n",
    "year = pd.get_dummies(Features['year'])\n",
    "month = pd.get_dummies(Features['month'])\n",
    "timeOfDay = pd.get_dummies(Features['timeOfDay'])"
   ]
  },
  {
   "cell_type": "code",
   "execution_count": 54,
   "metadata": {},
   "outputs": [],
   "source": [
    "Features = Features.join(weekday,how='left')\n",
    "Features = Features.join(year,how='left')\n",
    "Features = Features.join(month,how='left')\n",
    "Features = Features.join(timeOfDay,how='left')"
   ]
  },
  {
   "cell_type": "code",
   "execution_count": 55,
   "metadata": {},
   "outputs": [],
   "source": [
    "Features.rename(columns={1:'Jan',2:'Feb',10:'Oct',11:'Nov',12:'Dec'},inplace=True)"
   ]
  },
  {
   "cell_type": "code",
   "execution_count": 70,
   "metadata": {},
   "outputs": [
    {
     "data": {
      "text/html": [
       "<div>\n",
       "<style scoped>\n",
       "    .dataframe tbody tr th:only-of-type {\n",
       "        vertical-align: middle;\n",
       "    }\n",
       "\n",
       "    .dataframe tbody tr th {\n",
       "        vertical-align: top;\n",
       "    }\n",
       "\n",
       "    .dataframe thead th {\n",
       "        text-align: right;\n",
       "    }\n",
       "</style>\n",
       "<table border=\"1\" class=\"dataframe\">\n",
       "  <thead>\n",
       "    <tr style=\"text-align: right;\">\n",
       "      <th></th>\n",
       "      <th></th>\n",
       "      <th>NumOfEventsInJourney</th>\n",
       "      <th>NumSessions</th>\n",
       "      <th>interactionTime</th>\n",
       "      <th>maxPrice</th>\n",
       "      <th>minPrice</th>\n",
       "      <th>NumCart</th>\n",
       "      <th>NumView</th>\n",
       "      <th>InsessionCart</th>\n",
       "      <th>InsessionView</th>\n",
       "      <th>mostCommonDateTime</th>\n",
       "      <th>Date</th>\n",
       "      <th>year</th>\n",
       "      <th>month</th>\n",
       "      <th>weekday</th>\n",
       "      <th>timeOfDay</th>\n",
       "      <th>Weekend</th>\n",
       "      <th>Fr</th>\n",
       "      <th>Mon</th>\n",
       "      <th>Sat</th>\n",
       "      <th>Sun</th>\n",
       "      <th>Thu</th>\n",
       "      <th>Tue</th>\n",
       "      <th>Wed</th>\n",
       "      <th>2019</th>\n",
       "      <th>Oct</th>\n",
       "      <th>Nov</th>\n",
       "      <th>Afternoon</th>\n",
       "      <th>Dawn</th>\n",
       "      <th>EarlyMorning</th>\n",
       "      <th>Evening</th>\n",
       "      <th>Morning</th>\n",
       "      <th>Night</th>\n",
       "      <th>Noon</th>\n",
       "    </tr>\n",
       "    <tr>\n",
       "      <th>user_id</th>\n",
       "      <th>product_id</th>\n",
       "      <th></th>\n",
       "      <th></th>\n",
       "      <th></th>\n",
       "      <th></th>\n",
       "      <th></th>\n",
       "      <th></th>\n",
       "      <th></th>\n",
       "      <th></th>\n",
       "      <th></th>\n",
       "      <th></th>\n",
       "      <th></th>\n",
       "      <th></th>\n",
       "      <th></th>\n",
       "      <th></th>\n",
       "      <th></th>\n",
       "      <th></th>\n",
       "      <th></th>\n",
       "      <th></th>\n",
       "      <th></th>\n",
       "      <th></th>\n",
       "      <th></th>\n",
       "      <th></th>\n",
       "      <th></th>\n",
       "      <th></th>\n",
       "      <th></th>\n",
       "      <th></th>\n",
       "      <th></th>\n",
       "      <th></th>\n",
       "      <th></th>\n",
       "      <th></th>\n",
       "      <th></th>\n",
       "      <th></th>\n",
       "      <th></th>\n",
       "    </tr>\n",
       "  </thead>\n",
       "  <tbody>\n",
       "    <tr>\n",
       "      <th rowspan=\"2\" valign=\"top\">106416780</th>\n",
       "      <th>2500141</th>\n",
       "      <td>1</td>\n",
       "      <td>1</td>\n",
       "      <td>0.0</td>\n",
       "      <td>476.12</td>\n",
       "      <td>476.12</td>\n",
       "      <td>0</td>\n",
       "      <td>1</td>\n",
       "      <td>0</td>\n",
       "      <td>3</td>\n",
       "      <td>2019-11-28 05:47:29</td>\n",
       "      <td>2019-11-28</td>\n",
       "      <td>2019</td>\n",
       "      <td>11</td>\n",
       "      <td>Thu</td>\n",
       "      <td>EarlyMorning</td>\n",
       "      <td>0</td>\n",
       "      <td>0</td>\n",
       "      <td>0</td>\n",
       "      <td>0</td>\n",
       "      <td>0</td>\n",
       "      <td>1</td>\n",
       "      <td>0</td>\n",
       "      <td>0</td>\n",
       "      <td>1</td>\n",
       "      <td>0</td>\n",
       "      <td>1</td>\n",
       "      <td>0</td>\n",
       "      <td>0</td>\n",
       "      <td>1</td>\n",
       "      <td>0</td>\n",
       "      <td>0</td>\n",
       "      <td>0</td>\n",
       "      <td>0</td>\n",
       "    </tr>\n",
       "    <tr>\n",
       "      <th>2501450</th>\n",
       "      <td>2</td>\n",
       "      <td>1</td>\n",
       "      <td>42.0</td>\n",
       "      <td>450.44</td>\n",
       "      <td>450.44</td>\n",
       "      <td>0</td>\n",
       "      <td>2</td>\n",
       "      <td>0</td>\n",
       "      <td>3</td>\n",
       "      <td>2019-11-28 05:49:14</td>\n",
       "      <td>2019-11-28</td>\n",
       "      <td>2019</td>\n",
       "      <td>11</td>\n",
       "      <td>Thu</td>\n",
       "      <td>EarlyMorning</td>\n",
       "      <td>0</td>\n",
       "      <td>0</td>\n",
       "      <td>0</td>\n",
       "      <td>0</td>\n",
       "      <td>0</td>\n",
       "      <td>1</td>\n",
       "      <td>0</td>\n",
       "      <td>0</td>\n",
       "      <td>1</td>\n",
       "      <td>0</td>\n",
       "      <td>1</td>\n",
       "      <td>0</td>\n",
       "      <td>0</td>\n",
       "      <td>1</td>\n",
       "      <td>0</td>\n",
       "      <td>0</td>\n",
       "      <td>0</td>\n",
       "      <td>0</td>\n",
       "    </tr>\n",
       "    <tr>\n",
       "      <th>107020671</th>\n",
       "      <th>6000120</th>\n",
       "      <td>1</td>\n",
       "      <td>1</td>\n",
       "      <td>0.0</td>\n",
       "      <td>139.77</td>\n",
       "      <td>139.77</td>\n",
       "      <td>0</td>\n",
       "      <td>1</td>\n",
       "      <td>0</td>\n",
       "      <td>1</td>\n",
       "      <td>2019-11-18 03:36:08</td>\n",
       "      <td>2019-11-18</td>\n",
       "      <td>2019</td>\n",
       "      <td>11</td>\n",
       "      <td>Mon</td>\n",
       "      <td>Dawn</td>\n",
       "      <td>0</td>\n",
       "      <td>0</td>\n",
       "      <td>1</td>\n",
       "      <td>0</td>\n",
       "      <td>0</td>\n",
       "      <td>0</td>\n",
       "      <td>0</td>\n",
       "      <td>0</td>\n",
       "      <td>1</td>\n",
       "      <td>0</td>\n",
       "      <td>1</td>\n",
       "      <td>0</td>\n",
       "      <td>1</td>\n",
       "      <td>0</td>\n",
       "      <td>0</td>\n",
       "      <td>0</td>\n",
       "      <td>0</td>\n",
       "      <td>0</td>\n",
       "    </tr>\n",
       "  </tbody>\n",
       "</table>\n",
       "</div>"
      ],
      "text/plain": [
       "                      NumOfEventsInJourney  NumSessions  interactionTime  \\\n",
       "user_id   product_id                                                       \n",
       "106416780 2500141                        1            1              0.0   \n",
       "          2501450                        2            1             42.0   \n",
       "107020671 6000120                        1            1              0.0   \n",
       "\n",
       "                      maxPrice  minPrice  NumCart  NumView  InsessionCart  \\\n",
       "user_id   product_id                                                        \n",
       "106416780 2500141       476.12    476.12        0        1              0   \n",
       "          2501450       450.44    450.44        0        2              0   \n",
       "107020671 6000120       139.77    139.77        0        1              0   \n",
       "\n",
       "                      InsessionView  mostCommonDateTime        Date  year  \\\n",
       "user_id   product_id                                                        \n",
       "106416780 2500141                 3 2019-11-28 05:47:29  2019-11-28  2019   \n",
       "          2501450                 3 2019-11-28 05:49:14  2019-11-28  2019   \n",
       "107020671 6000120                 1 2019-11-18 03:36:08  2019-11-18  2019   \n",
       "\n",
       "                      month weekday     timeOfDay  Weekend  Fr  Mon  Sat  Sun  \\\n",
       "user_id   product_id                                                            \n",
       "106416780 2500141        11     Thu  EarlyMorning        0   0    0    0    0   \n",
       "          2501450        11     Thu  EarlyMorning        0   0    0    0    0   \n",
       "107020671 6000120        11     Mon          Dawn        0   0    1    0    0   \n",
       "\n",
       "                      Thu  Tue  Wed  2019  Oct  Nov  Afternoon  Dawn  \\\n",
       "user_id   product_id                                                   \n",
       "106416780 2500141       1    0    0     1    0    1          0     0   \n",
       "          2501450       1    0    0     1    0    1          0     0   \n",
       "107020671 6000120       0    0    0     1    0    1          0     1   \n",
       "\n",
       "                      EarlyMorning  Evening  Morning  Night  Noon  \n",
       "user_id   product_id                                               \n",
       "106416780 2500141                1        0        0      0     0  \n",
       "          2501450                1        0        0      0     0  \n",
       "107020671 6000120                0        0        0      0     0  "
      ]
     },
     "execution_count": 70,
     "metadata": {},
     "output_type": "execute_result"
    }
   ],
   "source": [
    "Features.head(3)"
   ]
  },
  {
   "cell_type": "markdown",
   "metadata": {
    "colab_type": "text",
    "id": "B2ZOAk6EmILP"
   },
   "source": [
    "## Dropping redundant/non-required  Columns and adding Y label 'Purchase'"
   ]
  },
  {
   "cell_type": "code",
   "execution_count": 71,
   "metadata": {},
   "outputs": [],
   "source": [
    "Features = Features.drop(['Date','mostCommonDateTime','year','month','weekday','timeOfDay'],axis=1)"
   ]
  },
  {
   "cell_type": "code",
   "execution_count": 72,
   "metadata": {
    "colab": {},
    "colab_type": "code",
    "id": "CVRFBY0xmILP"
   },
   "outputs": [],
   "source": [
    "Purchase = GroupUJB['event_type'].value_counts().unstack(fill_value = 0).loc[:,'purchase']"
   ]
  },
  {
   "cell_type": "code",
   "execution_count": 73,
   "metadata": {},
   "outputs": [],
   "source": [
    "Features['Purchase']= Purchase\n",
    "Features['Purchase'] = Features['Purchase'].apply(lambda x : 1 if x!=0 else 0)"
   ]
  },
  {
   "cell_type": "code",
   "execution_count": 74,
   "metadata": {
    "colab": {},
    "colab_type": "code",
    "id": "w7Nt3D6WmILV",
    "outputId": "298e549b-44cf-43b9-fcce-ba1508d1f2c6"
   },
   "outputs": [],
   "source": [
    "FeaturesDF= Features.sort_values(by='Purchase',ascending=False)"
   ]
  },
  {
   "cell_type": "code",
   "execution_count": 75,
   "metadata": {
    "colab": {},
    "colab_type": "code",
    "id": "-al3jBIpmILR",
    "outputId": "5b3b84a7-cd8b-4f1c-ad4d-14ba71c1ee2c"
   },
   "outputs": [
    {
     "data": {
      "text/html": [
       "<div>\n",
       "<style scoped>\n",
       "    .dataframe tbody tr th:only-of-type {\n",
       "        vertical-align: middle;\n",
       "    }\n",
       "\n",
       "    .dataframe tbody tr th {\n",
       "        vertical-align: top;\n",
       "    }\n",
       "\n",
       "    .dataframe thead th {\n",
       "        text-align: right;\n",
       "    }\n",
       "</style>\n",
       "<table border=\"1\" class=\"dataframe\">\n",
       "  <thead>\n",
       "    <tr style=\"text-align: right;\">\n",
       "      <th></th>\n",
       "      <th></th>\n",
       "      <th>NumOfEventsInJourney</th>\n",
       "      <th>NumSessions</th>\n",
       "      <th>interactionTime</th>\n",
       "      <th>maxPrice</th>\n",
       "      <th>minPrice</th>\n",
       "      <th>NumCart</th>\n",
       "      <th>NumView</th>\n",
       "      <th>InsessionCart</th>\n",
       "      <th>InsessionView</th>\n",
       "      <th>Weekend</th>\n",
       "      <th>Fr</th>\n",
       "      <th>Mon</th>\n",
       "      <th>Sat</th>\n",
       "      <th>Sun</th>\n",
       "      <th>Thu</th>\n",
       "      <th>Tue</th>\n",
       "      <th>Wed</th>\n",
       "      <th>2019</th>\n",
       "      <th>Oct</th>\n",
       "      <th>Nov</th>\n",
       "      <th>Afternoon</th>\n",
       "      <th>Dawn</th>\n",
       "      <th>EarlyMorning</th>\n",
       "      <th>Evening</th>\n",
       "      <th>Morning</th>\n",
       "      <th>Night</th>\n",
       "      <th>Noon</th>\n",
       "      <th>Purchase</th>\n",
       "    </tr>\n",
       "    <tr>\n",
       "      <th>user_id</th>\n",
       "      <th>product_id</th>\n",
       "      <th></th>\n",
       "      <th></th>\n",
       "      <th></th>\n",
       "      <th></th>\n",
       "      <th></th>\n",
       "      <th></th>\n",
       "      <th></th>\n",
       "      <th></th>\n",
       "      <th></th>\n",
       "      <th></th>\n",
       "      <th></th>\n",
       "      <th></th>\n",
       "      <th></th>\n",
       "      <th></th>\n",
       "      <th></th>\n",
       "      <th></th>\n",
       "      <th></th>\n",
       "      <th></th>\n",
       "      <th></th>\n",
       "      <th></th>\n",
       "      <th></th>\n",
       "      <th></th>\n",
       "      <th></th>\n",
       "      <th></th>\n",
       "      <th></th>\n",
       "      <th></th>\n",
       "      <th></th>\n",
       "      <th></th>\n",
       "    </tr>\n",
       "  </thead>\n",
       "  <tbody>\n",
       "    <tr>\n",
       "      <th>558439246</th>\n",
       "      <th>1004564</th>\n",
       "      <td>5</td>\n",
       "      <td>3</td>\n",
       "      <td>43819.0</td>\n",
       "      <td>128.45</td>\n",
       "      <td>128.45</td>\n",
       "      <td>1</td>\n",
       "      <td>3</td>\n",
       "      <td>1</td>\n",
       "      <td>1</td>\n",
       "      <td>0</td>\n",
       "      <td>0</td>\n",
       "      <td>1</td>\n",
       "      <td>0</td>\n",
       "      <td>0</td>\n",
       "      <td>0</td>\n",
       "      <td>0</td>\n",
       "      <td>0</td>\n",
       "      <td>1</td>\n",
       "      <td>0</td>\n",
       "      <td>1</td>\n",
       "      <td>0</td>\n",
       "      <td>1</td>\n",
       "      <td>0</td>\n",
       "      <td>0</td>\n",
       "      <td>0</td>\n",
       "      <td>0</td>\n",
       "      <td>0</td>\n",
       "      <td>1</td>\n",
       "    </tr>\n",
       "    <tr>\n",
       "      <th>541078011</th>\n",
       "      <th>1004767</th>\n",
       "      <td>5</td>\n",
       "      <td>1</td>\n",
       "      <td>317.0</td>\n",
       "      <td>240.40</td>\n",
       "      <td>240.40</td>\n",
       "      <td>1</td>\n",
       "      <td>3</td>\n",
       "      <td>1</td>\n",
       "      <td>3</td>\n",
       "      <td>0</td>\n",
       "      <td>0</td>\n",
       "      <td>0</td>\n",
       "      <td>0</td>\n",
       "      <td>0</td>\n",
       "      <td>1</td>\n",
       "      <td>0</td>\n",
       "      <td>0</td>\n",
       "      <td>1</td>\n",
       "      <td>0</td>\n",
       "      <td>1</td>\n",
       "      <td>1</td>\n",
       "      <td>0</td>\n",
       "      <td>0</td>\n",
       "      <td>0</td>\n",
       "      <td>0</td>\n",
       "      <td>0</td>\n",
       "      <td>0</td>\n",
       "      <td>1</td>\n",
       "    </tr>\n",
       "    <tr>\n",
       "      <th>514764771</th>\n",
       "      <th>5801494</th>\n",
       "      <td>10</td>\n",
       "      <td>5</td>\n",
       "      <td>1019927.0</td>\n",
       "      <td>51.48</td>\n",
       "      <td>51.48</td>\n",
       "      <td>2</td>\n",
       "      <td>7</td>\n",
       "      <td>2</td>\n",
       "      <td>5</td>\n",
       "      <td>0</td>\n",
       "      <td>1</td>\n",
       "      <td>0</td>\n",
       "      <td>0</td>\n",
       "      <td>0</td>\n",
       "      <td>0</td>\n",
       "      <td>0</td>\n",
       "      <td>0</td>\n",
       "      <td>1</td>\n",
       "      <td>0</td>\n",
       "      <td>1</td>\n",
       "      <td>0</td>\n",
       "      <td>0</td>\n",
       "      <td>1</td>\n",
       "      <td>0</td>\n",
       "      <td>0</td>\n",
       "      <td>0</td>\n",
       "      <td>0</td>\n",
       "      <td>1</td>\n",
       "    </tr>\n",
       "    <tr>\n",
       "      <th>573939521</th>\n",
       "      <th>1004835</th>\n",
       "      <td>8</td>\n",
       "      <td>2</td>\n",
       "      <td>428149.0</td>\n",
       "      <td>231.38</td>\n",
       "      <td>231.31</td>\n",
       "      <td>2</td>\n",
       "      <td>5</td>\n",
       "      <td>2</td>\n",
       "      <td>5</td>\n",
       "      <td>0</td>\n",
       "      <td>0</td>\n",
       "      <td>1</td>\n",
       "      <td>0</td>\n",
       "      <td>0</td>\n",
       "      <td>0</td>\n",
       "      <td>0</td>\n",
       "      <td>0</td>\n",
       "      <td>1</td>\n",
       "      <td>0</td>\n",
       "      <td>1</td>\n",
       "      <td>0</td>\n",
       "      <td>0</td>\n",
       "      <td>0</td>\n",
       "      <td>0</td>\n",
       "      <td>0</td>\n",
       "      <td>0</td>\n",
       "      <td>1</td>\n",
       "      <td>1</td>\n",
       "    </tr>\n",
       "    <tr>\n",
       "      <th>518624163</th>\n",
       "      <th>1005105</th>\n",
       "      <td>4</td>\n",
       "      <td>1</td>\n",
       "      <td>102.0</td>\n",
       "      <td>1415.48</td>\n",
       "      <td>1415.48</td>\n",
       "      <td>0</td>\n",
       "      <td>3</td>\n",
       "      <td>0</td>\n",
       "      <td>3</td>\n",
       "      <td>0</td>\n",
       "      <td>0</td>\n",
       "      <td>1</td>\n",
       "      <td>0</td>\n",
       "      <td>0</td>\n",
       "      <td>0</td>\n",
       "      <td>0</td>\n",
       "      <td>0</td>\n",
       "      <td>1</td>\n",
       "      <td>1</td>\n",
       "      <td>0</td>\n",
       "      <td>0</td>\n",
       "      <td>0</td>\n",
       "      <td>0</td>\n",
       "      <td>1</td>\n",
       "      <td>0</td>\n",
       "      <td>0</td>\n",
       "      <td>0</td>\n",
       "      <td>1</td>\n",
       "    </tr>\n",
       "  </tbody>\n",
       "</table>\n",
       "</div>"
      ],
      "text/plain": [
       "                      NumOfEventsInJourney  NumSessions  interactionTime  \\\n",
       "user_id   product_id                                                       \n",
       "558439246 1004564                        5            3          43819.0   \n",
       "541078011 1004767                        5            1            317.0   \n",
       "514764771 5801494                       10            5        1019927.0   \n",
       "573939521 1004835                        8            2         428149.0   \n",
       "518624163 1005105                        4            1            102.0   \n",
       "\n",
       "                      maxPrice  minPrice  NumCart  NumView  InsessionCart  \\\n",
       "user_id   product_id                                                        \n",
       "558439246 1004564       128.45    128.45        1        3              1   \n",
       "541078011 1004767       240.40    240.40        1        3              1   \n",
       "514764771 5801494        51.48     51.48        2        7              2   \n",
       "573939521 1004835       231.38    231.31        2        5              2   \n",
       "518624163 1005105      1415.48   1415.48        0        3              0   \n",
       "\n",
       "                      InsessionView  Weekend  Fr  Mon  Sat  Sun  Thu  Tue  \\\n",
       "user_id   product_id                                                        \n",
       "558439246 1004564                 1        0   0    1    0    0    0    0   \n",
       "541078011 1004767                 3        0   0    0    0    0    1    0   \n",
       "514764771 5801494                 5        0   1    0    0    0    0    0   \n",
       "573939521 1004835                 5        0   0    1    0    0    0    0   \n",
       "518624163 1005105                 3        0   0    1    0    0    0    0   \n",
       "\n",
       "                      Wed  2019  Oct  Nov  Afternoon  Dawn  EarlyMorning  \\\n",
       "user_id   product_id                                                       \n",
       "558439246 1004564       0     1    0    1          0     1             0   \n",
       "541078011 1004767       0     1    0    1          1     0             0   \n",
       "514764771 5801494       0     1    0    1          0     0             1   \n",
       "573939521 1004835       0     1    0    1          0     0             0   \n",
       "518624163 1005105       0     1    1    0          0     0             0   \n",
       "\n",
       "                      Evening  Morning  Night  Noon  Purchase  \n",
       "user_id   product_id                                           \n",
       "558439246 1004564           0        0      0     0         1  \n",
       "541078011 1004767           0        0      0     0         1  \n",
       "514764771 5801494           0        0      0     0         1  \n",
       "573939521 1004835           0        0      0     1         1  \n",
       "518624163 1005105           1        0      0     0         1  "
      ]
     },
     "execution_count": 75,
     "metadata": {},
     "output_type": "execute_result"
    }
   ],
   "source": [
    "FeaturesDF.head()"
   ]
  },
  {
   "cell_type": "code",
   "execution_count": 76,
   "metadata": {
    "colab": {},
    "colab_type": "code",
    "id": "cyM2w8AHmILX",
    "outputId": "ba86d164-25d7-4cbd-f836-234d23b4f20f"
   },
   "outputs": [
    {
     "data": {
      "text/plain": [
       "'The features we have are as follows:'"
      ]
     },
     "metadata": {},
     "output_type": "display_data"
    },
    {
     "data": {
      "text/plain": [
       "['NumOfEventsInJourney',\n",
       " 'NumSessions',\n",
       " 'interactionTime',\n",
       " 'maxPrice',\n",
       " 'minPrice',\n",
       " 'NumCart',\n",
       " 'NumView',\n",
       " 'InsessionCart',\n",
       " 'InsessionView',\n",
       " 'Weekend',\n",
       " 'Fr',\n",
       " 'Mon',\n",
       " 'Sat',\n",
       " 'Sun',\n",
       " 'Thu',\n",
       " 'Tue',\n",
       " 'Wed',\n",
       " 2019,\n",
       " 'Oct',\n",
       " 'Nov',\n",
       " 'Afternoon',\n",
       " 'Dawn',\n",
       " 'EarlyMorning',\n",
       " 'Evening',\n",
       " 'Morning',\n",
       " 'Night',\n",
       " 'Noon',\n",
       " 'Purchase']"
      ]
     },
     "metadata": {},
     "output_type": "display_data"
    },
    {
     "name": "stdout",
     "output_type": "stream",
     "text": [
      "************\n",
      "PLEASE NOTE THAT \n",
      " One-Hot-Encoded Date and Time features are dynamically added as per data\n",
      "************\n"
     ]
    }
   ],
   "source": [
    "display(\"The features we have are as follows:\", FeaturesDF.columns.tolist())\n",
    "\n",
    "print('************')\n",
    "print(\"PLEASE NOTE THAT \\n One-Hot-Encoded Date and Time features are dynamically added as per data\")\n",
    "print('************')"
   ]
  },
  {
   "cell_type": "markdown",
   "metadata": {},
   "source": [
    "**Save to Pickle**"
   ]
  },
  {
   "cell_type": "code",
   "execution_count": 77,
   "metadata": {},
   "outputs": [],
   "source": [
    "#Run this cell for ELECTRONICS Data\n",
    "FeaturesDF.to_pickle(\"Electronics_Journey_Features.pkl\")"
   ]
  },
  {
   "cell_type": "code",
   "execution_count": 7,
   "metadata": {},
   "outputs": [
    {
     "data": {
      "text/html": [
       "<div>\n",
       "<style scoped>\n",
       "    .dataframe tbody tr th:only-of-type {\n",
       "        vertical-align: middle;\n",
       "    }\n",
       "\n",
       "    .dataframe tbody tr th {\n",
       "        vertical-align: top;\n",
       "    }\n",
       "\n",
       "    .dataframe thead th {\n",
       "        text-align: right;\n",
       "    }\n",
       "</style>\n",
       "<table border=\"1\" class=\"dataframe\">\n",
       "  <thead>\n",
       "    <tr style=\"text-align: right;\">\n",
       "      <th></th>\n",
       "      <th></th>\n",
       "      <th>NumOfEventsInJourney</th>\n",
       "      <th>NumSessions</th>\n",
       "      <th>interactionTime</th>\n",
       "      <th>maxPrice</th>\n",
       "      <th>minPrice</th>\n",
       "      <th>NumCart</th>\n",
       "      <th>NumView</th>\n",
       "      <th>InsessionCart</th>\n",
       "      <th>InsessionView</th>\n",
       "      <th>Weekend</th>\n",
       "      <th>Fr</th>\n",
       "      <th>Mon</th>\n",
       "      <th>Sat</th>\n",
       "      <th>Sun</th>\n",
       "      <th>Thu</th>\n",
       "      <th>Tue</th>\n",
       "      <th>Wed</th>\n",
       "      <th>2019</th>\n",
       "      <th>Oct</th>\n",
       "      <th>Nov</th>\n",
       "      <th>Afternoon</th>\n",
       "      <th>Dawn</th>\n",
       "      <th>EarlyMorning</th>\n",
       "      <th>Evening</th>\n",
       "      <th>Morning</th>\n",
       "      <th>Night</th>\n",
       "      <th>Noon</th>\n",
       "      <th>Purchase</th>\n",
       "    </tr>\n",
       "    <tr>\n",
       "      <th>user_id</th>\n",
       "      <th>product_id</th>\n",
       "      <th></th>\n",
       "      <th></th>\n",
       "      <th></th>\n",
       "      <th></th>\n",
       "      <th></th>\n",
       "      <th></th>\n",
       "      <th></th>\n",
       "      <th></th>\n",
       "      <th></th>\n",
       "      <th></th>\n",
       "      <th></th>\n",
       "      <th></th>\n",
       "      <th></th>\n",
       "      <th></th>\n",
       "      <th></th>\n",
       "      <th></th>\n",
       "      <th></th>\n",
       "      <th></th>\n",
       "      <th></th>\n",
       "      <th></th>\n",
       "      <th></th>\n",
       "      <th></th>\n",
       "      <th></th>\n",
       "      <th></th>\n",
       "      <th></th>\n",
       "      <th></th>\n",
       "      <th></th>\n",
       "      <th></th>\n",
       "    </tr>\n",
       "  </thead>\n",
       "  <tbody>\n",
       "    <tr>\n",
       "      <th>558439246</th>\n",
       "      <th>1004564</th>\n",
       "      <td>5</td>\n",
       "      <td>3</td>\n",
       "      <td>43819.0</td>\n",
       "      <td>128.45</td>\n",
       "      <td>128.45</td>\n",
       "      <td>1</td>\n",
       "      <td>3</td>\n",
       "      <td>1</td>\n",
       "      <td>1</td>\n",
       "      <td>0</td>\n",
       "      <td>0</td>\n",
       "      <td>1</td>\n",
       "      <td>0</td>\n",
       "      <td>0</td>\n",
       "      <td>0</td>\n",
       "      <td>0</td>\n",
       "      <td>0</td>\n",
       "      <td>1</td>\n",
       "      <td>0</td>\n",
       "      <td>1</td>\n",
       "      <td>0</td>\n",
       "      <td>1</td>\n",
       "      <td>0</td>\n",
       "      <td>0</td>\n",
       "      <td>0</td>\n",
       "      <td>0</td>\n",
       "      <td>0</td>\n",
       "      <td>1</td>\n",
       "    </tr>\n",
       "    <tr>\n",
       "      <th>541078011</th>\n",
       "      <th>1004767</th>\n",
       "      <td>5</td>\n",
       "      <td>1</td>\n",
       "      <td>317.0</td>\n",
       "      <td>240.40</td>\n",
       "      <td>240.40</td>\n",
       "      <td>1</td>\n",
       "      <td>3</td>\n",
       "      <td>1</td>\n",
       "      <td>3</td>\n",
       "      <td>0</td>\n",
       "      <td>0</td>\n",
       "      <td>0</td>\n",
       "      <td>0</td>\n",
       "      <td>0</td>\n",
       "      <td>1</td>\n",
       "      <td>0</td>\n",
       "      <td>0</td>\n",
       "      <td>1</td>\n",
       "      <td>0</td>\n",
       "      <td>1</td>\n",
       "      <td>1</td>\n",
       "      <td>0</td>\n",
       "      <td>0</td>\n",
       "      <td>0</td>\n",
       "      <td>0</td>\n",
       "      <td>0</td>\n",
       "      <td>0</td>\n",
       "      <td>1</td>\n",
       "    </tr>\n",
       "    <tr>\n",
       "      <th>514764771</th>\n",
       "      <th>5801494</th>\n",
       "      <td>10</td>\n",
       "      <td>5</td>\n",
       "      <td>1019927.0</td>\n",
       "      <td>51.48</td>\n",
       "      <td>51.48</td>\n",
       "      <td>2</td>\n",
       "      <td>7</td>\n",
       "      <td>2</td>\n",
       "      <td>5</td>\n",
       "      <td>0</td>\n",
       "      <td>1</td>\n",
       "      <td>0</td>\n",
       "      <td>0</td>\n",
       "      <td>0</td>\n",
       "      <td>0</td>\n",
       "      <td>0</td>\n",
       "      <td>0</td>\n",
       "      <td>1</td>\n",
       "      <td>0</td>\n",
       "      <td>1</td>\n",
       "      <td>0</td>\n",
       "      <td>0</td>\n",
       "      <td>1</td>\n",
       "      <td>0</td>\n",
       "      <td>0</td>\n",
       "      <td>0</td>\n",
       "      <td>0</td>\n",
       "      <td>1</td>\n",
       "    </tr>\n",
       "    <tr>\n",
       "      <th>573939521</th>\n",
       "      <th>1004835</th>\n",
       "      <td>8</td>\n",
       "      <td>2</td>\n",
       "      <td>428149.0</td>\n",
       "      <td>231.38</td>\n",
       "      <td>231.31</td>\n",
       "      <td>2</td>\n",
       "      <td>5</td>\n",
       "      <td>2</td>\n",
       "      <td>5</td>\n",
       "      <td>0</td>\n",
       "      <td>0</td>\n",
       "      <td>1</td>\n",
       "      <td>0</td>\n",
       "      <td>0</td>\n",
       "      <td>0</td>\n",
       "      <td>0</td>\n",
       "      <td>0</td>\n",
       "      <td>1</td>\n",
       "      <td>0</td>\n",
       "      <td>1</td>\n",
       "      <td>0</td>\n",
       "      <td>0</td>\n",
       "      <td>0</td>\n",
       "      <td>0</td>\n",
       "      <td>0</td>\n",
       "      <td>0</td>\n",
       "      <td>1</td>\n",
       "      <td>1</td>\n",
       "    </tr>\n",
       "    <tr>\n",
       "      <th>518624163</th>\n",
       "      <th>1005105</th>\n",
       "      <td>4</td>\n",
       "      <td>1</td>\n",
       "      <td>102.0</td>\n",
       "      <td>1415.48</td>\n",
       "      <td>1415.48</td>\n",
       "      <td>0</td>\n",
       "      <td>3</td>\n",
       "      <td>0</td>\n",
       "      <td>3</td>\n",
       "      <td>0</td>\n",
       "      <td>0</td>\n",
       "      <td>1</td>\n",
       "      <td>0</td>\n",
       "      <td>0</td>\n",
       "      <td>0</td>\n",
       "      <td>0</td>\n",
       "      <td>0</td>\n",
       "      <td>1</td>\n",
       "      <td>1</td>\n",
       "      <td>0</td>\n",
       "      <td>0</td>\n",
       "      <td>0</td>\n",
       "      <td>0</td>\n",
       "      <td>1</td>\n",
       "      <td>0</td>\n",
       "      <td>0</td>\n",
       "      <td>0</td>\n",
       "      <td>1</td>\n",
       "    </tr>\n",
       "  </tbody>\n",
       "</table>\n",
       "</div>"
      ],
      "text/plain": [
       "                      NumOfEventsInJourney  NumSessions  interactionTime  \\\n",
       "user_id   product_id                                                       \n",
       "558439246 1004564                        5            3          43819.0   \n",
       "541078011 1004767                        5            1            317.0   \n",
       "514764771 5801494                       10            5        1019927.0   \n",
       "573939521 1004835                        8            2         428149.0   \n",
       "518624163 1005105                        4            1            102.0   \n",
       "\n",
       "                      maxPrice  minPrice  NumCart  NumView  InsessionCart  \\\n",
       "user_id   product_id                                                        \n",
       "558439246 1004564       128.45    128.45        1        3              1   \n",
       "541078011 1004767       240.40    240.40        1        3              1   \n",
       "514764771 5801494        51.48     51.48        2        7              2   \n",
       "573939521 1004835       231.38    231.31        2        5              2   \n",
       "518624163 1005105      1415.48   1415.48        0        3              0   \n",
       "\n",
       "                      InsessionView  Weekend  Fr  Mon  Sat  Sun  Thu  Tue  \\\n",
       "user_id   product_id                                                        \n",
       "558439246 1004564                 1        0   0    1    0    0    0    0   \n",
       "541078011 1004767                 3        0   0    0    0    0    1    0   \n",
       "514764771 5801494                 5        0   1    0    0    0    0    0   \n",
       "573939521 1004835                 5        0   0    1    0    0    0    0   \n",
       "518624163 1005105                 3        0   0    1    0    0    0    0   \n",
       "\n",
       "                      Wed  2019  Oct  Nov  Afternoon  Dawn  EarlyMorning  \\\n",
       "user_id   product_id                                                       \n",
       "558439246 1004564       0     1    0    1          0     1             0   \n",
       "541078011 1004767       0     1    0    1          1     0             0   \n",
       "514764771 5801494       0     1    0    1          0     0             1   \n",
       "573939521 1004835       0     1    0    1          0     0             0   \n",
       "518624163 1005105       0     1    1    0          0     0             0   \n",
       "\n",
       "                      Evening  Morning  Night  Noon  Purchase  \n",
       "user_id   product_id                                           \n",
       "558439246 1004564           0        0      0     0         1  \n",
       "541078011 1004767           0        0      0     0         1  \n",
       "514764771 5801494           0        0      0     0         1  \n",
       "573939521 1004835           0        0      0     1         1  \n",
       "518624163 1005105           1        0      0     0         1  "
      ]
     },
     "execution_count": 7,
     "metadata": {},
     "output_type": "execute_result"
    }
   ],
   "source": [
    "FeaturesDF.head()"
   ]
  },
  {
   "cell_type": "markdown",
   "metadata": {
    "colab_type": "text",
    "id": "zn2FafEuXhDX"
   },
   "source": [
    "#    \n",
    "************************************************\n",
    "************************************************"
   ]
  },
  {
   "cell_type": "markdown",
   "metadata": {
    "colab_type": "text",
    "id": "SIQBpFGKmILZ"
   },
   "source": [
    "# 3. ***`SPLITTING DATA`***"
   ]
  },
  {
   "cell_type": "markdown",
   "metadata": {
    "colab_type": "text",
    "id": "JTZcZUY76jRt"
   },
   "source": [
    "## 3a. Test-Train Split"
   ]
  },
  {
   "cell_type": "code",
   "execution_count": 8,
   "metadata": {
    "colab": {},
    "colab_type": "code",
    "id": "TZvEi1S7mILZ"
   },
   "outputs": [],
   "source": [
    "XData = FeaturesDF.iloc[:,:-1]\n",
    "YData = FeaturesDF.iloc[:,-1]"
   ]
  },
  {
   "cell_type": "code",
   "execution_count": 9,
   "metadata": {
    "colab": {},
    "colab_type": "code",
    "id": "u4ZWCuKImILd"
   },
   "outputs": [],
   "source": [
    "X_train, X_test, y_train, y_test = train_test_split(XData,YData,test_size=0.2,random_state=42)"
   ]
  },
  {
   "cell_type": "markdown",
   "metadata": {
    "colab_type": "text",
    "id": "AiYoEPRvmILf"
   },
   "source": [
    "## 3b. Scaling with MinMax"
   ]
  },
  {
   "cell_type": "code",
   "execution_count": 10,
   "metadata": {
    "colab": {},
    "colab_type": "code",
    "id": "YbA-MZzamILf"
   },
   "outputs": [],
   "source": [
    "MMscaler = MinMaxScaler()\n",
    "X_train = MMscaler.fit_transform(X_train)\n",
    "X_test = MMscaler.transform(X_test)"
   ]
  },
  {
   "cell_type": "markdown",
   "metadata": {
    "colab_type": "text",
    "id": "uzWwOUjSXnii"
   },
   "source": [
    "#    \n",
    "************************************************\n",
    "************************************************"
   ]
  },
  {
   "cell_type": "markdown",
   "metadata": {
    "colab_type": "text",
    "id": "LC-3jPVumILY"
   },
   "source": [
    "# 4. ***`FEATURE RANKING`***"
   ]
  },
  {
   "cell_type": "markdown",
   "metadata": {
    "colab_type": "text",
    "id": "2yFnUuk_mILi"
   },
   "source": [
    "## 4a. Using Random Forest"
   ]
  },
  {
   "cell_type": "code",
   "execution_count": 12,
   "metadata": {
    "colab": {},
    "colab_type": "code",
    "id": "wyMGdfg6mILi"
   },
   "outputs": [],
   "source": [
    "sel = SelectFromModel(RandomForestClassifier(n_estimators = 100))"
   ]
  },
  {
   "cell_type": "code",
   "execution_count": null,
   "metadata": {
    "colab": {},
    "colab_type": "code",
    "id": "pOiLrSmZmILk",
    "outputId": "65e7efd5-4e9e-4cf9-eeeb-853dca6658a6"
   },
   "outputs": [],
   "source": [
    "sel.fit(X_train, y_train)"
   ]
  },
  {
   "cell_type": "code",
   "execution_count": null,
   "metadata": {
    "colab": {},
    "colab_type": "code",
    "id": "0EeqYMYRmILl",
    "outputId": "fa9c5c09-ece7-4401-aa43-b148dc054525"
   },
   "outputs": [],
   "source": [
    "sel.get_support()"
   ]
  },
  {
   "cell_type": "code",
   "execution_count": null,
   "metadata": {
    "colab": {},
    "colab_type": "code",
    "id": "0a2Nu53smILn"
   },
   "outputs": [],
   "source": [
    "selected_feat= XData.columns[(sel.get_support())]"
   ]
  },
  {
   "cell_type": "code",
   "execution_count": null,
   "metadata": {
    "colab": {},
    "colab_type": "code",
    "id": "687P_x5GmILo",
    "outputId": "306d6df2-6a28-4f20-b8d6-9e963625811b"
   },
   "outputs": [],
   "source": [
    "importances = sel.estimator_.feature_importances_\n",
    "indices = np.argsort(importances)[::-1] \n",
    "colname = XData.columns[indices]\n",
    "plt.figure(figsize=(15,9))\n",
    "plt.title(\"Feature importances\",size=20)\n",
    "sns.barplot(x=colname, y=importances[indices],palette=\"deep\")\n",
    "plt.xticks(rotation=90,size=20)\n",
    "plt.show()"
   ]
  },
  {
   "cell_type": "markdown",
   "metadata": {
    "colab_type": "text",
    "id": "qBx-40eZmILq"
   },
   "source": [
    "## 4b. Using F Scores"
   ]
  },
  {
   "cell_type": "code",
   "execution_count": null,
   "metadata": {
    "colab": {},
    "colab_type": "code",
    "id": "z20bKXLImILq"
   },
   "outputs": [],
   "source": [
    "import sklearn.feature_selection as fs\n",
    "kb = fs.SelectKBest(k=X_train.shape[1])\n",
    "kb.fit(X_train, y_train)\n",
    "names = XData.columns.values[kb.get_support()]\n",
    "scores = kb.scores_[kb.get_support()]\n",
    "names_scores = list(zip(names, scores))"
   ]
  },
  {
   "cell_type": "code",
   "execution_count": null,
   "metadata": {
    "colab": {},
    "colab_type": "code",
    "id": "L_UjtvBVmILs"
   },
   "outputs": [],
   "source": [
    "fScoreDF = pd.DataFrame(data = names_scores, columns=['Feat_names','F_Scores'])\n",
    "fScoreDF_sorted = fScoreDF.sort_values(['F_Scores','Feat_names'], ascending =[False, True])"
   ]
  },
  {
   "cell_type": "code",
   "execution_count": null,
   "metadata": {
    "colab": {},
    "colab_type": "code",
    "id": "TqMChHIKmILt",
    "outputId": "d400611e-69bd-4485-aebf-e2c8ec6c7daf"
   },
   "outputs": [],
   "source": [
    "plt.figure(figsize=(15,9))\n",
    "sns.barplot(x= \"Feat_names\", y=\"F_Scores\",data=fScoreDF_sorted)\n",
    "plt.xticks(rotation=90,size=20)\n",
    "plt.show()"
   ]
  },
  {
   "cell_type": "markdown",
   "metadata": {
    "colab_type": "text",
    "id": "vRAIEJzEXsJa"
   },
   "source": [
    "#    \n",
    "************************************************\n",
    "************************************************"
   ]
  },
  {
   "cell_type": "markdown",
   "metadata": {
    "colab_type": "text",
    "id": "meybcudd3eaK"
   },
   "source": [
    "# 5. ***` DATA TRANSFORMATION`***"
   ]
  },
  {
   "cell_type": "markdown",
   "metadata": {
    "colab_type": "text",
    "id": "-B7pvy6LXco8"
   },
   "source": [
    "## 5.1 SMOTE "
   ]
  },
  {
   "cell_type": "code",
   "execution_count": 67,
   "metadata": {
    "colab": {
     "base_uri": "https://localhost:8080/",
     "height": 34
    },
    "colab_type": "code",
    "id": "HxdKvsosuMIT",
    "outputId": "054dc853-4850-4bec-a54e-1e7b86b7b083"
   },
   "outputs": [
    {
     "name": "stdout",
     "output_type": "stream",
     "text": [
      "Label Distribution Pre Balancing Counter({0: 21442423, 1: 617293})\n"
     ]
    }
   ],
   "source": [
    "print( \"Label Distribution Pre Balancing {}\".format(Counter(YData)))"
   ]
  },
  {
   "cell_type": "code",
   "execution_count": 68,
   "metadata": {
    "colab": {},
    "colab_type": "code",
    "id": "EHGQvUnTvtJZ"
   },
   "outputs": [],
   "source": [
    "oversample = SMOTE()\n",
    "XSMOTE, YSMOTE = oversample.fit_resample(XData, YData)"
   ]
  },
  {
   "cell_type": "code",
   "execution_count": 69,
   "metadata": {
    "scrolled": true
   },
   "outputs": [
    {
     "name": "stdout",
     "output_type": "stream",
     "text": [
      "Label Distribution Post Balancing Counter({1: 21442423, 0: 21442423})\n"
     ]
    }
   ],
   "source": [
    "print( \"Label Distribution Post Balancing {}\".format( Counter(YSMOTE) ) )"
   ]
  },
  {
   "cell_type": "code",
   "execution_count": 70,
   "metadata": {
    "colab": {},
    "colab_type": "code",
    "id": "4zEi_oj53dQ0"
   },
   "outputs": [],
   "source": [
    "trainX, testX, trainY, testY = train_test_split(XSMOTE,YSMOTE,test_size=0.2,random_state=42)"
   ]
  },
  {
   "cell_type": "code",
   "execution_count": 71,
   "metadata": {
    "colab": {},
    "colab_type": "code",
    "id": "OusRxesM3y32"
   },
   "outputs": [],
   "source": [
    "MMscaler = MinMaxScaler()\n",
    "trainX = MMscaler.fit_transform(trainX)\n",
    "testX = MMscaler.transform(testX)"
   ]
  },
  {
   "cell_type": "markdown",
   "metadata": {},
   "source": [
    "**Save/load pickle files for quick future usage**"
   ]
  },
  {
   "cell_type": "code",
   "execution_count": 72,
   "metadata": {},
   "outputs": [],
   "source": [
    "FeaturesDFSMOTE = pd.concat([XSMOTE,YSMOTE],axis=1)\n",
    "\n",
    "FeaturesDFSMOTE.to_pickle('Electronics_Session_Features_SMOTE.pkl')\n",
    "FeaturesDFSMOTE = pd.read_pickle('Electronics_Session_Features_SMOTE.pkl')"
   ]
  },
  {
   "cell_type": "markdown",
   "metadata": {},
   "source": [
    "## 5.2 PCA"
   ]
  },
  {
   "cell_type": "markdown",
   "metadata": {},
   "source": [
    "### 5.2.1 Non Balanced Data"
   ]
  },
  {
   "cell_type": "markdown",
   "metadata": {},
   "source": [
    "**pca1 : Based on the explained variance percentage**"
   ]
  },
  {
   "cell_type": "code",
   "execution_count": 73,
   "metadata": {},
   "outputs": [],
   "source": [
    "desiredVariancePercent = 0.8"
   ]
  },
  {
   "cell_type": "code",
   "execution_count": 74,
   "metadata": {
    "scrolled": true
   },
   "outputs": [
    {
     "data": {
      "text/plain": [
       "PCA()"
      ]
     },
     "execution_count": 74,
     "metadata": {},
     "output_type": "execute_result"
    }
   ],
   "source": [
    "pca1 = PCA()\n",
    "pca1.fit(X_train)"
   ]
  },
  {
   "cell_type": "code",
   "execution_count": 75,
   "metadata": {},
   "outputs": [
    {
     "data": {
      "text/plain": [
       "array([0.21086136, 0.32214916, 0.4095742 , 0.48649043, 0.56156747,\n",
       "       0.63446372, 0.69951133, 0.75938413, 0.81838954, 0.87684265,\n",
       "       0.93253877, 0.96051217, 0.98380365, 0.99614895, 0.99980979,\n",
       "       0.99996567, 0.99998392, 0.99999213, 0.99999756, 0.99999894,\n",
       "       0.99999996, 1.        , 1.        , 1.        , 1.        ,\n",
       "       1.        , 1.        ])"
      ]
     },
     "execution_count": 75,
     "metadata": {},
     "output_type": "execute_result"
    }
   ],
   "source": [
    "variance_cumsum = np.cumsum(pca1.explained_variance_ratio_)\n",
    "variance_cumsum"
   ]
  },
  {
   "cell_type": "code",
   "execution_count": 76,
   "metadata": {},
   "outputs": [
    {
     "name": "stdout",
     "output_type": "stream",
     "text": [
      "Number of components that explain 80.0 percent variance in data are 9\n"
     ]
    }
   ],
   "source": [
    "numRequiredComponents = next(x[0] for x in enumerate(variance_cumsum.tolist()) if (x[1]> desiredVariancePercent)) + 1\n",
    "print(\"Number of components that explain {} percent variance in data are {}\".format(desiredVariancePercent*100,numRequiredComponents))"
   ]
  },
  {
   "cell_type": "markdown",
   "metadata": {},
   "source": [
    "**pca2 : Number of components defined for variance specified above**"
   ]
  },
  {
   "cell_type": "code",
   "execution_count": 77,
   "metadata": {},
   "outputs": [
    {
     "data": {
      "text/plain": [
       "PCA(n_components=9)"
      ]
     },
     "execution_count": 77,
     "metadata": {},
     "output_type": "execute_result"
    }
   ],
   "source": [
    "pca2 = PCA(n_components=numRequiredComponents)\n",
    "pca2.fit(X_train)"
   ]
  },
  {
   "cell_type": "code",
   "execution_count": 78,
   "metadata": {},
   "outputs": [
    {
     "data": {
      "text/plain": [
       "array([0.21086136, 0.32214916, 0.4095742 , 0.48649043, 0.56156747,\n",
       "       0.63446372, 0.69951133, 0.75938413, 0.81838954])"
      ]
     },
     "execution_count": 78,
     "metadata": {},
     "output_type": "execute_result"
    }
   ],
   "source": [
    "np.cumsum(pca2.explained_variance_ratio_)"
   ]
  },
  {
   "cell_type": "markdown",
   "metadata": {},
   "source": [
    "**pcaNC2 : Number of components = 2**"
   ]
  },
  {
   "cell_type": "code",
   "execution_count": 79,
   "metadata": {},
   "outputs": [
    {
     "data": {
      "text/plain": [
       "PCA(n_components=2)"
      ]
     },
     "execution_count": 79,
     "metadata": {},
     "output_type": "execute_result"
    }
   ],
   "source": [
    "pcaNC2 = PCA(n_components=2)\n",
    "pcaNC2.fit(X_train)"
   ]
  },
  {
   "cell_type": "markdown",
   "metadata": {},
   "source": [
    "**Visualization of Explained Variance Ratio For different components**"
   ]
  },
  {
   "cell_type": "code",
   "execution_count": 80,
   "metadata": {},
   "outputs": [
    {
     "data": {
      "image/png": "[encoded data removed]",
      "text/plain": [
       "<Figure size 864x432 with 1 Axes>"
      ]
     },
     "metadata": {},
     "output_type": "display_data"
    }
   ],
   "source": [
    "import matplotlib.pyplot as plt\n",
    "plt.rcParams[\"figure.figsize\"] = (12,6)\n",
    "\n",
    "fig, ax = plt.subplots()\n",
    "xi = np.arange(1, FeaturesDF.shape[1], step=1)\n",
    "y = np.cumsum(pca1.explained_variance_ratio_)\n",
    "\n",
    "plt.ylim(0.0,1.1)\n",
    "plt.plot(xi, y, marker='o', linestyle='--', color='blue')\n",
    "\n",
    "plt.xlabel('\\n Number of Components \\n',size = 20)\n",
    "plt.xticks(np.arange(0, FeaturesDF.shape[1], step=1)) #change from 0-based array index to 1-based human-readable label\n",
    "plt.ylabel('\\n Cumulative variance (%)\\n ',size = 20)\n",
    "plt.title('The number of components needed to explain variance \\n',size = 20)\n",
    "\n",
    "plt.axhline(y= desiredVariancePercent, color='r', linestyle='-')\n",
    "plt.axvline(x=numRequiredComponents, color='g', linestyle='--')\n",
    "plt.text(20, 0.9, '{} cut-off threshold'.format(desiredVariancePercent*100), color = 'red', fontsize=15)\n",
    "\n",
    "ax.grid(axis='x')\n",
    "plt.show()"
   ]
  },
  {
   "cell_type": "markdown",
   "metadata": {},
   "source": [
    "### 5.2.2 Balanced Data"
   ]
  },
  {
   "cell_type": "markdown",
   "metadata": {},
   "source": [
    "**smote_pca : Number of components NOT defined**"
   ]
  },
  {
   "cell_type": "code",
   "execution_count": 81,
   "metadata": {},
   "outputs": [
    {
     "data": {
      "text/plain": [
       "PCA()"
      ]
     },
     "execution_count": 81,
     "metadata": {},
     "output_type": "execute_result"
    }
   ],
   "source": [
    "smote_pca = PCA()\n",
    "smote_pca.fit(trainX)"
   ]
  },
  {
   "cell_type": "code",
   "execution_count": 82,
   "metadata": {},
   "outputs": [],
   "source": [
    "variance_cumsumSMOTE = np.cumsum(smote_pca.explained_variance_ratio_)"
   ]
  },
  {
   "cell_type": "code",
   "execution_count": 83,
   "metadata": {},
   "outputs": [
    {
     "name": "stdout",
     "output_type": "stream",
     "text": [
      "Number of components that explain 80.0 percent variance in data are 10\n"
     ]
    }
   ],
   "source": [
    "numRequiredComponentsSMOTE = next(x[0] for x in enumerate(variance_cumsumSMOTE.tolist()) if (x[1]> desiredVariancePercent)) + 1\n",
    "print(\"Number of components that explain {} percent variance in data are {}\".format(desiredVariancePercent*100,numRequiredComponentsSMOTE))"
   ]
  },
  {
   "cell_type": "markdown",
   "metadata": {},
   "source": [
    "**smote_pca2 : Number of components defined for variance specified**"
   ]
  },
  {
   "cell_type": "code",
   "execution_count": 84,
   "metadata": {
    "colab": {},
    "colab_type": "code",
    "id": "H9JfBqSn-0vX"
   },
   "outputs": [
    {
     "data": {
      "text/plain": [
       "PCA(n_components=10)"
      ]
     },
     "execution_count": 84,
     "metadata": {},
     "output_type": "execute_result"
    }
   ],
   "source": [
    "smote_pca2 = PCA(n_components=numRequiredComponentsSMOTE)\n",
    "smote_pca2.fit(trainX)"
   ]
  },
  {
   "cell_type": "markdown",
   "metadata": {},
   "source": [
    "**smotePcaNC2 : Number of components = 2**"
   ]
  },
  {
   "cell_type": "code",
   "execution_count": 85,
   "metadata": {},
   "outputs": [
    {
     "data": {
      "text/plain": [
       "PCA(n_components=2)"
      ]
     },
     "execution_count": 85,
     "metadata": {},
     "output_type": "execute_result"
    }
   ],
   "source": [
    "smote_pcaNC2 = PCA(n_components=2)\n",
    "smote_pcaNC2.fit(X_train)"
   ]
  },
  {
   "cell_type": "markdown",
   "metadata": {},
   "source": [
    "**SMOTE PCA Visualization**"
   ]
  },
  {
   "cell_type": "code",
   "execution_count": 86,
   "metadata": {},
   "outputs": [
    {
     "data": {
      "image/png": "[encoded data removed]",
      "text/plain": [
       "<Figure size 864x432 with 1 Axes>"
      ]
     },
     "metadata": {},
     "output_type": "display_data"
    }
   ],
   "source": [
    "fig, ax = plt.subplots()\n",
    "xi = np.arange(1, FeaturesDF.shape[1], step=1)\n",
    "y = np.cumsum(smote_pca.explained_variance_ratio_)\n",
    "NTH_component = next(x[0] for x in enumerate(y.tolist()) if (x[1]> desiredVariancePercent))\n",
    "\n",
    "plt.ylim(0.0,1.1)\n",
    "plt.plot(xi, y, marker='o', linestyle='--', color='blue')\n",
    "\n",
    "plt.xlabel('\\n Number of Components \\n',size = 20)\n",
    "plt.xticks(np.arange(0, FeaturesDF.shape[1], step=1)) #change from 0-based array index to 1-based human-readable label\n",
    "plt.ylabel('\\n Cumulative variance (%)\\n ',size = 20)\n",
    "plt.title('The number of components needed to explain variance \\n',size = 20)\n",
    "\n",
    "plt.axhline(y= desiredVariancePercent, color='r', linestyle='-')\n",
    "plt.axvline(x=NTH_component+1, color='g', linestyle='--')\n",
    "plt.text(20, 0.9, '{} cut-off threshold'.format(desiredVariancePercent*100), color = 'red', fontsize=15)\n",
    "\n",
    "ax.grid(axis='x')\n",
    "plt.show()"
   ]
  },
  {
   "cell_type": "markdown",
   "metadata": {},
   "source": [
    "### 5.2.3 PCA Transformations"
   ]
  },
  {
   "cell_type": "markdown",
   "metadata": {},
   "source": [
    "Non Balanced Data --- \n",
    "\n",
    "CHOOSE the function you want to use depending on variance/number of components :\n",
    "\n",
    "1. pca1\n",
    "2. pca2\n",
    "3. pcaNC2"
   ]
  },
  {
   "cell_type": "code",
   "execution_count": 87,
   "metadata": {
    "colab": {},
    "colab_type": "code",
    "id": "H9JfBqSn-0vX"
   },
   "outputs": [],
   "source": [
    "X_train_pca = pca2.transform(X_train)\n",
    "X_test_pca = pca2.transform(X_test)"
   ]
  },
  {
   "cell_type": "code",
   "execution_count": 88,
   "metadata": {},
   "outputs": [],
   "source": [
    "X_PCA = np.concatenate([X_train_pca,X_test_pca])"
   ]
  },
  {
   "cell_type": "code",
   "execution_count": 89,
   "metadata": {},
   "outputs": [
    {
     "data": {
      "text/plain": [
       "(22059716, 9)"
      ]
     },
     "execution_count": 89,
     "metadata": {},
     "output_type": "execute_result"
    }
   ],
   "source": [
    "X_PCA.shape"
   ]
  },
  {
   "cell_type": "markdown",
   "metadata": {},
   "source": [
    "Balanced Data"
   ]
  },
  {
   "cell_type": "code",
   "execution_count": 90,
   "metadata": {},
   "outputs": [],
   "source": [
    "trainX = smote_pca2.transform(trainX)\n",
    "testX = smote_pca2.transform(testX)"
   ]
  },
  {
   "cell_type": "code",
   "execution_count": 91,
   "metadata": {},
   "outputs": [
    {
     "data": {
      "text/plain": [
       "(34307876, 10)"
      ]
     },
     "execution_count": 91,
     "metadata": {},
     "output_type": "execute_result"
    }
   ],
   "source": [
    "trainX.shape"
   ]
  },
  {
   "cell_type": "markdown",
   "metadata": {
    "colab_type": "text",
    "id": "3srz0vJyXxko"
   },
   "source": [
    "#    \n",
    "************************************************\n",
    "************************************************"
   ]
  },
  {
   "cell_type": "markdown",
   "metadata": {
    "colab_type": "text",
    "id": "YSdOTIkg6OKu"
   },
   "source": [
    "# 6. ***`BASELINING`***"
   ]
  },
  {
   "cell_type": "markdown",
   "metadata": {
    "colab_type": "text",
    "id": "ezEy7J5amILv"
   },
   "source": [
    "## 6a. BASELINING --- non Balanced data"
   ]
  },
  {
   "cell_type": "code",
   "execution_count": 92,
   "metadata": {
    "colab": {},
    "colab_type": "code",
    "id": "tE_LZJ8hmIMA"
   },
   "outputs": [],
   "source": [
    "logreg = LogisticRegression(solver='lbfgs', max_iter=1000,n_jobs=-1)"
   ]
  },
  {
   "cell_type": "code",
   "execution_count": null,
   "metadata": {
    "colab": {},
    "colab_type": "code",
    "id": "E32XtaPU5P4u"
   },
   "outputs": [],
   "source": [
    "y_pred = cross_val_predict(logreg, X_train, y_train, cv=5)"
   ]
  },
  {
   "cell_type": "code",
   "execution_count": null,
   "metadata": {
    "colab": {
     "base_uri": "https://localhost:8080/",
     "height": 34
    },
    "colab_type": "code",
    "id": "C6mczUeQ5YaV",
    "outputId": "281747d5-765e-4a10-85fd-92166bf6c6fd"
   },
   "outputs": [],
   "source": [
    "print(metrics.accuracy_score(y_train, y_pred))"
   ]
  },
  {
   "cell_type": "code",
   "execution_count": null,
   "metadata": {
    "colab": {
     "base_uri": "https://localhost:8080/",
     "height": 105
    },
    "colab_type": "code",
    "id": "mGXi3np5s8Gz",
    "outputId": "ddd5d19e-0270-4e9c-d071-a38a2997b17f"
   },
   "outputs": [],
   "source": [
    "logreg.fit(X_train, y_train)"
   ]
  },
  {
   "cell_type": "code",
   "execution_count": null,
   "metadata": {
    "colab": {},
    "colab_type": "code",
    "id": "ioJWJzVVtLJF"
   },
   "outputs": [],
   "source": [
    "y_predFinal = logreg.predict(X_test)"
   ]
  },
  {
   "cell_type": "code",
   "execution_count": null,
   "metadata": {
    "colab": {
     "base_uri": "https://localhost:8080/",
     "height": 34
    },
    "colab_type": "code",
    "id": "EBW5DwyJteVa",
    "outputId": "450ce7bd-f642-4c14-d88b-cc8ef27195ca"
   },
   "outputs": [],
   "source": [
    "print(metrics.accuracy_score(y_test, y_predFinal))"
   ]
  },
  {
   "cell_type": "code",
   "execution_count": null,
   "metadata": {
    "colab": {
     "base_uri": "https://localhost:8080/",
     "height": 52
    },
    "colab_type": "code",
    "id": "4Z_0uUAKtlML",
    "outputId": "e18d42e9-1b93-42d6-d01c-06f74035e28e"
   },
   "outputs": [],
   "source": [
    "cnf_matrix = metrics.confusion_matrix(y_test, y_predFinal)\n",
    "cnf_matrix"
   ]
  },
  {
   "cell_type": "code",
   "execution_count": null,
   "metadata": {
    "colab": {
     "base_uri": "https://localhost:8080/",
     "height": 332
    },
    "colab_type": "code",
    "id": "XC7LpzgCtupu",
    "outputId": "daec5425-7f43-47e3-ca42-1fbf8784ca0b"
   },
   "outputs": [],
   "source": [
    "class_names=[1,0] # name  of classes\n",
    "fig, ax = plt.subplots()\n",
    "tick_marks = np.arange(len(class_names))\n",
    "plt.xticks(tick_marks, class_names)\n",
    "plt.yticks(tick_marks, class_names)\n",
    "# create heatmap\n",
    "sns.heatmap(pd.DataFrame(cnf_matrix), annot=True, cmap=\"Greens\" ,fmt='g')\n",
    "ax.xaxis.set_label_position(\"bottom\")\n",
    "plt.tight_layout()\n",
    "plt.title('Confusion matrix', y=1.1)\n",
    "plt.ylabel('Actual label')\n",
    "plt.xlabel('Predicted label')"
   ]
  },
  {
   "cell_type": "code",
   "execution_count": null,
   "metadata": {},
   "outputs": [],
   "source": [
    "print(\"Accuracy:\",metrics.accuracy_score(y_test, y_predFinal))\n",
    "print(\"Precision:\",metrics.precision_score(y_test, y_predFinal))\n",
    "print(\"Recall:\",metrics.recall_score(y_test, y_predFinal))"
   ]
  },
  {
   "cell_type": "markdown",
   "metadata": {
    "colab_type": "text",
    "id": "vWLhQF4juAD8"
   },
   "source": [
    "## 6b. BASELINING - Balanced data"
   ]
  },
  {
   "cell_type": "code",
   "execution_count": null,
   "metadata": {
    "colab": {},
    "colab_type": "code",
    "id": "YDLxPo8c35el"
   },
   "outputs": [],
   "source": [
    "logreg = LogisticRegression(solver='lbfgs', max_iter=1000,n_jobs=-1)"
   ]
  },
  {
   "cell_type": "code",
   "execution_count": null,
   "metadata": {
    "colab": {},
    "colab_type": "code",
    "id": "VMdzWL5P4iFP"
   },
   "outputs": [],
   "source": [
    "predY = cross_val_predict(logreg, trainX, trainY, cv=5)"
   ]
  },
  {
   "cell_type": "code",
   "execution_count": null,
   "metadata": {
    "colab": {
     "base_uri": "https://localhost:8080/",
     "height": 34
    },
    "colab_type": "code",
    "id": "D7VT6Psi4mbp",
    "outputId": "bf8a8f1a-1a95-43ec-d104-8d15bc14c067"
   },
   "outputs": [],
   "source": [
    "print(metrics.accuracy_score(trainY, predY))"
   ]
  },
  {
   "cell_type": "code",
   "execution_count": null,
   "metadata": {
    "colab": {
     "base_uri": "https://localhost:8080/",
     "height": 105
    },
    "colab_type": "code",
    "id": "BhjOE1LL4vME",
    "outputId": "20d4b7bd-03b0-4c74-c959-9f6d3312b6b5"
   },
   "outputs": [],
   "source": [
    "logreg.fit(trainX, trainY)"
   ]
  },
  {
   "cell_type": "code",
   "execution_count": null,
   "metadata": {
    "colab": {},
    "colab_type": "code",
    "id": "5FpbFZ2I42uS"
   },
   "outputs": [],
   "source": [
    "predFinalY = logreg.predict(testX)"
   ]
  },
  {
   "cell_type": "code",
   "execution_count": null,
   "metadata": {
    "colab": {
     "base_uri": "https://localhost:8080/",
     "height": 34
    },
    "colab_type": "code",
    "id": "nqazCDeW48lo",
    "outputId": "4de205c1-545c-4fbf-f819-755db003bbfb"
   },
   "outputs": [],
   "source": [
    "print(metrics.accuracy_score(testY, predFinalY))"
   ]
  },
  {
   "cell_type": "code",
   "execution_count": null,
   "metadata": {
    "colab": {
     "base_uri": "https://localhost:8080/",
     "height": 52
    },
    "colab_type": "code",
    "id": "zZwt0FIG5Dcu",
    "outputId": "e9d1c515-3349-49b1-d438-5f6446e31125"
   },
   "outputs": [],
   "source": [
    "cnf_matrix_SMOTE = metrics.confusion_matrix(testY, predFinalY)\n",
    "cnf_matrix_SMOTE"
   ]
  },
  {
   "cell_type": "code",
   "execution_count": null,
   "metadata": {
    "colab": {
     "base_uri": "https://localhost:8080/",
     "height": 343
    },
    "colab_type": "code",
    "id": "Es0CDNCj5JlF",
    "outputId": "9d7fda4b-ccc6-4dd7-dae3-ff32ab470dac"
   },
   "outputs": [],
   "source": [
    "# name  of classes\n",
    "class_names=[0,1] \n",
    "fig, ax = plt.subplots()\n",
    "tick_marks = np.arange(len(class_names))\n",
    "plt.xticks(tick_marks, class_names,size=20)\n",
    "plt.yticks(tick_marks, class_names,size=20)\n",
    "\n",
    "# create heatmap\n",
    "sns.heatmap(pd.DataFrame(cnf_matrix_SMOTE), annot=True, cmap=\"Blues\" ,fmt='g')\n",
    "ax.xaxis.set_label_position(\"bottom\")\n",
    "plt.tight_layout()\n",
    "plt.title('Confusion matrix SMOTE',size = 20)\n",
    "plt.ylabel('Actual label SMOTE ',size = 20)\n",
    "plt.xlabel('Predicted label SMOTE',size = 20)"
   ]
  },
  {
   "cell_type": "code",
   "execution_count": null,
   "metadata": {
    "colab": {
     "base_uri": "https://localhost:8080/",
     "height": 70
    },
    "colab_type": "code",
    "id": "27E4dTV-j-RG",
    "outputId": "27167d85-3520-4054-e552-281e2ac0913f"
   },
   "outputs": [],
   "source": [
    "print(\"Accuracy:\",metrics.accuracy_score(testY, predFinalY))\n",
    "print(\"Precision:\",metrics.precision_score(testY, predFinalY))\n",
    "print(\"Recall:\",metrics.recall_score(testY, predFinalY))"
   ]
  },
  {
   "cell_type": "markdown",
   "metadata": {
    "colab_type": "text",
    "id": "LCFqX0v0X4hp"
   },
   "source": [
    "#    \n",
    "************************************************\n",
    "************************************************"
   ]
  },
  {
   "cell_type": "markdown",
   "metadata": {
    "colab_type": "text",
    "id": "WRxFIw40ZIk_"
   },
   "source": [
    "# 7. ***`SUBSETTING DATA/CREATING SAMPLES`***\n",
    "\n",
    "NON STRATIFIED\n",
    "\n",
    "    FeaturesDF - All Features\n",
    "    XData, YData - FeaturesDF split into x and y\n",
    "    X,Y - SMOTE of XData and YData\n",
    "    XSelect,YSelect- XData with select features\n",
    "    XSample,YSample - XSelect Sliced upto 'n' rows non stratified"
   ]
  },
  {
   "cell_type": "code",
   "execution_count": null,
   "metadata": {
    "colab": {
     "base_uri": "https://localhost:8080/",
     "height": 35
    },
    "colab_type": "code",
    "id": "miJSZbk_m-tq",
    "outputId": "584b2d4c-f8ad-4f54-c2f4-fc4609679d90"
   },
   "outputs": [],
   "source": [
    "print(XData.shape)\n",
    "print(YData.shape)"
   ]
  },
  {
   "cell_type": "code",
   "execution_count": null,
   "metadata": {},
   "outputs": [],
   "source": [
    "# FOR COSMETICS DATA\n",
    "\n",
    "SelectFeatures = ['NumOfEventsInJourney',          'NumSessions',      'interactionTime',\n",
    "                   'maxPrice',             'minPrice',              'NumCart',\n",
    "                    'NumView',     'InsessionCart', 'InsessionView',      ]"
   ]
  },
  {
   "cell_type": "markdown",
   "metadata": {
    "colab_type": "text",
    "id": "0iC-daXdTEax"
   },
   "source": [
    "**Subsets for clustering**"
   ]
  },
  {
   "cell_type": "code",
   "execution_count": null,
   "metadata": {
    "colab": {},
    "colab_type": "code",
    "id": "FLGC7Cp7Ga9i"
   },
   "outputs": [],
   "source": [
    "#Enter the desired subset size\n",
    "\n",
    "Subset_size = XData.shape[0] # All Rows\n",
    "\n",
    "# OR\n",
    "\n",
    "Subset_size = 60000 # Specified number of rows"
   ]
  },
  {
   "cell_type": "code",
   "execution_count": null,
   "metadata": {},
   "outputs": [],
   "source": [
    "#CREATING X SAMPLE\n",
    "\n",
    "XSelect = XData[SelectFeatures]\n",
    "XSample = XSelect[:Subset_size].iloc[:,:]"
   ]
  },
  {
   "cell_type": "code",
   "execution_count": null,
   "metadata": {
    "colab": {},
    "colab_type": "code",
    "id": "9Mko0OJXaRvq"
   },
   "outputs": [],
   "source": [
    "#Scaling X SAMPLE\n",
    "\n",
    "MMscaler = MinMaxScaler()\n",
    "SampleCol = XSample.columns\n",
    "XSample = MMscaler.fit_transform(XSample)\n",
    "XSample = pd.DataFrame(XSample,columns=SampleCol)\n",
    "\n",
    "print(XSample.shape)"
   ]
  },
  {
   "cell_type": "code",
   "execution_count": null,
   "metadata": {
    "colab": {},
    "colab_type": "code",
    "id": "9Mko0OJXaRvq"
   },
   "outputs": [],
   "source": [
    "#CREATING Y SAMPLE\n",
    "\n",
    "YSample = YData[:Subset_size]\n",
    "print(YSample.value_counts())"
   ]
  },
  {
   "cell_type": "markdown",
   "metadata": {
    "colab_type": "text",
    "id": "0NTCJ4B_YA28"
   },
   "source": [
    "#    \n",
    "************************************************\n",
    "************************************************"
   ]
  },
  {
   "cell_type": "markdown",
   "metadata": {
    "colab_type": "text",
    "id": "9L4WEj9GDBXT"
   },
   "source": [
    "# 8. ***`STRATIFIED SAMPLING`***\n",
    "\n",
    "XSampleSS - Stratified X Sample\n",
    "\n",
    "YSampleSS - Stratified Y Sample\n"
   ]
  },
  {
   "cell_type": "markdown",
   "metadata": {
    "colab_type": "text",
    "id": "SRt8BivG0x7T"
   },
   "source": [
    "## Generating Sample"
   ]
  },
  {
   "cell_type": "code",
   "execution_count": 20,
   "metadata": {
    "colab": {},
    "colab_type": "code",
    "id": "L84PBb2wxs5F"
   },
   "outputs": [],
   "source": [
    "from sklearn.model_selection import StratifiedShuffleSplit\n",
    "sss = StratifiedShuffleSplit(n_splits=10, test_size = 0.006, random_state=42)\n"
   ]
  },
  {
   "cell_type": "code",
   "execution_count": 22,
   "metadata": {
    "colab": {},
    "colab_type": "code",
    "id": "PfjVYeWByGRw"
   },
   "outputs": [],
   "source": [
    "for train_index, test_index in sss.split(XData, YData):\n",
    "    #print(train_index, test_index )\n",
    "    XSSS_Train = XData.reset_index().loc[train_index]\n",
    "    XSSS_Test = XData.reset_index().loc[test_index]\n",
    "    YSSS_Train = YData.reset_index().loc[train_index]\n",
    "    YSSS_Test = YData.reset_index().loc[test_index]"
   ]
  },
  {
   "cell_type": "code",
   "execution_count": 23,
   "metadata": {
    "colab": {
     "base_uri": "https://localhost:8080/",
     "height": 53
    },
    "colab_type": "code",
    "id": "VGbOayCF96TB",
    "outputId": "a3256f39-6485-4eb7-f312-1e971610a65e"
   },
   "outputs": [
    {
     "name": "stdout",
     "output_type": "stream",
     "text": [
      "(132359, 29)\n",
      "(132359, 3)\n"
     ]
    }
   ],
   "source": [
    "XSampleSS = XSSS_Test\n",
    "print(XSampleSS.shape)\n",
    "YSampleSS = YSSS_Test\n",
    "print(YSampleSS.shape)"
   ]
  },
  {
   "cell_type": "code",
   "execution_count": 28,
   "metadata": {},
   "outputs": [],
   "source": [
    "# FOR ELECTRONICS DATA\n",
    "\n",
    "\n",
    "SelectFeatures = ['NumOfEventsInJourney',          'NumSessions',      'interactionTime',\n",
    "                   'maxPrice',             'minPrice',              'NumCart',\n",
    "                    'NumView',                    'InsessionCart',  'InsessionView' ]"
   ]
  },
  {
   "cell_type": "code",
   "execution_count": 29,
   "metadata": {},
   "outputs": [],
   "source": [
    "#Creating Stratified X Sample\n",
    "\n",
    "XSampleSS = XSampleSS[SelectFeatures]\n",
    "\n",
    "XSampleSS = XSampleSS.iloc[:,:]\n",
    "SampleColSS = XSampleSS.columns\n",
    "\n",
    "XSampleSS = MMscaler.fit_transform(XSampleSS)\n",
    "XSampleSS = pd.DataFrame(XSampleSS,columns=SampleColSS)"
   ]
  },
  {
   "cell_type": "code",
   "execution_count": 30,
   "metadata": {},
   "outputs": [],
   "source": [
    "#Creating Stratified Y Sample\n",
    "YSampleSS = YSampleSS.Purchase"
   ]
  },
  {
   "cell_type": "markdown",
   "metadata": {
    "colab_type": "text",
    "id": "i67r7vmXYIfg"
   },
   "source": [
    "#    \n",
    "************************************************\n",
    "************************************************"
   ]
  },
  {
   "cell_type": "markdown",
   "metadata": {
    "colab_type": "text",
    "id": "MPV2odYo93G0"
   },
   "source": [
    "# 9. ***`T-SNE`***"
   ]
  },
  {
   "cell_type": "markdown",
   "metadata": {},
   "source": [
    "## T-SNE FUNCTIONS SETUP"
   ]
  },
  {
   "cell_type": "code",
   "execution_count": 56,
   "metadata": {
    "colab": {},
    "colab_type": "code",
    "id": "c9FtVX02lwQe"
   },
   "outputs": [],
   "source": [
    "def generate_tsne(sample_X, sample_Y, perp):\n",
    "    \n",
    "    \"\"\"\n",
    "    Parameter : Perplexity (5 to 50, increase with density)\n",
    "    Returns: tsne modified dataframe\n",
    "    \"\"\"\n",
    "    \n",
    "    tsne = TSNE(n_components=2, perplexity = perp, n_iter = 300, learning_rate=100)\n",
    "    tsne_results = tsne.fit_transform(sample_X)\n",
    "    df_tsne = pd.DataFrame(tsne_results, columns=['comp1','comp2'])\n",
    "    df_tsne['label'] = sample_Y.values\n",
    "    return df_tsne"
   ]
  },
  {
   "cell_type": "code",
   "execution_count": 32,
   "metadata": {
    "colab": {},
    "colab_type": "code",
    "id": "ZCEmBkTC7ArG"
   },
   "outputs": [],
   "source": [
    "def viz_TSNE(df_tsne):\n",
    "    \n",
    "    \"\"\"\n",
    "    Parameter :tsne modified dataframe\n",
    "    Returns: Visualization of tsne\n",
    "    \"\"\"\n",
    "    \n",
    "    plt.figure(figsize=(9,6))\n",
    "    sns.lmplot(x='comp1', y='comp2', data = df_tsne, hue='label', fit_reg=False)\n",
    "    plt.show()"
   ]
  },
  {
   "cell_type": "markdown",
   "metadata": {
    "colab_type": "text",
    "id": "MXUidGN-Hyc3"
   },
   "source": [
    "## **TSNE ITERATIONS**"
   ]
  },
  {
   "cell_type": "markdown",
   "metadata": {
    "colab_type": "text",
    "id": "l8enaVk9IOEj"
   },
   "source": [
    "### Trial 1\n",
    "\n",
    "Using a Stratified Sample\n",
    "\n",
    "(n_components=2, perplexity = perp, n_iter = 1000, learning_rate=100)\n"
   ]
  },
  {
   "cell_type": "markdown",
   "metadata": {
    "colab_type": "text",
    "id": "ydhMDx6WRwBa"
   },
   "source": [
    "***1.1\n",
    "Perplexity = 10***"
   ]
  },
  {
   "cell_type": "code",
   "execution_count": 33,
   "metadata": {
    "colab": {},
    "colab_type": "code",
    "id": "FPw_zDMWIROB"
   },
   "outputs": [],
   "source": [
    "dfSS10 = generate_tsne(XSampleSS, YSampleSS, 10)"
   ]
  },
  {
   "cell_type": "code",
   "execution_count": 34,
   "metadata": {},
   "outputs": [
    {
     "data": {
      "text/plain": [
       "<Figure size 648x432 with 0 Axes>"
      ]
     },
     "metadata": {},
     "output_type": "display_data"
    },
    {
     "data": {
      "image/png": "[encoded data removed]",
      "text/plain": [
       "<Figure size 405.725x360 with 1 Axes>"
      ]
     },
     "metadata": {},
     "output_type": "display_data"
    }
   ],
   "source": [
    "viz_TSNE(dfSS10)"
   ]
  },
  {
   "cell_type": "markdown",
   "metadata": {},
   "source": [
    "***1.2\n",
    "Perplexity = 20***"
   ]
  },
  {
   "cell_type": "code",
   "execution_count": null,
   "metadata": {},
   "outputs": [],
   "source": [
    "dfSS20= generate_tsne(XSampleSS, YSampleSS, 20)b"
   ]
  },
  {
   "cell_type": "code",
   "execution_count": null,
   "metadata": {},
   "outputs": [],
   "source": [
    "viz_TSNE(dfSS20)"
   ]
  },
  {
   "cell_type": "markdown",
   "metadata": {
    "colab_type": "text",
    "id": "Wtw_kJ1MSEjY"
   },
   "source": [
    "***1.3\n",
    "Perplexity = 30***"
   ]
  },
  {
   "cell_type": "code",
   "execution_count": 35,
   "metadata": {},
   "outputs": [],
   "source": [
    "dfSS30= generate_tsne(XSampleSS, YSampleSS, 30)"
   ]
  },
  {
   "cell_type": "code",
   "execution_count": 36,
   "metadata": {},
   "outputs": [
    {
     "data": {
      "text/plain": [
       "<Figure size 648x432 with 0 Axes>"
      ]
     },
     "metadata": {},
     "output_type": "display_data"
    },
    {
     "data": {
      "image/png": "[encoded data removed]",
      "text/plain": [
       "<Figure size 405.725x360 with 1 Axes>"
      ]
     },
     "metadata": {},
     "output_type": "display_data"
    }
   ],
   "source": [
    "viz_TSNE(dfSS30)"
   ]
  },
  {
   "cell_type": "markdown",
   "metadata": {},
   "source": [
    "***1.4\n",
    "Perplexity = 50***"
   ]
  },
  {
   "cell_type": "code",
   "execution_count": null,
   "metadata": {},
   "outputs": [],
   "source": [
    "dfSS50= generate_tsne(XSampleSS, YSampleSS, 50)"
   ]
  },
  {
   "cell_type": "code",
   "execution_count": null,
   "metadata": {},
   "outputs": [],
   "source": [
    "viz_TSNE(dfSS50)"
   ]
  },
  {
   "cell_type": "markdown",
   "metadata": {
    "colab_type": "text",
    "id": "UoFeMsWtUNLX"
   },
   "source": [
    "#    \n",
    "************************************************\n",
    "************************************************"
   ]
  },
  {
   "cell_type": "markdown",
   "metadata": {
    "colab_type": "text",
    "id": "dzgx9NNBk39S"
   },
   "source": [
    "# 10. ***`CLUSTERING`***"
   ]
  },
  {
   "cell_type": "markdown",
   "metadata": {
    "colab_type": "text",
    "id": "Q7xJb_mJHTHI"
   },
   "source": [
    "## DBSCAN FUNCTION"
   ]
  },
  {
   "cell_type": "code",
   "execution_count": 37,
   "metadata": {
    "colab": {},
    "colab_type": "code",
    "id": "2DdNgZu1y1UM"
   },
   "outputs": [],
   "source": [
    "def dbscan(X, eps, min_samples):\n",
    "    \"\"\"\n",
    "    Parameters: \n",
    "    X: the X dataframe for clustering\n",
    "    eps : min distance between points in a cluster\n",
    "    min_samples: min number of data points in a sample\n",
    "    \n",
    "    Returns:\n",
    "        A DBSCAN visualiazation\n",
    "        Estimated number of clusters\n",
    "    \"\"\"   \n",
    "    \n",
    "    X = X.iloc[:,:].values\n",
    "    db = DBSCAN(eps=eps, min_samples=min_samples)\n",
    "    db.fit(X)\n",
    "    y_pred = db.fit_predict(X)\n",
    "    labels = db.labels_\n",
    "    n_clusters_ = len(set(labels)) - (1 if -1 in labels else 0)\n",
    "    plt.scatter(X[:,0], X[:,1],c=y_pred, cmap='Paired')\n",
    "    plt.title(\"DBSCAN\")\n",
    "    print('Estimated number of clusters: %d' % n_clusters_)"
   ]
  },
  {
   "cell_type": "markdown",
   "metadata": {
    "colab_type": "text",
    "id": "jxkxAJ4gd4NZ"
   },
   "source": [
    "####  *Finding Optimal Eps value for DBSCAN*"
   ]
  },
  {
   "cell_type": "code",
   "execution_count": 39,
   "metadata": {
    "colab": {},
    "colab_type": "code",
    "id": "8ZkRDoJUvSKH"
   },
   "outputs": [],
   "source": [
    "NN = NearestNeighbors(n_neighbors=1000)\n",
    "nbrs = NN.fit(XSampleSS)"
   ]
  },
  {
   "cell_type": "code",
   "execution_count": 40,
   "metadata": {
    "colab": {},
    "colab_type": "code",
    "id": "5CGXCsRf85Oh"
   },
   "outputs": [
    {
     "data": {
      "image/png": "[encoded data removed]",
      "text/plain": [
       "<Figure size 864x432 with 1 Axes>"
      ]
     },
     "metadata": {},
     "output_type": "display_data"
    }
   ],
   "source": [
    "distances, indices = nbrs.kneighbors(XSampleSS)\n",
    "distances = np.sort(distances, axis=0)\n",
    "distances = distances[:,1]\n",
    "plt.plot(distances)\n",
    "plt.ylim([0,0.05])\n",
    "plt.show()"
   ]
  },
  {
   "cell_type": "markdown",
   "metadata": {
    "colab_type": "text",
    "id": "odo10aeRA6uh"
   },
   "source": [
    "## CLUSTERING after PCA"
   ]
  },
  {
   "cell_type": "code",
   "execution_count": 41,
   "metadata": {
    "colab": {
     "base_uri": "https://localhost:8080/",
     "height": 302
    },
    "colab_type": "code",
    "id": "P23Fe5M7BvvH",
    "outputId": "05faf908-f211-4a0d-fa8d-a99535dd0f22"
   },
   "outputs": [
    {
     "data": {
      "text/plain": [
       "PCA(n_components=2)"
      ]
     },
     "execution_count": 41,
     "metadata": {},
     "output_type": "execute_result"
    }
   ],
   "source": [
    "# FITTING the stratified sample through PCA\n",
    "pcaNC2 = PCA(n_components=2)\n",
    "pcaNC2.fit(XSampleSS)"
   ]
  },
  {
   "cell_type": "code",
   "execution_count": 42,
   "metadata": {
    "colab": {
     "base_uri": "https://localhost:8080/"
    },
    "colab_type": "code",
    "id": "0JNuL_o_CFv5",
    "outputId": "412e806b-803e-45ac-ae97-237230e9b885"
   },
   "outputs": [],
   "source": [
    "# Transforming the stratified sample through PCA\n",
    "XSampleSS_pca = pcaNC2.transform(XSampleSS)"
   ]
  },
  {
   "cell_type": "code",
   "execution_count": 43,
   "metadata": {
    "colab": {
     "base_uri": "https://localhost:8080/"
    },
    "colab_type": "code",
    "id": "slA9dZFmCpaX",
    "outputId": "a9e36d7c-04ed-4aaa-c3fd-a055f77c3cc2",
    "scrolled": true
   },
   "outputs": [
    {
     "name": "stdout",
     "output_type": "stream",
     "text": [
      "Estimated number of clusters: 9\n"
     ]
    },
    {
     "data": {
      "image/png": "[encoded data removed]",
      "text/plain": [
       "<Figure size 864x432 with 1 Axes>"
      ]
     },
     "metadata": {},
     "output_type": "display_data"
    }
   ],
   "source": [
    "#RUNNING DBSCAN WITH EPS = 0.005\n",
    "\n",
    "dbscan(pd.DataFrame(XSampleSS_pca),0.005,1000)"
   ]
  },
  {
   "cell_type": "code",
   "execution_count": null,
   "metadata": {},
   "outputs": [],
   "source": [
    "#RUNNING DBSCAN WITH EPS = 0.005 AND MIN_SAMPLE = 100\n",
    "\n",
    "dbscan(pd.DataFrame(XSampleSS_pca),0.005,100)"
   ]
  },
  {
   "cell_type": "code",
   "execution_count": null,
   "metadata": {},
   "outputs": [],
   "source": [
    "#RUNNING DBSCAN WITH EPS = 0.03\n",
    "\n",
    "dbscan(pd.DataFrame(XSampleSS_pca),0.03,1000)"
   ]
  },
  {
   "cell_type": "markdown",
   "metadata": {
    "colab_type": "text",
    "id": "XYPoGgBFUqoa"
   },
   "source": [
    "## CLUSTERING after TSNE"
   ]
  },
  {
   "cell_type": "code",
   "execution_count": 46,
   "metadata": {},
   "outputs": [
    {
     "name": "stdout",
     "output_type": "stream",
     "text": [
      "Estimated number of clusters: 0\n"
     ]
    },
    {
     "data": {
      "image/png": "[encoded data removed]",
      "text/plain": [
       "<Figure size 864x432 with 1 Axes>"
      ]
     },
     "metadata": {},
     "output_type": "display_data"
    }
   ],
   "source": [
    "dfX10 = dfSS10.loc[:,:'comp2']\n",
    "dbscan(dfX10, 0.003, 1000)"
   ]
  },
  {
   "cell_type": "code",
   "execution_count": null,
   "metadata": {},
   "outputs": [],
   "source": [
    "dfX20 = dfSS20.loc[:,:'comp2']\n",
    "dbscan(dfX20, 0.007, 1000)"
   ]
  },
  {
   "cell_type": "code",
   "execution_count": 45,
   "metadata": {
    "colab": {
     "base_uri": "https://localhost:8080/",
     "height": 80
    },
    "colab_type": "code",
    "id": "LNOxj8T-UxnL",
    "outputId": "2fd90a84-ac18-4c37-d724-0a9b36e5fe59",
    "scrolled": false
   },
   "outputs": [
    {
     "name": "stdout",
     "output_type": "stream",
     "text": [
      "Estimated number of clusters: 0\n"
     ]
    },
    {
     "data": {
      "image/png": "[encoded data removed]",
      "text/plain": [
       "<Figure size 864x432 with 1 Axes>"
      ]
     },
     "metadata": {},
     "output_type": "display_data"
    }
   ],
   "source": [
    "dfX30 = dfSS30.loc[:,:'comp2']\n",
    "dbscan(dfX30, 0.005, 1000)"
   ]
  },
  {
   "cell_type": "markdown",
   "metadata": {},
   "source": [
    "## CLUSTERING after PCA + TSNE"
   ]
  },
  {
   "cell_type": "markdown",
   "metadata": {
    "colab": {
     "base_uri": "https://localhost:8080/",
     "height": 302
    },
    "colab_type": "code",
    "id": "E_f3hSLpWysi",
    "outputId": "38f546c0-5b82-4809-dee6-c0abca4accab"
   },
   "source": [
    "**STEP 1 PCA**"
   ]
  },
  {
   "cell_type": "code",
   "execution_count": 49,
   "metadata": {},
   "outputs": [
    {
     "data": {
      "text/plain": [
       "PCA(n_components=2)"
      ]
     },
     "execution_count": 49,
     "metadata": {},
     "output_type": "execute_result"
    }
   ],
   "source": [
    "# FITTING the stratified sample through PCA\n",
    "pcaNC2 = PCA(n_components=2)\n",
    "pcaNC2.fit(XSampleSS)"
   ]
  },
  {
   "cell_type": "code",
   "execution_count": 50,
   "metadata": {},
   "outputs": [],
   "source": [
    "# Transforming the stratified sample through PCA\n",
    "XSS_pca = pcaNC2.transform(XSampleSS)"
   ]
  },
  {
   "cell_type": "markdown",
   "metadata": {},
   "source": [
    "**STEP 2 TSNE**"
   ]
  },
  {
   "cell_type": "code",
   "execution_count": 51,
   "metadata": {},
   "outputs": [],
   "source": [
    "# Running TSNE with perplexity = 20\n",
    "df_tsne_pca = generate_tsne(XSS_pca, YSampleSS, 20)"
   ]
  },
  {
   "cell_type": "code",
   "execution_count": 52,
   "metadata": {},
   "outputs": [
    {
     "data": {
      "text/plain": [
       "<Figure size 648x432 with 0 Axes>"
      ]
     },
     "metadata": {},
     "output_type": "display_data"
    },
    {
     "data": {
      "image/png": "[encoded data removed]",
      "text/plain": [
       "<Figure size 405.725x360 with 1 Axes>"
      ]
     },
     "metadata": {},
     "output_type": "display_data"
    }
   ],
   "source": [
    "viz_TSNE(df_tsne_pca)"
   ]
  },
  {
   "cell_type": "markdown",
   "metadata": {},
   "source": [
    "**STEP 3 Cluster Visualizations**"
   ]
  },
  {
   "cell_type": "code",
   "execution_count": 53,
   "metadata": {},
   "outputs": [
    {
     "name": "stdout",
     "output_type": "stream",
     "text": [
      "Estimated number of clusters: 0\n"
     ]
    },
    {
     "data": {
      "image/png": "[encoded data removed]",
      "text/plain": [
       "<Figure size 864x432 with 1 Axes>"
      ]
     },
     "metadata": {},
     "output_type": "display_data"
    }
   ],
   "source": [
    "#clustering using DBSCAN with eps = 0.03 and min_sample = 1000\n",
    "dbscan(pd.DataFrame(df_tsne_pca),0.05,1000)"
   ]
  },
  {
   "cell_type": "markdown",
   "metadata": {
    "colab_type": "text",
    "id": "endX1LsSYMv5"
   },
   "source": [
    "#    \n",
    "************************************************\n",
    "************************************************"
   ]
  }
 ],
 "metadata": {
  "accelerator": "TPU",
  "colab": {
   "collapsed_sections": [
    "bT8i5xunlOfP",
    "ECsPJGRZnQA0",
    "6biIT_-vmIJ1",
    "gRuRzNY7uyzq",
    "p5QCUXDPmIKE",
    "OBf57YhOmIKb",
    "1bLGe9EhosTZ",
    "CrK1G_NrmIKb",
    "j0O195PMmIKe",
    "pXWshG_GmIKg",
    "xqni0t8qmIKi",
    "zfoHTadLmIKm",
    "9xj6g7WYmIKp",
    "WOa46DPOmIKr",
    "4zhcAXGFmIKu",
    "zENtm4FMmIKw",
    "fr5VhJALmIK0",
    "z3Pj1K77mIK5",
    "vUhhAGmjmIK-",
    "B2ZOAk6EmILP",
    "SIQBpFGKmILZ",
    "JTZcZUY76jRt",
    "AiYoEPRvmILf",
    "LC-3jPVumILY",
    "2yFnUuk_mILi",
    "qBx-40eZmILq",
    "meybcudd3eaK",
    "blJutxAqTcty",
    "TwMhzw8GUJuG",
    "YSdOTIkg6OKu",
    "ezEy7J5amILv",
    "vWLhQF4juAD8",
    "WRxFIw40ZIk_",
    "SRt8BivG0x7T",
    "MPV2odYo93G0",
    "MXUidGN-Hyc3",
    "KThRImX-qys3",
    "pqf_rd2BIJTs",
    "j0MLR5vlrFMW",
    "_2_Lg6tg6EE1",
    "QpmtUAtv8jep",
    "905TestGLC8N",
    "dzgx9NNBk39S",
    "AZo0SeKiKJbi",
    "Q7xJb_mJHTHI",
    "jxkxAJ4gd4NZ",
    "zYSi6r73Bb9P",
    "XYPoGgBFUqoa"
   ],
   "machine_shape": "hm",
   "name": "NEW Session Features - Electronics.ipnyb",
   "provenance": []
  },
  "kernelspec": {
   "display_name": "Python 3",
   "language": "python",
   "name": "python3"
  },
  "language_info": {
   "codemirror_mode": {
    "name": "ipython",
    "version": 3
   },
   "file_extension": ".py",
   "mimetype": "text/x-python",
   "name": "python",
   "nbconvert_exporter": "python",
   "pygments_lexer": "ipython3",
   "version": "3.8.3"
  }
 },
 "nbformat": 4,
 "nbformat_minor": 1
}
