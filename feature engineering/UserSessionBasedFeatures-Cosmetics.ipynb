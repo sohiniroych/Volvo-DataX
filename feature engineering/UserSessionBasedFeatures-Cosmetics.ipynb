{
 "cells": [
  {
   "cell_type": "markdown",
   "metadata": {},
   "source": [
    "# Pre-Processing : Library and Data file import"
   ]
  },
  {
   "cell_type": "code",
   "execution_count": 1,
   "metadata": {},
   "outputs": [
    {
     "name": "stdout",
     "output_type": "stream",
     "text": [
      "Your runtime has 17.2 gigabytes of available RAM\n",
      "\n"
     ]
    }
   ],
   "source": [
    "#FINDING RAM\n",
    "from psutil import virtual_memory\n",
    "ram_gb = virtual_memory().total / 1e9\n",
    "print('Your runtime has {:.1f} gigabytes of available RAM\\n'.format(ram_gb))"
   ]
  },
  {
   "cell_type": "code",
   "execution_count": 2,
   "metadata": {},
   "outputs": [],
   "source": [
    "import pandas as pd\n",
    "import numpy as np\n",
    "import seaborn as sns #visualisation\n",
    "import matplotlib.pyplot as plt #visualisation\n",
    "%matplotlib inline \n",
    "sns.set(color_codes=True)\n",
    "pd.set_option('display.max_columns', 999)"
   ]
  },
  {
   "cell_type": "code",
   "execution_count": 3,
   "metadata": {},
   "outputs": [
    {
     "name": "stderr",
     "output_type": "stream",
     "text": [
      "/Users/akhileshpandita/AnacondaParentFolder/anaconda3/lib/python3.7/site-packages/sklearn/utils/deprecation.py:143: FutureWarning: The sklearn.ensemble.forest module is  deprecated in version 0.22 and will be removed in version 0.24. The corresponding classes / functions should instead be imported from sklearn.ensemble. Anything that cannot be imported from sklearn.ensemble is now part of the private API.\n",
      "  warnings.warn(message, FutureWarning)\n"
     ]
    }
   ],
   "source": [
    "from sklearn.ensemble.forest import RandomForestClassifier\n",
    "from sklearn.feature_selection import SelectFromModel\n",
    "from sklearn.model_selection import train_test_split\n",
    "from sklearn.linear_model import Lasso, LogisticRegression\n",
    "from sklearn.preprocessing import StandardScaler\n",
    "from sklearn.preprocessing import MinMaxScaler\n",
    "from sklearn import metrics\n",
    "from sklearn.model_selection import cross_validate\n",
    "from sklearn.model_selection import cross_val_score\n",
    "from sklearn.model_selection import cross_val_predict\n",
    "from sklearn.decomposition import PCA\n",
    "from sklearn.neighbors import KNeighborsClassifier\n",
    "from sklearn.metrics import confusion_matrix\n",
    "import gc"
   ]
  },
  {
   "cell_type": "code",
   "execution_count": 4,
   "metadata": {},
   "outputs": [],
   "source": [
    "import time\n",
    "import warnings\n",
    "warnings.filterwarnings(\"ignore\")"
   ]
  },
  {
   "cell_type": "code",
   "execution_count": 5,
   "metadata": {},
   "outputs": [],
   "source": [
    "import imblearn\n",
    "import collections\n",
    "from collections import Counter\n",
    "from sklearn.datasets import make_classification\n",
    "from numpy import where\n",
    "from numpy import loadtxt\n",
    "from xgboost import XGBClassifier\n",
    "from matplotlib import pyplot\n",
    "from sklearn.cluster import DBSCAN \n",
    "from sklearn.datasets.samples_generator import make_blobs "
   ]
  },
  {
   "cell_type": "markdown",
   "metadata": {},
   "source": [
    "# 1. Processing data for appropriate Date-Time Values"
   ]
  },
  {
   "cell_type": "markdown",
   "metadata": {},
   "source": [
    "*******************    \n",
    "# DATA IMPORT HERE #\n",
    "Raw Data file\n",
    "*******************"
   ]
  },
  {
   "cell_type": "code",
   "execution_count": 5,
   "metadata": {},
   "outputs": [],
   "source": [
    "df = pd.read_pickle(\"shoppers.pkl\")"
   ]
  },
  {
   "cell_type": "markdown",
   "metadata": {},
   "source": [
    "## Pre-processing"
   ]
  },
  {
   "cell_type": "code",
   "execution_count": 6,
   "metadata": {},
   "outputs": [],
   "source": [
    "df.drop('category_id',axis=1,inplace=True)"
   ]
  },
  {
   "cell_type": "code",
   "execution_count": 9,
   "metadata": {},
   "outputs": [],
   "source": [
    "df['event_time'] = pd.DatetimeIndex(df['event_time']).tz_localize('UTC').tz_convert('US/Eastern')"
   ]
  },
  {
   "cell_type": "code",
   "execution_count": 10,
   "metadata": {},
   "outputs": [],
   "source": [
    "df['year'] = pd.DatetimeIndex(df['event_time']).year\n",
    "df['month'] = pd.DatetimeIndex(df['event_time']).month"
   ]
  },
  {
   "cell_type": "code",
   "execution_count": 11,
   "metadata": {},
   "outputs": [],
   "source": [
    "# Month\n",
    "\n",
    "MM = {1:'Jan', 2:'Feb', 3:'Mar', 4:'Apr', 5:'May', 6:'Jun', 7:'Jul', 8:'Aug', 9:'Sep', 10:'Oct', 11:'Nov', 12:'Dec'}\n",
    "df['month'] = pd.DatetimeIndex(df['event_time']).month.map(MM)"
   ]
  },
  {
   "cell_type": "code",
   "execution_count": 12,
   "metadata": {},
   "outputs": [],
   "source": [
    "# Weekday\n",
    "\n",
    "dayOfWeek={0:'Mon', 1:'Tue', 2:'Wed', 3:'Thu', 4:'Fr', 5:'Sat', 6:'Sun'}\n",
    "df['weekday'] = pd.DatetimeIndex(df['event_time']).weekday.map(dayOfWeek)"
   ]
  },
  {
   "cell_type": "code",
   "execution_count": 14,
   "metadata": {},
   "outputs": [],
   "source": [
    "# Phase of day\n",
    "\n",
    "df['hour'] = pd.DatetimeIndex(df['event_time']).hour\n",
    "timeOfDay={0:'Dawn',1:'Dawn',2:'Dawn',3:'Dawn',4:'Dawn',5:'EarlyMorning',6:'EarlyMorning',7:'EarlyMorning',8:'EarlyMorning', 9:'Morning',10:'Morning',11:'Morning', 12:'Noon', 13:'Afternoon',14:'Afternoon',15:'Afternoon',16:'Afternoon', 17:'Evening',18:'Evening',19:'Evening',20:'Evening', 21:'Night',22:'Night',23:'Night', 24:'Midnight'}\n",
    "df['timeOfDay'] = df.hour.map(timeOfDay)"
   ]
  },
  {
   "cell_type": "code",
   "execution_count": 15,
   "metadata": {},
   "outputs": [],
   "source": [
    "# Is Weekend?\n",
    "\n",
    "df['Weekend']= df.weekday.apply(lambda x : 1 if x in ['Sunday','Saturday'] else 0)"
   ]
  },
  {
   "cell_type": "code",
   "execution_count": 18,
   "metadata": {},
   "outputs": [],
   "source": [
    "#This step is only for cosmetics data"
   ]
  },
  {
   "cell_type": "code",
   "execution_count": 17,
   "metadata": {},
   "outputs": [],
   "source": [
    "df = df[['event_time','user_id','user_session','product_id','event_type','brand','price','year','month','weekday','hour','timeOfDay','Weekend']]"
   ]
  },
  {
   "cell_type": "code",
   "execution_count": 201,
   "metadata": {},
   "outputs": [],
   "source": [
    "#Holdiays not included due to computational issues"
   ]
  },
  {
   "cell_type": "code",
   "execution_count": 186,
   "metadata": {},
   "outputs": [],
   "source": [
    "# #Is holiday?\n",
    "\n",
    "#holidaysDF = pd.read_csv(\"holidays.csv\")\n",
    "#holidaysDF['Date']= pd.DatetimeIndex(holidaysDF['Date']).tz_localize('UTC').tz_convert('US/Eastern')\n",
    "# holidaysList = []\n",
    "\n",
    "# for item in holidaysDF['Date'].to_list():\n",
    "#     holidaysList.append(pd.Timestamp(item))\n",
    "\n",
    "# Holiday = df.event_time.apply(lambda x : 1 if x in holidaysList else 0)\n",
    "# df['Holiday']= Holiday"
   ]
  },
  {
   "cell_type": "markdown",
   "metadata": {},
   "source": [
    "Adding COLUMNS TO DF -  AMOUNT BY USER for all events"
   ]
  },
  {
   "cell_type": "code",
   "execution_count": 20,
   "metadata": {},
   "outputs": [],
   "source": [
    "AmountbyUser = pd.pivot_table(df, index='user_id',columns='event_type',values='price',fill_value=0)"
   ]
  },
  {
   "cell_type": "code",
   "execution_count": 21,
   "metadata": {},
   "outputs": [],
   "source": [
    "AmountbyUser = AmountbyUser.rename(columns={'cart':'OverallAmtUserCarted','purchase':'OverallAmtUserPurchased','view':'OverallAmtUserViewed'})"
   ]
  },
  {
   "cell_type": "code",
   "execution_count": 22,
   "metadata": {},
   "outputs": [],
   "source": [
    "df = pd.merge(df,AmountbyUser,on='user_id',how='outer')"
   ]
  },
  {
   "cell_type": "markdown",
   "metadata": {},
   "source": [
    "    BELOW STEP:\n",
    "    ONLY APPLICABLE IF REMOVE EVENT PRESENT IN DATABASE"
   ]
  },
  {
   "cell_type": "code",
   "execution_count": 27,
   "metadata": {
    "scrolled": true
   },
   "outputs": [],
   "source": [
    "df = df.rename(columns={'remove_from_cart':'OverallAmtUserRemoved'})"
   ]
  },
  {
   "cell_type": "code",
   "execution_count": 29,
   "metadata": {},
   "outputs": [
    {
     "data": {
      "text/html": [
       "<div>\n",
       "<style scoped>\n",
       "    .dataframe tbody tr th:only-of-type {\n",
       "        vertical-align: middle;\n",
       "    }\n",
       "\n",
       "    .dataframe tbody tr th {\n",
       "        vertical-align: top;\n",
       "    }\n",
       "\n",
       "    .dataframe thead th {\n",
       "        text-align: right;\n",
       "    }\n",
       "</style>\n",
       "<table border=\"1\" class=\"dataframe\">\n",
       "  <thead>\n",
       "    <tr style=\"text-align: right;\">\n",
       "      <th></th>\n",
       "      <th>event_time</th>\n",
       "      <th>user_id</th>\n",
       "      <th>user_session</th>\n",
       "      <th>product_id</th>\n",
       "      <th>event_type</th>\n",
       "      <th>brand</th>\n",
       "      <th>price</th>\n",
       "      <th>year</th>\n",
       "      <th>month</th>\n",
       "      <th>weekday</th>\n",
       "      <th>hour</th>\n",
       "      <th>timeOfDay</th>\n",
       "      <th>Weekend</th>\n",
       "      <th>OverallAmtUserCarted</th>\n",
       "      <th>OverallAmtUserPurchased</th>\n",
       "      <th>OverallAmtUserRemoved</th>\n",
       "      <th>OverallAmtUserViewed</th>\n",
       "    </tr>\n",
       "  </thead>\n",
       "  <tbody>\n",
       "    <tr>\n",
       "      <td>0</td>\n",
       "      <td>2019-09-30 20:00:00-04:00</td>\n",
       "      <td>463240011</td>\n",
       "      <td>26dd6e6e-4dac-4778-8d2c-92e149dab885</td>\n",
       "      <td>5773203</td>\n",
       "      <td>cart</td>\n",
       "      <td>runail</td>\n",
       "      <td>2.62</td>\n",
       "      <td>2019</td>\n",
       "      <td>Sep</td>\n",
       "      <td>Mon</td>\n",
       "      <td>20</td>\n",
       "      <td>Evening</td>\n",
       "      <td>0</td>\n",
       "      <td>2.381429</td>\n",
       "      <td>2.063684</td>\n",
       "      <td>0.95</td>\n",
       "      <td>0.0</td>\n",
       "    </tr>\n",
       "    <tr>\n",
       "      <td>1</td>\n",
       "      <td>2019-09-30 20:00:03-04:00</td>\n",
       "      <td>463240011</td>\n",
       "      <td>26dd6e6e-4dac-4778-8d2c-92e149dab885</td>\n",
       "      <td>5773353</td>\n",
       "      <td>cart</td>\n",
       "      <td>runail</td>\n",
       "      <td>2.62</td>\n",
       "      <td>2019</td>\n",
       "      <td>Sep</td>\n",
       "      <td>Mon</td>\n",
       "      <td>20</td>\n",
       "      <td>Evening</td>\n",
       "      <td>0</td>\n",
       "      <td>2.381429</td>\n",
       "      <td>2.063684</td>\n",
       "      <td>0.95</td>\n",
       "      <td>0.0</td>\n",
       "    </tr>\n",
       "    <tr>\n",
       "      <td>2</td>\n",
       "      <td>2019-09-30 20:00:07-04:00</td>\n",
       "      <td>463240011</td>\n",
       "      <td>26dd6e6e-4dac-4778-8d2c-92e149dab885</td>\n",
       "      <td>5723490</td>\n",
       "      <td>cart</td>\n",
       "      <td>runail</td>\n",
       "      <td>2.62</td>\n",
       "      <td>2019</td>\n",
       "      <td>Sep</td>\n",
       "      <td>Mon</td>\n",
       "      <td>20</td>\n",
       "      <td>Evening</td>\n",
       "      <td>0</td>\n",
       "      <td>2.381429</td>\n",
       "      <td>2.063684</td>\n",
       "      <td>0.95</td>\n",
       "      <td>0.0</td>\n",
       "    </tr>\n",
       "    <tr>\n",
       "      <td>3</td>\n",
       "      <td>2019-09-30 20:02:32-04:00</td>\n",
       "      <td>463240011</td>\n",
       "      <td>26dd6e6e-4dac-4778-8d2c-92e149dab885</td>\n",
       "      <td>5857283</td>\n",
       "      <td>cart</td>\n",
       "      <td>runail</td>\n",
       "      <td>2.62</td>\n",
       "      <td>2019</td>\n",
       "      <td>Sep</td>\n",
       "      <td>Mon</td>\n",
       "      <td>20</td>\n",
       "      <td>Evening</td>\n",
       "      <td>0</td>\n",
       "      <td>2.381429</td>\n",
       "      <td>2.063684</td>\n",
       "      <td>0.95</td>\n",
       "      <td>0.0</td>\n",
       "    </tr>\n",
       "    <tr>\n",
       "      <td>4</td>\n",
       "      <td>2019-09-30 20:02:40-04:00</td>\n",
       "      <td>463240011</td>\n",
       "      <td>26dd6e6e-4dac-4778-8d2c-92e149dab885</td>\n",
       "      <td>5723523</td>\n",
       "      <td>cart</td>\n",
       "      <td>runail</td>\n",
       "      <td>2.62</td>\n",
       "      <td>2019</td>\n",
       "      <td>Sep</td>\n",
       "      <td>Mon</td>\n",
       "      <td>20</td>\n",
       "      <td>Evening</td>\n",
       "      <td>0</td>\n",
       "      <td>2.381429</td>\n",
       "      <td>2.063684</td>\n",
       "      <td>0.95</td>\n",
       "      <td>0.0</td>\n",
       "    </tr>\n",
       "  </tbody>\n",
       "</table>\n",
       "</div>"
      ],
      "text/plain": [
       "                 event_time    user_id                          user_session  \\\n",
       "0 2019-09-30 20:00:00-04:00  463240011  26dd6e6e-4dac-4778-8d2c-92e149dab885   \n",
       "1 2019-09-30 20:00:03-04:00  463240011  26dd6e6e-4dac-4778-8d2c-92e149dab885   \n",
       "2 2019-09-30 20:00:07-04:00  463240011  26dd6e6e-4dac-4778-8d2c-92e149dab885   \n",
       "3 2019-09-30 20:02:32-04:00  463240011  26dd6e6e-4dac-4778-8d2c-92e149dab885   \n",
       "4 2019-09-30 20:02:40-04:00  463240011  26dd6e6e-4dac-4778-8d2c-92e149dab885   \n",
       "\n",
       "   product_id event_type   brand  price  year month weekday  hour timeOfDay  \\\n",
       "0     5773203       cart  runail   2.62  2019   Sep     Mon    20   Evening   \n",
       "1     5773353       cart  runail   2.62  2019   Sep     Mon    20   Evening   \n",
       "2     5723490       cart  runail   2.62  2019   Sep     Mon    20   Evening   \n",
       "3     5857283       cart  runail   2.62  2019   Sep     Mon    20   Evening   \n",
       "4     5723523       cart  runail   2.62  2019   Sep     Mon    20   Evening   \n",
       "\n",
       "   Weekend  OverallAmtUserCarted  OverallAmtUserPurchased  \\\n",
       "0        0              2.381429                 2.063684   \n",
       "1        0              2.381429                 2.063684   \n",
       "2        0              2.381429                 2.063684   \n",
       "3        0              2.381429                 2.063684   \n",
       "4        0              2.381429                 2.063684   \n",
       "\n",
       "   OverallAmtUserRemoved  OverallAmtUserViewed  \n",
       "0                   0.95                   0.0  \n",
       "1                   0.95                   0.0  \n",
       "2                   0.95                   0.0  \n",
       "3                   0.95                   0.0  \n",
       "4                   0.95                   0.0  "
      ]
     },
     "execution_count": 29,
     "metadata": {},
     "output_type": "execute_result"
    }
   ],
   "source": [
    "df.head()"
   ]
  },
  {
   "cell_type": "markdown",
   "metadata": {},
   "source": [
    "*******************    \n",
    "# DATA IMPORT HERE #\n",
    "*******************\n",
    "\n",
    "Processed Data Frame"
   ]
  },
  {
   "cell_type": "code",
   "execution_count": 30,
   "metadata": {},
   "outputs": [],
   "source": [
    "# SAVE TO PICKLE\n",
    "#df.to_pickle(\"dfCosmetics.pkl\")"
   ]
  },
  {
   "cell_type": "code",
   "execution_count": 23,
   "metadata": {},
   "outputs": [],
   "source": [
    "#READ FROM PICKLE\n",
    "df = pd.read_pickle(\"dfcosmetics.pkl\")"
   ]
  },
  {
   "cell_type": "code",
   "execution_count": 34,
   "metadata": {},
   "outputs": [
    {
     "data": {
      "text/plain": [
       "(20692709, 17)"
      ]
     },
     "execution_count": 34,
     "metadata": {},
     "output_type": "execute_result"
    }
   ],
   "source": [
    "df.shape"
   ]
  },
  {
   "cell_type": "code",
   "execution_count": 37,
   "metadata": {},
   "outputs": [
    {
     "data": {
      "text/plain": [
       "event_time                    0\n",
       "user_id                       0\n",
       "user_session               4598\n",
       "product_id                    0\n",
       "event_type                    0\n",
       "brand                         0\n",
       "price                         0\n",
       "year                          0\n",
       "month                         0\n",
       "weekday                       0\n",
       "hour                          0\n",
       "timeOfDay                     0\n",
       "Weekend                       0\n",
       "OverallAmtUserCarted          0\n",
       "OverallAmtUserPurchased       0\n",
       "OverallAmtUserRemoved         0\n",
       "OverallAmtUserViewed          0\n",
       "dtype: int64"
      ]
     },
     "execution_count": 37,
     "metadata": {},
     "output_type": "execute_result"
    }
   ],
   "source": [
    "df.isnull().sum(axis = 0)"
   ]
  },
  {
   "cell_type": "code",
   "execution_count": 47,
   "metadata": {},
   "outputs": [],
   "source": [
    "NullUserSessionIndex = df[(df.user_session.isna())==True].index"
   ]
  },
  {
   "cell_type": "code",
   "execution_count": 51,
   "metadata": {},
   "outputs": [],
   "source": [
    "df.drop(NullUserSessionIndex,inplace=True)"
   ]
  },
  {
   "cell_type": "markdown",
   "metadata": {},
   "source": [
    "# 2. Creating Features"
   ]
  },
  {
   "cell_type": "markdown",
   "metadata": {
    "slideshow": {
     "slide_type": "slide"
    }
   },
   "source": [
    "## Features to build:\n",
    "\n",
    "    Weekday(Sun/Mon/...) [One hot encoded]\n",
    "    Month [One hot encoded]\n",
    "    TimeOfDay(Morning/Evening/....) [One hot encoded]\n",
    "    InteractionTime(Duration of Session in seconds)\n",
    "    \n",
    "    #TotalEventsInSession()\n",
    "    #ViewEventsInSession\n",
    "    #CartEventsInSession\n",
    "    \n",
    "    #CategoriesViewedInSession\n",
    "    #CategoriesCartedInSession\n",
    "    #BrandsViewedInSession\n",
    "    #BrandsCartedInSession\n",
    "    #ProductsViewedInSession\n",
    "    #ProductsCartedInSession\n",
    "    \n",
    "    AverageAmountViewedInSession\n",
    "    AverageAmountCartedInSession\n",
    "    \n",
    "    #HolidaysDuringSession()\n",
    "    #WeekendDuringSession()\n",
    "    \n",
    "    LastSession(1: if the Session is last for a user, 0 if not)\n",
    "    \n",
    "    ViewToCartTime (Time between viewing and carting in session)\n",
    "    \n",
    "    Other suggested Features:\n",
    "        AvgPRDViewbyUser (total products viewed/total sessions by user)\n",
    "        AvgPRDCartbyUser  (total products carted/total sessions by user)\n",
    "        AvgCTGViewbyUser (total categories viewed/total sessions by user)\n",
    "        AvgCTGCartbyUser (total categories viewed/total sessions by user)"
   ]
  },
  {
   "cell_type": "markdown",
   "metadata": {},
   "source": [
    "## GROUPING THE DATA"
   ]
  },
  {
   "cell_type": "code",
   "execution_count": 53,
   "metadata": {},
   "outputs": [],
   "source": [
    "GroupUS = df.sort_values('event_time').groupby(['user_session'])"
   ]
  },
  {
   "cell_type": "markdown",
   "metadata": {},
   "source": [
    "## Total Number of Events/Interactions in Session"
   ]
  },
  {
   "cell_type": "code",
   "execution_count": 54,
   "metadata": {},
   "outputs": [],
   "source": [
    "Features= GroupUS['event_type'].count().reset_index().rename(columns={'event_type':'TotalEventsInSession'})"
   ]
  },
  {
   "cell_type": "markdown",
   "metadata": {},
   "source": [
    "## Duration"
   ]
  },
  {
   "cell_type": "code",
   "execution_count": 55,
   "metadata": {},
   "outputs": [],
   "source": [
    "# # Defining function to return range of any given series\n",
    "def ammd(series):\n",
    "    return (max(series)-min(series))"
   ]
  },
  {
   "cell_type": "code",
   "execution_count": 56,
   "metadata": {},
   "outputs": [],
   "source": [
    "interactionTime = GroupUS['event_time'].agg(ammd)"
   ]
  },
  {
   "cell_type": "code",
   "execution_count": 57,
   "metadata": {},
   "outputs": [],
   "source": [
    "interactionTime = interactionTime.dt.total_seconds()"
   ]
  },
  {
   "cell_type": "code",
   "execution_count": 58,
   "metadata": {},
   "outputs": [],
   "source": [
    "Features.set_index('user_session', inplace=True)"
   ]
  },
  {
   "cell_type": "code",
   "execution_count": 200,
   "metadata": {},
   "outputs": [],
   "source": [
    "#Join is MUCH FASTER than Merge"
   ]
  },
  {
   "cell_type": "code",
   "execution_count": 59,
   "metadata": {},
   "outputs": [],
   "source": [
    "#start_time = time.time()\n",
    "Features = Features.join(interactionTime, how='left')\n",
    "#print(\"--- %s seconds ---\" % (time.time() - start_time))"
   ]
  },
  {
   "cell_type": "code",
   "execution_count": 37,
   "metadata": {},
   "outputs": [
    {
     "name": "stdout",
     "output_type": "stream",
     "text": [
      "--- 33.254327058792114 seconds ---\n"
     ]
    }
   ],
   "source": [
    "# start_time = time.time()\n",
    "# X2 = pd.merge(Features,interactionTime, how ='outer', on = 'user_session')\n",
    "# print(\"--- %s seconds ---\" % (time.time() - start_time))"
   ]
  },
  {
   "cell_type": "code",
   "execution_count": 60,
   "metadata": {},
   "outputs": [],
   "source": [
    "Features = Features.rename(columns={'event_time':'interactionTime'})"
   ]
  },
  {
   "cell_type": "code",
   "execution_count": 61,
   "metadata": {},
   "outputs": [
    {
     "data": {
      "text/html": [
       "<div>\n",
       "<style scoped>\n",
       "    .dataframe tbody tr th:only-of-type {\n",
       "        vertical-align: middle;\n",
       "    }\n",
       "\n",
       "    .dataframe tbody tr th {\n",
       "        vertical-align: top;\n",
       "    }\n",
       "\n",
       "    .dataframe thead th {\n",
       "        text-align: right;\n",
       "    }\n",
       "</style>\n",
       "<table border=\"1\" class=\"dataframe\">\n",
       "  <thead>\n",
       "    <tr style=\"text-align: right;\">\n",
       "      <th></th>\n",
       "      <th>TotalEventsInSession</th>\n",
       "      <th>interactionTime</th>\n",
       "    </tr>\n",
       "    <tr>\n",
       "      <th>user_session</th>\n",
       "      <th></th>\n",
       "      <th></th>\n",
       "    </tr>\n",
       "  </thead>\n",
       "  <tbody>\n",
       "    <tr>\n",
       "      <td>0000061d-f3e9-484b-8c73-e54f355032a3</td>\n",
       "      <td>1</td>\n",
       "      <td>0.0</td>\n",
       "    </tr>\n",
       "    <tr>\n",
       "      <td>00000ac8-0015-4f12-996a-be2896323738</td>\n",
       "      <td>1</td>\n",
       "      <td>0.0</td>\n",
       "    </tr>\n",
       "  </tbody>\n",
       "</table>\n",
       "</div>"
      ],
      "text/plain": [
       "                                      TotalEventsInSession  interactionTime\n",
       "user_session                                                               \n",
       "0000061d-f3e9-484b-8c73-e54f355032a3                     1              0.0\n",
       "00000ac8-0015-4f12-996a-be2896323738                     1              0.0"
      ]
     },
     "execution_count": 61,
     "metadata": {},
     "output_type": "execute_result"
    }
   ],
   "source": [
    "Features.head(2)"
   ]
  },
  {
   "cell_type": "markdown",
   "metadata": {},
   "source": [
    "##  Number of Interactions by Event Type in Session"
   ]
  },
  {
   "cell_type": "code",
   "execution_count": 62,
   "metadata": {},
   "outputs": [],
   "source": [
    "NumEventTime = GroupUS['event_type'].value_counts().unstack(fill_value = 0).rename(columns={'view':'#TimesViewedinSession','cart':'#TimesCartedinSession','purchase':'#TimesPurchasedinSession'})"
   ]
  },
  {
   "cell_type": "markdown",
   "metadata": {},
   "source": [
    "    BELOW STEP:\n",
    "    ONLY FOR DATASETS HAVING THE REMOVE EVENT"
   ]
  },
  {
   "cell_type": "code",
   "execution_count": 70,
   "metadata": {},
   "outputs": [],
   "source": [
    "NumEventTime.rename(columns={'remove_from_cart':'#TimesRemovedinSession'},inplace=True)"
   ]
  },
  {
   "cell_type": "code",
   "execution_count": 63,
   "metadata": {},
   "outputs": [],
   "source": [
    "Features = Features.join(NumEventTime, how='left')"
   ]
  },
  {
   "cell_type": "code",
   "execution_count": 64,
   "metadata": {},
   "outputs": [
    {
     "data": {
      "text/html": [
       "<div>\n",
       "<style scoped>\n",
       "    .dataframe tbody tr th:only-of-type {\n",
       "        vertical-align: middle;\n",
       "    }\n",
       "\n",
       "    .dataframe tbody tr th {\n",
       "        vertical-align: top;\n",
       "    }\n",
       "\n",
       "    .dataframe thead th {\n",
       "        text-align: right;\n",
       "    }\n",
       "</style>\n",
       "<table border=\"1\" class=\"dataframe\">\n",
       "  <thead>\n",
       "    <tr style=\"text-align: right;\">\n",
       "      <th></th>\n",
       "      <th>TotalEventsInSession</th>\n",
       "      <th>interactionTime</th>\n",
       "      <th>#TimesCartedinSession</th>\n",
       "      <th>#TimesPurchasedinSession</th>\n",
       "      <th>remove_from_cart</th>\n",
       "      <th>#TimesViewedinSession</th>\n",
       "    </tr>\n",
       "    <tr>\n",
       "      <th>user_session</th>\n",
       "      <th></th>\n",
       "      <th></th>\n",
       "      <th></th>\n",
       "      <th></th>\n",
       "      <th></th>\n",
       "      <th></th>\n",
       "    </tr>\n",
       "  </thead>\n",
       "  <tbody>\n",
       "    <tr>\n",
       "      <td>0000061d-f3e9-484b-8c73-e54f355032a3</td>\n",
       "      <td>1</td>\n",
       "      <td>0.0</td>\n",
       "      <td>0</td>\n",
       "      <td>0</td>\n",
       "      <td>0</td>\n",
       "      <td>1</td>\n",
       "    </tr>\n",
       "  </tbody>\n",
       "</table>\n",
       "</div>"
      ],
      "text/plain": [
       "                                      TotalEventsInSession  interactionTime  \\\n",
       "user_session                                                                  \n",
       "0000061d-f3e9-484b-8c73-e54f355032a3                     1              0.0   \n",
       "\n",
       "                                      #TimesCartedinSession  \\\n",
       "user_session                                                  \n",
       "0000061d-f3e9-484b-8c73-e54f355032a3                      0   \n",
       "\n",
       "                                      #TimesPurchasedinSession  \\\n",
       "user_session                                                     \n",
       "0000061d-f3e9-484b-8c73-e54f355032a3                         0   \n",
       "\n",
       "                                      remove_from_cart  #TimesViewedinSession  \n",
       "user_session                                                                   \n",
       "0000061d-f3e9-484b-8c73-e54f355032a3                 0                      1  "
      ]
     },
     "execution_count": 64,
     "metadata": {},
     "output_type": "execute_result"
    }
   ],
   "source": [
    "Features.head(1)"
   ]
  },
  {
   "cell_type": "markdown",
   "metadata": {},
   "source": [
    "## Max and Min Price"
   ]
  },
  {
   "cell_type": "code",
   "execution_count": 71,
   "metadata": {},
   "outputs": [],
   "source": [
    "Features['maxPrice'] = GroupUS['price'].max().values"
   ]
  },
  {
   "cell_type": "code",
   "execution_count": 72,
   "metadata": {},
   "outputs": [],
   "source": [
    "Features['minPrice'] = GroupUS['price'].min().values"
   ]
  },
  {
   "cell_type": "code",
   "execution_count": 73,
   "metadata": {},
   "outputs": [
    {
     "data": {
      "text/html": [
       "<div>\n",
       "<style scoped>\n",
       "    .dataframe tbody tr th:only-of-type {\n",
       "        vertical-align: middle;\n",
       "    }\n",
       "\n",
       "    .dataframe tbody tr th {\n",
       "        vertical-align: top;\n",
       "    }\n",
       "\n",
       "    .dataframe thead th {\n",
       "        text-align: right;\n",
       "    }\n",
       "</style>\n",
       "<table border=\"1\" class=\"dataframe\">\n",
       "  <thead>\n",
       "    <tr style=\"text-align: right;\">\n",
       "      <th></th>\n",
       "      <th>TotalEventsInSession</th>\n",
       "      <th>interactionTime</th>\n",
       "      <th>#TimesCartedinSession</th>\n",
       "      <th>#TimesPurchasedinSession</th>\n",
       "      <th>#TimesRemovedinSession</th>\n",
       "      <th>#TimesViewedinSession</th>\n",
       "      <th>maxPrice</th>\n",
       "      <th>minPrice</th>\n",
       "    </tr>\n",
       "    <tr>\n",
       "      <th>user_session</th>\n",
       "      <th></th>\n",
       "      <th></th>\n",
       "      <th></th>\n",
       "      <th></th>\n",
       "      <th></th>\n",
       "      <th></th>\n",
       "      <th></th>\n",
       "      <th></th>\n",
       "    </tr>\n",
       "  </thead>\n",
       "  <tbody>\n",
       "    <tr>\n",
       "      <td>0000061d-f3e9-484b-8c73-e54f355032a3</td>\n",
       "      <td>1</td>\n",
       "      <td>0.0</td>\n",
       "      <td>0</td>\n",
       "      <td>0</td>\n",
       "      <td>0</td>\n",
       "      <td>1</td>\n",
       "      <td>194.44</td>\n",
       "      <td>194.44</td>\n",
       "    </tr>\n",
       "  </tbody>\n",
       "</table>\n",
       "</div>"
      ],
      "text/plain": [
       "                                      TotalEventsInSession  interactionTime  \\\n",
       "user_session                                                                  \n",
       "0000061d-f3e9-484b-8c73-e54f355032a3                     1              0.0   \n",
       "\n",
       "                                      #TimesCartedinSession  \\\n",
       "user_session                                                  \n",
       "0000061d-f3e9-484b-8c73-e54f355032a3                      0   \n",
       "\n",
       "                                      #TimesPurchasedinSession  \\\n",
       "user_session                                                     \n",
       "0000061d-f3e9-484b-8c73-e54f355032a3                         0   \n",
       "\n",
       "                                      #TimesRemovedinSession  \\\n",
       "user_session                                                   \n",
       "0000061d-f3e9-484b-8c73-e54f355032a3                       0   \n",
       "\n",
       "                                      #TimesViewedinSession  maxPrice  \\\n",
       "user_session                                                            \n",
       "0000061d-f3e9-484b-8c73-e54f355032a3                      1    194.44   \n",
       "\n",
       "                                      minPrice  \n",
       "user_session                                    \n",
       "0000061d-f3e9-484b-8c73-e54f355032a3    194.44  "
      ]
     },
     "execution_count": 73,
     "metadata": {},
     "output_type": "execute_result"
    }
   ],
   "source": [
    "Features.head(1)"
   ]
  },
  {
   "cell_type": "markdown",
   "metadata": {},
   "source": [
    "## AVERAGE AMOUNT BY EVENT IN SESSION"
   ]
  },
  {
   "cell_type": "code",
   "execution_count": 74,
   "metadata": {},
   "outputs": [],
   "source": [
    "AmountbyEvent = pd.pivot_table(df, index='user_session',columns='event_type',values='price',fill_value=0)\n",
    "AmountbyEvent = AmountbyEvent.rename(columns={'cart':'AvgAmtCartedInSession','purchase':'AvgAmtPurchasedInSession','view':'AvgAmtViewedInSession'})"
   ]
  },
  {
   "cell_type": "markdown",
   "metadata": {},
   "source": [
    "    BELOW STEP:\n",
    "    ONLY FOR DATASETS HAVING THE REMOVE EVENT"
   ]
  },
  {
   "cell_type": "code",
   "execution_count": 77,
   "metadata": {},
   "outputs": [],
   "source": [
    "AmountbyEvent.rename(columns={'remove_from_cart':'#AvgAmtRemovedInSession'},inplace=True)"
   ]
  },
  {
   "cell_type": "code",
   "execution_count": 78,
   "metadata": {},
   "outputs": [],
   "source": [
    "Features = Features.join(AmountbyEvent, how='left')"
   ]
  },
  {
   "cell_type": "code",
   "execution_count": 79,
   "metadata": {},
   "outputs": [
    {
     "data": {
      "text/html": [
       "<div>\n",
       "<style scoped>\n",
       "    .dataframe tbody tr th:only-of-type {\n",
       "        vertical-align: middle;\n",
       "    }\n",
       "\n",
       "    .dataframe tbody tr th {\n",
       "        vertical-align: top;\n",
       "    }\n",
       "\n",
       "    .dataframe thead th {\n",
       "        text-align: right;\n",
       "    }\n",
       "</style>\n",
       "<table border=\"1\" class=\"dataframe\">\n",
       "  <thead>\n",
       "    <tr style=\"text-align: right;\">\n",
       "      <th></th>\n",
       "      <th>TotalEventsInSession</th>\n",
       "      <th>interactionTime</th>\n",
       "      <th>#TimesCartedinSession</th>\n",
       "      <th>#TimesPurchasedinSession</th>\n",
       "      <th>#TimesRemovedinSession</th>\n",
       "      <th>#TimesViewedinSession</th>\n",
       "      <th>maxPrice</th>\n",
       "      <th>minPrice</th>\n",
       "      <th>AvgAmtCartedInSession</th>\n",
       "      <th>AvgAmtPurchasedInSession</th>\n",
       "      <th>#AvgAmtRemovedInSession</th>\n",
       "      <th>AvgAmtViewedInSession</th>\n",
       "    </tr>\n",
       "    <tr>\n",
       "      <th>user_session</th>\n",
       "      <th></th>\n",
       "      <th></th>\n",
       "      <th></th>\n",
       "      <th></th>\n",
       "      <th></th>\n",
       "      <th></th>\n",
       "      <th></th>\n",
       "      <th></th>\n",
       "      <th></th>\n",
       "      <th></th>\n",
       "      <th></th>\n",
       "      <th></th>\n",
       "    </tr>\n",
       "  </thead>\n",
       "  <tbody>\n",
       "    <tr>\n",
       "      <td>0000061d-f3e9-484b-8c73-e54f355032a3</td>\n",
       "      <td>1</td>\n",
       "      <td>0.0</td>\n",
       "      <td>0</td>\n",
       "      <td>0</td>\n",
       "      <td>0</td>\n",
       "      <td>1</td>\n",
       "      <td>194.44</td>\n",
       "      <td>194.44</td>\n",
       "      <td>0.0</td>\n",
       "      <td>0.0</td>\n",
       "      <td>0.0</td>\n",
       "      <td>194.44</td>\n",
       "    </tr>\n",
       "  </tbody>\n",
       "</table>\n",
       "</div>"
      ],
      "text/plain": [
       "                                      TotalEventsInSession  interactionTime  \\\n",
       "user_session                                                                  \n",
       "0000061d-f3e9-484b-8c73-e54f355032a3                     1              0.0   \n",
       "\n",
       "                                      #TimesCartedinSession  \\\n",
       "user_session                                                  \n",
       "0000061d-f3e9-484b-8c73-e54f355032a3                      0   \n",
       "\n",
       "                                      #TimesPurchasedinSession  \\\n",
       "user_session                                                     \n",
       "0000061d-f3e9-484b-8c73-e54f355032a3                         0   \n",
       "\n",
       "                                      #TimesRemovedinSession  \\\n",
       "user_session                                                   \n",
       "0000061d-f3e9-484b-8c73-e54f355032a3                       0   \n",
       "\n",
       "                                      #TimesViewedinSession  maxPrice  \\\n",
       "user_session                                                            \n",
       "0000061d-f3e9-484b-8c73-e54f355032a3                      1    194.44   \n",
       "\n",
       "                                      minPrice  AvgAmtCartedInSession  \\\n",
       "user_session                                                            \n",
       "0000061d-f3e9-484b-8c73-e54f355032a3    194.44                    0.0   \n",
       "\n",
       "                                      AvgAmtPurchasedInSession  \\\n",
       "user_session                                                     \n",
       "0000061d-f3e9-484b-8c73-e54f355032a3                       0.0   \n",
       "\n",
       "                                      #AvgAmtRemovedInSession  \\\n",
       "user_session                                                    \n",
       "0000061d-f3e9-484b-8c73-e54f355032a3                      0.0   \n",
       "\n",
       "                                      AvgAmtViewedInSession  \n",
       "user_session                                                 \n",
       "0000061d-f3e9-484b-8c73-e54f355032a3                 194.44  "
      ]
     },
     "execution_count": 79,
     "metadata": {},
     "output_type": "execute_result"
    }
   ],
   "source": [
    "Features.head(1)"
   ]
  },
  {
   "cell_type": "markdown",
   "metadata": {},
   "source": [
    "## BRAND COUNT BY EVENT IN SESSION"
   ]
  },
  {
   "cell_type": "code",
   "execution_count": 80,
   "metadata": {},
   "outputs": [],
   "source": [
    "BrandsBySession= pd.pivot_table(df, index='user_session',columns='event_type',values='brand',aggfunc='count',fill_value=0)\n",
    "BrandsBySession = BrandsBySession.rename(columns={'view':'#BrandsViewedInSession','cart':'#BrandsCartedInSession','purchase':'#BrandsPurchasedInSession'})"
   ]
  },
  {
   "cell_type": "markdown",
   "metadata": {},
   "source": [
    "    BELOW STEP:\n",
    "    ONLY FOR DATASETS HAVING THE REMOVE EVENT"
   ]
  },
  {
   "cell_type": "code",
   "execution_count": 81,
   "metadata": {},
   "outputs": [],
   "source": [
    "BrandsBySession.rename(columns={'remove_from_cart':'#BrandsRemovedInSession'},inplace=True)"
   ]
  },
  {
   "cell_type": "code",
   "execution_count": 82,
   "metadata": {},
   "outputs": [],
   "source": [
    "Features = Features.join(BrandsBySession, how='left')"
   ]
  },
  {
   "cell_type": "markdown",
   "metadata": {},
   "source": [
    "----------\n",
    "CATEGORY CODE NOT BEING USED/AVAILABLE FOR COSMETICS DATA\n",
    "____________"
   ]
  },
  {
   "cell_type": "markdown",
   "metadata": {},
   "source": [
    "## CATEGORY COUNT BY EVENT IN SESSION"
   ]
  },
  {
   "cell_type": "code",
   "execution_count": 84,
   "metadata": {},
   "outputs": [],
   "source": [
    "# CategoriesBySession= pd.pivot_table(df, index='user_session',columns='event_type',values='category_code',aggfunc='count',fill_value=0)\n",
    "# CategoriesBySession = CategoriesBySession.rename(columns={'view':'#CategoriesViewedInSession','cart':'#CategoriesCartedInSession','purchase':'#CategoriesPurchasedInSession'})"
   ]
  },
  {
   "cell_type": "code",
   "execution_count": 85,
   "metadata": {},
   "outputs": [],
   "source": [
    "# Features = Features.join(CategoriesBySession, how='left')"
   ]
  },
  {
   "cell_type": "markdown",
   "metadata": {},
   "source": [
    "## ADDING FEATURES FOR AVERAGE OVERALL AMOUNT BY USER FOR DIFFERENT EVENTS"
   ]
  },
  {
   "cell_type": "code",
   "execution_count": 83,
   "metadata": {},
   "outputs": [],
   "source": [
    "OverallAmtUserCarted = df.groupby('user_session')['OverallAmtUserCarted'].mean()"
   ]
  },
  {
   "cell_type": "code",
   "execution_count": 86,
   "metadata": {},
   "outputs": [],
   "source": [
    "OverallAmtUserViewed = df.groupby('user_session')['OverallAmtUserViewed'].mean()"
   ]
  },
  {
   "cell_type": "code",
   "execution_count": 87,
   "metadata": {},
   "outputs": [],
   "source": [
    "OverallAmtUserRemoved = df.groupby('user_session')['OverallAmtUserRemoved'].mean()"
   ]
  },
  {
   "cell_type": "code",
   "execution_count": 88,
   "metadata": {},
   "outputs": [],
   "source": [
    "OverallAmtUserPurchased = df.groupby('user_session')['OverallAmtUserPurchased'].mean()"
   ]
  },
  {
   "cell_type": "code",
   "execution_count": 89,
   "metadata": {},
   "outputs": [],
   "source": [
    "#Merging these individual dataframes\n",
    "\n",
    "Features = Features.join(OverallAmtUserCarted, how='left')"
   ]
  },
  {
   "cell_type": "code",
   "execution_count": 90,
   "metadata": {},
   "outputs": [],
   "source": [
    "Features = Features.join(OverallAmtUserViewed, how='left')"
   ]
  },
  {
   "cell_type": "code",
   "execution_count": 91,
   "metadata": {},
   "outputs": [],
   "source": [
    "Features = Features.join(OverallAmtUserRemoved, how='left')"
   ]
  },
  {
   "cell_type": "code",
   "execution_count": 92,
   "metadata": {},
   "outputs": [],
   "source": [
    "Features = Features.join(OverallAmtUserPurchased, how='left')"
   ]
  },
  {
   "cell_type": "markdown",
   "metadata": {},
   "source": [
    "## PRODUCT COUNT BY EVENT IN SESSION"
   ]
  },
  {
   "cell_type": "code",
   "execution_count": 93,
   "metadata": {},
   "outputs": [],
   "source": [
    "ProductsBySession = pd.pivot_table(df, index='user_session',columns='event_type',values='product_id',aggfunc='count',fill_value=0)\n",
    "ProductsBySession = ProductsBySession.rename(columns={'view':'#ProdsViewedInSession','cart':'#ProdsCartedInSession','purchase':'#ProdsPurchasedInSession'})"
   ]
  },
  {
   "cell_type": "markdown",
   "metadata": {},
   "source": [
    "    BELOW STEP:\n",
    "    ONLY FOR DATASETS HAVING THE REMOVE EVENT"
   ]
  },
  {
   "cell_type": "code",
   "execution_count": 94,
   "metadata": {},
   "outputs": [],
   "source": [
    "ProductsBySession.rename(columns={'remove_from_cart':'#ProdsRemovedInSession'},inplace=True)"
   ]
  },
  {
   "cell_type": "code",
   "execution_count": 95,
   "metadata": {},
   "outputs": [],
   "source": [
    "Features = Features.join(ProductsBySession, how='left')"
   ]
  },
  {
   "cell_type": "code",
   "execution_count": 96,
   "metadata": {
    "scrolled": true
   },
   "outputs": [
    {
     "data": {
      "text/html": [
       "<div>\n",
       "<style scoped>\n",
       "    .dataframe tbody tr th:only-of-type {\n",
       "        vertical-align: middle;\n",
       "    }\n",
       "\n",
       "    .dataframe tbody tr th {\n",
       "        vertical-align: top;\n",
       "    }\n",
       "\n",
       "    .dataframe thead th {\n",
       "        text-align: right;\n",
       "    }\n",
       "</style>\n",
       "<table border=\"1\" class=\"dataframe\">\n",
       "  <thead>\n",
       "    <tr style=\"text-align: right;\">\n",
       "      <th></th>\n",
       "      <th>TotalEventsInSession</th>\n",
       "      <th>interactionTime</th>\n",
       "      <th>#TimesCartedinSession</th>\n",
       "      <th>#TimesPurchasedinSession</th>\n",
       "      <th>#TimesRemovedinSession</th>\n",
       "      <th>#TimesViewedinSession</th>\n",
       "      <th>maxPrice</th>\n",
       "      <th>minPrice</th>\n",
       "      <th>AvgAmtCartedInSession</th>\n",
       "      <th>AvgAmtPurchasedInSession</th>\n",
       "      <th>#AvgAmtRemovedInSession</th>\n",
       "      <th>AvgAmtViewedInSession</th>\n",
       "      <th>#BrandsCartedInSession</th>\n",
       "      <th>#BrandsPurchasedInSession</th>\n",
       "      <th>#BrandsRemovedInSession</th>\n",
       "      <th>#BrandsViewedInSession</th>\n",
       "      <th>OverallAmtUserCarted</th>\n",
       "      <th>OverallAmtUserViewed</th>\n",
       "      <th>OverallAmtUserRemoved</th>\n",
       "      <th>OverallAmtUserPurchased</th>\n",
       "      <th>#ProdsCartedInSession</th>\n",
       "      <th>#ProdsPurchasedInSession</th>\n",
       "      <th>#ProdsRemovedInSession</th>\n",
       "      <th>#ProdsViewedInSession</th>\n",
       "    </tr>\n",
       "    <tr>\n",
       "      <th>user_session</th>\n",
       "      <th></th>\n",
       "      <th></th>\n",
       "      <th></th>\n",
       "      <th></th>\n",
       "      <th></th>\n",
       "      <th></th>\n",
       "      <th></th>\n",
       "      <th></th>\n",
       "      <th></th>\n",
       "      <th></th>\n",
       "      <th></th>\n",
       "      <th></th>\n",
       "      <th></th>\n",
       "      <th></th>\n",
       "      <th></th>\n",
       "      <th></th>\n",
       "      <th></th>\n",
       "      <th></th>\n",
       "      <th></th>\n",
       "      <th></th>\n",
       "      <th></th>\n",
       "      <th></th>\n",
       "      <th></th>\n",
       "      <th></th>\n",
       "    </tr>\n",
       "  </thead>\n",
       "  <tbody>\n",
       "    <tr>\n",
       "      <td>0000061d-f3e9-484b-8c73-e54f355032a3</td>\n",
       "      <td>1</td>\n",
       "      <td>0.0</td>\n",
       "      <td>0</td>\n",
       "      <td>0</td>\n",
       "      <td>0</td>\n",
       "      <td>1</td>\n",
       "      <td>194.44</td>\n",
       "      <td>194.44</td>\n",
       "      <td>0.0</td>\n",
       "      <td>0.0</td>\n",
       "      <td>0.0</td>\n",
       "      <td>194.44</td>\n",
       "      <td>0</td>\n",
       "      <td>0</td>\n",
       "      <td>0</td>\n",
       "      <td>1</td>\n",
       "      <td>4.543833</td>\n",
       "      <td>9.244298</td>\n",
       "      <td>5.891295</td>\n",
       "      <td>2.264476</td>\n",
       "      <td>0</td>\n",
       "      <td>0</td>\n",
       "      <td>0</td>\n",
       "      <td>1</td>\n",
       "    </tr>\n",
       "  </tbody>\n",
       "</table>\n",
       "</div>"
      ],
      "text/plain": [
       "                                      TotalEventsInSession  interactionTime  \\\n",
       "user_session                                                                  \n",
       "0000061d-f3e9-484b-8c73-e54f355032a3                     1              0.0   \n",
       "\n",
       "                                      #TimesCartedinSession  \\\n",
       "user_session                                                  \n",
       "0000061d-f3e9-484b-8c73-e54f355032a3                      0   \n",
       "\n",
       "                                      #TimesPurchasedinSession  \\\n",
       "user_session                                                     \n",
       "0000061d-f3e9-484b-8c73-e54f355032a3                         0   \n",
       "\n",
       "                                      #TimesRemovedinSession  \\\n",
       "user_session                                                   \n",
       "0000061d-f3e9-484b-8c73-e54f355032a3                       0   \n",
       "\n",
       "                                      #TimesViewedinSession  maxPrice  \\\n",
       "user_session                                                            \n",
       "0000061d-f3e9-484b-8c73-e54f355032a3                      1    194.44   \n",
       "\n",
       "                                      minPrice  AvgAmtCartedInSession  \\\n",
       "user_session                                                            \n",
       "0000061d-f3e9-484b-8c73-e54f355032a3    194.44                    0.0   \n",
       "\n",
       "                                      AvgAmtPurchasedInSession  \\\n",
       "user_session                                                     \n",
       "0000061d-f3e9-484b-8c73-e54f355032a3                       0.0   \n",
       "\n",
       "                                      #AvgAmtRemovedInSession  \\\n",
       "user_session                                                    \n",
       "0000061d-f3e9-484b-8c73-e54f355032a3                      0.0   \n",
       "\n",
       "                                      AvgAmtViewedInSession  \\\n",
       "user_session                                                  \n",
       "0000061d-f3e9-484b-8c73-e54f355032a3                 194.44   \n",
       "\n",
       "                                      #BrandsCartedInSession  \\\n",
       "user_session                                                   \n",
       "0000061d-f3e9-484b-8c73-e54f355032a3                       0   \n",
       "\n",
       "                                      #BrandsPurchasedInSession  \\\n",
       "user_session                                                      \n",
       "0000061d-f3e9-484b-8c73-e54f355032a3                          0   \n",
       "\n",
       "                                      #BrandsRemovedInSession  \\\n",
       "user_session                                                    \n",
       "0000061d-f3e9-484b-8c73-e54f355032a3                        0   \n",
       "\n",
       "                                      #BrandsViewedInSession  \\\n",
       "user_session                                                   \n",
       "0000061d-f3e9-484b-8c73-e54f355032a3                       1   \n",
       "\n",
       "                                      OverallAmtUserCarted  \\\n",
       "user_session                                                 \n",
       "0000061d-f3e9-484b-8c73-e54f355032a3              4.543833   \n",
       "\n",
       "                                      OverallAmtUserViewed  \\\n",
       "user_session                                                 \n",
       "0000061d-f3e9-484b-8c73-e54f355032a3              9.244298   \n",
       "\n",
       "                                      OverallAmtUserRemoved  \\\n",
       "user_session                                                  \n",
       "0000061d-f3e9-484b-8c73-e54f355032a3               5.891295   \n",
       "\n",
       "                                      OverallAmtUserPurchased  \\\n",
       "user_session                                                    \n",
       "0000061d-f3e9-484b-8c73-e54f355032a3                 2.264476   \n",
       "\n",
       "                                      #ProdsCartedInSession  \\\n",
       "user_session                                                  \n",
       "0000061d-f3e9-484b-8c73-e54f355032a3                      0   \n",
       "\n",
       "                                      #ProdsPurchasedInSession  \\\n",
       "user_session                                                     \n",
       "0000061d-f3e9-484b-8c73-e54f355032a3                         0   \n",
       "\n",
       "                                      #ProdsRemovedInSession  \\\n",
       "user_session                                                   \n",
       "0000061d-f3e9-484b-8c73-e54f355032a3                       0   \n",
       "\n",
       "                                      #ProdsViewedInSession  \n",
       "user_session                                                 \n",
       "0000061d-f3e9-484b-8c73-e54f355032a3                      1  "
      ]
     },
     "execution_count": 96,
     "metadata": {},
     "output_type": "execute_result"
    }
   ],
   "source": [
    "Features.head(1)"
   ]
  },
  {
   "cell_type": "markdown",
   "metadata": {},
   "source": [
    "# ONE HOT ENCODED FEATURES"
   ]
  },
  {
   "cell_type": "markdown",
   "metadata": {},
   "source": [
    "Adding a dummy column for one-hot encoding values easily"
   ]
  },
  {
   "cell_type": "code",
   "execution_count": 97,
   "metadata": {},
   "outputs": [],
   "source": [
    "df['dummy']= np.zeros(len(df))"
   ]
  },
  {
   "cell_type": "markdown",
   "metadata": {},
   "source": [
    "## Adding Date and Time Features "
   ]
  },
  {
   "cell_type": "code",
   "execution_count": 98,
   "metadata": {},
   "outputs": [],
   "source": [
    "weekday = pd.pivot_table(df, index='user_session',columns='weekday',values='dummy',fill_value=0, aggfunc=lambda x: len(x.unique()) )"
   ]
  },
  {
   "cell_type": "code",
   "execution_count": 99,
   "metadata": {},
   "outputs": [],
   "source": [
    "year =  pd.pivot_table(df, index='user_session',columns='year',values='dummy',fill_value=0, aggfunc=lambda x: len(x.unique()) )"
   ]
  },
  {
   "cell_type": "code",
   "execution_count": 100,
   "metadata": {},
   "outputs": [],
   "source": [
    "month =  pd.pivot_table(df, index='user_session',columns='month',values='dummy',fill_value=0, aggfunc=lambda x: len(x.unique()) )"
   ]
  },
  {
   "cell_type": "code",
   "execution_count": 101,
   "metadata": {},
   "outputs": [],
   "source": [
    "timeOfDay =  pd.pivot_table(df, index='user_session',columns='timeOfDay',values='dummy',fill_value=0, aggfunc=lambda x: len(x.unique()) )"
   ]
  },
  {
   "cell_type": "markdown",
   "metadata": {},
   "source": [
    "Merging these date and time features"
   ]
  },
  {
   "cell_type": "code",
   "execution_count": 102,
   "metadata": {},
   "outputs": [],
   "source": [
    "Features = Features.join(weekday, how='left')"
   ]
  },
  {
   "cell_type": "code",
   "execution_count": 103,
   "metadata": {},
   "outputs": [],
   "source": [
    "Features = Features.join(year, how='left')"
   ]
  },
  {
   "cell_type": "code",
   "execution_count": 104,
   "metadata": {},
   "outputs": [],
   "source": [
    "Features = Features.join(month, how='left')"
   ]
  },
  {
   "cell_type": "code",
   "execution_count": 105,
   "metadata": {},
   "outputs": [],
   "source": [
    "Features = Features.join(timeOfDay, how='left')"
   ]
  },
  {
   "cell_type": "code",
   "execution_count": 198,
   "metadata": {},
   "outputs": [],
   "source": [
    "#Holdiays not included due to computational issues"
   ]
  },
  {
   "cell_type": "code",
   "execution_count": 951,
   "metadata": {},
   "outputs": [],
   "source": [
    "#Holiday = GroupUS['Holiday'].sum()\n",
    "## Features = pd.merge(Features,Holiday,on='user_session',how='outer')\n",
    "# Features = Features.join(Holiday, how='left')\n"
   ]
  },
  {
   "cell_type": "code",
   "execution_count": 106,
   "metadata": {},
   "outputs": [],
   "source": [
    "Weekend = GroupUS['Weekend'].sum()"
   ]
  },
  {
   "cell_type": "code",
   "execution_count": 107,
   "metadata": {},
   "outputs": [],
   "source": [
    "Features = Features.join(Weekend, how='left')"
   ]
  },
  {
   "cell_type": "markdown",
   "metadata": {},
   "source": [
    "## Dropping all Purchase related Columns and adding Y label 'Purchase'"
   ]
  },
  {
   "cell_type": "code",
   "execution_count": 108,
   "metadata": {},
   "outputs": [],
   "source": [
    "Features['Purchase'] = Features.AvgAmtPurchasedInSession.apply(lambda x : 1 if x!=0 else 0)"
   ]
  },
  {
   "cell_type": "code",
   "execution_count": 109,
   "metadata": {},
   "outputs": [],
   "source": [
    "Features.reset_index(inplace=True)"
   ]
  },
  {
   "cell_type": "code",
   "execution_count": 112,
   "metadata": {
    "scrolled": false
   },
   "outputs": [
    {
     "data": {
      "text/plain": [
       "Index([             'user_session',      'TotalEventsInSession',\n",
       "                 'interactionTime',     '#TimesCartedinSession',\n",
       "        '#TimesPurchasedinSession',    '#TimesRemovedinSession',\n",
       "           '#TimesViewedinSession',                  'maxPrice',\n",
       "                        'minPrice',     'AvgAmtCartedInSession',\n",
       "        'AvgAmtPurchasedInSession',   '#AvgAmtRemovedInSession',\n",
       "           'AvgAmtViewedInSession',    '#BrandsCartedInSession',\n",
       "       '#BrandsPurchasedInSession',   '#BrandsRemovedInSession',\n",
       "          '#BrandsViewedInSession',      'OverallAmtUserCarted',\n",
       "            'OverallAmtUserViewed',     'OverallAmtUserRemoved',\n",
       "         'OverallAmtUserPurchased',     '#ProdsCartedInSession',\n",
       "        '#ProdsPurchasedInSession',    '#ProdsRemovedInSession',\n",
       "           '#ProdsViewedInSession',                        'Fr',\n",
       "                             'Mon',                       'Sat',\n",
       "                             'Sun',                       'Thu',\n",
       "                             'Tue',                       'Wed',\n",
       "                              2019,                        2020,\n",
       "                             'Dec',                       'Feb',\n",
       "                             'Jan',                       'Nov',\n",
       "                             'Oct',                       'Sep',\n",
       "                       'Afternoon',                      'Dawn',\n",
       "                    'EarlyMorning',                   'Evening',\n",
       "                         'Morning',                     'Night',\n",
       "                            'Noon',                   'Weekend',\n",
       "                        'Purchase'],\n",
       "      dtype='object')"
      ]
     },
     "execution_count": 112,
     "metadata": {},
     "output_type": "execute_result"
    }
   ],
   "source": [
    "Features.columns"
   ]
  },
  {
   "cell_type": "code",
   "execution_count": 114,
   "metadata": {},
   "outputs": [],
   "source": [
    "FeaturesDF = Features.drop(columns=['user_session',\n",
    "                                    '#TimesPurchasedinSession',\n",
    "                                    '#BrandsPurchasedInSession', \n",
    "                                    'AvgAmtPurchasedInSession',\n",
    "                                   'OverallAmtUserPurchased',\n",
    "                                   '#ProdsPurchasedInSession'])"
   ]
  },
  {
   "cell_type": "code",
   "execution_count": 115,
   "metadata": {},
   "outputs": [
    {
     "data": {
      "text/plain": [
       "Index([   'TotalEventsInSession',         'interactionTime',\n",
       "         '#TimesCartedinSession',  '#TimesRemovedinSession',\n",
       "         '#TimesViewedinSession',                'maxPrice',\n",
       "                      'minPrice',   'AvgAmtCartedInSession',\n",
       "       '#AvgAmtRemovedInSession',   'AvgAmtViewedInSession',\n",
       "        '#BrandsCartedInSession', '#BrandsRemovedInSession',\n",
       "        '#BrandsViewedInSession',    'OverallAmtUserCarted',\n",
       "          'OverallAmtUserViewed',   'OverallAmtUserRemoved',\n",
       "         '#ProdsCartedInSession',  '#ProdsRemovedInSession',\n",
       "         '#ProdsViewedInSession',                      'Fr',\n",
       "                           'Mon',                     'Sat',\n",
       "                           'Sun',                     'Thu',\n",
       "                           'Tue',                     'Wed',\n",
       "                            2019,                      2020,\n",
       "                           'Dec',                     'Feb',\n",
       "                           'Jan',                     'Nov',\n",
       "                           'Oct',                     'Sep',\n",
       "                     'Afternoon',                    'Dawn',\n",
       "                  'EarlyMorning',                 'Evening',\n",
       "                       'Morning',                   'Night',\n",
       "                          'Noon',                 'Weekend',\n",
       "                      'Purchase'],\n",
       "      dtype='object')"
      ]
     },
     "execution_count": 115,
     "metadata": {},
     "output_type": "execute_result"
    }
   ],
   "source": [
    "FeaturesDF.columns"
   ]
  },
  {
   "cell_type": "code",
   "execution_count": 116,
   "metadata": {},
   "outputs": [
    {
     "data": {
      "text/html": [
       "<div>\n",
       "<style scoped>\n",
       "    .dataframe tbody tr th:only-of-type {\n",
       "        vertical-align: middle;\n",
       "    }\n",
       "\n",
       "    .dataframe tbody tr th {\n",
       "        vertical-align: top;\n",
       "    }\n",
       "\n",
       "    .dataframe thead th {\n",
       "        text-align: right;\n",
       "    }\n",
       "</style>\n",
       "<table border=\"1\" class=\"dataframe\">\n",
       "  <thead>\n",
       "    <tr style=\"text-align: right;\">\n",
       "      <th></th>\n",
       "      <th>TotalEventsInSession</th>\n",
       "      <th>interactionTime</th>\n",
       "      <th>#TimesCartedinSession</th>\n",
       "      <th>#TimesRemovedinSession</th>\n",
       "      <th>#TimesViewedinSession</th>\n",
       "      <th>maxPrice</th>\n",
       "      <th>minPrice</th>\n",
       "      <th>AvgAmtCartedInSession</th>\n",
       "      <th>#AvgAmtRemovedInSession</th>\n",
       "      <th>AvgAmtViewedInSession</th>\n",
       "      <th>#BrandsCartedInSession</th>\n",
       "      <th>#BrandsRemovedInSession</th>\n",
       "      <th>#BrandsViewedInSession</th>\n",
       "      <th>OverallAmtUserCarted</th>\n",
       "      <th>OverallAmtUserViewed</th>\n",
       "      <th>OverallAmtUserRemoved</th>\n",
       "      <th>#ProdsCartedInSession</th>\n",
       "      <th>#ProdsRemovedInSession</th>\n",
       "      <th>#ProdsViewedInSession</th>\n",
       "      <th>Fr</th>\n",
       "      <th>Mon</th>\n",
       "      <th>Sat</th>\n",
       "      <th>Sun</th>\n",
       "      <th>Thu</th>\n",
       "      <th>Tue</th>\n",
       "      <th>Wed</th>\n",
       "      <th>2019</th>\n",
       "      <th>2020</th>\n",
       "      <th>Dec</th>\n",
       "      <th>Feb</th>\n",
       "      <th>Jan</th>\n",
       "      <th>Nov</th>\n",
       "      <th>Oct</th>\n",
       "      <th>Sep</th>\n",
       "      <th>Afternoon</th>\n",
       "      <th>Dawn</th>\n",
       "      <th>EarlyMorning</th>\n",
       "      <th>Evening</th>\n",
       "      <th>Morning</th>\n",
       "      <th>Night</th>\n",
       "      <th>Noon</th>\n",
       "      <th>Weekend</th>\n",
       "      <th>Purchase</th>\n",
       "    </tr>\n",
       "  </thead>\n",
       "  <tbody>\n",
       "    <tr>\n",
       "      <td>4535939</td>\n",
       "      <td>11</td>\n",
       "      <td>890.0</td>\n",
       "      <td>4</td>\n",
       "      <td>0</td>\n",
       "      <td>1</td>\n",
       "      <td>23.81</td>\n",
       "      <td>2.38</td>\n",
       "      <td>11.145000</td>\n",
       "      <td>0.000000</td>\n",
       "      <td>5.400000</td>\n",
       "      <td>4</td>\n",
       "      <td>0</td>\n",
       "      <td>1</td>\n",
       "      <td>7.458750</td>\n",
       "      <td>8.719524</td>\n",
       "      <td>6.323750</td>\n",
       "      <td>4</td>\n",
       "      <td>0</td>\n",
       "      <td>1</td>\n",
       "      <td>0</td>\n",
       "      <td>0</td>\n",
       "      <td>0</td>\n",
       "      <td>1</td>\n",
       "      <td>0</td>\n",
       "      <td>0</td>\n",
       "      <td>0</td>\n",
       "      <td>0</td>\n",
       "      <td>1</td>\n",
       "      <td>0</td>\n",
       "      <td>1</td>\n",
       "      <td>0</td>\n",
       "      <td>0</td>\n",
       "      <td>0</td>\n",
       "      <td>0</td>\n",
       "      <td>0</td>\n",
       "      <td>0</td>\n",
       "      <td>1</td>\n",
       "      <td>0</td>\n",
       "      <td>0</td>\n",
       "      <td>0</td>\n",
       "      <td>0</td>\n",
       "      <td>0</td>\n",
       "      <td>1</td>\n",
       "    </tr>\n",
       "    <tr>\n",
       "      <td>4061809</td>\n",
       "      <td>21</td>\n",
       "      <td>832.0</td>\n",
       "      <td>12</td>\n",
       "      <td>4</td>\n",
       "      <td>0</td>\n",
       "      <td>7.14</td>\n",
       "      <td>2.70</td>\n",
       "      <td>4.280833</td>\n",
       "      <td>5.157500</td>\n",
       "      <td>0.000000</td>\n",
       "      <td>12</td>\n",
       "      <td>4</td>\n",
       "      <td>0</td>\n",
       "      <td>4.166667</td>\n",
       "      <td>55.322857</td>\n",
       "      <td>4.905000</td>\n",
       "      <td>12</td>\n",
       "      <td>4</td>\n",
       "      <td>0</td>\n",
       "      <td>0</td>\n",
       "      <td>0</td>\n",
       "      <td>0</td>\n",
       "      <td>0</td>\n",
       "      <td>1</td>\n",
       "      <td>0</td>\n",
       "      <td>0</td>\n",
       "      <td>1</td>\n",
       "      <td>0</td>\n",
       "      <td>1</td>\n",
       "      <td>0</td>\n",
       "      <td>0</td>\n",
       "      <td>0</td>\n",
       "      <td>0</td>\n",
       "      <td>0</td>\n",
       "      <td>0</td>\n",
       "      <td>0</td>\n",
       "      <td>1</td>\n",
       "      <td>0</td>\n",
       "      <td>0</td>\n",
       "      <td>0</td>\n",
       "      <td>0</td>\n",
       "      <td>0</td>\n",
       "      <td>1</td>\n",
       "    </tr>\n",
       "    <tr>\n",
       "      <td>4061904</td>\n",
       "      <td>114</td>\n",
       "      <td>4142.0</td>\n",
       "      <td>59</td>\n",
       "      <td>21</td>\n",
       "      <td>3</td>\n",
       "      <td>61.90</td>\n",
       "      <td>0.63</td>\n",
       "      <td>4.102034</td>\n",
       "      <td>9.519048</td>\n",
       "      <td>4.446667</td>\n",
       "      <td>59</td>\n",
       "      <td>21</td>\n",
       "      <td>3</td>\n",
       "      <td>17.109452</td>\n",
       "      <td>27.554286</td>\n",
       "      <td>31.575000</td>\n",
       "      <td>59</td>\n",
       "      <td>21</td>\n",
       "      <td>3</td>\n",
       "      <td>0</td>\n",
       "      <td>0</td>\n",
       "      <td>0</td>\n",
       "      <td>0</td>\n",
       "      <td>0</td>\n",
       "      <td>0</td>\n",
       "      <td>1</td>\n",
       "      <td>0</td>\n",
       "      <td>1</td>\n",
       "      <td>0</td>\n",
       "      <td>1</td>\n",
       "      <td>0</td>\n",
       "      <td>0</td>\n",
       "      <td>0</td>\n",
       "      <td>0</td>\n",
       "      <td>0</td>\n",
       "      <td>1</td>\n",
       "      <td>1</td>\n",
       "      <td>0</td>\n",
       "      <td>0</td>\n",
       "      <td>0</td>\n",
       "      <td>0</td>\n",
       "      <td>0</td>\n",
       "      <td>1</td>\n",
       "    </tr>\n",
       "    <tr>\n",
       "      <td>490825</td>\n",
       "      <td>12</td>\n",
       "      <td>1751.0</td>\n",
       "      <td>6</td>\n",
       "      <td>3</td>\n",
       "      <td>1</td>\n",
       "      <td>7.90</td>\n",
       "      <td>2.86</td>\n",
       "      <td>4.703333</td>\n",
       "      <td>4.866667</td>\n",
       "      <td>7.900000</td>\n",
       "      <td>6</td>\n",
       "      <td>3</td>\n",
       "      <td>1</td>\n",
       "      <td>4.703333</td>\n",
       "      <td>7.900000</td>\n",
       "      <td>4.866667</td>\n",
       "      <td>6</td>\n",
       "      <td>3</td>\n",
       "      <td>1</td>\n",
       "      <td>0</td>\n",
       "      <td>0</td>\n",
       "      <td>0</td>\n",
       "      <td>0</td>\n",
       "      <td>1</td>\n",
       "      <td>0</td>\n",
       "      <td>0</td>\n",
       "      <td>1</td>\n",
       "      <td>0</td>\n",
       "      <td>1</td>\n",
       "      <td>0</td>\n",
       "      <td>0</td>\n",
       "      <td>0</td>\n",
       "      <td>0</td>\n",
       "      <td>0</td>\n",
       "      <td>0</td>\n",
       "      <td>0</td>\n",
       "      <td>1</td>\n",
       "      <td>0</td>\n",
       "      <td>0</td>\n",
       "      <td>0</td>\n",
       "      <td>0</td>\n",
       "      <td>0</td>\n",
       "      <td>1</td>\n",
       "    </tr>\n",
       "    <tr>\n",
       "      <td>1849717</td>\n",
       "      <td>9</td>\n",
       "      <td>637.0</td>\n",
       "      <td>4</td>\n",
       "      <td>0</td>\n",
       "      <td>1</td>\n",
       "      <td>4.29</td>\n",
       "      <td>1.78</td>\n",
       "      <td>3.185000</td>\n",
       "      <td>0.000000</td>\n",
       "      <td>2.140000</td>\n",
       "      <td>4</td>\n",
       "      <td>0</td>\n",
       "      <td>1</td>\n",
       "      <td>3.185000</td>\n",
       "      <td>2.140000</td>\n",
       "      <td>0.000000</td>\n",
       "      <td>4</td>\n",
       "      <td>0</td>\n",
       "      <td>1</td>\n",
       "      <td>0</td>\n",
       "      <td>0</td>\n",
       "      <td>0</td>\n",
       "      <td>0</td>\n",
       "      <td>1</td>\n",
       "      <td>0</td>\n",
       "      <td>0</td>\n",
       "      <td>1</td>\n",
       "      <td>0</td>\n",
       "      <td>1</td>\n",
       "      <td>0</td>\n",
       "      <td>0</td>\n",
       "      <td>0</td>\n",
       "      <td>0</td>\n",
       "      <td>0</td>\n",
       "      <td>0</td>\n",
       "      <td>0</td>\n",
       "      <td>0</td>\n",
       "      <td>0</td>\n",
       "      <td>0</td>\n",
       "      <td>0</td>\n",
       "      <td>1</td>\n",
       "      <td>0</td>\n",
       "      <td>1</td>\n",
       "    </tr>\n",
       "    <tr>\n",
       "      <td>...</td>\n",
       "      <td>...</td>\n",
       "      <td>...</td>\n",
       "      <td>...</td>\n",
       "      <td>...</td>\n",
       "      <td>...</td>\n",
       "      <td>...</td>\n",
       "      <td>...</td>\n",
       "      <td>...</td>\n",
       "      <td>...</td>\n",
       "      <td>...</td>\n",
       "      <td>...</td>\n",
       "      <td>...</td>\n",
       "      <td>...</td>\n",
       "      <td>...</td>\n",
       "      <td>...</td>\n",
       "      <td>...</td>\n",
       "      <td>...</td>\n",
       "      <td>...</td>\n",
       "      <td>...</td>\n",
       "      <td>...</td>\n",
       "      <td>...</td>\n",
       "      <td>...</td>\n",
       "      <td>...</td>\n",
       "      <td>...</td>\n",
       "      <td>...</td>\n",
       "      <td>...</td>\n",
       "      <td>...</td>\n",
       "      <td>...</td>\n",
       "      <td>...</td>\n",
       "      <td>...</td>\n",
       "      <td>...</td>\n",
       "      <td>...</td>\n",
       "      <td>...</td>\n",
       "      <td>...</td>\n",
       "      <td>...</td>\n",
       "      <td>...</td>\n",
       "      <td>...</td>\n",
       "      <td>...</td>\n",
       "      <td>...</td>\n",
       "      <td>...</td>\n",
       "      <td>...</td>\n",
       "      <td>...</td>\n",
       "      <td>...</td>\n",
       "    </tr>\n",
       "    <tr>\n",
       "      <td>1538455</td>\n",
       "      <td>3</td>\n",
       "      <td>164.0</td>\n",
       "      <td>0</td>\n",
       "      <td>0</td>\n",
       "      <td>3</td>\n",
       "      <td>1.59</td>\n",
       "      <td>1.59</td>\n",
       "      <td>0.000000</td>\n",
       "      <td>0.000000</td>\n",
       "      <td>1.590000</td>\n",
       "      <td>0</td>\n",
       "      <td>0</td>\n",
       "      <td>3</td>\n",
       "      <td>6.550000</td>\n",
       "      <td>5.285926</td>\n",
       "      <td>6.113333</td>\n",
       "      <td>0</td>\n",
       "      <td>0</td>\n",
       "      <td>3</td>\n",
       "      <td>0</td>\n",
       "      <td>1</td>\n",
       "      <td>0</td>\n",
       "      <td>0</td>\n",
       "      <td>0</td>\n",
       "      <td>0</td>\n",
       "      <td>0</td>\n",
       "      <td>1</td>\n",
       "      <td>0</td>\n",
       "      <td>0</td>\n",
       "      <td>0</td>\n",
       "      <td>0</td>\n",
       "      <td>1</td>\n",
       "      <td>0</td>\n",
       "      <td>0</td>\n",
       "      <td>1</td>\n",
       "      <td>0</td>\n",
       "      <td>0</td>\n",
       "      <td>0</td>\n",
       "      <td>0</td>\n",
       "      <td>0</td>\n",
       "      <td>0</td>\n",
       "      <td>0</td>\n",
       "      <td>0</td>\n",
       "    </tr>\n",
       "    <tr>\n",
       "      <td>1538456</td>\n",
       "      <td>1</td>\n",
       "      <td>0.0</td>\n",
       "      <td>0</td>\n",
       "      <td>0</td>\n",
       "      <td>1</td>\n",
       "      <td>1.71</td>\n",
       "      <td>1.71</td>\n",
       "      <td>0.000000</td>\n",
       "      <td>0.000000</td>\n",
       "      <td>1.710000</td>\n",
       "      <td>0</td>\n",
       "      <td>0</td>\n",
       "      <td>1</td>\n",
       "      <td>0.000000</td>\n",
       "      <td>4.488571</td>\n",
       "      <td>0.000000</td>\n",
       "      <td>0</td>\n",
       "      <td>0</td>\n",
       "      <td>1</td>\n",
       "      <td>0</td>\n",
       "      <td>0</td>\n",
       "      <td>0</td>\n",
       "      <td>0</td>\n",
       "      <td>1</td>\n",
       "      <td>0</td>\n",
       "      <td>0</td>\n",
       "      <td>1</td>\n",
       "      <td>0</td>\n",
       "      <td>1</td>\n",
       "      <td>0</td>\n",
       "      <td>0</td>\n",
       "      <td>0</td>\n",
       "      <td>0</td>\n",
       "      <td>0</td>\n",
       "      <td>0</td>\n",
       "      <td>1</td>\n",
       "      <td>0</td>\n",
       "      <td>0</td>\n",
       "      <td>0</td>\n",
       "      <td>0</td>\n",
       "      <td>0</td>\n",
       "      <td>0</td>\n",
       "      <td>0</td>\n",
       "    </tr>\n",
       "    <tr>\n",
       "      <td>1538457</td>\n",
       "      <td>1</td>\n",
       "      <td>0.0</td>\n",
       "      <td>0</td>\n",
       "      <td>0</td>\n",
       "      <td>1</td>\n",
       "      <td>0.83</td>\n",
       "      <td>0.83</td>\n",
       "      <td>0.000000</td>\n",
       "      <td>0.000000</td>\n",
       "      <td>0.830000</td>\n",
       "      <td>0</td>\n",
       "      <td>0</td>\n",
       "      <td>1</td>\n",
       "      <td>0.000000</td>\n",
       "      <td>0.970000</td>\n",
       "      <td>0.000000</td>\n",
       "      <td>0</td>\n",
       "      <td>0</td>\n",
       "      <td>1</td>\n",
       "      <td>0</td>\n",
       "      <td>0</td>\n",
       "      <td>0</td>\n",
       "      <td>0</td>\n",
       "      <td>0</td>\n",
       "      <td>1</td>\n",
       "      <td>0</td>\n",
       "      <td>1</td>\n",
       "      <td>0</td>\n",
       "      <td>1</td>\n",
       "      <td>0</td>\n",
       "      <td>0</td>\n",
       "      <td>0</td>\n",
       "      <td>0</td>\n",
       "      <td>0</td>\n",
       "      <td>0</td>\n",
       "      <td>1</td>\n",
       "      <td>0</td>\n",
       "      <td>0</td>\n",
       "      <td>0</td>\n",
       "      <td>0</td>\n",
       "      <td>0</td>\n",
       "      <td>0</td>\n",
       "      <td>0</td>\n",
       "    </tr>\n",
       "    <tr>\n",
       "      <td>1538458</td>\n",
       "      <td>27</td>\n",
       "      <td>3004.0</td>\n",
       "      <td>8</td>\n",
       "      <td>4</td>\n",
       "      <td>15</td>\n",
       "      <td>30.56</td>\n",
       "      <td>2.62</td>\n",
       "      <td>7.506250</td>\n",
       "      <td>6.932500</td>\n",
       "      <td>12.520000</td>\n",
       "      <td>8</td>\n",
       "      <td>4</td>\n",
       "      <td>15</td>\n",
       "      <td>5.244340</td>\n",
       "      <td>8.880734</td>\n",
       "      <td>5.731250</td>\n",
       "      <td>8</td>\n",
       "      <td>4</td>\n",
       "      <td>15</td>\n",
       "      <td>0</td>\n",
       "      <td>0</td>\n",
       "      <td>0</td>\n",
       "      <td>1</td>\n",
       "      <td>0</td>\n",
       "      <td>0</td>\n",
       "      <td>0</td>\n",
       "      <td>0</td>\n",
       "      <td>1</td>\n",
       "      <td>0</td>\n",
       "      <td>0</td>\n",
       "      <td>1</td>\n",
       "      <td>0</td>\n",
       "      <td>0</td>\n",
       "      <td>0</td>\n",
       "      <td>0</td>\n",
       "      <td>0</td>\n",
       "      <td>1</td>\n",
       "      <td>0</td>\n",
       "      <td>1</td>\n",
       "      <td>0</td>\n",
       "      <td>0</td>\n",
       "      <td>0</td>\n",
       "      <td>0</td>\n",
       "    </tr>\n",
       "    <tr>\n",
       "      <td>2267970</td>\n",
       "      <td>1</td>\n",
       "      <td>0.0</td>\n",
       "      <td>0</td>\n",
       "      <td>0</td>\n",
       "      <td>1</td>\n",
       "      <td>1.90</td>\n",
       "      <td>1.90</td>\n",
       "      <td>0.000000</td>\n",
       "      <td>0.000000</td>\n",
       "      <td>1.900000</td>\n",
       "      <td>0</td>\n",
       "      <td>0</td>\n",
       "      <td>1</td>\n",
       "      <td>3.857889</td>\n",
       "      <td>4.242379</td>\n",
       "      <td>3.298442</td>\n",
       "      <td>0</td>\n",
       "      <td>0</td>\n",
       "      <td>1</td>\n",
       "      <td>0</td>\n",
       "      <td>0</td>\n",
       "      <td>1</td>\n",
       "      <td>0</td>\n",
       "      <td>0</td>\n",
       "      <td>0</td>\n",
       "      <td>0</td>\n",
       "      <td>1</td>\n",
       "      <td>0</td>\n",
       "      <td>0</td>\n",
       "      <td>0</td>\n",
       "      <td>0</td>\n",
       "      <td>1</td>\n",
       "      <td>0</td>\n",
       "      <td>0</td>\n",
       "      <td>0</td>\n",
       "      <td>0</td>\n",
       "      <td>0</td>\n",
       "      <td>0</td>\n",
       "      <td>1</td>\n",
       "      <td>0</td>\n",
       "      <td>0</td>\n",
       "      <td>0</td>\n",
       "      <td>0</td>\n",
       "    </tr>\n",
       "  </tbody>\n",
       "</table>\n",
       "<p>4535940 rows × 43 columns</p>\n",
       "</div>"
      ],
      "text/plain": [
       "         TotalEventsInSession  interactionTime  #TimesCartedinSession  \\\n",
       "4535939                    11            890.0                      4   \n",
       "4061809                    21            832.0                     12   \n",
       "4061904                   114           4142.0                     59   \n",
       "490825                     12           1751.0                      6   \n",
       "1849717                     9            637.0                      4   \n",
       "...                       ...              ...                    ...   \n",
       "1538455                     3            164.0                      0   \n",
       "1538456                     1              0.0                      0   \n",
       "1538457                     1              0.0                      0   \n",
       "1538458                    27           3004.0                      8   \n",
       "2267970                     1              0.0                      0   \n",
       "\n",
       "         #TimesRemovedinSession  #TimesViewedinSession  maxPrice  minPrice  \\\n",
       "4535939                       0                      1     23.81      2.38   \n",
       "4061809                       4                      0      7.14      2.70   \n",
       "4061904                      21                      3     61.90      0.63   \n",
       "490825                        3                      1      7.90      2.86   \n",
       "1849717                       0                      1      4.29      1.78   \n",
       "...                         ...                    ...       ...       ...   \n",
       "1538455                       0                      3      1.59      1.59   \n",
       "1538456                       0                      1      1.71      1.71   \n",
       "1538457                       0                      1      0.83      0.83   \n",
       "1538458                       4                     15     30.56      2.62   \n",
       "2267970                       0                      1      1.90      1.90   \n",
       "\n",
       "         AvgAmtCartedInSession  #AvgAmtRemovedInSession  \\\n",
       "4535939              11.145000                 0.000000   \n",
       "4061809               4.280833                 5.157500   \n",
       "4061904               4.102034                 9.519048   \n",
       "490825                4.703333                 4.866667   \n",
       "1849717               3.185000                 0.000000   \n",
       "...                        ...                      ...   \n",
       "1538455               0.000000                 0.000000   \n",
       "1538456               0.000000                 0.000000   \n",
       "1538457               0.000000                 0.000000   \n",
       "1538458               7.506250                 6.932500   \n",
       "2267970               0.000000                 0.000000   \n",
       "\n",
       "         AvgAmtViewedInSession  #BrandsCartedInSession  \\\n",
       "4535939               5.400000                       4   \n",
       "4061809               0.000000                      12   \n",
       "4061904               4.446667                      59   \n",
       "490825                7.900000                       6   \n",
       "1849717               2.140000                       4   \n",
       "...                        ...                     ...   \n",
       "1538455               1.590000                       0   \n",
       "1538456               1.710000                       0   \n",
       "1538457               0.830000                       0   \n",
       "1538458              12.520000                       8   \n",
       "2267970               1.900000                       0   \n",
       "\n",
       "         #BrandsRemovedInSession  #BrandsViewedInSession  \\\n",
       "4535939                        0                       1   \n",
       "4061809                        4                       0   \n",
       "4061904                       21                       3   \n",
       "490825                         3                       1   \n",
       "1849717                        0                       1   \n",
       "...                          ...                     ...   \n",
       "1538455                        0                       3   \n",
       "1538456                        0                       1   \n",
       "1538457                        0                       1   \n",
       "1538458                        4                      15   \n",
       "2267970                        0                       1   \n",
       "\n",
       "         OverallAmtUserCarted  OverallAmtUserViewed  OverallAmtUserRemoved  \\\n",
       "4535939              7.458750              8.719524               6.323750   \n",
       "4061809              4.166667             55.322857               4.905000   \n",
       "4061904             17.109452             27.554286              31.575000   \n",
       "490825               4.703333              7.900000               4.866667   \n",
       "1849717              3.185000              2.140000               0.000000   \n",
       "...                       ...                   ...                    ...   \n",
       "1538455              6.550000              5.285926               6.113333   \n",
       "1538456              0.000000              4.488571               0.000000   \n",
       "1538457              0.000000              0.970000               0.000000   \n",
       "1538458              5.244340              8.880734               5.731250   \n",
       "2267970              3.857889              4.242379               3.298442   \n",
       "\n",
       "         #ProdsCartedInSession  #ProdsRemovedInSession  #ProdsViewedInSession  \\\n",
       "4535939                      4                       0                      1   \n",
       "4061809                     12                       4                      0   \n",
       "4061904                     59                      21                      3   \n",
       "490825                       6                       3                      1   \n",
       "1849717                      4                       0                      1   \n",
       "...                        ...                     ...                    ...   \n",
       "1538455                      0                       0                      3   \n",
       "1538456                      0                       0                      1   \n",
       "1538457                      0                       0                      1   \n",
       "1538458                      8                       4                     15   \n",
       "2267970                      0                       0                      1   \n",
       "\n",
       "         Fr  Mon  Sat  Sun  Thu  Tue  Wed  2019  2020  Dec  Feb  Jan  Nov  \\\n",
       "4535939   0    0    0    1    0    0    0     0     1    0    1    0    0   \n",
       "4061809   0    0    0    0    1    0    0     1     0    1    0    0    0   \n",
       "4061904   0    0    0    0    0    0    1     0     1    0    1    0    0   \n",
       "490825    0    0    0    0    1    0    0     1     0    1    0    0    0   \n",
       "1849717   0    0    0    0    1    0    0     1     0    1    0    0    0   \n",
       "...      ..  ...  ...  ...  ...  ...  ...   ...   ...  ...  ...  ...  ...   \n",
       "1538455   0    1    0    0    0    0    0     1     0    0    0    0    1   \n",
       "1538456   0    0    0    0    1    0    0     1     0    1    0    0    0   \n",
       "1538457   0    0    0    0    0    1    0     1     0    1    0    0    0   \n",
       "1538458   0    0    0    1    0    0    0     0     1    0    0    1    0   \n",
       "2267970   0    0    1    0    0    0    0     1     0    0    0    0    1   \n",
       "\n",
       "         Oct  Sep  Afternoon  Dawn  EarlyMorning  Evening  Morning  Night  \\\n",
       "4535939    0    0          0     0             1        0        0      0   \n",
       "4061809    0    0          0     0             1        0        0      0   \n",
       "4061904    0    0          0     1             1        0        0      0   \n",
       "490825     0    0          0     0             1        0        0      0   \n",
       "1849717    0    0          0     0             0        0        0      0   \n",
       "...      ...  ...        ...   ...           ...      ...      ...    ...   \n",
       "1538455    0    0          1     0             0        0        0      0   \n",
       "1538456    0    0          0     1             0        0        0      0   \n",
       "1538457    0    0          0     1             0        0        0      0   \n",
       "1538458    0    0          0     0             1        0        1      0   \n",
       "2267970    0    0          0     0             0        0        1      0   \n",
       "\n",
       "         Noon  Weekend  Purchase  \n",
       "4535939     0        0         1  \n",
       "4061809     0        0         1  \n",
       "4061904     0        0         1  \n",
       "490825      0        0         1  \n",
       "1849717     1        0         1  \n",
       "...       ...      ...       ...  \n",
       "1538455     0        0         0  \n",
       "1538456     0        0         0  \n",
       "1538457     0        0         0  \n",
       "1538458     0        0         0  \n",
       "2267970     0        0         0  \n",
       "\n",
       "[4535940 rows x 43 columns]"
      ]
     },
     "execution_count": 116,
     "metadata": {},
     "output_type": "execute_result"
    }
   ],
   "source": [
    "FeaturesDF.sort_values(by='Purchase',ascending=False)"
   ]
  },
  {
   "cell_type": "code",
   "execution_count": 117,
   "metadata": {
    "scrolled": true
   },
   "outputs": [
    {
     "name": "stdout",
     "output_type": "stream",
     "text": [
      "The features we have are as follows: \n",
      " ['TotalEventsInSession', 'interactionTime', '#TimesCartedinSession', '#TimesRemovedinSession', '#TimesViewedinSession', 'maxPrice', 'minPrice', 'AvgAmtCartedInSession', '#AvgAmtRemovedInSession', 'AvgAmtViewedInSession', '#BrandsCartedInSession', '#BrandsRemovedInSession', '#BrandsViewedInSession', 'OverallAmtUserCarted', 'OverallAmtUserViewed', 'OverallAmtUserRemoved', '#ProdsCartedInSession', '#ProdsRemovedInSession', '#ProdsViewedInSession', 'Fr', 'Mon', 'Sat', 'Sun', 'Thu', 'Tue', 'Wed', 2019, 2020, 'Dec', 'Feb', 'Jan', 'Nov', 'Oct', 'Sep', 'Afternoon', 'Dawn', 'EarlyMorning', 'Evening', 'Morning', 'Night', 'Noon', 'Weekend', 'Purchase']\n",
      "************\n",
      "PLEASE NOTE THAT \n",
      " One-Hot-Encoded Date and Time features are dynamically added as per data\n",
      "************\n"
     ]
    }
   ],
   "source": [
    "print(\"The features we have are as follows: \\n\", FeaturesDF.columns.tolist())\n",
    "\n",
    "print('************')\n",
    "print(\"PLEASE NOTE THAT \\n One-Hot-Encoded Date and Time features are dynamically added as per data\")\n",
    "print('************')"
   ]
  },
  {
   "cell_type": "markdown",
   "metadata": {},
   "source": [
    "*******************    \n",
    "# DATA IMPORT HERE #\n",
    "*******************\n",
    "\n",
    "Features Dataframe"
   ]
  },
  {
   "cell_type": "markdown",
   "metadata": {},
   "source": [
    "### Saving Final FeaturesDF as pickle"
   ]
  },
  {
   "cell_type": "code",
   "execution_count": 118,
   "metadata": {},
   "outputs": [],
   "source": [
    "#FeaturesDF.to_pickle(\"FeaturesDFCosmetics.pkl\")"
   ]
  },
  {
   "cell_type": "code",
   "execution_count": 11,
   "metadata": {},
   "outputs": [],
   "source": [
    "FeaturesDF = pd.read_pickle('FeaturesDFCosmetics.pkl')"
   ]
  },
  {
   "cell_type": "markdown",
   "metadata": {},
   "source": [
    "### Splitting Training and Testing Data"
   ]
  },
  {
   "cell_type": "code",
   "execution_count": 12,
   "metadata": {},
   "outputs": [],
   "source": [
    "XData = FeaturesDF.loc[:,:'Weekend']\n",
    "YData = FeaturesDF.loc[:,'Purchase']"
   ]
  },
  {
   "cell_type": "code",
   "execution_count": 13,
   "metadata": {},
   "outputs": [],
   "source": [
    "X_train, X_test, y_train, y_test = train_test_split(XData,YData,test_size=0.2,random_state=42)"
   ]
  },
  {
   "cell_type": "markdown",
   "metadata": {},
   "source": [
    "SCALING DATA WITH MINMAX SCALER"
   ]
  },
  {
   "cell_type": "code",
   "execution_count": 14,
   "metadata": {
    "slideshow": {
     "slide_type": "subslide"
    }
   },
   "outputs": [],
   "source": [
    "MMscaler = MinMaxScaler()\n",
    "X_train = MMscaler.fit_transform(X_train)\n",
    "X_test = MMscaler.transform(X_test)"
   ]
  },
  {
   "cell_type": "markdown",
   "metadata": {},
   "source": [
    "*******************    \n",
    "# ----> DATA IMPORT HERE #\n",
    "*******************"
   ]
  },
  {
   "cell_type": "markdown",
   "metadata": {},
   "source": [
    "### Saving train and test data in pickles"
   ]
  },
  {
   "cell_type": "code",
   "execution_count": 123,
   "metadata": {},
   "outputs": [],
   "source": [
    "# np.save('X_trainCosm.npy', X_train)\n",
    "# np.save('X_testCosm.npy', X_test)\n",
    "# np.save('y_trainCosm.npy', y_train)\n",
    "# np.save('y_testCosm.npy', y_test)"
   ]
  },
  {
   "cell_type": "code",
   "execution_count": 7,
   "metadata": {},
   "outputs": [],
   "source": [
    "X_train= np.load('X_trainCosm.npy')\n",
    "X_test= np.load('X_testCosm.npy')\n",
    "y_train = np.load('y_trainCosm.npy')\n",
    "y_test = np.load('y_testCosm.npy')"
   ]
  },
  {
   "cell_type": "markdown",
   "metadata": {},
   "source": [
    "## Measuring Feature Relevance"
   ]
  },
  {
   "cell_type": "code",
   "execution_count": 124,
   "metadata": {
    "slideshow": {
     "slide_type": "subslide"
    }
   },
   "outputs": [],
   "source": [
    "pca2 = PCA(n_components=2)\n",
    "principalComponents = pca2.fit_transform(XData)\n",
    "principalDf = pd.DataFrame(data = principalComponents, columns = ['principal component 1', 'principal component 2'])\n",
    "pcaDF = pd.concat([principalDf, YData], axis = 1)"
   ]
  },
  {
   "cell_type": "code",
   "execution_count": 125,
   "metadata": {
    "slideshow": {
     "slide_type": "slide"
    }
   },
   "outputs": [
    {
     "data": {
      "image/png": "[encoded data removed]",
      "text/plain": [
       "<Figure size 576x576 with 1 Axes>"
      ]
     },
     "metadata": {
      "needs_background": "light"
     },
     "output_type": "display_data"
    }
   ],
   "source": [
    "fig = plt.figure(figsize = (8,8))\n",
    "ax = fig.add_subplot(1,1,1) \n",
    "ax.set_xlabel('Principal Component 1', fontsize = 15)\n",
    "ax.set_ylabel('Principal Component 2', fontsize = 15)\n",
    "ax.set_title('2 component PCA', fontsize = 20)\n",
    "targets = [1,0]\n",
    "colors = ['r', 'g']\n",
    "\n",
    "for T, C in zip(targets,colors):\n",
    "    indicesToKeep = pcaDF['Purchase'] == T\n",
    "    ax.scatter(pcaDF.loc[indicesToKeep, 'principal component 1'], pcaDF.loc[indicesToKeep, 'principal component 2'], c = C, s = 50)\n",
    "\n",
    "ax.legend(targets)\n",
    "ax.grid()\n",
    "plt.show()"
   ]
  },
  {
   "cell_type": "code",
   "execution_count": 126,
   "metadata": {},
   "outputs": [
    {
     "data": {
      "text/plain": [
       "array([0.99999996, 0.99999999])"
      ]
     },
     "execution_count": 126,
     "metadata": {},
     "output_type": "execute_result"
    }
   ],
   "source": [
    "pca2.explained_variance_ratio_.cumsum()"
   ]
  },
  {
   "cell_type": "markdown",
   "metadata": {},
   "source": [
    "# 3. Feature Ranking"
   ]
  },
  {
   "cell_type": "markdown",
   "metadata": {},
   "source": [
    "## USING RANDOM FOREST"
   ]
  },
  {
   "cell_type": "code",
   "execution_count": 6,
   "metadata": {},
   "outputs": [],
   "source": [
    "sel = SelectFromModel(RandomForestClassifier(n_estimators = 100))"
   ]
  },
  {
   "cell_type": "code",
   "execution_count": 8,
   "metadata": {
    "slideshow": {
     "slide_type": "subslide"
    }
   },
   "outputs": [
    {
     "data": {
      "text/plain": [
       "SelectFromModel(estimator=RandomForestClassifier())"
      ]
     },
     "execution_count": 8,
     "metadata": {},
     "output_type": "execute_result"
    }
   ],
   "source": [
    "sel.fit(X_train, y_train)"
   ]
  },
  {
   "cell_type": "code",
   "execution_count": 9,
   "metadata": {},
   "outputs": [
    {
     "data": {
      "text/plain": [
       "array([ True,  True,  True,  True,  True,  True,  True,  True,  True,\n",
       "        True,  True,  True,  True,  True, False,  True,  True,  True,\n",
       "        True, False, False, False, False, False, False, False, False,\n",
       "       False, False, False, False, False, False, False, False, False,\n",
       "       False, False, False, False, False, False])"
      ]
     },
     "execution_count": 9,
     "metadata": {},
     "output_type": "execute_result"
    }
   ],
   "source": [
    "sel.get_support()"
   ]
  },
  {
   "cell_type": "code",
   "execution_count": 15,
   "metadata": {},
   "outputs": [],
   "source": [
    "selected_feat= XData.columns[(sel.get_support())]"
   ]
  },
  {
   "cell_type": "code",
   "execution_count": 16,
   "metadata": {
    "slideshow": {
     "slide_type": "slide"
    }
   },
   "outputs": [
    {
     "data": {
      "image/png": "[encoded data removed]",
      "text/plain": [
       "<Figure size 1080x648 with 1 Axes>"
      ]
     },
     "metadata": {
      "needs_background": "light"
     },
     "output_type": "display_data"
    }
   ],
   "source": [
    "importances = sel.estimator_.feature_importances_\n",
    "indices = np.argsort(importances)[::-1] \n",
    "colname = XData.columns[indices]\n",
    "plt.figure(figsize=(15,9))\n",
    "plt.title(\"Feature importances\",size=20)\n",
    "sns.barplot(x=colname, y=importances[indices],palette=\"deep\")\n",
    "plt.xticks(rotation=90,size=20)\n",
    "plt.show()"
   ]
  },
  {
   "cell_type": "markdown",
   "metadata": {},
   "source": [
    "## Using F Scores"
   ]
  },
  {
   "cell_type": "code",
   "execution_count": 17,
   "metadata": {},
   "outputs": [],
   "source": [
    "import sklearn.feature_selection as fs\n",
    "kb = fs.SelectKBest(k=X_train.shape[1])"
   ]
  },
  {
   "cell_type": "code",
   "execution_count": 18,
   "metadata": {
    "slideshow": {
     "slide_type": "subslide"
    }
   },
   "outputs": [
    {
     "data": {
      "text/plain": [
       "SelectKBest(k=42)"
      ]
     },
     "execution_count": 18,
     "metadata": {},
     "output_type": "execute_result"
    }
   ],
   "source": [
    "kb.fit(X_train, y_train)"
   ]
  },
  {
   "cell_type": "code",
   "execution_count": 19,
   "metadata": {},
   "outputs": [],
   "source": [
    "names = XData.columns.values[kb.get_support()]\n",
    "scores = kb.scores_[kb.get_support()]"
   ]
  },
  {
   "cell_type": "code",
   "execution_count": 20,
   "metadata": {},
   "outputs": [],
   "source": [
    "names_scores = list(zip(names, scores))"
   ]
  },
  {
   "cell_type": "code",
   "execution_count": 21,
   "metadata": {},
   "outputs": [],
   "source": [
    "fScoreDF = pd.DataFrame(data = names_scores, columns=['Feat_names','F_Scores'])\n",
    "fScoreDF_sorted = fScoreDF.sort_values(['F_Scores','Feat_names'], ascending =[False, True])"
   ]
  },
  {
   "cell_type": "code",
   "execution_count": 22,
   "metadata": {
    "slideshow": {
     "slide_type": "slide"
    }
   },
   "outputs": [
    {
     "data": {
      "image/png": "[encoded data removed]",
      "text/plain": [
       "<Figure size 1080x648 with 1 Axes>"
      ]
     },
     "metadata": {
      "needs_background": "light"
     },
     "output_type": "display_data"
    }
   ],
   "source": [
    "plt.figure(figsize=(15,9))\n",
    "sns.barplot(x= \"Feat_names\", y=\"F_Scores\",data=fScoreDF_sorted)\n",
    "plt.xticks(rotation=90,size=20)\n",
    "plt.show()"
   ]
  },
  {
   "cell_type": "markdown",
   "metadata": {},
   "source": [
    "## XGBoosting"
   ]
  },
  {
   "cell_type": "code",
   "execution_count": 23,
   "metadata": {},
   "outputs": [],
   "source": [
    "XGB = XGBClassifier()"
   ]
  },
  {
   "cell_type": "code",
   "execution_count": 24,
   "metadata": {
    "slideshow": {
     "slide_type": "subslide"
    }
   },
   "outputs": [
    {
     "data": {
      "text/plain": [
       "XGBClassifier(base_score=0.5, booster='gbtree', colsample_bylevel=1,\n",
       "              colsample_bynode=1, colsample_bytree=1, gamma=0, gpu_id=-1,\n",
       "              importance_type='gain', interaction_constraints='',\n",
       "              learning_rate=0.300000012, max_delta_step=0, max_depth=6,\n",
       "              min_child_weight=1, missing=nan, monotone_constraints='()',\n",
       "              n_estimators=100, n_jobs=0, num_parallel_tree=1, random_state=0,\n",
       "              reg_alpha=0, reg_lambda=1, scale_pos_weight=1, subsample=1,\n",
       "              tree_method='exact', validate_parameters=1, verbosity=None)"
      ]
     },
     "execution_count": 24,
     "metadata": {},
     "output_type": "execute_result"
    }
   ],
   "source": [
    "XGB.fit(X_train, y_train)"
   ]
  },
  {
   "cell_type": "code",
   "execution_count": 25,
   "metadata": {},
   "outputs": [],
   "source": [
    "feature_importance = XGB.get_booster().get_score(importance_type='gain')"
   ]
  },
  {
   "cell_type": "markdown",
   "metadata": {},
   "source": [
    "By GAIN\n",
    "\n",
    "‘Gain’ is the improvement in accuracy brought by a feature to the branches it is on."
   ]
  },
  {
   "cell_type": "code",
   "execution_count": 26,
   "metadata": {},
   "outputs": [],
   "source": [
    "XGBkeys = list(feature_importance.keys())\n",
    "XGBvalues = list(feature_importance.values())"
   ]
  },
  {
   "cell_type": "code",
   "execution_count": 27,
   "metadata": {},
   "outputs": [],
   "source": [
    "XGBdata = pd.DataFrame(data=XGBvalues, index=XGBkeys, columns=[\"score\"]).sort_values(by = \"score\", ascending=False)\n",
    "XGBdata= XGBdata.reset_index()\n",
    "XGBdata = XGBdata.rename(columns={'index':'feature'})\n",
    "XGBdata.feature = XGBdata.feature.apply(lambda x: x.strip('f'))\n",
    "XGBdata.feature = XGBdata.feature.apply(lambda x: XData.columns[int(x)])"
   ]
  },
  {
   "cell_type": "code",
   "execution_count": 28,
   "metadata": {
    "slideshow": {
     "slide_type": "slide"
    }
   },
   "outputs": [
    {
     "data": {
      "image/png": "[encoded data removed]",
      "text/plain": [
       "<Figure size 720x576 with 1 Axes>"
      ]
     },
     "metadata": {
      "needs_background": "light"
     },
     "output_type": "display_data"
    }
   ],
   "source": [
    "plt.figure(figsize=(10,8))\n",
    "sns.barplot(x=XGBdata.feature, y=XGBdata.score,palette=\"deep\")\n",
    "plt.xticks(rotation=90,size=20)\n",
    "plt.show()"
   ]
  },
  {
   "cell_type": "markdown",
   "metadata": {},
   "source": [
    "#### By WEIGHT"
   ]
  },
  {
   "cell_type": "code",
   "execution_count": 29,
   "metadata": {},
   "outputs": [],
   "source": [
    "feature_importance1 = XGB.get_booster().get_score(importance_type='weight')"
   ]
  },
  {
   "cell_type": "code",
   "execution_count": 30,
   "metadata": {},
   "outputs": [],
   "source": [
    "XGBkeys1 = list(feature_importance1.keys())\n",
    "XGBvalues1 = list(feature_importance1.values())"
   ]
  },
  {
   "cell_type": "code",
   "execution_count": 31,
   "metadata": {},
   "outputs": [],
   "source": [
    "XGBdata1 = pd.DataFrame(data=XGBvalues1, index=XGBkeys1, columns=[\"score\"]).sort_values(by = \"score\", ascending=False)\n",
    "XGBdata1 = XGBdata1.reset_index()\n",
    "XGBdata1 = XGBdata1.rename(columns={'index':'feature'})\n",
    "XGBdata1.feature = XGBdata1.feature.apply(lambda x: x.strip('f'))\n",
    "XGBdata1.feature = XGBdata1.feature.apply(lambda x: XData.columns[int(x)])"
   ]
  },
  {
   "cell_type": "code",
   "execution_count": 32,
   "metadata": {
    "slideshow": {
     "slide_type": "slide"
    }
   },
   "outputs": [
    {
     "data": {
      "image/png": "[encoded data removed]",
      "text/plain": [
       "<Figure size 720x576 with 1 Axes>"
      ]
     },
     "metadata": {
      "needs_background": "light"
     },
     "output_type": "display_data"
    }
   ],
   "source": [
    "plt.figure(figsize=(10,8))\n",
    "sns.barplot(x=XGBdata1.feature, y=XGBdata1.score,palette=\"deep\")\n",
    "plt.xticks(rotation=90,size=20)\n",
    "plt.show()"
   ]
  },
  {
   "cell_type": "markdown",
   "metadata": {},
   "source": [
    "## Condensing Features based on Above 4 Results"
   ]
  },
  {
   "cell_type": "code",
   "execution_count": 33,
   "metadata": {},
   "outputs": [
    {
     "data": {
      "text/plain": [
       "Index([   'TotalEventsInSession',         'interactionTime',\n",
       "         '#TimesCartedinSession',  '#TimesRemovedinSession',\n",
       "         '#TimesViewedinSession',                'maxPrice',\n",
       "                      'minPrice',   'AvgAmtCartedInSession',\n",
       "       '#AvgAmtRemovedInSession',   'AvgAmtViewedInSession',\n",
       "        '#BrandsCartedInSession', '#BrandsRemovedInSession',\n",
       "        '#BrandsViewedInSession',    'OverallAmtUserCarted',\n",
       "          'OverallAmtUserViewed',   'OverallAmtUserRemoved',\n",
       "         '#ProdsCartedInSession',  '#ProdsRemovedInSession',\n",
       "         '#ProdsViewedInSession',                      'Fr',\n",
       "                           'Mon',                     'Sat',\n",
       "                           'Sun',                     'Thu',\n",
       "                           'Tue',                     'Wed',\n",
       "                            2019,                      2020,\n",
       "                           'Dec',                     'Feb',\n",
       "                           'Jan',                     'Nov',\n",
       "                           'Oct',                     'Sep',\n",
       "                     'Afternoon',                    'Dawn',\n",
       "                  'EarlyMorning',                 'Evening',\n",
       "                       'Morning',                   'Night',\n",
       "                          'Noon',                 'Weekend'],\n",
       "      dtype='object')"
      ]
     },
     "execution_count": 33,
     "metadata": {},
     "output_type": "execute_result"
    }
   ],
   "source": [
    "XData.columns"
   ]
  },
  {
   "cell_type": "markdown",
   "metadata": {},
   "source": [
    "Important Features found in common are:\n",
    "1. "
   ]
  },
  {
   "cell_type": "markdown",
   "metadata": {},
   "source": [
    "****************\n",
    "# !!! BALANCING DATA !!!\n",
    "****************"
   ]
  },
  {
   "cell_type": "markdown",
   "metadata": {},
   "source": [
    "# SMOTE"
   ]
  },
  {
   "cell_type": "code",
   "execution_count": 127,
   "metadata": {},
   "outputs": [],
   "source": [
    "from imblearn.over_sampling import SMOTE"
   ]
  },
  {
   "cell_type": "code",
   "execution_count": 133,
   "metadata": {
    "slideshow": {
     "slide_type": "slide"
    }
   },
   "outputs": [
    {
     "data": {
      "text/plain": [
       "Counter({0: 4380323, 1: 155617})"
      ]
     },
     "execution_count": 133,
     "metadata": {},
     "output_type": "execute_result"
    }
   ],
   "source": [
    "Counter(YData)"
   ]
  },
  {
   "cell_type": "code",
   "execution_count": 129,
   "metadata": {},
   "outputs": [],
   "source": [
    "oversample = SMOTE()"
   ]
  },
  {
   "cell_type": "code",
   "execution_count": 130,
   "metadata": {
    "slideshow": {
     "slide_type": "subslide"
    }
   },
   "outputs": [],
   "source": [
    "X, Y = oversample.fit_resample(XData, YData)"
   ]
  },
  {
   "cell_type": "markdown",
   "metadata": {},
   "source": [
    "Plotting before and after SMOTE"
   ]
  },
  {
   "cell_type": "code",
   "execution_count": 134,
   "metadata": {
    "slideshow": {
     "slide_type": "slide"
    }
   },
   "outputs": [
    {
     "data": {
      "text/plain": [
       "Counter({0: 4380323, 1: 4380323})"
      ]
     },
     "execution_count": 134,
     "metadata": {},
     "output_type": "execute_result"
    }
   ],
   "source": [
    "Counter(Y)"
   ]
  },
  {
   "cell_type": "markdown",
   "metadata": {},
   "source": [
    "*******************    \n",
    "# DATA IMPORT HERE #\n",
    "*******************"
   ]
  },
  {
   "cell_type": "markdown",
   "metadata": {},
   "source": [
    "Saving SMOTE XData and YData to pickle"
   ]
  },
  {
   "cell_type": "code",
   "execution_count": 135,
   "metadata": {},
   "outputs": [],
   "source": [
    "# X.to_pickle(\"XDataSMOTECosm.pkl\")\n",
    "# Y.to_pickle(\"YDataSMOTECosm.pkl\")"
   ]
  },
  {
   "cell_type": "code",
   "execution_count": 11,
   "metadata": {},
   "outputs": [],
   "source": [
    "X = pd.read_pickle(\"XDataSMOTECosm.pkl\")\n",
    "Y = pd.read_pickle(\"YDataSMOTECosm.pkl\")"
   ]
  },
  {
   "cell_type": "markdown",
   "metadata": {},
   "source": [
    "### MEASURING FEATURE RELEVANCE AFTER SMOTE"
   ]
  },
  {
   "cell_type": "code",
   "execution_count": 32,
   "metadata": {
    "slideshow": {
     "slide_type": "subslide"
    }
   },
   "outputs": [],
   "source": [
    "pca2 = PCA(n_components=2)\n",
    "principalComponents = pca2.fit_transform(X)\n",
    "principalDf = pd.DataFrame(data = principalComponents, columns = ['principal component 1', 'principal component 2'])\n",
    "pcaDF = pd.concat([principalDf, Y], axis = 1)"
   ]
  },
  {
   "cell_type": "code",
   "execution_count": 33,
   "metadata": {
    "slideshow": {
     "slide_type": "slide"
    }
   },
   "outputs": [
    {
     "data": {
      "image/png": "[encoded data removed]",
      "text/plain": [
       "<Figure size 576x576 with 1 Axes>"
      ]
     },
     "metadata": {
      "needs_background": "light"
     },
     "output_type": "display_data"
    }
   ],
   "source": [
    "fig = plt.figure(figsize = (8,8))\n",
    "ax = fig.add_subplot(1,1,1) \n",
    "ax.set_xlabel('Principal Component 1', fontsize = 15)\n",
    "ax.set_ylabel('Principal Component 2', fontsize = 15)\n",
    "ax.set_title('2 component PCA', fontsize = 20)\n",
    "targets = [1,0]\n",
    "colors = ['r', 'g']\n",
    "\n",
    "for T, C in zip(targets,colors):\n",
    "    indicesToKeep = pcaDF['Purchase'] == T\n",
    "    ax.scatter(pcaDF.loc[indicesToKeep, 'principal component 1'], pcaDF.loc[indicesToKeep, 'principal component 2'], c = C, s = 50)\n",
    "\n",
    "ax.legend(targets)\n",
    "ax.grid()\n",
    "plt.show()"
   ]
  },
  {
   "cell_type": "markdown",
   "metadata": {},
   "source": [
    "# BASELINING"
   ]
  },
  {
   "cell_type": "markdown",
   "metadata": {},
   "source": [
    "#  USING KNN - WITHOUT SMOTE"
   ]
  },
  {
   "cell_type": "code",
   "execution_count": 28,
   "metadata": {},
   "outputs": [],
   "source": [
    "pca = PCA(.95)"
   ]
  },
  {
   "cell_type": "code",
   "execution_count": 35,
   "metadata": {
    "slideshow": {
     "slide_type": "subslide"
    }
   },
   "outputs": [
    {
     "data": {
      "text/plain": [
       "PCA(n_components=0.95)"
      ]
     },
     "execution_count": 35,
     "metadata": {},
     "output_type": "execute_result"
    }
   ],
   "source": [
    "pca.fit(X_train)"
   ]
  },
  {
   "cell_type": "code",
   "execution_count": 36,
   "metadata": {},
   "outputs": [],
   "source": [
    "X_train = pca.transform(X_train)\n",
    "X_test = pca.transform(X_test)"
   ]
  },
  {
   "cell_type": "code",
   "execution_count": 39,
   "metadata": {},
   "outputs": [],
   "source": [
    "KNN = KNeighborsClassifier(n_neighbors = 4)"
   ]
  },
  {
   "cell_type": "code",
   "execution_count": 41,
   "metadata": {},
   "outputs": [],
   "source": [
    "y_pred = cross_val_predict(KNN, X_train, y_train, cv=5)"
   ]
  },
  {
   "cell_type": "code",
   "execution_count": 42,
   "metadata": {
    "slideshow": {
     "slide_type": "slide"
    }
   },
   "outputs": [
    {
     "name": "stdout",
     "output_type": "stream",
     "text": [
      "0.9303563194425666\n"
     ]
    }
   ],
   "source": [
    "print(metrics.accuracy_score(y_train, y_pred))"
   ]
  },
  {
   "cell_type": "code",
   "execution_count": 43,
   "metadata": {
    "slideshow": {
     "slide_type": "subslide"
    }
   },
   "outputs": [
    {
     "data": {
      "text/plain": [
       "KNeighborsClassifier(n_neighbors=4)"
      ]
     },
     "execution_count": 43,
     "metadata": {},
     "output_type": "execute_result"
    }
   ],
   "source": [
    "KNN.fit(X_train, y_train)"
   ]
  },
  {
   "cell_type": "code",
   "execution_count": 44,
   "metadata": {},
   "outputs": [],
   "source": [
    "y_predFinal = KNN.predict(X_test)"
   ]
  },
  {
   "cell_type": "code",
   "execution_count": 45,
   "metadata": {
    "slideshow": {
     "slide_type": "slide"
    }
   },
   "outputs": [
    {
     "name": "stdout",
     "output_type": "stream",
     "text": [
      "0.9305759347839391\n"
     ]
    }
   ],
   "source": [
    "print(metrics.accuracy_score(y_test, y_predFinal))"
   ]
  },
  {
   "cell_type": "code",
   "execution_count": 46,
   "metadata": {
    "slideshow": {
     "slide_type": "slide"
    }
   },
   "outputs": [
    {
     "data": {
      "text/plain": [
       "array([[2581928,   32985],\n",
       "       [ 162138,   33545]])"
      ]
     },
     "execution_count": 46,
     "metadata": {},
     "output_type": "execute_result"
    }
   ],
   "source": [
    "cnf_matrix = confusion_matrix(y_test, y_predFinal)\n",
    "cnf_matrix"
   ]
  },
  {
   "cell_type": "code",
   "execution_count": 47,
   "metadata": {
    "scrolled": true,
    "slideshow": {
     "slide_type": "slide"
    }
   },
   "outputs": [
    {
     "data": {
      "text/plain": [
       "Text(0.5, 3.5, 'Predicted label')"
      ]
     },
     "execution_count": 47,
     "metadata": {},
     "output_type": "execute_result"
    },
    {
     "data": {
      "image/png": "[encoded data removed]",
      "text/plain": [
       "<Figure size 432x288 with 2 Axes>"
      ]
     },
     "metadata": {
      "needs_background": "light"
     },
     "output_type": "display_data"
    }
   ],
   "source": [
    "# name  of classes\n",
    "class_names=[0,1] \n",
    "fig, ax = plt.subplots()\n",
    "tick_marks = np.arange(len(class_names))\n",
    "plt.xticks(tick_marks, class_names,size=20)\n",
    "plt.yticks(tick_marks, class_names,size=20)\n",
    "\n",
    "# create heatmap\n",
    "sns.heatmap(pd.DataFrame(cnf_matrix), annot=True, cmap=\"Blues\" ,fmt='g')\n",
    "ax.xaxis.set_label_position(\"bottom\")\n",
    "plt.tight_layout()\n",
    "plt.title('Confusion matrix',size = 20)\n",
    "plt.ylabel('Actual label',size = 20)\n",
    "plt.xlabel('Predicted label',size = 20)"
   ]
  },
  {
   "cell_type": "code",
   "execution_count": 48,
   "metadata": {
    "slideshow": {
     "slide_type": "slide"
    }
   },
   "outputs": [
    {
     "name": "stdout",
     "output_type": "stream",
     "text": [
      "Accuracy: 0.9305759347839391\n",
      "Precision: 0.5042086276867579\n",
      "Recall: 0.17142521322751594\n"
     ]
    }
   ],
   "source": [
    "print(\"Accuracy:\",metrics.accuracy_score(y_test, y_predFinal))\n",
    "print(\"Precision:\",metrics.precision_score(y_test, y_predFinal))\n",
    "print(\"Recall:\",metrics.recall_score(y_test, y_predFinal))"
   ]
  },
  {
   "cell_type": "markdown",
   "metadata": {},
   "source": [
    "# USING KNN - WITH SMOTE"
   ]
  },
  {
   "cell_type": "markdown",
   "metadata": {},
   "source": [
    "X and Y are the balanced/SMOTED XData and YData\n",
    "Splitting them in test and train"
   ]
  },
  {
   "cell_type": "code",
   "execution_count": 139,
   "metadata": {},
   "outputs": [],
   "source": [
    "pca95 = PCA(0.95)"
   ]
  },
  {
   "cell_type": "code",
   "execution_count": 136,
   "metadata": {},
   "outputs": [],
   "source": [
    "trainX, testX, trainY, testY = train_test_split(X,Y,test_size=0.2,random_state=42)"
   ]
  },
  {
   "cell_type": "code",
   "execution_count": 137,
   "metadata": {
    "slideshow": {
     "slide_type": "subslide"
    }
   },
   "outputs": [],
   "source": [
    "MMscaler = MinMaxScaler()\n",
    "trainX = MMscaler.fit_transform(trainX)\n",
    "testX = MMscaler.transform(testX)"
   ]
  },
  {
   "cell_type": "code",
   "execution_count": 140,
   "metadata": {
    "slideshow": {
     "slide_type": "subslide"
    }
   },
   "outputs": [
    {
     "data": {
      "text/plain": [
       "PCA(n_components=0.95)"
      ]
     },
     "execution_count": 140,
     "metadata": {},
     "output_type": "execute_result"
    }
   ],
   "source": [
    "pca95.fit(trainX)"
   ]
  },
  {
   "cell_type": "code",
   "execution_count": 142,
   "metadata": {},
   "outputs": [],
   "source": [
    "trainX = pca95.transform(trainX)\n",
    "testX = pca95.transform(testX)"
   ]
  },
  {
   "cell_type": "markdown",
   "metadata": {},
   "source": [
    "*******************    \n",
    "# ----> DATA IMPORT HERE #\n",
    "*******************"
   ]
  },
  {
   "cell_type": "markdown",
   "metadata": {},
   "source": [
    "### SAVING SMOTED TRAIN AND TEST DATA"
   ]
  },
  {
   "cell_type": "code",
   "execution_count": 143,
   "metadata": {},
   "outputs": [],
   "source": [
    "# np.save('trainXCosm.npy', trainX)\n",
    "# np.save('testXCosm.npy', testX)\n",
    "# np.save('trainYCosm.npy', trainY)\n",
    "# np.save('testYCosm.npy', testY)"
   ]
  },
  {
   "cell_type": "code",
   "execution_count": 13,
   "metadata": {},
   "outputs": [],
   "source": [
    "trainX = np.load('trainXCosm.npy')\n",
    "testX = np.load('testXCosm.npy')\n",
    "trainY = np.load('trainYCosm.npy')\n",
    "testY = np.load('testYCosm.npy')"
   ]
  },
  {
   "cell_type": "markdown",
   "metadata": {},
   "source": [
    "## CHOOSING THE BEST K"
   ]
  },
  {
   "cell_type": "code",
   "execution_count": 147,
   "metadata": {},
   "outputs": [],
   "source": [
    "error_rate = []\n",
    "Klist = [5,9,13,17,21]"
   ]
  },
  {
   "cell_type": "code",
   "execution_count": 149,
   "metadata": {
    "slideshow": {
     "slide_type": "slide"
    }
   },
   "outputs": [],
   "source": [
    "for i in Klist:\n",
    "    knn_i = KNeighborsClassifier(n_neighbors=i)\n",
    "    knn_i.fit(trainX,trainY)\n",
    "    pred_i = knn_i.predict(testX)\n",
    "    error_rate.append(np.mean(pred_i != testY))"
   ]
  },
  {
   "cell_type": "code",
   "execution_count": 150,
   "metadata": {
    "slideshow": {
     "slide_type": "slide"
    }
   },
   "outputs": [
    {
     "name": "stdout",
     "output_type": "stream",
     "text": [
      "[0.024751017333188748, 0.02433266937955517, 0.02451302129408206, 0.024765285680857015, 0.025052364835942538]\n"
     ]
    }
   ],
   "source": [
    "print(error_rate)"
   ]
  },
  {
   "cell_type": "code",
   "execution_count": 151,
   "metadata": {
    "scrolled": true,
    "slideshow": {
     "slide_type": "slide"
    }
   },
   "outputs": [
    {
     "name": "stdout",
     "output_type": "stream",
     "text": [
      "Minimum error:- 0.02433266937955517 at K = 9\n"
     ]
    },
    {
     "data": {
      "image/png": "[encoded data removed]",
      "text/plain": [
       "<Figure size 432x288 with 1 Axes>"
      ]
     },
     "metadata": {
      "needs_background": "light"
     },
     "output_type": "display_data"
    }
   ],
   "source": [
    "plt.figure(figsize=(6,4))\n",
    "plt.plot( Klist,error_rate,color='blue', linestyle='dashed', marker='o',markerfacecolor='red', markersize=10 )\n",
    "plt.title('Error Rate vs. K Value')\n",
    "plt.xlabel('K')\n",
    "plt.ylabel('Error Rate')\n",
    "print(\"Minimum error:-\",min(error_rate),\"at K =\",Klist[error_rate.index(min(error_rate))])\n",
    "plt.show()"
   ]
  },
  {
   "cell_type": "markdown",
   "metadata": {},
   "source": [
    "## RUNNING KNN with:\n",
    "1. K = 10\n",
    "2. SMOTE\n",
    "3. PCA"
   ]
  },
  {
   "cell_type": "code",
   "execution_count": 152,
   "metadata": {
    "slideshow": {
     "slide_type": "slide"
    }
   },
   "outputs": [],
   "source": [
    "KNN9 = KNeighborsClassifier(n_neighbors = 9, n_jobs = -1 )"
   ]
  },
  {
   "cell_type": "code",
   "execution_count": 154,
   "metadata": {},
   "outputs": [],
   "source": [
    "predY = cross_val_predict( KNN9, trainX, trainY, cv=5)"
   ]
  },
  {
   "cell_type": "code",
   "execution_count": 156,
   "metadata": {
    "slideshow": {
     "slide_type": "slide"
    }
   },
   "outputs": [
    {
     "name": "stdout",
     "output_type": "stream",
     "text": [
      "0.9752499673254652\n"
     ]
    }
   ],
   "source": [
    "print(metrics.accuracy_score(trainY, predY))"
   ]
  },
  {
   "cell_type": "code",
   "execution_count": 157,
   "metadata": {},
   "outputs": [
    {
     "data": {
      "text/plain": [
       "KNeighborsClassifier(n_jobs=-1, n_neighbors=9)"
      ]
     },
     "execution_count": 157,
     "metadata": {},
     "output_type": "execute_result"
    }
   ],
   "source": [
    "KNN9.fit(trainX, trainY)"
   ]
  },
  {
   "cell_type": "code",
   "execution_count": 158,
   "metadata": {},
   "outputs": [],
   "source": [
    "predFinalY = KNN9.predict(testX)"
   ]
  },
  {
   "cell_type": "code",
   "execution_count": 159,
   "metadata": {
    "slideshow": {
     "slide_type": "slide"
    }
   },
   "outputs": [
    {
     "name": "stdout",
     "output_type": "stream",
     "text": [
      "0.9756673306204449\n"
     ]
    }
   ],
   "source": [
    "print(metrics.accuracy_score(testY, predFinalY))"
   ]
  },
  {
   "cell_type": "code",
   "execution_count": 160,
   "metadata": {
    "slideshow": {
     "slide_type": "slide"
    }
   },
   "outputs": [
    {
     "data": {
      "text/plain": [
       "array([[866780,  10016],\n",
       "       [ 32618, 842716]])"
      ]
     },
     "execution_count": 160,
     "metadata": {},
     "output_type": "execute_result"
    }
   ],
   "source": [
    "cnf_matrix_SMOTE = confusion_matrix(testY, predFinalY)\n",
    "cnf_matrix_SMOTE"
   ]
  },
  {
   "cell_type": "code",
   "execution_count": 161,
   "metadata": {
    "scrolled": true,
    "slideshow": {
     "slide_type": "slide"
    }
   },
   "outputs": [
    {
     "name": "stdout",
     "output_type": "stream",
     "text": [
      "Accuracy: 0.9756673306204449\n",
      "Precision: 0.9882542228976983\n",
      "Recall: 0.9627365097208609\n"
     ]
    }
   ],
   "source": [
    "print(\"Accuracy:\",metrics.accuracy_score(testY, predFinalY))\n",
    "print(\"Precision:\",metrics.precision_score(testY, predFinalY))\n",
    "print(\"Recall:\",metrics.recall_score(testY, predFinalY))"
   ]
  },
  {
   "cell_type": "code",
   "execution_count": 162,
   "metadata": {},
   "outputs": [
    {
     "data": {
      "text/plain": [
       "Text(0.5, 3.5, 'Predicted label SMOTE')"
      ]
     },
     "execution_count": 162,
     "metadata": {},
     "output_type": "execute_result"
    },
    {
     "data": {
      "image/png": "[encoded data removed]",
      "text/plain": [
       "<Figure size 432x288 with 2 Axes>"
      ]
     },
     "metadata": {
      "needs_background": "light"
     },
     "output_type": "display_data"
    }
   ],
   "source": [
    "# name  of classes\n",
    "class_names=[0,1] \n",
    "fig, ax = plt.subplots()\n",
    "tick_marks = np.arange(len(class_names))\n",
    "plt.xticks(tick_marks, class_names,size=20)\n",
    "plt.yticks(tick_marks, class_names,size=20)\n",
    "\n",
    "# create heatmap\n",
    "sns.heatmap(pd.DataFrame(cnf_matrix_SMOTE), annot=True, cmap=\"Blues\" ,fmt='g')\n",
    "ax.xaxis.set_label_position(\"bottom\")\n",
    "plt.tight_layout()\n",
    "plt.title('Confusion matrix SMOTE',size = 20)\n",
    "plt.ylabel('Actual label SMOTE ',size = 20)\n",
    "plt.xlabel('Predicted label SMOTE',size = 20)"
   ]
  },
  {
   "cell_type": "markdown",
   "metadata": {},
   "source": [
    "--- NOT MUCH DIFFERENCE IN PRECISION AND RECALL ON CHANGING THE VALUE OF K IN KNN"
   ]
  },
  {
   "cell_type": "markdown",
   "metadata": {
    "slideshow": {
     "slide_type": "slide"
    }
   },
   "source": [
    "# DBSCAN CLUSTERING"
   ]
  },
  {
   "cell_type": "markdown",
   "metadata": {
    "slideshow": {
     "slide_type": "slide"
    }
   },
   "source": [
    "Coming Up"
   ]
  },
  {
   "cell_type": "code",
   "execution_count": null,
   "metadata": {},
   "outputs": [],
   "source": []
  }
 ],
 "metadata": {
  "kernelspec": {
   "display_name": "Python 3",
   "language": "python",
   "name": "python3"
  },
  "language_info": {
   "codemirror_mode": {
    "name": "ipython",
    "version": 3
   },
   "file_extension": ".py",
   "mimetype": "text/x-python",
   "name": "python",
   "nbconvert_exporter": "python",
   "pygments_lexer": "ipython3",
   "version": "3.7.4"
  }
 },
 "nbformat": 4,
 "nbformat_minor": 2
}
