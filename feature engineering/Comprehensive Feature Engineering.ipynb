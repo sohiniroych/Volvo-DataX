{
 "cells": [
  {
   "cell_type": "markdown",
   "metadata": {},
   "source": [
    "# Pre-Processing : Library and Data file import"
   ]
  },
  {
   "cell_type": "code",
   "execution_count": 1,
   "metadata": {},
   "outputs": [],
   "source": [
    "import pandas as pd\n",
    "import numpy as np\n",
    "import seaborn as sns #visualisation\n",
    "import matplotlib.pyplot as plt #visualisation\n",
    "%matplotlib inline \n",
    "sns.set(color_codes=True)\n",
    "pd.set_option('display.max_columns', 999)"
   ]
  },
  {
   "cell_type": "code",
   "execution_count": 2,
   "metadata": {},
   "outputs": [
    {
     "name": "stderr",
     "output_type": "stream",
     "text": [
      "/Users/akhileshpandita/AnacondaParentFolder/anaconda3/lib/python3.7/site-packages/sklearn/utils/deprecation.py:143: FutureWarning: The sklearn.ensemble.forest module is  deprecated in version 0.22 and will be removed in version 0.24. The corresponding classes / functions should instead be imported from sklearn.ensemble. Anything that cannot be imported from sklearn.ensemble is now part of the private API.\n",
      "  warnings.warn(message, FutureWarning)\n"
     ]
    }
   ],
   "source": [
    "from sklearn.ensemble.forest import RandomForestClassifier\n",
    "from sklearn.feature_selection import SelectFromModel\n",
    "from sklearn.model_selection import train_test_split\n",
    "from sklearn.linear_model import Lasso, LogisticRegression\n",
    "from sklearn.preprocessing import StandardScaler\n",
    "from sklearn.preprocessing import MinMaxScaler\n",
    "from sklearn import metrics\n",
    "from sklearn.model_selection import cross_validate\n",
    "from sklearn.model_selection import cross_val_score\n",
    "from sklearn.model_selection import cross_val_predict\n",
    "from sklearn.decomposition import PCA\n",
    "from sklearn.neighbors import KNeighborsClassifier\n",
    "from sklearn.metrics import confusion_matrix\n",
    "import gc"
   ]
  },
  {
   "cell_type": "code",
   "execution_count": 3,
   "metadata": {},
   "outputs": [],
   "source": [
    "import time\n",
    "import warnings\n",
    "warnings.filterwarnings(\"ignore\")"
   ]
  },
  {
   "cell_type": "code",
   "execution_count": 16,
   "metadata": {},
   "outputs": [],
   "source": [
    "import imblearn\n",
    "import collections\n",
    "from collections import Counter\n",
    "from sklearn.datasets import make_classification\n",
    "from matplotlib import pyplot\n",
    "from numpy import where"
   ]
  },
  {
   "cell_type": "code",
   "execution_count": 4,
   "metadata": {},
   "outputs": [
    {
     "data": {
      "text/plain": [
       "51"
      ]
     },
     "execution_count": 4,
     "metadata": {},
     "output_type": "execute_result"
    }
   ],
   "source": [
    "gc.collect()"
   ]
  },
  {
   "cell_type": "code",
   "execution_count": 8,
   "metadata": {},
   "outputs": [],
   "source": [
    "#df = pd.read_pickle(\"df.pkl\")"
   ]
  },
  {
   "cell_type": "code",
   "execution_count": 9,
   "metadata": {},
   "outputs": [
    {
     "name": "stdout",
     "output_type": "stream",
     "text": [
      "<class 'pandas.core.frame.DataFrame'>\n",
      "Int64Index: 60167008 entries, 1 to 67501978\n",
      "Data columns (total 9 columns):\n",
      "user_id          int64\n",
      "product_id       int64\n",
      "user_session     object\n",
      "event_time       datetime64[ns, UTC]\n",
      "event_type       object\n",
      "category_id      int64\n",
      "category_code    object\n",
      "brand            object\n",
      "price            float64\n",
      "dtypes: datetime64[ns, UTC](1), float64(1), int64(3), object(4)\n",
      "memory usage: 4.5+ GB\n"
     ]
    }
   ],
   "source": [
    "df.info()"
   ]
  },
  {
   "cell_type": "markdown",
   "metadata": {},
   "source": [
    "# 1. Processing data for appropriate Date-Time Values"
   ]
  },
  {
   "cell_type": "code",
   "execution_count": 10,
   "metadata": {},
   "outputs": [],
   "source": [
    "#df = electronics[:5000].copy()\n",
    "df.drop('category_id',axis=1,inplace=True)"
   ]
  },
  {
   "cell_type": "code",
   "execution_count": 11,
   "metadata": {},
   "outputs": [],
   "source": [
    "df['event_time'] = pd.DatetimeIndex(df['event_time']).tz_convert('US/Eastern')"
   ]
  },
  {
   "cell_type": "code",
   "execution_count": 12,
   "metadata": {},
   "outputs": [],
   "source": [
    "df['year'] = pd.DatetimeIndex(df['event_time']).year\n",
    "df['month'] = pd.DatetimeIndex(df['event_time']).month"
   ]
  },
  {
   "cell_type": "code",
   "execution_count": 13,
   "metadata": {},
   "outputs": [],
   "source": [
    "# Month\n",
    "\n",
    "MM = {1:'Jan', 2:'Feb', 3:'Mar', 4:'Apr', 5:'May', 6:'Jun', 7:'Jul', 8:'Aug', 9:'Sep', 10:'Oct', 11:'Nov', 12:'Dec'}\n",
    "df['month'] = pd.DatetimeIndex(df['event_time']).month.map(MM)"
   ]
  },
  {
   "cell_type": "code",
   "execution_count": 14,
   "metadata": {},
   "outputs": [],
   "source": [
    "# Weekday\n",
    "\n",
    "dayOfWeek={0:'Mon', 1:'Tue', 2:'Wed', 3:'Thu', 4:'Fr', 5:'Sat', 6:'Sun'}\n",
    "df['weekday'] = pd.DatetimeIndex(df['event_time']).weekday.map(dayOfWeek)"
   ]
  },
  {
   "cell_type": "code",
   "execution_count": 15,
   "metadata": {},
   "outputs": [],
   "source": [
    "# Phase of day\n",
    "\n",
    "df['hour'] = pd.DatetimeIndex(df['event_time']).hour\n",
    "timeOfDay={0:'Dawn',1:'Dawn',2:'Dawn',3:'Dawn',4:'Dawn',5:'EarlyMorning',6:'EarlyMorning',7:'EarlyMorning',8:'EarlyMorning', 9:'Morning',10:'Morning',11:'Morning', 12:'Noon', 13:'Afternoon',14:'Afternoon',15:'Afternoon',16:'Afternoon', 17:'Evening',18:'Evening',19:'Evening',20:'Evening', 21:'Night',22:'Night',23:'Night', 24:'Midnight'}\n",
    "df['timeOfDay'] = df.hour.map(timeOfDay)"
   ]
  },
  {
   "cell_type": "code",
   "execution_count": 16,
   "metadata": {},
   "outputs": [],
   "source": [
    "# Is Weekend?\n",
    "\n",
    "df['Weekend']= df.weekday.apply(lambda x : 1 if x in ['Sunday','Saturday'] else 0)"
   ]
  },
  {
   "cell_type": "code",
   "execution_count": 201,
   "metadata": {},
   "outputs": [],
   "source": [
    "#Holdiays not included due to computational issues"
   ]
  },
  {
   "cell_type": "code",
   "execution_count": 186,
   "metadata": {},
   "outputs": [],
   "source": [
    "# #Is holiday?\n",
    "\n",
    "#holidaysDF = pd.read_csv(\"holidays.csv\")\n",
    "#holidaysDF['Date']= pd.DatetimeIndex(holidaysDF['Date']).tz_localize('UTC').tz_convert('US/Eastern')\n",
    "# holidaysList = []\n",
    "\n",
    "# for item in holidaysDF['Date'].to_list():\n",
    "#     holidaysList.append(pd.Timestamp(item))\n",
    "\n",
    "# Holiday = df.event_time.apply(lambda x : 1 if x in holidaysList else 0)\n",
    "# df['Holiday']= Holiday"
   ]
  },
  {
   "cell_type": "code",
   "execution_count": 202,
   "metadata": {
    "scrolled": true
   },
   "outputs": [
    {
     "data": {
      "text/html": [
       "<div>\n",
       "<style scoped>\n",
       "    .dataframe tbody tr th:only-of-type {\n",
       "        vertical-align: middle;\n",
       "    }\n",
       "\n",
       "    .dataframe tbody tr th {\n",
       "        vertical-align: top;\n",
       "    }\n",
       "\n",
       "    .dataframe thead th {\n",
       "        text-align: right;\n",
       "    }\n",
       "</style>\n",
       "<table border=\"1\" class=\"dataframe\">\n",
       "  <thead>\n",
       "    <tr style=\"text-align: right;\">\n",
       "      <th></th>\n",
       "      <th>user_id</th>\n",
       "      <th>product_id</th>\n",
       "      <th>user_session</th>\n",
       "      <th>event_time</th>\n",
       "      <th>event_type</th>\n",
       "      <th>category_code</th>\n",
       "      <th>brand</th>\n",
       "      <th>price</th>\n",
       "      <th>year</th>\n",
       "      <th>month</th>\n",
       "      <th>weekday</th>\n",
       "      <th>hour</th>\n",
       "      <th>timeOfDay</th>\n",
       "      <th>Weekend</th>\n",
       "      <th>OverallAmtUserCarted</th>\n",
       "      <th>OverallAmtUserPurchased</th>\n",
       "      <th>OverallAmtUserViewed</th>\n",
       "      <th>dummy</th>\n",
       "    </tr>\n",
       "  </thead>\n",
       "  <tbody>\n",
       "    <tr>\n",
       "      <td>0</td>\n",
       "      <td>554748717</td>\n",
       "      <td>3900821</td>\n",
       "      <td>9333dfbd-b87a-4708-9857-6336556b0fcc</td>\n",
       "      <td>2019-09-30 20:00:00-04:00</td>\n",
       "      <td>view</td>\n",
       "      <td>appliances.environment.water_heater</td>\n",
       "      <td>aqua</td>\n",
       "      <td>33.2</td>\n",
       "      <td>2019</td>\n",
       "      <td>Sep</td>\n",
       "      <td>Mon</td>\n",
       "      <td>20</td>\n",
       "      <td>Evening</td>\n",
       "      <td>0</td>\n",
       "      <td>0.0</td>\n",
       "      <td>0.0</td>\n",
       "      <td>92.52</td>\n",
       "      <td>0.0</td>\n",
       "    </tr>\n",
       "  </tbody>\n",
       "</table>\n",
       "</div>"
      ],
      "text/plain": [
       "     user_id  product_id                          user_session  \\\n",
       "0  554748717     3900821  9333dfbd-b87a-4708-9857-6336556b0fcc   \n",
       "\n",
       "                 event_time event_type                        category_code  \\\n",
       "0 2019-09-30 20:00:00-04:00       view  appliances.environment.water_heater   \n",
       "\n",
       "  brand  price  year month weekday  hour timeOfDay  Weekend  \\\n",
       "0  aqua   33.2  2019   Sep     Mon    20   Evening        0   \n",
       "\n",
       "   OverallAmtUserCarted  OverallAmtUserPurchased  OverallAmtUserViewed  dummy  \n",
       "0                   0.0                      0.0                 92.52    0.0  "
      ]
     },
     "execution_count": 202,
     "metadata": {},
     "output_type": "execute_result"
    }
   ],
   "source": [
    "df.head(1)"
   ]
  },
  {
   "cell_type": "markdown",
   "metadata": {},
   "source": [
    "Adding COLUMNS TO DF -  AMOUNT BY USER for all events"
   ]
  },
  {
   "cell_type": "code",
   "execution_count": 19,
   "metadata": {},
   "outputs": [],
   "source": [
    "AmountbyUser = pd.pivot_table(df, index='user_id',columns='event_type',values='price',fill_value=0)"
   ]
  },
  {
   "cell_type": "code",
   "execution_count": 20,
   "metadata": {},
   "outputs": [],
   "source": [
    "AmountbyUser = AmountbyUser.rename(columns={'cart':'OverallAmtUserCarted','purchase':'OverallAmtUserPurchased','view':'OverallAmtUserViewed'})"
   ]
  },
  {
   "cell_type": "code",
   "execution_count": 21,
   "metadata": {},
   "outputs": [],
   "source": [
    "df = pd.merge(df,AmountbyUser,on='user_id',how='outer')"
   ]
  },
  {
   "cell_type": "code",
   "execution_count": 22,
   "metadata": {},
   "outputs": [],
   "source": [
    "# SAVE TO PICKLE\n",
    "#df.to_pickle(\"df.pkl\")"
   ]
  },
  {
   "cell_type": "code",
   "execution_count": 23,
   "metadata": {},
   "outputs": [],
   "source": [
    "#READ FROM PICKLE\n",
    "df = pd.read_pickle(\"df.pkl\")"
   ]
  },
  {
   "cell_type": "markdown",
   "metadata": {},
   "source": [
    "# 2. Creating Features"
   ]
  },
  {
   "cell_type": "markdown",
   "metadata": {},
   "source": [
    "## Features to build:\n",
    "\n",
    "    Weekday(Sun/Mon/...) [One hot encoded]\n",
    "    Month [One hot encoded]\n",
    "    TimeOfDay(Morning/Evening/....) [One hot encoded]\n",
    "    InteractionTime(Duration of Session in seconds)\n",
    "    \n",
    "    #TotalEventsInSession()\n",
    "    #ViewEventsInSession\n",
    "    #CartEventsInSession\n",
    "    \n",
    "    #CategoriesViewedInSession\n",
    "    #CategoriesCartedInSession\n",
    "    #BrandsViewedInSession\n",
    "    #BrandsCartedInSession\n",
    "    #ProductsViewedInSession\n",
    "    #ProductsCartedInSession\n",
    "    \n",
    "    AverageAmountViewedInSession\n",
    "    AverageAmountCartedInSession\n",
    "    \n",
    "    #HolidaysDuringSession()\n",
    "    #WeekendDuringSession()\n",
    "    \n",
    "    LastSession(1: if the Session is last for a user, 0 if not)\n",
    "    \n",
    "    ViewToCartTime (Time between viewing and carting in session)\n",
    "    \n",
    "    Other suggested Features:\n",
    "        AvgPRDViewbyUser (total products viewed/total sessions by user)\n",
    "        AvgPRDCartbyUser  (total products carted/total sessions by user)\n",
    "        AvgCTGViewbyUser (total categories viewed/total sessions by user)\n",
    "        AvgCTGCartbyUser (total categories viewed/total sessions by user)"
   ]
  },
  {
   "cell_type": "markdown",
   "metadata": {},
   "source": [
    "## GROUPING THE DATA"
   ]
  },
  {
   "cell_type": "code",
   "execution_count": 24,
   "metadata": {},
   "outputs": [],
   "source": [
    "GroupUS = df.sort_values('event_time').groupby(['user_session'])"
   ]
  },
  {
   "cell_type": "markdown",
   "metadata": {},
   "source": [
    "## Total Number of Events/Interactions in Session"
   ]
  },
  {
   "cell_type": "code",
   "execution_count": 25,
   "metadata": {},
   "outputs": [],
   "source": [
    "Features= GroupUS['event_type'].count().reset_index().rename(columns={'event_type':'TotalEventsInSession'})"
   ]
  },
  {
   "cell_type": "markdown",
   "metadata": {},
   "source": [
    "## Duration"
   ]
  },
  {
   "cell_type": "code",
   "execution_count": 26,
   "metadata": {},
   "outputs": [],
   "source": [
    "# # Defining function to return range of any given series\n",
    "def ammd(series):\n",
    "    return (max(series)-min(series))"
   ]
  },
  {
   "cell_type": "code",
   "execution_count": 27,
   "metadata": {},
   "outputs": [],
   "source": [
    "interactionTime = GroupUS['event_time'].agg(ammd)"
   ]
  },
  {
   "cell_type": "code",
   "execution_count": 28,
   "metadata": {},
   "outputs": [],
   "source": [
    "interactionTime = interactionTime.dt.total_seconds()"
   ]
  },
  {
   "cell_type": "code",
   "execution_count": 32,
   "metadata": {},
   "outputs": [],
   "source": [
    "Features.set_index('user_session', inplace=True)"
   ]
  },
  {
   "cell_type": "code",
   "execution_count": 200,
   "metadata": {},
   "outputs": [],
   "source": [
    "#Join is MUCH FASTER than Merge"
   ]
  },
  {
   "cell_type": "code",
   "execution_count": 40,
   "metadata": {},
   "outputs": [
    {
     "name": "stdout",
     "output_type": "stream",
     "text": [
      "--- 2.4988081455230713 seconds ---\n"
     ]
    }
   ],
   "source": [
    "start_time = time.time()\n",
    "Features = Features.join(interactionTime, how='left')\n",
    "print(\"--- %s seconds ---\" % (time.time() - start_time))"
   ]
  },
  {
   "cell_type": "code",
   "execution_count": 37,
   "metadata": {},
   "outputs": [
    {
     "name": "stdout",
     "output_type": "stream",
     "text": [
      "--- 33.254327058792114 seconds ---\n"
     ]
    }
   ],
   "source": [
    "# start_time = time.time()\n",
    "# X2 = pd.merge(Features,interactionTime, how ='outer', on = 'user_session')\n",
    "# print(\"--- %s seconds ---\" % (time.time() - start_time))"
   ]
  },
  {
   "cell_type": "code",
   "execution_count": 41,
   "metadata": {},
   "outputs": [],
   "source": [
    "Features = Features.rename(columns={'event_time':'interactionTime'})"
   ]
  },
  {
   "cell_type": "code",
   "execution_count": 42,
   "metadata": {},
   "outputs": [
    {
     "data": {
      "text/html": [
       "<div>\n",
       "<style scoped>\n",
       "    .dataframe tbody tr th:only-of-type {\n",
       "        vertical-align: middle;\n",
       "    }\n",
       "\n",
       "    .dataframe tbody tr th {\n",
       "        vertical-align: top;\n",
       "    }\n",
       "\n",
       "    .dataframe thead th {\n",
       "        text-align: right;\n",
       "    }\n",
       "</style>\n",
       "<table border=\"1\" class=\"dataframe\">\n",
       "  <thead>\n",
       "    <tr style=\"text-align: right;\">\n",
       "      <th></th>\n",
       "      <th>TotalEventsInSession</th>\n",
       "      <th>interactionTime</th>\n",
       "    </tr>\n",
       "    <tr>\n",
       "      <th>user_session</th>\n",
       "      <th></th>\n",
       "      <th></th>\n",
       "    </tr>\n",
       "  </thead>\n",
       "  <tbody>\n",
       "    <tr>\n",
       "      <td>00000056-a206-40dd-b174-a072550fa38c</td>\n",
       "      <td>7</td>\n",
       "      <td>493.0</td>\n",
       "    </tr>\n",
       "    <tr>\n",
       "      <td>00000083-8816-4d58-a9b8-f52f54186edc</td>\n",
       "      <td>18</td>\n",
       "      <td>585.0</td>\n",
       "    </tr>\n",
       "  </tbody>\n",
       "</table>\n",
       "</div>"
      ],
      "text/plain": [
       "                                      TotalEventsInSession  interactionTime\n",
       "user_session                                                               \n",
       "00000056-a206-40dd-b174-a072550fa38c                     7            493.0\n",
       "00000083-8816-4d58-a9b8-f52f54186edc                    18            585.0"
      ]
     },
     "execution_count": 42,
     "metadata": {},
     "output_type": "execute_result"
    }
   ],
   "source": [
    "Features.head(2)"
   ]
  },
  {
   "cell_type": "markdown",
   "metadata": {},
   "source": [
    "##  Number of Interactions by Event Type in Session"
   ]
  },
  {
   "cell_type": "code",
   "execution_count": 43,
   "metadata": {},
   "outputs": [],
   "source": [
    "NumEventTime = GroupUS['event_type'].value_counts().unstack(fill_value = 0).rename(columns={'view':'#TimesViewedinSession','cart':'#TimesCartedinSession','purchase':'#TimesPurchasedinSession'})"
   ]
  },
  {
   "cell_type": "code",
   "execution_count": 46,
   "metadata": {},
   "outputs": [],
   "source": [
    "Features = Features.join(NumEventTime, how='left')"
   ]
  },
  {
   "cell_type": "code",
   "execution_count": 199,
   "metadata": {},
   "outputs": [
    {
     "data": {
      "text/html": [
       "<div>\n",
       "<style scoped>\n",
       "    .dataframe tbody tr th:only-of-type {\n",
       "        vertical-align: middle;\n",
       "    }\n",
       "\n",
       "    .dataframe tbody tr th {\n",
       "        vertical-align: top;\n",
       "    }\n",
       "\n",
       "    .dataframe thead th {\n",
       "        text-align: right;\n",
       "    }\n",
       "</style>\n",
       "<table border=\"1\" class=\"dataframe\">\n",
       "  <thead>\n",
       "    <tr style=\"text-align: right;\">\n",
       "      <th></th>\n",
       "      <th>user_session</th>\n",
       "      <th>TotalEventsInSession</th>\n",
       "      <th>interactionTime</th>\n",
       "      <th>#TimesCartedinSession</th>\n",
       "      <th>#TimesPurchasedinSession</th>\n",
       "      <th>#TimesViewedinSession</th>\n",
       "      <th>maxPrice</th>\n",
       "      <th>minPrice</th>\n",
       "      <th>AvgAmtCartedInSession</th>\n",
       "      <th>AvgAmtPurchasedInSession</th>\n",
       "      <th>AvgAmtViewedInSession</th>\n",
       "      <th>#BrandsCartedInSession</th>\n",
       "      <th>#BrandsPurchasedInSession</th>\n",
       "      <th>#BrandsViewedInSession</th>\n",
       "      <th>#CategoriesCartedInSession</th>\n",
       "      <th>#CategoriesPurchasedInSession</th>\n",
       "      <th>#CategoriesViewedInSession</th>\n",
       "      <th>OverallAmtUserCarted</th>\n",
       "      <th>OverallAmtUserViewed</th>\n",
       "      <th>OverallAmtUserPurchased</th>\n",
       "      <th>#ProdsCartedInSession</th>\n",
       "      <th>#ProdsPurchasedInSession</th>\n",
       "      <th>#ProdsViewedInSession</th>\n",
       "      <th>Fr</th>\n",
       "      <th>Mon</th>\n",
       "      <th>Sat</th>\n",
       "      <th>Sun</th>\n",
       "      <th>Thu</th>\n",
       "      <th>Tue</th>\n",
       "      <th>Wed</th>\n",
       "      <th>2019</th>\n",
       "      <th>Nov</th>\n",
       "      <th>Oct</th>\n",
       "      <th>Sep</th>\n",
       "      <th>Afternoon</th>\n",
       "      <th>Dawn</th>\n",
       "      <th>EarlyMorning</th>\n",
       "      <th>Evening</th>\n",
       "      <th>Morning</th>\n",
       "      <th>Night</th>\n",
       "      <th>Noon</th>\n",
       "      <th>Weekend</th>\n",
       "      <th>Purchase</th>\n",
       "    </tr>\n",
       "  </thead>\n",
       "  <tbody>\n",
       "    <tr>\n",
       "      <td>0</td>\n",
       "      <td>00000056-a206-40dd-b174-a072550fa38c</td>\n",
       "      <td>7</td>\n",
       "      <td>493.0</td>\n",
       "      <td>0</td>\n",
       "      <td>0</td>\n",
       "      <td>7</td>\n",
       "      <td>1349.46</td>\n",
       "      <td>131.53</td>\n",
       "      <td>0.0</td>\n",
       "      <td>0.0</td>\n",
       "      <td>812.941429</td>\n",
       "      <td>0</td>\n",
       "      <td>0</td>\n",
       "      <td>7</td>\n",
       "      <td>0</td>\n",
       "      <td>0</td>\n",
       "      <td>7</td>\n",
       "      <td>145.095</td>\n",
       "      <td>187.166429</td>\n",
       "      <td>98.97</td>\n",
       "      <td>0</td>\n",
       "      <td>0</td>\n",
       "      <td>7</td>\n",
       "      <td>0</td>\n",
       "      <td>0</td>\n",
       "      <td>0</td>\n",
       "      <td>0</td>\n",
       "      <td>1</td>\n",
       "      <td>0</td>\n",
       "      <td>0</td>\n",
       "      <td>1</td>\n",
       "      <td>0</td>\n",
       "      <td>1</td>\n",
       "      <td>0</td>\n",
       "      <td>0</td>\n",
       "      <td>1</td>\n",
       "      <td>0</td>\n",
       "      <td>0</td>\n",
       "      <td>0</td>\n",
       "      <td>0</td>\n",
       "      <td>0</td>\n",
       "      <td>0</td>\n",
       "      <td>0</td>\n",
       "    </tr>\n",
       "  </tbody>\n",
       "</table>\n",
       "</div>"
      ],
      "text/plain": [
       "                           user_session  TotalEventsInSession  \\\n",
       "0  00000056-a206-40dd-b174-a072550fa38c                     7   \n",
       "\n",
       "   interactionTime  #TimesCartedinSession  #TimesPurchasedinSession  \\\n",
       "0            493.0                      0                         0   \n",
       "\n",
       "   #TimesViewedinSession  maxPrice  minPrice  AvgAmtCartedInSession  \\\n",
       "0                      7   1349.46    131.53                    0.0   \n",
       "\n",
       "   AvgAmtPurchasedInSession  AvgAmtViewedInSession  #BrandsCartedInSession  \\\n",
       "0                       0.0             812.941429                       0   \n",
       "\n",
       "   #BrandsPurchasedInSession  #BrandsViewedInSession  \\\n",
       "0                          0                       7   \n",
       "\n",
       "   #CategoriesCartedInSession  #CategoriesPurchasedInSession  \\\n",
       "0                           0                              0   \n",
       "\n",
       "   #CategoriesViewedInSession  OverallAmtUserCarted  OverallAmtUserViewed  \\\n",
       "0                           7               145.095            187.166429   \n",
       "\n",
       "   OverallAmtUserPurchased  #ProdsCartedInSession  #ProdsPurchasedInSession  \\\n",
       "0                    98.97                      0                         0   \n",
       "\n",
       "   #ProdsViewedInSession  Fr  Mon  Sat  Sun  Thu  Tue  Wed  2019  Nov  Oct  \\\n",
       "0                      7   0    0    0    0    1    0    0     1    0    1   \n",
       "\n",
       "   Sep  Afternoon  Dawn  EarlyMorning  Evening  Morning  Night  Noon  Weekend  \\\n",
       "0    0          0     1             0        0        0      0     0        0   \n",
       "\n",
       "   Purchase  \n",
       "0         0  "
      ]
     },
     "execution_count": 199,
     "metadata": {},
     "output_type": "execute_result"
    }
   ],
   "source": [
    "Features.head(1)"
   ]
  },
  {
   "cell_type": "code",
   "execution_count": 934,
   "metadata": {},
   "outputs": [],
   "source": [
    "#Features = pd.merge(Features,NumEventTime, how ='outer', on = ['user_session'])"
   ]
  },
  {
   "cell_type": "markdown",
   "metadata": {},
   "source": [
    "## Max and Min Price"
   ]
  },
  {
   "cell_type": "code",
   "execution_count": 48,
   "metadata": {},
   "outputs": [],
   "source": [
    "Features['maxPrice'] = GroupUS['price'].max().values"
   ]
  },
  {
   "cell_type": "code",
   "execution_count": 49,
   "metadata": {},
   "outputs": [],
   "source": [
    "Features['minPrice'] = GroupUS['price'].min().values"
   ]
  },
  {
   "cell_type": "markdown",
   "metadata": {},
   "source": [
    "## AVERAGE AMOUNT BY EVENT IN SESSION"
   ]
  },
  {
   "cell_type": "code",
   "execution_count": 50,
   "metadata": {},
   "outputs": [],
   "source": [
    "AmountbyEvent = pd.pivot_table(df, index='user_session',columns='event_type',values='price',fill_value=0)\n",
    "AmountbyEvent = AmountbyEvent.rename(columns={'cart':'AvgAmtCartedInSession','purchase':'AvgAmtPurchasedInSession','view':'AvgAmtViewedInSession'})"
   ]
  },
  {
   "cell_type": "code",
   "execution_count": 51,
   "metadata": {},
   "outputs": [],
   "source": [
    "Features = Features.join(AmountbyEvent, how='left')"
   ]
  },
  {
   "cell_type": "code",
   "execution_count": 52,
   "metadata": {},
   "outputs": [
    {
     "data": {
      "text/html": [
       "<div>\n",
       "<style scoped>\n",
       "    .dataframe tbody tr th:only-of-type {\n",
       "        vertical-align: middle;\n",
       "    }\n",
       "\n",
       "    .dataframe tbody tr th {\n",
       "        vertical-align: top;\n",
       "    }\n",
       "\n",
       "    .dataframe thead th {\n",
       "        text-align: right;\n",
       "    }\n",
       "</style>\n",
       "<table border=\"1\" class=\"dataframe\">\n",
       "  <thead>\n",
       "    <tr style=\"text-align: right;\">\n",
       "      <th></th>\n",
       "      <th>TotalEventsInSession</th>\n",
       "      <th>interactionTime</th>\n",
       "      <th>#TimesCartedinSession</th>\n",
       "      <th>#TimesPurchasedinSession</th>\n",
       "      <th>#TimesViewedinSession</th>\n",
       "      <th>maxPrice</th>\n",
       "      <th>minPrice</th>\n",
       "      <th>AvgAmtCartedInSession</th>\n",
       "      <th>AvgAmtPurchasedInSession</th>\n",
       "      <th>AvgAmtViewedInSession</th>\n",
       "    </tr>\n",
       "    <tr>\n",
       "      <th>user_session</th>\n",
       "      <th></th>\n",
       "      <th></th>\n",
       "      <th></th>\n",
       "      <th></th>\n",
       "      <th></th>\n",
       "      <th></th>\n",
       "      <th></th>\n",
       "      <th></th>\n",
       "      <th></th>\n",
       "      <th></th>\n",
       "    </tr>\n",
       "  </thead>\n",
       "  <tbody>\n",
       "    <tr>\n",
       "      <td>00000056-a206-40dd-b174-a072550fa38c</td>\n",
       "      <td>7</td>\n",
       "      <td>493.0</td>\n",
       "      <td>0</td>\n",
       "      <td>0</td>\n",
       "      <td>7</td>\n",
       "      <td>1349.46</td>\n",
       "      <td>131.53</td>\n",
       "      <td>0.0</td>\n",
       "      <td>0.0</td>\n",
       "      <td>812.941429</td>\n",
       "    </tr>\n",
       "  </tbody>\n",
       "</table>\n",
       "</div>"
      ],
      "text/plain": [
       "                                      TotalEventsInSession  interactionTime  \\\n",
       "user_session                                                                  \n",
       "00000056-a206-40dd-b174-a072550fa38c                     7            493.0   \n",
       "\n",
       "                                      #TimesCartedinSession  \\\n",
       "user_session                                                  \n",
       "00000056-a206-40dd-b174-a072550fa38c                      0   \n",
       "\n",
       "                                      #TimesPurchasedinSession  \\\n",
       "user_session                                                     \n",
       "00000056-a206-40dd-b174-a072550fa38c                         0   \n",
       "\n",
       "                                      #TimesViewedinSession  maxPrice  \\\n",
       "user_session                                                            \n",
       "00000056-a206-40dd-b174-a072550fa38c                      7   1349.46   \n",
       "\n",
       "                                      minPrice  AvgAmtCartedInSession  \\\n",
       "user_session                                                            \n",
       "00000056-a206-40dd-b174-a072550fa38c    131.53                    0.0   \n",
       "\n",
       "                                      AvgAmtPurchasedInSession  \\\n",
       "user_session                                                     \n",
       "00000056-a206-40dd-b174-a072550fa38c                       0.0   \n",
       "\n",
       "                                      AvgAmtViewedInSession  \n",
       "user_session                                                 \n",
       "00000056-a206-40dd-b174-a072550fa38c             812.941429  "
      ]
     },
     "execution_count": 52,
     "metadata": {},
     "output_type": "execute_result"
    }
   ],
   "source": [
    "Features.head(1)"
   ]
  },
  {
   "cell_type": "code",
   "execution_count": 936,
   "metadata": {},
   "outputs": [],
   "source": [
    "#Features = pd.merge(Features,AmountbyEvent,on='user_session',how='outer')"
   ]
  },
  {
   "cell_type": "markdown",
   "metadata": {},
   "source": [
    "## BRAND COUNT BY EVENT IN SESSION"
   ]
  },
  {
   "cell_type": "code",
   "execution_count": 53,
   "metadata": {},
   "outputs": [],
   "source": [
    "BrandsBySession= pd.pivot_table(df, index='user_session',columns='event_type',values='brand',aggfunc='count',fill_value=0)\n",
    "BrandsBySession = BrandsBySession.rename(columns={'view':'#BrandsViewedInSession','cart':'#BrandsCartedInSession','purchase':'#BrandsPurchasedInSession'})"
   ]
  },
  {
   "cell_type": "code",
   "execution_count": 55,
   "metadata": {},
   "outputs": [],
   "source": [
    "Features = Features.join(BrandsBySession, how='left')"
   ]
  },
  {
   "cell_type": "code",
   "execution_count": null,
   "metadata": {},
   "outputs": [],
   "source": [
    "#Features = pd.merge(Features,BrandsBySession,on='user_session',how='outer')"
   ]
  },
  {
   "cell_type": "markdown",
   "metadata": {},
   "source": [
    "## CATEGORY COUNT BY EVENT IN SESSION"
   ]
  },
  {
   "cell_type": "code",
   "execution_count": 56,
   "metadata": {},
   "outputs": [],
   "source": [
    "CategoriesBySession= pd.pivot_table(df, index='user_session',columns='event_type',values='category_code',aggfunc='count',fill_value=0)\n",
    "CategoriesBySession = CategoriesBySession.rename(columns={'view':'#CategoriesViewedInSession','cart':'#CategoriesCartedInSession','purchase':'#CategoriesPurchasedInSession'})"
   ]
  },
  {
   "cell_type": "code",
   "execution_count": 57,
   "metadata": {},
   "outputs": [],
   "source": [
    "Features = Features.join(CategoriesBySession, how='left')"
   ]
  },
  {
   "cell_type": "code",
   "execution_count": 938,
   "metadata": {},
   "outputs": [],
   "source": [
    "#Features = pd.merge(Features,CategoriesBySession,on='user_session',how='outer')"
   ]
  },
  {
   "cell_type": "markdown",
   "metadata": {},
   "source": [
    "## ADDING FEATURES FOR AVERAGE OVERALL AMOUNT BY USER FOR DIFFERENT EVENTS"
   ]
  },
  {
   "cell_type": "code",
   "execution_count": 61,
   "metadata": {},
   "outputs": [],
   "source": [
    "OverallAmtUserCarted = df.groupby('user_session')['OverallAmtUserCarted'].mean()"
   ]
  },
  {
   "cell_type": "code",
   "execution_count": 62,
   "metadata": {},
   "outputs": [],
   "source": [
    "OverallAmtUserViewed = df.groupby('user_session')['OverallAmtUserViewed'].mean()"
   ]
  },
  {
   "cell_type": "code",
   "execution_count": 63,
   "metadata": {},
   "outputs": [],
   "source": [
    "OverallAmtUserPurchased = df.groupby('user_session')['OverallAmtUserPurchased'].mean()"
   ]
  },
  {
   "cell_type": "code",
   "execution_count": 64,
   "metadata": {},
   "outputs": [],
   "source": [
    "#Merging these individual dataframes\n",
    "\n",
    "#Features = pd.merge(Features,OverallAmtUserCarted.reset_index(), how='outer',on = ['user_session'])\n",
    "Features = Features.join(OverallAmtUserCarted, how='left')"
   ]
  },
  {
   "cell_type": "code",
   "execution_count": 65,
   "metadata": {},
   "outputs": [],
   "source": [
    "#Features = pd.merge(Features,OverallAmtUserViewed.reset_index(), how='outer',on = ['user_session'])\n",
    "Features = Features.join(OverallAmtUserViewed, how='left')"
   ]
  },
  {
   "cell_type": "code",
   "execution_count": 66,
   "metadata": {},
   "outputs": [],
   "source": [
    "#Features = pd.merge(Features,OverallAmtUserPurchased.reset_index(), how='outer',on = ['user_session'])\n",
    "Features = Features.join(OverallAmtUserPurchased, how='left')"
   ]
  },
  {
   "cell_type": "markdown",
   "metadata": {},
   "source": [
    "## PRODUCT COUNT BY EVENT IN SESSION"
   ]
  },
  {
   "cell_type": "code",
   "execution_count": 68,
   "metadata": {},
   "outputs": [],
   "source": [
    "ProductsBySession = pd.pivot_table(df, index='user_session',columns='event_type',values='product_id',aggfunc='count',fill_value=0)\n",
    "ProductsBySession = ProductsBySession.rename(columns={'view':'#ProdsViewedInSession','cart':'#ProdsCartedInSession','purchase':'#ProdsPurchasedInSession'})"
   ]
  },
  {
   "cell_type": "code",
   "execution_count": 69,
   "metadata": {},
   "outputs": [],
   "source": [
    "#Features = pd.merge(Features,ProductsBySession,on='user_session',how='outer')\n",
    "Features = Features.join(ProductsBySession, how='left')"
   ]
  },
  {
   "cell_type": "code",
   "execution_count": 70,
   "metadata": {
    "scrolled": true
   },
   "outputs": [
    {
     "data": {
      "text/html": [
       "<div>\n",
       "<style scoped>\n",
       "    .dataframe tbody tr th:only-of-type {\n",
       "        vertical-align: middle;\n",
       "    }\n",
       "\n",
       "    .dataframe tbody tr th {\n",
       "        vertical-align: top;\n",
       "    }\n",
       "\n",
       "    .dataframe thead th {\n",
       "        text-align: right;\n",
       "    }\n",
       "</style>\n",
       "<table border=\"1\" class=\"dataframe\">\n",
       "  <thead>\n",
       "    <tr style=\"text-align: right;\">\n",
       "      <th></th>\n",
       "      <th>TotalEventsInSession</th>\n",
       "      <th>interactionTime</th>\n",
       "      <th>#TimesCartedinSession</th>\n",
       "      <th>#TimesPurchasedinSession</th>\n",
       "      <th>#TimesViewedinSession</th>\n",
       "      <th>maxPrice</th>\n",
       "      <th>minPrice</th>\n",
       "      <th>AvgAmtCartedInSession</th>\n",
       "      <th>AvgAmtPurchasedInSession</th>\n",
       "      <th>AvgAmtViewedInSession</th>\n",
       "      <th>#BrandsCartedInSession</th>\n",
       "      <th>#BrandsPurchasedInSession</th>\n",
       "      <th>#BrandsViewedInSession</th>\n",
       "      <th>#CategoriesCartedInSession</th>\n",
       "      <th>#CategoriesPurchasedInSession</th>\n",
       "      <th>#CategoriesViewedInSession</th>\n",
       "      <th>OverallAmtUserCarted</th>\n",
       "      <th>OverallAmtUserViewed</th>\n",
       "      <th>OverallAmtUserPurchased</th>\n",
       "      <th>#ProdsCartedInSession</th>\n",
       "      <th>#ProdsPurchasedInSession</th>\n",
       "      <th>#ProdsViewedInSession</th>\n",
       "    </tr>\n",
       "    <tr>\n",
       "      <th>user_session</th>\n",
       "      <th></th>\n",
       "      <th></th>\n",
       "      <th></th>\n",
       "      <th></th>\n",
       "      <th></th>\n",
       "      <th></th>\n",
       "      <th></th>\n",
       "      <th></th>\n",
       "      <th></th>\n",
       "      <th></th>\n",
       "      <th></th>\n",
       "      <th></th>\n",
       "      <th></th>\n",
       "      <th></th>\n",
       "      <th></th>\n",
       "      <th></th>\n",
       "      <th></th>\n",
       "      <th></th>\n",
       "      <th></th>\n",
       "      <th></th>\n",
       "      <th></th>\n",
       "      <th></th>\n",
       "    </tr>\n",
       "  </thead>\n",
       "  <tbody>\n",
       "    <tr>\n",
       "      <td>00000056-a206-40dd-b174-a072550fa38c</td>\n",
       "      <td>7</td>\n",
       "      <td>493.0</td>\n",
       "      <td>0</td>\n",
       "      <td>0</td>\n",
       "      <td>7</td>\n",
       "      <td>1349.46</td>\n",
       "      <td>131.53</td>\n",
       "      <td>0.0</td>\n",
       "      <td>0.0</td>\n",
       "      <td>812.941429</td>\n",
       "      <td>0</td>\n",
       "      <td>0</td>\n",
       "      <td>7</td>\n",
       "      <td>0</td>\n",
       "      <td>0</td>\n",
       "      <td>7</td>\n",
       "      <td>145.095</td>\n",
       "      <td>187.166429</td>\n",
       "      <td>98.97</td>\n",
       "      <td>0</td>\n",
       "      <td>0</td>\n",
       "      <td>7</td>\n",
       "    </tr>\n",
       "  </tbody>\n",
       "</table>\n",
       "</div>"
      ],
      "text/plain": [
       "                                      TotalEventsInSession  interactionTime  \\\n",
       "user_session                                                                  \n",
       "00000056-a206-40dd-b174-a072550fa38c                     7            493.0   \n",
       "\n",
       "                                      #TimesCartedinSession  \\\n",
       "user_session                                                  \n",
       "00000056-a206-40dd-b174-a072550fa38c                      0   \n",
       "\n",
       "                                      #TimesPurchasedinSession  \\\n",
       "user_session                                                     \n",
       "00000056-a206-40dd-b174-a072550fa38c                         0   \n",
       "\n",
       "                                      #TimesViewedinSession  maxPrice  \\\n",
       "user_session                                                            \n",
       "00000056-a206-40dd-b174-a072550fa38c                      7   1349.46   \n",
       "\n",
       "                                      minPrice  AvgAmtCartedInSession  \\\n",
       "user_session                                                            \n",
       "00000056-a206-40dd-b174-a072550fa38c    131.53                    0.0   \n",
       "\n",
       "                                      AvgAmtPurchasedInSession  \\\n",
       "user_session                                                     \n",
       "00000056-a206-40dd-b174-a072550fa38c                       0.0   \n",
       "\n",
       "                                      AvgAmtViewedInSession  \\\n",
       "user_session                                                  \n",
       "00000056-a206-40dd-b174-a072550fa38c             812.941429   \n",
       "\n",
       "                                      #BrandsCartedInSession  \\\n",
       "user_session                                                   \n",
       "00000056-a206-40dd-b174-a072550fa38c                       0   \n",
       "\n",
       "                                      #BrandsPurchasedInSession  \\\n",
       "user_session                                                      \n",
       "00000056-a206-40dd-b174-a072550fa38c                          0   \n",
       "\n",
       "                                      #BrandsViewedInSession  \\\n",
       "user_session                                                   \n",
       "00000056-a206-40dd-b174-a072550fa38c                       7   \n",
       "\n",
       "                                      #CategoriesCartedInSession  \\\n",
       "user_session                                                       \n",
       "00000056-a206-40dd-b174-a072550fa38c                           0   \n",
       "\n",
       "                                      #CategoriesPurchasedInSession  \\\n",
       "user_session                                                          \n",
       "00000056-a206-40dd-b174-a072550fa38c                              0   \n",
       "\n",
       "                                      #CategoriesViewedInSession  \\\n",
       "user_session                                                       \n",
       "00000056-a206-40dd-b174-a072550fa38c                           7   \n",
       "\n",
       "                                      OverallAmtUserCarted  \\\n",
       "user_session                                                 \n",
       "00000056-a206-40dd-b174-a072550fa38c               145.095   \n",
       "\n",
       "                                      OverallAmtUserViewed  \\\n",
       "user_session                                                 \n",
       "00000056-a206-40dd-b174-a072550fa38c            187.166429   \n",
       "\n",
       "                                      OverallAmtUserPurchased  \\\n",
       "user_session                                                    \n",
       "00000056-a206-40dd-b174-a072550fa38c                    98.97   \n",
       "\n",
       "                                      #ProdsCartedInSession  \\\n",
       "user_session                                                  \n",
       "00000056-a206-40dd-b174-a072550fa38c                      0   \n",
       "\n",
       "                                      #ProdsPurchasedInSession  \\\n",
       "user_session                                                     \n",
       "00000056-a206-40dd-b174-a072550fa38c                         0   \n",
       "\n",
       "                                      #ProdsViewedInSession  \n",
       "user_session                                                 \n",
       "00000056-a206-40dd-b174-a072550fa38c                      7  "
      ]
     },
     "execution_count": 70,
     "metadata": {},
     "output_type": "execute_result"
    }
   ],
   "source": [
    "Features.head(1)"
   ]
  },
  {
   "cell_type": "markdown",
   "metadata": {},
   "source": [
    "Adding a dummy column for one-hot encoding values easily"
   ]
  },
  {
   "cell_type": "code",
   "execution_count": 71,
   "metadata": {},
   "outputs": [],
   "source": [
    "df['dummy']= np.zeros(len(df))"
   ]
  },
  {
   "cell_type": "markdown",
   "metadata": {},
   "source": [
    "## Adding Date and Time Features "
   ]
  },
  {
   "cell_type": "code",
   "execution_count": 72,
   "metadata": {},
   "outputs": [],
   "source": [
    "weekday = pd.pivot_table(df, index='user_session',columns='weekday',values='dummy',fill_value=0, aggfunc=lambda x: len(x.unique()) )"
   ]
  },
  {
   "cell_type": "code",
   "execution_count": 98,
   "metadata": {},
   "outputs": [],
   "source": [
    "year =  pd.pivot_table(df, index='user_session',columns='year',values='dummy',fill_value=0, aggfunc=lambda x: len(x.unique()) )"
   ]
  },
  {
   "cell_type": "code",
   "execution_count": 99,
   "metadata": {},
   "outputs": [],
   "source": [
    "month =  pd.pivot_table(df, index='user_session',columns='month',values='dummy',fill_value=0, aggfunc=lambda x: len(x.unique()) )"
   ]
  },
  {
   "cell_type": "code",
   "execution_count": 166,
   "metadata": {},
   "outputs": [],
   "source": [
    "timeOfDay =  pd.pivot_table(df, index='user_session',columns='timeOfDay',values='dummy',fill_value=0, aggfunc=lambda x: len(x.unique()) )"
   ]
  },
  {
   "cell_type": "markdown",
   "metadata": {},
   "source": [
    "Merging these date and time features"
   ]
  },
  {
   "cell_type": "code",
   "execution_count": 167,
   "metadata": {},
   "outputs": [],
   "source": [
    "#Features = pd.merge(Features,weekday,on='user_session',how='outer')\n",
    "Features = Features.join(weekday, how='left')"
   ]
  },
  {
   "cell_type": "code",
   "execution_count": 168,
   "metadata": {},
   "outputs": [],
   "source": [
    "#Features = pd.merge(Features,year,on='user_session',how='outer')\n",
    "Features = Features.join(year, how='left')"
   ]
  },
  {
   "cell_type": "code",
   "execution_count": 169,
   "metadata": {},
   "outputs": [],
   "source": [
    "#Features = pd.merge(Features,month,on='user_session',how='outer')\n",
    "Features = Features.join(month, how='left')"
   ]
  },
  {
   "cell_type": "code",
   "execution_count": 170,
   "metadata": {},
   "outputs": [],
   "source": [
    "#Features = pd.merge(Features,timeOfDay,on='user_session',how='outer')\n",
    "Features = Features.join(timeOfDay, how='left')"
   ]
  },
  {
   "cell_type": "code",
   "execution_count": 198,
   "metadata": {},
   "outputs": [],
   "source": [
    "#Holdiays not included due to computational issues"
   ]
  },
  {
   "cell_type": "code",
   "execution_count": 951,
   "metadata": {},
   "outputs": [],
   "source": [
    "#Holiday = GroupUS['Holiday'].sum()\n",
    "## Features = pd.merge(Features,Holiday,on='user_session',how='outer')\n",
    "# Features = Features.join(Holiday, how='left')\n"
   ]
  },
  {
   "cell_type": "code",
   "execution_count": 172,
   "metadata": {},
   "outputs": [],
   "source": [
    "#Features = pd.merge(Features,Weekend,on='user_session',how='outer')\n",
    "Weekend = GroupUS['Weekend'].sum()"
   ]
  },
  {
   "cell_type": "code",
   "execution_count": 173,
   "metadata": {},
   "outputs": [],
   "source": [
    "Features = Features.join(Weekend, how='left')"
   ]
  },
  {
   "cell_type": "markdown",
   "metadata": {},
   "source": [
    "## Dropping all Purchase related Columns and adding Y label 'Purchase'"
   ]
  },
  {
   "cell_type": "code",
   "execution_count": 175,
   "metadata": {},
   "outputs": [],
   "source": [
    "Features['Purchase'] = Features.AvgAmtPurchasedInSession.apply(lambda x : 1 if x!=0 else 0)"
   ]
  },
  {
   "cell_type": "code",
   "execution_count": 191,
   "metadata": {},
   "outputs": [],
   "source": [
    "Features.reset_index(inplace=True)"
   ]
  },
  {
   "cell_type": "code",
   "execution_count": 192,
   "metadata": {
    "scrolled": false
   },
   "outputs": [
    {
     "data": {
      "text/plain": [
       "Index([                 'user_session',          'TotalEventsInSession',\n",
       "                     'interactionTime',         '#TimesCartedinSession',\n",
       "            '#TimesPurchasedinSession',         '#TimesViewedinSession',\n",
       "                            'maxPrice',                      'minPrice',\n",
       "               'AvgAmtCartedInSession',      'AvgAmtPurchasedInSession',\n",
       "               'AvgAmtViewedInSession',        '#BrandsCartedInSession',\n",
       "           '#BrandsPurchasedInSession',        '#BrandsViewedInSession',\n",
       "          '#CategoriesCartedInSession', '#CategoriesPurchasedInSession',\n",
       "          '#CategoriesViewedInSession',          'OverallAmtUserCarted',\n",
       "                'OverallAmtUserViewed',       'OverallAmtUserPurchased',\n",
       "               '#ProdsCartedInSession',      '#ProdsPurchasedInSession',\n",
       "               '#ProdsViewedInSession',                            'Fr',\n",
       "                                 'Mon',                           'Sat',\n",
       "                                 'Sun',                           'Thu',\n",
       "                                 'Tue',                           'Wed',\n",
       "                                  2019,                           'Nov',\n",
       "                                 'Oct',                           'Sep',\n",
       "                           'Afternoon',                          'Dawn',\n",
       "                        'EarlyMorning',                       'Evening',\n",
       "                             'Morning',                         'Night',\n",
       "                                'Noon',                       'Weekend',\n",
       "                            'Purchase'],\n",
       "      dtype='object')"
      ]
     },
     "execution_count": 192,
     "metadata": {},
     "output_type": "execute_result"
    }
   ],
   "source": [
    "Features.columns"
   ]
  },
  {
   "cell_type": "code",
   "execution_count": 194,
   "metadata": {},
   "outputs": [],
   "source": [
    "FeaturesDF = Features.drop(columns=['user_session',\n",
    "                                    '#TimesPurchasedinSession',\n",
    "                                    '#BrandsPurchasedInSession', \n",
    "                                    'AvgAmtPurchasedInSession',\n",
    "                                    '#CategoriesPurchasedInSession',\n",
    "                                   'OverallAmtUserPurchased',\n",
    "                                   '#ProdsPurchasedInSession'])"
   ]
  },
  {
   "cell_type": "code",
   "execution_count": 195,
   "metadata": {},
   "outputs": [
    {
     "data": {
      "text/html": [
       "<div>\n",
       "<style scoped>\n",
       "    .dataframe tbody tr th:only-of-type {\n",
       "        vertical-align: middle;\n",
       "    }\n",
       "\n",
       "    .dataframe tbody tr th {\n",
       "        vertical-align: top;\n",
       "    }\n",
       "\n",
       "    .dataframe thead th {\n",
       "        text-align: right;\n",
       "    }\n",
       "</style>\n",
       "<table border=\"1\" class=\"dataframe\">\n",
       "  <thead>\n",
       "    <tr style=\"text-align: right;\">\n",
       "      <th></th>\n",
       "      <th>TotalEventsInSession</th>\n",
       "      <th>interactionTime</th>\n",
       "      <th>#TimesCartedinSession</th>\n",
       "      <th>#TimesViewedinSession</th>\n",
       "      <th>maxPrice</th>\n",
       "      <th>minPrice</th>\n",
       "      <th>AvgAmtCartedInSession</th>\n",
       "      <th>AvgAmtViewedInSession</th>\n",
       "      <th>#BrandsCartedInSession</th>\n",
       "      <th>#BrandsViewedInSession</th>\n",
       "      <th>#CategoriesCartedInSession</th>\n",
       "      <th>#CategoriesViewedInSession</th>\n",
       "      <th>OverallAmtUserCarted</th>\n",
       "      <th>OverallAmtUserViewed</th>\n",
       "      <th>#ProdsCartedInSession</th>\n",
       "      <th>#ProdsViewedInSession</th>\n",
       "      <th>Fr</th>\n",
       "      <th>Mon</th>\n",
       "      <th>Sat</th>\n",
       "      <th>Sun</th>\n",
       "      <th>Thu</th>\n",
       "      <th>Tue</th>\n",
       "      <th>Wed</th>\n",
       "      <th>2019</th>\n",
       "      <th>Nov</th>\n",
       "      <th>Oct</th>\n",
       "      <th>Sep</th>\n",
       "      <th>Afternoon</th>\n",
       "      <th>Dawn</th>\n",
       "      <th>EarlyMorning</th>\n",
       "      <th>Evening</th>\n",
       "      <th>Morning</th>\n",
       "      <th>Night</th>\n",
       "      <th>Noon</th>\n",
       "      <th>Weekend</th>\n",
       "      <th>Purchase</th>\n",
       "    </tr>\n",
       "  </thead>\n",
       "  <tbody>\n",
       "    <tr>\n",
       "      <td>14052979</td>\n",
       "      <td>6</td>\n",
       "      <td>335.0</td>\n",
       "      <td>2</td>\n",
       "      <td>3</td>\n",
       "      <td>128.42</td>\n",
       "      <td>128.42</td>\n",
       "      <td>128.42</td>\n",
       "      <td>128.420000</td>\n",
       "      <td>2</td>\n",
       "      <td>3</td>\n",
       "      <td>2</td>\n",
       "      <td>3</td>\n",
       "      <td>128.420000</td>\n",
       "      <td>173.510000</td>\n",
       "      <td>2</td>\n",
       "      <td>3</td>\n",
       "      <td>0</td>\n",
       "      <td>0</td>\n",
       "      <td>0</td>\n",
       "      <td>1</td>\n",
       "      <td>0</td>\n",
       "      <td>0</td>\n",
       "      <td>0</td>\n",
       "      <td>1</td>\n",
       "      <td>1</td>\n",
       "      <td>0</td>\n",
       "      <td>0</td>\n",
       "      <td>0</td>\n",
       "      <td>0</td>\n",
       "      <td>0</td>\n",
       "      <td>0</td>\n",
       "      <td>1</td>\n",
       "      <td>0</td>\n",
       "      <td>0</td>\n",
       "      <td>0</td>\n",
       "      <td>1</td>\n",
       "    </tr>\n",
       "    <tr>\n",
       "      <td>1823969</td>\n",
       "      <td>9</td>\n",
       "      <td>201.0</td>\n",
       "      <td>2</td>\n",
       "      <td>5</td>\n",
       "      <td>1362.69</td>\n",
       "      <td>291.27</td>\n",
       "      <td>826.98</td>\n",
       "      <td>934.122000</td>\n",
       "      <td>2</td>\n",
       "      <td>5</td>\n",
       "      <td>2</td>\n",
       "      <td>5</td>\n",
       "      <td>615.473333</td>\n",
       "      <td>625.244000</td>\n",
       "      <td>2</td>\n",
       "      <td>5</td>\n",
       "      <td>0</td>\n",
       "      <td>0</td>\n",
       "      <td>0</td>\n",
       "      <td>0</td>\n",
       "      <td>0</td>\n",
       "      <td>1</td>\n",
       "      <td>0</td>\n",
       "      <td>1</td>\n",
       "      <td>1</td>\n",
       "      <td>0</td>\n",
       "      <td>0</td>\n",
       "      <td>0</td>\n",
       "      <td>1</td>\n",
       "      <td>0</td>\n",
       "      <td>0</td>\n",
       "      <td>0</td>\n",
       "      <td>0</td>\n",
       "      <td>0</td>\n",
       "      <td>0</td>\n",
       "      <td>1</td>\n",
       "    </tr>\n",
       "    <tr>\n",
       "      <td>1823988</td>\n",
       "      <td>3</td>\n",
       "      <td>680.0</td>\n",
       "      <td>1</td>\n",
       "      <td>1</td>\n",
       "      <td>278.77</td>\n",
       "      <td>278.77</td>\n",
       "      <td>278.77</td>\n",
       "      <td>278.770000</td>\n",
       "      <td>1</td>\n",
       "      <td>1</td>\n",
       "      <td>1</td>\n",
       "      <td>1</td>\n",
       "      <td>278.770000</td>\n",
       "      <td>256.976667</td>\n",
       "      <td>1</td>\n",
       "      <td>1</td>\n",
       "      <td>0</td>\n",
       "      <td>0</td>\n",
       "      <td>0</td>\n",
       "      <td>0</td>\n",
       "      <td>0</td>\n",
       "      <td>0</td>\n",
       "      <td>1</td>\n",
       "      <td>1</td>\n",
       "      <td>1</td>\n",
       "      <td>0</td>\n",
       "      <td>0</td>\n",
       "      <td>0</td>\n",
       "      <td>0</td>\n",
       "      <td>1</td>\n",
       "      <td>0</td>\n",
       "      <td>1</td>\n",
       "      <td>0</td>\n",
       "      <td>0</td>\n",
       "      <td>0</td>\n",
       "      <td>1</td>\n",
       "    </tr>\n",
       "    <tr>\n",
       "      <td>1823982</td>\n",
       "      <td>4</td>\n",
       "      <td>133.0</td>\n",
       "      <td>1</td>\n",
       "      <td>2</td>\n",
       "      <td>138.23</td>\n",
       "      <td>138.23</td>\n",
       "      <td>138.23</td>\n",
       "      <td>138.230000</td>\n",
       "      <td>1</td>\n",
       "      <td>2</td>\n",
       "      <td>1</td>\n",
       "      <td>2</td>\n",
       "      <td>138.230000</td>\n",
       "      <td>122.011000</td>\n",
       "      <td>1</td>\n",
       "      <td>2</td>\n",
       "      <td>0</td>\n",
       "      <td>0</td>\n",
       "      <td>1</td>\n",
       "      <td>0</td>\n",
       "      <td>0</td>\n",
       "      <td>0</td>\n",
       "      <td>0</td>\n",
       "      <td>1</td>\n",
       "      <td>1</td>\n",
       "      <td>0</td>\n",
       "      <td>0</td>\n",
       "      <td>0</td>\n",
       "      <td>0</td>\n",
       "      <td>1</td>\n",
       "      <td>0</td>\n",
       "      <td>0</td>\n",
       "      <td>0</td>\n",
       "      <td>0</td>\n",
       "      <td>0</td>\n",
       "      <td>1</td>\n",
       "    </tr>\n",
       "    <tr>\n",
       "      <td>12355648</td>\n",
       "      <td>6</td>\n",
       "      <td>402.0</td>\n",
       "      <td>2</td>\n",
       "      <td>3</td>\n",
       "      <td>152.82</td>\n",
       "      <td>127.93</td>\n",
       "      <td>152.82</td>\n",
       "      <td>144.523333</td>\n",
       "      <td>2</td>\n",
       "      <td>3</td>\n",
       "      <td>2</td>\n",
       "      <td>3</td>\n",
       "      <td>217.574000</td>\n",
       "      <td>416.237143</td>\n",
       "      <td>2</td>\n",
       "      <td>3</td>\n",
       "      <td>0</td>\n",
       "      <td>1</td>\n",
       "      <td>0</td>\n",
       "      <td>0</td>\n",
       "      <td>0</td>\n",
       "      <td>0</td>\n",
       "      <td>0</td>\n",
       "      <td>1</td>\n",
       "      <td>1</td>\n",
       "      <td>0</td>\n",
       "      <td>0</td>\n",
       "      <td>0</td>\n",
       "      <td>1</td>\n",
       "      <td>0</td>\n",
       "      <td>0</td>\n",
       "      <td>0</td>\n",
       "      <td>0</td>\n",
       "      <td>0</td>\n",
       "      <td>0</td>\n",
       "      <td>1</td>\n",
       "    </tr>\n",
       "    <tr>\n",
       "      <td>...</td>\n",
       "      <td>...</td>\n",
       "      <td>...</td>\n",
       "      <td>...</td>\n",
       "      <td>...</td>\n",
       "      <td>...</td>\n",
       "      <td>...</td>\n",
       "      <td>...</td>\n",
       "      <td>...</td>\n",
       "      <td>...</td>\n",
       "      <td>...</td>\n",
       "      <td>...</td>\n",
       "      <td>...</td>\n",
       "      <td>...</td>\n",
       "      <td>...</td>\n",
       "      <td>...</td>\n",
       "      <td>...</td>\n",
       "      <td>...</td>\n",
       "      <td>...</td>\n",
       "      <td>...</td>\n",
       "      <td>...</td>\n",
       "      <td>...</td>\n",
       "      <td>...</td>\n",
       "      <td>...</td>\n",
       "      <td>...</td>\n",
       "      <td>...</td>\n",
       "      <td>...</td>\n",
       "      <td>...</td>\n",
       "      <td>...</td>\n",
       "      <td>...</td>\n",
       "      <td>...</td>\n",
       "      <td>...</td>\n",
       "      <td>...</td>\n",
       "      <td>...</td>\n",
       "      <td>...</td>\n",
       "      <td>...</td>\n",
       "      <td>...</td>\n",
       "    </tr>\n",
       "    <tr>\n",
       "      <td>4853053</td>\n",
       "      <td>2</td>\n",
       "      <td>89.0</td>\n",
       "      <td>0</td>\n",
       "      <td>2</td>\n",
       "      <td>38.96</td>\n",
       "      <td>38.33</td>\n",
       "      <td>0.00</td>\n",
       "      <td>38.645000</td>\n",
       "      <td>0</td>\n",
       "      <td>2</td>\n",
       "      <td>0</td>\n",
       "      <td>2</td>\n",
       "      <td>23.140000</td>\n",
       "      <td>328.772953</td>\n",
       "      <td>0</td>\n",
       "      <td>2</td>\n",
       "      <td>1</td>\n",
       "      <td>0</td>\n",
       "      <td>0</td>\n",
       "      <td>0</td>\n",
       "      <td>0</td>\n",
       "      <td>0</td>\n",
       "      <td>0</td>\n",
       "      <td>1</td>\n",
       "      <td>1</td>\n",
       "      <td>0</td>\n",
       "      <td>0</td>\n",
       "      <td>0</td>\n",
       "      <td>1</td>\n",
       "      <td>0</td>\n",
       "      <td>0</td>\n",
       "      <td>0</td>\n",
       "      <td>0</td>\n",
       "      <td>0</td>\n",
       "      <td>0</td>\n",
       "      <td>0</td>\n",
       "    </tr>\n",
       "    <tr>\n",
       "      <td>4853054</td>\n",
       "      <td>1</td>\n",
       "      <td>0.0</td>\n",
       "      <td>0</td>\n",
       "      <td>1</td>\n",
       "      <td>242.40</td>\n",
       "      <td>242.40</td>\n",
       "      <td>0.00</td>\n",
       "      <td>242.400000</td>\n",
       "      <td>0</td>\n",
       "      <td>1</td>\n",
       "      <td>0</td>\n",
       "      <td>1</td>\n",
       "      <td>247.315000</td>\n",
       "      <td>236.128480</td>\n",
       "      <td>0</td>\n",
       "      <td>1</td>\n",
       "      <td>0</td>\n",
       "      <td>0</td>\n",
       "      <td>0</td>\n",
       "      <td>0</td>\n",
       "      <td>0</td>\n",
       "      <td>0</td>\n",
       "      <td>1</td>\n",
       "      <td>1</td>\n",
       "      <td>1</td>\n",
       "      <td>0</td>\n",
       "      <td>0</td>\n",
       "      <td>0</td>\n",
       "      <td>1</td>\n",
       "      <td>0</td>\n",
       "      <td>0</td>\n",
       "      <td>0</td>\n",
       "      <td>0</td>\n",
       "      <td>0</td>\n",
       "      <td>0</td>\n",
       "      <td>0</td>\n",
       "    </tr>\n",
       "    <tr>\n",
       "      <td>4853055</td>\n",
       "      <td>2</td>\n",
       "      <td>16.0</td>\n",
       "      <td>0</td>\n",
       "      <td>2</td>\n",
       "      <td>1567.30</td>\n",
       "      <td>1541.58</td>\n",
       "      <td>0.00</td>\n",
       "      <td>1554.440000</td>\n",
       "      <td>0</td>\n",
       "      <td>2</td>\n",
       "      <td>0</td>\n",
       "      <td>2</td>\n",
       "      <td>1003.620000</td>\n",
       "      <td>962.399434</td>\n",
       "      <td>0</td>\n",
       "      <td>2</td>\n",
       "      <td>0</td>\n",
       "      <td>0</td>\n",
       "      <td>1</td>\n",
       "      <td>0</td>\n",
       "      <td>0</td>\n",
       "      <td>0</td>\n",
       "      <td>0</td>\n",
       "      <td>1</td>\n",
       "      <td>0</td>\n",
       "      <td>1</td>\n",
       "      <td>0</td>\n",
       "      <td>1</td>\n",
       "      <td>0</td>\n",
       "      <td>0</td>\n",
       "      <td>0</td>\n",
       "      <td>0</td>\n",
       "      <td>0</td>\n",
       "      <td>0</td>\n",
       "      <td>0</td>\n",
       "      <td>0</td>\n",
       "    </tr>\n",
       "    <tr>\n",
       "      <td>4853056</td>\n",
       "      <td>1</td>\n",
       "      <td>0.0</td>\n",
       "      <td>0</td>\n",
       "      <td>1</td>\n",
       "      <td>131.76</td>\n",
       "      <td>131.76</td>\n",
       "      <td>0.00</td>\n",
       "      <td>131.760000</td>\n",
       "      <td>0</td>\n",
       "      <td>1</td>\n",
       "      <td>0</td>\n",
       "      <td>1</td>\n",
       "      <td>131.760000</td>\n",
       "      <td>131.760000</td>\n",
       "      <td>0</td>\n",
       "      <td>1</td>\n",
       "      <td>0</td>\n",
       "      <td>1</td>\n",
       "      <td>0</td>\n",
       "      <td>0</td>\n",
       "      <td>0</td>\n",
       "      <td>0</td>\n",
       "      <td>0</td>\n",
       "      <td>1</td>\n",
       "      <td>0</td>\n",
       "      <td>1</td>\n",
       "      <td>0</td>\n",
       "      <td>0</td>\n",
       "      <td>0</td>\n",
       "      <td>1</td>\n",
       "      <td>0</td>\n",
       "      <td>0</td>\n",
       "      <td>0</td>\n",
       "      <td>0</td>\n",
       "      <td>0</td>\n",
       "      <td>0</td>\n",
       "    </tr>\n",
       "    <tr>\n",
       "      <td>7026490</td>\n",
       "      <td>1</td>\n",
       "      <td>0.0</td>\n",
       "      <td>0</td>\n",
       "      <td>1</td>\n",
       "      <td>133.08</td>\n",
       "      <td>133.08</td>\n",
       "      <td>0.00</td>\n",
       "      <td>133.080000</td>\n",
       "      <td>0</td>\n",
       "      <td>1</td>\n",
       "      <td>0</td>\n",
       "      <td>1</td>\n",
       "      <td>0.000000</td>\n",
       "      <td>113.537083</td>\n",
       "      <td>0</td>\n",
       "      <td>1</td>\n",
       "      <td>0</td>\n",
       "      <td>1</td>\n",
       "      <td>0</td>\n",
       "      <td>0</td>\n",
       "      <td>0</td>\n",
       "      <td>0</td>\n",
       "      <td>0</td>\n",
       "      <td>1</td>\n",
       "      <td>1</td>\n",
       "      <td>0</td>\n",
       "      <td>0</td>\n",
       "      <td>0</td>\n",
       "      <td>0</td>\n",
       "      <td>0</td>\n",
       "      <td>0</td>\n",
       "      <td>0</td>\n",
       "      <td>1</td>\n",
       "      <td>0</td>\n",
       "      <td>0</td>\n",
       "      <td>0</td>\n",
       "    </tr>\n",
       "  </tbody>\n",
       "</table>\n",
       "<p>14052980 rows × 36 columns</p>\n",
       "</div>"
      ],
      "text/plain": [
       "          TotalEventsInSession  interactionTime  #TimesCartedinSession  \\\n",
       "14052979                     6            335.0                      2   \n",
       "1823969                      9            201.0                      2   \n",
       "1823988                      3            680.0                      1   \n",
       "1823982                      4            133.0                      1   \n",
       "12355648                     6            402.0                      2   \n",
       "...                        ...              ...                    ...   \n",
       "4853053                      2             89.0                      0   \n",
       "4853054                      1              0.0                      0   \n",
       "4853055                      2             16.0                      0   \n",
       "4853056                      1              0.0                      0   \n",
       "7026490                      1              0.0                      0   \n",
       "\n",
       "          #TimesViewedinSession  maxPrice  minPrice  AvgAmtCartedInSession  \\\n",
       "14052979                      3    128.42    128.42                 128.42   \n",
       "1823969                       5   1362.69    291.27                 826.98   \n",
       "1823988                       1    278.77    278.77                 278.77   \n",
       "1823982                       2    138.23    138.23                 138.23   \n",
       "12355648                      3    152.82    127.93                 152.82   \n",
       "...                         ...       ...       ...                    ...   \n",
       "4853053                       2     38.96     38.33                   0.00   \n",
       "4853054                       1    242.40    242.40                   0.00   \n",
       "4853055                       2   1567.30   1541.58                   0.00   \n",
       "4853056                       1    131.76    131.76                   0.00   \n",
       "7026490                       1    133.08    133.08                   0.00   \n",
       "\n",
       "          AvgAmtViewedInSession  #BrandsCartedInSession  \\\n",
       "14052979             128.420000                       2   \n",
       "1823969              934.122000                       2   \n",
       "1823988              278.770000                       1   \n",
       "1823982              138.230000                       1   \n",
       "12355648             144.523333                       2   \n",
       "...                         ...                     ...   \n",
       "4853053               38.645000                       0   \n",
       "4853054              242.400000                       0   \n",
       "4853055             1554.440000                       0   \n",
       "4853056              131.760000                       0   \n",
       "7026490              133.080000                       0   \n",
       "\n",
       "          #BrandsViewedInSession  #CategoriesCartedInSession  \\\n",
       "14052979                       3                           2   \n",
       "1823969                        5                           2   \n",
       "1823988                        1                           1   \n",
       "1823982                        2                           1   \n",
       "12355648                       3                           2   \n",
       "...                          ...                         ...   \n",
       "4853053                        2                           0   \n",
       "4853054                        1                           0   \n",
       "4853055                        2                           0   \n",
       "4853056                        1                           0   \n",
       "7026490                        1                           0   \n",
       "\n",
       "          #CategoriesViewedInSession  OverallAmtUserCarted  \\\n",
       "14052979                           3            128.420000   \n",
       "1823969                            5            615.473333   \n",
       "1823988                            1            278.770000   \n",
       "1823982                            2            138.230000   \n",
       "12355648                           3            217.574000   \n",
       "...                              ...                   ...   \n",
       "4853053                            2             23.140000   \n",
       "4853054                            1            247.315000   \n",
       "4853055                            2           1003.620000   \n",
       "4853056                            1            131.760000   \n",
       "7026490                            1              0.000000   \n",
       "\n",
       "          OverallAmtUserViewed  #ProdsCartedInSession  #ProdsViewedInSession  \\\n",
       "14052979            173.510000                      2                      3   \n",
       "1823969             625.244000                      2                      5   \n",
       "1823988             256.976667                      1                      1   \n",
       "1823982             122.011000                      1                      2   \n",
       "12355648            416.237143                      2                      3   \n",
       "...                        ...                    ...                    ...   \n",
       "4853053             328.772953                      0                      2   \n",
       "4853054             236.128480                      0                      1   \n",
       "4853055             962.399434                      0                      2   \n",
       "4853056             131.760000                      0                      1   \n",
       "7026490             113.537083                      0                      1   \n",
       "\n",
       "          Fr  Mon  Sat  Sun  Thu  Tue  Wed  2019  Nov  Oct  Sep  Afternoon  \\\n",
       "14052979   0    0    0    1    0    0    0     1    1    0    0          0   \n",
       "1823969    0    0    0    0    0    1    0     1    1    0    0          0   \n",
       "1823988    0    0    0    0    0    0    1     1    1    0    0          0   \n",
       "1823982    0    0    1    0    0    0    0     1    1    0    0          0   \n",
       "12355648   0    1    0    0    0    0    0     1    1    0    0          0   \n",
       "...       ..  ...  ...  ...  ...  ...  ...   ...  ...  ...  ...        ...   \n",
       "4853053    1    0    0    0    0    0    0     1    1    0    0          0   \n",
       "4853054    0    0    0    0    0    0    1     1    1    0    0          0   \n",
       "4853055    0    0    1    0    0    0    0     1    0    1    0          1   \n",
       "4853056    0    1    0    0    0    0    0     1    0    1    0          0   \n",
       "7026490    0    1    0    0    0    0    0     1    1    0    0          0   \n",
       "\n",
       "          Dawn  EarlyMorning  Evening  Morning  Night  Noon  Weekend  Purchase  \n",
       "14052979     0             0        0        1      0     0        0         1  \n",
       "1823969      1             0        0        0      0     0        0         1  \n",
       "1823988      0             1        0        1      0     0        0         1  \n",
       "1823982      0             1        0        0      0     0        0         1  \n",
       "12355648     1             0        0        0      0     0        0         1  \n",
       "...        ...           ...      ...      ...    ...   ...      ...       ...  \n",
       "4853053      1             0        0        0      0     0        0         0  \n",
       "4853054      1             0        0        0      0     0        0         0  \n",
       "4853055      0             0        0        0      0     0        0         0  \n",
       "4853056      0             1        0        0      0     0        0         0  \n",
       "7026490      0             0        0        0      1     0        0         0  \n",
       "\n",
       "[14052980 rows x 36 columns]"
      ]
     },
     "execution_count": 195,
     "metadata": {},
     "output_type": "execute_result"
    }
   ],
   "source": [
    "FeaturesDF.sort_values(by='Purchase',ascending=False)"
   ]
  },
  {
   "cell_type": "code",
   "execution_count": 210,
   "metadata": {
    "scrolled": true
   },
   "outputs": [
    {
     "name": "stdout",
     "output_type": "stream",
     "text": [
      "The features we have are as follows: \n",
      " ['TotalEventsInSession', 'interactionTime', '#TimesCartedinSession', '#TimesViewedinSession', 'maxPrice', 'minPrice', 'AvgAmtCartedInSession', 'AvgAmtViewedInSession', '#BrandsCartedInSession', '#BrandsViewedInSession', '#CategoriesCartedInSession', '#CategoriesViewedInSession', 'OverallAmtUserCarted', 'OverallAmtUserViewed', '#ProdsCartedInSession', '#ProdsViewedInSession', 'Fr', 'Mon', 'Sat', 'Sun', 'Thu', 'Tue', 'Wed', 2019, 'Nov', 'Oct', 'Sep', 'Afternoon', 'Dawn', 'EarlyMorning', 'Evening', 'Morning', 'Night', 'Noon', 'Weekend', 'Purchase']\n",
      "************\n",
      "PLEASE NOTE THAT \n",
      " One-Hot-Encoded Date and Time features are dynamically added as per data\n",
      "************\n"
     ]
    }
   ],
   "source": [
    "print(\"The features we have are as follows: \\n\", FeaturesDF.columns.tolist())\n",
    "\n",
    "print('************')\n",
    "print(\"PLEASE NOTE THAT \\n One-Hot-Encoded Date and Time features are dynamically added as per data\")\n",
    "print('************')"
   ]
  },
  {
   "cell_type": "markdown",
   "metadata": {},
   "source": [
    "### Saving Final FeaturesDF as pickle"
   ]
  },
  {
   "cell_type": "code",
   "execution_count": 197,
   "metadata": {},
   "outputs": [],
   "source": [
    "#FeaturesDF.to_pickle(\"FeaturesDF.pkl\")"
   ]
  },
  {
   "cell_type": "code",
   "execution_count": 5,
   "metadata": {},
   "outputs": [],
   "source": [
    "FeaturesDF = pd.read_pickle('FeaturesDF.pkl')"
   ]
  },
  {
   "cell_type": "markdown",
   "metadata": {},
   "source": [
    "### Splitting Training and Testing Data"
   ]
  },
  {
   "cell_type": "code",
   "execution_count": 7,
   "metadata": {},
   "outputs": [],
   "source": [
    "XData = FeaturesDF.loc[:,:'Weekend']\n",
    "YData = FeaturesDF.loc[:,'Purchase']"
   ]
  },
  {
   "cell_type": "code",
   "execution_count": 8,
   "metadata": {},
   "outputs": [],
   "source": [
    "X_train, X_test, y_train, y_test = train_test_split(XData,YData,test_size=0.2,random_state=42)"
   ]
  },
  {
   "cell_type": "markdown",
   "metadata": {},
   "source": [
    "SCALING DATA WITH MINMAX SCALER"
   ]
  },
  {
   "cell_type": "code",
   "execution_count": 9,
   "metadata": {},
   "outputs": [],
   "source": [
    "MMscaler = MinMaxScaler()\n",
    "X_train = MMscaler.fit_transform(X_train)\n",
    "X_test = MMscaler.transform(X_test)"
   ]
  },
  {
   "cell_type": "markdown",
   "metadata": {},
   "source": [
    "### Saving train and test data in pickles"
   ]
  },
  {
   "cell_type": "code",
   "execution_count": 21,
   "metadata": {},
   "outputs": [],
   "source": [
    "# np.save('X_train.npy', X_train)\n",
    "# np.save('X_test.npy', X_test)\n",
    "# np.save('y_train.npy', y_train)\n",
    "# np.save('y_test.npy', y_test)"
   ]
  },
  {
   "cell_type": "code",
   "execution_count": null,
   "metadata": {},
   "outputs": [],
   "source": [
    "np.load('X_train.npy')\n",
    "np.load('X_test.npy')\n",
    "np.load('y_train.npy')\n",
    "np.load('y_test.npy')"
   ]
  },
  {
   "cell_type": "markdown",
   "metadata": {},
   "source": [
    "## Measuring Feature Relevance"
   ]
  },
  {
   "cell_type": "code",
   "execution_count": 338,
   "metadata": {},
   "outputs": [],
   "source": [
    "pca = PCA(n_components=2)\n",
    "principalComponents = pca.fit_transform(XData)\n",
    "principalDf = pd.DataFrame(data = principalComponents, columns = ['principal component 1', 'principal component 2'])\n",
    "pcaDF = pd.concat([principalDf, YData], axis = 1)"
   ]
  },
  {
   "cell_type": "code",
   "execution_count": 329,
   "metadata": {},
   "outputs": [
    {
     "data": {
      "image/png": "[encoded data removed]",
      "text/plain": [
       "<Figure size 576x576 with 1 Axes>"
      ]
     },
     "metadata": {
      "needs_background": "light"
     },
     "output_type": "display_data"
    }
   ],
   "source": [
    "fig = plt.figure(figsize = (8,8))\n",
    "ax = fig.add_subplot(1,1,1) \n",
    "ax.set_xlabel('Principal Component 1', fontsize = 15)\n",
    "ax.set_ylabel('Principal Component 2', fontsize = 15)\n",
    "ax.set_title('2 component PCA', fontsize = 20)\n",
    "targets = [1,0]\n",
    "colors = ['r', 'g']\n",
    "\n",
    "for T, C in zip(targets,colors):\n",
    "    indicesToKeep = pcaDF['Purchase'] == T\n",
    "    ax.scatter(pcaDF.loc[indicesToKeep, 'principal component 1'], pcaDF.loc[indicesToKeep, 'principal component 2'], c = C, s = 50)\n",
    "\n",
    "ax.legend(targets)\n",
    "ax.grid()\n",
    "plt.show()"
   ]
  },
  {
   "cell_type": "code",
   "execution_count": 339,
   "metadata": {},
   "outputs": [
    {
     "data": {
      "text/plain": [
       "array([0.99905764, 0.99974389])"
      ]
     },
     "execution_count": 339,
     "metadata": {},
     "output_type": "execute_result"
    }
   ],
   "source": [
    "pca.explained_variance_ratio_.cumsum()"
   ]
  },
  {
   "cell_type": "markdown",
   "metadata": {},
   "source": [
    "# 3. Feature Ranking"
   ]
  },
  {
   "cell_type": "markdown",
   "metadata": {},
   "source": [
    "## USING RANDOM FOREST"
   ]
  },
  {
   "cell_type": "code",
   "execution_count": 219,
   "metadata": {},
   "outputs": [],
   "source": [
    "sel = SelectFromModel(RandomForestClassifier(n_estimators = 100))"
   ]
  },
  {
   "cell_type": "code",
   "execution_count": 220,
   "metadata": {},
   "outputs": [
    {
     "data": {
      "text/plain": [
       "SelectFromModel(estimator=RandomForestClassifier(bootstrap=True,\n",
       "                                                 class_weight=None,\n",
       "                                                 criterion='gini',\n",
       "                                                 max_depth=None,\n",
       "                                                 max_features='auto',\n",
       "                                                 max_leaf_nodes=None,\n",
       "                                                 min_impurity_decrease=0.0,\n",
       "                                                 min_impurity_split=None,\n",
       "                                                 min_samples_leaf=1,\n",
       "                                                 min_samples_split=2,\n",
       "                                                 min_weight_fraction_leaf=0.0,\n",
       "                                                 n_estimators=100, n_jobs=None,\n",
       "                                                 oob_score=False,\n",
       "                                                 random_state=None, verbose=0,\n",
       "                                                 warm_start=False),\n",
       "                max_features=None, norm_order=1, prefit=False, threshold=None)"
      ]
     },
     "execution_count": 220,
     "metadata": {},
     "output_type": "execute_result"
    }
   ],
   "source": [
    "sel.fit(X_train, y_train)"
   ]
  },
  {
   "cell_type": "code",
   "execution_count": 221,
   "metadata": {},
   "outputs": [
    {
     "data": {
      "text/plain": [
       "array([ True,  True,  True,  True, False, False,  True, False,  True,\n",
       "        True,  True,  True, False, False,  True,  True, False, False,\n",
       "       False, False, False, False, False, False, False, False, False,\n",
       "       False, False, False, False, False, False, False, False])"
      ]
     },
     "execution_count": 221,
     "metadata": {},
     "output_type": "execute_result"
    }
   ],
   "source": [
    "sel.get_support()"
   ]
  },
  {
   "cell_type": "code",
   "execution_count": 222,
   "metadata": {},
   "outputs": [],
   "source": [
    "selected_feat= XData.columns[(sel.get_support())]"
   ]
  },
  {
   "cell_type": "code",
   "execution_count": 223,
   "metadata": {},
   "outputs": [
    {
     "data": {
      "image/png": "[encoded data removed]",
      "text/plain": [
       "<Figure size 1080x648 with 1 Axes>"
      ]
     },
     "metadata": {
      "needs_background": "light"
     },
     "output_type": "display_data"
    }
   ],
   "source": [
    "importances = sel.estimator_.feature_importances_\n",
    "indices = np.argsort(importances)[::-1] \n",
    "colname = XData.columns[indices]\n",
    "plt.figure(figsize=(15,9))\n",
    "plt.title(\"Feature importances\",size=20)\n",
    "sns.barplot(x=colname, y=importances[indices],palette=\"deep\")\n",
    "plt.xticks(rotation=90,size=20)\n",
    "plt.show()"
   ]
  },
  {
   "cell_type": "markdown",
   "metadata": {},
   "source": [
    "## Using F Scores"
   ]
  },
  {
   "cell_type": "code",
   "execution_count": 224,
   "metadata": {},
   "outputs": [],
   "source": [
    "import sklearn.feature_selection as fs\n",
    "kb = fs.SelectKBest(k=X_train.shape[1])"
   ]
  },
  {
   "cell_type": "code",
   "execution_count": 227,
   "metadata": {},
   "outputs": [
    {
     "data": {
      "text/plain": [
       "SelectKBest(k=35, score_func=<function f_classif at 0x7f7efa1c8cb0>)"
      ]
     },
     "execution_count": 227,
     "metadata": {},
     "output_type": "execute_result"
    }
   ],
   "source": [
    "kb.fit(X_train, y_train)"
   ]
  },
  {
   "cell_type": "code",
   "execution_count": 228,
   "metadata": {},
   "outputs": [],
   "source": [
    "names = XData.columns.values[kb.get_support()]\n",
    "scores = kb.scores_[kb.get_support()]"
   ]
  },
  {
   "cell_type": "code",
   "execution_count": 229,
   "metadata": {},
   "outputs": [],
   "source": [
    "names_scores = list(zip(names, scores))"
   ]
  },
  {
   "cell_type": "code",
   "execution_count": 230,
   "metadata": {},
   "outputs": [],
   "source": [
    "fScoreDF = pd.DataFrame(data = names_scores, columns=['Feat_names','F_Scores'])\n",
    "fScoreDF_sorted = fScoreDF.sort_values(['F_Scores','Feat_names'], ascending =[False, True])"
   ]
  },
  {
   "cell_type": "code",
   "execution_count": 231,
   "metadata": {},
   "outputs": [
    {
     "data": {
      "image/png": "[encoded data removed]",
      "text/plain": [
       "<Figure size 1080x648 with 1 Axes>"
      ]
     },
     "metadata": {
      "needs_background": "light"
     },
     "output_type": "display_data"
    }
   ],
   "source": [
    "plt.figure(figsize=(15,9))\n",
    "sns.barplot(x= \"Feat_names\", y=\"F_Scores\",data=fScoreDF_sorted)\n",
    "plt.xticks(rotation=90,size=20)\n",
    "plt.show()"
   ]
  },
  {
   "cell_type": "markdown",
   "metadata": {},
   "source": [
    "## XGBoosting"
   ]
  },
  {
   "cell_type": "code",
   "execution_count": 233,
   "metadata": {},
   "outputs": [],
   "source": [
    "from numpy import loadtxt\n",
    "from xgboost import XGBClassifier\n",
    "from matplotlib import pyplot"
   ]
  },
  {
   "cell_type": "code",
   "execution_count": 234,
   "metadata": {},
   "outputs": [],
   "source": [
    "XGB = XGBClassifier()"
   ]
  },
  {
   "cell_type": "code",
   "execution_count": 235,
   "metadata": {},
   "outputs": [
    {
     "name": "stdout",
     "output_type": "stream",
     "text": [
      "[23:14:27] WARNING: /Users/travis/build/dmlc/xgboost/src/gbm/gbtree.cc:139: Tree method is automatically selected to be 'approx' for faster speed. To use old behavior (exact greedy algorithm on single machine), set tree_method to 'exact'.\n"
     ]
    },
    {
     "data": {
      "text/plain": [
       "XGBClassifier(base_score=0.5, booster='gbtree', colsample_bylevel=1,\n",
       "              colsample_bynode=1, colsample_bytree=1, gamma=0, gpu_id=-1,\n",
       "              importance_type='gain', interaction_constraints='',\n",
       "              learning_rate=0.300000012, max_delta_step=0, max_depth=6,\n",
       "              min_child_weight=1, missing=nan, monotone_constraints='()',\n",
       "              n_estimators=100, n_jobs=0, num_parallel_tree=1,\n",
       "              objective='binary:logistic', random_state=0, reg_alpha=0,\n",
       "              reg_lambda=1, scale_pos_weight=1, subsample=1,\n",
       "              tree_method='approx', validate_parameters=1, verbosity=None)"
      ]
     },
     "execution_count": 235,
     "metadata": {},
     "output_type": "execute_result"
    }
   ],
   "source": [
    "XGB.fit(X_train, y_train)"
   ]
  },
  {
   "cell_type": "code",
   "execution_count": 310,
   "metadata": {},
   "outputs": [],
   "source": [
    "feature_importance = XGB.get_booster().get_score(importance_type='gain')"
   ]
  },
  {
   "cell_type": "markdown",
   "metadata": {},
   "source": [
    "By GAIN\n",
    "\n",
    "‘Gain’ is the improvement in accuracy brought by a feature to the branches it is on."
   ]
  },
  {
   "cell_type": "code",
   "execution_count": 311,
   "metadata": {},
   "outputs": [],
   "source": [
    "XGBkeys = list(feature_importance.keys())\n",
    "XGBvalues = list(feature_importance.values())"
   ]
  },
  {
   "cell_type": "code",
   "execution_count": 312,
   "metadata": {},
   "outputs": [],
   "source": [
    "XGBdata = pd.DataFrame(data=XGBvalues, index=XGBkeys, columns=[\"score\"]).sort_values(by = \"score\", ascending=False)\n",
    "XGBdata= XGBdata.reset_index()\n",
    "XGBdata = XGBdata.rename(columns={'index':'feature'})\n",
    "XGBdata.feature = XGBdata.feature.apply(lambda x: x.strip('f'))\n",
    "XGBdata.feature = XGBdata.feature.apply(lambda x: XData.columns[int(x)])"
   ]
  },
  {
   "cell_type": "code",
   "execution_count": 319,
   "metadata": {},
   "outputs": [
    {
     "data": {
      "image/png": "[encoded data removed]",
      "text/plain": [
       "<Figure size 720x576 with 1 Axes>"
      ]
     },
     "metadata": {
      "needs_background": "light"
     },
     "output_type": "display_data"
    }
   ],
   "source": [
    "plt.figure(figsize=(10,8))\n",
    "sns.barplot(x=XGBdata.feature, y=XGBdata.score,palette=\"deep\")\n",
    "plt.xticks(rotation=90,size=20)\n",
    "plt.show()"
   ]
  },
  {
   "cell_type": "markdown",
   "metadata": {},
   "source": [
    "#### By WEIGHT"
   ]
  },
  {
   "cell_type": "code",
   "execution_count": 314,
   "metadata": {},
   "outputs": [],
   "source": [
    "feature_importance1 = XGB.get_booster().get_score(importance_type='weight')"
   ]
  },
  {
   "cell_type": "code",
   "execution_count": 315,
   "metadata": {},
   "outputs": [],
   "source": [
    "XGBkeys1 = list(feature_importance1.keys())\n",
    "XGBvalues1 = list(feature_importance1.values())"
   ]
  },
  {
   "cell_type": "code",
   "execution_count": 316,
   "metadata": {},
   "outputs": [],
   "source": [
    "XGBdata1 = pd.DataFrame(data=XGBvalues1, index=XGBkeys1, columns=[\"score\"]).sort_values(by = \"score\", ascending=False)\n",
    "XGBdata1 = XGBdata1.reset_index()\n",
    "XGBdata1 = XGBdata1.rename(columns={'index':'feature'})\n",
    "XGBdata1.feature = XGBdata1.feature.apply(lambda x: x.strip('f'))\n",
    "XGBdata1.feature = XGBdata1.feature.apply(lambda x: XData.columns[int(x)])"
   ]
  },
  {
   "cell_type": "code",
   "execution_count": 318,
   "metadata": {},
   "outputs": [
    {
     "data": {
      "image/png": "[encoded data removed]",
      "text/plain": [
       "<Figure size 720x576 with 1 Axes>"
      ]
     },
     "metadata": {
      "needs_background": "light"
     },
     "output_type": "display_data"
    }
   ],
   "source": [
    "plt.figure(figsize=(10,8))\n",
    "sns.barplot(x=XGBdata1.feature, y=XGBdata1.score,palette=\"deep\")\n",
    "plt.xticks(rotation=90,size=20)\n",
    "plt.show()"
   ]
  },
  {
   "cell_type": "markdown",
   "metadata": {},
   "source": [
    "## Condensing Features based on Above 4 Results"
   ]
  },
  {
   "cell_type": "code",
   "execution_count": 15,
   "metadata": {},
   "outputs": [
    {
     "data": {
      "text/plain": [
       "Index([      'TotalEventsInSession',            'interactionTime',\n",
       "            '#TimesCartedinSession',      '#TimesViewedinSession',\n",
       "                         'maxPrice',                   'minPrice',\n",
       "            'AvgAmtCartedInSession',      'AvgAmtViewedInSession',\n",
       "           '#BrandsCartedInSession',     '#BrandsViewedInSession',\n",
       "       '#CategoriesCartedInSession', '#CategoriesViewedInSession',\n",
       "             'OverallAmtUserCarted',       'OverallAmtUserViewed',\n",
       "            '#ProdsCartedInSession',      '#ProdsViewedInSession',\n",
       "                               'Fr',                        'Mon',\n",
       "                              'Sat',                        'Sun',\n",
       "                              'Thu',                        'Tue',\n",
       "                              'Wed',                         2019,\n",
       "                              'Nov',                        'Oct',\n",
       "                              'Sep',                  'Afternoon',\n",
       "                             'Dawn',               'EarlyMorning',\n",
       "                          'Evening',                    'Morning',\n",
       "                            'Night',                       'Noon',\n",
       "                          'Weekend'],\n",
       "      dtype='object')"
      ]
     },
     "execution_count": 15,
     "metadata": {},
     "output_type": "execute_result"
    }
   ],
   "source": [
    "XData.columns"
   ]
  },
  {
   "cell_type": "markdown",
   "metadata": {},
   "source": [
    "Important Features found in common are:\n",
    "1. "
   ]
  },
  {
   "cell_type": "markdown",
   "metadata": {},
   "source": [
    "# SMOTE"
   ]
  },
  {
   "cell_type": "code",
   "execution_count": 11,
   "metadata": {},
   "outputs": [],
   "source": [
    "from imblearn.over_sampling import SMOTE"
   ]
  },
  {
   "cell_type": "code",
   "execution_count": 12,
   "metadata": {},
   "outputs": [
    {
     "name": "stdout",
     "output_type": "stream",
     "text": [
      "Counter({0: 13074925, 1: 978055})\n"
     ]
    }
   ],
   "source": [
    "collections.Counter(YData)"
   ]
  },
  {
   "cell_type": "code",
   "execution_count": 13,
   "metadata": {},
   "outputs": [],
   "source": [
    "oversample = SMOTE()"
   ]
  },
  {
   "cell_type": "code",
   "execution_count": 14,
   "metadata": {},
   "outputs": [],
   "source": [
    "X, Y = oversample.fit_resample(XData, YData)"
   ]
  },
  {
   "cell_type": "markdown",
   "metadata": {},
   "source": [
    "Plotting before and after SMOTE"
   ]
  },
  {
   "cell_type": "code",
   "execution_count": 30,
   "metadata": {},
   "outputs": [
    {
     "name": "stdout",
     "output_type": "stream",
     "text": [
      "Counter({0: 13074925, 1: 978055})\n"
     ]
    }
   ],
   "source": [
    "counter = Counter(YData)"
   ]
  },
  {
   "cell_type": "code",
   "execution_count": 31,
   "metadata": {},
   "outputs": [
    {
     "name": "stdout",
     "output_type": "stream",
     "text": [
      "Counter({0: 13074925, 1: 13074925})\n"
     ]
    }
   ],
   "source": [
    "Counter(Y)"
   ]
  },
  {
   "cell_type": "markdown",
   "metadata": {},
   "source": [
    "Saving SMOTE XData and YData to pickle"
   ]
  },
  {
   "cell_type": "code",
   "execution_count": 25,
   "metadata": {},
   "outputs": [],
   "source": [
    "# X.to_pickle(\"XDataSMOTE.pkl\")\n",
    "# Y.to_pickle(\"YDataSMOTE.pkl\")"
   ]
  },
  {
   "cell_type": "code",
   "execution_count": null,
   "metadata": {},
   "outputs": [],
   "source": [
    "X = pd.read_pickle(\"XDataSMOTE.pkl\")\n",
    "Y = pd.read_pickle(\"YDataSMOTE.pkl\")"
   ]
  },
  {
   "cell_type": "markdown",
   "metadata": {},
   "source": [
    "### FEATURE RELEVANCE AFTER SMOTE"
   ]
  },
  {
   "cell_type": "code",
   "execution_count": 32,
   "metadata": {},
   "outputs": [],
   "source": [
    "pca = PCA(n_components=2)\n",
    "principalComponents = pca.fit_transform(X)\n",
    "principalDf = pd.DataFrame(data = principalComponents, columns = ['principal component 1', 'principal component 2'])\n",
    "pcaDF = pd.concat([principalDf, Y], axis = 1)"
   ]
  },
  {
   "cell_type": "code",
   "execution_count": 33,
   "metadata": {},
   "outputs": [
    {
     "data": {
      "image/png": "[encoded data removed]",
      "text/plain": [
       "<Figure size 576x576 with 1 Axes>"
      ]
     },
     "metadata": {
      "needs_background": "light"
     },
     "output_type": "display_data"
    }
   ],
   "source": [
    "fig = plt.figure(figsize = (8,8))\n",
    "ax = fig.add_subplot(1,1,1) \n",
    "ax.set_xlabel('Principal Component 1', fontsize = 15)\n",
    "ax.set_ylabel('Principal Component 2', fontsize = 15)\n",
    "ax.set_title('2 component PCA', fontsize = 20)\n",
    "targets = [1,0]\n",
    "colors = ['r', 'g']\n",
    "\n",
    "for T, C in zip(targets,colors):\n",
    "    indicesToKeep = pcaDF['Purchase'] == T\n",
    "    ax.scatter(pcaDF.loc[indicesToKeep, 'principal component 1'], pcaDF.loc[indicesToKeep, 'principal component 2'], c = C, s = 50)\n",
    "\n",
    "ax.legend(targets)\n",
    "ax.grid()\n",
    "plt.show()"
   ]
  },
  {
   "cell_type": "markdown",
   "metadata": {},
   "source": [
    "# BASELINING - USING KNN - WITHOUT SMOTE"
   ]
  },
  {
   "cell_type": "code",
   "execution_count": 28,
   "metadata": {},
   "outputs": [],
   "source": [
    "pca = PCA(.95)"
   ]
  },
  {
   "cell_type": "code",
   "execution_count": 35,
   "metadata": {},
   "outputs": [
    {
     "data": {
      "text/plain": [
       "PCA(n_components=0.95)"
      ]
     },
     "execution_count": 35,
     "metadata": {},
     "output_type": "execute_result"
    }
   ],
   "source": [
    "pca.fit(X_train)"
   ]
  },
  {
   "cell_type": "code",
   "execution_count": 36,
   "metadata": {},
   "outputs": [],
   "source": [
    "X_train = pca.transform(X_train)\n",
    "X_test = pca.transform(X_test)"
   ]
  },
  {
   "cell_type": "code",
   "execution_count": 39,
   "metadata": {},
   "outputs": [],
   "source": [
    "KNN = KNeighborsClassifier(n_neighbors = 4)"
   ]
  },
  {
   "cell_type": "code",
   "execution_count": 41,
   "metadata": {},
   "outputs": [],
   "source": [
    "y_pred = cross_val_predict(KNN, X_train, y_train, cv=5)"
   ]
  },
  {
   "cell_type": "code",
   "execution_count": 42,
   "metadata": {},
   "outputs": [
    {
     "name": "stdout",
     "output_type": "stream",
     "text": [
      "0.9303563194425666\n"
     ]
    }
   ],
   "source": [
    "print(metrics.accuracy_score(y_train, y_pred))"
   ]
  },
  {
   "cell_type": "code",
   "execution_count": 43,
   "metadata": {},
   "outputs": [
    {
     "data": {
      "text/plain": [
       "KNeighborsClassifier(n_neighbors=4)"
      ]
     },
     "execution_count": 43,
     "metadata": {},
     "output_type": "execute_result"
    }
   ],
   "source": [
    "KNN.fit(X_train, y_train)"
   ]
  },
  {
   "cell_type": "code",
   "execution_count": 44,
   "metadata": {},
   "outputs": [],
   "source": [
    "y_predFinal = KNN.predict(X_test)"
   ]
  },
  {
   "cell_type": "code",
   "execution_count": 45,
   "metadata": {},
   "outputs": [
    {
     "name": "stdout",
     "output_type": "stream",
     "text": [
      "0.9305759347839391\n"
     ]
    }
   ],
   "source": [
    "print(metrics.accuracy_score(y_test, y_predFinal))"
   ]
  },
  {
   "cell_type": "code",
   "execution_count": 46,
   "metadata": {},
   "outputs": [
    {
     "data": {
      "text/plain": [
       "array([[2581928,   32985],\n",
       "       [ 162138,   33545]])"
      ]
     },
     "execution_count": 46,
     "metadata": {},
     "output_type": "execute_result"
    }
   ],
   "source": [
    "cnf_matrix = confusion_matrix(y_test, y_predFinal)\n",
    "cnf_matrix"
   ]
  },
  {
   "cell_type": "code",
   "execution_count": 47,
   "metadata": {
    "scrolled": true
   },
   "outputs": [
    {
     "data": {
      "text/plain": [
       "Text(0.5, 3.5, 'Predicted label')"
      ]
     },
     "execution_count": 47,
     "metadata": {},
     "output_type": "execute_result"
    },
    {
     "data": {
      "image/png": "[encoded data removed]",
      "text/plain": [
       "<Figure size 432x288 with 2 Axes>"
      ]
     },
     "metadata": {
      "needs_background": "light"
     },
     "output_type": "display_data"
    }
   ],
   "source": [
    "# name  of classes\n",
    "class_names=[0,1] \n",
    "fig, ax = plt.subplots()\n",
    "tick_marks = np.arange(len(class_names))\n",
    "plt.xticks(tick_marks, class_names,size=20)\n",
    "plt.yticks(tick_marks, class_names,size=20)\n",
    "\n",
    "# create heatmap\n",
    "sns.heatmap(pd.DataFrame(cnf_matrix), annot=True, cmap=\"Blues\" ,fmt='g')\n",
    "ax.xaxis.set_label_position(\"bottom\")\n",
    "plt.tight_layout()\n",
    "plt.title('Confusion matrix',size = 20)\n",
    "plt.ylabel('Actual label',size = 20)\n",
    "plt.xlabel('Predicted label',size = 20)"
   ]
  },
  {
   "cell_type": "code",
   "execution_count": 48,
   "metadata": {},
   "outputs": [
    {
     "name": "stdout",
     "output_type": "stream",
     "text": [
      "Accuracy: 0.9305759347839391\n",
      "Precision: 0.5042086276867579\n",
      "Recall: 0.17142521322751594\n"
     ]
    }
   ],
   "source": [
    "print(\"Accuracy:\",metrics.accuracy_score(y_test, y_predFinal))\n",
    "print(\"Precision:\",metrics.precision_score(y_test, y_predFinal))\n",
    "print(\"Recall:\",metrics.recall_score(y_test, y_predFinal))"
   ]
  },
  {
   "cell_type": "markdown",
   "metadata": {},
   "source": [
    "# BASELINING - USING KNN - WITH SMOTE"
   ]
  },
  {
   "cell_type": "markdown",
   "metadata": {},
   "source": [
    "X and Y are the balanced/SMOTED XData and YData\n",
    "Splitting them in test and train"
   ]
  },
  {
   "cell_type": "code",
   "execution_count": 22,
   "metadata": {},
   "outputs": [],
   "source": [
    "trainX, testX, trainY, testY = train_test_split(X,Y,test_size=0.2,random_state=42)"
   ]
  },
  {
   "cell_type": "code",
   "execution_count": 26,
   "metadata": {},
   "outputs": [],
   "source": [
    "MMscaler = MinMaxScaler()\n",
    "trainX = MMscaler.fit_transform(trainX)\n",
    "testX = MMscaler.transform(testX)"
   ]
  },
  {
   "cell_type": "code",
   "execution_count": 29,
   "metadata": {},
   "outputs": [
    {
     "data": {
      "text/plain": [
       "PCA(n_components=0.95)"
      ]
     },
     "execution_count": 29,
     "metadata": {},
     "output_type": "execute_result"
    }
   ],
   "source": [
    "pca.fit(trainX)"
   ]
  },
  {
   "cell_type": "code",
   "execution_count": 30,
   "metadata": {},
   "outputs": [],
   "source": [
    "trainX = pca.transform(trainX)\n",
    "testX = pca.transform(testX)"
   ]
  },
  {
   "cell_type": "markdown",
   "metadata": {},
   "source": [
    "### SAVING SMOTED TRAIN AND TEST DATA"
   ]
  },
  {
   "cell_type": "code",
   "execution_count": 32,
   "metadata": {},
   "outputs": [],
   "source": [
    "# np.save('trainX.npy', trainX)\n",
    "# np.save('testX.npy', testX)\n",
    "# np.save('trainY.npy', trainY)\n",
    "# np.save('testY.npy', testY)"
   ]
  },
  {
   "cell_type": "code",
   "execution_count": null,
   "metadata": {},
   "outputs": [],
   "source": [
    "np.load('trainX.npy')\n",
    "np.load('testX.npy')\n",
    "np.load('trainY.npy')\n",
    "np.load('testY.npy')"
   ]
  },
  {
   "cell_type": "code",
   "execution_count": 31,
   "metadata": {},
   "outputs": [],
   "source": [
    "KNN = KNeighborsClassifier(n_neighbors = 4)"
   ]
  },
  {
   "cell_type": "code",
   "execution_count": 33,
   "metadata": {},
   "outputs": [],
   "source": [
    "predY = cross_val_predict(KNN, trainX, trainY, cv=5)"
   ]
  },
  {
   "cell_type": "code",
   "execution_count": 34,
   "metadata": {},
   "outputs": [
    {
     "name": "stdout",
     "output_type": "stream",
     "text": [
      "0.9576671089891529\n"
     ]
    }
   ],
   "source": [
    "print(metrics.accuracy_score(trainY, predY))"
   ]
  },
  {
   "cell_type": "code",
   "execution_count": 35,
   "metadata": {},
   "outputs": [
    {
     "data": {
      "text/plain": [
       "KNeighborsClassifier(n_neighbors=4)"
      ]
     },
     "execution_count": 35,
     "metadata": {},
     "output_type": "execute_result"
    }
   ],
   "source": [
    "KNN.fit(trainX, trainY)"
   ]
  },
  {
   "cell_type": "code",
   "execution_count": 36,
   "metadata": {},
   "outputs": [],
   "source": [
    "predFinalY = KNN.predict(testX)"
   ]
  },
  {
   "cell_type": "code",
   "execution_count": 37,
   "metadata": {},
   "outputs": [
    {
     "name": "stdout",
     "output_type": "stream",
     "text": [
      "0.9582280586695526\n"
     ]
    }
   ],
   "source": [
    "print(metrics.accuracy_score(testY, predFinalY))"
   ]
  },
  {
   "cell_type": "code",
   "execution_count": 38,
   "metadata": {},
   "outputs": [
    {
     "data": {
      "text/plain": [
       "array([[2561428,   52441],\n",
       "       [ 166025, 2450076]])"
      ]
     },
     "execution_count": 38,
     "metadata": {},
     "output_type": "execute_result"
    }
   ],
   "source": [
    "cnf_matrix_SMOTE = confusion_matrix(testY, predFinalY)\n",
    "cnf_matrix_SMOTE"
   ]
  },
  {
   "cell_type": "code",
   "execution_count": 39,
   "metadata": {},
   "outputs": [
    {
     "name": "stdout",
     "output_type": "stream",
     "text": [
      "Accuracy: 0.9582280586695526\n",
      "Precision: 0.9790446977982568\n",
      "Recall: 0.9365372361388188\n"
     ]
    }
   ],
   "source": [
    "print(\"Accuracy:\",metrics.accuracy_score(testY, predFinalY))\n",
    "print(\"Precision:\",metrics.precision_score(testY, predFinalY))\n",
    "print(\"Recall:\",metrics.recall_score(testY, predFinalY))"
   ]
  },
  {
   "cell_type": "code",
   "execution_count": 40,
   "metadata": {},
   "outputs": [
    {
     "data": {
      "text/plain": [
       "Text(0.5, 3.5, 'Predicted label SMOTE')"
      ]
     },
     "execution_count": 40,
     "metadata": {},
     "output_type": "execute_result"
    },
    {
     "data": {
      "image/png": "[encoded data removed]",
      "text/plain": [
       "<Figure size 432x288 with 2 Axes>"
      ]
     },
     "metadata": {
      "needs_background": "light"
     },
     "output_type": "display_data"
    }
   ],
   "source": [
    "# name  of classes\n",
    "class_names=[0,1] \n",
    "fig, ax = plt.subplots()\n",
    "tick_marks = np.arange(len(class_names))\n",
    "plt.xticks(tick_marks, class_names,size=20)\n",
    "plt.yticks(tick_marks, class_names,size=20)\n",
    "\n",
    "# create heatmap\n",
    "sns.heatmap(pd.DataFrame(cnf_matrix_SMOTE), annot=True, cmap=\"Blues\" ,fmt='g')\n",
    "ax.xaxis.set_label_position(\"bottom\")\n",
    "plt.tight_layout()\n",
    "plt.title('Confusion matrix SMOTE',size = 20)\n",
    "plt.ylabel('Actual label SMOTE ',size = 20)\n",
    "plt.xlabel('Predicted label SMOTE',size = 20)"
   ]
  },
  {
   "cell_type": "code",
   "execution_count": null,
   "metadata": {},
   "outputs": [],
   "source": []
  }
 ],
 "metadata": {
  "kernelspec": {
   "display_name": "Python 3",
   "language": "python",
   "name": "python3"
  },
  "language_info": {
   "codemirror_mode": {
    "name": "ipython",
    "version": 3
   },
   "file_extension": ".py",
   "mimetype": "text/x-python",
   "name": "python",
   "nbconvert_exporter": "python",
   "pygments_lexer": "ipython3",
   "version": "3.7.4"
  }
 },
 "nbformat": 4,
 "nbformat_minor": 2
}
