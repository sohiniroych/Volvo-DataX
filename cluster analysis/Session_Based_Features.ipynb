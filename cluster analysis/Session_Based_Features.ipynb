{
 "cells": [
  {
   "cell_type": "markdown",
   "metadata": {},
   "source": [
    "**READ ME:**\n",
    "\n",
    "    1. CELLS IN THIS NOTEBOOK ARE INTENDED TO BE USED DEPENDING ON THE DATASET (Cosmetics/Electronics)\n",
    "    2. PLEASE READ THE COMMENTS ABOVE EVERY CELL BEFORE EXECUTING/COMPILING THE CODE\n",
    "    3. THIS NOTEBOOK DOES THE FOLLOWING -\n",
    "    \n",
    "       SECTION 0: SET UP THE NOTEBOOK\n",
    "       SECTION 1: CLEAN AND PROCESS THE DATA\n",
    "       SECTION 2: CREATE FEATURES BASED ON USER SESSIONS i.e. A USER'S MULTIPLE INTERACTIONS IN A GIVEN SESSION\n",
    "       SECTION 3: SPLITTING DATA INTO TRAIN AND TEST\n",
    "       SECTION 4: FEATURE RANKING\n",
    "       SECTION 5: BALANCE THE DATA USING SMOTE\n",
    "       SECTION 6: BASELINING\n",
    "       SECTION 7: CREATING SAMPLES - NON STRATIFIED\n",
    "       SECTION 8: CREATING SAMPLES - STRATIFIED\n",
    "       SECTION 9: T-SNE\n",
    "       SECTION 10: CLUSTERING"
   ]
  },
  {
   "cell_type": "markdown",
   "metadata": {
    "colab_type": "text",
    "id": "bT8i5xunlOfP"
   },
   "source": [
    "# 0. ***`SETUP`***"
   ]
  },
  {
   "cell_type": "markdown",
   "metadata": {
    "colab_type": "text",
    "id": "ECsPJGRZnQA0"
   },
   "source": [
    "## i. SETTING UP NOTEBOOK"
   ]
  },
  {
   "cell_type": "code",
   "execution_count": null,
   "metadata": {
    "colab": {},
    "colab_type": "code",
    "id": "W68czuoNmeJV"
   },
   "outputs": [],
   "source": [
    "## This Cell is Only for Usage in a Google CoLab Environment\n",
    "from google.colab import drive"
   ]
  },
  {
   "cell_type": "code",
   "execution_count": null,
   "metadata": {
    "colab": {
     "base_uri": "https://localhost:8080/",
     "height": 145
    },
    "colab_type": "code",
    "id": "JAUf_gk7mje-",
    "outputId": "9a44df68-c727-45d6-af1e-f455dcc488ae"
   },
   "outputs": [],
   "source": [
    "## This Cell is Only for Usage in a Google CoLab Environment\n",
    "ROOT = \"/content/drive\"\n",
    "print(ROOT)\n",
    "drive.mount(ROOT)"
   ]
  },
  {
   "cell_type": "code",
   "execution_count": null,
   "metadata": {
    "colab": {
     "base_uri": "https://localhost:8080/",
     "height": 35
    },
    "colab_type": "code",
    "id": "DNFKjkKLmtkI",
    "outputId": "e32feef5-00e4-4f87-8a2b-3511da579dc4"
   },
   "outputs": [],
   "source": [
    "## This Cell is Only for Usage in a Google CoLab Environment\n",
    "%pwd\n",
    "%cd drive/My Drive/Colab Notebooks/Feature Engineering"
   ]
  },
  {
   "cell_type": "markdown",
   "metadata": {
    "colab_type": "text",
    "id": "6biIT_-vmIJ1"
   },
   "source": [
    "## ii. Pre-Processing : Library and Data file import"
   ]
  },
  {
   "cell_type": "markdown",
   "metadata": {},
   "source": [
    "### Libray Imports"
   ]
  },
  {
   "cell_type": "code",
   "execution_count": 1,
   "metadata": {
    "colab": {},
    "colab_type": "code",
    "id": "Dtw5MpD3mIJ7"
   },
   "outputs": [],
   "source": [
    "import warnings\n",
    "warnings.filterwarnings(\"ignore\")"
   ]
  },
  {
   "cell_type": "code",
   "execution_count": 2,
   "metadata": {
    "colab": {},
    "colab_type": "code",
    "id": "PHcwVvyZmIJ2"
   },
   "outputs": [],
   "source": [
    "import pandas as pd\n",
    "import numpy as np\n",
    "import seaborn as sns #visualisation\n",
    "import matplotlib.pyplot as plt #visualisation\n",
    "%matplotlib inline \n",
    "sns.set(color_codes=True)\n",
    "pd.set_option('display.max_columns', 999)"
   ]
  },
  {
   "cell_type": "code",
   "execution_count": 3,
   "metadata": {
    "colab": {},
    "colab_type": "code",
    "id": "yE6GQoTRmIJ5"
   },
   "outputs": [],
   "source": [
    "from sklearn.ensemble.forest import RandomForestClassifier\n",
    "from sklearn.feature_selection import SelectFromModel\n",
    "from sklearn.model_selection import train_test_split\n",
    "from sklearn.linear_model import Lasso, LogisticRegression\n",
    "from sklearn.preprocessing import StandardScaler\n",
    "from sklearn.preprocessing import MinMaxScaler\n",
    "from sklearn import metrics\n",
    "from sklearn.model_selection import cross_validate\n",
    "from sklearn.model_selection import cross_val_score\n",
    "from sklearn.model_selection import cross_val_predict\n",
    "from sklearn.decomposition import PCA\n",
    "from sklearn.neighbors import KNeighborsClassifier\n",
    "from sklearn.metrics import confusion_matrix\n",
    "from sklearn.neighbors import NearestNeighbors\n",
    "from sklearn.cluster import DBSCAN\n",
    "import gc\n",
    "import time"
   ]
  },
  {
   "cell_type": "code",
   "execution_count": 4,
   "metadata": {
    "colab": {
     "base_uri": "https://localhost:8080/",
     "height": 35
    },
    "colab_type": "code",
    "id": "_eEF1ooX4DSf",
    "outputId": "d0798c2a-efac-44f9-ea7d-cc532dfcc1c9"
   },
   "outputs": [
    {
     "name": "stdout",
     "output_type": "stream",
     "text": [
      "0.7.0\n"
     ]
    }
   ],
   "source": [
    "import imblearn\n",
    "import collections\n",
    "from collections import Counter\n",
    "from imblearn.over_sampling import SMOTE\n",
    "from sklearn.datasets import make_classification\n",
    "from matplotlib import pyplot\n",
    "from numpy import where\n",
    "print(imblearn.__version__)"
   ]
  },
  {
   "cell_type": "code",
   "execution_count": 5,
   "metadata": {
    "colab": {},
    "colab_type": "code",
    "id": "2yFRtzhmrTpb"
   },
   "outputs": [],
   "source": [
    "from sklearn.utils import shuffle\n",
    "from sklearn.manifold import TSNE"
   ]
  },
  {
   "cell_type": "markdown",
   "metadata": {},
   "source": [
    "### Data Imports"
   ]
  },
  {
   "cell_type": "markdown",
   "metadata": {},
   "source": [
    "Original CSV download"
   ]
  },
  {
   "cell_type": "code",
   "execution_count": null,
   "metadata": {},
   "outputs": [],
   "source": [
    "## Run this cell for COSMETICS data\n",
    "#shoppers = pd.read_csv(\"cosmetics.csv\")"
   ]
  },
  {
   "cell_type": "code",
   "execution_count": null,
   "metadata": {},
   "outputs": [],
   "source": [
    "## Run this cell for ELECTRONICS data\n",
    "#shoppers = pd.read_csv(\"electronics.csv\")"
   ]
  },
  {
   "cell_type": "markdown",
   "metadata": {},
   "source": [
    "### Quick File Imports Below \n",
    "\n",
    "Run the cells below if you want to download already processed/compiled data files and skip the Feature Engineering Sections"
   ]
  },
  {
   "cell_type": "markdown",
   "metadata": {},
   "source": [
    "Cleaned/Formatted DataFrame download"
   ]
  },
  {
   "cell_type": "code",
   "execution_count": null,
   "metadata": {
    "colab": {},
    "colab_type": "code",
    "id": "5OsUQ78lmIKA"
   },
   "outputs": [],
   "source": [
    "#Run this cell for Cosmetics Data ONLY\n",
    "df = pd.read_pickle(\"dfCosmetics.pkl\")"
   ]
  },
  {
   "cell_type": "code",
   "execution_count": null,
   "metadata": {},
   "outputs": [],
   "source": [
    "df.info()"
   ]
  },
  {
   "cell_type": "code",
   "execution_count": null,
   "metadata": {},
   "outputs": [],
   "source": [
    "df.isnull().sum()"
   ]
  },
  {
   "cell_type": "code",
   "execution_count": null,
   "metadata": {},
   "outputs": [],
   "source": [
    "#Run this cell for Electronics Data ONLY\n",
    "df = pd.read_pickle(\"dfELEC.pkl\")"
   ]
  },
  {
   "cell_type": "markdown",
   "metadata": {
    "colab_type": "text",
    "id": "MtC2opcbzd-l"
   },
   "source": [
    "Unbalanced Features DataFrame Import"
   ]
  },
  {
   "cell_type": "code",
   "execution_count": null,
   "metadata": {
    "colab": {},
    "colab_type": "code",
    "id": "knTw0SwqmIKC"
   },
   "outputs": [],
   "source": [
    "#Run this cell for COSMETICS Data ONLY\n",
    "FeaturesDF = pd.read_pickle(\"FeaturesDFCosmetics.pkl\")"
   ]
  },
  {
   "cell_type": "code",
   "execution_count": null,
   "metadata": {},
   "outputs": [],
   "source": [
    "#Run this cell for ELECTRONICS Data ONLY\n",
    "FeaturesDF = pd.read_pickle(\"FeaturesDF.pkl\")"
   ]
  },
  {
   "cell_type": "code",
   "execution_count": null,
   "metadata": {
    "colab": {},
    "colab_type": "code",
    "id": "KsUV6ct2zPoc"
   },
   "outputs": [],
   "source": [
    "XData = FeaturesDF.iloc[:,:-1]\n",
    "YData = FeaturesDF.iloc[:,-1]"
   ]
  },
  {
   "cell_type": "markdown",
   "metadata": {
    "colab_type": "text",
    "id": "gRuRzNY7uyzq"
   },
   "source": [
    "## iii. CHECK RAM"
   ]
  },
  {
   "cell_type": "code",
   "execution_count": null,
   "metadata": {
    "colab": {
     "base_uri": "https://localhost:8080/",
     "height": 53
    },
    "colab_type": "code",
    "id": "RbXisP5dpZ5C",
    "outputId": "6026fc2d-6204-4088-d3d0-b0472daff7eb"
   },
   "outputs": [],
   "source": [
    "#FINDING RAM\n",
    "from psutil import virtual_memory\n",
    "ram_gb = virtual_memory().total / 1e9\n",
    "print('Your runtime has {:.1f} gigabytes of available RAM\\n'.format(ram_gb))"
   ]
  },
  {
   "cell_type": "code",
   "execution_count": null,
   "metadata": {
    "colab": {
     "base_uri": "https://localhost:8080/",
     "height": 35
    },
    "colab_type": "code",
    "id": "pT4rAW_s4KHB",
    "outputId": "eb735836-8bf0-4406-fb86-07c662f8e373"
   },
   "outputs": [],
   "source": [
    "gc.collect()"
   ]
  },
  {
   "cell_type": "markdown",
   "metadata": {
    "colab_type": "text",
    "id": "CoXcbqFvXG85"
   },
   "source": [
    "#    \n",
    "************************************************\n",
    "************************************************"
   ]
  },
  {
   "cell_type": "markdown",
   "metadata": {
    "colab_type": "text",
    "id": "p5QCUXDPmIKE"
   },
   "source": [
    "# 1. ***`PROCESSING DATA`***\n",
    "Jump to Section 3 if you have imported FeaturesDF files"
   ]
  },
  {
   "cell_type": "code",
   "execution_count": null,
   "metadata": {
    "colab": {},
    "colab_type": "code",
    "id": "vxILTpL7mIKF"
   },
   "outputs": [],
   "source": [
    "#Run this cell for COSMETICS Data ONLY\n",
    "df = shoppers.copy()"
   ]
  },
  {
   "cell_type": "code",
   "execution_count": null,
   "metadata": {},
   "outputs": [],
   "source": [
    "#Run this cell for ELECTRONICS Data ONLY\n",
    "df = electronics.copy()"
   ]
  },
  {
   "cell_type": "code",
   "execution_count": null,
   "metadata": {
    "colab": {},
    "colab_type": "code",
    "id": "vxILTpL7mIKF"
   },
   "outputs": [],
   "source": [
    "# Run this cell for COSMETICS data ONLY\n",
    "\n",
    "df.drop('category_code',axis=1,inplace=True)\n",
    "df.drop('brand',axis=1,inplace=True)"
   ]
  },
  {
   "cell_type": "code",
   "execution_count": null,
   "metadata": {},
   "outputs": [],
   "source": [
    "# Run this cell for ELECTRONICS data ONLY\n",
    "\n",
    "df.drop('category_id',axis=1,inplace=True)"
   ]
  },
  {
   "cell_type": "code",
   "execution_count": null,
   "metadata": {},
   "outputs": [],
   "source": [
    "#Dropping rows which have headers in them\n",
    "headerIndices = df[df['event_time']=='event_time'].index\n",
    "df.drop(headerIndices,inplace=True)"
   ]
  },
  {
   "cell_type": "markdown",
   "metadata": {},
   "source": [
    "**Formatting Date Time Column**"
   ]
  },
  {
   "cell_type": "code",
   "execution_count": null,
   "metadata": {},
   "outputs": [],
   "source": [
    "df['event_time'] = pd.to_datetime(df['event_time'],format = '%Y-%m-%d %H:%M:%S %Z')"
   ]
  },
  {
   "cell_type": "code",
   "execution_count": null,
   "metadata": {
    "colab": {},
    "colab_type": "code",
    "id": "df8YiQSgmIKJ"
   },
   "outputs": [],
   "source": [
    "#Year\n",
    "df['year'] = (df['event_time']).dt.year"
   ]
  },
  {
   "cell_type": "code",
   "execution_count": null,
   "metadata": {
    "colab": {},
    "colab_type": "code",
    "id": "df8YiQSgmIKJ"
   },
   "outputs": [],
   "source": [
    "#Month\n",
    "df['month'] = (df['event_time']).dt.month\n",
    "MM = {1:'Jan', 2:'Feb', 3:'Mar', 4:'Apr', 5:'May', 6:'Jun', 7:'Jul', 8:'Aug', 9:'Sep', 10:'Oct', 11:'Nov', 12:'Dec'}\n",
    "df['month'] = df['month'].map(MM)"
   ]
  },
  {
   "cell_type": "code",
   "execution_count": null,
   "metadata": {
    "colab": {},
    "colab_type": "code",
    "id": "df8YiQSgmIKJ"
   },
   "outputs": [],
   "source": [
    "# Phase of day\n",
    "df['hour'] = (df['event_time']).dt.hour\n",
    "timeOfDay={0:'Dawn',1:'Dawn',2:'Dawn',3:'Dawn',4:'Dawn',5:'EarlyMorning',6:'EarlyMorning',7:'EarlyMorning',8:'EarlyMorning', 9:'Morning',10:'Morning',11:'Morning', 12:'Noon', 13:'Afternoon',14:'Afternoon',15:'Afternoon',16:'Afternoon', 17:'Evening',18:'Evening',19:'Evening',20:'Evening', 21:'Night',22:'Night',23:'Night', 24:'Midnight'}\n",
    "df['timeOfDay'] = df['hour'].map(timeOfDay)"
   ]
  },
  {
   "cell_type": "code",
   "execution_count": null,
   "metadata": {
    "colab": {},
    "colab_type": "code",
    "id": "jPlqUhM8mIKL"
   },
   "outputs": [],
   "source": [
    "# Weekday\n",
    "dayOfWeek={0:'Mon', 1:'Tue', 2:'Wed', 3:'Thu', 4:'Fr', 5:'Sat', 6:'Sun'}\n",
    "df['weekday'] = (df['event_time']).dt.weekday.map(dayOfWeek)"
   ]
  },
  {
   "cell_type": "code",
   "execution_count": null,
   "metadata": {
    "colab": {},
    "colab_type": "code",
    "id": "58RtRAExmIKR"
   },
   "outputs": [],
   "source": [
    "# Is Weekend?\n",
    "df['Weekend']= df.weekday.apply(lambda x : 1 if x in ['Sunday','Saturday'] else 0)"
   ]
  },
  {
   "cell_type": "markdown",
   "metadata": {},
   "source": [
    "**Formatting Other Column Types**"
   ]
  },
  {
   "cell_type": "code",
   "execution_count": null,
   "metadata": {},
   "outputs": [],
   "source": [
    "df['price']= pd.to_numeric(df['price'])\n",
    "df['year']= pd.to_numeric(df['year'])\n",
    "df['hour']= pd.to_numeric(df['hour'])\n",
    "df['Weekend']= pd.to_numeric(df['Weekend'])"
   ]
  },
  {
   "cell_type": "code",
   "execution_count": null,
   "metadata": {},
   "outputs": [],
   "source": [
    "df['event_type'] = df['event_type'].astype(str)\n",
    "df['product_id'] = df['product_id'].astype(str)\n",
    "df['category_id'] = df['category_id'].astype(str)\n",
    "df['product_id'] = df['product_id'].astype(str)\n",
    "df['user_id'] = df['user_id'].astype(str)\n",
    "df['user_session'] = df['user_session'].astype(str)\n",
    "df['month'] = df['month'].astype(str)\n",
    "df['weekday'] = df['weekday'].astype(str)\n",
    "df['timeOfDay'] = df['timeOfDay'].astype(str)"
   ]
  },
  {
   "cell_type": "code",
   "execution_count": null,
   "metadata": {
    "colab": {},
    "colab_type": "code",
    "id": "k7kar7gsmIKP"
   },
   "outputs": [],
   "source": [
    "df.head(3)"
   ]
  },
  {
   "cell_type": "markdown",
   "metadata": {
    "colab": {},
    "colab_type": "code",
    "id": "n49USLWlmIKZ"
   },
   "source": [
    "**SAVE TO PICKLE**"
   ]
  },
  {
   "cell_type": "code",
   "execution_count": null,
   "metadata": {
    "colab": {},
    "colab_type": "code",
    "id": "n49USLWlmIKZ"
   },
   "outputs": [],
   "source": [
    "## Run this cell only for COSMETICS Data ONLY to Save and Load Pickle Files\n",
    "\n",
    "#df.to_pickle(\"dfCosmetics.pkl\")\n",
    "#df = pd.read_pickle(\"dfCosmetics.pkl\")"
   ]
  },
  {
   "cell_type": "code",
   "execution_count": null,
   "metadata": {},
   "outputs": [],
   "source": [
    "## Run this cell only for ELECTRONICS Data ONLY to Save and Load Pickle Files\n",
    "\n",
    "#df.to_pickle(\"dfElec.pkl\")\n",
    "#df = pd.read_pickle(\"dfElec.pkl\")"
   ]
  },
  {
   "cell_type": "markdown",
   "metadata": {
    "colab_type": "text",
    "id": "PgdwarIvXXIj"
   },
   "source": [
    "#    \n",
    "************************************************\n",
    "************************************************"
   ]
  },
  {
   "cell_type": "markdown",
   "metadata": {
    "colab_type": "text",
    "id": "OBf57YhOmIKb"
   },
   "source": [
    "# 2. **`CREATING SESSION BASED FEATURES`**"
   ]
  },
  {
   "cell_type": "markdown",
   "metadata": {
    "colab_type": "text",
    "id": "1bLGe9EhosTZ"
   },
   "source": [
    "## Features to build:"
   ]
  },
  {
   "cell_type": "markdown",
   "metadata": {
    "colab_type": "text",
    "id": "T_PCzGr0mIKb"
   },
   "source": [
    "    Weekday(Sun/Mon/...) [One hot encoded]\n",
    "    Month [One hot encoded]\n",
    "    TimeOfDay(Morning/Evening/....) [One hot encoded]\n",
    "    Weekend\n",
    "    InteractionTime(Duration of Session in seconds)\n",
    "    \n",
    "    NumTotalEventsInSession()\n",
    "    NumViewEventsInSession\n",
    "    NumCartEventsInSession\n",
    "    NumRemoveEventsInSession --- Only for Cosmetics Data\n",
    "    \n",
    "    NumCategoriesViewedInSession\n",
    "    NumCategoriesCartedInSession\n",
    "    NumCategoriesRemovedInSession --- Only for Cosmetics Data\n",
    "    \n",
    "    NumBrandsViewedInSession --- Only for Electronics Data\n",
    "    NumBrandsCartedInSession --- Only for Electronics Data\n",
    "    \n",
    "    NumProductsViewedInSession\n",
    "    NumProductsCartedInSession\n",
    "    NumProductsRemovedInSession --- Only for Cosmetics Data\n",
    "    \n",
    "    AverageAmountViewedInSession\n",
    "    AverageAmountCartedInSession\n",
    "    AverageAmountRemovedInSession --- Only for Cosmetics Data\n",
    "    \n",
    "    OverallAmtUserCarted  (The max amount removed by user throughout)\n",
    "    OverallAmtUserViewed  (The max amount removed by user throughout)\n",
    "    OverallAmtUserRemoved (The max amount removed by user throughout) --- Only for Cosmetics Data"
   ]
  },
  {
   "cell_type": "markdown",
   "metadata": {},
   "source": [
    "**NOTE : THE ELECTRONICS DATASET HAS NO REMOVE FEATURE, SO USE BELOW SECTIONS ACCORDINGLY**\n",
    "\n",
    "1. **MODIFY COMMANDS TO NOT INCLUDE THE 'remove_from_cart' FEATURE when dealing with Electronics Data**"
   ]
  },
  {
   "cell_type": "markdown",
   "metadata": {
    "colab_type": "text",
    "id": "CrK1G_NrmIKb"
   },
   "source": [
    "## ADDING COLUMNS TO DF -  AMOUNT BY USER FOR DIFFERENT EVENTS"
   ]
  },
  {
   "cell_type": "code",
   "execution_count": null,
   "metadata": {
    "colab": {},
    "colab_type": "code",
    "id": "UheP--OmmIKc"
   },
   "outputs": [],
   "source": [
    "AmountbyUser = pd.pivot_table(df, index='user_id',columns='event_type',values='price',fill_value=0)"
   ]
  },
  {
   "cell_type": "code",
   "execution_count": null,
   "metadata": {
    "colab": {},
    "colab_type": "code",
    "id": "UheP--OmmIKc"
   },
   "outputs": [],
   "source": [
    "#FOR COSMETICS DATA ONLY\n",
    "\n",
    "AmountbyUser = AmountbyUser.rename(columns={'cart':'OverallAmtUserCarted','purchase':'OverallAmtUserPurchased',\n",
    "                                            'view':'OverallAmtUserViewed', 'remove_from_cart' : 'OverallAmtUserRemoved'})"
   ]
  },
  {
   "cell_type": "code",
   "execution_count": null,
   "metadata": {},
   "outputs": [],
   "source": [
    "#FOR ELECTRONICS DATA ONLY\n",
    "\n",
    "AmountbyUser = AmountbyUser.rename(columns={'cart':'OverallAmtUserCarted','purchase':'OverallAmtUserPurchased',\n",
    "                                            'view':'OverallAmtUserViewed'})"
   ]
  },
  {
   "cell_type": "code",
   "execution_count": null,
   "metadata": {
    "colab": {},
    "colab_type": "code",
    "id": "UheP--OmmIKc",
    "scrolled": true
   },
   "outputs": [],
   "source": [
    "df = pd.merge(df,AmountbyUser,on='user_id',how='outer')"
   ]
  },
  {
   "cell_type": "markdown",
   "metadata": {
    "colab_type": "text",
    "id": "j0O195PMmIKe"
   },
   "source": [
    "## GROUPING THE DATA\n",
    "\n",
    "by: 'user_session'\n"
   ]
  },
  {
   "cell_type": "code",
   "execution_count": null,
   "metadata": {
    "colab": {},
    "colab_type": "code",
    "id": "xuZmzgIymIKe"
   },
   "outputs": [],
   "source": [
    "GroupUS = df.sort_values('event_time').groupby(['user_session'])"
   ]
  },
  {
   "cell_type": "markdown",
   "metadata": {
    "colab_type": "text",
    "id": "pXWshG_GmIKg"
   },
   "source": [
    "## Total Number of Events/Interactions in Session"
   ]
  },
  {
   "cell_type": "code",
   "execution_count": null,
   "metadata": {
    "colab": {},
    "colab_type": "code",
    "id": "bAWH274KmIKg"
   },
   "outputs": [],
   "source": [
    "Features= GroupUS['event_type'].count().reset_index().rename(columns={'event_type':'TotalEventsInSession'})"
   ]
  },
  {
   "cell_type": "code",
   "execution_count": null,
   "metadata": {},
   "outputs": [],
   "source": [
    "Features = Features.set_index('user_session')\n",
    "Features.head(3)"
   ]
  },
  {
   "cell_type": "markdown",
   "metadata": {
    "colab_type": "text",
    "id": "xqni0t8qmIKi"
   },
   "source": [
    "## Duration"
   ]
  },
  {
   "cell_type": "code",
   "execution_count": null,
   "metadata": {
    "colab": {},
    "colab_type": "code",
    "id": "NJdQRY84mIKi"
   },
   "outputs": [],
   "source": [
    "# Defining function to return range of any given series\n",
    "def ammd(series):\n",
    "    return (max(series)-min(series))"
   ]
  },
  {
   "cell_type": "code",
   "execution_count": null,
   "metadata": {
    "colab": {},
    "colab_type": "code",
    "id": "4G8JQRrbmIKk"
   },
   "outputs": [],
   "source": [
    "interactionTime = GroupUS['event_time'].agg(ammd)\n",
    "interactionTime = interactionTime.dt.total_seconds()"
   ]
  },
  {
   "cell_type": "code",
   "execution_count": null,
   "metadata": {
    "colab": {},
    "colab_type": "code",
    "id": "4G8JQRrbmIKk"
   },
   "outputs": [],
   "source": [
    "Features = Features.join(interactionTime, how='outer')\n",
    "Features = Features.rename(columns={'event_time':'interactionTime'})"
   ]
  },
  {
   "cell_type": "code",
   "execution_count": null,
   "metadata": {},
   "outputs": [],
   "source": [
    "Features.head(2)"
   ]
  },
  {
   "cell_type": "markdown",
   "metadata": {
    "colab_type": "text",
    "id": "zfoHTadLmIKm"
   },
   "source": [
    "##  Number of Interactions by Event Type in Session"
   ]
  },
  {
   "cell_type": "code",
   "execution_count": null,
   "metadata": {
    "colab": {},
    "colab_type": "code",
    "id": "s6Rq1rzAmIKm"
   },
   "outputs": [],
   "source": [
    "#RUN THIS CELL FOR COSMETICS DATA ONLY\n",
    "NumEventTime = GroupUS['event_type'].value_counts().unstack(fill_value = 0).rename(columns={'view':'NumTimesViewedInSession','cart':'NumTimesCartedInSession',\n",
    "                                                                                            'purchase':'NumTimesPurchasedInSession','remove_from_cart' : 'NumTimesRemovedInSession'})"
   ]
  },
  {
   "cell_type": "code",
   "execution_count": null,
   "metadata": {},
   "outputs": [],
   "source": [
    "#RUN THIS CELL FOR ELECTRONICS DATA ONLY\n",
    "NumEventTime = GroupUS['event_type'].value_counts().unstack(fill_value = 0).rename(columns={'view':'NumTimesViewedInSession','cart':'NumTimesCartedInSession',\n",
    "                                                                                            'purchase':'NumTimesPurchasedInSession'})"
   ]
  },
  {
   "cell_type": "code",
   "execution_count": null,
   "metadata": {
    "colab": {},
    "colab_type": "code",
    "id": "s6Rq1rzAmIKm"
   },
   "outputs": [],
   "source": [
    "Features = Features.join(NumEventTime, how ='outer')"
   ]
  },
  {
   "cell_type": "code",
   "execution_count": null,
   "metadata": {},
   "outputs": [],
   "source": [
    "Features.head(2)"
   ]
  },
  {
   "cell_type": "markdown",
   "metadata": {
    "colab_type": "text",
    "id": "9xj6g7WYmIKp"
   },
   "source": [
    "## Max and Min Price"
   ]
  },
  {
   "cell_type": "code",
   "execution_count": null,
   "metadata": {
    "colab": {},
    "colab_type": "code",
    "id": "Sr1d8TzbmIKp"
   },
   "outputs": [],
   "source": [
    "Features['maxPrice'] = GroupUS['price'].max().values\n",
    "Features['minPrice'] = GroupUS['price'].min().values"
   ]
  },
  {
   "cell_type": "markdown",
   "metadata": {
    "colab_type": "text",
    "id": "WOa46DPOmIKr"
   },
   "source": [
    "## AVERAGE AMOUNT BY EVENT IN SESSION"
   ]
  },
  {
   "cell_type": "code",
   "execution_count": null,
   "metadata": {
    "colab": {},
    "colab_type": "code",
    "id": "kbI-4KcVmIKs"
   },
   "outputs": [],
   "source": [
    "#RUN THIS CELL FOR COSMETICS DATA ONLY\n",
    "\n",
    "AmountbyEvent = pd.pivot_table(df, index='user_session',columns='event_type',values='price',fill_value=0)\n",
    "AmountbyEvent = AmountbyEvent.rename(columns={'cart':'AvgAmtCartedInSession','purchase':'AvgAmtPurchasedInSession',\n",
    "                                              'view':'AvgAmtViewedInSession','remove_from_cart' : 'AvgAmountRemovedInSession'})"
   ]
  },
  {
   "cell_type": "code",
   "execution_count": null,
   "metadata": {},
   "outputs": [],
   "source": [
    "#RUN THIS CELL FOR ELECTRONICS DATA ONLY\n",
    "\n",
    "AmountbyEvent = pd.pivot_table(df, index='user_session',columns='event_type',values='price',fill_value=0)\n",
    "AmountbyEvent = AmountbyEvent.rename(columns={'cart':'AvgAmtCartedInSession','purchase':'AvgAmtPurchasedInSession',\n",
    "                                              'view':'AvgAmtViewedInSession'})"
   ]
  },
  {
   "cell_type": "code",
   "execution_count": null,
   "metadata": {
    "colab": {},
    "colab_type": "code",
    "id": "kbI-4KcVmIKs"
   },
   "outputs": [],
   "source": [
    "Features = Features.join(AmountbyEvent,how='outer')"
   ]
  },
  {
   "cell_type": "code",
   "execution_count": null,
   "metadata": {},
   "outputs": [],
   "source": [
    "Features.head(2)"
   ]
  },
  {
   "cell_type": "markdown",
   "metadata": {
    "colab_type": "text",
    "id": "4zhcAXGFmIKu"
   },
   "source": [
    "## BRAND COUNT BY EVENT IN SESSION\n",
    "\n"
   ]
  },
  {
   "cell_type": "code",
   "execution_count": 7,
   "metadata": {
    "colab": {},
    "colab_type": "code",
    "id": "H-RsF_2FmIKu"
   },
   "outputs": [],
   "source": [
    "##--- RUN THIS CELL FOR THE ELECTRONICS DATA ONLY\n",
    "##--- IN COSMETICS THE BRAND COLUMN HAS BEEN DROPPED DUE TO EXCESSIVE MISSING DATA\n",
    "\n",
    "# BrandsBySession= pd.pivot_table(df, index='user_session',columns='event_type',values='brand',aggfunc='count',fill_value=0)\n",
    "# BrandsBySession = BrandsBySession.rename(columns={'view':'NumBrandsViewedInSession','cart':'NumBrandsCartedInSession','purchase':'NumBrandsPurchasedInSession'})\n",
    "# Features = pd.merge(Features,BrandsBySession,on='user_session',how='outer')"
   ]
  },
  {
   "cell_type": "markdown",
   "metadata": {
    "colab_type": "text",
    "id": "zENtm4FMmIKw"
   },
   "source": [
    "## CATEGORY COUNT BY EVENT IN SESSION"
   ]
  },
  {
   "cell_type": "code",
   "execution_count": null,
   "metadata": {
    "colab": {},
    "colab_type": "code",
    "id": "azqQ0NY3mIKw"
   },
   "outputs": [],
   "source": [
    "## RUN THIS CELL FOR COSMETICS DATA ONLY\n",
    "## -- FOR THE COSMETICS DATA USE :values='category_id'\n",
    "        \n",
    "CategoriesBySession= pd.pivot_table(df, index='user_session',columns='event_type',values='category_id',aggfunc='count',fill_value=0)\n",
    "CategoriesBySession = CategoriesBySession.rename(columns={'view':'NumCategoriesViewedInSession','cart':'NumCategoriesCartedInSession',\n",
    "                                                          'purchase':'NumCategoriesPurchasedInSession','remove_from_cart' : 'NumCategoriesRemovedInSession'})"
   ]
  },
  {
   "cell_type": "code",
   "execution_count": null,
   "metadata": {},
   "outputs": [],
   "source": [
    "## RUN THIS CELL FOR ELECTRONICS DATA ONLY\n",
    "## -- FOR THE ELECTRONICS DATA USE :values='category_code'\n",
    "        \n",
    "CategoriesBySession= pd.pivot_table(df, index='user_session',columns='event_type',values='category_code',aggfunc='count',fill_value=0)\n",
    "CategoriesBySession = CategoriesBySession.rename(columns={'view':'NumCategoriesViewedInSession','cart':'NumCategoriesCartedInSession',\n",
    "                                                          'purchase':'NumCategoriesPurchasedInSession','remove_from_cart' : 'NumCategoriesRemovedInSession'})"
   ]
  },
  {
   "cell_type": "code",
   "execution_count": null,
   "metadata": {
    "colab": {},
    "colab_type": "code",
    "id": "azqQ0NY3mIKw"
   },
   "outputs": [],
   "source": [
    "Features = Features.join(CategoriesBySession,how='outer')"
   ]
  },
  {
   "cell_type": "code",
   "execution_count": null,
   "metadata": {
    "colab": {},
    "colab_type": "code",
    "id": "ZsG-TKCVmIKy"
   },
   "outputs": [],
   "source": [
    "Features.head(2)"
   ]
  },
  {
   "cell_type": "markdown",
   "metadata": {
    "colab_type": "text",
    "id": "fr5VhJALmIK0"
   },
   "source": [
    "## ADDING FEATURES FOR AVERAGE OVERALL AMOUNT BY USER FOR DIFFERENT EVENTS"
   ]
  },
  {
   "cell_type": "markdown",
   "metadata": {},
   "source": [
    "NOTE THAT WE ARE CALCULATING THE MAX AMOUNT OUT OF ALL THE TRANSACTIONS TO DIFFERENTIATE BETWEEN USERS"
   ]
  },
  {
   "cell_type": "code",
   "execution_count": null,
   "metadata": {},
   "outputs": [],
   "source": [
    "OverallAmtUserCarted = GroupUS['OverallAmtUserCarted'].max()"
   ]
  },
  {
   "cell_type": "code",
   "execution_count": null,
   "metadata": {
    "colab": {},
    "colab_type": "code",
    "id": "z2M135a4mIK0"
   },
   "outputs": [],
   "source": [
    "OverallAmtUserViewed = GroupUS['OverallAmtUserViewed'].max()"
   ]
  },
  {
   "cell_type": "code",
   "execution_count": null,
   "metadata": {
    "colab": {},
    "colab_type": "code",
    "id": "z2M135a4mIK0"
   },
   "outputs": [],
   "source": [
    "OverallAmtUserPurchased = GroupUS['OverallAmtUserPurchased'].max()"
   ]
  },
  {
   "cell_type": "code",
   "execution_count": null,
   "metadata": {
    "colab": {},
    "colab_type": "code",
    "id": "bUVbHeH7pZer"
   },
   "outputs": [],
   "source": [
    "#Merging these individual dataframes\n",
    "\n",
    "Features = Features.join(OverallAmtUserCarted, how='left')\n",
    "Features = Features.join(OverallAmtUserViewed, how='left')\n",
    "Features = Features.join(OverallAmtUserPurchased, how='left')"
   ]
  },
  {
   "cell_type": "code",
   "execution_count": 6,
   "metadata": {},
   "outputs": [],
   "source": [
    "#RUN THIS CELL FOR COSMETICS DATA ONLY\n",
    "OverallAmtUserRemoved = GroupUS['OverallAmtUserRemoved'].max()\n",
    "Features = Features.join(OverallAmtUserRemoved, how='left')"
   ]
  },
  {
   "cell_type": "code",
   "execution_count": null,
   "metadata": {
    "colab": {
     "base_uri": "https://localhost:8080/",
     "height": 337
    },
    "colab_type": "code",
    "id": "Z3duvZ4wmIK3",
    "outputId": "b611de32-7aa9-4f4a-b9d0-d7484e265c54"
   },
   "outputs": [],
   "source": [
    "Features.head(2)"
   ]
  },
  {
   "cell_type": "markdown",
   "metadata": {
    "colab_type": "text",
    "id": "z3Pj1K77mIK5"
   },
   "source": [
    "## PRODUCT COUNT BY EVENT IN SESSION"
   ]
  },
  {
   "cell_type": "code",
   "execution_count": null,
   "metadata": {
    "colab": {},
    "colab_type": "code",
    "id": "x-Y0R-iymIK5"
   },
   "outputs": [],
   "source": [
    "#RUN THIS CELL FOR COSMETICS DATA ONLY\n",
    "ProductsBySession= pd.pivot_table(df, index='user_session',columns='event_type',values='product_id',aggfunc='count',fill_value=0)\n",
    "ProductsBySession = ProductsBySession.rename(columns={'view':'NumProdsViewedInSession','cart':'NumProdsCartedInSession',\n",
    "                                                      'purchase':'NumProdsPurchasedInSession','remove_from_cart' : 'NumProdsRemovedInSession'})"
   ]
  },
  {
   "cell_type": "code",
   "execution_count": null,
   "metadata": {
    "colab": {},
    "colab_type": "code",
    "id": "x-Y0R-iymIK5"
   },
   "outputs": [],
   "source": [
    "#RUN THIS CELL FOR ELECTRONICS DATA ONLY\n",
    "ProductsBySession= pd.pivot_table(df, index='user_session',columns='event_type',values='product_id',aggfunc='count',fill_value=0)\n",
    "ProductsBySession = ProductsBySession.rename(columns={'view':'NumProdsViewedInSession','cart':'NumProdsCartedInSession',\n",
    "                                                      'purchase':'NumProdsPurchasedInSession'})"
   ]
  },
  {
   "cell_type": "code",
   "execution_count": null,
   "metadata": {
    "colab": {},
    "colab_type": "code",
    "id": "vsiGFVn3xRPw"
   },
   "outputs": [],
   "source": [
    "Features = Features.join(ProductsBySession, how='left')"
   ]
  },
  {
   "cell_type": "code",
   "execution_count": null,
   "metadata": {
    "colab": {
     "base_uri": "https://localhost:8080/",
     "height": 177
    },
    "colab_type": "code",
    "id": "7Br-s9jnmIK6",
    "outputId": "a527b5e3-4b3c-451c-f0d2-eedb5146131c"
   },
   "outputs": [],
   "source": [
    "Features.head(1)"
   ]
  },
  {
   "cell_type": "markdown",
   "metadata": {
    "colab_type": "text",
    "id": "vPldB-YWmIK8"
   },
   "source": [
    "****************************************"
   ]
  },
  {
   "cell_type": "markdown",
   "metadata": {
    "colab_type": "text",
    "id": "_LGQpyYlmIK9"
   },
   "source": [
    "**ONE HOT ENCODED FEATURES START HERE**"
   ]
  },
  {
   "cell_type": "markdown",
   "metadata": {
    "colab_type": "text",
    "id": "vUhhAGmjmIK-"
   },
   "source": [
    "## Adding Date and Time Features "
   ]
  },
  {
   "cell_type": "markdown",
   "metadata": {},
   "source": [
    "By using get_dummies and not pivot_table we went from ~ 365 seconds to ~25 seconds i.e. 14 times faster"
   ]
  },
  {
   "cell_type": "code",
   "execution_count": null,
   "metadata": {},
   "outputs": [],
   "source": [
    "weekday = pd.get_dummies(df['weekday']).set_index(df['user_session'])\n",
    "weekday = weekday.groupby('user_session').max()"
   ]
  },
  {
   "cell_type": "code",
   "execution_count": null,
   "metadata": {
    "colab": {},
    "colab_type": "code",
    "id": "Kc-9BTOYmILA"
   },
   "outputs": [],
   "source": [
    "year = pd.get_dummies(df['year']).set_index(df['user_session'])\n",
    "year = year.groupby('user_session').max()"
   ]
  },
  {
   "cell_type": "code",
   "execution_count": null,
   "metadata": {
    "colab": {},
    "colab_type": "code",
    "id": "5JRq8nf0mILC"
   },
   "outputs": [],
   "source": [
    "month = pd.get_dummies(df['month']).set_index(df['user_session'])\n",
    "month = month.groupby('user_session').max()"
   ]
  },
  {
   "cell_type": "code",
   "execution_count": null,
   "metadata": {
    "colab": {},
    "colab_type": "code",
    "id": "eL32oJFzmILE"
   },
   "outputs": [],
   "source": [
    "timeOfDay = pd.get_dummies(df['timeOfDay']).set_index(df['user_session'])\n",
    "timeOfDay = timeOfDay.groupby('user_session').max()"
   ]
  },
  {
   "cell_type": "code",
   "execution_count": null,
   "metadata": {
    "colab": {},
    "colab_type": "code",
    "id": "I3X4cN3WmILF"
   },
   "outputs": [],
   "source": [
    "Features = Features.join(weekday,how='outer')\n",
    "Features = Features.join(year,how='outer')\n",
    "Features = Features.join(month,how='outer')\n",
    "Features = Features.join(timeOfDay,how='outer')"
   ]
  },
  {
   "cell_type": "code",
   "execution_count": null,
   "metadata": {
    "colab": {},
    "colab_type": "code",
    "id": "4qh_nTiDmILK"
   },
   "outputs": [],
   "source": [
    "Weekend = GroupUS['Weekend'].sum()\n",
    "Features = Features.join(Weekend,how='outer')"
   ]
  },
  {
   "cell_type": "code",
   "execution_count": null,
   "metadata": {
    "colab": {},
    "colab_type": "code",
    "id": "OEM6ZrqjmILM"
   },
   "outputs": [],
   "source": [
    "Features.head(1)"
   ]
  },
  {
   "cell_type": "markdown",
   "metadata": {
    "colab_type": "text",
    "id": "B2ZOAk6EmILP"
   },
   "source": [
    "## Dropping all Purchase related Columns and adding Y label 'Purchase'"
   ]
  },
  {
   "cell_type": "code",
   "execution_count": null,
   "metadata": {
    "colab": {},
    "colab_type": "code",
    "id": "CVRFBY0xmILP"
   },
   "outputs": [],
   "source": [
    "Features['Purchase'] = Features.NumTimesPurchasedInSession.apply(lambda x : 1 if x!=0 else 0)\n",
    "Features = Features.reset_index()"
   ]
  },
  {
   "cell_type": "code",
   "execution_count": null,
   "metadata": {
    "colab": {},
    "colab_type": "code",
    "id": "-al3jBIpmILR",
    "outputId": "5b3b84a7-cd8b-4f1c-ad4d-14ba71c1ee2c"
   },
   "outputs": [],
   "source": [
    "Features.columns"
   ]
  },
  {
   "cell_type": "markdown",
   "metadata": {},
   "source": [
    "**Include 'NumBrandsPurchasedInSession' below for the Electronics DataSet**"
   ]
  },
  {
   "cell_type": "code",
   "execution_count": null,
   "metadata": {
    "colab": {},
    "colab_type": "code",
    "id": "LIKFpC3smILT"
   },
   "outputs": [],
   "source": [
    "#RUN THIS CELL FOR COSMETICS DATA ONLY\n",
    "\n",
    "FeaturesDF = Features.drop(columns=['user_session',\n",
    "                                    'OverallAmtUserPurchased',\n",
    "                                    'AvgAmtPurchasedInSession',\n",
    "                                    'NumTimesPurchasedInSession',\n",
    "                                    'NumCategoriesPurchasedInSession',\n",
    "                                   'NumProdsPurchasedInSession'])\n",
    "                           "
   ]
  },
  {
   "cell_type": "code",
   "execution_count": null,
   "metadata": {},
   "outputs": [],
   "source": [
    "#RUN THIS CELL FOR ELECTRONICS DATA ONLY\n",
    "\n",
    "FeaturesDF = Features.drop(columns=['user_session',\n",
    "                                    'OverallAmtUserPurchased',\n",
    "                                    'AvgAmtPurchasedInSession',\n",
    "                                    'NumTimesPurchasedInSession',\n",
    "                                    'NumCategoriesPurchasedInSession',\n",
    "                                   'NumProdsPurchasedInSession',\n",
    "                                    'NumBrandsPurchasedInSession']) \n",
    "                           "
   ]
  },
  {
   "cell_type": "code",
   "execution_count": null,
   "metadata": {
    "colab": {},
    "colab_type": "code",
    "id": "w7Nt3D6WmILV",
    "outputId": "298e549b-44cf-43b9-fcce-ba1508d1f2c6"
   },
   "outputs": [],
   "source": [
    "FeaturesDF.sort_values(by='Purchase',ascending=False)"
   ]
  },
  {
   "cell_type": "code",
   "execution_count": null,
   "metadata": {
    "colab": {},
    "colab_type": "code",
    "id": "cyM2w8AHmILX",
    "outputId": "ba86d164-25d7-4cbd-f836-234d23b4f20f"
   },
   "outputs": [],
   "source": [
    "display(\"The features we have are as follows:\", FeaturesDF.columns.tolist())\n",
    "\n",
    "print('************')\n",
    "print(\"PLEASE NOTE THAT \\n One-Hot-Encoded Date and Time features are dynamically added as per data\")\n",
    "print('************')"
   ]
  },
  {
   "cell_type": "markdown",
   "metadata": {
    "colab_type": "text",
    "id": "zn2FafEuXhDX"
   },
   "source": [
    "#    \n",
    "************************************************\n",
    "************************************************"
   ]
  },
  {
   "cell_type": "markdown",
   "metadata": {
    "colab_type": "text",
    "id": "SIQBpFGKmILZ"
   },
   "source": [
    "#3. ***`SPLITTING DATA`***"
   ]
  },
  {
   "cell_type": "markdown",
   "metadata": {
    "colab_type": "text",
    "id": "JTZcZUY76jRt"
   },
   "source": [
    "## 3a. Test-Train Split"
   ]
  },
  {
   "cell_type": "code",
   "execution_count": null,
   "metadata": {},
   "outputs": [],
   "source": [
    "#FeaturesDF.to_pickle('FeaturesDF.pkl')\n",
    "#FeaturesDF = pd.read_pickle('FeaturesDF.pkl')"
   ]
  },
  {
   "cell_type": "code",
   "execution_count": null,
   "metadata": {
    "colab": {},
    "colab_type": "code",
    "id": "TZvEi1S7mILZ"
   },
   "outputs": [],
   "source": [
    "XData = FeaturesDF.iloc[:,:-1]\n",
    "YData = FeaturesDF.iloc[:,-1]"
   ]
  },
  {
   "cell_type": "code",
   "execution_count": null,
   "metadata": {
    "colab": {},
    "colab_type": "code",
    "id": "u4ZWCuKImILd"
   },
   "outputs": [],
   "source": [
    "X_train, X_test, y_train, y_test = train_test_split(XData,YData,test_size=0.2,random_state=42)"
   ]
  },
  {
   "cell_type": "markdown",
   "metadata": {
    "colab_type": "text",
    "id": "AiYoEPRvmILf"
   },
   "source": [
    "## 3b. Scaling with MinMax"
   ]
  },
  {
   "cell_type": "code",
   "execution_count": null,
   "metadata": {
    "colab": {},
    "colab_type": "code",
    "id": "YbA-MZzamILf"
   },
   "outputs": [],
   "source": [
    "MMscaler = MinMaxScaler()\n",
    "X_train = MMscaler.fit_transform(X_train)\n",
    "X_test = MMscaler.transform(X_test)"
   ]
  },
  {
   "cell_type": "markdown",
   "metadata": {
    "colab_type": "text",
    "id": "uzWwOUjSXnii"
   },
   "source": [
    "#    \n",
    "************************************************\n",
    "************************************************"
   ]
  },
  {
   "cell_type": "markdown",
   "metadata": {
    "colab_type": "text",
    "id": "LC-3jPVumILY"
   },
   "source": [
    "# 4. ***`FEATURE RANKING`***"
   ]
  },
  {
   "cell_type": "markdown",
   "metadata": {
    "colab_type": "text",
    "id": "2yFnUuk_mILi"
   },
   "source": [
    "## 4a. Using Random Forest"
   ]
  },
  {
   "cell_type": "code",
   "execution_count": null,
   "metadata": {
    "colab": {},
    "colab_type": "code",
    "id": "wyMGdfg6mILi"
   },
   "outputs": [],
   "source": [
    "sel = SelectFromModel(RandomForestClassifier(n_estimators = 100))"
   ]
  },
  {
   "cell_type": "code",
   "execution_count": null,
   "metadata": {
    "colab": {},
    "colab_type": "code",
    "id": "pOiLrSmZmILk",
    "outputId": "65e7efd5-4e9e-4cf9-eeeb-853dca6658a6"
   },
   "outputs": [],
   "source": [
    "sel.fit(X_train, y_train)"
   ]
  },
  {
   "cell_type": "code",
   "execution_count": null,
   "metadata": {
    "colab": {},
    "colab_type": "code",
    "id": "0EeqYMYRmILl",
    "outputId": "fa9c5c09-ece7-4401-aa43-b148dc054525"
   },
   "outputs": [],
   "source": [
    "sel.get_support()"
   ]
  },
  {
   "cell_type": "code",
   "execution_count": null,
   "metadata": {
    "colab": {},
    "colab_type": "code",
    "id": "0a2Nu53smILn"
   },
   "outputs": [],
   "source": [
    "selected_feat= XData.columns[(sel.get_support())]"
   ]
  },
  {
   "cell_type": "code",
   "execution_count": null,
   "metadata": {
    "colab": {},
    "colab_type": "code",
    "id": "687P_x5GmILo",
    "outputId": "306d6df2-6a28-4f20-b8d6-9e963625811b"
   },
   "outputs": [],
   "source": [
    "importances = sel.estimator_.feature_importances_\n",
    "indices = np.argsort(importances)[::-1] \n",
    "colname = XData.columns[indices]\n",
    "plt.figure(figsize=(15,9))\n",
    "plt.title(\"Feature importances\",size=20)\n",
    "sns.barplot(x=colname, y=importances[indices],palette=\"deep\")\n",
    "plt.xticks(rotation=90,size=20)\n",
    "plt.show()"
   ]
  },
  {
   "cell_type": "markdown",
   "metadata": {
    "colab_type": "text",
    "id": "qBx-40eZmILq"
   },
   "source": [
    "## 4b. Using F Scores"
   ]
  },
  {
   "cell_type": "code",
   "execution_count": null,
   "metadata": {
    "colab": {},
    "colab_type": "code",
    "id": "z20bKXLImILq"
   },
   "outputs": [],
   "source": [
    "import sklearn.feature_selection as fs\n",
    "kb = fs.SelectKBest(k=X_train.shape[1])\n",
    "kb.fit(X_train, y_train)\n",
    "names = XData.columns.values[kb.get_support()]\n",
    "scores = kb.scores_[kb.get_support()]\n",
    "names_scores = list(zip(names, scores))"
   ]
  },
  {
   "cell_type": "code",
   "execution_count": null,
   "metadata": {
    "colab": {},
    "colab_type": "code",
    "id": "L_UjtvBVmILs"
   },
   "outputs": [],
   "source": [
    "fScoreDF = pd.DataFrame(data = names_scores, columns=['Feat_names','F_Scores'])\n",
    "fScoreDF_sorted = fScoreDF.sort_values(['F_Scores','Feat_names'], ascending =[False, True])"
   ]
  },
  {
   "cell_type": "code",
   "execution_count": null,
   "metadata": {
    "colab": {},
    "colab_type": "code",
    "id": "TqMChHIKmILt",
    "outputId": "d400611e-69bd-4485-aebf-e2c8ec6c7daf"
   },
   "outputs": [],
   "source": [
    "plt.figure(figsize=(15,9))\n",
    "sns.barplot(x= \"Feat_names\", y=\"F_Scores\",data=fScoreDF_sorted)\n",
    "plt.xticks(rotation=90,size=20)\n",
    "plt.show()"
   ]
  },
  {
   "cell_type": "markdown",
   "metadata": {
    "colab_type": "text",
    "id": "vRAIEJzEXsJa"
   },
   "source": [
    "#    \n",
    "************************************************\n",
    "************************************************"
   ]
  },
  {
   "cell_type": "markdown",
   "metadata": {
    "colab_type": "text",
    "id": "meybcudd3eaK"
   },
   "source": [
    "# 5. ***`SMOTE`***"
   ]
  },
  {
   "cell_type": "markdown",
   "metadata": {
    "colab_type": "text",
    "id": "-B7pvy6LXco8"
   },
   "source": [
    "#### SMOTE and PCA transformation"
   ]
  },
  {
   "cell_type": "code",
   "execution_count": null,
   "metadata": {
    "colab": {
     "base_uri": "https://localhost:8080/",
     "height": 34
    },
    "colab_type": "code",
    "id": "HxdKvsosuMIT",
    "outputId": "054dc853-4850-4bec-a54e-1e7b86b7b083"
   },
   "outputs": [],
   "source": [
    "Counter(YData)"
   ]
  },
  {
   "cell_type": "code",
   "execution_count": null,
   "metadata": {
    "colab": {},
    "colab_type": "code",
    "id": "Py5ufSoavr0M"
   },
   "outputs": [],
   "source": [
    "oversample = SMOTE()"
   ]
  },
  {
   "cell_type": "code",
   "execution_count": null,
   "metadata": {
    "colab": {},
    "colab_type": "code",
    "id": "EHGQvUnTvtJZ"
   },
   "outputs": [],
   "source": [
    "X, Y = oversample.fit_resample(XData, YData)"
   ]
  },
  {
   "cell_type": "code",
   "execution_count": null,
   "metadata": {},
   "outputs": [],
   "source": [
    "Counter(Y)"
   ]
  },
  {
   "cell_type": "code",
   "execution_count": null,
   "metadata": {
    "colab": {},
    "colab_type": "code",
    "id": "4zEi_oj53dQ0"
   },
   "outputs": [],
   "source": [
    "trainX, testX, trainY, testY = train_test_split(X,Y,test_size=0.2,random_state=42)"
   ]
  },
  {
   "cell_type": "code",
   "execution_count": null,
   "metadata": {
    "colab": {},
    "colab_type": "code",
    "id": "OusRxesM3y32"
   },
   "outputs": [],
   "source": [
    "MMscaler = MinMaxScaler()\n",
    "trainX = MMscaler.fit_transform(trainX)\n",
    "testX = MMscaler.transform(testX)"
   ]
  },
  {
   "cell_type": "code",
   "execution_count": null,
   "metadata": {
    "colab": {},
    "colab_type": "code",
    "id": "H9JfBqSn-0vX"
   },
   "outputs": [],
   "source": [
    "pca = PCA(n_components=2)"
   ]
  },
  {
   "cell_type": "code",
   "execution_count": null,
   "metadata": {
    "colab": {},
    "colab_type": "code",
    "id": "Sc59_vNN32uV"
   },
   "outputs": [],
   "source": [
    "pca.fit(trainX)"
   ]
  },
  {
   "cell_type": "code",
   "execution_count": null,
   "metadata": {
    "colab": {},
    "colab_type": "code",
    "id": "qgZTRLlG34qy"
   },
   "outputs": [],
   "source": [
    "trainX = pca.transform(trainX)\n",
    "testX = pca.transform(testX)"
   ]
  },
  {
   "cell_type": "markdown",
   "metadata": {},
   "source": [
    "**Save/load pickle files for quick future usage**"
   ]
  },
  {
   "cell_type": "code",
   "execution_count": null,
   "metadata": {
    "colab": {},
    "colab_type": "code",
    "id": "ev5J9I0muDvR"
   },
   "outputs": [],
   "source": [
    "# X.to_pickle('XDataSMOTE.pkl')\n",
    "# X = pd.read_pickle('XDataSMOTE.pkl')\n",
    "# Y.to_pickle('YDataSMOTE.pkl')\n",
    "# Y = pd.read_pickle('YDataSMOTE.pkl')"
   ]
  },
  {
   "cell_type": "markdown",
   "metadata": {
    "colab_type": "text",
    "id": "3srz0vJyXxko"
   },
   "source": [
    "#    \n",
    "************************************************\n",
    "************************************************"
   ]
  },
  {
   "cell_type": "markdown",
   "metadata": {
    "colab_type": "text",
    "id": "YSdOTIkg6OKu"
   },
   "source": [
    "# 6. ***`BASELINING`***"
   ]
  },
  {
   "cell_type": "markdown",
   "metadata": {
    "colab_type": "text",
    "id": "ezEy7J5amILv"
   },
   "source": [
    "## 6a. BASELINING --- non Balanced data"
   ]
  },
  {
   "cell_type": "code",
   "execution_count": null,
   "metadata": {
    "colab": {},
    "colab_type": "code",
    "id": "rR822kICqvz6"
   },
   "outputs": [],
   "source": [
    "pca = PCA(n_components=2)"
   ]
  },
  {
   "cell_type": "code",
   "execution_count": null,
   "metadata": {
    "colab": {
     "base_uri": "https://localhost:8080/",
     "height": 52
    },
    "colab_type": "code",
    "id": "pBKh5HlCrO0d",
    "outputId": "ee99fbc0-990a-448d-e5df-2e5e136a8bf3"
   },
   "outputs": [],
   "source": [
    "pca.fit(X_train)"
   ]
  },
  {
   "cell_type": "code",
   "execution_count": null,
   "metadata": {
    "colab": {},
    "colab_type": "code",
    "id": "T6VRaLCMrThK"
   },
   "outputs": [],
   "source": [
    "X_train = pca.transform(X_train)\n",
    "X_test = pca.transform(X_test)"
   ]
  },
  {
   "cell_type": "code",
   "execution_count": null,
   "metadata": {
    "colab": {},
    "colab_type": "code",
    "id": "tE_LZJ8hmIMA"
   },
   "outputs": [],
   "source": [
    "logreg = LogisticRegression(solver='lbfgs', max_iter=1000,n_jobs=-1)"
   ]
  },
  {
   "cell_type": "code",
   "execution_count": null,
   "metadata": {
    "colab": {},
    "colab_type": "code",
    "id": "E32XtaPU5P4u"
   },
   "outputs": [],
   "source": [
    "y_pred = cross_val_predict(logreg, X_train, y_train, cv=5)"
   ]
  },
  {
   "cell_type": "code",
   "execution_count": null,
   "metadata": {
    "colab": {
     "base_uri": "https://localhost:8080/",
     "height": 34
    },
    "colab_type": "code",
    "id": "C6mczUeQ5YaV",
    "outputId": "281747d5-765e-4a10-85fd-92166bf6c6fd"
   },
   "outputs": [],
   "source": [
    "print(metrics.accuracy_score(y_train, y_pred))"
   ]
  },
  {
   "cell_type": "code",
   "execution_count": null,
   "metadata": {
    "colab": {
     "base_uri": "https://localhost:8080/",
     "height": 105
    },
    "colab_type": "code",
    "id": "mGXi3np5s8Gz",
    "outputId": "ddd5d19e-0270-4e9c-d071-a38a2997b17f"
   },
   "outputs": [],
   "source": [
    "logreg.fit(X_train, y_train)"
   ]
  },
  {
   "cell_type": "code",
   "execution_count": null,
   "metadata": {
    "colab": {},
    "colab_type": "code",
    "id": "ioJWJzVVtLJF"
   },
   "outputs": [],
   "source": [
    "y_predFinal = logreg.predict(X_test)"
   ]
  },
  {
   "cell_type": "code",
   "execution_count": null,
   "metadata": {
    "colab": {
     "base_uri": "https://localhost:8080/",
     "height": 34
    },
    "colab_type": "code",
    "id": "EBW5DwyJteVa",
    "outputId": "450ce7bd-f642-4c14-d88b-cc8ef27195ca"
   },
   "outputs": [],
   "source": [
    "print(metrics.accuracy_score(y_test, y_predFinal))"
   ]
  },
  {
   "cell_type": "code",
   "execution_count": null,
   "metadata": {
    "colab": {
     "base_uri": "https://localhost:8080/",
     "height": 52
    },
    "colab_type": "code",
    "id": "4Z_0uUAKtlML",
    "outputId": "e18d42e9-1b93-42d6-d01c-06f74035e28e"
   },
   "outputs": [],
   "source": [
    "cnf_matrix = metrics.confusion_matrix(y_test, y_predFinal)\n",
    "cnf_matrix"
   ]
  },
  {
   "cell_type": "code",
   "execution_count": null,
   "metadata": {
    "colab": {
     "base_uri": "https://localhost:8080/",
     "height": 332
    },
    "colab_type": "code",
    "id": "XC7LpzgCtupu",
    "outputId": "daec5425-7f43-47e3-ca42-1fbf8784ca0b"
   },
   "outputs": [],
   "source": [
    "class_names=[1,0] # name  of classes\n",
    "fig, ax = plt.subplots()\n",
    "tick_marks = np.arange(len(class_names))\n",
    "plt.xticks(tick_marks, class_names)\n",
    "plt.yticks(tick_marks, class_names)\n",
    "# create heatmap\n",
    "sns.heatmap(pd.DataFrame(cnf_matrix), annot=True, cmap=\"Greens\" ,fmt='g')\n",
    "ax.xaxis.set_label_position(\"bottom\")\n",
    "plt.tight_layout()\n",
    "plt.title('Confusion matrix', y=1.1)\n",
    "plt.ylabel('Actual label')\n",
    "plt.xlabel('Predicted label')"
   ]
  },
  {
   "cell_type": "markdown",
   "metadata": {
    "colab_type": "text",
    "id": "vWLhQF4juAD8"
   },
   "source": [
    "## 6b. BASELINING - Balanced data"
   ]
  },
  {
   "cell_type": "code",
   "execution_count": null,
   "metadata": {
    "colab": {},
    "colab_type": "code",
    "id": "YDLxPo8c35el"
   },
   "outputs": [],
   "source": [
    "logreg = LogisticRegression(solver='lbfgs', max_iter=1000,n_jobs=-1)"
   ]
  },
  {
   "cell_type": "code",
   "execution_count": null,
   "metadata": {
    "colab": {},
    "colab_type": "code",
    "id": "VMdzWL5P4iFP"
   },
   "outputs": [],
   "source": [
    "predY = cross_val_predict(logreg, trainX, trainY, cv=5)"
   ]
  },
  {
   "cell_type": "code",
   "execution_count": null,
   "metadata": {
    "colab": {
     "base_uri": "https://localhost:8080/",
     "height": 34
    },
    "colab_type": "code",
    "id": "D7VT6Psi4mbp",
    "outputId": "bf8a8f1a-1a95-43ec-d104-8d15bc14c067"
   },
   "outputs": [],
   "source": [
    "print(metrics.accuracy_score(trainY, predY))"
   ]
  },
  {
   "cell_type": "code",
   "execution_count": null,
   "metadata": {
    "colab": {
     "base_uri": "https://localhost:8080/",
     "height": 105
    },
    "colab_type": "code",
    "id": "BhjOE1LL4vME",
    "outputId": "20d4b7bd-03b0-4c74-c959-9f6d3312b6b5"
   },
   "outputs": [],
   "source": [
    "logreg.fit(trainX, trainY)"
   ]
  },
  {
   "cell_type": "code",
   "execution_count": null,
   "metadata": {
    "colab": {},
    "colab_type": "code",
    "id": "5FpbFZ2I42uS"
   },
   "outputs": [],
   "source": [
    "predFinalY = logreg.predict(testX)"
   ]
  },
  {
   "cell_type": "code",
   "execution_count": null,
   "metadata": {
    "colab": {
     "base_uri": "https://localhost:8080/",
     "height": 34
    },
    "colab_type": "code",
    "id": "nqazCDeW48lo",
    "outputId": "4de205c1-545c-4fbf-f819-755db003bbfb"
   },
   "outputs": [],
   "source": [
    "print(metrics.accuracy_score(testY, predFinalY))"
   ]
  },
  {
   "cell_type": "code",
   "execution_count": null,
   "metadata": {
    "colab": {
     "base_uri": "https://localhost:8080/",
     "height": 52
    },
    "colab_type": "code",
    "id": "zZwt0FIG5Dcu",
    "outputId": "e9d1c515-3349-49b1-d438-5f6446e31125"
   },
   "outputs": [],
   "source": [
    "cnf_matrix_SMOTE = metrics.confusion_matrix(testY, predFinalY)\n",
    "cnf_matrix_SMOTE"
   ]
  },
  {
   "cell_type": "code",
   "execution_count": null,
   "metadata": {
    "colab": {
     "base_uri": "https://localhost:8080/",
     "height": 343
    },
    "colab_type": "code",
    "id": "Es0CDNCj5JlF",
    "outputId": "9d7fda4b-ccc6-4dd7-dae3-ff32ab470dac"
   },
   "outputs": [],
   "source": [
    "# name  of classes\n",
    "class_names=[0,1] \n",
    "fig, ax = plt.subplots()\n",
    "tick_marks = np.arange(len(class_names))\n",
    "plt.xticks(tick_marks, class_names,size=20)\n",
    "plt.yticks(tick_marks, class_names,size=20)\n",
    "\n",
    "# create heatmap\n",
    "sns.heatmap(pd.DataFrame(cnf_matrix_SMOTE), annot=True, cmap=\"Blues\" ,fmt='g')\n",
    "ax.xaxis.set_label_position(\"bottom\")\n",
    "plt.tight_layout()\n",
    "plt.title('Confusion matrix SMOTE',size = 20)\n",
    "plt.ylabel('Actual label SMOTE ',size = 20)\n",
    "plt.xlabel('Predicted label SMOTE',size = 20)"
   ]
  },
  {
   "cell_type": "code",
   "execution_count": null,
   "metadata": {
    "colab": {
     "base_uri": "https://localhost:8080/",
     "height": 70
    },
    "colab_type": "code",
    "id": "27E4dTV-j-RG",
    "outputId": "27167d85-3520-4054-e552-281e2ac0913f"
   },
   "outputs": [],
   "source": [
    "print(\"Accuracy:\",metrics.accuracy_score(testY, predFinalY))\n",
    "print(\"Precision:\",metrics.precision_score(testY, predFinalY))\n",
    "print(\"Recall:\",metrics.recall_score(testY, predFinalY))"
   ]
  },
  {
   "cell_type": "markdown",
   "metadata": {
    "colab_type": "text",
    "id": "LCFqX0v0X4hp"
   },
   "source": [
    "#    \n",
    "************************************************\n",
    "************************************************"
   ]
  },
  {
   "cell_type": "markdown",
   "metadata": {
    "colab_type": "text",
    "id": "WRxFIw40ZIk_"
   },
   "source": [
    "# 7. ***`SUBSETTING DATA/CREATING SAMPLES`***\n",
    "\n",
    "**NON STRATIFIED**\n",
    "\n",
    "    FeaturesDF - All Features\n",
    "    XData, YData - FeaturesDF split into x and y\n",
    "    X,Y - SMOTE of XData and YData\n",
    "    XSelect,YSelect- XData with select features\n",
    "    XSample,YSample - XSelect Sliced upto 'n' rows non stratified"
   ]
  },
  {
   "cell_type": "code",
   "execution_count": null,
   "metadata": {
    "colab": {
     "base_uri": "https://localhost:8080/",
     "height": 35
    },
    "colab_type": "code",
    "id": "miJSZbk_m-tq",
    "outputId": "584b2d4c-f8ad-4f54-c2f4-fc4609679d90"
   },
   "outputs": [],
   "source": [
    "XData.shape"
   ]
  },
  {
   "cell_type": "code",
   "execution_count": null,
   "metadata": {
    "colab": {
     "base_uri": "https://localhost:8080/",
     "height": 35
    },
    "colab_type": "code",
    "id": "Lgl38N9Wq0C2",
    "outputId": "69185584-35fe-4b87-a87c-e0893d601b22"
   },
   "outputs": [],
   "source": [
    "YData.shape"
   ]
  },
  {
   "cell_type": "code",
   "execution_count": null,
   "metadata": {},
   "outputs": [],
   "source": [
    "# FOR COSMETICS DATA\n",
    "\n",
    "SelectFeatures = ['TotalEventsInSession', 'interactionTime',\n",
    "                  'NumTimesCartedinSession','NumTimesRemovedinSession','NumTimesViewedinSession',\n",
    "                         'maxPrice',    'minPrice',         \n",
    "            'AvgAmtCartedInSession','AvgAmountRemovedinSession',    'AvgAmtViewedInSession',\n",
    "       'NumCategoriesViewedinSession', 'NumCategoriesCartedinSession', 'NumCategoriesRemovedinSession',\n",
    "                  'OverallAmtUserCarted','OverallAmtUserViewed',         'OverallAmtUserRemoved',\n",
    "             'NumProdsViewedinSession', 'NumProdsCartedInSession',      'NumProdsRemovedinSession']"
   ]
  },
  {
   "cell_type": "code",
   "execution_count": null,
   "metadata": {},
   "outputs": [],
   "source": [
    "# FOR ELECTRONICS DATA\n",
    "\n",
    "SelectFeatures = ['TotalEventsInSession', 'interactionTime',\n",
    "                  'NumTimesCartedinSession','NumTimesViewedinSession',             \n",
    "                         'maxPrice',    'minPrice',         \n",
    "           'AvgAmtCartedInSession',  'AvgAmtViewedInSession',\n",
    "        'NumCategoriesCartedinSession', 'NumCategoriesViewedinSession',\n",
    "                  'OverallAmtUserCarted','OverallAmtUserViewed',\n",
    "             'NumProdsCartedInSession',   'NumProdsViewedInSession'   ,\n",
    "                 'NumBrandsCartedInSession',   'NumBrandsViewedInSession'    ]"
   ]
  },
  {
   "cell_type": "markdown",
   "metadata": {
    "colab_type": "text",
    "id": "0iC-daXdTEax"
   },
   "source": [
    "Subsets for clustering"
   ]
  },
  {
   "cell_type": "code",
   "execution_count": null,
   "metadata": {
    "colab": {},
    "colab_type": "code",
    "id": "FLGC7Cp7Ga9i"
   },
   "outputs": [],
   "source": [
    "#Enter the desired subset size\n",
    "\n",
    "Subset_size = 50000  "
   ]
  },
  {
   "cell_type": "code",
   "execution_count": null,
   "metadata": {
    "colab": {},
    "colab_type": "code",
    "id": "9Mko0OJXaRvq"
   },
   "outputs": [],
   "source": [
    "MMscaler = MinMaxScaler()\n",
    "XSelect = XData[SelectFeatures]\n",
    "XSample = XSelect[:Subset_size].iloc[:,:]\n",
    "SampleCol = XSample.columns\n",
    "\n",
    "XSample = MMscaler.fit_transform(XSample)\n",
    "XSample = pd.DataFrame(XSample,columns=SampleCol)"
   ]
  },
  {
   "cell_type": "code",
   "execution_count": null,
   "metadata": {
    "colab": {},
    "colab_type": "code",
    "id": "03y_XB3eUryM"
   },
   "outputs": [],
   "source": [
    "YSample = YData[:Subset_size]"
   ]
  },
  {
   "cell_type": "code",
   "execution_count": null,
   "metadata": {},
   "outputs": [],
   "source": [
    "YSample.value_counts()"
   ]
  },
  {
   "cell_type": "code",
   "execution_count": null,
   "metadata": {
    "colab": {
     "base_uri": "https://localhost:8080/",
     "height": 332
    },
    "colab_type": "code",
    "id": "P-UfRR6L9FnW",
    "outputId": "b2ea7389-0373-43d4-f31f-60bb1d31a440"
   },
   "outputs": [],
   "source": [
    "display(XSample.head())\n",
    "display(YSample.head())"
   ]
  },
  {
   "cell_type": "markdown",
   "metadata": {
    "colab_type": "text",
    "id": "0NTCJ4B_YA28"
   },
   "source": [
    "#    \n",
    "************************************************\n",
    "************************************************"
   ]
  },
  {
   "cell_type": "markdown",
   "metadata": {
    "colab_type": "text",
    "id": "9L4WEj9GDBXT"
   },
   "source": [
    "# 8. ***`STRATIFIED SAMPLING`***\n",
    "\n",
    "XSampleSS - Stratified X Sample\n",
    "\n",
    "YSampleSS - Stratified Y Sample\n"
   ]
  },
  {
   "cell_type": "markdown",
   "metadata": {
    "colab_type": "text",
    "id": "SRt8BivG0x7T"
   },
   "source": [
    "## Generating Sample"
   ]
  },
  {
   "cell_type": "code",
   "execution_count": null,
   "metadata": {
    "colab": {},
    "colab_type": "code",
    "id": "L84PBb2wxs5F"
   },
   "outputs": [],
   "source": [
    "from sklearn.model_selection import StratifiedShuffleSplit\n",
    "sss = StratifiedShuffleSplit(n_splits=10, test_size = 0.009, random_state=42)\n"
   ]
  },
  {
   "cell_type": "code",
   "execution_count": null,
   "metadata": {
    "colab": {},
    "colab_type": "code",
    "id": "PfjVYeWByGRw"
   },
   "outputs": [],
   "source": [
    "for train_index, test_index in sss.split(XData, YData):\n",
    "    XSSS_Train = XData.loc[train_index]\n",
    "    XSSS_Test = XData.loc[test_index]\n",
    "    YSSS_Train = YData.loc[train_index]\n",
    "    YSSS_Test = YData.loc[test_index]\n"
   ]
  },
  {
   "cell_type": "code",
   "execution_count": null,
   "metadata": {
    "colab": {
     "base_uri": "https://localhost:8080/",
     "height": 53
    },
    "colab_type": "code",
    "id": "VGbOayCF96TB",
    "outputId": "a3256f39-6485-4eb7-f312-1e971610a65e"
   },
   "outputs": [],
   "source": [
    "XSampleSS = XSSS_Test\n",
    "print(XSampleSS.shape)\n",
    "YSampleSS = YSSS_Test\n",
    "print(YSampleSS.shape)"
   ]
  },
  {
   "cell_type": "code",
   "execution_count": null,
   "metadata": {},
   "outputs": [],
   "source": [
    "# FOR COSMETICS DATA\n",
    "\n",
    "SelectFeatures = ['TotalEventsInSession', 'interactionTime',\n",
    "                  'NumTimesCartedinSession','NumTimesRemovedinSession','NumTimesViewedinSession',\n",
    "                         'maxPrice',    'minPrice',         \n",
    "            'AvgAmtCartedInSession','AvgAmountRemovedinSession',    'AvgAmtViewedInSession',\n",
    "       'NumCategoriesViewedinSession', 'NumCategoriesCartedinSession', 'NumCategoriesRemovedinSession',\n",
    "                  'OverallAmtUserCarted','OverallAmtUserViewed',         'OverallAmtUserRemoved',\n",
    "             'NumProdsViewedinSession', 'NumProdsCartedInSession',      'NumProdsRemovedinSession']"
   ]
  },
  {
   "cell_type": "code",
   "execution_count": null,
   "metadata": {},
   "outputs": [],
   "source": [
    "# FOR ELECTRONICS DATA\n",
    "\n",
    "SelectFeatures = ['TotalEventsInSession', 'interactionTime',\n",
    "                  'NumTimesCartedinSession','NumTimesViewedinSession',             \n",
    "                         'maxPrice',    'minPrice',         \n",
    "           'AvgAmtCartedInSession',  'AvgAmtViewedInSession',\n",
    "        'NumCategoriesCartedinSession', 'NumCategoriesViewedinSession',\n",
    "                  'OverallAmtUserCarted','OverallAmtUserViewed',\n",
    "             'NumProdsCartedInSession',   'NumProdsViewedInSession'   ,\n",
    "                 'NumBrandsCartedInSession',   'NumBrandsViewedInSession'    ]"
   ]
  },
  {
   "cell_type": "code",
   "execution_count": null,
   "metadata": {},
   "outputs": [],
   "source": [
    "XSampleSS = XSampleSS[SelectFeatures]"
   ]
  },
  {
   "cell_type": "code",
   "execution_count": null,
   "metadata": {},
   "outputs": [],
   "source": [
    "XSampleSS = XSampleSS.iloc[:,:]\n",
    "SampleColSS = XSampleSS.columns"
   ]
  },
  {
   "cell_type": "code",
   "execution_count": null,
   "metadata": {},
   "outputs": [],
   "source": [
    "XSampleSS = MMscaler.fit_transform(XSampleSS)\n",
    "XSampleSS = pd.DataFrame(XSampleSS,columns=SampleColSS)"
   ]
  },
  {
   "cell_type": "code",
   "execution_count": null,
   "metadata": {
    "colab": {
     "base_uri": "https://localhost:8080/",
     "height": 224
    },
    "colab_type": "code",
    "id": "kYI5U15pJ115",
    "outputId": "fd533a1e-2dc9-48e7-f6f2-f53dc977fd87"
   },
   "outputs": [],
   "source": [
    "XSampleSS.head()"
   ]
  },
  {
   "cell_type": "code",
   "execution_count": null,
   "metadata": {
    "colab": {
     "base_uri": "https://localhost:8080/",
     "height": 35
    },
    "colab_type": "code",
    "id": "O4yeVSpMJ4Dw",
    "outputId": "68f54052-bdb5-4721-8ac1-2cbdcfe08022"
   },
   "outputs": [],
   "source": [
    "YSampleSS.values"
   ]
  },
  {
   "cell_type": "code",
   "execution_count": null,
   "metadata": {},
   "outputs": [],
   "source": [
    "YSampleSS.value_counts()"
   ]
  },
  {
   "cell_type": "markdown",
   "metadata": {
    "colab_type": "text",
    "id": "i67r7vmXYIfg"
   },
   "source": [
    "#    \n",
    "************************************************\n",
    "************************************************"
   ]
  },
  {
   "cell_type": "markdown",
   "metadata": {
    "colab_type": "text",
    "id": "MPV2odYo93G0"
   },
   "source": [
    "# 9. ***`T-SNE`***"
   ]
  },
  {
   "cell_type": "markdown",
   "metadata": {},
   "source": [
    "## T-SNE FUNCTIONS SETUP"
   ]
  },
  {
   "cell_type": "code",
   "execution_count": null,
   "metadata": {
    "colab": {},
    "colab_type": "code",
    "id": "c9FtVX02lwQe"
   },
   "outputs": [],
   "source": [
    "def generate_tsne(sample_X, sample_Y, perp):\n",
    "    \"\"\"\n",
    "    Parameter : Perplexity (5 to 50, increase with density)\n",
    "    \"\"\"\n",
    "    tsne = TSNE(n_components=2, perplexity = perp, n_iter = 300, learning_rate=100)\n",
    "    tsne_results = tsne.fit_transform(sample_X)\n",
    "    df_tsne = pd.DataFrame(tsne_results, columns=['comp1','comp2'])\n",
    "    df_tsne['label'] = sample_Y.values\n",
    "    return df_tsne"
   ]
  },
  {
   "cell_type": "code",
   "execution_count": null,
   "metadata": {
    "colab": {},
    "colab_type": "code",
    "id": "ZCEmBkTC7ArG"
   },
   "outputs": [],
   "source": [
    "def viz_TSNE(df_tsne):\n",
    "    plt.figure(figsize=(9,6))\n",
    "    sns.lmplot(x='comp1', y='comp2', data = df_tsne, hue='label', fit_reg=False)\n",
    "    plt.show()"
   ]
  },
  {
   "cell_type": "markdown",
   "metadata": {
    "colab_type": "text",
    "id": "MXUidGN-Hyc3"
   },
   "source": [
    "## **TSNE ITERATIONS**"
   ]
  },
  {
   "cell_type": "markdown",
   "metadata": {
    "colab_type": "text",
    "id": "l8enaVk9IOEj"
   },
   "source": [
    "## Trial 1\n",
    "\n",
    "Using a Stratified Sample\n",
    "\n",
    "(n_components=2, perplexity = perp, n_iter = 1000, learning_rate=100)\n",
    "\n",
    "Sample Size ~ 56k\n"
   ]
  },
  {
   "cell_type": "markdown",
   "metadata": {
    "colab_type": "text",
    "id": "ydhMDx6WRwBa"
   },
   "source": [
    "### 1.1\n",
    "Perplexity = 10"
   ]
  },
  {
   "cell_type": "code",
   "execution_count": null,
   "metadata": {
    "colab": {},
    "colab_type": "code",
    "id": "FPw_zDMWIROB"
   },
   "outputs": [],
   "source": [
    "dfSS10 = generate_tsne(XSampleSS, YSampleSS, 10)"
   ]
  },
  {
   "cell_type": "code",
   "execution_count": null,
   "metadata": {
    "colab": {
     "base_uri": "https://localhost:8080/",
     "height": 383
    },
    "colab_type": "code",
    "id": "p9dh1ue3Mw2d",
    "outputId": "1107fb24-dd28-4a18-9d1b-a6b81015e8a2"
   },
   "outputs": [],
   "source": [
    "viz_TSNE(dfSS10)"
   ]
  },
  {
   "cell_type": "markdown",
   "metadata": {
    "colab_type": "text",
    "id": "Wtw_kJ1MSEjY"
   },
   "source": [
    "### 1.2\n",
    "Perplexity = 30"
   ]
  },
  {
   "cell_type": "code",
   "execution_count": null,
   "metadata": {
    "colab": {},
    "colab_type": "code",
    "id": "RK7hWWPkSLar"
   },
   "outputs": [],
   "source": [
    "dfSS30= generate_tsne(XSampleSS, YSampleSS, 30)"
   ]
  },
  {
   "cell_type": "code",
   "execution_count": null,
   "metadata": {
    "colab": {
     "base_uri": "https://localhost:8080/",
     "height": 383
    },
    "colab_type": "code",
    "id": "BP0evqmGTOFu",
    "outputId": "2f1768a5-bd1f-44a7-da02-41999f54ba3b"
   },
   "outputs": [],
   "source": [
    "viz_TSNE(dfSS30)"
   ]
  },
  {
   "cell_type": "markdown",
   "metadata": {
    "colab_type": "text",
    "id": "Wtw_kJ1MSEjY"
   },
   "source": [
    "### 1.2\n",
    "Perplexity = 50"
   ]
  },
  {
   "cell_type": "code",
   "execution_count": null,
   "metadata": {},
   "outputs": [],
   "source": [
    "dfSS50= generate_tsne(XSampleSS, YSampleSS, 50)"
   ]
  },
  {
   "cell_type": "code",
   "execution_count": null,
   "metadata": {},
   "outputs": [],
   "source": [
    "viz_TSNE(dfSS50)"
   ]
  },
  {
   "cell_type": "markdown",
   "metadata": {
    "colab_type": "text",
    "id": "UoFeMsWtUNLX"
   },
   "source": [
    "#    \n",
    "************************************************\n",
    "************************************************"
   ]
  },
  {
   "cell_type": "markdown",
   "metadata": {
    "colab_type": "text",
    "id": "dzgx9NNBk39S"
   },
   "source": [
    "# 10. ***`CLUSTERING`***"
   ]
  },
  {
   "cell_type": "markdown",
   "metadata": {
    "colab_type": "text",
    "id": "AZo0SeKiKJbi"
   },
   "source": [
    "## Visualizing PCA of entire Data | PRE - CLUSTERING"
   ]
  },
  {
   "cell_type": "code",
   "execution_count": null,
   "metadata": {
    "colab": {},
    "colab_type": "code",
    "id": "c8pxNmHPoxPp"
   },
   "outputs": [],
   "source": [
    "X_principal = pd.read_pickle(\"X_principal.pkl\")"
   ]
  },
  {
   "cell_type": "code",
   "execution_count": null,
   "metadata": {
    "colab": {
     "base_uri": "https://localhost:8080/",
     "height": 537
    },
    "colab_type": "code",
    "id": "vvwq_ttPrLIy",
    "outputId": "727101f4-ceb9-433f-9a64-9e99aa8fce33"
   },
   "outputs": [],
   "source": [
    "fig = plt.figure(figsize=(12, 9))\n",
    "ax = fig.add_subplot(111, projection='3d')\n",
    "\n",
    "xs = X_principal['P1']\n",
    "ys = X_principal['P2']\n",
    "zs = Y\n",
    "ax.scatter(xs, ys, zs, s=50, alpha=0.6, edgecolors='w')\n",
    "\n",
    "ax.set_xlabel('P1')\n",
    "ax.set_ylabel('P2')\n",
    "ax.set_zlabel('Label')"
   ]
  },
  {
   "cell_type": "markdown",
   "metadata": {
    "colab_type": "text",
    "id": "Q7xJb_mJHTHI"
   },
   "source": [
    "## DBSCAN FUNCTION"
   ]
  },
  {
   "cell_type": "code",
   "execution_count": null,
   "metadata": {
    "colab": {},
    "colab_type": "code",
    "id": "2DdNgZu1y1UM"
   },
   "outputs": [],
   "source": [
    "def dbscan(X, eps, min_samples):\n",
    "    X = X.iloc[:,:].values\n",
    "    db = DBSCAN(eps=eps, min_samples=min_samples)\n",
    "    db.fit(X)\n",
    "    y_pred = db.fit_predict(X)\n",
    "    labels = db.labels_\n",
    "    n_clusters_ = len(set(labels)) - (1 if -1 in labels else 0)\n",
    "    plt.scatter(X[:,0], X[:,1],c=y_pred, cmap='Paired')\n",
    "    plt.title(\"DBSCAN\")\n",
    "    print('Estimated number of clusters: %d' % n_clusters_)"
   ]
  },
  {
   "cell_type": "markdown",
   "metadata": {
    "colab_type": "text",
    "id": "jxkxAJ4gd4NZ"
   },
   "source": [
    "####  *Finding Optimal Eps value for DBSCAN*"
   ]
  },
  {
   "cell_type": "code",
   "execution_count": null,
   "metadata": {
    "colab": {},
    "colab_type": "code",
    "id": "8ZkRDoJUvSKH"
   },
   "outputs": [],
   "source": [
    "NN = NearestNeighbors(n_neighbors=100)\n",
    "nbrs = NN.fit(XSampleSS)"
   ]
  },
  {
   "cell_type": "code",
   "execution_count": null,
   "metadata": {
    "colab": {},
    "colab_type": "code",
    "id": "5CGXCsRf85Oh"
   },
   "outputs": [],
   "source": [
    "distances, indices = nbrs.kneighbors(XSampleSS)\n",
    "distances = np.sort(distances, axis=0)\n",
    "distances = distances[:,1]\n",
    "plt.plot(distances)\n",
    "plt.ylim([0,1])\n",
    "plt.show()"
   ]
  },
  {
   "cell_type": "markdown",
   "metadata": {
    "colab_type": "text",
    "id": "odo10aeRA6uh"
   },
   "source": [
    "## CLUSTERING after PCA"
   ]
  },
  {
   "cell_type": "markdown",
   "metadata": {
    "colab_type": "text",
    "id": "zYSi6r73Bb9P"
   },
   "source": [
    "### Number of records 50k"
   ]
  },
  {
   "cell_type": "code",
   "execution_count": null,
   "metadata": {
    "colab": {
     "base_uri": "https://localhost:8080/",
     "height": 302
    },
    "colab_type": "code",
    "id": "P23Fe5M7BvvH",
    "outputId": "05faf908-f211-4a0d-fa8d-a99535dd0f22"
   },
   "outputs": [],
   "source": [
    "#dbscan(Xf,0.03,1000)"
   ]
  },
  {
   "cell_type": "code",
   "execution_count": null,
   "metadata": {
    "colab": {
     "base_uri": "https://localhost:8080/"
    },
    "colab_type": "code",
    "id": "0JNuL_o_CFv5",
    "outputId": "412e806b-803e-45ac-ae97-237230e9b885"
   },
   "outputs": [],
   "source": [
    "#dbscan(Xf,0.05,1000)"
   ]
  },
  {
   "cell_type": "code",
   "execution_count": null,
   "metadata": {
    "colab": {
     "base_uri": "https://localhost:8080/"
    },
    "colab_type": "code",
    "id": "slA9dZFmCpaX",
    "outputId": "a9e36d7c-04ed-4aaa-c3fd-a055f77c3cc2"
   },
   "outputs": [],
   "source": [
    "#dbscan(Xf,0.05,100)"
   ]
  },
  {
   "cell_type": "code",
   "execution_count": null,
   "metadata": {
    "colab": {
     "base_uri": "https://localhost:8080/"
    },
    "colab_type": "code",
    "id": "U-tkvrSQCrAe",
    "outputId": "67099e6f-b584-42fc-a0e4-5330e2a9c34c"
   },
   "outputs": [],
   "source": [
    "#dbscan(Xf,0.01,100)"
   ]
  },
  {
   "cell_type": "markdown",
   "metadata": {
    "colab_type": "text",
    "id": "XYPoGgBFUqoa"
   },
   "source": [
    "## CLUSTERING after TSNE"
   ]
  },
  {
   "cell_type": "code",
   "execution_count": null,
   "metadata": {
    "colab": {
     "base_uri": "https://localhost:8080/",
     "height": 80
    },
    "colab_type": "code",
    "id": "LNOxj8T-UxnL",
    "outputId": "2fd90a84-ac18-4c37-d724-0a9b36e5fe59"
   },
   "outputs": [],
   "source": [
    "dfX = dfSS30.loc[:,:'comp2']\n",
    "dfX.head(1)"
   ]
  },
  {
   "cell_type": "code",
   "execution_count": null,
   "metadata": {
    "colab": {
     "base_uri": "https://localhost:8080/",
     "height": 302
    },
    "colab_type": "code",
    "id": "E_f3hSLpWysi",
    "outputId": "38f546c0-5b82-4809-dee6-c0abca4accab",
    "scrolled": true
   },
   "outputs": [],
   "source": [
    "dbscan(dfX, 0.05, 100)"
   ]
  },
  {
   "cell_type": "markdown",
   "metadata": {
    "colab_type": "text",
    "id": "endX1LsSYMv5"
   },
   "source": [
    "#    \n",
    "************************************************\n",
    "************************************************"
   ]
  }
 ],
 "metadata": {
  "accelerator": "TPU",
  "colab": {
   "collapsed_sections": [
    "bT8i5xunlOfP",
    "ECsPJGRZnQA0",
    "6biIT_-vmIJ1",
    "gRuRzNY7uyzq",
    "p5QCUXDPmIKE",
    "OBf57YhOmIKb",
    "1bLGe9EhosTZ",
    "CrK1G_NrmIKb",
    "j0O195PMmIKe",
    "pXWshG_GmIKg",
    "xqni0t8qmIKi",
    "zfoHTadLmIKm",
    "9xj6g7WYmIKp",
    "WOa46DPOmIKr",
    "4zhcAXGFmIKu",
    "zENtm4FMmIKw",
    "fr5VhJALmIK0",
    "z3Pj1K77mIK5",
    "vUhhAGmjmIK-",
    "B2ZOAk6EmILP",
    "SIQBpFGKmILZ",
    "JTZcZUY76jRt",
    "AiYoEPRvmILf",
    "LC-3jPVumILY",
    "2yFnUuk_mILi",
    "qBx-40eZmILq",
    "meybcudd3eaK",
    "blJutxAqTcty",
    "TwMhzw8GUJuG",
    "YSdOTIkg6OKu",
    "ezEy7J5amILv",
    "vWLhQF4juAD8",
    "WRxFIw40ZIk_",
    "SRt8BivG0x7T",
    "MPV2odYo93G0",
    "MXUidGN-Hyc3",
    "KThRImX-qys3",
    "pqf_rd2BIJTs",
    "j0MLR5vlrFMW",
    "_2_Lg6tg6EE1",
    "QpmtUAtv8jep",
    "905TestGLC8N",
    "dzgx9NNBk39S",
    "AZo0SeKiKJbi",
    "Q7xJb_mJHTHI",
    "jxkxAJ4gd4NZ",
    "zYSi6r73Bb9P",
    "XYPoGgBFUqoa"
   ],
   "machine_shape": "hm",
   "name": "NEW Session Features - Electronics.ipnyb",
   "provenance": []
  },
  "kernelspec": {
   "display_name": "Python 3",
   "language": "python",
   "name": "python3"
  },
  "language_info": {
   "codemirror_mode": {
    "name": "ipython",
    "version": 3
   },
   "file_extension": ".py",
   "mimetype": "text/x-python",
   "name": "python",
   "nbconvert_exporter": "python",
   "pygments_lexer": "ipython3",
   "version": "3.7.4"
  }
 },
 "nbformat": 4,
 "nbformat_minor": 1
}
