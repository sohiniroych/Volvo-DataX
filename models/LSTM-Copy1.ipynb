{
 "cells": [
  {
   "cell_type": "code",
   "execution_count": 1,
   "metadata": {},
   "outputs": [
    {
     "name": "stderr",
     "output_type": "stream",
     "text": [
      "Using TensorFlow backend.\n"
     ]
    }
   ],
   "source": [
    "import numpy as np\n",
    "import pandas as pd\n",
    "#from fbprophet import Prophet\n",
    "#import pystan\n",
    "from sklearn.preprocessing import OneHotEncoder\n",
    "from keras.models import Sequential\n",
    "from keras.layers import Dense\n",
    "from keras.layers import LSTM\n",
    "from keras.layers import Flatten\n",
    "from sklearn.preprocessing import MinMaxScaler\n",
    "from sklearn.metrics import mean_squared_error\n",
    "from matplotlib import pyplot"
   ]
  },
  {
   "cell_type": "code",
   "execution_count": 2,
   "metadata": {},
   "outputs": [],
   "source": [
    "from keras.layers import Bidirectional\n",
    "from keras.layers import TimeDistributed"
   ]
  },
  {
   "cell_type": "code",
   "execution_count": 4,
   "metadata": {},
   "outputs": [],
   "source": [
    "n_timesteps = 10"
   ]
  },
  {
   "cell_type": "code",
   "execution_count": 3,
   "metadata": {},
   "outputs": [],
   "source": [
    "data = pd.read_csv('all_features.csv')"
   ]
  },
  {
   "cell_type": "code",
   "execution_count": 4,
   "metadata": {
    "scrolled": true
   },
   "outputs": [
    {
     "data": {
      "text/plain": [
       "array([[1, 0],\n",
       "       [1, 0],\n",
       "       [1, 0],\n",
       "       ...,\n",
       "       [1, 0],\n",
       "       [1, 0],\n",
       "       [1, 0]], dtype=uint8)"
      ]
     },
     "execution_count": 4,
     "metadata": {},
     "output_type": "execute_result"
    }
   ],
   "source": [
    "# One Hot Encoding\n",
    "y = data['purchase']\n",
    "y = pd.get_dummies(y).values\n",
    "y"
   ]
  },
  {
   "cell_type": "code",
   "execution_count": 5,
   "metadata": {},
   "outputs": [
    {
     "data": {
      "text/plain": [
       "(10157290, 2)"
      ]
     },
     "execution_count": 5,
     "metadata": {},
     "output_type": "execute_result"
    }
   ],
   "source": [
    "y.shape"
   ]
  },
  {
   "cell_type": "code",
   "execution_count": 8,
   "metadata": {
    "scrolled": true
   },
   "outputs": [],
   "source": [
    "selected = data.loc[:,['event_type', 'Sales', '# Sessions', 'InteractionTime','max_price', 'min_price','# Cart',\n",
    "       '# View', '# Remove', 'insession_cart','purchase']]"
   ]
  },
  {
   "cell_type": "markdown",
   "metadata": {},
   "source": [
    "# SMOTE"
   ]
  },
  {
   "cell_type": "code",
   "execution_count": 20,
   "metadata": {},
   "outputs": [],
   "source": [
    "data = data.fillna(0)"
   ]
  },
  {
   "cell_type": "code",
   "execution_count": 10,
   "metadata": {},
   "outputs": [],
   "source": [
    "import imblearn"
   ]
  },
  {
   "cell_type": "code",
   "execution_count": 11,
   "metadata": {},
   "outputs": [
    {
     "name": "stdout",
     "output_type": "stream",
     "text": [
      "0.7.0\n"
     ]
    }
   ],
   "source": [
    "print(imblearn.__version__)"
   ]
  },
  {
   "cell_type": "code",
   "execution_count": 4,
   "metadata": {},
   "outputs": [],
   "source": [
    "from imblearn.over_sampling import SMOTE"
   ]
  },
  {
   "cell_type": "code",
   "execution_count": 15,
   "metadata": {},
   "outputs": [],
   "source": [
    "import collections\n",
    "counter = collections.Counter(data['purchase'].values)"
   ]
  },
  {
   "cell_type": "code",
   "execution_count": 16,
   "metadata": {
    "scrolled": false
   },
   "outputs": [
    {
     "name": "stdout",
     "output_type": "stream",
     "text": [
      "Counter({False: 8931518, True: 1225772})\n"
     ]
    }
   ],
   "source": [
    "print(counter)"
   ]
  },
  {
   "cell_type": "code",
   "execution_count": 21,
   "metadata": {},
   "outputs": [],
   "source": [
    "#SMOTE\n",
    "oversample = SMOTE()\n",
    "data,label=oversample.fit_sample(data.iloc[:,:-1],data.iloc[:,-1])"
   ]
  },
  {
   "cell_type": "code",
   "execution_count": 22,
   "metadata": {},
   "outputs": [],
   "source": [
    "counter2 = collections.Counter(label)"
   ]
  },
  {
   "cell_type": "code",
   "execution_count": 23,
   "metadata": {
    "scrolled": true
   },
   "outputs": [
    {
     "name": "stdout",
     "output_type": "stream",
     "text": [
      "Counter({False: 8931518, True: 8931518})\n"
     ]
    }
   ],
   "source": [
    "print(counter2)"
   ]
  },
  {
   "cell_type": "code",
   "execution_count": 25,
   "metadata": {},
   "outputs": [],
   "source": [
    "data.to_csv('smotedata.csv')"
   ]
  },
  {
   "cell_type": "code",
   "execution_count": 26,
   "metadata": {},
   "outputs": [],
   "source": [
    "label.to_csv('smotelabel.csv')"
   ]
  },
  {
   "cell_type": "code",
   "execution_count": 21,
   "metadata": {},
   "outputs": [],
   "source": [
    "values = data.values"
   ]
  },
  {
   "cell_type": "code",
   "execution_count": 22,
   "metadata": {},
   "outputs": [
    {
     "data": {
      "text/plain": [
       "(10157290, 10)"
      ]
     },
     "execution_count": 22,
     "metadata": {},
     "output_type": "execute_result"
    }
   ],
   "source": [
    "values.shape"
   ]
  },
  {
   "cell_type": "markdown",
   "metadata": {},
   "source": [
    "# Balancing Data"
   ]
  },
  {
   "cell_type": "code",
   "execution_count": 18,
   "metadata": {},
   "outputs": [
    {
     "data": {
      "text/plain": [
       "0.013234534014486148"
      ]
     },
     "execution_count": 18,
     "metadata": {},
     "output_type": "execute_result"
    }
   ],
   "source": [
    "# Conversion Rate\n",
    "134427/10157290"
   ]
  },
  {
   "cell_type": "code",
   "execution_count": 29,
   "metadata": {},
   "outputs": [],
   "source": [
    "purchase = selected[selected['purchase']==True]\n",
    "# 1225772 records in total"
   ]
  },
  {
   "cell_type": "code",
   "execution_count": null,
   "metadata": {},
   "outputs": [],
   "source": [
    "1225772/(1225772+1500000)"
   ]
  },
  {
   "cell_type": "code",
   "execution_count": 31,
   "metadata": {},
   "outputs": [
    {
     "data": {
      "text/plain": [
       "(8931518, 11)"
      ]
     },
     "execution_count": 31,
     "metadata": {},
     "output_type": "execute_result"
    }
   ],
   "source": [
    "not_purchase.shape"
   ]
  },
  {
   "cell_type": "code",
   "execution_count": 30,
   "metadata": {},
   "outputs": [],
   "source": [
    "not_purchase = selected[selected['purchase']==False]"
   ]
  },
  {
   "cell_type": "code",
   "execution_count": 32,
   "metadata": {},
   "outputs": [],
   "source": [
    "# dropping most of the False records, keep the purchase around half\n",
    "not_purchase = not_purchase.sample(n = 1500000)"
   ]
  },
  {
   "cell_type": "code",
   "execution_count": 33,
   "metadata": {},
   "outputs": [],
   "source": [
    "df = purchase.append(not_purchase)"
   ]
  },
  {
   "cell_type": "code",
   "execution_count": 37,
   "metadata": {},
   "outputs": [],
   "source": [
    "df.to_csv('samplingdata.csv')"
   ]
  },
  {
   "cell_type": "markdown",
   "metadata": {},
   "source": [
    "# Train Test Split"
   ]
  },
  {
   "cell_type": "code",
   "execution_count": 34,
   "metadata": {},
   "outputs": [],
   "source": [
    "X = df.iloc[:,:-1].values\n",
    "y = df.iloc[:,-1]"
   ]
  },
  {
   "cell_type": "code",
   "execution_count": 35,
   "metadata": {},
   "outputs": [
    {
     "data": {
      "text/plain": [
       "array([[0, 1],\n",
       "       [0, 1],\n",
       "       [0, 1],\n",
       "       ...,\n",
       "       [1, 0],\n",
       "       [1, 0],\n",
       "       [1, 0]], dtype=uint8)"
      ]
     },
     "execution_count": 35,
     "metadata": {},
     "output_type": "execute_result"
    }
   ],
   "source": [
    "y = pd.get_dummies(y).values\n",
    "y"
   ]
  },
  {
   "cell_type": "code",
   "execution_count": 36,
   "metadata": {},
   "outputs": [],
   "source": [
    "from sklearn.model_selection import train_test_split\n",
    "X_train, X_test, y_train, y_test = train_test_split(X, y,\n",
    "                                                    stratify=y, \n",
    "                                                    test_size=0.15)\n"
   ]
  },
  {
   "cell_type": "code",
   "execution_count": 37,
   "metadata": {
    "scrolled": true
   },
   "outputs": [
    {
     "data": {
      "text/plain": [
       "(array([[ 2.  , 11.  ,  1.  , ...,  0.  ,  0.  , 62.  ],\n",
       "        [ 1.  , 14.75,  1.  , ...,  1.  ,  0.  , 23.  ],\n",
       "        [ 3.  , 36.25,  2.  , ...,  1.  ,  0.  ,  6.  ],\n",
       "        ...,\n",
       "        [ 4.  ,  2.25,  2.  , ...,  1.  ,  2.  , 28.  ],\n",
       "        [ 2.  ,  4.5 ,  1.  , ...,  1.  ,  0.  ,  2.  ],\n",
       "        [ 1.  , 18.  ,  1.  , ...,  1.  ,  0.  ,  0.  ]]),\n",
       " array([[0, 1],\n",
       "        [1, 0],\n",
       "        [0, 1],\n",
       "        ...,\n",
       "        [1, 0],\n",
       "        [0, 1],\n",
       "        [1, 0]], dtype=uint8))"
      ]
     },
     "execution_count": 37,
     "metadata": {},
     "output_type": "execute_result"
    }
   ],
   "source": [
    "X_test,y_test"
   ]
  },
  {
   "cell_type": "code",
   "execution_count": 38,
   "metadata": {
    "scrolled": true
   },
   "outputs": [
    {
     "name": "stdout",
     "output_type": "stream",
     "text": [
      "(2316906, 1, 10) (2316906, 2) (408866, 1, 10) (408866, 2)\n"
     ]
    }
   ],
   "source": [
    "# reshape input to be 3D [samples, timesteps, features]\n",
    "X_train = X_train.reshape((X_train.shape[0], 1, X_train.shape[1]))\n",
    "X_test = X_test.reshape((X_test.shape[0], 1, X_test.shape[1]))\n",
    "print(X_train.shape, y_train.shape, X_test.shape, y_test.shape)"
   ]
  },
  {
   "cell_type": "markdown",
   "metadata": {},
   "source": [
    "# Parameter Tuning using GridSearchCV"
   ]
  },
  {
   "cell_type": "markdown",
   "metadata": {},
   "source": [
    "Try different batch_sizes and epochs"
   ]
  },
  {
   "cell_type": "markdown",
   "metadata": {},
   "source": [
    "### skip this cell first"
   ]
  },
  {
   "cell_type": "code",
   "execution_count": 25,
   "metadata": {},
   "outputs": [
    {
     "ename": "NameError",
     "evalue": "name 'model' is not defined",
     "output_type": "error",
     "traceback": [
      "\u001b[0;31m---------------------------------------------------------------------------\u001b[0m",
      "\u001b[0;31mNameError\u001b[0m                                 Traceback (most recent call last)",
      "\u001b[0;32m<ipython-input-25-2da801408060>\u001b[0m in \u001b[0;36m<module>\u001b[0;34m\u001b[0m\n\u001b[1;32m      6\u001b[0m \u001b[0mepochs\u001b[0m \u001b[0;34m=\u001b[0m \u001b[0;34m[\u001b[0m\u001b[0;36m5\u001b[0m\u001b[0;34m,\u001b[0m\u001b[0;36m10\u001b[0m\u001b[0;34m,\u001b[0m\u001b[0;36m50\u001b[0m\u001b[0;34m]\u001b[0m\u001b[0;34m\u001b[0m\u001b[0;34m\u001b[0m\u001b[0m\n\u001b[1;32m      7\u001b[0m \u001b[0mparameters\u001b[0m \u001b[0;34m=\u001b[0m \u001b[0;34m{\u001b[0m\u001b[0;34m'batch_size'\u001b[0m\u001b[0;34m:\u001b[0m \u001b[0mbatch_sizes\u001b[0m\u001b[0;34m,\u001b[0m \u001b[0;34m'epochs'\u001b[0m\u001b[0;34m:\u001b[0m \u001b[0mepochs\u001b[0m\u001b[0;34m}\u001b[0m\u001b[0;34m\u001b[0m\u001b[0;34m\u001b[0m\u001b[0m\n\u001b[0;32m----> 8\u001b[0;31m \u001b[0mclf\u001b[0m \u001b[0;34m=\u001b[0m \u001b[0mGridSearchCV\u001b[0m\u001b[0;34m(\u001b[0m\u001b[0mmodel\u001b[0m\u001b[0;34m,\u001b[0m \u001b[0mparameters\u001b[0m\u001b[0;34m)\u001b[0m\u001b[0;34m\u001b[0m\u001b[0;34m\u001b[0m\u001b[0m\n\u001b[0m\u001b[1;32m      9\u001b[0m \u001b[0mclf\u001b[0m\u001b[0;34m.\u001b[0m\u001b[0mfit\u001b[0m\u001b[0;34m(\u001b[0m\u001b[0mX_train\u001b[0m\u001b[0;34m,\u001b[0m \u001b[0my_train\u001b[0m\u001b[0;34m)\u001b[0m\u001b[0;34m\u001b[0m\u001b[0;34m\u001b[0m\u001b[0m\n",
      "\u001b[0;31mNameError\u001b[0m: name 'model' is not defined"
     ]
    }
   ],
   "source": [
    "from sklearn.model_selection import GridSearchCV\n",
    "from keras.wrappers.scikit_learn import KerasClassifier\n",
    "MODEL = KerasClassifier(build_fn = c_model)\n",
    "\n",
    "batch_sizes = [50, 100, 200, 500, 1000, 2000]\n",
    "epochs = [5,10,50]\n",
    "parameters = {'batch_size': batch_sizes, 'epochs': epochs}\n",
    "clf = GridSearchCV(model, parameters)\n",
    "clf.fit(X_train, y_train)"
   ]
  },
  {
   "cell_type": "markdown",
   "metadata": {},
   "source": [
    "### Start here"
   ]
  },
  {
   "cell_type": "markdown",
   "metadata": {},
   "source": [
    "Tune optimizer"
   ]
  },
  {
   "cell_type": "code",
   "execution_count": 41,
   "metadata": {},
   "outputs": [],
   "source": [
    "def c_model(optimizer):\n",
    "    model = Sequential()\n",
    "    model.add(Bidirectional(LSTM(40, return_sequences=True), input_shape=(1,10)))\n",
    "    model.add(Dense(20, activation='relu'))\n",
    "    model.add(Dense(10, activation='sigmoid'))\n",
    "    model.add(Dense(5, activation='tanh'))\n",
    "    model.add(TimeDistributed(Dense(1)))\n",
    "    model.add(Flatten())\n",
    "\n",
    "    model.add(Dense(2, activation='softmax'))\n",
    "    # Compile model\n",
    "    model.compile(loss='categorical_crossentropy', optimizer=optimizer,metrics = ['accuracy'])\n",
    "    return model"
   ]
  },
  {
   "cell_type": "code",
   "execution_count": null,
   "metadata": {
    "scrolled": false
   },
   "outputs": [
    {
     "name": "stdout",
     "output_type": "stream",
     "text": [
      "Epoch 1/20\n",
      "1853524/1853524 [==============================] - 42s 22us/step - loss: nan - accuracy: 0.5503\n",
      "Epoch 2/20\n",
      "1853524/1853524 [==============================] - 41s 22us/step - loss: nan - accuracy: 0.5503\n",
      "Epoch 3/20\n",
      "1853524/1853524 [==============================] - 40s 22us/step - loss: nan - accuracy: 0.5503\n",
      "Epoch 4/20\n",
      "1853524/1853524 [==============================] - 40s 22us/step - loss: nan - accuracy: 0.5503 0s - loss: nan - accuracy: 0\n",
      "Epoch 5/20\n",
      "1853524/1853524 [==============================] - 40s 22us/step - loss: nan - accuracy: 0.5503\n",
      "Epoch 6/20\n",
      "1853524/1853524 [==============================] - 40s 22us/step - loss: nan - accuracy: 0.5503\n",
      "Epoch 7/20\n",
      "1853524/1853524 [==============================] - 40s 22us/step - loss: nan - accuracy: 0.5503\n",
      "Epoch 8/20\n",
      "1853524/1853524 [==============================] - 41s 22us/step - loss: nan - accuracy: 0.5503 4s - loss: - ETA: 0s - loss: nan  - ETA: 0s - loss: nan - accuracy: 0.55\n",
      "Epoch 9/20\n",
      "1853524/1853524 [==============================] - 41s 22us/step - loss: nan - accuracy: 0.5503\n",
      "Epoch 10/20\n",
      "1853524/1853524 [==============================] - 40s 22us/step - loss: nan - accuracy: 0.5503 1s - loss: na\n",
      "Epoch 11/20\n",
      "1853524/1853524 [==============================] - 41s 22us/step - loss: nan - accuracy: 0.5503\n",
      "Epoch 12/20\n",
      "1853524/1853524 [==============================] - 41s 22us/step - loss: nan - accuracy: 0.5503 3s - loss: nan -  - ETA: 2s - loss: na -\n",
      "Epoch 13/20\n",
      "1853524/1853524 [==============================] - 41s 22us/step - loss: nan - accuracy: 0.5503: - ETA: 1s - loss: nan - accuracy: 0. - ETA: \n",
      "Epoch 14/20\n",
      "1853524/1853524 [==============================] - 41s 22us/step - loss: nan - accuracy: 0.5503\n",
      "Epoch 15/20\n",
      "1853524/1853524 [==============================] - 41s 22us/step - loss: nan - accuracy: 0.5503\n",
      "Epoch 16/20\n",
      "1853524/1853524 [==============================] - 41s 22us/step - loss: nan - accuracy: 0.5503 ETA: 0s - loss: nan - accuracy: 0.5\n",
      "Epoch 17/20\n",
      "1853524/1853524 [==============================] - 41s 22us/step - loss: nan - accuracy: 0.5503\n",
      "Epoch 18/20\n",
      "1853524/1853524 [==============================] - 41s 22us/step - loss: nan - accuracy: 0.5503\n",
      "Epoch 19/20\n",
      "1853524/1853524 [==============================] - 41s 22us/step - loss: nan - accuracy: 0.5503 3s - loss: nan - accuracy: 0. - E - ETA: 1s - loss: nan -  - ETA: 0s - loss: nan - accur\n",
      "Epoch 20/20\n",
      "1853524/1853524 [==============================] - 41s 22us/step - loss: nan - accuracy: 0.5503\n",
      "463382/463382 [==============================] - 5s 10us/step\n",
      "Epoch 1/20\n",
      "1853525/1853525 [==============================] - 41s 22us/step - loss: nan - accuracy: 0.5504\n",
      "Epoch 2/20\n",
      "1853525/1853525 [==============================] - 43s 23us/step - loss: nan - accuracy: 0.5504\n",
      "Epoch 3/20\n",
      "1853525/1853525 [==============================] - 45s 24us/step - loss: nan - accuracy: 0.5504\n",
      "Epoch 4/20\n",
      "1853525/1853525 [==============================] - 41s 22us/step - loss: nan - accuracy: 0.5504\n",
      "Epoch 5/20\n",
      "1853525/1853525 [==============================] - 42s 23us/step - loss: nan - accuracy: 0.5504\n",
      "Epoch 6/20\n",
      "1853525/1853525 [==============================] - 44s 24us/step - loss: nan - accuracy: 0.5504\n",
      "Epoch 7/20\n",
      "1853525/1853525 [==============================] - 41s 22us/step - loss: nan - accuracy: 0.5504\n",
      "Epoch 8/20\n",
      "1853525/1853525 [==============================] - 43s 23us/step - loss: nan - accuracy: 0.5504\n",
      "Epoch 9/20\n",
      "1853525/1853525 [==============================] - 41s 22us/step - loss: nan - accuracy: 0.5504\n",
      "Epoch 10/20\n",
      "1853525/1853525 [==============================] - 40s 22us/step - loss: nan - accuracy: 0.5504\n",
      "Epoch 11/20\n",
      "1853525/1853525 [==============================] - 40s 21us/step - loss: nan - accuracy: 0.5504\n",
      "Epoch 12/20\n",
      "1853525/1853525 [==============================] - 40s 22us/step - loss: nan - accuracy: 0.5504\n",
      "Epoch 13/20\n",
      "1853525/1853525 [==============================] - 40s 22us/step - loss: nan - accuracy: 0.5504\n",
      "Epoch 14/20\n",
      "1853525/1853525 [==============================] - 40s 22us/step - loss: nan - accuracy: 0.5504\n",
      "Epoch 15/20\n",
      "1853525/1853525 [==============================] - 40s 22us/step - loss: nan - accuracy: 0.5504\n",
      "Epoch 16/20\n",
      "1853525/1853525 [==============================] - 40s 21us/step - loss: nan - accuracy: 0.5504\n",
      "Epoch 17/20\n",
      "1853525/1853525 [==============================] - 40s 22us/step - loss: nan - accuracy: 0.5504\n",
      "Epoch 18/20\n",
      "1853525/1853525 [==============================] - 40s 22us/step - loss: nan - accuracy: 0.5504 0s - loss: nan - accuracy: 0.55\n",
      "Epoch 19/20\n",
      "1853525/1853525 [==============================] - 40s 22us/step - loss: nan - accuracy: 0.5504 5s - loss: nan - ac - ETA: 4s - loss: nan - accuracy: 0.550 - ETA: 4s - loss: nan - accuracy: 0 - ETA: 4s - loss: nan - accuracy:  - ETA: 3s - loss: nan - accuracy: 0. - ETA: 3s - loss: n - ETA: 2s - loss: - ETA: 1s - loss\n",
      "Epoch 20/20\n",
      "1853525/1853525 [==============================] - 40s 21us/step - loss: nan - accuracy: 0.5504\n",
      "463381/463381 [==============================] - 4s 9us/step\n",
      "Epoch 1/20\n",
      "1853525/1853525 [==============================] - 42s 23us/step - loss: nan - accuracy: 0.5504 0s - loss: nan - accu\n",
      "Epoch 2/20\n",
      "1853525/1853525 [==============================] - 41s 22us/step - loss: nan - accuracy: 0.5504 7s - l - ETA: - ET - ETA: 0s - loss: nan - accuracy: \n",
      "Epoch 3/20\n",
      "1853525/1853525 [==============================] - 41s 22us/step - loss: nan - accuracy: 0.5504\n",
      "Epoch 4/20\n",
      "1853525/1853525 [==============================] - 41s 22us/step - loss: nan - accuracy: 0.5504\n",
      "Epoch 5/20\n",
      "1853525/1853525 [==============================] - 41s 22us/step - loss: nan - accuracy: 0.5504 1s - loss: nan - accuracy: 0. - ETA: 1s - loss: nan - ac - ETA: 0s - loss: nan\n",
      "Epoch 6/20\n",
      "1853525/1853525 [==============================] - 41s 22us/step - loss: nan - accuracy: 0.5504 1\n",
      "Epoch 7/20\n",
      "1853525/1853525 [==============================] - 41s 22us/step - loss: nan - accuracy: 0.5504 8s - loss: - - ETA: 1s - loss: nan - accuracy: 0.55 - ETA: 1s - loss: nan - ac - ETA: 0s - loss: nan - accurac\n",
      "Epoch 8/20\n",
      "1853525/1853525 [==============================] - 45s 24us/step - loss: nan - accuracy: 0.5504 0s - loss: nan - accuracy: 0.55 - ETA: 0s - loss: nan \n",
      "Epoch 9/20\n",
      "1853525/1853525 [==============================] - 47s 26us/step - loss: nan - accuracy: 0.5504 3s - loss: nan - accu - ETA: 2s - loss: nan - accura\n",
      "Epoch 10/20\n",
      "1853525/1853525 [==============================] - 46s 25us/step - loss: nan - accuracy: 0.5504 0s - loss: nan - accuracy: \n",
      "Epoch 11/20\n",
      "1853525/1853525 [==============================] - 47s 26us/step - loss: nan - accuracy: 0.5504\n",
      "Epoch 12/20\n",
      "1853525/1853525 [==============================] - 47s 25us/step - loss: nan - accuracy: 0.5504\n",
      "Epoch 13/20\n",
      "1853525/1853525 [==============================] - 46s 25us/step - loss: nan - accuracy: 0.5504 1s -\n",
      "Epoch 14/20\n",
      "1853525/1853525 [==============================] - 48s 26us/step - loss: nan - accuracy: 0.5504 2s - loss: nan - a - ETA: 1s -\n",
      "Epoch 15/20\n",
      "1853525/1853525 [==============================] - 46s 25us/step - loss: nan - accuracy: 0.5504 0s - loss: nan - accuracy: 0.\n",
      "Epoch 16/20\n",
      "1853525/1853525 [==============================] - 48s 26us/step - loss: nan - accuracy: 0.5504 0s - loss: nan - accuracy:\n",
      "Epoch 17/20\n",
      "1853525/1853525 [==============================] - 41s 22us/step - loss: nan - accuracy: 0.5504\n",
      "Epoch 18/20\n",
      "1853525/1853525 [==============================] - 40s 22us/step - loss: nan - accuracy: 0.5504\n",
      "Epoch 19/20\n",
      "1853525/1853525 [==============================] - 41s 22us/step - loss: nan - accuracy: 0.5504 0s - loss: nan -\n",
      "Epoch 20/20\n",
      "1853525/1853525 [==============================] - 40s 22us/step - loss: nan - accuracy: 0.5504\n",
      "463381/463381 [==============================] - 4s 9us/step\n",
      "Epoch 1/20\n",
      "1853525/1853525 [==============================] - 42s 22us/step - loss: nan - accuracy: 0.5501\n",
      "Epoch 2/20\n",
      "1853525/1853525 [==============================] - 41s 22us/step - loss: nan - accuracy: 0.5501\n",
      "Epoch 3/20\n",
      "1853525/1853525 [==============================] - 41s 22us/step - loss: nan - accuracy: 0.5501\n",
      "Epoch 4/20\n"
     ]
    },
    {
     "name": "stdout",
     "output_type": "stream",
     "text": [
      "1853525/1853525 [==============================] - 39s 21us/step - loss: nan - accuracy: 0.5501\n",
      "Epoch 5/20\n",
      "1853525/1853525 [==============================] - 39s 21us/step - loss: nan - accuracy: 0.5501\n",
      "Epoch 6/20\n",
      "1853525/1853525 [==============================] - 39s 21us/step - loss: nan - accuracy: 0.5501 1s - ETA: 0s - loss: nan - accuracy: 0.55\n",
      "Epoch 7/20\n",
      "1853525/1853525 [==============================] - 39s 21us/step - loss: nan - accuracy: 0.5501 1s \n",
      "Epoch 8/20\n",
      "1853525/1853525 [==============================] - 39s 21us/step - loss: nan - accuracy: 0.5501\n",
      "Epoch 9/20\n",
      "1853525/1853525 [==============================] - 40s 21us/step - loss: nan - accuracy: 0.5501\n",
      "Epoch 10/20\n",
      "1853525/1853525 [==============================] - 39s 21us/step - loss: nan - accuracy: 0.5501\n",
      "Epoch 11/20\n",
      "1853525/1853525 [==============================] - 39s 21us/step - loss: nan - accuracy: 0.5501 2s - loss: nan - a \n",
      "Epoch 12/20\n",
      "1853525/1853525 [==============================] - 39s 21us/step - loss: nan - accuracy: 0.5501\n",
      "Epoch 13/20\n",
      "1853525/1853525 [==============================] - 39s 21us/step - loss: nan - accuracy: 0.5501\n",
      "Epoch 14/20\n",
      "1853525/1853525 [==============================] - 38s 21us/step - loss: nan - accuracy: 0.5501\n",
      "Epoch 15/20\n",
      "1853525/1853525 [==============================] - 39s 21us/step - loss: nan - accuracy: 0.5501\n",
      "Epoch 16/20\n",
      "1853525/1853525 [==============================] - 39s 21us/step - loss: nan - accuracy: 0.5501\n",
      "Epoch 17/20\n",
      "1853525/1853525 [==============================] - 39s 21us/step - loss: nan - accuracy: 0.5501 9s - loss: nan - accuracy: 0.55 - ETA: 8s  - ETA: 5s - loss: nan - accuracy: 0.5 - ETA: 5s - loss: nan - - E - E - ETA: 0s - loss: nan - accur\n",
      "Epoch 18/20\n",
      "1853525/1853525 [==============================] - 39s 21us/step - loss: nan - accuracy: 0.5501-  - ETA: 9s  - ETA: 8s -  - ETA: 6s - loss: nan -  - ETA: 1s - loss: nan - a - ETA: 1s - loss: n\n",
      "Epoch 19/20\n",
      "1853525/1853525 [==============================] - 39s 21us/step - loss: nan - accuracy: 0.5501\n",
      "Epoch 20/20\n",
      "1853525/1853525 [==============================] - 39s 21us/step - loss: nan - accuracy: 0.5501\n",
      "463381/463381 [==============================] - 4s 9us/step\n",
      "Epoch 1/20\n",
      "1853525/1853525 [==============================] - 40s 22us/step - loss: nan - accuracy: 0.5502 6s - loss: nan - ac - ETA: 5s - l \n",
      "Epoch 2/20\n",
      "1853525/1853525 [==============================] - 39s 21us/step - loss: nan - accuracy: 0.5502\n",
      "Epoch 3/20\n",
      "1853525/1853525 [==============================] - 39s 21us/step - loss: nan - accuracy: 0.5502 1s - loss: \n",
      "Epoch 4/20\n",
      "1853525/1853525 [==============================] - 39s 21us/step - loss: nan - accuracy: 0.5502  - ETA: 3s - loss: nan - ac - ETA - ETA: 0s - loss: nan - a\n",
      "Epoch 5/20\n",
      "1853525/1853525 [==============================] - 39s 21us/step - loss: nan - accuracy: 0.5502 0s - loss: nan - accuracy: \n",
      "Epoch 6/20\n",
      "1853525/1853525 [==============================] - 40s 21us/step - loss: nan - accuracy: 0.5502 3s - loss: nan  - ETA: 2s - loss: nan - accur - ET\n",
      "Epoch 7/20\n",
      "1853525/1853525 [==============================] - 39s 21us/step - loss: nan - accuracy: 0.5502 0s - loss: nan - accuracy: 0.5 - ETA: 0s - loss: nan - accura - ETA: 0s - loss: nan - accuracy: 0.\n",
      "Epoch 8/20\n",
      "1853525/1853525 [==============================] - 39s 21us/step - loss: nan - accuracy: 0.5502\n",
      "Epoch 9/20\n",
      "1853525/1853525 [==============================] - 39s 21us/step - loss: nan - accuracy: 0.5502\n",
      "Epoch 10/20\n",
      "1853525/1853525 [==============================] - 39s 21us/step - loss: nan - accuracy: 0.5502\n",
      "Epoch 11/20\n",
      "1853525/1853525 [==============================] - 39s 21us/step - loss: nan - accuracy: 0.5502- ETA: 5s\n",
      "Epoch 12/20\n",
      "1853525/1853525 [==============================] - 39s 21us/step - loss: nan - accuracy: 0.5502\n",
      "Epoch 13/20\n",
      "1853525/1853525 [==============================] - 39s 21us/step - loss: nan - accuracy: 0.5502 4 - ETA: 3s - loss: nan - accuracy: 0.55 - ETA: 2s - loss: nan - accu - ETA: - ETA: 0s - loss: nan - accuracy: - ETA: 0s - loss: nan - accuracy: 0.55 - ETA: 0s - loss: nan - accuracy: 0.550 - ETA: 0s - loss: nan - accuracy: 0.55\n",
      "Epoch 14/20\n",
      "1853525/1853525 [==============================] - 39s 21us/step - loss: nan - accuracy: 0.5502 1s\n",
      "Epoch 15/20\n",
      "1853525/1853525 [==============================] - 39s 21us/step - loss: nan - accuracy: 0.5502\n",
      "Epoch 16/20\n",
      "1853525/1853525 [==============================] - 39s 21us/step - loss: nan - accuracy: 0.5502\n",
      "Epoch 17/20\n",
      "1853525/1853525 [==============================] - 39s 21us/step - loss: nan - accuracy: 0.5502 7s - loss\n",
      "Epoch 18/20\n",
      "1853525/1853525 [==============================] - 39s 21us/step - loss: nan - accuracy: 0.5502\n",
      "Epoch 19/20\n",
      "1853525/1853525 [==============================] - 39s 21us/step - loss: nan - accuracy: 0.5502 5s - loss: nan - a - ETA: 0s - loss: nan - accuracy: 0.5 - ETA: 0s - loss: nan - accur\n",
      "Epoch 20/20\n",
      "1853525/1853525 [==============================] - 38s 21us/step - loss: nan - accuracy: 0.5502\n",
      "463381/463381 [==============================] - 4s 8us/step\n",
      "Epoch 1/20\n",
      "1853524/1853524 [==============================] - 42s 23us/step - loss: nan - accuracy: 0.5519\n",
      "Epoch 2/20\n",
      "1853524/1853524 [==============================] - 40s 22us/step - loss: nan - accuracy: 0.5503 0s - loss: nan - accu\n",
      "Epoch 3/20\n",
      "1853524/1853524 [==============================] - 40s 22us/step - loss: nan - accuracy: 0.5503\n",
      "Epoch 4/20\n",
      "1853524/1853524 [==============================] - 40s 22us/step - loss: nan - accuracy: 0.5503\n",
      "Epoch 5/20\n",
      "1853524/1853524 [==============================] - 40s 22us/step - loss: nan - accuracy: 0.5503\n",
      "Epoch 6/20\n",
      "1853524/1853524 [==============================] - 40s 22us/step - loss: nan - accuracy: 0.5503\n",
      "Epoch 7/20\n",
      "1853524/1853524 [==============================] - 40s 22us/step - loss: nan - accuracy: 0.5503\n",
      "Epoch 8/20\n",
      "1853524/1853524 [==============================] - 40s 22us/step - loss: nan - accuracy: 0.5503\n",
      "Epoch 9/20\n",
      "1853524/1853524 [==============================] - 40s 22us/step - loss: nan - accuracy: 0.5503\n",
      "Epoch 10/20\n",
      "1853524/1853524 [==============================] - 42s 22us/step - loss: nan - accuracy: 0.5503\n",
      "Epoch 11/20\n",
      "1853524/1853524 [==============================] - 49s 27us/step - loss: nan - accuracy: 0.5503\n",
      "Epoch 12/20\n",
      "1853524/1853524 [==============================] - 45s 24us/step - loss: nan - accuracy: 0.5503\n",
      "Epoch 13/20\n",
      "1853524/1853524 [==============================] - 42s 23us/step - loss: nan - accuracy: 0.5503 1s\n",
      "Epoch 14/20\n",
      "1853524/1853524 [==============================] - 42s 23us/step - loss: nan - accuracy: 0.5503\n",
      "Epoch 15/20\n",
      "1853524/1853524 [==============================] - 43s 23us/step - loss: nan - accuracy: 0.5503\n",
      "Epoch 16/20\n",
      "1853524/1853524 [==============================] - 43s 23us/step - loss: nan - accuracy: 0.5503\n",
      "Epoch 17/20\n",
      "1853524/1853524 [==============================] - 42s 23us/step - loss: nan - accuracy: 0.5503 0s - loss: nan - accuracy:\n",
      "Epoch 18/20\n",
      "1853524/1853524 [==============================] - 42s 23us/step - loss: nan - accuracy: 0.5503 3s - loss: \n",
      "Epoch 19/20\n",
      "1853524/1853524 [==============================] - 43s 23us/step - loss: nan - accuracy: 0.5503 5s - loss: nan - accuracy: 0.55 - ETA: 5s - loss: nan - accura - ETA: 4s - loss: nan - accura\n",
      "Epoch 20/20\n",
      "1853524/1853524 [==============================] - 43s 23us/step - loss: nan - accuracy: 0.5503\n",
      "463382/463382 [==============================] - 4s 9us/step\n",
      "Epoch 1/20\n",
      "1853525/1853525 [==============================] - 44s 24us/step - loss: nan - accuracy: 0.5524 10s - loss: n - ETA: 9s - lo - ETA: 8s - loss: nan - accuracy: 0 - ETA: 7s - loss: nan - accura - ETA: 5s - loss: nan - accuracy: 0 - ETA: 4s - - ETA: 1s - lo\n",
      "Epoch 2/20\n",
      "1853525/1853525 [==============================] - 43s 23us/step - loss: nan - accuracy: 0.5504 7s - loss: nan - ac - ETA: 7s - loss: nan - - ETA: 6s - loss: nan - accuracy:  - ETA: 1s - loss: nan - acc - ETA: 1s - loss\n",
      "Epoch 3/20\n",
      "1853525/1853525 [==============================] - 43s 23us/step - loss: nan - accuracy: 0.5504\n",
      "Epoch 4/20\n"
     ]
    },
    {
     "name": "stdout",
     "output_type": "stream",
     "text": [
      "1853525/1853525 [==============================] - 42s 23us/step - loss: nan - accuracy: 0.5504 0s - loss: nan - accurac\n",
      "Epoch 5/20\n",
      "1853525/1853525 [==============================] - 42s 23us/step - loss: nan - accuracy: 0.5504 0s - loss: nan -\n",
      "Epoch 6/20\n",
      "1853525/1853525 [==============================] - 42s 22us/step - loss: nan - accuracy: 0.5504 1s - loss: nan - accuracy: 0. - ETA: 1s - loss\n",
      "Epoch 7/20\n",
      "1853525/1853525 [==============================] - 42s 22us/step - loss: nan - accuracy: 0.5504 0s - loss: nan - accuracy: 0.550 - ETA: 0s - loss: nan - accuracy:  - ETA: 0s - loss: nan - accuracy: 0.55 - ETA: 0s - loss: nan - accuracy: 0.55\n",
      "Epoch 8/20\n",
      "1853525/1853525 [==============================] - 42s 22us/step - loss: nan - accuracy: 0.5504 5s - loss - ETA: 4s - ETA: 2s - loss: nan - accu - ETA: 2s - loss: nan - accuracy: 0.5 \n",
      "Epoch 9/20\n",
      "1853525/1853525 [==============================] - 42s 23us/step - loss: nan - accuracy: 0.5504\n",
      "Epoch 10/20\n",
      "1853525/1853525 [==============================] - 42s 23us/step - loss: nan - accuracy: 0.5504- ETA: 0s - loss: nan - accura\n",
      "Epoch 11/20\n",
      "1853525/1853525 [==============================] - 42s 23us/step - loss: nan - accuracy: 0.5504 1s - loss: nan  - ETA: 0s - loss: nan - ac\n",
      "Epoch 12/20\n",
      "1853525/1853525 [==============================] - 42s 23us/step - loss: nan - accuracy: 0.5504 0s - loss: nan - acc\n",
      "Epoch 13/20\n",
      "1853525/1853525 [==============================] - 42s 23us/step - loss: nan - accuracy: 0.5504 3s - loss: na \n",
      "Epoch 14/20\n",
      "1853525/1853525 [==============================] - 42s 22us/step - loss: nan - accuracy: 0.5504 4s - loss: nan - accuracy:  - ETA: 4s - loss: nan - accuracy: - ETA: \n",
      "Epoch 15/20\n",
      "1853525/1853525 [==============================] - 42s 23us/step - loss: nan - accuracy: 0.5504 0s - loss: nan - accuracy: 0.\n",
      "Epoch 16/20\n",
      "1853525/1853525 [==============================] - 42s 23us/step - loss: nan - accuracy: 0.5504 10s - loss:  - ETA: 10s - loss: nan - accura - ETA: 1s - l\n",
      "Epoch 17/20\n",
      "1853525/1853525 [==============================] - 42s 23us/step - loss: nan - accuracy: 0.5504 1s - loss: nan - accura - ETA: 0s - loss: nan \n",
      "Epoch 18/20\n",
      "1853525/1853525 [==============================] - 42s 22us/step - loss: nan - accuracy: 0.5504 3s - loss: nan - accuracy: 0 - ETA: 3s - loss: n\n",
      "Epoch 19/20\n",
      "1853525/1853525 [==============================] - 42s 23us/step - loss: nan - accuracy: 0.5504\n",
      "Epoch 20/20\n",
      "1853525/1853525 [==============================] - 41s 22us/step - loss: nan - accuracy: 0.5504\n",
      "463381/463381 [==============================] - 4s 8us/step\n",
      "Epoch 1/20\n",
      "1853525/1853525 [==============================] - 42s 23us/step - loss: nan - accuracy: 0.5517\n",
      "Epoch 2/20\n",
      "1853525/1853525 [==============================] - 41s 22us/step - loss: nan - accuracy: 0.5504 8s - loss: nan - accuracy: 0.550 - ETA: 8s - loss: nan  - ETA: 3s - l - ETA: 1\n",
      "Epoch 3/20\n",
      "1853525/1853525 [==============================] - 41s 22us/step - loss: nan - accuracy: 0.5504\n",
      "Epoch 4/20\n",
      "1853525/1853525 [==============================] - 41s 22us/step - loss: nan - accuracy: 0.5504 10s -  - E - ETA: 2s - l - ETA: 0s - loss: nan -\n",
      "Epoch 5/20\n",
      "1853525/1853525 [==============================] - 40s 22us/step - loss: nan - accuracy: 0.5504\n",
      "Epoch 6/20\n",
      "1853525/1853525 [==============================] - 41s 22us/step - loss: nan - accuracy: 0.5504\n",
      "Epoch 7/20\n",
      "1853525/1853525 [==============================] - 40s 22us/step - loss: nan - accuracy: 0.5504\n",
      "Epoch 8/20\n",
      "1853525/1853525 [==============================] - 45s 24us/step - loss: nan - accuracy: 0.5504\n",
      "Epoch 9/20\n",
      "1853525/1853525 [==============================] - 44s 24us/step - loss: nan - accuracy: 0.5504\n",
      "Epoch 10/20\n",
      "1853525/1853525 [==============================] - 48s 26us/step - loss: nan - accuracy: 0.5504\n",
      "Epoch 11/20\n",
      "1853525/1853525 [==============================] - 48s 26us/step - loss: nan - accuracy: 0.5504\n",
      "Epoch 12/20\n",
      "1853525/1853525 [==============================] - 45s 24us/step - loss: nan - accuracy: 0.5504\n",
      "Epoch 13/20\n",
      "1853525/1853525 [==============================] - 45s 24us/step - loss: nan - accuracy: 0.5504\n",
      "Epoch 14/20\n",
      "1853525/1853525 [==============================] - 45s 24us/step - loss: nan - accuracy: 0.5504\n",
      "Epoch 15/20\n",
      "1853525/1853525 [==============================] - 47s 25us/step - loss: nan - accuracy: 0.5504\n",
      "Epoch 16/20\n",
      "1853525/1853525 [==============================] - 46s 25us/step - loss: nan - accuracy: 0.5504\n",
      "Epoch 17/20\n",
      "1853525/1853525 [==============================] - 54s 29us/step - loss: nan - accuracy: 0.5504\n",
      "Epoch 18/20\n",
      "1853525/1853525 [==============================] - 44s 24us/step - loss: nan - accuracy: 0.5504\n",
      "Epoch 19/20\n",
      "1853525/1853525 [==============================] - 41s 22us/step - loss: nan - accuracy: 0.5504\n",
      "Epoch 20/20\n",
      "1853525/1853525 [==============================] - 41s 22us/step - loss: nan - accuracy: 0.5504\n",
      "463381/463381 [==============================] - 4s 9us/step\n",
      "Epoch 1/20\n",
      "1853525/1853525 [==============================] - 43s 23us/step - loss: nan - accuracy: 0.5511\n",
      "Epoch 2/20\n",
      "1853525/1853525 [==============================] - 45s 24us/step - loss: nan - accuracy: 0.5501\n",
      "Epoch 3/20\n",
      "1853525/1853525 [==============================] - 45s 24us/step - loss: nan - accuracy: 0.5501\n",
      "Epoch 4/20\n",
      "1853525/1853525 [==============================] - 45s 24us/step - loss: nan - accuracy: 0.5501\n",
      "Epoch 5/20\n",
      "1853525/1853525 [==============================] - 45s 24us/step - loss: nan - accuracy: 0.5501\n",
      "Epoch 6/20\n",
      "1853525/1853525 [==============================] - 47s 25us/step - loss: nan - accuracy: 0.5501\n",
      "Epoch 7/20\n",
      "1853525/1853525 [==============================] - 45s 24us/step - loss: nan - accuracy: 0.5501 7s - loss: nan - accuracy:  - ETA: 7s - loss: nan - accu - \n",
      "Epoch 8/20\n",
      "1853525/1853525 [==============================] - 49s 26us/step - loss: nan - accuracy: 0.5501\n",
      "Epoch 9/20\n",
      "1853525/1853525 [==============================] - 46s 25us/step - loss: nan - accuracy: 0.5501 0s - loss: nan - accura\n",
      "Epoch 10/20\n",
      "1853525/1853525 [==============================] - 43s 23us/step - loss: nan - accuracy: 0.5501 0s - loss: nan - accuracy:\n",
      "Epoch 11/20\n",
      "1853525/1853525 [==============================] - 45s 24us/step - loss: nan - accuracy: 0.5501\n",
      "Epoch 12/20\n",
      "1853525/1853525 [==============================] - 43s 23us/step - loss: nan - accuracy: 0.5501 0s - loss: nan \n",
      "Epoch 13/20\n",
      "1853525/1853525 [==============================] - 43s 23us/step - loss: nan - accuracy: 0.5501\n",
      "Epoch 14/20\n",
      "1853525/1853525 [==============================] - 47s 25us/step - loss: nan - accuracy: 0.5501\n",
      "Epoch 15/20\n",
      "1853525/1853525 [==============================] - 45s 24us/step - loss: nan - accuracy: 0.5501\n",
      "Epoch 16/20\n",
      "1853525/1853525 [==============================] - 45s 24us/step - loss: nan - accuracy: 0.5501\n",
      "Epoch 17/20\n",
      "1853525/1853525 [==============================] - 44s 24us/step - loss: nan - accuracy: 0.5501\n",
      "Epoch 18/20\n",
      "1853525/1853525 [==============================] - 42s 22us/step - loss: nan - accuracy: 0.5501\n",
      "Epoch 19/20\n",
      "1853525/1853525 [==============================] - 41s 22us/step - loss: nan - accuracy: 0.5501\n",
      "Epoch 20/20\n",
      "1853525/1853525 [==============================] - 41s 22us/step - loss: nan - accuracy: 0.5501\n",
      "463381/463381 [==============================] - 4s 8us/step\n",
      "Epoch 1/20\n",
      "1853525/1853525 [==============================] - 42s 23us/step - loss: nan - accuracy: 0.5506\n",
      "Epoch 2/20\n",
      "1853525/1853525 [==============================] - 41s 22us/step - loss: nan - accuracy: 0.5502\n",
      "Epoch 3/20\n",
      "1853525/1853525 [==============================] - 41s 22us/step - loss: nan - accuracy: 0.5502 1s - loss: \n",
      "Epoch 4/20\n",
      "1853525/1853525 [==============================] - 41s 22us/step - loss: nan - accuracy: 0.5502 0s - loss: nan - accuracy: 0.550\n",
      "Epoch 5/20\n",
      "1853525/1853525 [==============================] - 42s 23us/step - loss: nan - accuracy: 0.5502 0s - loss: nan - accuracy: 0.550 - ETA: 0s - loss: nan - accurac\n",
      "Epoch 6/20\n",
      "1853525/1853525 [==============================] - 45s 24us/step - loss: nan - accuracy: 0.5502 0s - loss: nan - accuracy: 0\n",
      "Epoch 7/20\n"
     ]
    },
    {
     "name": "stdout",
     "output_type": "stream",
     "text": [
      "1853525/1853525 [==============================] - 41s 22us/step - loss: nan - accuracy: 0.5502\n",
      "Epoch 8/20\n",
      "1853525/1853525 [==============================] - 41s 22us/step - loss: nan - accuracy: 0.5502 0s - loss: nan - acc\n",
      "Epoch 9/20\n",
      "1853525/1853525 [==============================] - 41s 22us/step - loss: nan - accuracy: 0.5502\n",
      "Epoch 10/20\n",
      "1853525/1853525 [==============================] - 41s 22us/step - loss: nan - accuracy: 0.5502\n",
      "Epoch 11/20\n",
      "1853525/1853525 [==============================] - 42s 23us/step - loss: nan - accuracy: 0.5502\n",
      "Epoch 12/20\n",
      "1853525/1853525 [==============================] - 41s 22us/step - loss: nan - accuracy: 0.5502 6s - loss: nan - accuracy: 0.550 - ETA: 6s - loss: nan - accuracy:  - ETA: 6s  - ETA: 4s - loss: nan - accur - \n",
      "Epoch 13/20\n",
      "1853525/1853525 [==============================] - 41s 22us/step - loss: nan - accuracy: 0.5502 7s - loss: nan - accuracy:  - ETA: 6s - loss - ETA: 5s - loss:  - ETA: 2s - loss: nan - accuracy: 0 - ETA: 2 - ETA: 0s - loss: nan - a\n",
      "Epoch 14/20\n",
      "1853525/1853525 [==============================] - 41s 22us/step - loss: nan - accuracy: 0.5502\n",
      "Epoch 15/20\n",
      "1853525/1853525 [==============================] - 41s 22us/step - loss: nan - accuracy: 0.5502\n",
      "Epoch 16/20\n",
      "1853525/1853525 [==============================] - 41s 22us/step - loss: nan - accuracy: 0.5502 3s - - ETA: 1s - loss: nan - accuracy: 0.550 - ETA: 1\n",
      "Epoch 17/20\n",
      "1853525/1853525 [==============================] - 41s 22us/step - loss: nan - accuracy: 0.5502 3s - loss: nan - ac - ETA: 2s - loss: nan \n",
      "Epoch 18/20\n",
      "1853525/1853525 [==============================] - 42s 22us/step - loss: nan - accuracy: 0.5502\n",
      "Epoch 19/20\n",
      "1853525/1853525 [==============================] - 41s 22us/step - loss: nan - accuracy: 0.5502 9s - los - ETA: 8s - loss: nan - accuracy: 0.5 \n",
      "Epoch 20/20\n",
      "1853525/1853525 [==============================] - 40s 22us/step - loss: nan - accuracy: 0.5502\n",
      "463381/463381 [==============================] - 4s 9us/step\n",
      "Epoch 1/20\n",
      "1853524/1853524 [==============================] - 41s 22us/step - loss: nan - accuracy: 0.5506\n",
      "Epoch 2/20\n",
      "1853524/1853524 [==============================] - 40s 21us/step - loss: nan - accuracy: 0.5503\n",
      "Epoch 3/20\n",
      "1853524/1853524 [==============================] - 39s 21us/step - loss: nan - accuracy: 0.5503 7s - loss\n",
      "Epoch 4/20\n",
      "1853524/1853524 [==============================] - 40s 21us/step - loss: nan - accuracy: 0.5503\n",
      "Epoch 5/20\n",
      "1853524/1853524 [==============================] - 40s 22us/step - loss: nan - accuracy: 0.5503\n",
      "Epoch 6/20\n",
      "1853524/1853524 [==============================] - 40s 22us/step - loss: nan - accuracy: 0.5503 8s -  - ETA: 5s - loss: n\n",
      "Epoch 7/20\n",
      "1853524/1853524 [==============================] - 40s 21us/step - loss: nan - accuracy: 0.5503\n",
      "Epoch 8/20\n",
      "1853524/1853524 [==============================] - 42s 23us/step - loss: nan - accuracy: 0.5503\n",
      "Epoch 9/20\n",
      "1853524/1853524 [==============================] - 41s 22us/step - loss: nan - accuracy: 0.5503\n",
      "Epoch 10/20\n",
      "1853524/1853524 [==============================] - 41s 22us/step - loss: nan - accuracy: 0.5503\n",
      "Epoch 11/20\n",
      "1853524/1853524 [==============================] - 41s 22us/step - loss: nan - accuracy: 0.5503\n",
      "Epoch 12/20\n",
      "1853524/1853524 [==============================] - 41s 22us/step - loss: nan - accuracy: 0.5503\n",
      "Epoch 13/20\n",
      "1853524/1853524 [==============================] - 41s 22us/step - loss: nan - accuracy: 0.5503\n",
      "Epoch 14/20\n",
      "1853524/1853524 [==============================] - 41s 22us/step - loss: nan - accuracy: 0.5503\n",
      "Epoch 15/20\n",
      "1853524/1853524 [==============================] - 41s 22us/step - loss: nan - accuracy: 0.5503\n",
      "Epoch 16/20\n",
      "1853524/1853524 [==============================] - 41s 22us/step - loss: nan - accuracy: 0.5503\n",
      "Epoch 17/20\n",
      "1853524/1853524 [==============================] - 41s 22us/step - loss: nan - accuracy: 0.5503\n",
      "Epoch 18/20\n",
      "1853524/1853524 [==============================] - 40s 22us/step - loss: nan - accuracy: 0.5503\n",
      "Epoch 19/20\n",
      "1853524/1853524 [==============================] - 41s 22us/step - loss: nan - accuracy: 0.5503 1s - l\n",
      "Epoch 20/20\n",
      "1853524/1853524 [==============================] - 42s 22us/step - loss: nan - accuracy: 0.5503 0s - loss: nan - accuracy: \n",
      "463382/463382 [==============================] - 4s 9us/step: \n",
      "Epoch 1/20\n",
      "1853525/1853525 [==============================] - 42s 23us/step - loss: nan - accuracy: 0.5514\n",
      "Epoch 2/20\n",
      "1853525/1853525 [==============================] - 41s 22us/step - loss: nan - accuracy: 0.5504\n",
      "Epoch 3/20\n",
      "1853525/1853525 [==============================] - 41s 22us/step - loss: nan - accuracy: 0.5504 9s - loss: nan -  - ETA: 6s - loss:  - ETA: 1s - loss:\n",
      "Epoch 4/20\n",
      "1853525/1853525 [==============================] - 41s 22us/step - loss: nan - accuracy: 0.5504\n",
      "Epoch 5/20\n",
      "1853525/1853525 [==============================] - 41s 22us/step - loss: nan - accuracy: 0.5504: 6s - loss: nan - accura - ETA: 5s - los - ETA: 4s - loss: nan - accurac - ETA: 2s - loss: nan - accuracy: 0.55 - ETA: 1s - loss: - ETA: 0s - loss: nan - ac\n",
      "Epoch 6/20\n",
      "1853525/1853525 [==============================] - 41s 22us/step - loss: nan - accuracy: 0.5504 5s - loss: na - ETA: 1s - loss: nan - accura - ETA: 1s -\n",
      "Epoch 7/20\n",
      "1853525/1853525 [==============================] - 41s 22us/step - loss: nan - accuracy: 0.5504\n",
      "Epoch 8/20\n",
      "1853525/1853525 [==============================] - 41s 22us/step - loss: nan - accuracy: 0.5504 2s - loss: nan - accuracy: 0. - ETA: 2s - los - ETA: 0s - loss: nan - ac\n",
      "Epoch 9/20\n",
      "1853525/1853525 [==============================] - 41s 22us/step - loss: nan - accuracy: 0.5504\n",
      "Epoch 10/20\n",
      "1853525/1853525 [==============================] - 41s 22us/step - loss: nan - accuracy: 0.5504 5s - loss: nan - ETA: 4s - loss: nan - accuracy:\n",
      "Epoch 11/20\n",
      "1853525/1853525 [==============================] - 41s 22us/step - loss: nan - accuracy: 0.5504 1s - l - ETA: 0s - loss: nan - accuracy: 0.550\n",
      "Epoch 12/20\n",
      "1853525/1853525 [==============================] - 41s 22us/step - loss: nan - accuracy: 0.5504 3s - loss: nan - accuracy: 0.550 - ETA: 3s - loss: nan - accuracy: 0 - ETA: 0s - loss: nan\n",
      "Epoch 13/20\n",
      "1853525/1853525 [==============================] - 41s 22us/step - loss: nan - accuracy: 0.5504 3s - loss: nan - ac - ETA: 2s - loss: nan - -\n",
      "Epoch 14/20\n",
      "1853525/1853525 [==============================] - 41s 22us/step - loss: nan - accuracy: 0.5504- ETA: 1s - loss: nan - a - ETA: 0s - loss: na\n",
      "Epoch 15/20\n",
      "1853525/1853525 [==============================] - 41s 22us/step - loss: nan - accuracy: 0.5504 9s - loss: nan - a - ETA: 8s - loss: na - ETA: 1s - l\n",
      "Epoch 16/20\n",
      "1853525/1853525 [==============================] - 41s 22us/step - loss: nan - accuracy: 0.5504 6s - loss: nan - ac - ETA: 5s - loss - ETA: 4s - loss - ETA: 3s - loss:  - ETA: 2s - loss: - ETA: 0s - loss: na\n",
      "Epoch 17/20\n",
      "1853525/1853525 [==============================] - 41s 22us/step - loss: nan - accuracy: 0.5504\n",
      "Epoch 18/20\n",
      "1853525/1853525 [==============================] - 39s 21us/step - loss: nan - accuracy: 0.5504 0s - loss: nan - accurac\n",
      "Epoch 19/20\n",
      "1853525/1853525 [==============================] - 39s 21us/step - loss: nan - accuracy: 0.5504 3s \n",
      "Epoch 20/20\n",
      "1853525/1853525 [==============================] - 40s 21us/step - loss: nan - accuracy: 0.5504\n",
      "463381/463381 [==============================] - 4s 9us/step\n",
      "Epoch 1/20\n",
      "1853525/1853525 [==============================] - 41s 22us/step - loss: nan - accuracy: 0.5525\n",
      "Epoch 2/20\n",
      "1853525/1853525 [==============================] - 39s 21us/step - loss: nan - accuracy: 0.5504 0s - loss: nan - ac\n",
      "Epoch 3/20\n",
      "1853525/1853525 [==============================] - 38s 21us/step - loss: nan - accuracy: 0.5504  - ETA: 0s - loss: nan - accura\n",
      "Epoch 4/20\n",
      "1853525/1853525 [==============================] - 39s 21us/step - loss: nan - accuracy: 0.5504\n",
      "Epoch 5/20\n",
      "1853525/1853525 [==============================] - 39s 21us/step - loss: nan - accuracy: 0.5504\n",
      "Epoch 6/20\n",
      "1853525/1853525 [==============================] - 39s 21us/step - loss: nan - accuracy: 0.5504 0s - loss: nan - accuracy: 0.550\n",
      "Epoch 7/20\n",
      "1853525/1853525 [==============================] - 39s 21us/step - loss: nan - accuracy: 0.5504\n",
      "Epoch 8/20\n"
     ]
    },
    {
     "name": "stdout",
     "output_type": "stream",
     "text": [
      "1853525/1853525 [==============================] - 38s 21us/step - loss: nan - accuracy: 0.5504 0s - loss: nan - accuracy: 0.\n",
      "Epoch 9/20\n",
      "1853525/1853525 [==============================] - 39s 21us/step - loss: nan - accuracy: 0.5504\n",
      "Epoch 10/20\n",
      "1853525/1853525 [==============================] - 39s 21us/step - loss: nan - accuracy: 0.5504\n",
      "Epoch 11/20\n",
      "1853525/1853525 [==============================] - 38s 21us/step - loss: nan - accuracy: 0.5504\n",
      "Epoch 12/20\n",
      "1853525/1853525 [==============================] - 38s 21us/step - loss: nan - accuracy: 0.5504\n",
      "Epoch 13/20\n",
      "1853525/1853525 [==============================] - 38s 21us/step - loss: nan - accuracy: 0.5504A: 3s - los\n",
      "Epoch 14/20\n",
      "1853525/1853525 [==============================] - 38s 21us/step - loss: nan - accuracy: 0.5504\n",
      "Epoch 15/20\n",
      "1853525/1853525 [==============================] - 38s 21us/step - loss: nan - accuracy: 0.5504 1s - \n",
      "Epoch 16/20\n",
      "1853525/1853525 [==============================] - 38s 21us/step - loss: nan - accuracy: 0.5504TA: 8s - loss: nan - accu - ETA: \n",
      "Epoch 17/20\n",
      "1853525/1853525 [==============================] - 39s 21us/step - loss: nan - accuracy: 0.5504 9s - loss: nan - accuracy:  - ETA: 8s - - ETA: 7s - loss: nan  - ETA: 6s - loss: nan - accur - ETA: 5s - loss: nan  - ETA: 2s - loss: nan - accuracy: 0.55 - ETA: 2s - loss: n - ETA:\n",
      "Epoch 18/20\n",
      "1853525/1853525 [==============================] - 38s 21us/step - loss: nan - accuracy: 0.5504\n",
      "Epoch 19/20\n",
      "1853525/1853525 [==============================] - 38s 21us/step - loss: nan - accuracy: 0.5504 9s  - ETA: 8s - loss:  - ETA: 5s - loss: nan - accura - ETA: 4s - - ETA: 3s - loss: nan - acc - ETA: 2s - loss: nan - - ETA: 1\n",
      "Epoch 20/20\n",
      "1853525/1853525 [==============================] - 38s 21us/step - loss: nan - accuracy: 0.5504\n",
      "463381/463381 [==============================] - 4s 8us/step\n",
      "Epoch 1/20\n",
      "1853525/1853525 [==============================] - 40s 22us/step - loss: nan - accuracy: 0.5507 5s - - \n",
      "Epoch 2/20\n",
      "1853525/1853525 [==============================] - 39s 21us/step - loss: nan - accuracy: 0.5501\n",
      "Epoch 3/20\n",
      "1853525/1853525 [==============================] - 39s 21us/step - loss: nan - accuracy: 0.5501 2s - loss: nan - accurac\n",
      "Epoch 4/20\n",
      "1853525/1853525 [==============================] - 39s 21us/step - loss: nan - accuracy: 0.5501ETA: 4s - loss: n - ETA: 3s - loss: nan - accurac - ETA: 2s - lo - ETA: 1s - l\n",
      "Epoch 5/20\n",
      "1853525/1853525 [==============================] - 39s 21us/step - loss: nan - accuracy: 0.5501 0s - loss: nan - accuracy: 0\n",
      "Epoch 6/20\n",
      "1853525/1853525 [==============================] - 39s 21us/step - loss: nan - accuracy: 0.5501 ETA: 7s - loss: nan - ac - ETA: 4s   - ETA: 0s - loss: nan\n",
      "Epoch 7/20\n",
      "1853525/1853525 [==============================] - 39s 21us/step - loss: nan - accuracy: 0.5501TA: 6 - ETA: 4s -  - ETA: 3s - ETA: 1s\n",
      "Epoch 8/20\n",
      "1853525/1853525 [==============================] - 39s 21us/step - loss: nan - accuracy: 0.5501 5s - loss:\n",
      "Epoch 9/20\n",
      "1853525/1853525 [==============================] - 39s 21us/step - loss: nan - accuracy: 0.5501 7s - lo - ETA: 5s - ETA: 0s - loss: nan - accuracy: 0.55\n",
      "Epoch 10/20\n",
      "1853525/1853525 [==============================] - 39s 21us/step - loss: nan - accuracy: 0.5501 2s - loss: - ETA: 0s - loss: nan \n",
      "Epoch 11/20\n",
      "1853525/1853525 [==============================] - 39s 21us/step - loss: nan - accuracy: 0.5501\n",
      "Epoch 12/20\n",
      "1853525/1853525 [==============================] - 39s 21us/step - loss: nan - accuracy: 0.5501\n",
      "Epoch 13/20\n",
      "1853525/1853525 [==============================] - 39s 21us/step - loss: nan - accuracy: 0.5501\n",
      "Epoch 14/20\n",
      "1853525/1853525 [==============================] - 39s 21us/step - loss: nan - accuracy: 0.5501\n",
      "Epoch 15/20\n",
      "1853525/1853525 [==============================] - 39s 21us/step - loss: nan - accuracy: 0.5501 2 - ETA: 0s - loss: nan - a\n",
      "Epoch 16/20\n",
      "1853525/1853525 [==============================] - 39s 21us/step - loss: nan - accuracy: 0.5501 8s - loss: n - ETA: - ETA: 1s - loss: nan - - ETA: 0s - loss: nan - accuracy\n",
      "Epoch 17/20\n",
      "1853525/1853525 [==============================] - 39s 21us/step - loss: nan - accuracy: 0.5501 9s - loss - ETA: 8s - loss: nan  - ETA: 7 - ETA: 3s - loss: nan - a - ETA: 0s - loss: nan - ac\n",
      "Epoch 18/20\n",
      "1853525/1853525 [==============================] - 39s 21us/step - loss: nan - accuracy: 0.5501\n",
      "Epoch 19/20\n",
      "1853525/1853525 [==============================] - 39s 21us/step - loss: nan - accuracy: 0.5501\n",
      "Epoch 20/20\n",
      "1853525/1853525 [==============================] - 38s 21us/step - loss: nan - accuracy: 0.5501 5s - loss: nan - accuracy: 0 - ETA: 5s - loss: nan - accuracy: 0. -  - ETA: 1s - los\n",
      "463381/463381 [==============================] - 4s 8us/step\n",
      "Epoch 1/20\n",
      "1853525/1853525 [==============================] - 40s 22us/step - loss: nan - accuracy: 0.5517\n",
      "Epoch 2/20\n",
      "1853525/1853525 [==============================] - 39s 21us/step - loss: nan - accuracy: 0.5502 0s - loss: nan - accurac\n",
      "Epoch 3/20\n",
      "1853525/1853525 [==============================] - 39s 21us/step - loss: nan - accuracy: 0.5502\n",
      "Epoch 4/20\n",
      "1853525/1853525 [==============================] - 39s 21us/step - loss: nan - accuracy: 0.5502 0s - loss: nan - accuracy: \n",
      "Epoch 5/20\n",
      "1853525/1853525 [==============================] - 39s 21us/step - loss: nan - accuracy: 0.5502 7s - loss: nan - accuracy:  - ETA: 6s - loss: na - ETA: 5s - - ETA: 2s - loss: nan -  - ETA: 1s - loss\n",
      "Epoch 6/20\n",
      "1853525/1853525 [==============================] - 38s 20us/step - loss: nan - accuracy: 0.5502 1s - - ETA: 0s - loss: nan - accura\n",
      "Epoch 7/20\n",
      "1853525/1853525 [==============================] - 38s 21us/step - loss: nan - accuracy: 0.5502 1s - l\n",
      "Epoch 8/20\n",
      "1853525/1853525 [==============================] - 39s 21us/step - loss: nan - accuracy: 0.5502\n",
      "Epoch 9/20\n",
      "1853525/1853525 [==============================] - 38s 21us/step - loss: nan - accuracy: 0.5502 11s - loss:  - ETA: 11s  - ETA: 10s - loss: - ETA: - ETA: 7s - loss: nan - accura - ETA:  - ETA: 3s - loss\n",
      "Epoch 10/20\n",
      "1853525/1853525 [==============================] - 38s 21us/step - loss: nan - accuracy: 0.5502 6s - - ETA: 1s - loss:\n",
      "Epoch 11/20\n",
      "1853525/1853525 [==============================] - 38s 21us/step - loss: nan - accuracy: 0.5502 7s - loss: nan -  \n",
      "Epoch 12/20\n",
      "1853525/1853525 [==============================] - 38s 21us/step - loss: nan - accuracy: 0.5502: 2s - loss: nan - \n",
      "Epoch 13/20\n",
      "1853525/1853525 [==============================] - 38s 21us/step - loss: nan - accuracy: 0.5502\n",
      "Epoch 14/20\n",
      "1853525/1853525 [==============================] - 38s 21us/step - loss: nan - accuracy: 0.5502 2s - loss: nan - accura\n",
      "Epoch 15/20\n",
      "1853525/1853525 [==============================] - 38s 21us/step - loss: nan - accuracy: 0.5502 6s - loss: nan - accu - ETA: 6 - ETA: 4s - loss: nan -  - ETA: 3s - loss: nan - a - ETA: 3s - ETA: 1s - loss: nan - accurac - ETA: 1s - loss: nan - accuracy: 0. - ETA: 0s - loss: nan -\n",
      "Epoch 16/20\n",
      "1853525/1853525 [==============================] - 41s 22us/step - loss: nan - accuracy: 0.5502 0s - loss: nan -\n",
      "Epoch 17/20\n",
      "1853525/1853525 [==============================] - 40s 22us/step - loss: nan - accuracy: 0.5502\n",
      "Epoch 18/20\n",
      "1853525/1853525 [==============================] - 40s 22us/step - loss: nan - accuracy: 0.5502ETA: 7s - loss:  - ETA: \n",
      "Epoch 19/20\n",
      "1853525/1853525 [==============================] - 40s 22us/step - loss: nan - accuracy: 0.5502\n",
      "Epoch 20/20\n",
      "1853525/1853525 [==============================] - 40s 22us/step - loss: nan - accuracy: 0.5502\n",
      "463381/463381 [==============================] - 4s 9us/step\n",
      "Epoch 1/20\n",
      "1853524/1853524 [==============================] - 48s 26us/step - loss: nan - accuracy: 0.5523 5 - ETA: 1s - lo\n",
      "Epoch 2/20\n",
      "1853524/1853524 [==============================] - 47s 25us/step - loss: nan - accuracy: 0.5503\n",
      "Epoch 3/20\n",
      "1853524/1853524 [==============================] - 47s 25us/step - loss: nan - accuracy: 0.5503 11s - loss: nan - accuracy: 0.55 - ETA: 11s - loss: nan -\n",
      "Epoch 4/20\n",
      "1853524/1853524 [==============================] - 47s 25us/step - loss: nan - accuracy: 0.5503\n",
      "Epoch 5/20\n"
     ]
    },
    {
     "name": "stdout",
     "output_type": "stream",
     "text": [
      "1853524/1853524 [==============================] - 46s 25us/step - loss: nan - accuracy: 0.5503\n",
      "Epoch 6/20\n",
      "1853524/1853524 [==============================] - 46s 25us/step - loss: nan - accuracy: 0.5503\n",
      "Epoch 7/20\n",
      "1853524/1853524 [==============================] - 46s 25us/step - loss: nan - accuracy: 0.5503\n",
      "Epoch 8/20\n",
      "1853524/1853524 [==============================] - 46s 25us/step - loss: nan - accuracy: 0.5503\n",
      "Epoch 9/20\n",
      "1853524/1853524 [==============================] - 47s 25us/step - loss: nan - accuracy: 0.5503 1s - loss: nan - accura - ETA: 0s - loss: nan - accuracy: - ETA: 0s - loss: nan - accura\n",
      "Epoch 10/20\n",
      "1853524/1853524 [==============================] - 45s 24us/step - loss: nan - accuracy: 0.5503\n",
      "Epoch 11/20\n",
      "1853524/1853524 [==============================] - 45s 24us/step - loss: nan - accuracy: 0.5503\n",
      "Epoch 12/20\n",
      "1853524/1853524 [==============================] - 45s 25us/step - loss: nan - accuracy: 0.5503\n",
      "Epoch 13/20\n",
      "1853524/1853524 [==============================] - 45s 25us/step - loss: nan - accuracy: 0.5503\n",
      "Epoch 14/20\n",
      "1853524/1853524 [==============================] - 46s 25us/step - loss: nan - accuracy: 0.5503\n",
      "Epoch 15/20\n",
      "1853524/1853524 [==============================] - 46s 25us/step - loss: nan - accuracy: 0.5503\n",
      "Epoch 16/20\n",
      "1853524/1853524 [==============================] - 46s 25us/step - loss: nan - accuracy: 0.5503 \n",
      "Epoch 17/20\n",
      "1853524/1853524 [==============================] - 46s 25us/step - loss: nan - accuracy: 0.5503\n",
      "Epoch 18/20\n",
      "1853524/1853524 [==============================] - 46s 25us/step - loss: nan - accuracy: 0.5503\n",
      "Epoch 19/20\n",
      "1853524/1853524 [==============================] - 46s 25us/step - loss: nan - accuracy: 0.5503 1s - loss: nan - accuracy - ETA: 1s - l\n",
      "Epoch 20/20\n",
      "1853524/1853524 [==============================] - 46s 25us/step - loss: nan - accuracy: 0.5503 1s - \n",
      "463382/463382 [==============================] - 4s 9us/step\n",
      "Epoch 1/20\n",
      "1853525/1853525 [==============================] - 48s 26us/step - loss: nan - accuracy: 0.5520 2s - loss: nan - acc - ETA: 1s - loss: nan - accuracy: 0. - ETA: 1s - loss\n",
      "Epoch 2/20\n",
      "1853525/1853525 [==============================] - 47s 26us/step - loss: nan - accuracy: 0.5504\n",
      "Epoch 3/20\n",
      "1853525/1853525 [==============================] - 45s 24us/step - loss: nan - accuracy: 0.5504 1\n",
      "Epoch 4/20\n",
      "1853525/1853525 [==============================] - 45s 24us/step - loss: nan - accuracy: 0.5504\n",
      "Epoch 5/20\n",
      "1853525/1853525 [==============================] - 45s 24us/step - loss: nan - accuracy: 0.5504\n",
      "Epoch 6/20\n",
      "1853525/1853525 [==============================] - 44s 24us/step - loss: nan - accuracy: 0.5504\n",
      "Epoch 7/20\n",
      "1853525/1853525 [==============================] - 45s 24us/step - loss: nan - accuracy: 0.5504 1s - loss: nan - accuracy: 0.55 - ETA: 0s - loss: nan - accuracy: 0. - ETA: 0s - loss: nan - a\n",
      "Epoch 8/20\n",
      "1853525/1853525 [==============================] - 44s 24us/step - loss: nan - accuracy: 0.5504\n",
      "Epoch 9/20\n",
      "1853525/1853525 [==============================] - 51s 27us/step - loss: nan - accuracy: 0.5504 0s - loss: nan - accuracy: 0.5\n",
      "Epoch 10/20\n",
      "1853525/1853525 [==============================] - 50s 27us/step - loss: nan - accuracy: 0.5504\n",
      "Epoch 11/20\n",
      "1853525/1853525 [==============================] - 48s 26us/step - loss: nan - accuracy: 0.5504\n",
      "Epoch 12/20\n",
      "1853525/1853525 [==============================] - 46s 25us/step - loss: nan - accuracy: 0.5504\n",
      "Epoch 13/20\n",
      "1853525/1853525 [==============================] - 46s 25us/step - loss: nan - accuracy: 0.5504\n",
      "Epoch 14/20\n",
      "1853525/1853525 [==============================] - 46s 25us/step - loss: nan - accuracy: 0.5504\n",
      "Epoch 15/20\n",
      "1853525/1853525 [==============================] - 47s 25us/step - loss: nan - accuracy: 0.5504\n",
      "Epoch 16/20\n",
      "1853525/1853525 [==============================] - 46s 25us/step - loss: nan - accuracy: 0.5504\n",
      "Epoch 17/20\n",
      "1853525/1853525 [==============================] - 46s 25us/step - loss: nan - accuracy: 0.5504\n",
      "Epoch 18/20\n",
      "1853525/1853525 [==============================] - 46s 25us/step - loss: nan - accuracy: 0.5504 12 - ETA: 10s - loss: nan - a - ETA: 9s - l\n",
      "Epoch 19/20\n",
      "1853525/1853525 [==============================] - 46s 25us/step - loss: nan - accuracy: 0.5504 5s -  - ETA: 4s - loss: nan - accuracy:  -  - ETA: 0s - loss: nan - accuracy: 0.\n",
      "Epoch 20/20\n",
      "1853525/1853525 [==============================] - 45s 25us/step - loss: nan - accuracy: 0.5504 3s - \n",
      "463381/463381 [==============================] - 4s 9us/step\n",
      "Epoch 1/20\n",
      "1853525/1853525 [==============================] - 48s 26us/step - loss: nan - accuracy: 0.5508 10\n",
      "Epoch 2/20\n",
      "1853525/1853525 [==============================] - 46s 25us/step - loss: nan - accuracy: 0.5504\n",
      "Epoch 3/20\n",
      "1853525/1853525 [==============================] - 46s 25us/step - loss: nan - accuracy: 0.5504 0s - loss: nan - accuracy - ETA: 0s - loss: nan - accurac\n",
      "Epoch 4/20\n",
      "1853525/1853525 [==============================] - 46s 25us/step - loss: nan - accuracy: 0.5504\n",
      "Epoch 5/20\n",
      "1853525/1853525 [==============================] - 46s 25us/step - loss: nan - accuracy: 0.5504 0s - loss: nan - accuracy\n",
      "Epoch 6/20\n",
      "1853525/1853525 [==============================] - 46s 25us/step - loss: nan - accuracy: 0.5504 0s - loss: nan - accuracy:\n",
      "Epoch 7/20\n",
      "1853525/1853525 [==============================] - 46s 25us/step - loss: nan - accuracy: 0.5504 ETA: 1s - loss: nan - accuracy:  - ETA: 0s - loss: nan - \n",
      "Epoch 8/20\n",
      "1853525/1853525 [==============================] - 46s 25us/step - loss: nan - accuracy: 0.5504\n",
      "Epoch 9/20\n",
      "1853525/1853525 [==============================] - 46s 25us/step - loss: nan - accuracy: 0.5504\n",
      "Epoch 10/20\n",
      "1853525/1853525 [==============================] - 46s 25us/step - loss: nan - accuracy: 0.5504\n",
      "Epoch 11/20\n",
      "1853525/1853525 [==============================] - 46s 25us/step - loss: nan - accuracy: 0.5504\n",
      "Epoch 12/20\n",
      "1853525/1853525 [==============================] - 46s 25us/step - loss: nan - accuracy: 0.5504\n",
      "Epoch 13/20\n",
      "1853525/1853525 [==============================] - 46s 25us/step - loss: nan - accuracy: 0.5504\n",
      "Epoch 14/20\n",
      "1853525/1853525 [==============================] - 46s 25us/step - loss: nan - accuracy: 0.5504 10s - los  - ETA: 7s - loss: nan - accuracy: 0.55 - ETA: 7s - loss: nan - accur - ETA: 7s - loss: nan - ETA: 6s - loss: nan - accuracy: 0. - ETA: 6s - loss: nan - accuracy: 0.5 - ETA: \n",
      "Epoch 15/20\n",
      "1853525/1853525 [==============================] - 46s 25us/step - loss: nan - accuracy: 0.5504 0s - loss: nan - accuracy: 0.55 - ETA: 0s - loss: nan - accurac\n",
      "Epoch 16/20\n",
      "1853525/1853525 [==============================] - 46s 25us/step - loss: nan - accuracy: 0.5504\n",
      "Epoch 17/20\n",
      "1853525/1853525 [==============================] - 46s 25us/step - loss: nan - accuracy: 0.5504 1s\n",
      "Epoch 18/20\n",
      "1853525/1853525 [==============================] - 44s 24us/step - loss: nan - accuracy: 0.5504 0s - loss: nan\n",
      "Epoch 19/20\n",
      "1853525/1853525 [==============================] - 44s 23us/step - loss: nan - accuracy: 0.5504\n",
      "Epoch 20/20\n",
      "1853525/1853525 [==============================] - 44s 24us/step - loss: nan - accuracy: 0.5504\n",
      "463381/463381 [==============================] - 4s 8us/step\n",
      "Epoch 1/20\n",
      "1853525/1853525 [==============================] - 46s 25us/step - loss: nan - accuracy: 0.5523 0s - loss: nan - acc - ETA: 0s - loss: nan - accuracy: 0.552\n",
      "Epoch 2/20\n",
      "1853525/1853525 [==============================] - 44s 24us/step - loss: nan - accuracy: 0.5501 10s - loss -  - ETA: 1s - loss: na\n",
      "Epoch 3/20\n",
      "1853525/1853525 [==============================] - 44s 24us/step - loss: nan - accuracy: 0.5501\n",
      "Epoch 4/20\n",
      "1853525/1853525 [==============================] - 44s 24us/step - loss: nan - accuracy: 0.5501\n",
      "Epoch 5/20\n",
      "1853525/1853525 [==============================] - 43s 23us/step - loss: nan - accuracy: 0.5501 3s - loss: nan - accuracy:  - ETA: 3\n",
      "Epoch 6/20\n",
      "1853525/1853525 [==============================] - 44s 24us/step - loss: nan - accuracy: 0.5501\n",
      "Epoch 7/20\n",
      "1853525/1853525 [==============================] - 43s 23us/step - loss: nan - accuracy: 0.5501\n",
      "Epoch 8/20\n",
      "1853525/1853525 [==============================] - 43s 23us/step - loss: nan - accuracy: 0.5501 2s - loss: nan - a\n",
      "Epoch 9/20\n"
     ]
    },
    {
     "name": "stdout",
     "output_type": "stream",
     "text": [
      "1853525/1853525 [==============================] - 43s 23us/step - loss: nan - accuracy: 0.5501\n",
      "Epoch 10/20\n",
      "1853525/1853525 [==============================] - 43s 23us/step - loss: nan - accuracy: 0.5501\n",
      "Epoch 11/20\n",
      "1853525/1853525 [==============================] - 46s 25us/step - loss: nan - accuracy: 0.5501 0s - loss: nan - accuracy: 0.5\n",
      "Epoch 12/20\n",
      "1853525/1853525 [==============================] - 44s 24us/step - loss: nan - accuracy: 0.5501 1\n",
      "Epoch 13/20\n",
      "1853525/1853525 [==============================] - 44s 24us/step - loss: nan - accuracy: 0.5501 0s - loss: nan - a\n",
      "Epoch 14/20\n",
      "1853525/1853525 [==============================] - 43s 23us/step - loss: nan - accuracy: 0.5501\n",
      "Epoch 15/20\n",
      "1853525/1853525 [==============================] - 44s 24us/step - loss: nan - accuracy: 0.5501\n",
      "Epoch 16/20\n",
      "1853525/1853525 [==============================] - 43s 23us/step - loss: nan - accuracy: 0.5501\n",
      "Epoch 17/20\n",
      "1853525/1853525 [==============================] - 43s 23us/step - loss: nan - accuracy: 0.5501\n",
      "Epoch 18/20\n",
      "1853525/1853525 [==============================] - 43s 23us/step - loss: nan - accuracy: 0.5501\n",
      "Epoch 19/20\n",
      "1853525/1853525 [==============================] - 44s 24us/step - loss: nan - accuracy: 0.5501\n",
      "Epoch 20/20\n",
      "1853525/1853525 [==============================] - 43s 23us/step - loss: nan - accuracy: 0.5501 3s - l - ETA: 2s - loss: nan - - ETA: 1s - \n",
      "463381/463381 [==============================] - 4s 9us/step\n",
      "Epoch 1/20\n",
      "1853525/1853525 [==============================] - 45s 24us/step - loss: nan - accuracy: 0.5537 10s - loss: nan - accurac - ETA: 9s - loss -\n",
      "Epoch 2/20\n",
      "1853525/1853525 [==============================] - 44s 24us/step - loss: nan - accuracy: 0.5502\n",
      "Epoch 3/20\n",
      "1853525/1853525 [==============================] - 44s 24us/step - loss: nan - accuracy: 0.5502 2s - loss: nan - - ETA: 1s - loss: nan - accuracy: 0.550 - ETA: 1\n",
      "Epoch 4/20\n",
      "1853525/1853525 [==============================] - 44s 24us/step - loss: nan - accuracy: 0.5502\n",
      "Epoch 5/20\n",
      "1853525/1853525 [==============================] - 43s 23us/step - loss: nan - accuracy: 0.5502 1s - loss: nan - accuracy: 0. - ETA: 1s\n",
      "Epoch 6/20\n",
      "1853525/1853525 [==============================] - 43s 23us/step - loss: nan - accuracy: 0.5502 0s - loss: nan - accuracy: 0.5\n",
      "Epoch 7/20\n",
      "1853525/1853525 [==============================] - 44s 24us/step - loss: nan - accuracy: 0.5502\n",
      "Epoch 8/20\n",
      "1853525/1853525 [==============================] - 44s 24us/step - loss: nan - accuracy: 0.5502\n",
      "Epoch 9/20\n",
      "1853525/1853525 [==============================] - 44s 24us/step - loss: nan - accuracy: 0.5502\n",
      "Epoch 10/20\n",
      "1853525/1853525 [==============================] - 43s 23us/step - loss: nan - accuracy: 0.5502 5s  - ETA: 3s - loss: na - ETA: 0s - loss: nan - acc\n",
      "Epoch 11/20\n",
      "1853525/1853525 [==============================] - 43s 23us/step - loss: nan - accuracy: 0.5502 4s - loss: nan - accuracy: 0. - ETA: \n",
      "Epoch 12/20\n",
      "1853525/1853525 [==============================] - 43s 23us/step - loss: nan - accuracy: 0.5502 1s - loss: nan  - ETA: 0s - loss: nan - accuracy: 0.55 - ETA: 0s - loss: nan - a\n",
      "Epoch 13/20\n",
      "1853525/1853525 [==============================] - 44s 24us/step - loss: nan - accuracy: 0.5502\n",
      "Epoch 14/20\n",
      "1853525/1853525 [==============================] - 43s 23us/step - loss: nan - accuracy: 0.5502\n",
      "Epoch 15/20\n",
      "1853525/1853525 [==============================] - 43s 23us/step - loss: nan - accuracy: 0.5502 0s - loss: nan - accurac\n",
      "Epoch 16/20\n",
      "1853525/1853525 [==============================] - 43s 23us/step - loss: nan - accuracy: 0.5502\n",
      "Epoch 17/20\n",
      "1853525/1853525 [==============================] - 43s 23us/step - loss: nan - accuracy: 0.5502\n",
      "Epoch 18/20\n",
      "1853525/1853525 [==============================] - 43s 23us/step - loss: nan - accuracy: 0.5502 0s - loss: nan -\n",
      "Epoch 19/20\n",
      "1853525/1853525 [==============================] - 43s 23us/step - loss: nan - accuracy: 0.5502\n",
      "Epoch 20/20\n",
      "1853525/1853525 [==============================] - 43s 23us/step - loss: nan - accuracy: 0.5502 1s - loss: nan - accuracy:  - ETA: 1s - loss: nan - - ETA: 0s - loss: nan - accura\n",
      "463381/463381 [==============================] - 4s 8us/step\n",
      "Epoch 1/20\n",
      "1853524/1853524 [==============================] - 45s 24us/step - loss: nan - accuracy: 0.5504TA: 8s - loss: n - ETA: 6s - loss: na - ETA: 5s - \n",
      "Epoch 2/20\n",
      "1853524/1853524 [==============================] - 46s 25us/step - loss: nan - accuracy: 0.5503\n",
      "Epoch 3/20\n",
      "1853524/1853524 [==============================] - 43s 23us/step - loss: nan - accuracy: 0.5503 2s - loss: nan - accu\n",
      "Epoch 4/20\n",
      "1853524/1853524 [==============================] - 42s 23us/step - loss: nan - accuracy: 0.5503\n",
      "Epoch 5/20\n",
      "1853524/1853524 [==============================] - 43s 23us/step - loss: nan - accuracy: 0.5503 1\n",
      "Epoch 6/20\n",
      "1853524/1853524 [==============================] - 44s 24us/step - loss: nan - accuracy: 0.5503\n",
      "Epoch 7/20\n",
      "1853524/1853524 [==============================] - 44s 24us/step - loss: nan - accuracy: 0.5503 0s - loss: nan - accura - ETA: 0s - loss: nan - accuracy: 0\n",
      "Epoch 8/20\n",
      "1853524/1853524 [==============================] - 43s 23us/step - loss: nan - accuracy: 0.5503\n",
      "Epoch 9/20\n",
      "1853524/1853524 [==============================] - 44s 24us/step - loss: nan - accuracy: 0.5503\n",
      "Epoch 10/20\n",
      "1853524/1853524 [==============================] - 44s 24us/step - loss: nan - accuracy: 0.5503\n",
      "Epoch 11/20\n",
      "1853524/1853524 [==============================] - 43s 23us/step - loss: nan - accuracy: 0.5503\n",
      "Epoch 12/20\n",
      "1853524/1853524 [==============================] - 43s 23us/step - loss: nan - accuracy: 0.5503\n",
      "Epoch 13/20\n",
      "1853524/1853524 [==============================] - 43s 23us/step - loss: nan - accuracy: 0.5503 0s - loss: nan - accu\n",
      "Epoch 14/20\n",
      "1853524/1853524 [==============================] - 44s 24us/step - loss: nan - accuracy: 0.5503 1s - lo\n",
      "Epoch 15/20\n",
      "1853524/1853524 [==============================] - 43s 23us/step - loss: nan - accuracy: 0.5503\n",
      "Epoch 16/20\n",
      "1853524/1853524 [==============================] - 43s 23us/step - loss: nan - accuracy: 0.5503\n",
      "Epoch 17/20\n",
      "1853524/1853524 [==============================] - 43s 23us/step - loss: nan - accuracy: 0.5503\n",
      "Epoch 18/20\n",
      "1853524/1853524 [==============================] - 43s 23us/step - loss: nan - accuracy: 0.5503\n",
      "Epoch 19/20\n",
      "1853524/1853524 [==============================] - 43s 23us/step - loss: nan - accuracy: 0.5503 1\n",
      "Epoch 20/20\n",
      "1853524/1853524 [==============================] - 43s 23us/step - loss: nan - accuracy: 0.5503 1s - loss: n - ETA: 0s - loss: nan - a\n",
      "463382/463382 [==============================] - 4s 8us/step\n",
      "Epoch 1/20\n",
      "1853525/1853525 [==============================] - 45s 25us/step - loss: nan - accuracy: 0.5510\n",
      "Epoch 2/20\n",
      "1853525/1853525 [==============================] - 44s 24us/step - loss: nan - accuracy: 0.5504 8s - loss: nan  - ETA: 1s - loss: nan - accuracy - ETA: 0s - loss: nan \n",
      "Epoch 3/20\n",
      "1853525/1853525 [==============================] - 44s 24us/step - loss: nan - accuracy: 0.5504\n",
      "Epoch 4/20\n",
      "1853525/1853525 [==============================] - 44s 24us/step - loss: nan - accuracy: 0.5504\n",
      "Epoch 5/20\n",
      "1853525/1853525 [==============================] - 44s 24us/step - loss: nan - accuracy: 0.5504 0s - loss: nan - acc - ETA: 0s - loss: nan - accuracy: 0.\n",
      "Epoch 6/20\n",
      "1853525/1853525 [==============================] - 43s 23us/step - loss: nan - accuracy: 0.5504 7s \n",
      "Epoch 7/20\n",
      "1853525/1853525 [==============================] - 44s 24us/step - loss: nan - accuracy: 0.5504\n",
      "Epoch 8/20\n",
      "1853525/1853525 [==============================] - 44s 23us/step - loss: nan - accuracy: 0.5504\n",
      "Epoch 9/20\n",
      "1853525/1853525 [==============================] - 44s 24us/step - loss: nan - accuracy: 0.5504 2s - loss: nan - acc - ETA\n",
      "Epoch 10/20\n",
      "1853525/1853525 [==============================] - 44s 24us/step - loss: nan - accuracy: 0.5504 10s - loss: nan - ETA: 9s - loss: nan - accuracy - ETA: 9s - loss: \n",
      "Epoch 11/20\n",
      "1853525/1853525 [==============================] - 44s 24us/step - loss: nan - accuracy: 0.5504 9s - ETA:\n",
      "Epoch 12/20\n",
      "1853525/1853525 [==============================] - 44s 24us/step - loss: nan - accuracy: 0.5504\n",
      "Epoch 13/20\n"
     ]
    },
    {
     "name": "stdout",
     "output_type": "stream",
     "text": [
      "1853525/1853525 [==============================] - 43s 23us/step - loss: nan - accuracy: 0.5504\n",
      "Epoch 14/20\n",
      "1853525/1853525 [==============================] - 50s 27us/step - loss: nan - accuracy: 0.5504\n",
      "Epoch 15/20\n",
      "1853525/1853525 [==============================] - 47s 26us/step - loss: nan - accuracy: 0.5504\n",
      "Epoch 16/20\n",
      "1853525/1853525 [==============================] - 46s 25us/step - loss: nan - accuracy: 0.5504\n",
      "Epoch 17/20\n",
      "1853525/1853525 [==============================] - 45s 24us/step - loss: nan - accuracy: 0.5504\n",
      "Epoch 18/20\n",
      "1853525/1853525 [==============================] - 45s 24us/step - loss: nan - accuracy: 0.5504\n",
      "Epoch 19/20\n",
      "1853525/1853525 [==============================] - 45s 24us/step - loss: nan - accuracy: 0.5504\n",
      "Epoch 20/20\n",
      "1853525/1853525 [==============================] - 45s 24us/step - loss: nan - accuracy: 0.5504\n",
      "463381/463381 [==============================] - 4s 9us/step\n",
      "Epoch 1/20\n",
      "1853525/1853525 [==============================] - 47s 25us/step - loss: nan - accuracy: 0.5587\n",
      "Epoch 2/20\n",
      "1853525/1853525 [==============================] - 46s 25us/step - loss: nan - accuracy: 0.5504 0s - loss: nan - accuracy\n",
      "Epoch 3/20\n",
      "1853525/1853525 [==============================] - 45s 24us/step - loss: nan - accuracy: 0.5504 5s - loss: nan - accuracy:  - ET - ETA: 0s - loss: na\n",
      "Epoch 4/20\n",
      "1853525/1853525 [==============================] - 45s 24us/step - loss: nan - accuracy: 0.5504\n",
      "Epoch 5/20\n",
      "1853525/1853525 [==============================] - 45s 24us/step - loss: nan - accuracy: 0.5504: 0s - loss: na\n",
      "Epoch 6/20\n",
      "1853525/1853525 [==============================] - 45s 24us/step - loss: nan - accuracy: 0.5504\n",
      "Epoch 7/20\n",
      "1853525/1853525 [==============================] - 45s 24us/step - loss: nan - accuracy: 0.5504\n",
      "Epoch 8/20\n",
      "1853525/1853525 [==============================] - 45s 24us/step - loss: nan - accuracy: 0.5504 0s - loss: na\n",
      "Epoch 9/20\n",
      "1853525/1853525 [==============================] - 45s 24us/step - loss: nan - accuracy: 0.5504\n",
      "Epoch 10/20\n",
      "1853525/1853525 [==============================] - 45s 24us/step - loss: nan - accuracy: 0.5504\n",
      "Epoch 11/20\n",
      "1853525/1853525 [==============================] - 45s 24us/step - loss: nan - accuracy: 0.5504\n",
      "Epoch 12/20\n",
      "1853525/1853525 [==============================] - 46s 25us/step - loss: nan - accuracy: 0.5504 1s \n",
      "Epoch 13/20\n",
      "1853525/1853525 [==============================] - 45s 24us/step - loss: nan - accuracy: 0.5504 1s - loss: nan - accur - ETA: 1s - los\n",
      "Epoch 14/20\n",
      "1853525/1853525 [==============================] - 45s 24us/step - loss: nan - accuracy: 0.5504\n",
      "Epoch 15/20\n",
      "1853525/1853525 [==============================] - 45s 24us/step - loss: nan - accuracy: 0.5504\n",
      "Epoch 16/20\n",
      "1853525/1853525 [==============================] - 45s 24us/step - loss: nan - accuracy: 0.5504\n",
      "Epoch 17/20\n",
      "1853525/1853525 [==============================] - 45s 24us/step - loss: nan - accuracy: 0.5504\n",
      "Epoch 18/20\n",
      "1853525/1853525 [==============================] - 45s 24us/step - loss: nan - accuracy: 0.5504 14s - - ETA: 4s - loss: nan - accuracy:\n",
      "Epoch 19/20\n",
      "1853525/1853525 [==============================] - 45s 24us/step - loss: nan - accuracy: 0.5504\n",
      "Epoch 20/20\n",
      "1853525/1853525 [==============================] - 45s 24us/step - loss: nan - accuracy: 0.5504 4s -  - ETA: 3s - loss:  - ETA: 0s - loss: nan - accuracy: 0.55 - ETA: 0s - loss: nan - accuracy: 0.\n",
      "463381/463381 [==============================] - 4s 9us/step\n",
      "Epoch 1/20\n",
      "1853525/1853525 [==============================] - 46s 25us/step - loss: nan - accuracy: 0.5504\n",
      "Epoch 2/20\n",
      "1853525/1853525 [==============================] - 44s 24us/step - loss: nan - accuracy: 0.5501 19s - l - ETA: 8s - loss: nan - accuracy: 0.55  - ETA: 4s - loss: nan -  - ETA - ETA: 0s - loss: nan - accuracy: 0.550\n",
      "Epoch 3/20\n",
      "1853525/1853525 [==============================] - 42s 23us/step - loss: nan - accuracy: 0.5501 1s - loss:  - ETA: 0s - loss: nan - accuracy: 0.550\n",
      "Epoch 4/20\n",
      "1853525/1853525 [==============================] - 42s 23us/step - loss: nan - accuracy: 0.5501\n",
      "Epoch 5/20\n",
      "1853525/1853525 [==============================] - 42s 23us/step - loss: nan - accuracy: 0.5501\n",
      "Epoch 6/20\n",
      "1853525/1853525 [==============================] - 48s 26us/step - loss: nan - accuracy: 0.5501\n",
      "Epoch 7/20\n",
      "1853525/1853525 [==============================] - 49s 26us/step - loss: nan - accuracy: 0.5501 1s - loss: nan - ac - ETA: 0s - loss: nan - accuracy: 0\n",
      "Epoch 8/20\n",
      "1853525/1853525 [==============================] - 46s 25us/step - loss: nan - accuracy: 0.5501\n",
      "Epoch 9/20\n",
      "1853525/1853525 [==============================] - 46s 25us/step - loss: nan - accuracy: 0.5501\n",
      "Epoch 10/20\n",
      "1853525/1853525 [==============================] - 45s 24us/step - loss: nan - accuracy: 0.5501 1s - lo - ETA: 0s - loss: nan - accuracy: 0.5\n",
      "Epoch 11/20\n",
      "1853525/1853525 [==============================] - 44s 24us/step - loss: nan - accuracy: 0.5501\n",
      "Epoch 12/20\n",
      "1853525/1853525 [==============================] - 44s 24us/step - loss: nan - accuracy: 0.5501\n",
      "Epoch 13/20\n",
      "1853525/1853525 [==============================] - 44s 24us/step - loss: nan - accuracy: 0.5501\n",
      "Epoch 14/20\n",
      "1853525/1853525 [==============================] - 44s 24us/step - loss: nan - accuracy: 0.5501\n",
      "Epoch 15/20\n",
      "1853525/1853525 [==============================] - 44s 24us/step - loss: nan - accuracy: 0.5501 0s - loss: nan - accuracy: \n",
      "Epoch 16/20\n",
      "1853525/1853525 [==============================] - 44s 24us/step - loss: nan - accuracy: 0.5501\n",
      "Epoch 17/20\n",
      "1853525/1853525 [==============================] - 44s 24us/step - loss: nan - accuracy: 0.5501 1s - los - ETA: 0s - loss: nan - accuracy: 0.\n",
      "Epoch 18/20\n",
      "1853525/1853525 [==============================] - 44s 24us/step - loss: nan - accuracy: 0.5501\n",
      "Epoch 19/20\n",
      "1853525/1853525 [==============================] - 44s 24us/step - loss: nan - accuracy: 0.5501\n",
      "Epoch 20/20\n",
      "1853525/1853525 [==============================] - 44s 24us/step - loss: nan - accuracy: 0.5501 3s - los - ETA: 2s - loss: nan - accur - ETA: 1s - loss: nan - accuracy: 0.5 - ETA: 1s - l\n",
      "463381/463381 [==============================] - 4s 9us/step\n",
      "Epoch 1/20\n",
      "1853525/1853525 [==============================] - 52s 28us/step - loss: nan - accuracy: 0.5508\n",
      "Epoch 2/20\n",
      "1853525/1853525 [==============================] - 51s 27us/step - loss: nan - accuracy: 0.5502 0s - loss: nan - - ETA: 0s - loss: nan - accuracy: 0.550\n",
      "Epoch 3/20\n",
      "1853525/1853525 [==============================] - 49s 26us/step - loss: nan - accuracy: 0.5502 2s - loss: nan  - ETA: 1s - \n",
      "Epoch 4/20\n",
      "1853525/1853525 [==============================] - 52s 28us/step - loss: nan - accuracy: 0.5502\n",
      "Epoch 5/20\n",
      "1853525/1853525 [==============================] - 50s 27us/step - loss: nan - accuracy: 0.5502\n",
      "Epoch 6/20\n",
      "1853525/1853525 [==============================] - 54s 29us/step - loss: nan - accuracy: 0.5502\n",
      "Epoch 7/20\n",
      "1853525/1853525 [==============================] - 52s 28us/step - loss: nan - accuracy: 0.5502\n",
      "Epoch 8/20\n",
      "1853525/1853525 [==============================] - 50s 27us/step - loss: nan - accuracy: 0.5502\n",
      "Epoch 9/20\n",
      "1853525/1853525 [==============================] - ETA: 0s - loss: nan - accuracy: 0.5502-  - ETA: 0s - loss: nan - - 54s 29us/step - loss: nan - accuracy: 0.5502\n",
      "Epoch 10/20\n",
      "1853525/1853525 [==============================] - 55s 29us/step - loss: nan - accuracy: 0.5502\n",
      "Epoch 11/20\n",
      "1853525/1853525 [==============================] - 54s 29us/step - loss: nan - accuracy: 0.5502\n",
      "Epoch 12/20\n",
      "1853525/1853525 [==============================] - 49s 27us/step - loss: nan - accuracy: 0.5502\n",
      "Epoch 13/20\n",
      "1853525/1853525 [==============================] - 49s 26us/step - loss: nan - accuracy: 0.5502\n",
      "Epoch 14/20\n",
      "1853525/1853525 [==============================] - 46s 25us/step - loss: nan - accuracy: 0.5502\n",
      "Epoch 15/20\n",
      "1853525/1853525 [==============================] - 49s 26us/step - loss: nan - accuracy: 0.5502\n",
      "Epoch 16/20\n",
      "1853525/1853525 [==============================] - 48s 26us/step - loss: nan - accuracy: 0.5502 4s - loss: nan - accuracy: 0. - ETA: 1s - loss: nan - accuracy: 0.550 - E\n",
      "Epoch 17/20\n",
      "1853525/1853525 [==============================] - 49s 26us/step - loss: nan - accuracy: 0.5502: 0s - loss: nan - accur\n",
      "Epoch 18/20\n"
     ]
    },
    {
     "name": "stdout",
     "output_type": "stream",
     "text": [
      "1853525/1853525 [==============================] - 48s 26us/step - loss: nan - accuracy: 0.5502\n",
      "Epoch 19/20\n",
      "1853525/1853525 [==============================] - 50s 27us/step - loss: nan - accuracy: 0.5502\n",
      "Epoch 20/20\n",
      "1853525/1853525 [==============================] - 49s 26us/step - loss: nan - accuracy: 0.5502\n",
      "463381/463381 [==============================] - 5s 10us/step\n",
      "Epoch 1/20\n",
      "1853524/1853524 [==============================] - 49s 26us/step - loss: nan - accuracy: 0.5516\n",
      "Epoch 2/20\n",
      "1853524/1853524 [==============================] - 49s 26us/step - loss: nan - accuracy: 0.5503 10s - lo - ETA: 10s - \n",
      "Epoch 3/20\n",
      "1853524/1853524 [==============================] - 47s 25us/step - loss: nan - accuracy: 0.5503 1s - loss: \n",
      "Epoch 4/20\n",
      "1853524/1853524 [==============================] - 46s 25us/step - loss: nan - accuracy: 0.5503\n",
      "Epoch 5/20\n",
      "1853524/1853524 [==============================] - 58s 31us/step - loss: nan - accuracy: 0.5503 10s - loss: nan  - ETA: 9s - \n",
      "Epoch 6/20\n",
      "1853524/1853524 [==============================] - 57s 31us/step - loss: nan - accuracy: 0.5503 5s - loss: nan - accuracy: 0 - ETA: 5s - loss: nan - ac - ETA: 4s - loss - ETA: 0s - loss: nan - a\n",
      "Epoch 7/20\n",
      "1853524/1853524 [==============================] - 58s 31us/step - loss: nan - accuracy: 0.5503\n",
      "Epoch 8/20\n",
      "1853524/1853524 [==============================] - 59s 32us/step - loss: nan - accuracy: 0.5503\n",
      "Epoch 9/20\n",
      "1853524/1853524 [==============================] - 58s 31us/step - loss: nan - accuracy: 0.5503\n",
      "Epoch 10/20\n",
      "1853524/1853524 [==============================] - 55s 30us/step - loss: nan - accuracy: 0.5503\n",
      "Epoch 11/20\n",
      "1853524/1853524 [==============================] - 55s 30us/step - loss: nan - accuracy: 0.5503\n",
      "Epoch 12/20\n",
      "1853524/1853524 [==============================] - 58s 32us/step - loss: nan - accuracy: 0.5503\n",
      "Epoch 13/20\n",
      "1853524/1853524 [==============================] - 55s 29us/step - loss: nan - accuracy: 0.5503\n",
      "Epoch 14/20\n",
      "1853524/1853524 [==============================] - 53s 28us/step - loss: nan - accuracy: 0.5503\n",
      "Epoch 15/20\n",
      "1853524/1853524 [==============================] - 47s 25us/step - loss: nan - accuracy: 0.5503\n",
      "Epoch 16/20\n",
      "1853524/1853524 [==============================] - 46s 25us/step - loss: nan - accuracy: 0.5503 0s - loss: nan - accuracy: 0\n",
      "Epoch 17/20\n",
      "1853524/1853524 [==============================] - 47s 25us/step - loss: nan - accuracy: 0.5503 1s - \n",
      "Epoch 18/20\n",
      " 467100/1853524 [======>.......................] - ETA: 34s - loss: nan - accuracy: 0.5504"
     ]
    }
   ],
   "source": [
    "model = KerasClassifier(build_fn=c_model, epochs = 20, batch_size = 100)\n",
    "parameters = {'optimizer': ['SGD', 'RMSprop', 'Adagrad', 'Adadelta', 'Adam', 'Adamax', 'Nadam']}\n",
    "clf = GridSearchCV(model, parameters,cv = 5)\n",
    "grid_result = clf.fit(X_train,y_train)"
   ]
  },
  {
   "cell_type": "code",
   "execution_count": null,
   "metadata": {},
   "outputs": [],
   "source": [
    "# summarize results\n",
    "print(\"Best: %f using %s\" % (grid_result.best_score_, grid_result.best_params_))\n",
    "means = grid_result.cv_results_['mean_test_score']\n",
    "stds = grid_result.cv_results_['std_test_score']\n",
    "params = grid_result.cv_results_['params']\n",
    "for mean, stdev, param in zip(means, stds, params):\n",
    "    print(\"%f (%f) with: %r\" % (mean, stdev, param))\n",
    "Running this example produces the following output."
   ]
  },
  {
   "cell_type": "markdown",
   "metadata": {},
   "source": [
    "### Could stop here, let's just get the summarize of the optimizer tuning for this step"
   ]
  },
  {
   "cell_type": "code",
   "execution_count": 25,
   "metadata": {},
   "outputs": [],
   "source": [
    " # define 10-fold cross validation test harness\n",
    "from sklearn.model_selection import StratifiedKFold\n",
    "kfold = StratifiedKFold(n_splits=10, shuffle=True, random_state=seed)\n",
    "cvscores = []\n",
    "for train, test in kfold.split(X, Y):\n",
    "  # create model\n",
    "    model = Sequential()\n",
    "    model.add(Bidirectional(LSTM(20, return_sequences=True), input_shape=(1,9)))\n",
    "    model.add(Dense(12, activation='relu'))\n",
    "\tmodel.add(Dense(8, activation='relu'))\n",
    "    model.add(TimeDistributed(Dense(1)))\n",
    "    model.add(Flatten())\n",
    "\n",
    "    model.add(Dense(2, activation='softmax'))\n",
    "\t# Compile model\n",
    "    model.compile(loss='categorical_crossentropy', optimizer=opt,metrics = ['accuracy'])\n",
    "\t# Fit the model\n",
    "\tmodel.fit(X[train], Y[train], epochs=10, batch_size=100, verbose=0)\n",
    "\t# evaluate the model\n",
    "\tscores = model.evaluate(X[test], Y[test], verbose=0)\n",
    "\tprint(\"%s: %.2f%%\" % (model.metrics_names[1], scores[1]*100))\n",
    "\tcvscores.append(scores[1] * 100)#try different hyperparameters"
   ]
  },
  {
   "cell_type": "code",
   "execution_count": null,
   "metadata": {},
   "outputs": [],
   "source": []
  },
  {
   "cell_type": "code",
   "execution_count": 27,
   "metadata": {},
   "outputs": [
    {
     "name": "stdout",
     "output_type": "stream",
     "text": [
      "Train on 8000000 samples, validate on 1000000 samples\n",
      "Epoch 1/10\n",
      " - 138s - loss: 0.3698 - accuracy: 0.8743 - val_loss: 0.3431 - val_accuracy: 0.8928\n",
      "Epoch 2/10\n",
      " - 116s - loss: 0.3716 - accuracy: 0.8744 - val_loss: 0.3413 - val_accuracy: 0.8928\n",
      "Epoch 3/10\n",
      " - 115s - loss: 0.3726 - accuracy: 0.8744 - val_loss: 0.3406 - val_accuracy: 0.8928\n",
      "Epoch 4/10\n",
      " - 115s - loss: 0.3734 - accuracy: 0.8744 - val_loss: 0.3406 - val_accuracy: 0.8928\n",
      "Epoch 5/10\n",
      " - 115s - loss: 0.3740 - accuracy: 0.8744 - val_loss: 0.3409 - val_accuracy: 0.8928\n",
      "Epoch 6/10\n",
      " - 115s - loss: 0.3745 - accuracy: 0.8744 - val_loss: 0.3412 - val_accuracy: 0.8928\n",
      "Epoch 7/10\n",
      " - 115s - loss: 0.3749 - accuracy: 0.8744 - val_loss: 0.3414 - val_accuracy: 0.8928\n",
      "Epoch 8/10\n",
      " - 115s - loss: 0.3752 - accuracy: 0.8744 - val_loss: 0.3415 - val_accuracy: 0.8928\n",
      "Epoch 9/10\n",
      " - 115s - loss: 0.3754 - accuracy: 0.8744 - val_loss: 0.3416 - val_accuracy: 0.8928\n",
      "Epoch 10/10\n",
      " - 115s - loss: 0.3756 - accuracy: 0.8744 - val_loss: 0.3417 - val_accuracy: 0.8928\n"
     ]
    },
    {
     "data": {
      "image/png": "[encoded data removed]",
      "text/plain": [
       "<Figure size 432x288 with 1 Axes>"
      ]
     },
     "metadata": {
      "needs_background": "light"
     },
     "output_type": "display_data"
    }
   ],
   "source": [
    "# fit network\n",
    "history = model.fit(train_X, train_y, epochs=10, batch_size=100, validation_data=(test_X, test_y), verbose=2, shuffle=False)\n",
    "# plot history\n",
    "pyplot.plot(history.history['loss'], label='train')\n",
    "pyplot.plot(history.history['val_loss'], label='test')\n",
    "pyplot.legend()\n",
    "pyplot.show()"
   ]
  },
  {
   "cell_type": "code",
   "execution_count": 32,
   "metadata": {},
   "outputs": [
    {
     "name": "stdout",
     "output_type": "stream",
     "text": [
      "1157290/1157290 [==============================] - 17s 15us/step\n"
     ]
    }
   ],
   "source": [
    "test_scores = model.evaluate(x_test,y_test)"
   ]
  },
  {
   "cell_type": "code",
   "execution_count": 33,
   "metadata": {
    "scrolled": true
   },
   "outputs": [
    {
     "data": {
      "text/plain": [
       "[0.3245619818357451, 0.9015389680862427]"
      ]
     },
     "execution_count": 33,
     "metadata": {},
     "output_type": "execute_result"
    }
   ],
   "source": [
    "test_scores"
   ]
  },
  {
   "cell_type": "code",
   "execution_count": null,
   "metadata": {},
   "outputs": [],
   "source": []
  }
 ],
 "metadata": {
  "kernelspec": {
   "display_name": "Python 3",
   "language": "python",
   "name": "python3"
  },
  "language_info": {
   "codemirror_mode": {
    "name": "ipython",
    "version": 3
   },
   "file_extension": ".py",
   "mimetype": "text/x-python",
   "name": "python",
   "nbconvert_exporter": "python",
   "pygments_lexer": "ipython3",
   "version": "3.7.7"
  }
 },
 "nbformat": 4,
 "nbformat_minor": 4
}
