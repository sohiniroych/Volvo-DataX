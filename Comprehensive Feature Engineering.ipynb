{
 "cells": [
  {
   "cell_type": "markdown",
   "metadata": {},
   "source": [
    "# Pre-Processing : Library and Data file import"
   ]
  },
  {
   "cell_type": "code",
   "execution_count": 1,
   "metadata": {},
   "outputs": [],
   "source": [
    "import pandas as pd\n",
    "import numpy as np\n",
    "import seaborn as sns #visualisation\n",
    "import matplotlib.pyplot as plt #visualisation\n",
    "%matplotlib inline \n",
    "sns.set(color_codes=True)\n",
    "pd.set_option('display.max_columns', 999)"
   ]
  },
  {
   "cell_type": "code",
   "execution_count": 1016,
   "metadata": {},
   "outputs": [],
   "source": [
    "from sklearn.ensemble.forest import RandomForestClassifier\n",
    "from sklearn.feature_selection import SelectFromModel\n",
    "from sklearn.model_selection import train_test_split\n",
    "from sklearn.linear_model import Lasso, LogisticRegression\n",
    "from sklearn.preprocessing import StandardScaler\n",
    "from sklearn.preprocessing import MinMaxScaler\n",
    "from sklearn import metrics\n",
    "from sklearn.model_selection import cross_validate\n",
    "from sklearn.model_selection import cross_val_score\n",
    "from sklearn.model_selection import cross_val_predict\n",
    "from sklearn.decomposition import PCA\n",
    "from sklearn.neighbors import KNeighborsClassifier\n",
    "from sklearn.metrics import confusion_matrix\n",
    "import gc"
   ]
  },
  {
   "cell_type": "code",
   "execution_count": 987,
   "metadata": {},
   "outputs": [],
   "source": [
    "import warnings\n",
    "warnings.filterwarnings(\"ignore\")"
   ]
  },
  {
   "cell_type": "code",
   "execution_count": 1017,
   "metadata": {},
   "outputs": [
    {
     "data": {
      "text/plain": [
       "49975"
      ]
     },
     "execution_count": 1017,
     "metadata": {},
     "output_type": "execute_result"
    }
   ],
   "source": [
    "gc.collect()"
   ]
  },
  {
   "cell_type": "code",
   "execution_count": 919,
   "metadata": {},
   "outputs": [],
   "source": [
    "#electronics = pd.read_pickle(\"df.pkl\")"
   ]
  },
  {
   "cell_type": "markdown",
   "metadata": {},
   "source": [
    "# 1. Processing data for appropriate Date-Time Values"
   ]
  },
  {
   "cell_type": "code",
   "execution_count": 920,
   "metadata": {},
   "outputs": [],
   "source": [
    "df = electronics[:5000].copy()\n",
    "df.drop('category_id',axis=1,inplace=True)"
   ]
  },
  {
   "cell_type": "code",
   "execution_count": 921,
   "metadata": {},
   "outputs": [],
   "source": [
    "df['event_time'] = pd.DatetimeIndex(df['event_time']).tz_convert('US/Eastern')"
   ]
  },
  {
   "cell_type": "code",
   "execution_count": 922,
   "metadata": {},
   "outputs": [],
   "source": [
    "df['year'] = pd.DatetimeIndex(df['event_time']).year\n",
    "df['month'] = pd.DatetimeIndex(df['event_time']).month"
   ]
  },
  {
   "cell_type": "code",
   "execution_count": 923,
   "metadata": {},
   "outputs": [],
   "source": [
    "# Month\n",
    "\n",
    "MM = {1:'Jan', 2:'Feb', 3:'Mar', 4:'Apr', 5:'May', 6:'Jun', 7:'Jul', 8:'Aug', 9:'Sep', 10:'Oct', 11:'Nov', 12:'Dec'}\n",
    "df['month'] = pd.DatetimeIndex(df['event_time']).month.map(MM)"
   ]
  },
  {
   "cell_type": "code",
   "execution_count": 924,
   "metadata": {},
   "outputs": [],
   "source": [
    "# Weekday\n",
    "\n",
    "dayOfWeek={0:'Mon', 1:'Tue', 2:'Wed', 3:'Thu', 4:'Fr', 5:'Sat', 6:'Sun'}\n",
    "df['weekday'] = pd.DatetimeIndex(df['event_time']).weekday.map(dayOfWeek)"
   ]
  },
  {
   "cell_type": "code",
   "execution_count": 925,
   "metadata": {},
   "outputs": [],
   "source": [
    "# Phase of day\n",
    "\n",
    "df['hour'] = pd.DatetimeIndex(df['event_time']).hour\n",
    "timeOfDay={0:'Dawn',1:'Dawn',2:'Dawn',3:'Dawn',4:'Dawn',5:'EarlyMorning',6:'EarlyMorning',7:'EarlyMorning',8:'EarlyMorning', 9:'Morning',10:'Morning',11:'Morning', 12:'Noon', 13:'Afternoon',14:'Afternoon',15:'Afternoon',16:'Afternoon', 17:'Evening',18:'Evening',19:'Evening',20:'Evening', 21:'Night',22:'Night',23:'Night', 24:'Midnight'}\n",
    "df['timeOfDay'] = df.hour.map(timeOfDay)"
   ]
  },
  {
   "cell_type": "code",
   "execution_count": 926,
   "metadata": {},
   "outputs": [],
   "source": [
    "# Is Weekend?\n",
    "\n",
    "df['Weekend']= df.weekday.apply(lambda x : 1 if x in ['Sunday','Saturday'] else 0)"
   ]
  },
  {
   "cell_type": "code",
   "execution_count": 927,
   "metadata": {},
   "outputs": [],
   "source": [
    "#Is holiday?\n",
    "holidaysDF = pd.read_csv(\"holidays.csv\")\n",
    "\n",
    "holidaysDF['Date']= pd.DatetimeIndex(holidaysDF['Date']).tz_localize('UTC').tz_convert('US/Eastern')\n",
    "holidaysList = []\n",
    "for item in holidaysDF['Date'].to_list():\n",
    "    holidaysList.append(pd.Timestamp(item))\n",
    "\n",
    "Holiday = df.event_time.apply(lambda x : 1 if x in holidaysList else 0)\n",
    "df['Holiday']= Holiday"
   ]
  },
  {
   "cell_type": "code",
   "execution_count": 928,
   "metadata": {
    "scrolled": false
   },
   "outputs": [
    {
     "data": {
      "text/html": [
       "<div>\n",
       "<style scoped>\n",
       "    .dataframe tbody tr th:only-of-type {\n",
       "        vertical-align: middle;\n",
       "    }\n",
       "\n",
       "    .dataframe tbody tr th {\n",
       "        vertical-align: top;\n",
       "    }\n",
       "\n",
       "    .dataframe thead th {\n",
       "        text-align: right;\n",
       "    }\n",
       "</style>\n",
       "<table border=\"1\" class=\"dataframe\">\n",
       "  <thead>\n",
       "    <tr style=\"text-align: right;\">\n",
       "      <th></th>\n",
       "      <th>user_id</th>\n",
       "      <th>product_id</th>\n",
       "      <th>user_session</th>\n",
       "      <th>event_time</th>\n",
       "      <th>event_type</th>\n",
       "      <th>category_code</th>\n",
       "      <th>brand</th>\n",
       "      <th>price</th>\n",
       "      <th>year</th>\n",
       "      <th>month</th>\n",
       "      <th>weekday</th>\n",
       "      <th>hour</th>\n",
       "      <th>timeOfDay</th>\n",
       "      <th>Weekend</th>\n",
       "      <th>Holiday</th>\n",
       "    </tr>\n",
       "  </thead>\n",
       "  <tbody>\n",
       "    <tr>\n",
       "      <td>1</td>\n",
       "      <td>554748717</td>\n",
       "      <td>3900821</td>\n",
       "      <td>9333dfbd-b87a-4708-9857-6336556b0fcc</td>\n",
       "      <td>2019-09-30 20:00:00-04:00</td>\n",
       "      <td>view</td>\n",
       "      <td>appliances.environment.water_heater</td>\n",
       "      <td>aqua</td>\n",
       "      <td>33.20</td>\n",
       "      <td>2019</td>\n",
       "      <td>Sep</td>\n",
       "      <td>Mon</td>\n",
       "      <td>20</td>\n",
       "      <td>Evening</td>\n",
       "      <td>0</td>\n",
       "      <td>0</td>\n",
       "    </tr>\n",
       "    <tr>\n",
       "      <td>3</td>\n",
       "      <td>550050854</td>\n",
       "      <td>1307067</td>\n",
       "      <td>7c90fc70-0e80-4590-96f3-13c02c18c713</td>\n",
       "      <td>2019-09-30 20:00:01-04:00</td>\n",
       "      <td>view</td>\n",
       "      <td>computers.notebook</td>\n",
       "      <td>lenovo</td>\n",
       "      <td>251.74</td>\n",
       "      <td>2019</td>\n",
       "      <td>Sep</td>\n",
       "      <td>Mon</td>\n",
       "      <td>20</td>\n",
       "      <td>Evening</td>\n",
       "      <td>0</td>\n",
       "      <td>0</td>\n",
       "    </tr>\n",
       "    <tr>\n",
       "      <td>4</td>\n",
       "      <td>535871217</td>\n",
       "      <td>1004237</td>\n",
       "      <td>c6bd7419-2748-4c56-95b4-8cec9ff8b80d</td>\n",
       "      <td>2019-09-30 20:00:04-04:00</td>\n",
       "      <td>view</td>\n",
       "      <td>electronics.smartphone</td>\n",
       "      <td>apple</td>\n",
       "      <td>1081.98</td>\n",
       "      <td>2019</td>\n",
       "      <td>Sep</td>\n",
       "      <td>Mon</td>\n",
       "      <td>20</td>\n",
       "      <td>Evening</td>\n",
       "      <td>0</td>\n",
       "      <td>0</td>\n",
       "    </tr>\n",
       "  </tbody>\n",
       "</table>\n",
       "</div>"
      ],
      "text/plain": [
       "     user_id  product_id                          user_session  \\\n",
       "1  554748717     3900821  9333dfbd-b87a-4708-9857-6336556b0fcc   \n",
       "3  550050854     1307067  7c90fc70-0e80-4590-96f3-13c02c18c713   \n",
       "4  535871217     1004237  c6bd7419-2748-4c56-95b4-8cec9ff8b80d   \n",
       "\n",
       "                 event_time event_type                        category_code  \\\n",
       "1 2019-09-30 20:00:00-04:00       view  appliances.environment.water_heater   \n",
       "3 2019-09-30 20:00:01-04:00       view                   computers.notebook   \n",
       "4 2019-09-30 20:00:04-04:00       view               electronics.smartphone   \n",
       "\n",
       "    brand    price  year month weekday  hour timeOfDay  Weekend  Holiday  \n",
       "1    aqua    33.20  2019   Sep     Mon    20   Evening        0        0  \n",
       "3  lenovo   251.74  2019   Sep     Mon    20   Evening        0        0  \n",
       "4   apple  1081.98  2019   Sep     Mon    20   Evening        0        0  "
      ]
     },
     "execution_count": 928,
     "metadata": {},
     "output_type": "execute_result"
    }
   ],
   "source": [
    "df.head(3)"
   ]
  },
  {
   "cell_type": "markdown",
   "metadata": {},
   "source": [
    "# 2. Creating Features"
   ]
  },
  {
   "cell_type": "markdown",
   "metadata": {},
   "source": [
    "## Features to build:\n",
    "\n",
    "    Weekday(Sun/Mon/...) [One hot encoded]\n",
    "    Month [One hot encoded]\n",
    "    TimeOfDay(Morning/Evening/....) [One hot encoded]\n",
    "    InteractionTime(Duration of Session in seconds)\n",
    "    \n",
    "    #TotalEventsInSession()\n",
    "    #ViewEventsInSession\n",
    "    #CartEventsInSession\n",
    "    \n",
    "    #CategoriesViewedInSession\n",
    "    #CategoriesCartedInSession\n",
    "    #BrandsViewedInSession\n",
    "    #BrandsCartedInSession\n",
    "    #ProductsViewedInSession\n",
    "    #ProductsCartedInSession\n",
    "    \n",
    "    AverageAmountViewedInSession\n",
    "    AverageAmountCartedInSession\n",
    "    \n",
    "    #HolidaysDuringSession()\n",
    "    #WeekendDuringSession()\n",
    "    \n",
    "    LastSession(1: if the Session is last for a user, 0 if not)\n",
    "    \n",
    "    ViewToCartTime (Time between viewing and carting in session)\n",
    "    \n",
    "    Other suggested Features:\n",
    "        AvgPRDViewbyUser (total products viewed/total sessions by user)\n",
    "        AvgPRDCartbyUser  (total products carted/total sessions by user)\n",
    "        AvgCTGViewbyUser (total categories viewed/total sessions by user)\n",
    "        AvgCTGCartbyUser (total categories viewed/total sessions by user)"
   ]
  },
  {
   "cell_type": "markdown",
   "metadata": {},
   "source": [
    "## ADDING COLUMNS TO DF -  AMOUNT BY USER FOR DIFFERENT EVENTS"
   ]
  },
  {
   "cell_type": "code",
   "execution_count": 929,
   "metadata": {},
   "outputs": [],
   "source": [
    "AmountbyUser = pd.pivot_table(df, index='user_id',columns='event_type',values='price',fill_value=0)\n",
    "AmountbyUser = AmountbyUser.rename(columns={'cart':'OverallAmtUserCarted','purchase':'OverallAmtUserPurchased','view':'OverallAmtUserViewed'})\n",
    "df = pd.merge(df,AmountbyUser,on='user_id',how='outer')"
   ]
  },
  {
   "cell_type": "markdown",
   "metadata": {},
   "source": [
    "## GROUPING THE DATA"
   ]
  },
  {
   "cell_type": "code",
   "execution_count": 930,
   "metadata": {},
   "outputs": [],
   "source": [
    "GroupUS = df.sort_values('event_time').groupby(['user_session'])"
   ]
  },
  {
   "cell_type": "markdown",
   "metadata": {},
   "source": [
    "## Total Number of Events/Interactions in Session"
   ]
  },
  {
   "cell_type": "code",
   "execution_count": 931,
   "metadata": {},
   "outputs": [],
   "source": [
    "Features= GroupUS['event_type'].count().reset_index().rename(columns={'event_type':'TotalEventsInSession'})"
   ]
  },
  {
   "cell_type": "markdown",
   "metadata": {},
   "source": [
    "## Duration"
   ]
  },
  {
   "cell_type": "code",
   "execution_count": 932,
   "metadata": {},
   "outputs": [],
   "source": [
    "# # Defining function to return range of any given series\n",
    "# def ammd(series):\n",
    "#     return (max(series)-min(series))"
   ]
  },
  {
   "cell_type": "code",
   "execution_count": 933,
   "metadata": {},
   "outputs": [],
   "source": [
    "interactionTime = GroupUS['event_time'].agg(ammd)\n",
    "interactionTime = interactionTime.dt.total_seconds()\n",
    "Features = pd.merge(Features,interactionTime, how ='outer', on = ['user_session'])\n",
    "Features = Features.rename(columns={'event_time':'interactionTime'})"
   ]
  },
  {
   "cell_type": "markdown",
   "metadata": {},
   "source": [
    "##  Number of Interactions by Event Type in Session"
   ]
  },
  {
   "cell_type": "code",
   "execution_count": 934,
   "metadata": {},
   "outputs": [],
   "source": [
    "NumEventTime = GroupUS['event_type'].value_counts().unstack(fill_value = 0).rename(columns={'view':'#TimesViewedinSession','cart':'#TimesCartedinSession','purchase':'#TimesPurchasedinSession'})\n",
    "Features = pd.merge(Features,NumEventTime, how ='outer', on = ['user_session'])"
   ]
  },
  {
   "cell_type": "markdown",
   "metadata": {},
   "source": [
    "## Max and Min Price"
   ]
  },
  {
   "cell_type": "code",
   "execution_count": 935,
   "metadata": {},
   "outputs": [],
   "source": [
    "Features['maxPrice'] = GroupUS['price'].max().values\n",
    "Features['minPrice'] = GroupUS['price'].min().values"
   ]
  },
  {
   "cell_type": "markdown",
   "metadata": {},
   "source": [
    "## AVERAGE AMOUNT BY EVENT IN SESSION"
   ]
  },
  {
   "cell_type": "code",
   "execution_count": 936,
   "metadata": {},
   "outputs": [],
   "source": [
    "AmountbyEvent = pd.pivot_table(df, index='user_session',columns='event_type',values='price',fill_value=0)\n",
    "AmountbyEvent = AmountbyEvent.rename(columns={'cart':'AvgAmtCartedInSession','purchase':'AvgAmtPurchasedInSession','view':'AvgAmtViewedInSession'})\n",
    "Features = pd.merge(Features,AmountbyEvent,on='user_session',how='outer')"
   ]
  },
  {
   "cell_type": "markdown",
   "metadata": {},
   "source": [
    "## BRAND COUNT BY EVENT IN SESSION"
   ]
  },
  {
   "cell_type": "code",
   "execution_count": 937,
   "metadata": {},
   "outputs": [],
   "source": [
    "BrandsBySession= pd.pivot_table(df, index='user_session',columns='event_type',values='brand',aggfunc='count',fill_value=0)\n",
    "BrandsBySession = BrandsBySession.rename(columns={'view':'#BrandsViewedInSession','cart':'#BrandsCartedInSession','purchase':'#BrandsPurchasedInSession'})\n",
    "Features = pd.merge(Features,BrandsBySession,on='user_session',how='outer')"
   ]
  },
  {
   "cell_type": "markdown",
   "metadata": {},
   "source": [
    "## CATEGORY COUNT BY EVENT IN SESSION"
   ]
  },
  {
   "cell_type": "code",
   "execution_count": 938,
   "metadata": {},
   "outputs": [],
   "source": [
    "CategoriesBySession= pd.pivot_table(df, index='user_session',columns='event_type',values='category_code',aggfunc='count',fill_value=0)\n",
    "CategoriesBySession = CategoriesBySession.rename(columns={'view':'#CategoriesViewedInSession','cart':'#CategoriesCartedInSession','purchase':'#CategoriesPurchasedInSession'})\n",
    "Features = pd.merge(Features,CategoriesBySession,on='user_session',how='outer')"
   ]
  },
  {
   "cell_type": "code",
   "execution_count": 939,
   "metadata": {},
   "outputs": [
    {
     "data": {
      "text/html": [
       "<div>\n",
       "<style scoped>\n",
       "    .dataframe tbody tr th:only-of-type {\n",
       "        vertical-align: middle;\n",
       "    }\n",
       "\n",
       "    .dataframe tbody tr th {\n",
       "        vertical-align: top;\n",
       "    }\n",
       "\n",
       "    .dataframe thead th {\n",
       "        text-align: right;\n",
       "    }\n",
       "</style>\n",
       "<table border=\"1\" class=\"dataframe\">\n",
       "  <thead>\n",
       "    <tr style=\"text-align: right;\">\n",
       "      <th></th>\n",
       "      <th>user_session</th>\n",
       "      <th>TotalEventsInSession</th>\n",
       "      <th>interactionTime</th>\n",
       "      <th>#TimesCartedinSession</th>\n",
       "      <th>#TimesPurchasedinSession</th>\n",
       "      <th>#TimesViewedinSession</th>\n",
       "      <th>maxPrice</th>\n",
       "      <th>minPrice</th>\n",
       "      <th>AvgAmtCartedInSession</th>\n",
       "      <th>AvgAmtPurchasedInSession</th>\n",
       "      <th>AvgAmtViewedInSession</th>\n",
       "      <th>#BrandsCartedInSession</th>\n",
       "      <th>#BrandsPurchasedInSession</th>\n",
       "      <th>#BrandsViewedInSession</th>\n",
       "      <th>#CategoriesCartedInSession</th>\n",
       "      <th>#CategoriesPurchasedInSession</th>\n",
       "      <th>#CategoriesViewedInSession</th>\n",
       "    </tr>\n",
       "  </thead>\n",
       "  <tbody>\n",
       "    <tr>\n",
       "      <td>0</td>\n",
       "      <td>00334c2e-e8e5-463f-ae4e-f44f9796ccf4</td>\n",
       "      <td>2</td>\n",
       "      <td>54.0</td>\n",
       "      <td>0</td>\n",
       "      <td>0</td>\n",
       "      <td>2</td>\n",
       "      <td>1541.61</td>\n",
       "      <td>1541.61</td>\n",
       "      <td>0.0</td>\n",
       "      <td>0.0</td>\n",
       "      <td>1541.61</td>\n",
       "      <td>0</td>\n",
       "      <td>0</td>\n",
       "      <td>2</td>\n",
       "      <td>0</td>\n",
       "      <td>0</td>\n",
       "      <td>2</td>\n",
       "    </tr>\n",
       "  </tbody>\n",
       "</table>\n",
       "</div>"
      ],
      "text/plain": [
       "                           user_session  TotalEventsInSession  \\\n",
       "0  00334c2e-e8e5-463f-ae4e-f44f9796ccf4                     2   \n",
       "\n",
       "   interactionTime  #TimesCartedinSession  #TimesPurchasedinSession  \\\n",
       "0             54.0                      0                         0   \n",
       "\n",
       "   #TimesViewedinSession  maxPrice  minPrice  AvgAmtCartedInSession  \\\n",
       "0                      2   1541.61   1541.61                    0.0   \n",
       "\n",
       "   AvgAmtPurchasedInSession  AvgAmtViewedInSession  #BrandsCartedInSession  \\\n",
       "0                       0.0                1541.61                       0   \n",
       "\n",
       "   #BrandsPurchasedInSession  #BrandsViewedInSession  \\\n",
       "0                          0                       2   \n",
       "\n",
       "   #CategoriesCartedInSession  #CategoriesPurchasedInSession  \\\n",
       "0                           0                              0   \n",
       "\n",
       "   #CategoriesViewedInSession  \n",
       "0                           2  "
      ]
     },
     "execution_count": 939,
     "metadata": {},
     "output_type": "execute_result"
    }
   ],
   "source": [
    "Features.head(1)"
   ]
  },
  {
   "cell_type": "markdown",
   "metadata": {},
   "source": [
    "## ADDING FEATURES FOR AVERAGE OVERALL AMOUNT BY USER FOR DIFFERENT EVENTS"
   ]
  },
  {
   "cell_type": "code",
   "execution_count": 940,
   "metadata": {},
   "outputs": [],
   "source": [
    "OverallAmtUserCarted = df.groupby('user_session')['OverallAmtUserCarted'].mean()\n",
    "OverallAmtUserViewed = df.groupby('user_session')['OverallAmtUserViewed'].mean()\n",
    "OverallAmtUserPurchased = df.groupby('user_session')['OverallAmtUserPurchased'].mean()\n",
    "\n",
    "#Merging these individual dataframes\n",
    "\n",
    "Features = pd.merge(Features,OverallAmtUserCarted.reset_index(), how='outer',on = ['user_session'])\n",
    "Features = pd.merge(Features,OverallAmtUserViewed.reset_index(), how='outer',on = ['user_session'])\n",
    "Features = pd.merge(Features,OverallAmtUserPurchased.reset_index(), how='outer',on = ['user_session'])"
   ]
  },
  {
   "cell_type": "code",
   "execution_count": 941,
   "metadata": {},
   "outputs": [
    {
     "data": {
      "text/html": [
       "<div>\n",
       "<style scoped>\n",
       "    .dataframe tbody tr th:only-of-type {\n",
       "        vertical-align: middle;\n",
       "    }\n",
       "\n",
       "    .dataframe tbody tr th {\n",
       "        vertical-align: top;\n",
       "    }\n",
       "\n",
       "    .dataframe thead th {\n",
       "        text-align: right;\n",
       "    }\n",
       "</style>\n",
       "<table border=\"1\" class=\"dataframe\">\n",
       "  <thead>\n",
       "    <tr style=\"text-align: right;\">\n",
       "      <th></th>\n",
       "      <th>user_session</th>\n",
       "      <th>TotalEventsInSession</th>\n",
       "      <th>interactionTime</th>\n",
       "      <th>#TimesCartedinSession</th>\n",
       "      <th>#TimesPurchasedinSession</th>\n",
       "      <th>#TimesViewedinSession</th>\n",
       "      <th>maxPrice</th>\n",
       "      <th>minPrice</th>\n",
       "      <th>AvgAmtCartedInSession</th>\n",
       "      <th>AvgAmtPurchasedInSession</th>\n",
       "      <th>AvgAmtViewedInSession</th>\n",
       "      <th>#BrandsCartedInSession</th>\n",
       "      <th>#BrandsPurchasedInSession</th>\n",
       "      <th>#BrandsViewedInSession</th>\n",
       "      <th>#CategoriesCartedInSession</th>\n",
       "      <th>#CategoriesPurchasedInSession</th>\n",
       "      <th>#CategoriesViewedInSession</th>\n",
       "      <th>OverallAmtUserCarted</th>\n",
       "      <th>OverallAmtUserViewed</th>\n",
       "      <th>OverallAmtUserPurchased</th>\n",
       "    </tr>\n",
       "  </thead>\n",
       "  <tbody>\n",
       "    <tr>\n",
       "      <td>0</td>\n",
       "      <td>00334c2e-e8e5-463f-ae4e-f44f9796ccf4</td>\n",
       "      <td>2</td>\n",
       "      <td>54.0</td>\n",
       "      <td>0</td>\n",
       "      <td>0</td>\n",
       "      <td>2</td>\n",
       "      <td>1541.61</td>\n",
       "      <td>1541.61</td>\n",
       "      <td>0.0</td>\n",
       "      <td>0.0</td>\n",
       "      <td>1541.61</td>\n",
       "      <td>0</td>\n",
       "      <td>0</td>\n",
       "      <td>2</td>\n",
       "      <td>0</td>\n",
       "      <td>0</td>\n",
       "      <td>2</td>\n",
       "      <td>0.0</td>\n",
       "      <td>1541.61</td>\n",
       "      <td>0.0</td>\n",
       "    </tr>\n",
       "  </tbody>\n",
       "</table>\n",
       "</div>"
      ],
      "text/plain": [
       "                           user_session  TotalEventsInSession  \\\n",
       "0  00334c2e-e8e5-463f-ae4e-f44f9796ccf4                     2   \n",
       "\n",
       "   interactionTime  #TimesCartedinSession  #TimesPurchasedinSession  \\\n",
       "0             54.0                      0                         0   \n",
       "\n",
       "   #TimesViewedinSession  maxPrice  minPrice  AvgAmtCartedInSession  \\\n",
       "0                      2   1541.61   1541.61                    0.0   \n",
       "\n",
       "   AvgAmtPurchasedInSession  AvgAmtViewedInSession  #BrandsCartedInSession  \\\n",
       "0                       0.0                1541.61                       0   \n",
       "\n",
       "   #BrandsPurchasedInSession  #BrandsViewedInSession  \\\n",
       "0                          0                       2   \n",
       "\n",
       "   #CategoriesCartedInSession  #CategoriesPurchasedInSession  \\\n",
       "0                           0                              0   \n",
       "\n",
       "   #CategoriesViewedInSession  OverallAmtUserCarted  OverallAmtUserViewed  \\\n",
       "0                           2                   0.0               1541.61   \n",
       "\n",
       "   OverallAmtUserPurchased  \n",
       "0                      0.0  "
      ]
     },
     "execution_count": 941,
     "metadata": {},
     "output_type": "execute_result"
    }
   ],
   "source": [
    "Features.head(1)"
   ]
  },
  {
   "cell_type": "markdown",
   "metadata": {},
   "source": [
    "## PRODUCT COUNT BY EVENT IN SESSION"
   ]
  },
  {
   "cell_type": "code",
   "execution_count": 942,
   "metadata": {},
   "outputs": [],
   "source": [
    "ProductsBySession= pd.pivot_table(df, index='user_session',columns='event_type',values='product_id',aggfunc='count',fill_value=0)\n",
    "ProductsBySession = ProductsBySession.rename(columns={'view':'#ProdsViewedInSession','cart':'#ProdsCartedInSession','purchase':'#ProdsPurchasedInSession'})\n",
    "Features = pd.merge(Features,ProductsBySession,on='user_session',how='outer')"
   ]
  },
  {
   "cell_type": "code",
   "execution_count": 943,
   "metadata": {},
   "outputs": [
    {
     "data": {
      "text/html": [
       "<div>\n",
       "<style scoped>\n",
       "    .dataframe tbody tr th:only-of-type {\n",
       "        vertical-align: middle;\n",
       "    }\n",
       "\n",
       "    .dataframe tbody tr th {\n",
       "        vertical-align: top;\n",
       "    }\n",
       "\n",
       "    .dataframe thead th {\n",
       "        text-align: right;\n",
       "    }\n",
       "</style>\n",
       "<table border=\"1\" class=\"dataframe\">\n",
       "  <thead>\n",
       "    <tr style=\"text-align: right;\">\n",
       "      <th></th>\n",
       "      <th>user_session</th>\n",
       "      <th>TotalEventsInSession</th>\n",
       "      <th>interactionTime</th>\n",
       "      <th>#TimesCartedinSession</th>\n",
       "      <th>#TimesPurchasedinSession</th>\n",
       "      <th>#TimesViewedinSession</th>\n",
       "      <th>maxPrice</th>\n",
       "      <th>minPrice</th>\n",
       "      <th>AvgAmtCartedInSession</th>\n",
       "      <th>AvgAmtPurchasedInSession</th>\n",
       "      <th>AvgAmtViewedInSession</th>\n",
       "      <th>#BrandsCartedInSession</th>\n",
       "      <th>#BrandsPurchasedInSession</th>\n",
       "      <th>#BrandsViewedInSession</th>\n",
       "      <th>#CategoriesCartedInSession</th>\n",
       "      <th>#CategoriesPurchasedInSession</th>\n",
       "      <th>#CategoriesViewedInSession</th>\n",
       "      <th>OverallAmtUserCarted</th>\n",
       "      <th>OverallAmtUserViewed</th>\n",
       "      <th>OverallAmtUserPurchased</th>\n",
       "      <th>#ProdsCartedInSession</th>\n",
       "      <th>#ProdsPurchasedInSession</th>\n",
       "      <th>#ProdsViewedInSession</th>\n",
       "    </tr>\n",
       "  </thead>\n",
       "  <tbody>\n",
       "    <tr>\n",
       "      <td>0</td>\n",
       "      <td>00334c2e-e8e5-463f-ae4e-f44f9796ccf4</td>\n",
       "      <td>2</td>\n",
       "      <td>54.0</td>\n",
       "      <td>0</td>\n",
       "      <td>0</td>\n",
       "      <td>2</td>\n",
       "      <td>1541.61</td>\n",
       "      <td>1541.61</td>\n",
       "      <td>0.0</td>\n",
       "      <td>0.0</td>\n",
       "      <td>1541.61</td>\n",
       "      <td>0</td>\n",
       "      <td>0</td>\n",
       "      <td>2</td>\n",
       "      <td>0</td>\n",
       "      <td>0</td>\n",
       "      <td>2</td>\n",
       "      <td>0.0</td>\n",
       "      <td>1541.61</td>\n",
       "      <td>0.0</td>\n",
       "      <td>0</td>\n",
       "      <td>0</td>\n",
       "      <td>2</td>\n",
       "    </tr>\n",
       "  </tbody>\n",
       "</table>\n",
       "</div>"
      ],
      "text/plain": [
       "                           user_session  TotalEventsInSession  \\\n",
       "0  00334c2e-e8e5-463f-ae4e-f44f9796ccf4                     2   \n",
       "\n",
       "   interactionTime  #TimesCartedinSession  #TimesPurchasedinSession  \\\n",
       "0             54.0                      0                         0   \n",
       "\n",
       "   #TimesViewedinSession  maxPrice  minPrice  AvgAmtCartedInSession  \\\n",
       "0                      2   1541.61   1541.61                    0.0   \n",
       "\n",
       "   AvgAmtPurchasedInSession  AvgAmtViewedInSession  #BrandsCartedInSession  \\\n",
       "0                       0.0                1541.61                       0   \n",
       "\n",
       "   #BrandsPurchasedInSession  #BrandsViewedInSession  \\\n",
       "0                          0                       2   \n",
       "\n",
       "   #CategoriesCartedInSession  #CategoriesPurchasedInSession  \\\n",
       "0                           0                              0   \n",
       "\n",
       "   #CategoriesViewedInSession  OverallAmtUserCarted  OverallAmtUserViewed  \\\n",
       "0                           2                   0.0               1541.61   \n",
       "\n",
       "   OverallAmtUserPurchased  #ProdsCartedInSession  #ProdsPurchasedInSession  \\\n",
       "0                      0.0                      0                         0   \n",
       "\n",
       "   #ProdsViewedInSession  \n",
       "0                      2  "
      ]
     },
     "execution_count": 943,
     "metadata": {},
     "output_type": "execute_result"
    }
   ],
   "source": [
    "Features.head(1)"
   ]
  },
  {
   "cell_type": "markdown",
   "metadata": {},
   "source": [
    "****************************************"
   ]
  },
  {
   "cell_type": "markdown",
   "metadata": {},
   "source": [
    "Adding a dummy column for one-hot encoding values easily"
   ]
  },
  {
   "cell_type": "code",
   "execution_count": 944,
   "metadata": {},
   "outputs": [],
   "source": [
    "df['dummy']= np.zeros(len(df))"
   ]
  },
  {
   "cell_type": "markdown",
   "metadata": {},
   "source": [
    "## Adding Date and Time Features "
   ]
  },
  {
   "cell_type": "code",
   "execution_count": 945,
   "metadata": {},
   "outputs": [],
   "source": [
    "weekday = pd.pivot_table(df, index='user_session',columns='weekday',values='dummy',fill_value=0, aggfunc=lambda x: len(x.unique()) )"
   ]
  },
  {
   "cell_type": "code",
   "execution_count": 946,
   "metadata": {},
   "outputs": [],
   "source": [
    "year =  pd.pivot_table(df, index='user_session',columns='year',values='dummy',fill_value=0, aggfunc=lambda x: len(x.unique()) )"
   ]
  },
  {
   "cell_type": "code",
   "execution_count": 947,
   "metadata": {},
   "outputs": [],
   "source": [
    "month =  pd.pivot_table(df, index='user_session',columns='month',values='dummy',fill_value=0, aggfunc=lambda x: len(x.unique()) )"
   ]
  },
  {
   "cell_type": "code",
   "execution_count": 948,
   "metadata": {},
   "outputs": [],
   "source": [
    "timeOfDay =  pd.pivot_table(df, index='user_session',columns='timeOfDay',values='dummy',fill_value=0, aggfunc=lambda x: len(x.unique()) )"
   ]
  },
  {
   "cell_type": "code",
   "execution_count": 949,
   "metadata": {},
   "outputs": [],
   "source": [
    "Features = pd.merge(Features,weekday,on='user_session',how='outer')\n",
    "Features = pd.merge(Features,year,on='user_session',how='outer')\n",
    "Features = pd.merge(Features,month,on='user_session',how='outer')\n",
    "Features = pd.merge(Features,timeOfDay,on='user_session',how='outer')"
   ]
  },
  {
   "cell_type": "code",
   "execution_count": 950,
   "metadata": {},
   "outputs": [
    {
     "data": {
      "text/html": [
       "<div>\n",
       "<style scoped>\n",
       "    .dataframe tbody tr th:only-of-type {\n",
       "        vertical-align: middle;\n",
       "    }\n",
       "\n",
       "    .dataframe tbody tr th {\n",
       "        vertical-align: top;\n",
       "    }\n",
       "\n",
       "    .dataframe thead th {\n",
       "        text-align: right;\n",
       "    }\n",
       "</style>\n",
       "<table border=\"1\" class=\"dataframe\">\n",
       "  <thead>\n",
       "    <tr style=\"text-align: right;\">\n",
       "      <th></th>\n",
       "      <th>user_session</th>\n",
       "      <th>TotalEventsInSession</th>\n",
       "      <th>interactionTime</th>\n",
       "      <th>#TimesCartedinSession</th>\n",
       "      <th>#TimesPurchasedinSession</th>\n",
       "      <th>#TimesViewedinSession</th>\n",
       "      <th>maxPrice</th>\n",
       "      <th>minPrice</th>\n",
       "      <th>AvgAmtCartedInSession</th>\n",
       "      <th>AvgAmtPurchasedInSession</th>\n",
       "      <th>AvgAmtViewedInSession</th>\n",
       "      <th>#BrandsCartedInSession</th>\n",
       "      <th>#BrandsPurchasedInSession</th>\n",
       "      <th>#BrandsViewedInSession</th>\n",
       "      <th>#CategoriesCartedInSession</th>\n",
       "      <th>#CategoriesPurchasedInSession</th>\n",
       "      <th>#CategoriesViewedInSession</th>\n",
       "      <th>OverallAmtUserCarted</th>\n",
       "      <th>OverallAmtUserViewed</th>\n",
       "      <th>OverallAmtUserPurchased</th>\n",
       "      <th>#ProdsCartedInSession</th>\n",
       "      <th>#ProdsPurchasedInSession</th>\n",
       "      <th>#ProdsViewedInSession</th>\n",
       "      <th>Mon</th>\n",
       "      <th>2019</th>\n",
       "      <th>Sep</th>\n",
       "      <th>Evening</th>\n",
       "      <th>Night</th>\n",
       "    </tr>\n",
       "  </thead>\n",
       "  <tbody>\n",
       "    <tr>\n",
       "      <td>0</td>\n",
       "      <td>00334c2e-e8e5-463f-ae4e-f44f9796ccf4</td>\n",
       "      <td>2</td>\n",
       "      <td>54.0</td>\n",
       "      <td>0</td>\n",
       "      <td>0</td>\n",
       "      <td>2</td>\n",
       "      <td>1541.61</td>\n",
       "      <td>1541.61</td>\n",
       "      <td>0.0</td>\n",
       "      <td>0.0</td>\n",
       "      <td>1541.61</td>\n",
       "      <td>0</td>\n",
       "      <td>0</td>\n",
       "      <td>2</td>\n",
       "      <td>0</td>\n",
       "      <td>0</td>\n",
       "      <td>2</td>\n",
       "      <td>0.0</td>\n",
       "      <td>1541.61</td>\n",
       "      <td>0.0</td>\n",
       "      <td>0</td>\n",
       "      <td>0</td>\n",
       "      <td>2</td>\n",
       "      <td>1</td>\n",
       "      <td>1</td>\n",
       "      <td>1</td>\n",
       "      <td>1</td>\n",
       "      <td>0</td>\n",
       "    </tr>\n",
       "  </tbody>\n",
       "</table>\n",
       "</div>"
      ],
      "text/plain": [
       "                           user_session  TotalEventsInSession  \\\n",
       "0  00334c2e-e8e5-463f-ae4e-f44f9796ccf4                     2   \n",
       "\n",
       "   interactionTime  #TimesCartedinSession  #TimesPurchasedinSession  \\\n",
       "0             54.0                      0                         0   \n",
       "\n",
       "   #TimesViewedinSession  maxPrice  minPrice  AvgAmtCartedInSession  \\\n",
       "0                      2   1541.61   1541.61                    0.0   \n",
       "\n",
       "   AvgAmtPurchasedInSession  AvgAmtViewedInSession  #BrandsCartedInSession  \\\n",
       "0                       0.0                1541.61                       0   \n",
       "\n",
       "   #BrandsPurchasedInSession  #BrandsViewedInSession  \\\n",
       "0                          0                       2   \n",
       "\n",
       "   #CategoriesCartedInSession  #CategoriesPurchasedInSession  \\\n",
       "0                           0                              0   \n",
       "\n",
       "   #CategoriesViewedInSession  OverallAmtUserCarted  OverallAmtUserViewed  \\\n",
       "0                           2                   0.0               1541.61   \n",
       "\n",
       "   OverallAmtUserPurchased  #ProdsCartedInSession  #ProdsPurchasedInSession  \\\n",
       "0                      0.0                      0                         0   \n",
       "\n",
       "   #ProdsViewedInSession  Mon  2019  Sep  Evening  Night  \n",
       "0                      2    1     1    1        1      0  "
      ]
     },
     "execution_count": 950,
     "metadata": {},
     "output_type": "execute_result"
    }
   ],
   "source": [
    "Features.head(1)"
   ]
  },
  {
   "cell_type": "code",
   "execution_count": 951,
   "metadata": {},
   "outputs": [],
   "source": [
    "Holiday = GroupUS['Holiday'].sum()\n",
    "Weekend = GroupUS['Weekend'].sum()"
   ]
  },
  {
   "cell_type": "code",
   "execution_count": 952,
   "metadata": {},
   "outputs": [],
   "source": [
    "Features = pd.merge(Features,Holiday,on='user_session',how='outer')\n",
    "Features = pd.merge(Features,Weekend,on='user_session',how='outer')"
   ]
  },
  {
   "cell_type": "markdown",
   "metadata": {},
   "source": [
    "## Dropping all Purchase related Columns and adding Y label 'Purchase'"
   ]
  },
  {
   "cell_type": "code",
   "execution_count": 953,
   "metadata": {},
   "outputs": [],
   "source": [
    "Features['Purchase'] = Features.AvgAmtPurchasedInSession.apply(lambda x : 1 if x!=0 else 0)"
   ]
  },
  {
   "cell_type": "code",
   "execution_count": 955,
   "metadata": {},
   "outputs": [
    {
     "data": {
      "text/plain": [
       "Index([                 'user_session',          'TotalEventsInSession',\n",
       "                     'interactionTime',         '#TimesCartedinSession',\n",
       "            '#TimesPurchasedinSession',         '#TimesViewedinSession',\n",
       "                            'maxPrice',                      'minPrice',\n",
       "               'AvgAmtCartedInSession',      'AvgAmtPurchasedInSession',\n",
       "               'AvgAmtViewedInSession',        '#BrandsCartedInSession',\n",
       "           '#BrandsPurchasedInSession',        '#BrandsViewedInSession',\n",
       "          '#CategoriesCartedInSession', '#CategoriesPurchasedInSession',\n",
       "          '#CategoriesViewedInSession',          'OverallAmtUserCarted',\n",
       "                'OverallAmtUserViewed',       'OverallAmtUserPurchased',\n",
       "               '#ProdsCartedInSession',      '#ProdsPurchasedInSession',\n",
       "               '#ProdsViewedInSession',                           'Mon',\n",
       "                                  2019,                           'Sep',\n",
       "                             'Evening',                         'Night',\n",
       "                             'Holiday',                       'Weekend',\n",
       "                            'Purchase'],\n",
       "      dtype='object')"
      ]
     },
     "execution_count": 955,
     "metadata": {},
     "output_type": "execute_result"
    }
   ],
   "source": [
    "Features.columns"
   ]
  },
  {
   "cell_type": "code",
   "execution_count": 960,
   "metadata": {},
   "outputs": [],
   "source": [
    "FeaturesDF = Features.drop(columns=['user_session',\n",
    "                                    '#TimesPurchasedinSession',\n",
    "                                    '#BrandsPurchasedInSession', \n",
    "                                    'AvgAmtPurchasedInSession',\n",
    "                                    '#CategoriesPurchasedInSession',\n",
    "                                   'OverallAmtUserPurchased',\n",
    "                                   '#ProdsPurchasedInSession'])"
   ]
  },
  {
   "cell_type": "code",
   "execution_count": 962,
   "metadata": {},
   "outputs": [
    {
     "data": {
      "text/html": [
       "<div>\n",
       "<style scoped>\n",
       "    .dataframe tbody tr th:only-of-type {\n",
       "        vertical-align: middle;\n",
       "    }\n",
       "\n",
       "    .dataframe tbody tr th {\n",
       "        vertical-align: top;\n",
       "    }\n",
       "\n",
       "    .dataframe thead th {\n",
       "        text-align: right;\n",
       "    }\n",
       "</style>\n",
       "<table border=\"1\" class=\"dataframe\">\n",
       "  <thead>\n",
       "    <tr style=\"text-align: right;\">\n",
       "      <th></th>\n",
       "      <th>TotalEventsInSession</th>\n",
       "      <th>interactionTime</th>\n",
       "      <th>#TimesCartedinSession</th>\n",
       "      <th>#TimesViewedinSession</th>\n",
       "      <th>maxPrice</th>\n",
       "      <th>minPrice</th>\n",
       "      <th>AvgAmtCartedInSession</th>\n",
       "      <th>AvgAmtViewedInSession</th>\n",
       "      <th>#BrandsCartedInSession</th>\n",
       "      <th>#BrandsViewedInSession</th>\n",
       "      <th>#CategoriesCartedInSession</th>\n",
       "      <th>#CategoriesViewedInSession</th>\n",
       "      <th>OverallAmtUserCarted</th>\n",
       "      <th>OverallAmtUserViewed</th>\n",
       "      <th>#ProdsCartedInSession</th>\n",
       "      <th>#ProdsViewedInSession</th>\n",
       "      <th>Mon</th>\n",
       "      <th>2019</th>\n",
       "      <th>Sep</th>\n",
       "      <th>Evening</th>\n",
       "      <th>Night</th>\n",
       "      <th>Holiday</th>\n",
       "      <th>Weekend</th>\n",
       "      <th>Purchase</th>\n",
       "    </tr>\n",
       "  </thead>\n",
       "  <tbody>\n",
       "    <tr>\n",
       "      <td>251</td>\n",
       "      <td>26</td>\n",
       "      <td>790.0</td>\n",
       "      <td>0</td>\n",
       "      <td>25</td>\n",
       "      <td>2075.73</td>\n",
       "      <td>66.41</td>\n",
       "      <td>0.00</td>\n",
       "      <td>324.784800</td>\n",
       "      <td>0</td>\n",
       "      <td>25</td>\n",
       "      <td>0</td>\n",
       "      <td>25</td>\n",
       "      <td>0.00</td>\n",
       "      <td>324.784800</td>\n",
       "      <td>0</td>\n",
       "      <td>25</td>\n",
       "      <td>1</td>\n",
       "      <td>1</td>\n",
       "      <td>1</td>\n",
       "      <td>0</td>\n",
       "      <td>1</td>\n",
       "      <td>0</td>\n",
       "      <td>0</td>\n",
       "      <td>1</td>\n",
       "    </tr>\n",
       "    <tr>\n",
       "      <td>1608</td>\n",
       "      <td>10</td>\n",
       "      <td>469.0</td>\n",
       "      <td>2</td>\n",
       "      <td>7</td>\n",
       "      <td>386.08</td>\n",
       "      <td>296.80</td>\n",
       "      <td>385.82</td>\n",
       "      <td>354.861429</td>\n",
       "      <td>2</td>\n",
       "      <td>7</td>\n",
       "      <td>2</td>\n",
       "      <td>7</td>\n",
       "      <td>385.82</td>\n",
       "      <td>354.861429</td>\n",
       "      <td>2</td>\n",
       "      <td>7</td>\n",
       "      <td>1</td>\n",
       "      <td>1</td>\n",
       "      <td>1</td>\n",
       "      <td>0</td>\n",
       "      <td>1</td>\n",
       "      <td>0</td>\n",
       "      <td>0</td>\n",
       "      <td>1</td>\n",
       "    </tr>\n",
       "    <tr>\n",
       "      <td>533</td>\n",
       "      <td>5</td>\n",
       "      <td>481.0</td>\n",
       "      <td>1</td>\n",
       "      <td>3</td>\n",
       "      <td>189.26</td>\n",
       "      <td>164.71</td>\n",
       "      <td>189.26</td>\n",
       "      <td>181.076667</td>\n",
       "      <td>1</td>\n",
       "      <td>3</td>\n",
       "      <td>1</td>\n",
       "      <td>3</td>\n",
       "      <td>189.26</td>\n",
       "      <td>181.076667</td>\n",
       "      <td>1</td>\n",
       "      <td>3</td>\n",
       "      <td>1</td>\n",
       "      <td>1</td>\n",
       "      <td>1</td>\n",
       "      <td>0</td>\n",
       "      <td>1</td>\n",
       "      <td>0</td>\n",
       "      <td>0</td>\n",
       "      <td>1</td>\n",
       "    </tr>\n",
       "    <tr>\n",
       "      <td>1202</td>\n",
       "      <td>2</td>\n",
       "      <td>54.0</td>\n",
       "      <td>0</td>\n",
       "      <td>1</td>\n",
       "      <td>3.37</td>\n",
       "      <td>3.37</td>\n",
       "      <td>0.00</td>\n",
       "      <td>3.370000</td>\n",
       "      <td>0</td>\n",
       "      <td>1</td>\n",
       "      <td>0</td>\n",
       "      <td>1</td>\n",
       "      <td>0.00</td>\n",
       "      <td>1.710000</td>\n",
       "      <td>0</td>\n",
       "      <td>1</td>\n",
       "      <td>1</td>\n",
       "      <td>1</td>\n",
       "      <td>1</td>\n",
       "      <td>0</td>\n",
       "      <td>1</td>\n",
       "      <td>0</td>\n",
       "      <td>0</td>\n",
       "      <td>1</td>\n",
       "    </tr>\n",
       "    <tr>\n",
       "      <td>1347</td>\n",
       "      <td>4</td>\n",
       "      <td>85.0</td>\n",
       "      <td>2</td>\n",
       "      <td>1</td>\n",
       "      <td>89.32</td>\n",
       "      <td>89.32</td>\n",
       "      <td>89.32</td>\n",
       "      <td>89.320000</td>\n",
       "      <td>2</td>\n",
       "      <td>1</td>\n",
       "      <td>2</td>\n",
       "      <td>1</td>\n",
       "      <td>89.32</td>\n",
       "      <td>89.320000</td>\n",
       "      <td>2</td>\n",
       "      <td>1</td>\n",
       "      <td>1</td>\n",
       "      <td>1</td>\n",
       "      <td>1</td>\n",
       "      <td>0</td>\n",
       "      <td>1</td>\n",
       "      <td>0</td>\n",
       "      <td>0</td>\n",
       "      <td>1</td>\n",
       "    </tr>\n",
       "    <tr>\n",
       "      <td>...</td>\n",
       "      <td>...</td>\n",
       "      <td>...</td>\n",
       "      <td>...</td>\n",
       "      <td>...</td>\n",
       "      <td>...</td>\n",
       "      <td>...</td>\n",
       "      <td>...</td>\n",
       "      <td>...</td>\n",
       "      <td>...</td>\n",
       "      <td>...</td>\n",
       "      <td>...</td>\n",
       "      <td>...</td>\n",
       "      <td>...</td>\n",
       "      <td>...</td>\n",
       "      <td>...</td>\n",
       "      <td>...</td>\n",
       "      <td>...</td>\n",
       "      <td>...</td>\n",
       "      <td>...</td>\n",
       "      <td>...</td>\n",
       "      <td>...</td>\n",
       "      <td>...</td>\n",
       "      <td>...</td>\n",
       "      <td>...</td>\n",
       "    </tr>\n",
       "    <tr>\n",
       "      <td>579</td>\n",
       "      <td>3</td>\n",
       "      <td>50.0</td>\n",
       "      <td>0</td>\n",
       "      <td>3</td>\n",
       "      <td>171.56</td>\n",
       "      <td>161.98</td>\n",
       "      <td>0.00</td>\n",
       "      <td>165.173333</td>\n",
       "      <td>0</td>\n",
       "      <td>3</td>\n",
       "      <td>0</td>\n",
       "      <td>3</td>\n",
       "      <td>0.00</td>\n",
       "      <td>165.173333</td>\n",
       "      <td>0</td>\n",
       "      <td>3</td>\n",
       "      <td>1</td>\n",
       "      <td>1</td>\n",
       "      <td>1</td>\n",
       "      <td>0</td>\n",
       "      <td>1</td>\n",
       "      <td>0</td>\n",
       "      <td>0</td>\n",
       "      <td>0</td>\n",
       "    </tr>\n",
       "    <tr>\n",
       "      <td>578</td>\n",
       "      <td>1</td>\n",
       "      <td>0.0</td>\n",
       "      <td>0</td>\n",
       "      <td>1</td>\n",
       "      <td>58.95</td>\n",
       "      <td>58.95</td>\n",
       "      <td>0.00</td>\n",
       "      <td>58.950000</td>\n",
       "      <td>0</td>\n",
       "      <td>1</td>\n",
       "      <td>0</td>\n",
       "      <td>1</td>\n",
       "      <td>0.00</td>\n",
       "      <td>58.950000</td>\n",
       "      <td>0</td>\n",
       "      <td>1</td>\n",
       "      <td>1</td>\n",
       "      <td>1</td>\n",
       "      <td>1</td>\n",
       "      <td>0</td>\n",
       "      <td>1</td>\n",
       "      <td>0</td>\n",
       "      <td>0</td>\n",
       "      <td>0</td>\n",
       "    </tr>\n",
       "    <tr>\n",
       "      <td>577</td>\n",
       "      <td>1</td>\n",
       "      <td>0.0</td>\n",
       "      <td>0</td>\n",
       "      <td>1</td>\n",
       "      <td>397.95</td>\n",
       "      <td>397.95</td>\n",
       "      <td>0.00</td>\n",
       "      <td>397.950000</td>\n",
       "      <td>0</td>\n",
       "      <td>1</td>\n",
       "      <td>0</td>\n",
       "      <td>1</td>\n",
       "      <td>0.00</td>\n",
       "      <td>397.950000</td>\n",
       "      <td>0</td>\n",
       "      <td>1</td>\n",
       "      <td>1</td>\n",
       "      <td>1</td>\n",
       "      <td>1</td>\n",
       "      <td>0</td>\n",
       "      <td>1</td>\n",
       "      <td>0</td>\n",
       "      <td>0</td>\n",
       "      <td>0</td>\n",
       "    </tr>\n",
       "    <tr>\n",
       "      <td>576</td>\n",
       "      <td>3</td>\n",
       "      <td>53.0</td>\n",
       "      <td>0</td>\n",
       "      <td>3</td>\n",
       "      <td>464.13</td>\n",
       "      <td>360.08</td>\n",
       "      <td>0.00</td>\n",
       "      <td>394.763333</td>\n",
       "      <td>0</td>\n",
       "      <td>3</td>\n",
       "      <td>0</td>\n",
       "      <td>3</td>\n",
       "      <td>0.00</td>\n",
       "      <td>394.763333</td>\n",
       "      <td>0</td>\n",
       "      <td>3</td>\n",
       "      <td>1</td>\n",
       "      <td>1</td>\n",
       "      <td>1</td>\n",
       "      <td>0</td>\n",
       "      <td>1</td>\n",
       "      <td>0</td>\n",
       "      <td>0</td>\n",
       "      <td>0</td>\n",
       "    </tr>\n",
       "    <tr>\n",
       "      <td>1708</td>\n",
       "      <td>1</td>\n",
       "      <td>0.0</td>\n",
       "      <td>0</td>\n",
       "      <td>1</td>\n",
       "      <td>375.27</td>\n",
       "      <td>375.27</td>\n",
       "      <td>0.00</td>\n",
       "      <td>375.270000</td>\n",
       "      <td>0</td>\n",
       "      <td>1</td>\n",
       "      <td>0</td>\n",
       "      <td>1</td>\n",
       "      <td>0.00</td>\n",
       "      <td>375.270000</td>\n",
       "      <td>0</td>\n",
       "      <td>1</td>\n",
       "      <td>1</td>\n",
       "      <td>1</td>\n",
       "      <td>1</td>\n",
       "      <td>0</td>\n",
       "      <td>1</td>\n",
       "      <td>0</td>\n",
       "      <td>0</td>\n",
       "      <td>0</td>\n",
       "    </tr>\n",
       "  </tbody>\n",
       "</table>\n",
       "<p>1709 rows × 24 columns</p>\n",
       "</div>"
      ],
      "text/plain": [
       "      TotalEventsInSession  interactionTime  #TimesCartedinSession  \\\n",
       "251                     26            790.0                      0   \n",
       "1608                    10            469.0                      2   \n",
       "533                      5            481.0                      1   \n",
       "1202                     2             54.0                      0   \n",
       "1347                     4             85.0                      2   \n",
       "...                    ...              ...                    ...   \n",
       "579                      3             50.0                      0   \n",
       "578                      1              0.0                      0   \n",
       "577                      1              0.0                      0   \n",
       "576                      3             53.0                      0   \n",
       "1708                     1              0.0                      0   \n",
       "\n",
       "      #TimesViewedinSession  maxPrice  minPrice  AvgAmtCartedInSession  \\\n",
       "251                      25   2075.73     66.41                   0.00   \n",
       "1608                      7    386.08    296.80                 385.82   \n",
       "533                       3    189.26    164.71                 189.26   \n",
       "1202                      1      3.37      3.37                   0.00   \n",
       "1347                      1     89.32     89.32                  89.32   \n",
       "...                     ...       ...       ...                    ...   \n",
       "579                       3    171.56    161.98                   0.00   \n",
       "578                       1     58.95     58.95                   0.00   \n",
       "577                       1    397.95    397.95                   0.00   \n",
       "576                       3    464.13    360.08                   0.00   \n",
       "1708                      1    375.27    375.27                   0.00   \n",
       "\n",
       "      AvgAmtViewedInSession  #BrandsCartedInSession  #BrandsViewedInSession  \\\n",
       "251              324.784800                       0                      25   \n",
       "1608             354.861429                       2                       7   \n",
       "533              181.076667                       1                       3   \n",
       "1202               3.370000                       0                       1   \n",
       "1347              89.320000                       2                       1   \n",
       "...                     ...                     ...                     ...   \n",
       "579              165.173333                       0                       3   \n",
       "578               58.950000                       0                       1   \n",
       "577              397.950000                       0                       1   \n",
       "576              394.763333                       0                       3   \n",
       "1708             375.270000                       0                       1   \n",
       "\n",
       "      #CategoriesCartedInSession  #CategoriesViewedInSession  \\\n",
       "251                            0                          25   \n",
       "1608                           2                           7   \n",
       "533                            1                           3   \n",
       "1202                           0                           1   \n",
       "1347                           2                           1   \n",
       "...                          ...                         ...   \n",
       "579                            0                           3   \n",
       "578                            0                           1   \n",
       "577                            0                           1   \n",
       "576                            0                           3   \n",
       "1708                           0                           1   \n",
       "\n",
       "      OverallAmtUserCarted  OverallAmtUserViewed  #ProdsCartedInSession  \\\n",
       "251                   0.00            324.784800                      0   \n",
       "1608                385.82            354.861429                      2   \n",
       "533                 189.26            181.076667                      1   \n",
       "1202                  0.00              1.710000                      0   \n",
       "1347                 89.32             89.320000                      2   \n",
       "...                    ...                   ...                    ...   \n",
       "579                   0.00            165.173333                      0   \n",
       "578                   0.00             58.950000                      0   \n",
       "577                   0.00            397.950000                      0   \n",
       "576                   0.00            394.763333                      0   \n",
       "1708                  0.00            375.270000                      0   \n",
       "\n",
       "      #ProdsViewedInSession  Mon  2019  Sep  Evening  Night  Holiday  Weekend  \\\n",
       "251                      25    1     1    1        0      1        0        0   \n",
       "1608                      7    1     1    1        0      1        0        0   \n",
       "533                       3    1     1    1        0      1        0        0   \n",
       "1202                      1    1     1    1        0      1        0        0   \n",
       "1347                      1    1     1    1        0      1        0        0   \n",
       "...                     ...  ...   ...  ...      ...    ...      ...      ...   \n",
       "579                       3    1     1    1        0      1        0        0   \n",
       "578                       1    1     1    1        0      1        0        0   \n",
       "577                       1    1     1    1        0      1        0        0   \n",
       "576                       3    1     1    1        0      1        0        0   \n",
       "1708                      1    1     1    1        0      1        0        0   \n",
       "\n",
       "      Purchase  \n",
       "251          1  \n",
       "1608         1  \n",
       "533          1  \n",
       "1202         1  \n",
       "1347         1  \n",
       "...        ...  \n",
       "579          0  \n",
       "578          0  \n",
       "577          0  \n",
       "576          0  \n",
       "1708         0  \n",
       "\n",
       "[1709 rows x 24 columns]"
      ]
     },
     "execution_count": 962,
     "metadata": {},
     "output_type": "execute_result"
    }
   ],
   "source": [
    "FeaturesDF.sort_values(by='Purchase',ascending=False)"
   ]
  },
  {
   "cell_type": "code",
   "execution_count": 981,
   "metadata": {},
   "outputs": [
    {
     "data": {
      "text/plain": [
       "'The features we have are as follows:'"
      ]
     },
     "metadata": {},
     "output_type": "display_data"
    },
    {
     "data": {
      "text/plain": [
       "['TotalEventsInSession',\n",
       " 'interactionTime',\n",
       " '#TimesCartedinSession',\n",
       " '#TimesViewedinSession',\n",
       " 'maxPrice',\n",
       " 'minPrice',\n",
       " 'AvgAmtCartedInSession',\n",
       " 'AvgAmtViewedInSession',\n",
       " '#BrandsCartedInSession',\n",
       " '#BrandsViewedInSession',\n",
       " '#CategoriesCartedInSession',\n",
       " '#CategoriesViewedInSession',\n",
       " 'OverallAmtUserCarted',\n",
       " 'OverallAmtUserViewed',\n",
       " '#ProdsCartedInSession',\n",
       " '#ProdsViewedInSession',\n",
       " 'Mon',\n",
       " 2019,\n",
       " 'Sep',\n",
       " 'Evening',\n",
       " 'Night',\n",
       " 'Holiday',\n",
       " 'Weekend',\n",
       " 'Purchase']"
      ]
     },
     "metadata": {},
     "output_type": "display_data"
    },
    {
     "name": "stdout",
     "output_type": "stream",
     "text": [
      "************\n",
      "PLEASE NOTE THAT \n",
      " One-Hot-Encoded Date and Time features are dynamically added as per data\n",
      "************\n"
     ]
    }
   ],
   "source": [
    "display(\"The features we have are as follows:\", FeaturesDF.columns.tolist())\n",
    "\n",
    "print('************')\n",
    "print(\"PLEASE NOTE THAT \\n One-Hot-Encoded Date and Time features are dynamically added as per data\")\n",
    "print('************')"
   ]
  },
  {
   "cell_type": "markdown",
   "metadata": {},
   "source": [
    "# 3. Feature Ranking"
   ]
  },
  {
   "cell_type": "markdown",
   "metadata": {},
   "source": [
    "## Preparing Training and Testing Data"
   ]
  },
  {
   "cell_type": "code",
   "execution_count": 982,
   "metadata": {},
   "outputs": [],
   "source": [
    "XData = FeaturesDF.loc[:,:'Weekend']\n",
    "YData = FeaturesDF.loc[:,'Purchase']"
   ]
  },
  {
   "cell_type": "code",
   "execution_count": 984,
   "metadata": {},
   "outputs": [
    {
     "data": {
      "text/html": [
       "<div>\n",
       "<style scoped>\n",
       "    .dataframe tbody tr th:only-of-type {\n",
       "        vertical-align: middle;\n",
       "    }\n",
       "\n",
       "    .dataframe tbody tr th {\n",
       "        vertical-align: top;\n",
       "    }\n",
       "\n",
       "    .dataframe thead th {\n",
       "        text-align: right;\n",
       "    }\n",
       "</style>\n",
       "<table border=\"1\" class=\"dataframe\">\n",
       "  <thead>\n",
       "    <tr style=\"text-align: right;\">\n",
       "      <th></th>\n",
       "      <th>TotalEventsInSession</th>\n",
       "      <th>interactionTime</th>\n",
       "      <th>#TimesCartedinSession</th>\n",
       "      <th>#TimesViewedinSession</th>\n",
       "      <th>maxPrice</th>\n",
       "      <th>minPrice</th>\n",
       "      <th>AvgAmtCartedInSession</th>\n",
       "      <th>AvgAmtViewedInSession</th>\n",
       "      <th>#BrandsCartedInSession</th>\n",
       "      <th>#BrandsViewedInSession</th>\n",
       "      <th>#CategoriesCartedInSession</th>\n",
       "      <th>#CategoriesViewedInSession</th>\n",
       "      <th>OverallAmtUserCarted</th>\n",
       "      <th>OverallAmtUserViewed</th>\n",
       "      <th>#ProdsCartedInSession</th>\n",
       "      <th>#ProdsViewedInSession</th>\n",
       "      <th>Mon</th>\n",
       "      <th>2019</th>\n",
       "      <th>Sep</th>\n",
       "      <th>Evening</th>\n",
       "      <th>Night</th>\n",
       "      <th>Holiday</th>\n",
       "      <th>Weekend</th>\n",
       "    </tr>\n",
       "  </thead>\n",
       "  <tbody>\n",
       "    <tr>\n",
       "      <td>0</td>\n",
       "      <td>2</td>\n",
       "      <td>54.0</td>\n",
       "      <td>0</td>\n",
       "      <td>2</td>\n",
       "      <td>1541.61</td>\n",
       "      <td>1541.61</td>\n",
       "      <td>0.0</td>\n",
       "      <td>1541.610000</td>\n",
       "      <td>0</td>\n",
       "      <td>2</td>\n",
       "      <td>0</td>\n",
       "      <td>2</td>\n",
       "      <td>0.0</td>\n",
       "      <td>1541.610000</td>\n",
       "      <td>0</td>\n",
       "      <td>2</td>\n",
       "      <td>1</td>\n",
       "      <td>1</td>\n",
       "      <td>1</td>\n",
       "      <td>1</td>\n",
       "      <td>0</td>\n",
       "      <td>0</td>\n",
       "      <td>0</td>\n",
       "    </tr>\n",
       "    <tr>\n",
       "      <td>1</td>\n",
       "      <td>1</td>\n",
       "      <td>0.0</td>\n",
       "      <td>0</td>\n",
       "      <td>1</td>\n",
       "      <td>124.45</td>\n",
       "      <td>124.45</td>\n",
       "      <td>0.0</td>\n",
       "      <td>124.450000</td>\n",
       "      <td>0</td>\n",
       "      <td>1</td>\n",
       "      <td>0</td>\n",
       "      <td>1</td>\n",
       "      <td>0.0</td>\n",
       "      <td>124.450000</td>\n",
       "      <td>0</td>\n",
       "      <td>1</td>\n",
       "      <td>1</td>\n",
       "      <td>1</td>\n",
       "      <td>1</td>\n",
       "      <td>0</td>\n",
       "      <td>1</td>\n",
       "      <td>0</td>\n",
       "      <td>0</td>\n",
       "    </tr>\n",
       "    <tr>\n",
       "      <td>2</td>\n",
       "      <td>1</td>\n",
       "      <td>0.0</td>\n",
       "      <td>0</td>\n",
       "      <td>1</td>\n",
       "      <td>70.76</td>\n",
       "      <td>70.76</td>\n",
       "      <td>0.0</td>\n",
       "      <td>70.760000</td>\n",
       "      <td>0</td>\n",
       "      <td>1</td>\n",
       "      <td>0</td>\n",
       "      <td>1</td>\n",
       "      <td>0.0</td>\n",
       "      <td>70.760000</td>\n",
       "      <td>0</td>\n",
       "      <td>1</td>\n",
       "      <td>1</td>\n",
       "      <td>1</td>\n",
       "      <td>1</td>\n",
       "      <td>0</td>\n",
       "      <td>1</td>\n",
       "      <td>0</td>\n",
       "      <td>0</td>\n",
       "    </tr>\n",
       "    <tr>\n",
       "      <td>3</td>\n",
       "      <td>2</td>\n",
       "      <td>55.0</td>\n",
       "      <td>0</td>\n",
       "      <td>2</td>\n",
       "      <td>284.69</td>\n",
       "      <td>284.69</td>\n",
       "      <td>0.0</td>\n",
       "      <td>284.690000</td>\n",
       "      <td>0</td>\n",
       "      <td>2</td>\n",
       "      <td>0</td>\n",
       "      <td>2</td>\n",
       "      <td>0.0</td>\n",
       "      <td>673.376429</td>\n",
       "      <td>0</td>\n",
       "      <td>2</td>\n",
       "      <td>1</td>\n",
       "      <td>1</td>\n",
       "      <td>1</td>\n",
       "      <td>0</td>\n",
       "      <td>1</td>\n",
       "      <td>0</td>\n",
       "      <td>0</td>\n",
       "    </tr>\n",
       "    <tr>\n",
       "      <td>4</td>\n",
       "      <td>1</td>\n",
       "      <td>0.0</td>\n",
       "      <td>0</td>\n",
       "      <td>1</td>\n",
       "      <td>141.86</td>\n",
       "      <td>141.86</td>\n",
       "      <td>0.0</td>\n",
       "      <td>141.860000</td>\n",
       "      <td>0</td>\n",
       "      <td>1</td>\n",
       "      <td>0</td>\n",
       "      <td>1</td>\n",
       "      <td>0.0</td>\n",
       "      <td>141.860000</td>\n",
       "      <td>0</td>\n",
       "      <td>1</td>\n",
       "      <td>1</td>\n",
       "      <td>1</td>\n",
       "      <td>1</td>\n",
       "      <td>0</td>\n",
       "      <td>1</td>\n",
       "      <td>0</td>\n",
       "      <td>0</td>\n",
       "    </tr>\n",
       "    <tr>\n",
       "      <td>...</td>\n",
       "      <td>...</td>\n",
       "      <td>...</td>\n",
       "      <td>...</td>\n",
       "      <td>...</td>\n",
       "      <td>...</td>\n",
       "      <td>...</td>\n",
       "      <td>...</td>\n",
       "      <td>...</td>\n",
       "      <td>...</td>\n",
       "      <td>...</td>\n",
       "      <td>...</td>\n",
       "      <td>...</td>\n",
       "      <td>...</td>\n",
       "      <td>...</td>\n",
       "      <td>...</td>\n",
       "      <td>...</td>\n",
       "      <td>...</td>\n",
       "      <td>...</td>\n",
       "      <td>...</td>\n",
       "      <td>...</td>\n",
       "      <td>...</td>\n",
       "      <td>...</td>\n",
       "      <td>...</td>\n",
       "    </tr>\n",
       "    <tr>\n",
       "      <td>1704</td>\n",
       "      <td>1</td>\n",
       "      <td>0.0</td>\n",
       "      <td>0</td>\n",
       "      <td>1</td>\n",
       "      <td>1445.34</td>\n",
       "      <td>1445.34</td>\n",
       "      <td>0.0</td>\n",
       "      <td>1445.340000</td>\n",
       "      <td>0</td>\n",
       "      <td>1</td>\n",
       "      <td>0</td>\n",
       "      <td>1</td>\n",
       "      <td>0.0</td>\n",
       "      <td>1445.340000</td>\n",
       "      <td>0</td>\n",
       "      <td>1</td>\n",
       "      <td>1</td>\n",
       "      <td>1</td>\n",
       "      <td>1</td>\n",
       "      <td>0</td>\n",
       "      <td>1</td>\n",
       "      <td>0</td>\n",
       "      <td>0</td>\n",
       "    </tr>\n",
       "    <tr>\n",
       "      <td>1705</td>\n",
       "      <td>1</td>\n",
       "      <td>0.0</td>\n",
       "      <td>0</td>\n",
       "      <td>1</td>\n",
       "      <td>191.77</td>\n",
       "      <td>191.77</td>\n",
       "      <td>0.0</td>\n",
       "      <td>191.770000</td>\n",
       "      <td>0</td>\n",
       "      <td>1</td>\n",
       "      <td>0</td>\n",
       "      <td>1</td>\n",
       "      <td>0.0</td>\n",
       "      <td>191.770000</td>\n",
       "      <td>0</td>\n",
       "      <td>1</td>\n",
       "      <td>1</td>\n",
       "      <td>1</td>\n",
       "      <td>1</td>\n",
       "      <td>0</td>\n",
       "      <td>1</td>\n",
       "      <td>0</td>\n",
       "      <td>0</td>\n",
       "    </tr>\n",
       "    <tr>\n",
       "      <td>1706</td>\n",
       "      <td>3</td>\n",
       "      <td>160.0</td>\n",
       "      <td>0</td>\n",
       "      <td>3</td>\n",
       "      <td>41.16</td>\n",
       "      <td>7.85</td>\n",
       "      <td>0.0</td>\n",
       "      <td>23.193333</td>\n",
       "      <td>0</td>\n",
       "      <td>3</td>\n",
       "      <td>0</td>\n",
       "      <td>3</td>\n",
       "      <td>0.0</td>\n",
       "      <td>33.160000</td>\n",
       "      <td>0</td>\n",
       "      <td>3</td>\n",
       "      <td>1</td>\n",
       "      <td>1</td>\n",
       "      <td>1</td>\n",
       "      <td>0</td>\n",
       "      <td>1</td>\n",
       "      <td>0</td>\n",
       "      <td>0</td>\n",
       "    </tr>\n",
       "    <tr>\n",
       "      <td>1707</td>\n",
       "      <td>2</td>\n",
       "      <td>4.0</td>\n",
       "      <td>0</td>\n",
       "      <td>2</td>\n",
       "      <td>77.20</td>\n",
       "      <td>77.20</td>\n",
       "      <td>0.0</td>\n",
       "      <td>77.200000</td>\n",
       "      <td>0</td>\n",
       "      <td>2</td>\n",
       "      <td>0</td>\n",
       "      <td>2</td>\n",
       "      <td>0.0</td>\n",
       "      <td>77.200000</td>\n",
       "      <td>0</td>\n",
       "      <td>2</td>\n",
       "      <td>1</td>\n",
       "      <td>1</td>\n",
       "      <td>1</td>\n",
       "      <td>0</td>\n",
       "      <td>1</td>\n",
       "      <td>0</td>\n",
       "      <td>0</td>\n",
       "    </tr>\n",
       "    <tr>\n",
       "      <td>1708</td>\n",
       "      <td>1</td>\n",
       "      <td>0.0</td>\n",
       "      <td>0</td>\n",
       "      <td>1</td>\n",
       "      <td>375.27</td>\n",
       "      <td>375.27</td>\n",
       "      <td>0.0</td>\n",
       "      <td>375.270000</td>\n",
       "      <td>0</td>\n",
       "      <td>1</td>\n",
       "      <td>0</td>\n",
       "      <td>1</td>\n",
       "      <td>0.0</td>\n",
       "      <td>375.270000</td>\n",
       "      <td>0</td>\n",
       "      <td>1</td>\n",
       "      <td>1</td>\n",
       "      <td>1</td>\n",
       "      <td>1</td>\n",
       "      <td>0</td>\n",
       "      <td>1</td>\n",
       "      <td>0</td>\n",
       "      <td>0</td>\n",
       "    </tr>\n",
       "  </tbody>\n",
       "</table>\n",
       "<p>1709 rows × 23 columns</p>\n",
       "</div>"
      ],
      "text/plain": [
       "      TotalEventsInSession  interactionTime  #TimesCartedinSession  \\\n",
       "0                        2             54.0                      0   \n",
       "1                        1              0.0                      0   \n",
       "2                        1              0.0                      0   \n",
       "3                        2             55.0                      0   \n",
       "4                        1              0.0                      0   \n",
       "...                    ...              ...                    ...   \n",
       "1704                     1              0.0                      0   \n",
       "1705                     1              0.0                      0   \n",
       "1706                     3            160.0                      0   \n",
       "1707                     2              4.0                      0   \n",
       "1708                     1              0.0                      0   \n",
       "\n",
       "      #TimesViewedinSession  maxPrice  minPrice  AvgAmtCartedInSession  \\\n",
       "0                         2   1541.61   1541.61                    0.0   \n",
       "1                         1    124.45    124.45                    0.0   \n",
       "2                         1     70.76     70.76                    0.0   \n",
       "3                         2    284.69    284.69                    0.0   \n",
       "4                         1    141.86    141.86                    0.0   \n",
       "...                     ...       ...       ...                    ...   \n",
       "1704                      1   1445.34   1445.34                    0.0   \n",
       "1705                      1    191.77    191.77                    0.0   \n",
       "1706                      3     41.16      7.85                    0.0   \n",
       "1707                      2     77.20     77.20                    0.0   \n",
       "1708                      1    375.27    375.27                    0.0   \n",
       "\n",
       "      AvgAmtViewedInSession  #BrandsCartedInSession  #BrandsViewedInSession  \\\n",
       "0               1541.610000                       0                       2   \n",
       "1                124.450000                       0                       1   \n",
       "2                 70.760000                       0                       1   \n",
       "3                284.690000                       0                       2   \n",
       "4                141.860000                       0                       1   \n",
       "...                     ...                     ...                     ...   \n",
       "1704            1445.340000                       0                       1   \n",
       "1705             191.770000                       0                       1   \n",
       "1706              23.193333                       0                       3   \n",
       "1707              77.200000                       0                       2   \n",
       "1708             375.270000                       0                       1   \n",
       "\n",
       "      #CategoriesCartedInSession  #CategoriesViewedInSession  \\\n",
       "0                              0                           2   \n",
       "1                              0                           1   \n",
       "2                              0                           1   \n",
       "3                              0                           2   \n",
       "4                              0                           1   \n",
       "...                          ...                         ...   \n",
       "1704                           0                           1   \n",
       "1705                           0                           1   \n",
       "1706                           0                           3   \n",
       "1707                           0                           2   \n",
       "1708                           0                           1   \n",
       "\n",
       "      OverallAmtUserCarted  OverallAmtUserViewed  #ProdsCartedInSession  \\\n",
       "0                      0.0           1541.610000                      0   \n",
       "1                      0.0            124.450000                      0   \n",
       "2                      0.0             70.760000                      0   \n",
       "3                      0.0            673.376429                      0   \n",
       "4                      0.0            141.860000                      0   \n",
       "...                    ...                   ...                    ...   \n",
       "1704                   0.0           1445.340000                      0   \n",
       "1705                   0.0            191.770000                      0   \n",
       "1706                   0.0             33.160000                      0   \n",
       "1707                   0.0             77.200000                      0   \n",
       "1708                   0.0            375.270000                      0   \n",
       "\n",
       "      #ProdsViewedInSession  Mon  2019  Sep  Evening  Night  Holiday  Weekend  \n",
       "0                         2    1     1    1        1      0        0        0  \n",
       "1                         1    1     1    1        0      1        0        0  \n",
       "2                         1    1     1    1        0      1        0        0  \n",
       "3                         2    1     1    1        0      1        0        0  \n",
       "4                         1    1     1    1        0      1        0        0  \n",
       "...                     ...  ...   ...  ...      ...    ...      ...      ...  \n",
       "1704                      1    1     1    1        0      1        0        0  \n",
       "1705                      1    1     1    1        0      1        0        0  \n",
       "1706                      3    1     1    1        0      1        0        0  \n",
       "1707                      2    1     1    1        0      1        0        0  \n",
       "1708                      1    1     1    1        0      1        0        0  \n",
       "\n",
       "[1709 rows x 23 columns]"
      ]
     },
     "execution_count": 984,
     "metadata": {},
     "output_type": "execute_result"
    }
   ],
   "source": [
    "XData"
   ]
  },
  {
   "cell_type": "code",
   "execution_count": 989,
   "metadata": {},
   "outputs": [],
   "source": [
    "X_train, X_test, y_train, y_test = train_test_split(XData,YData,test_size=0.2,random_state=42)"
   ]
  },
  {
   "cell_type": "markdown",
   "metadata": {},
   "source": [
    "SCALING DATA WITH MINMAX SCALER"
   ]
  },
  {
   "cell_type": "code",
   "execution_count": 990,
   "metadata": {},
   "outputs": [],
   "source": [
    "MMscaler = MinMaxScaler()\n",
    "X_train = MMscaler.fit_transform(X_train)\n",
    "X_test = MMscaler.transform(X_test)"
   ]
  },
  {
   "cell_type": "markdown",
   "metadata": {},
   "source": [
    "## USING RANDOM FOREST"
   ]
  },
  {
   "cell_type": "code",
   "execution_count": 992,
   "metadata": {},
   "outputs": [],
   "source": [
    "sel = SelectFromModel(RandomForestClassifier(n_estimators = 100))"
   ]
  },
  {
   "cell_type": "code",
   "execution_count": 993,
   "metadata": {},
   "outputs": [
    {
     "data": {
      "text/plain": [
       "SelectFromModel(estimator=RandomForestClassifier(bootstrap=True,\n",
       "                                                 class_weight=None,\n",
       "                                                 criterion='gini',\n",
       "                                                 max_depth=None,\n",
       "                                                 max_features='auto',\n",
       "                                                 max_leaf_nodes=None,\n",
       "                                                 min_impurity_decrease=0.0,\n",
       "                                                 min_impurity_split=None,\n",
       "                                                 min_samples_leaf=1,\n",
       "                                                 min_samples_split=2,\n",
       "                                                 min_weight_fraction_leaf=0.0,\n",
       "                                                 n_estimators=100, n_jobs=None,\n",
       "                                                 oob_score=False,\n",
       "                                                 random_state=None, verbose=0,\n",
       "                                                 warm_start=False),\n",
       "                max_features=None, norm_order=1, prefit=False, threshold=None)"
      ]
     },
     "execution_count": 993,
     "metadata": {},
     "output_type": "execute_result"
    }
   ],
   "source": [
    "sel.fit(X_train, y_train)"
   ]
  },
  {
   "cell_type": "code",
   "execution_count": 994,
   "metadata": {},
   "outputs": [
    {
     "data": {
      "text/plain": [
       "array([ True,  True, False,  True,  True,  True,  True,  True, False,\n",
       "        True, False,  True, False,  True, False,  True, False, False,\n",
       "       False, False, False, False, False])"
      ]
     },
     "execution_count": 994,
     "metadata": {},
     "output_type": "execute_result"
    }
   ],
   "source": [
    "sel.get_support()"
   ]
  },
  {
   "cell_type": "code",
   "execution_count": 996,
   "metadata": {},
   "outputs": [],
   "source": [
    "selected_feat= XData.columns[(sel.get_support())]"
   ]
  },
  {
   "cell_type": "code",
   "execution_count": 998,
   "metadata": {},
   "outputs": [
    {
     "data": {
      "image/png": "[encoded data removed]",
      "text/plain": [
       "<Figure size 1080x648 with 1 Axes>"
      ]
     },
     "metadata": {
      "needs_background": "light"
     },
     "output_type": "display_data"
    }
   ],
   "source": [
    "importances = sel.estimator_.feature_importances_\n",
    "indices = np.argsort(importances)[::-1] \n",
    "colname = XData.columns[indices]\n",
    "plt.figure(figsize=(15,9))\n",
    "plt.title(\"Feature importances\",size=20)\n",
    "sns.barplot(x=colname, y=importances[indices],palette=\"deep\")\n",
    "plt.xticks(rotation=90,size=20)\n",
    "plt.show()"
   ]
  },
  {
   "cell_type": "markdown",
   "metadata": {},
   "source": [
    "## Using F Scores"
   ]
  },
  {
   "cell_type": "code",
   "execution_count": 1001,
   "metadata": {},
   "outputs": [],
   "source": [
    "import sklearn.feature_selection as fs\n",
    "kb = fs.SelectKBest(k=X_train.shape[1])\n",
    "kb.fit(X_train, y_train)\n",
    "names = XData.columns.values[kb.get_support()]\n",
    "scores = kb.scores_[kb.get_support()]\n",
    "names_scores = list(zip(names, scores))"
   ]
  },
  {
   "cell_type": "code",
   "execution_count": 1002,
   "metadata": {},
   "outputs": [],
   "source": [
    "fScoreDF = pd.DataFrame(data = names_scores, columns=['Feat_names','F_Scores'])\n",
    "fScoreDF_sorted = fScoreDF.sort_values(['F_Scores','Feat_names'], ascending =[False, True])"
   ]
  },
  {
   "cell_type": "code",
   "execution_count": 1003,
   "metadata": {},
   "outputs": [
    {
     "data": {
      "image/png": "[encoded data removed]",
      "text/plain": [
       "<Figure size 1080x648 with 1 Axes>"
      ]
     },
     "metadata": {
      "needs_background": "light"
     },
     "output_type": "display_data"
    }
   ],
   "source": [
    "plt.figure(figsize=(15,9))\n",
    "sns.barplot(x= \"Feat_names\", y=\"F_Scores\",data=fScoreDF_sorted)\n",
    "plt.xticks(rotation=90,size=20)\n",
    "plt.show()"
   ]
  },
  {
   "cell_type": "markdown",
   "metadata": {},
   "source": [
    "# BASELINING --- TO BE DONE"
   ]
  },
  {
   "cell_type": "markdown",
   "metadata": {},
   "source": [
    "## Using KNN"
   ]
  },
  {
   "cell_type": "code",
   "execution_count": 1005,
   "metadata": {},
   "outputs": [
    {
     "data": {
      "text/plain": [
       "PCA(copy=True, iterated_power='auto', n_components=0.95, random_state=None,\n",
       "    svd_solver='auto', tol=0.0, whiten=False)"
      ]
     },
     "execution_count": 1005,
     "metadata": {},
     "output_type": "execute_result"
    }
   ],
   "source": [
    "pca = PCA(.95)\n",
    "pca.fit(X_train)"
   ]
  },
  {
   "cell_type": "code",
   "execution_count": 1006,
   "metadata": {},
   "outputs": [],
   "source": [
    "X_train = pca.transform(X_train)\n",
    "X_test = pca.transform(X_test)"
   ]
  },
  {
   "cell_type": "code",
   "execution_count": 1009,
   "metadata": {},
   "outputs": [],
   "source": [
    "classifier = KNeighborsClassifier(n_neighbors = 4)"
   ]
  },
  {
   "cell_type": "code",
   "execution_count": 1010,
   "metadata": {},
   "outputs": [],
   "source": [
    "y_pred = cross_val_predict(classifier, X_train, y_train, cv=5)"
   ]
  },
  {
   "cell_type": "code",
   "execution_count": 1011,
   "metadata": {},
   "outputs": [
    {
     "name": "stdout",
     "output_type": "stream",
     "text": [
      "0.9604974396488661\n"
     ]
    }
   ],
   "source": [
    "print(metrics.accuracy_score(y_train, y_pred))"
   ]
  },
  {
   "cell_type": "code",
   "execution_count": 1012,
   "metadata": {},
   "outputs": [
    {
     "data": {
      "text/plain": [
       "KNeighborsClassifier(algorithm='auto', leaf_size=30, metric='minkowski',\n",
       "                     metric_params=None, n_jobs=None, n_neighbors=4, p=2,\n",
       "                     weights='uniform')"
      ]
     },
     "execution_count": 1012,
     "metadata": {},
     "output_type": "execute_result"
    }
   ],
   "source": [
    "classifier.fit(X_train, y_train)"
   ]
  },
  {
   "cell_type": "code",
   "execution_count": 1013,
   "metadata": {},
   "outputs": [],
   "source": [
    "predFinal = classifier.predict(X_test)"
   ]
  },
  {
   "cell_type": "code",
   "execution_count": 1014,
   "metadata": {},
   "outputs": [
    {
     "name": "stdout",
     "output_type": "stream",
     "text": [
      "0.9473684210526315\n"
     ]
    }
   ],
   "source": [
    "print(metrics.accuracy_score(y_test, predFinal))"
   ]
  },
  {
   "cell_type": "code",
   "execution_count": 1018,
   "metadata": {},
   "outputs": [
    {
     "data": {
      "text/plain": [
       "array([[324,   1],\n",
       "       [ 17,   0]])"
      ]
     },
     "execution_count": 1018,
     "metadata": {},
     "output_type": "execute_result"
    }
   ],
   "source": [
    "cnf_matrix = confusion_matrix(y_test, predFinal)\n",
    "cnf_matrix"
   ]
  },
  {
   "cell_type": "code",
   "execution_count": 1019,
   "metadata": {},
   "outputs": [
    {
     "data": {
      "text/plain": [
       "Text(0.5, 3.5, 'Predicted label')"
      ]
     },
     "execution_count": 1019,
     "metadata": {},
     "output_type": "execute_result"
    },
    {
     "data": {
      "image/png": "[encoded data removed]",
      "text/plain": [
       "<Figure size 432x288 with 2 Axes>"
      ]
     },
     "metadata": {
      "needs_background": "light"
     },
     "output_type": "display_data"
    }
   ],
   "source": [
    "class_names=[0,1] # name  of classes\n",
    "fig, ax = plt.subplots()\n",
    "tick_marks = np.arange(len(class_names))\n",
    "plt.xticks(tick_marks, class_names,size=20)\n",
    "plt.yticks(tick_marks, class_names,size=20)\n",
    "# create heatmap\n",
    "sns.heatmap(pd.DataFrame(cnf_matrix), annot=True, cmap=\"Blues\" ,fmt='g')\n",
    "ax.xaxis.set_label_position(\"bottom\")\n",
    "plt.tight_layout()\n",
    "plt.title('Confusion matrix',size = 20)\n",
    "plt.ylabel('Actual label',size = 20)\n",
    "plt.xlabel('Predicted label',size = 20)"
   ]
  },
  {
   "cell_type": "markdown",
   "metadata": {},
   "source": [
    "## Using LR"
   ]
  },
  {
   "cell_type": "code",
   "execution_count": null,
   "metadata": {},
   "outputs": [],
   "source": []
  }
 ],
 "metadata": {
  "kernelspec": {
   "display_name": "Python 3",
   "language": "python",
   "name": "python3"
  },
  "language_info": {
   "codemirror_mode": {
    "name": "ipython",
    "version": 3
   },
   "file_extension": ".py",
   "mimetype": "text/x-python",
   "name": "python",
   "nbconvert_exporter": "python",
   "pygments_lexer": "ipython3",
   "version": "3.7.4"
  }
 },
 "nbformat": 4,
 "nbformat_minor": 2
}
